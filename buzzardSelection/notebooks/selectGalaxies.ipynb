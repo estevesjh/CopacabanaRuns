{
 "cells": [
  {
   "cell_type": "markdown",
   "metadata": {},
   "source": [
    "# Get Galaxies From Halos\n",
    "\n",
    "info: https://cdcvs.fnal.gov/redmine/projects/des-clusters/wiki/ClustDataVecY3 <br>\n",
    "path: /data/des81.b/data/mariaeli/y3_buzz/Buzzard-3_v2.0_Y3a_mastercat/"
   ]
  },
  {
   "cell_type": "code",
   "execution_count": 20,
   "metadata": {},
   "outputs": [],
   "source": [
    "import matplotlib.pyplot as plt\n",
    "import numpy as np\n",
    "\n",
    "from astropy.table import Table, vstack\n",
    "from astropy.io.fits import getdata\n",
    "\n",
    "import pandas as pd\n",
    "\n",
    "import esutil"
   ]
  },
  {
   "cell_type": "markdown",
   "metadata": {},
   "source": [
    "## Load"
   ]
  },
  {
   "cell_type": "code",
   "execution_count": 2,
   "metadata": {},
   "outputs": [],
   "source": [
    "import h5py\n",
    "\n",
    "#path   = '/data/des81.b/data/mariaeli/y3_buzz/Buzzard-3_v2.0_Y3a_mastercat/'\n",
    "path   = '/global/project/projectdirs/des/jderose/Chinchilla/Herd/Chinchilla-3/v1.9.8/sampleselection/Y3a/mastercat/'\n",
    "fname  = path+'Buzzard_v1.9.8_Y3a_gold.h5'\n",
    "fname_aux  = path+'Buzzard-3_v1.9.8_Y3a_mastercat.h5'\n",
    "\n",
    "master = h5py.File(fname,'r')\n",
    "indexes= h5py.File(fname_aux,'r')"
   ]
  },
  {
   "cell_type": "code",
   "execution_count": 3,
   "metadata": {},
   "outputs": [
    {
     "name": "stdout",
     "output_type": "stream",
     "text": [
      "Buzzard-3_v1.9.8_Y3a_mastercat.h5  Buzzard_v1.9.8_Y3a_shape.h5\n",
      "Buzzard-3_v2.0_Y3a_mastercat.h5    Buzzard_v2.0_Y3a_gold.h5\n",
      "Buzzard_v1.9.8_Y3a_bpz.h5          Y3_GOLD_2_2_1_maps_copy.h5\n",
      "Buzzard_v1.9.8_Y3a_gold.h5         buzzard-1.9.8_3y3a_run_redmapper_v6.4.22.h5\n"
     ]
    }
   ],
   "source": [
    "ls /global/project/projectdirs/des/jderose/Chinchilla/Herd/Chinchilla-3/v1.9.8/sampleselection/Y3a/mastercat/"
   ]
  },
  {
   "cell_type": "code",
   "execution_count": 4,
   "metadata": {},
   "outputs": [],
   "source": [
    "def show_h5_group(name,node):\n",
    "    ''' show all the h5 groups\n",
    "    Example:\n",
    "    fmaster = h5py.File(copa.master_fname,'r')\n",
    "    fmaster.visititems(show_h5_group)\n",
    "\n",
    "    ## https://stackoverflow.com/questions/45562169/traverse-hdf5-file-tree-and-continue-after-return\n",
    "    '''\n",
    "    if isinstance(node, h5py.Group):\n",
    "        print(name,node)\n",
    "    return None\n",
    "\n",
    "def show_h5_dataset(name,node):\n",
    "    if isinstance(node, h5py.Dataset):\n",
    "        print(name,node)\n",
    "    return None"
   ]
  },
  {
   "cell_type": "code",
   "execution_count": 5,
   "metadata": {},
   "outputs": [],
   "source": [
    "columns = ['hpix_16384','haloid','coadd_object_id','ra','dec','rhalo']\n",
    "columns+= ['mag_%s'%(ix) for ix in ['g','r','i','z']]\n",
    "columns+= ['mag_err_%s'%(ix) for ix in ['g','r','i','z']]"
   ]
  },
  {
   "cell_type": "code",
   "execution_count": 6,
   "metadata": {},
   "outputs": [
    {
     "data": {
      "text/plain": [
       "['hpix_16384',\n",
       " 'haloid',\n",
       " 'coadd_object_id',\n",
       " 'ra',\n",
       " 'dec',\n",
       " 'rhalo',\n",
       " 'mag_g',\n",
       " 'mag_r',\n",
       " 'mag_i',\n",
       " 'mag_z',\n",
       " 'mag_err_g',\n",
       " 'mag_err_r',\n",
       " 'mag_err_i',\n",
       " 'mag_err_z']"
      ]
     },
     "execution_count": 6,
     "metadata": {},
     "output_type": "execute_result"
    }
   ],
   "source": [
    "columns"
   ]
  },
  {
   "cell_type": "code",
   "execution_count": 7,
   "metadata": {},
   "outputs": [
    {
     "name": "stdout",
     "output_type": "stream",
     "text": [
      "catalog/gold/coadd_object_id <HDF5 dataset \"coadd_object_id\": shape (1505017869,), type \">i8\">\n",
      "catalog/gold/dec <HDF5 dataset \"dec\": shape (1505017869,), type \">f4\">\n",
      "catalog/gold/flags_gold <HDF5 dataset \"flags_gold\": shape (1505017869,), type \">i8\">\n",
      "catalog/gold/flux_g <HDF5 dataset \"flux_g\": shape (1505017869,), type \">f4\">\n",
      "catalog/gold/flux_i <HDF5 dataset \"flux_i\": shape (1505017869,), type \">f4\">\n",
      "catalog/gold/flux_r <HDF5 dataset \"flux_r\": shape (1505017869,), type \">f4\">\n",
      "catalog/gold/flux_z <HDF5 dataset \"flux_z\": shape (1505017869,), type \">f4\">\n",
      "catalog/gold/haloid <HDF5 dataset \"haloid\": shape (1505017869,), type \">i8\">\n",
      "catalog/gold/hpix_16384 <HDF5 dataset \"hpix_16384\": shape (1505017869,), type \">i8\">\n",
      "catalog/gold/ivar_g <HDF5 dataset \"ivar_g\": shape (1505017869,), type \">f4\">\n",
      "catalog/gold/ivar_i <HDF5 dataset \"ivar_i\": shape (1505017869,), type \">f4\">\n",
      "catalog/gold/ivar_r <HDF5 dataset \"ivar_r\": shape (1505017869,), type \">f4\">\n",
      "catalog/gold/ivar_z <HDF5 dataset \"ivar_z\": shape (1505017869,), type \">f4\">\n",
      "catalog/gold/m200 <HDF5 dataset \"m200\": shape (1505017869,), type \">f4\">\n",
      "catalog/gold/mag_err_g <HDF5 dataset \"mag_err_g\": shape (1505017869,), type \">f4\">\n",
      "catalog/gold/mag_err_i <HDF5 dataset \"mag_err_i\": shape (1505017869,), type \">f4\">\n",
      "catalog/gold/mag_err_r <HDF5 dataset \"mag_err_r\": shape (1505017869,), type \">f4\">\n",
      "catalog/gold/mag_err_z <HDF5 dataset \"mag_err_z\": shape (1505017869,), type \">f4\">\n",
      "catalog/gold/mag_g <HDF5 dataset \"mag_g\": shape (1505017869,), type \">f4\">\n",
      "catalog/gold/mag_g_lensed <HDF5 dataset \"mag_g_lensed\": shape (1505017869,), type \">f4\">\n",
      "catalog/gold/mag_g_true <HDF5 dataset \"mag_g_true\": shape (1505017869,), type \">f4\">\n",
      "catalog/gold/mag_i <HDF5 dataset \"mag_i\": shape (1505017869,), type \">f4\">\n",
      "catalog/gold/mag_i_lensed <HDF5 dataset \"mag_i_lensed\": shape (1505017869,), type \">f4\">\n",
      "catalog/gold/mag_i_true <HDF5 dataset \"mag_i_true\": shape (1505017869,), type \">f4\">\n",
      "catalog/gold/mag_r <HDF5 dataset \"mag_r\": shape (1505017869,), type \">f4\">\n",
      "catalog/gold/mag_r_lensed <HDF5 dataset \"mag_r_lensed\": shape (1505017869,), type \">f4\">\n",
      "catalog/gold/mag_r_true <HDF5 dataset \"mag_r_true\": shape (1505017869,), type \">f4\">\n",
      "catalog/gold/mag_z <HDF5 dataset \"mag_z\": shape (1505017869,), type \">f4\">\n",
      "catalog/gold/mag_z_lensed <HDF5 dataset \"mag_z_lensed\": shape (1505017869,), type \">f4\">\n",
      "catalog/gold/mag_z_true <HDF5 dataset \"mag_z_true\": shape (1505017869,), type \">f4\">\n",
      "catalog/gold/px <HDF5 dataset \"px\": shape (1505017869,), type \">f4\">\n",
      "catalog/gold/py <HDF5 dataset \"py\": shape (1505017869,), type \">f4\">\n",
      "catalog/gold/pz <HDF5 dataset \"pz\": shape (1505017869,), type \">f4\">\n",
      "catalog/gold/r200 <HDF5 dataset \"r200\": shape (1505017869,), type \">f4\">\n",
      "catalog/gold/ra <HDF5 dataset \"ra\": shape (1505017869,), type \">f4\">\n",
      "catalog/gold/rhalo <HDF5 dataset \"rhalo\": shape (1505017869,), type \">f4\">\n",
      "catalog/gold/sdss_sedid <HDF5 dataset \"sdss_sedid\": shape (1505017869,), type \">i8\">\n",
      "catalog/gold/vx <HDF5 dataset \"vx\": shape (1505017869,), type \">f4\">\n",
      "catalog/gold/vy <HDF5 dataset \"vy\": shape (1505017869,), type \">f4\">\n",
      "catalog/gold/vz <HDF5 dataset \"vz\": shape (1505017869,), type \">f4\">\n",
      "masks/gold/hpix <HDF5 dataset \"hpix\": shape (24711879,), type \"<i8\">\n"
     ]
    }
   ],
   "source": [
    "master.visititems(show_h5_dataset)"
   ]
  },
  {
   "cell_type": "code",
   "execution_count": 8,
   "metadata": {},
   "outputs": [
    {
     "name": "stdout",
     "output_type": "stream",
     "text": [
      "bpz/match_gold <HDF5 dataset \"match_gold\": shape (1505017869,), type \"<i8\">\n",
      "bpz/select <HDF5 dataset \"select\": shape (1505017869,), type \"<i8\">\n",
      "catalog/maglim/select <HDF5 dataset \"select\": shape (13438886,), type \"<i8\">\n",
      "coadd_object_id <HDF5 dataset \"coadd_object_id\": shape (1505017869,), type \"<i8\">\n",
      "gold/select <HDF5 dataset \"select\": shape (1505017869,), type \"<i8\">\n",
      "maglim/random_select <HDF5 dataset \"random_select\": shape (250492120,), type \"<i8\">\n",
      "maglim/select <HDF5 dataset \"select\": shape (12524606,), type \"<i8\">\n",
      "mask/fracgood <HDF5 dataset \"fracgood\": shape (21007033,), type \"<i8\">\n",
      "mask/hpix <HDF5 dataset \"hpix\": shape (21007033,), type \"<i8\">\n",
      "mask/maskfrac_est <HDF5 dataset \"maskfrac_est\": shape (21007033,), type \"<i8\">\n",
      "mask/zmax <HDF5 dataset \"zmax\": shape (21007033,), type \"<i8\">\n",
      "metacal/match_gold <HDF5 dataset \"match_gold\": shape (1505017869,), type \"<i8\">\n",
      "randoms/maglim/select <HDF5 dataset \"select\": shape (268777720,), type \"<i8\">\n",
      "redmagic/combined_sample_fid/match_gold <HDF5 dataset \"match_gold\": shape (2672681,), type \"<i8\">\n",
      "redmagic/combined_sample_fid/random_select <HDF5 dataset \"random_select\": shape (65656100,), type \"<i8\">\n",
      "redmagic/combined_sample_fid/select <HDF5 dataset \"select\": shape (2672681,), type \"<i8\">\n",
      "redmagic/highdens/match_gold <HDF5 dataset \"match_gold\": shape (2545499,), type \"<i8\">\n",
      "redmagic/highdens/random_select <HDF5 dataset \"random_select\": shape (45939228,), type \"<i8\">\n",
      "redmagic/highdens/select <HDF5 dataset \"select\": shape (2309097,), type \"<i8\">\n",
      "redmagic/higherlum/match_gold <HDF5 dataset \"match_gold\": shape (528288,), type \"<i8\">\n",
      "redmagic/higherlum/random_select <HDF5 dataset \"random_select\": shape (46161868,), type \"<i8\">\n",
      "redmagic/higherlum/select <HDF5 dataset \"select\": shape (480430,), type \"<i8\">\n",
      "redmagic/highlum/match_gold <HDF5 dataset \"match_gold\": shape (2045441,), type \"<i8\">\n",
      "redmagic/highlum/random_select <HDF5 dataset \"random_select\": shape (46518449,), type \"<i8\">\n",
      "redmagic/highlum/select <HDF5 dataset \"select\": shape (1878020,), type \"<i8\">\n",
      "select <HDF5 dataset \"select\": shape (127166591,), type \"<i8\">\n"
     ]
    }
   ],
   "source": [
    "indexes['index'].visititems(show_h5_dataset)"
   ]
  },
  {
   "cell_type": "code",
   "execution_count": null,
   "metadata": {},
   "outputs": [],
   "source": []
  },
  {
   "cell_type": "code",
   "execution_count": 9,
   "metadata": {},
   "outputs": [],
   "source": [
    "select     = indexes['index/gold/select'][:]\n",
    "mag_i      = master['catalog/gold/mag_i'][:][select]\n",
    "maglim_idx = select[np.where(mag_i<=24.)]\n",
    "hpx16384   = master['catalog/gold/hpix_16384'][:][maglim_idx]\n",
    "#mids       = master['catalog/gold/coadd_object_id'][:][maglim_idx]\n",
    "\n",
    "#maglim_idx = select[np.where(mag_i<=24.)]\n",
    "select=mag_i=0\n",
    "\n",
    "master.close()\n",
    "indexes.close()"
   ]
  },
  {
   "cell_type": "code",
   "execution_count": null,
   "metadata": {},
   "outputs": [],
   "source": []
  },
  {
   "cell_type": "markdown",
   "metadata": {},
   "source": [
    "### Loading Data"
   ]
  },
  {
   "cell_type": "code",
   "execution_count": 10,
   "metadata": {},
   "outputs": [],
   "source": [
    "## Healpix map\n",
    "Nside    = 2\n",
    "outdir   = '/global/project/projectdirs/des/jesteves/buzzardSelection/y3_v2.0.0/'\n",
    "hpx_file = outdir+'tiles/hpxmap_nside%i_buzzard_y3_v2.0.0.fits'%Nside"
   ]
  },
  {
   "cell_type": "code",
   "execution_count": 11,
   "metadata": {},
   "outputs": [],
   "source": [
    "hpx_map = Table(getdata(hpx_file))\n",
    "tiles   = np.where(hpx_map['hpx_value']>0)[0]"
   ]
  },
  {
   "cell_type": "code",
   "execution_count": 12,
   "metadata": {},
   "outputs": [
    {
     "data": {
      "text/plain": [
       "array([ 0, 16, 17, 18, 19, 20, 22, 32, 33, 34, 35, 38, 44, 45, 46, 47])"
      ]
     },
     "execution_count": 12,
     "metadata": {},
     "output_type": "execute_result"
    }
   ],
   "source": [
    "tiles"
   ]
  },
  {
   "cell_type": "code",
   "execution_count": 13,
   "metadata": {},
   "outputs": [],
   "source": [
    "## Get Cluster Catalog\n",
    "\n",
    "outdir = '/global/project/projectdirs/des/jesteves/buzzardSelection/y3_v2.0.0/'\n",
    "name   = outdir+'halos/buzzard_y3_v2.0.0_golden_halos.fits'\n",
    "\n",
    "cat = Table(getdata(name))"
   ]
  },
  {
   "cell_type": "code",
   "execution_count": 14,
   "metadata": {},
   "outputs": [
    {
     "data": {
      "text/html": [
       "<i>Table length=2748</i>\n",
       "<table id=\"table46913105282096\" class=\"table-striped table-bordered table-condensed\">\n",
       "<thead><tr><th>haloid</th><th>coadd_object_id</th><th>RA</th><th>DEC</th><th>M200</th><th>R200</th><th>MAG_I</th><th>redshift</th><th>magLim</th><th>hpx8</th><th>hpx4</th><th>hpx2</th></tr></thead>\n",
       "<thead><tr><th>int64</th><th>int64</th><th>float32</th><th>float32</th><th>float32</th><th>float32</th><th>float32</th><th>float64</th><th>float64</th><th>int64</th><th>int64</th><th>int64</th></tr></thead>\n",
       "<tr><td>12109345</td><td>34000000190</td><td>87.67945</td><td>-31.286345</td><td>53750000000000.0</td><td>0.811507</td><td>15.644118</td><td>0.12207666344755042</td><td>18.727379942055908</td><td>80</td><td>80</td><td>20</td></tr>\n",
       "<tr><td>7921723</td><td>106000000031</td><td>17.458162</td><td>-37.26816</td><td>54520000000000.0</td><td>0.823985</td><td>15.9647045</td><td>0.15707450057296524</td><td>19.299043008021513</td><td>138</td><td>138</td><td>34</td></tr>\n",
       "<tr><td>12127773</td><td>41000000098</td><td>84.258545</td><td>-38.53852</td><td>52040000000000.0</td><td>0.806834</td><td>16.234589</td><td>0.1376620470619489</td><td>19.00025480005313</td><td>133</td><td>133</td><td>33</td></tr>\n",
       "<tr><td>10295050</td><td>5000000068</td><td>44.179226</td><td>-15.528681</td><td>50970000000000.0</td><td>0.802234</td><td>16.17392</td><td>0.14417593382404809</td><td>19.10681494118477</td><td>143</td><td>143</td><td>35</td></tr>\n",
       "<tr><td>10559488</td><td>359000989610</td><td>29.339111</td><td>3.0369565</td><td>59480000000000.0</td><td>0.844769</td><td>16.401712</td><td>0.14416136199711516</td><td>19.106581791953843</td><td>69</td><td>69</td><td>17</td></tr>\n",
       "<tr><td>8146031</td><td>369000000069</td><td>15.199777</td><td>-2.195923</td><td>54050000000000.0</td><td>0.822436</td><td>16.283852</td><td>0.15945146239187055</td><td>19.332320473486188</td><td>70</td><td>70</td><td>17</td></tr>\n",
       "<tr><td>10030365</td><td>48006301558</td><td>59.113914</td><td>-41.401073</td><td>58910000000000.0</td><td>0.843198</td><td>16.556578</td><td>0.14710242891679756</td><td>19.15363886266876</td><td>134</td><td>134</td><td>33</td></tr>\n",
       "<tr><td>10049271</td><td>53006584760</td><td>35.619694</td><td>-61.57988</td><td>53050000000000.0</td><td>0.814796</td><td>16.727932</td><td>0.15048246889904238</td><td>19.206754564586593</td><td>130</td><td>130</td><td>32</td></tr>\n",
       "<tr><td>10294725</td><td>7000000067</td><td>51.846664</td><td>-16.289898</td><td>51970000000000.0</td><td>0.80679</td><td>17.323595</td><td>0.13937409684592666</td><td>19.02935964638075</td><td>141</td><td>141</td><td>35</td></tr>\n",
       "<tr><td>9749036</td><td>51006307725</td><td>53.689293</td><td>-59.035988</td><td>55490000000000.0</td><td>0.822547</td><td>16.419096</td><td>0.13229357903296657</td><td>18.90899084356043</td><td>131</td><td>131</td><td>32</td></tr>\n",
       "<tr><td>...</td><td>...</td><td>...</td><td>...</td><td>...</td><td>...</td><td>...</td><td>...</td><td>...</td><td>...</td><td>...</td><td>...</td></tr>\n",
       "<tr><td>9872200</td><td>117012723162</td><td>315.64374</td><td>-58.65215</td><td>581300000000000.0</td><td>1.984464</td><td>19.130545</td><td>0.6400378823447525</td><td>23.020227294068516</td><td>179</td><td>179</td><td>44</td></tr>\n",
       "<tr><td>9815495</td><td>92011747793</td><td>310.17432</td><td>-46.355865</td><td>581500000000000.0</td><td>1.986827</td><td>18.846224</td><td>0.6501076093897445</td><td>23.08053804694872</td><td>185</td><td>185</td><td>46</td></tr>\n",
       "<tr><td>35303094</td><td>33011682550</td><td>82.96946</td><td>-28.981165</td><td>642900000000000.0</td><td>2.060006</td><td>19.501665</td><td>0.6772301882066438</td><td>23.22338112923986</td><td>80</td><td>80</td><td>20</td></tr>\n",
       "<tr><td>18226007</td><td>108011730340</td><td>7.4192023</td><td>-43.79146</td><td>621400000000000.0</td><td>2.030795</td><td>19.74313</td><td>0.6483134906995371</td><td>23.069880944197223</td><td>138</td><td>138</td><td>34</td></tr>\n",
       "<tr><td>25199384</td><td>379010405889</td><td>34.460194</td><td>-18.44356</td><td>598400000000000.0</td><td>2.003473</td><td>18.957607</td><td>0.6402874907951892</td><td>23.021724944771133</td><td>142</td><td>142</td><td>35</td></tr>\n",
       "<tr><td>25822366</td><td>359010790446</td><td>32.13019</td><td>-2.5730739</td><td>659900000000000.0</td><td>2.082433</td><td>19.133959</td><td>0.696510979192289</td><td>23.322554895961446</td><td>69</td><td>69</td><td>17</td></tr>\n",
       "<tr><td>16749221</td><td>121012624436</td><td>350.89316</td><td>-64.43574</td><td>652600000000000.0</td><td>2.073604</td><td>19.291382</td><td>0.6906826878109467</td><td>23.29341343905473</td><td>177</td><td>177</td><td>44</td></tr>\n",
       "<tr><td>19454221</td><td>347010366951</td><td>12.391885</td><td>0.40915513</td><td>702300000000000.0</td><td>2.116583</td><td>18.696695</td><td>0.6545622839179265</td><td>23.10281141958963</td><td>70</td><td>70</td><td>17</td></tr>\n",
       "<tr><td>24482586</td><td>19011971058</td><td>39.687027</td><td>-30.701668</td><td>700000000000000.0</td><td>2.114803</td><td>18.883825</td><td>0.6569059893327199</td><td>23.1145299466636</td><td>140</td><td>140</td><td>35</td></tr>\n",
       "<tr><td>35847197</td><td>11011415740</td><td>73.761375</td><td>-18.36123</td><td>865500000000000.0</td><td>2.272478</td><td>19.925497</td><td>0.6653212423461582</td><td>23.15660621173079</td><td>82</td><td>82</td><td>20</td></tr>\n",
       "</table>"
      ],
      "text/plain": [
       "<Table length=2748>\n",
       " haloid  coadd_object_id     RA       DEC     ...  hpx8  hpx4  hpx2\n",
       " int64        int64       float32   float32   ... int64 int64 int64\n",
       "-------- --------------- --------- ---------- ... ----- ----- -----\n",
       "12109345     34000000190  87.67945 -31.286345 ...    80    80    20\n",
       " 7921723    106000000031 17.458162  -37.26816 ...   138   138    34\n",
       "12127773     41000000098 84.258545  -38.53852 ...   133   133    33\n",
       "10295050      5000000068 44.179226 -15.528681 ...   143   143    35\n",
       "10559488    359000989610 29.339111  3.0369565 ...    69    69    17\n",
       " 8146031    369000000069 15.199777  -2.195923 ...    70    70    17\n",
       "10030365     48006301558 59.113914 -41.401073 ...   134   134    33\n",
       "10049271     53006584760 35.619694  -61.57988 ...   130   130    32\n",
       "10294725      7000000067 51.846664 -16.289898 ...   141   141    35\n",
       " 9749036     51006307725 53.689293 -59.035988 ...   131   131    32\n",
       "     ...             ...       ...        ... ...   ...   ...   ...\n",
       " 9872200    117012723162 315.64374  -58.65215 ...   179   179    44\n",
       " 9815495     92011747793 310.17432 -46.355865 ...   185   185    46\n",
       "35303094     33011682550  82.96946 -28.981165 ...    80    80    20\n",
       "18226007    108011730340 7.4192023  -43.79146 ...   138   138    34\n",
       "25199384    379010405889 34.460194  -18.44356 ...   142   142    35\n",
       "25822366    359010790446  32.13019 -2.5730739 ...    69    69    17\n",
       "16749221    121012624436 350.89316  -64.43574 ...   177   177    44\n",
       "19454221    347010366951 12.391885 0.40915513 ...    70    70    17\n",
       "24482586     19011971058 39.687027 -30.701668 ...   140   140    35\n",
       "35847197     11011415740 73.761375  -18.36123 ...    82    82    20"
      ]
     },
     "execution_count": 14,
     "metadata": {},
     "output_type": "execute_result"
    }
   ],
   "source": [
    "cat"
   ]
  },
  {
   "cell_type": "code",
   "execution_count": null,
   "metadata": {},
   "outputs": [],
   "source": [
    "# ra_min,ra_max   = 26.,30.\n",
    "# dec_min,dec_max = -44.5,-43.\n",
    "\n",
    "# mask = (cat['RA']<ra_max)&(cat['RA']>ra_min)\n",
    "# mask&= (cat['DEC']<dec_max)&(cat['DEC']>dec_min)"
   ]
  },
  {
   "cell_type": "code",
   "execution_count": null,
   "metadata": {},
   "outputs": [],
   "source": []
  },
  {
   "cell_type": "markdown",
   "metadata": {},
   "source": [
    "### Healpix Matching"
   ]
  },
  {
   "cell_type": "code",
   "execution_count": 15,
   "metadata": {},
   "outputs": [],
   "source": [
    "import sys\n",
    "# sys.path.append('/home/s1/jesteves/git/buzzardAnalysis/buzzardSelection/scripts/')\n",
    "sys.path.append('/global/u2/j/jesteves/codes/buzzardAnalysis/buzzardSelection/scripts/')\n",
    "from helper import AngularDistance,get_healpix_list"
   ]
  },
  {
   "cell_type": "code",
   "execution_count": 16,
   "metadata": {},
   "outputs": [],
   "source": [
    "rad2deg  = 180/np.pi\n",
    "rmax     = 8 #Mpc around each cluster\n",
    "\n",
    "r200     = cat['R200'][:]*0.7 ## Mpc\n",
    "DA       = AngularDistance(np.array(cat['redshift']))\n",
    "\n",
    "## compute the radii max\n",
    "cat['rmax']  = 60*(float(rmax)/DA)*rad2deg ## arcmin"
   ]
  },
  {
   "cell_type": "code",
   "execution_count": 17,
   "metadata": {},
   "outputs": [],
   "source": [
    "Nside = 16384\n",
    "cluster_tile = cat['hpx2']"
   ]
  },
  {
   "cell_type": "code",
   "execution_count": null,
   "metadata": {},
   "outputs": [],
   "source": []
  },
  {
   "cell_type": "markdown",
   "metadata": {},
   "source": [
    "### Retrieving Galaxy Catalogs"
   ]
  },
  {
   "cell_type": "code",
   "execution_count": 18,
   "metadata": {},
   "outputs": [],
   "source": [
    "def save_hdf5_output(gal,cat,outfile):\n",
    "    df  = gal.to_pandas()\n",
    "    df.to_hdf(outfile, key='members', mode='w')\n",
    "\n",
    "    gal = 0\n",
    "\n",
    "    dfc = cat.to_pandas()\n",
    "    dfc.to_hdf(outfile, key='cluster', mode='a')"
   ]
  },
  {
   "cell_type": "code",
   "execution_count": 19,
   "metadata": {},
   "outputs": [],
   "source": [
    "def load_hdf_files(infile,indices,columns,path='catalog/gold/'):\n",
    "    master = h5py.File(infile,'r')\n",
    "    gold   = master[path]\n",
    "    \n",
    "    mydict = dict().fromkeys(columns)\n",
    "    for col in columns:\n",
    "        mydict[col] = gold[col][:][indices]\n",
    "    \n",
    "    master.close()\n",
    "    return Table(mydict)"
   ]
  },
  {
   "cell_type": "code",
   "execution_count": 21,
   "metadata": {},
   "outputs": [],
   "source": [
    "from time import time"
   ]
  },
  {
   "cell_type": "code",
   "execution_count": 22,
   "metadata": {},
   "outputs": [],
   "source": [
    "fname  = path+'Buzzard_v1.9.8_Y3a_bpz.h5'\n",
    "indexes= h5py.File(fname)\n",
    "bpz    = indexes['catalog/bpz']\n",
    "\n",
    "#b_cid  = bpz['coadd_object_id'][:][maglim_idx]\n",
    "z      = bpz['z'][:][maglim_idx]\n",
    "zmean  = bpz['zmean_sof'][:][maglim_idx]\n",
    "\n",
    "indexes.close()"
   ]
  },
  {
   "cell_type": "code",
   "execution_count": 24,
   "metadata": {},
   "outputs": [],
   "source": [
    "indexes= h5py.File(fname_aux,'r')\n",
    "dnf    = indexes['catalog/dnf/unsheared']\n",
    "\n",
    "#d_cid  = dnf['coadd_object_id'][:][maglim_idx]\n",
    "#d_z    = dnf['z'][:][maglim_idx]\n",
    "d_zmean= dnf['z_mean'][:][maglim_idx]\n",
    "d_sigma= dnf['z_sigma'][:][maglim_idx]\n",
    "\n",
    "indexes.close()"
   ]
  },
  {
   "cell_type": "code",
   "execution_count": null,
   "metadata": {},
   "outputs": [],
   "source": []
  },
  {
   "cell_type": "code",
   "execution_count": null,
   "metadata": {},
   "outputs": [],
   "source": [
    "## BE CAREFULL! The cells below take about an hour to run"
   ]
  },
  {
   "cell_type": "code",
   "execution_count": 25,
   "metadata": {},
   "outputs": [],
   "source": [
    "outdir = '/global/project/projectdirs/des/jesteves/buzzardSelection/y3_v2.0.0/tiles/'\n",
    "outfile_base = outdir+'buzzard_y3_v2.0.0_golden_{}.hdf'"
   ]
  },
  {
   "cell_type": "code",
   "execution_count": null,
   "metadata": {},
   "outputs": [],
   "source": []
  },
  {
   "cell_type": "code",
   "execution_count": 26,
   "metadata": {},
   "outputs": [
    {
     "name": "stdout",
     "output_type": "stream",
     "text": [
      "start tile: 0\n",
      "outfile saved: /global/project/projectdirs/des/jesteves/buzzardSelection/y3_v2.0.0/tiles/buzzard_y3_v2.0.0_golden_0.hdf\n",
      "partial time: 3.70 min\n",
      "run time    : 3.70 min\n",
      "\n",
      "\n",
      "start tile: 16\n",
      "outfile saved: /global/project/projectdirs/des/jesteves/buzzardSelection/y3_v2.0.0/tiles/buzzard_y3_v2.0.0_golden_16.hdf\n",
      "partial time: 3.66 min\n",
      "run time    : 7.35 min\n",
      "\n",
      "\n",
      "start tile: 17\n",
      "outfile saved: /global/project/projectdirs/des/jesteves/buzzardSelection/y3_v2.0.0/tiles/buzzard_y3_v2.0.0_golden_17.hdf\n",
      "partial time: 3.95 min\n",
      "run time    : 11.30 min\n",
      "\n",
      "\n",
      "start tile: 18\n",
      "outfile saved: /global/project/projectdirs/des/jesteves/buzzardSelection/y3_v2.0.0/tiles/buzzard_y3_v2.0.0_golden_18.hdf\n",
      "partial time: 3.53 min\n",
      "run time    : 14.83 min\n",
      "\n",
      "\n",
      "start tile: 19\n",
      "outfile saved: /global/project/projectdirs/des/jesteves/buzzardSelection/y3_v2.0.0/tiles/buzzard_y3_v2.0.0_golden_19.hdf\n",
      "partial time: 3.66 min\n",
      "run time    : 18.49 min\n",
      "\n",
      "\n",
      "start tile: 20\n",
      "outfile saved: /global/project/projectdirs/des/jesteves/buzzardSelection/y3_v2.0.0/tiles/buzzard_y3_v2.0.0_golden_20.hdf\n",
      "partial time: 4.12 min\n",
      "run time    : 22.61 min\n",
      "\n",
      "\n",
      "start tile: 22\n",
      "outfile saved: /global/project/projectdirs/des/jesteves/buzzardSelection/y3_v2.0.0/tiles/buzzard_y3_v2.0.0_golden_22.hdf\n",
      "partial time: 3.96 min\n",
      "run time    : 26.57 min\n",
      "\n",
      "\n",
      "start tile: 32\n",
      "outfile saved: /global/project/projectdirs/des/jesteves/buzzardSelection/y3_v2.0.0/tiles/buzzard_y3_v2.0.0_golden_32.hdf\n",
      "partial time: 4.36 min\n",
      "run time    : 30.93 min\n",
      "\n",
      "\n",
      "start tile: 33\n",
      "outfile saved: /global/project/projectdirs/des/jesteves/buzzardSelection/y3_v2.0.0/tiles/buzzard_y3_v2.0.0_golden_33.hdf\n",
      "partial time: 5.48 min\n",
      "run time    : 36.41 min\n",
      "\n",
      "\n",
      "start tile: 34\n",
      "outfile saved: /global/project/projectdirs/des/jesteves/buzzardSelection/y3_v2.0.0/tiles/buzzard_y3_v2.0.0_golden_34.hdf\n",
      "partial time: 6.13 min\n",
      "run time    : 42.54 min\n",
      "\n",
      "\n",
      "start tile: 35\n",
      "outfile saved: /global/project/projectdirs/des/jesteves/buzzardSelection/y3_v2.0.0/tiles/buzzard_y3_v2.0.0_golden_35.hdf\n",
      "partial time: 5.46 min\n",
      "run time    : 48.00 min\n",
      "\n",
      "\n",
      "start tile: 38\n",
      "outfile saved: /global/project/projectdirs/des/jesteves/buzzardSelection/y3_v2.0.0/tiles/buzzard_y3_v2.0.0_golden_38.hdf\n",
      "partial time: 3.63 min\n",
      "run time    : 51.63 min\n",
      "\n",
      "\n",
      "start tile: 44\n",
      "outfile saved: /global/project/projectdirs/des/jesteves/buzzardSelection/y3_v2.0.0/tiles/buzzard_y3_v2.0.0_golden_44.hdf\n",
      "partial time: 3.55 min\n",
      "run time    : 55.18 min\n",
      "\n",
      "\n",
      "start tile: 45\n",
      "outfile saved: /global/project/projectdirs/des/jesteves/buzzardSelection/y3_v2.0.0/tiles/buzzard_y3_v2.0.0_golden_45.hdf\n",
      "partial time: 3.34 min\n",
      "run time    : 58.51 min\n",
      "\n",
      "\n",
      "start tile: 46\n",
      "outfile saved: /global/project/projectdirs/des/jesteves/buzzardSelection/y3_v2.0.0/tiles/buzzard_y3_v2.0.0_golden_46.hdf\n",
      "partial time: 2.59 min\n",
      "run time    : 61.11 min\n",
      "\n",
      "\n",
      "start tile: 47\n",
      "outfile saved: /global/project/projectdirs/des/jesteves/buzzardSelection/y3_v2.0.0/tiles/buzzard_y3_v2.0.0_golden_47.hdf\n",
      "partial time: 2.15 min\n",
      "run time    : 63.26 min\n",
      "\n",
      "\n"
     ]
    }
   ],
   "source": [
    "fname  = path+'Buzzard_v1.9.8_Y3a_gold.h5'\n",
    "\n",
    "t0 = time()\n",
    "\n",
    "time_evolution = np.empty((len(tiles)+1,),dtype=np.float64)\n",
    "time_evolution[0] = t0\n",
    "\n",
    "for i, tile in enumerate(tiles):\n",
    "    print('start tile: %i'%(tile))\n",
    "    \n",
    "    w      = esutil.numpy_util.where1(cluster_tile==tile)\n",
    "    circles= get_healpix_list(cat[w],nside=Nside)\n",
    "    \n",
    "    match  = esutil.numpy_util.match(circles,hpx16384)\n",
    "    indices= maglim_idx[match[1]]\n",
    "    \n",
    "    data        = load_hdf_files(fname,indices,columns,path='catalog/gold/')\n",
    "    data['z']          = z[match[1]]\n",
    "    data['z_mean_bpz'] = zmean[match[1]]\n",
    "\n",
    "    data['z_mean_dnf'] = d_zmean[match[1]]\n",
    "    data['z_sigma_dnf']= d_sigma[match[1]]\n",
    "    \n",
    "    data['index']= indices\n",
    "    data['tile'] = tile\n",
    "    time_evolution[i+1] = time()\n",
    "    \n",
    "    outfile = outfile_base.format(tile)\n",
    "    save_hdf5_output(data,cat[w],outfile)\n",
    "    data = 0\n",
    "    print('outfile saved: %s'%(outfile))\n",
    "    \n",
    "    print('partial time: %.2f min'%((time_evolution[i+1]-time_evolution[i])/60.))\n",
    "    print('run time    : %.2f min'%((time_evolution[i+1]-time_evolution[0])/60.))\n",
    "    print('\\n')"
   ]
  },
  {
   "cell_type": "code",
   "execution_count": null,
   "metadata": {},
   "outputs": [],
   "source": []
  },
  {
   "cell_type": "code",
   "execution_count": null,
   "metadata": {},
   "outputs": [],
   "source": [
    "## In case that the memory crashes, delete the photoz variables (z,zmean,d_zmean,d_sigma) and run the cell below"
   ]
  },
  {
   "cell_type": "code",
   "execution_count": null,
   "metadata": {},
   "outputs": [],
   "source": [
    "# fname     = path+'Buzzard_v1.9.8_Y3a_gold.h5'\n",
    "# fname_bpz = path+'Buzzard_v1.9.8_Y3a_bpz.h5'\n",
    "# fname_dnf = fname_aux\n",
    "\n",
    "# t0 = time()\n",
    "\n",
    "# time_evolution = np.empty((len(tiles)+1,),dtype=np.float64)\n",
    "# time_evolution[0] = t0\n",
    "\n",
    "# for i, tile in enumerate(tiles):\n",
    "#     print('start tile: %i'%(tile))\n",
    "    \n",
    "#     w      = esutil.numpy_util.where1(cluster_tile==tile)\n",
    "#     circles= get_healpix_list(cat[w],nside=Nside)\n",
    "    \n",
    "#     match  = esutil.numpy_util.match(circles,hpx16384)\n",
    "#     indices= maglim_idx[match[1]]\n",
    "    \n",
    "#     data = load_hdf_files(fname,indices,columns,path='catalog/gold/')\n",
    "#     bpz  = load_hdf_files(fname_bpz,indices,['z','zmean_sof'],path='catalog/bpz/')\n",
    "#     dnf  = load_hdf_files(fname_aux,indices,['z_mean','z_sigma'],path='catalog/dnf/unsheared')\n",
    "    \n",
    "#     data['z']          = bpz['z']\n",
    "#     data['z_mean_bpz'] = bpz['zmean_sof']\n",
    "\n",
    "#     data['z_mean_dnf'] = dnf['z_mean']\n",
    "#     data['z_sigma_dnf']= dnf['z_sigma']\n",
    "    \n",
    "#     data['index']= indices\n",
    "#     data['tile'] = tile\n",
    "#     time_evolution[i+1] = time()\n",
    "    \n",
    "#     outfile = outfile_base.format(tile)\n",
    "#     save_hdf5_output(data,cat[w],outfile)\n",
    "#     data = 0\n",
    "#     print('outfile saved: %s'%(outfile))\n",
    "    \n",
    "#     print('partial time: %.2f min'%((time_evolution[i+1]-time_evolution[i])/60.))\n",
    "#     print('run time    : %.2f min'%((time_evolution[i+1]-time_evolution[0])/60.))\n",
    "#     print('\\n')"
   ]
  },
  {
   "cell_type": "code",
   "execution_count": 17,
   "metadata": {},
   "outputs": [],
   "source": [
    "import pandas as pd\n",
    "def upload_dataFrame(infile,keys='members'):\n",
    "    hdf = pd.HDFStore(infile, mode='r')\n",
    "    df1 = hdf.get(keys)\n",
    "    hdf.close()\n",
    "    data = Table.from_pandas(df1)\n",
    "    return data"
   ]
  },
  {
   "cell_type": "code",
   "execution_count": 18,
   "metadata": {},
   "outputs": [],
   "source": [
    "outdir = '/data/des61.a/data/johnny/Buzzard/Buzzard_v2.0.0/y3_rm/tiles/'\n",
    "files  = glob.glob(outdir+'buzzard_y3_v2.0.0_redmapper_heidi_lgt20_copper_hpx8*.hdf5')\n",
    "outfile = files[3]"
   ]
  },
  {
   "cell_type": "code",
   "execution_count": 21,
   "metadata": {},
   "outputs": [],
   "source": [
    "gi = upload_dataFrame(outfile,keys='members')"
   ]
  },
  {
   "cell_type": "code",
   "execution_count": 22,
   "metadata": {},
   "outputs": [
    {
     "data": {
      "text/html": [
       "&lt;Table length=2744038&gt;\n",
       "<table id=\"table139771321141904\" class=\"table-striped table-bordered table-condensed\">\n",
       "<thead><tr><th>hpix_16384</th><th>haloid</th><th>coadd_object_id</th><th>ra</th><th>dec</th><th>rhalo</th><th>mag_g</th><th>mag_r</th><th>mag_i</th><th>mag_z</th><th>mag_err_g</th><th>mag_err_r</th><th>mag_err_i</th><th>mag_err_z</th><th>z</th><th>z_mean_dnf</th><th>z_sigma_dnf</th><th>index</th><th>tile</th></tr></thead>\n",
       "<thead><tr><th>int64</th><th>int64</th><th>int64</th><th>float32</th><th>float32</th><th>float32</th><th>float32</th><th>float32</th><th>float32</th><th>float32</th><th>float32</th><th>float32</th><th>float32</th><th>float32</th><th>float64</th><th>float64</th><th>float64</th><th>int64</th><th>int64</th></tr></thead>\n",
       "<tr><td>1075138416</td><td>0</td><td>105008499362</td><td>5.296536</td><td>-35.72796</td><td>0.0</td><td>25.533146</td><td>25.292902</td><td>23.590105</td><td>22.59278</td><td>0.529632</td><td>0.7691963</td><td>0.22851813</td><td>0.16298512</td><td>0.0</td><td>0.0</td><td>0.0</td><td>9640913</td><td>257</td></tr>\n",
       "<tr><td>1075138421</td><td>18253824</td><td>105011910144</td><td>5.304697</td><td>-35.719368</td><td>0.4102478</td><td>25.149513</td><td>23.660486</td><td>22.47889</td><td>21.806288</td><td>0.3817489</td><td>0.18549159</td><td>0.09671724</td><td>0.08711142</td><td>0.6859338256905388</td><td>0.8497801044409988</td><td>0.23630268521951173</td><td>9640925</td><td>257</td></tr>\n",
       "<tr><td>1075138421</td><td>18186077</td><td>105012055879</td><td>5.3049355</td><td>-35.719925</td><td>3.5830064</td><td>26.78362</td><td>23.888044</td><td>23.225847</td><td>23.382961</td><td>1.7393258</td><td>0.21963862</td><td>0.17004076</td><td>0.3219672</td><td>0.0</td><td>0.0</td><td>0.0</td><td>9640926</td><td>257</td></tr>\n",
       "<tr><td>1075138422</td><td>18253824</td><td>105011854863</td><td>5.297073</td><td>-35.72123</td><td>0.27412614</td><td>25.165102</td><td>23.186338</td><td>21.78622</td><td>21.181803</td><td>0.3987388</td><td>0.1293551</td><td>0.058988005</td><td>0.056523193</td><td>0.6855052692325162</td><td>0.8136354771749703</td><td>0.030088041825376874</td><td>9640928</td><td>257</td></tr>\n",
       "<tr><td>1075138423</td><td>18253824</td><td>105012055872</td><td>5.3005347</td><td>-35.719097</td><td>0.15284486</td><td>24.726446</td><td>24.337412</td><td>23.48961</td><td>24.038372</td><td>0.2629976</td><td>0.33283976</td><td>0.21450847</td><td>0.5760171</td><td>0.0</td><td>0.0</td><td>0.0</td><td>9640937</td><td>257</td></tr>\n",
       "<tr><td>1075138424</td><td>19122245</td><td>105013066835</td><td>5.290674</td><td>-35.72386</td><td>0.19589654</td><td>24.577854</td><td>24.388575</td><td>23.047272</td><td>23.018784</td><td>0.23884574</td><td>0.3546612</td><td>0.14598331</td><td>0.22971016</td><td>0.0</td><td>0.0</td><td>0.0</td><td>9640942</td><td>257</td></tr>\n",
       "<tr><td>1075138425</td><td>19048210</td><td>105011916643</td><td>5.2923307</td><td>-35.718082</td><td>5.657542</td><td>25.825407</td><td>23.662275</td><td>22.335054</td><td>22.244957</td><td>0.7119328</td><td>0.18243574</td><td>0.08188196</td><td>0.12557639</td><td>0.7189440200317792</td><td>0.7202460698025439</td><td>0.035517506320486364</td><td>9640943</td><td>257</td></tr>\n",
       "<tr><td>1075138427</td><td>19073842</td><td>105011923949</td><td>5.2917643</td><td>-35.716362</td><td>5.5050225</td><td>25.171698</td><td>23.911045</td><td>22.53934</td><td>22.158192</td><td>0.3903163</td><td>0.23148859</td><td>0.09901509</td><td>0.11500125</td><td>0.7162454866675024</td><td>0.7828262391786459</td><td>0.13304672362192838</td><td>9640948</td><td>257</td></tr>\n",
       "<tr><td>1075138427</td><td>7603786</td><td>105000204870</td><td>5.2909684</td><td>-35.7185</td><td>2.3938303</td><td>22.993427</td><td>22.691366</td><td>22.46394</td><td>22.339273</td><td>0.06878302</td><td>0.08979252</td><td>0.097085394</td><td>0.13298269</td><td>0.09688923313613988</td><td>0.12403293395394693</td><td>0.1869707220302761</td><td>9640949</td><td>257</td></tr>\n",
       "<tr><td>1075138428</td><td>18253824</td><td>105012126626</td><td>5.2960534</td><td>-35.718586</td><td>0.20701012</td><td>25.440184</td><td>23.831236</td><td>23.849955</td><td>23.619623</td><td>0.50757325</td><td>0.20649207</td><td>0.2902951</td><td>0.37821606</td><td>0.0</td><td>0.0</td><td>0.0</td><td>9640952</td><td>257</td></tr>\n",
       "<tr><td>...</td><td>...</td><td>...</td><td>...</td><td>...</td><td>...</td><td>...</td><td>...</td><td>...</td><td>...</td><td>...</td><td>...</td><td>...</td><td>...</td><td>...</td><td>...</td><td>...</td><td>...</td><td>...</td></tr>\n",
       "<tr><td>2331963382</td><td>8244111</td><td>104000049900</td><td>10.373291</td><td>-30.876823</td><td>4.4675765</td><td>22.3572</td><td>21.775759</td><td>21.492495</td><td>21.410107</td><td>0.045263715</td><td>0.03466171</td><td>0.04560352</td><td>0.065870896</td><td>0.2180193960968389</td><td>0.21513552787538687</td><td>0.08925797287464388</td><td>927768313</td><td>257</td></tr>\n",
       "<tr><td>2331963385</td><td>17228971</td><td>104005340300</td><td>10.368644</td><td>-30.874279</td><td>4.184912</td><td>24.897213</td><td>24.258099</td><td>23.915508</td><td>23.490454</td><td>0.30881122</td><td>0.2210898</td><td>0.28687137</td><td>0.32823494</td><td>0.0</td><td>0.0</td><td>0.0</td><td>927768326</td><td>257</td></tr>\n",
       "<tr><td>2331963385</td><td>17228971</td><td>104005027148</td><td>10.367825</td><td>-30.875639</td><td>4.4811745</td><td>21.703758</td><td>20.366554</td><td>19.938648</td><td>19.613424</td><td>0.030361932</td><td>0.015571287</td><td>0.01909442</td><td>0.023122832</td><td>0.44731373574284583</td><td>0.4056555617110076</td><td>0.07277851230787434</td><td>927768327</td><td>257</td></tr>\n",
       "<tr><td>2331963387</td><td>0</td><td>104002946336</td><td>10.36348</td><td>-30.873177</td><td>0.0</td><td>25.005291</td><td>24.151041</td><td>23.264307</td><td>22.598871</td><td>0.34969008</td><td>0.20083535</td><td>0.15875816</td><td>0.1520861</td><td>0.0</td><td>0.0</td><td>0.0</td><td>927768335</td><td>257</td></tr>\n",
       "<tr><td>2331963387</td><td>19063293</td><td>104013800870</td><td>10.364757</td><td>-30.872074</td><td>2.4551437</td><td>25.558432</td><td>24.266722</td><td>23.037977</td><td>22.976854</td><td>0.5619978</td><td>0.21815144</td><td>0.1330588</td><td>0.21490219</td><td>0.0</td><td>0.0</td><td>0.0</td><td>927768336</td><td>257</td></tr>\n",
       "<tr><td>2331963388</td><td>17131546</td><td>104002037510</td><td>10.369295</td><td>-30.874094</td><td>1.2101793</td><td>24.69662</td><td>23.61359</td><td>23.759373</td><td>23.146797</td><td>0.2696027</td><td>0.12732032</td><td>0.2535843</td><td>0.24064098</td><td>0.0</td><td>0.0</td><td>0.0</td><td>927768338</td><td>257</td></tr>\n",
       "<tr><td>2331963388</td><td>17208465</td><td>104001898072</td><td>10.3713</td><td>-30.875736</td><td>3.6372724</td><td>23.93535</td><td>22.862015</td><td>22.4824</td><td>22.332886</td><td>0.14108242</td><td>0.07300128</td><td>0.088991925</td><td>0.12862913</td><td>0.402222459596384</td><td>0.4649832645476012</td><td>0.3216869700148345</td><td>927768340</td><td>257</td></tr>\n",
       "<tr><td>2331963390</td><td>7264847</td><td>104000645771</td><td>10.369093</td><td>-30.871292</td><td>4.518316</td><td>23.43944</td><td>23.690266</td><td>23.844158</td><td>23.766191</td><td>0.09748124</td><td>0.13938934</td><td>0.2641643</td><td>0.40544444</td><td>0.0</td><td>0.0</td><td>0.0</td><td>927768346</td><td>257</td></tr>\n",
       "<tr><td>2331966122</td><td>0</td><td>104006327600</td><td>10.374142</td><td>-30.863297</td><td>0.0</td><td>24.951046</td><td>24.297808</td><td>23.942053</td><td>23.089012</td><td>0.27264276</td><td>0.18783382</td><td>0.24442352</td><td>0.19622417</td><td>0.0</td><td>0.0</td><td>0.0</td><td>927778608</td><td>257</td></tr>\n",
       "<tr><td>2331966122</td><td>8247054</td><td>104000025285</td><td>10.372027</td><td>-30.865475</td><td>6.2769322</td><td>21.144178</td><td>20.455442</td><td>20.128805</td><td>20.066866</td><td>0.01892298</td><td>0.013968453</td><td>0.018010553</td><td>0.026299061</td><td>0.2015786960276019</td><td>0.23472126327429846</td><td>0.020688435222710928</td><td>927778609</td><td>257</td></tr>\n",
       "</table>"
      ],
      "text/plain": [
       "<Table length=2744038>\n",
       "hpix_16384  haloid  coadd_object_id ...     z_sigma_dnf        index    tile\n",
       "  int64     int64        int64      ...       float64          int64   int64\n",
       "---------- -------- --------------- ... -------------------- --------- -----\n",
       "1075138416        0    105008499362 ...                  0.0   9640913   257\n",
       "1075138421 18253824    105011910144 ...  0.23630268521951173   9640925   257\n",
       "1075138421 18186077    105012055879 ...                  0.0   9640926   257\n",
       "1075138422 18253824    105011854863 ... 0.030088041825376874   9640928   257\n",
       "1075138423 18253824    105012055872 ...                  0.0   9640937   257\n",
       "1075138424 19122245    105013066835 ...                  0.0   9640942   257\n",
       "1075138425 19048210    105011916643 ... 0.035517506320486364   9640943   257\n",
       "1075138427 19073842    105011923949 ...  0.13304672362192838   9640948   257\n",
       "1075138427  7603786    105000204870 ...   0.1869707220302761   9640949   257\n",
       "1075138428 18253824    105012126626 ...                  0.0   9640952   257\n",
       "       ...      ...             ... ...                  ...       ...   ...\n",
       "2331963382  8244111    104000049900 ...  0.08925797287464388 927768313   257\n",
       "2331963385 17228971    104005340300 ...                  0.0 927768326   257\n",
       "2331963385 17228971    104005027148 ...  0.07277851230787434 927768327   257\n",
       "2331963387        0    104002946336 ...                  0.0 927768335   257\n",
       "2331963387 19063293    104013800870 ...                  0.0 927768336   257\n",
       "2331963388 17131546    104002037510 ...                  0.0 927768338   257\n",
       "2331963388 17208465    104001898072 ...   0.3216869700148345 927768340   257\n",
       "2331963390  7264847    104000645771 ...                  0.0 927768346   257\n",
       "2331966122        0    104006327600 ...                  0.0 927778608   257\n",
       "2331966122  8247054    104000025285 ... 0.020688435222710928 927778609   257"
      ]
     },
     "execution_count": 22,
     "metadata": {},
     "output_type": "execute_result"
    }
   ],
   "source": [
    "gi"
   ]
  },
  {
   "cell_type": "code",
   "execution_count": 28,
   "metadata": {},
   "outputs": [
    {
     "data": {
      "text/plain": [
       "(0.0, 1.0)"
      ]
     },
     "execution_count": 28,
     "metadata": {},
     "output_type": "execute_result"
    },
    {
     "data": {
      "image/png": "[encoded data removed]",
      "text/plain": [
       "<Figure size 432x288 with 1 Axes>"
      ]
     },
     "metadata": {},
     "output_type": "display_data"
    }
   ],
   "source": [
    "cut = gi['mag_i']<20.\n",
    "\n",
    "z0,zend=0.,1.\n",
    "plt.scatter(gi['z'][cut],gi['z_mean_dnf'][cut],alpha=0.1,s=10)\n",
    "plt.xlim(z0,zend)\n",
    "plt.ylim(z0,zend)"
   ]
  },
  {
   "cell_type": "code",
   "execution_count": null,
   "metadata": {},
   "outputs": [],
   "source": []
  },
  {
   "cell_type": "code",
   "execution_count": null,
   "metadata": {},
   "outputs": [],
   "source": []
  },
  {
   "cell_type": "code",
   "execution_count": 1,
   "metadata": {},
   "outputs": [],
   "source": [
    "import os\n",
    "import glob\n",
    "import numpy as np\n",
    " \n",
    "def get_healpix_list(file_list):\n",
    "    healpix_list = []\n",
    "    for infile in file_list:\n",
    "        hpx = int(infile.split('_')[-1].split('.')[0])\n",
    "        healpix_list.append(hpx)\n",
    "    healpix_list = np.sort(np.array(healpix_list))\n",
    "    return healpix_list\n",
    " \n",
    "def rename_files(base_name,file_list):\n",
    "    for infile in file_list:\n",
    "        hpx = int(infile.split('_')[-1].split('.')[0])\n",
    "        new_file = base_name.format(hpx)\n",
    "        print((infile,new_file))\n",
    "        os.rename(infile,new_file)"
   ]
  },
  {
   "cell_type": "code",
   "execution_count": 10,
   "metadata": {},
   "outputs": [],
   "source": [
    "outdir = '/data/des61.a/data/johnny/Buzzard/Buzzard_v2.0.0/y3_rm/tiles/'\n",
    "files  = glob.glob(outdir+'buzzard_y3_v2.0.0_redmapper_heidi_lgt20_copper_hpx8*.hdf')\n"
   ]
  },
  {
   "cell_type": "code",
   "execution_count": 11,
   "metadata": {},
   "outputs": [
    {
     "data": {
      "text/plain": [
       "[]"
      ]
     },
     "execution_count": 11,
     "metadata": {},
     "output_type": "execute_result"
    }
   ],
   "source": [
    "files"
   ]
  },
  {
   "cell_type": "code",
   "execution_count": 4,
   "metadata": {},
   "outputs": [
    {
     "name": "stdout",
     "output_type": "stream",
     "text": [
      "[  0 256 257 260 261 263 269 271 272 273 274 275 276 277 278 279 280 281\n",
      " 282 283 284 291 292 293 294 295 296 297 298 299 300 304 320 321 322 323\n",
      " 328 329 330 352 518 519 521 522 523 524 525 526 527 528 529 530 531 532\n",
      " 533 534 535 536 537 538 539 540 541 542 543 544 545 546 547 548 549 550\n",
      " 551 552 553 554 555 556 557 558 559 560 561 562 563 564 565 566 567 568\n",
      " 569 570 571 572 573 574 575 610 616 618 709 710 711 713 715 716 717 718\n",
      " 719 720 721 722 723 724 725 726 728 729 730 731 740 741]\n"
     ]
    }
   ],
   "source": [
    "healpix_list = get_healpix_list(files)\n",
    " \n",
    "print(healpix_list)"
   ]
  },
  {
   "cell_type": "code",
   "execution_count": null,
   "metadata": {},
   "outputs": [],
   "source": []
  },
  {
   "cell_type": "code",
   "execution_count": 5,
   "metadata": {},
   "outputs": [
    {
     "name": "stdout",
     "output_type": "stream",
     "text": [
      "('/data/des61.a/data/johnny/Buzzard/Buzzard_v2.0.0/y3_rm/tiles/buzzard_y3_v2.0.0_redmapper_heidi_lgt20_copper_hpx8_296.hdf', '/data/des61.a/data/johnny/Buzzard/Buzzard_v2.0.0/y3_rm/tiles/buzzard_y3_v2.0.0_redmapper_heidi_lgt20_copper_hpx8_00296.hdf5')\n",
      "('/data/des61.a/data/johnny/Buzzard/Buzzard_v2.0.0/y3_rm/tiles/buzzard_y3_v2.0.0_redmapper_heidi_lgt20_copper_hpx8_0.hdf', '/data/des61.a/data/johnny/Buzzard/Buzzard_v2.0.0/y3_rm/tiles/buzzard_y3_v2.0.0_redmapper_heidi_lgt20_copper_hpx8_00000.hdf5')\n",
      "('/data/des61.a/data/johnny/Buzzard/Buzzard_v2.0.0/y3_rm/tiles/buzzard_y3_v2.0.0_redmapper_heidi_lgt20_copper_hpx8_295.hdf', '/data/des61.a/data/johnny/Buzzard/Buzzard_v2.0.0/y3_rm/tiles/buzzard_y3_v2.0.0_redmapper_heidi_lgt20_copper_hpx8_00295.hdf5')\n",
      "('/data/des61.a/data/johnny/Buzzard/Buzzard_v2.0.0/y3_rm/tiles/buzzard_y3_v2.0.0_redmapper_heidi_lgt20_copper_hpx8_256.hdf', '/data/des61.a/data/johnny/Buzzard/Buzzard_v2.0.0/y3_rm/tiles/buzzard_y3_v2.0.0_redmapper_heidi_lgt20_copper_hpx8_00256.hdf5')\n",
      "('/data/des61.a/data/johnny/Buzzard/Buzzard_v2.0.0/y3_rm/tiles/buzzard_y3_v2.0.0_redmapper_heidi_lgt20_copper_hpx8_300.hdf', '/data/des61.a/data/johnny/Buzzard/Buzzard_v2.0.0/y3_rm/tiles/buzzard_y3_v2.0.0_redmapper_heidi_lgt20_copper_hpx8_00300.hdf5')\n",
      "('/data/des61.a/data/johnny/Buzzard/Buzzard_v2.0.0/y3_rm/tiles/buzzard_y3_v2.0.0_redmapper_heidi_lgt20_copper_hpx8_257.hdf', '/data/des61.a/data/johnny/Buzzard/Buzzard_v2.0.0/y3_rm/tiles/buzzard_y3_v2.0.0_redmapper_heidi_lgt20_copper_hpx8_00257.hdf5')\n",
      "('/data/des61.a/data/johnny/Buzzard/Buzzard_v2.0.0/y3_rm/tiles/buzzard_y3_v2.0.0_redmapper_heidi_lgt20_copper_hpx8_299.hdf', '/data/des61.a/data/johnny/Buzzard/Buzzard_v2.0.0/y3_rm/tiles/buzzard_y3_v2.0.0_redmapper_heidi_lgt20_copper_hpx8_00299.hdf5')\n",
      "('/data/des61.a/data/johnny/Buzzard/Buzzard_v2.0.0/y3_rm/tiles/buzzard_y3_v2.0.0_redmapper_heidi_lgt20_copper_hpx8_260.hdf', '/data/des61.a/data/johnny/Buzzard/Buzzard_v2.0.0/y3_rm/tiles/buzzard_y3_v2.0.0_redmapper_heidi_lgt20_copper_hpx8_00260.hdf5')\n",
      "('/data/des61.a/data/johnny/Buzzard/Buzzard_v2.0.0/y3_rm/tiles/buzzard_y3_v2.0.0_redmapper_heidi_lgt20_copper_hpx8_304.hdf', '/data/des61.a/data/johnny/Buzzard/Buzzard_v2.0.0/y3_rm/tiles/buzzard_y3_v2.0.0_redmapper_heidi_lgt20_copper_hpx8_00304.hdf5')\n",
      "('/data/des61.a/data/johnny/Buzzard/Buzzard_v2.0.0/y3_rm/tiles/buzzard_y3_v2.0.0_redmapper_heidi_lgt20_copper_hpx8_261.hdf', '/data/des61.a/data/johnny/Buzzard/Buzzard_v2.0.0/y3_rm/tiles/buzzard_y3_v2.0.0_redmapper_heidi_lgt20_copper_hpx8_00261.hdf5')\n",
      "('/data/des61.a/data/johnny/Buzzard/Buzzard_v2.0.0/y3_rm/tiles/buzzard_y3_v2.0.0_redmapper_heidi_lgt20_copper_hpx8_320.hdf', '/data/des61.a/data/johnny/Buzzard/Buzzard_v2.0.0/y3_rm/tiles/buzzard_y3_v2.0.0_redmapper_heidi_lgt20_copper_hpx8_00320.hdf5')\n",
      "('/data/des61.a/data/johnny/Buzzard/Buzzard_v2.0.0/y3_rm/tiles/buzzard_y3_v2.0.0_redmapper_heidi_lgt20_copper_hpx8_263.hdf', '/data/des61.a/data/johnny/Buzzard/Buzzard_v2.0.0/y3_rm/tiles/buzzard_y3_v2.0.0_redmapper_heidi_lgt20_copper_hpx8_00263.hdf5')\n",
      "('/data/des61.a/data/johnny/Buzzard/Buzzard_v2.0.0/y3_rm/tiles/buzzard_y3_v2.0.0_redmapper_heidi_lgt20_copper_hpx8_321.hdf', '/data/des61.a/data/johnny/Buzzard/Buzzard_v2.0.0/y3_rm/tiles/buzzard_y3_v2.0.0_redmapper_heidi_lgt20_copper_hpx8_00321.hdf5')\n",
      "('/data/des61.a/data/johnny/Buzzard/Buzzard_v2.0.0/y3_rm/tiles/buzzard_y3_v2.0.0_redmapper_heidi_lgt20_copper_hpx8_269.hdf', '/data/des61.a/data/johnny/Buzzard/Buzzard_v2.0.0/y3_rm/tiles/buzzard_y3_v2.0.0_redmapper_heidi_lgt20_copper_hpx8_00269.hdf5')\n",
      "('/data/des61.a/data/johnny/Buzzard/Buzzard_v2.0.0/y3_rm/tiles/buzzard_y3_v2.0.0_redmapper_heidi_lgt20_copper_hpx8_322.hdf', '/data/des61.a/data/johnny/Buzzard/Buzzard_v2.0.0/y3_rm/tiles/buzzard_y3_v2.0.0_redmapper_heidi_lgt20_copper_hpx8_00322.hdf5')\n",
      "('/data/des61.a/data/johnny/Buzzard/Buzzard_v2.0.0/y3_rm/tiles/buzzard_y3_v2.0.0_redmapper_heidi_lgt20_copper_hpx8_271.hdf', '/data/des61.a/data/johnny/Buzzard/Buzzard_v2.0.0/y3_rm/tiles/buzzard_y3_v2.0.0_redmapper_heidi_lgt20_copper_hpx8_00271.hdf5')\n",
      "('/data/des61.a/data/johnny/Buzzard/Buzzard_v2.0.0/y3_rm/tiles/buzzard_y3_v2.0.0_redmapper_heidi_lgt20_copper_hpx8_323.hdf', '/data/des61.a/data/johnny/Buzzard/Buzzard_v2.0.0/y3_rm/tiles/buzzard_y3_v2.0.0_redmapper_heidi_lgt20_copper_hpx8_00323.hdf5')\n",
      "('/data/des61.a/data/johnny/Buzzard/Buzzard_v2.0.0/y3_rm/tiles/buzzard_y3_v2.0.0_redmapper_heidi_lgt20_copper_hpx8_272.hdf', '/data/des61.a/data/johnny/Buzzard/Buzzard_v2.0.0/y3_rm/tiles/buzzard_y3_v2.0.0_redmapper_heidi_lgt20_copper_hpx8_00272.hdf5')\n",
      "('/data/des61.a/data/johnny/Buzzard/Buzzard_v2.0.0/y3_rm/tiles/buzzard_y3_v2.0.0_redmapper_heidi_lgt20_copper_hpx8_328.hdf', '/data/des61.a/data/johnny/Buzzard/Buzzard_v2.0.0/y3_rm/tiles/buzzard_y3_v2.0.0_redmapper_heidi_lgt20_copper_hpx8_00328.hdf5')\n",
      "('/data/des61.a/data/johnny/Buzzard/Buzzard_v2.0.0/y3_rm/tiles/buzzard_y3_v2.0.0_redmapper_heidi_lgt20_copper_hpx8_273.hdf', '/data/des61.a/data/johnny/Buzzard/Buzzard_v2.0.0/y3_rm/tiles/buzzard_y3_v2.0.0_redmapper_heidi_lgt20_copper_hpx8_00273.hdf5')\n",
      "('/data/des61.a/data/johnny/Buzzard/Buzzard_v2.0.0/y3_rm/tiles/buzzard_y3_v2.0.0_redmapper_heidi_lgt20_copper_hpx8_329.hdf', '/data/des61.a/data/johnny/Buzzard/Buzzard_v2.0.0/y3_rm/tiles/buzzard_y3_v2.0.0_redmapper_heidi_lgt20_copper_hpx8_00329.hdf5')\n",
      "('/data/des61.a/data/johnny/Buzzard/Buzzard_v2.0.0/y3_rm/tiles/buzzard_y3_v2.0.0_redmapper_heidi_lgt20_copper_hpx8_274.hdf', '/data/des61.a/data/johnny/Buzzard/Buzzard_v2.0.0/y3_rm/tiles/buzzard_y3_v2.0.0_redmapper_heidi_lgt20_copper_hpx8_00274.hdf5')\n",
      "('/data/des61.a/data/johnny/Buzzard/Buzzard_v2.0.0/y3_rm/tiles/buzzard_y3_v2.0.0_redmapper_heidi_lgt20_copper_hpx8_330.hdf', '/data/des61.a/data/johnny/Buzzard/Buzzard_v2.0.0/y3_rm/tiles/buzzard_y3_v2.0.0_redmapper_heidi_lgt20_copper_hpx8_00330.hdf5')\n",
      "('/data/des61.a/data/johnny/Buzzard/Buzzard_v2.0.0/y3_rm/tiles/buzzard_y3_v2.0.0_redmapper_heidi_lgt20_copper_hpx8_275.hdf', '/data/des61.a/data/johnny/Buzzard/Buzzard_v2.0.0/y3_rm/tiles/buzzard_y3_v2.0.0_redmapper_heidi_lgt20_copper_hpx8_00275.hdf5')\n",
      "('/data/des61.a/data/johnny/Buzzard/Buzzard_v2.0.0/y3_rm/tiles/buzzard_y3_v2.0.0_redmapper_heidi_lgt20_copper_hpx8_352.hdf', '/data/des61.a/data/johnny/Buzzard/Buzzard_v2.0.0/y3_rm/tiles/buzzard_y3_v2.0.0_redmapper_heidi_lgt20_copper_hpx8_00352.hdf5')\n",
      "('/data/des61.a/data/johnny/Buzzard/Buzzard_v2.0.0/y3_rm/tiles/buzzard_y3_v2.0.0_redmapper_heidi_lgt20_copper_hpx8_276.hdf', '/data/des61.a/data/johnny/Buzzard/Buzzard_v2.0.0/y3_rm/tiles/buzzard_y3_v2.0.0_redmapper_heidi_lgt20_copper_hpx8_00276.hdf5')\n",
      "('/data/des61.a/data/johnny/Buzzard/Buzzard_v2.0.0/y3_rm/tiles/buzzard_y3_v2.0.0_redmapper_heidi_lgt20_copper_hpx8_518.hdf', '/data/des61.a/data/johnny/Buzzard/Buzzard_v2.0.0/y3_rm/tiles/buzzard_y3_v2.0.0_redmapper_heidi_lgt20_copper_hpx8_00518.hdf5')\n",
      "('/data/des61.a/data/johnny/Buzzard/Buzzard_v2.0.0/y3_rm/tiles/buzzard_y3_v2.0.0_redmapper_heidi_lgt20_copper_hpx8_277.hdf', '/data/des61.a/data/johnny/Buzzard/Buzzard_v2.0.0/y3_rm/tiles/buzzard_y3_v2.0.0_redmapper_heidi_lgt20_copper_hpx8_00277.hdf5')\n",
      "('/data/des61.a/data/johnny/Buzzard/Buzzard_v2.0.0/y3_rm/tiles/buzzard_y3_v2.0.0_redmapper_heidi_lgt20_copper_hpx8_519.hdf', '/data/des61.a/data/johnny/Buzzard/Buzzard_v2.0.0/y3_rm/tiles/buzzard_y3_v2.0.0_redmapper_heidi_lgt20_copper_hpx8_00519.hdf5')\n",
      "('/data/des61.a/data/johnny/Buzzard/Buzzard_v2.0.0/y3_rm/tiles/buzzard_y3_v2.0.0_redmapper_heidi_lgt20_copper_hpx8_278.hdf', '/data/des61.a/data/johnny/Buzzard/Buzzard_v2.0.0/y3_rm/tiles/buzzard_y3_v2.0.0_redmapper_heidi_lgt20_copper_hpx8_00278.hdf5')\n",
      "('/data/des61.a/data/johnny/Buzzard/Buzzard_v2.0.0/y3_rm/tiles/buzzard_y3_v2.0.0_redmapper_heidi_lgt20_copper_hpx8_521.hdf', '/data/des61.a/data/johnny/Buzzard/Buzzard_v2.0.0/y3_rm/tiles/buzzard_y3_v2.0.0_redmapper_heidi_lgt20_copper_hpx8_00521.hdf5')\n",
      "('/data/des61.a/data/johnny/Buzzard/Buzzard_v2.0.0/y3_rm/tiles/buzzard_y3_v2.0.0_redmapper_heidi_lgt20_copper_hpx8_279.hdf', '/data/des61.a/data/johnny/Buzzard/Buzzard_v2.0.0/y3_rm/tiles/buzzard_y3_v2.0.0_redmapper_heidi_lgt20_copper_hpx8_00279.hdf5')\n",
      "('/data/des61.a/data/johnny/Buzzard/Buzzard_v2.0.0/y3_rm/tiles/buzzard_y3_v2.0.0_redmapper_heidi_lgt20_copper_hpx8_522.hdf', '/data/des61.a/data/johnny/Buzzard/Buzzard_v2.0.0/y3_rm/tiles/buzzard_y3_v2.0.0_redmapper_heidi_lgt20_copper_hpx8_00522.hdf5')\n",
      "('/data/des61.a/data/johnny/Buzzard/Buzzard_v2.0.0/y3_rm/tiles/buzzard_y3_v2.0.0_redmapper_heidi_lgt20_copper_hpx8_280.hdf', '/data/des61.a/data/johnny/Buzzard/Buzzard_v2.0.0/y3_rm/tiles/buzzard_y3_v2.0.0_redmapper_heidi_lgt20_copper_hpx8_00280.hdf5')\n",
      "('/data/des61.a/data/johnny/Buzzard/Buzzard_v2.0.0/y3_rm/tiles/buzzard_y3_v2.0.0_redmapper_heidi_lgt20_copper_hpx8_523.hdf', '/data/des61.a/data/johnny/Buzzard/Buzzard_v2.0.0/y3_rm/tiles/buzzard_y3_v2.0.0_redmapper_heidi_lgt20_copper_hpx8_00523.hdf5')\n",
      "('/data/des61.a/data/johnny/Buzzard/Buzzard_v2.0.0/y3_rm/tiles/buzzard_y3_v2.0.0_redmapper_heidi_lgt20_copper_hpx8_281.hdf', '/data/des61.a/data/johnny/Buzzard/Buzzard_v2.0.0/y3_rm/tiles/buzzard_y3_v2.0.0_redmapper_heidi_lgt20_copper_hpx8_00281.hdf5')\n",
      "('/data/des61.a/data/johnny/Buzzard/Buzzard_v2.0.0/y3_rm/tiles/buzzard_y3_v2.0.0_redmapper_heidi_lgt20_copper_hpx8_524.hdf', '/data/des61.a/data/johnny/Buzzard/Buzzard_v2.0.0/y3_rm/tiles/buzzard_y3_v2.0.0_redmapper_heidi_lgt20_copper_hpx8_00524.hdf5')\n",
      "('/data/des61.a/data/johnny/Buzzard/Buzzard_v2.0.0/y3_rm/tiles/buzzard_y3_v2.0.0_redmapper_heidi_lgt20_copper_hpx8_282.hdf', '/data/des61.a/data/johnny/Buzzard/Buzzard_v2.0.0/y3_rm/tiles/buzzard_y3_v2.0.0_redmapper_heidi_lgt20_copper_hpx8_00282.hdf5')\n",
      "('/data/des61.a/data/johnny/Buzzard/Buzzard_v2.0.0/y3_rm/tiles/buzzard_y3_v2.0.0_redmapper_heidi_lgt20_copper_hpx8_525.hdf', '/data/des61.a/data/johnny/Buzzard/Buzzard_v2.0.0/y3_rm/tiles/buzzard_y3_v2.0.0_redmapper_heidi_lgt20_copper_hpx8_00525.hdf5')\n",
      "('/data/des61.a/data/johnny/Buzzard/Buzzard_v2.0.0/y3_rm/tiles/buzzard_y3_v2.0.0_redmapper_heidi_lgt20_copper_hpx8_283.hdf', '/data/des61.a/data/johnny/Buzzard/Buzzard_v2.0.0/y3_rm/tiles/buzzard_y3_v2.0.0_redmapper_heidi_lgt20_copper_hpx8_00283.hdf5')\n",
      "('/data/des61.a/data/johnny/Buzzard/Buzzard_v2.0.0/y3_rm/tiles/buzzard_y3_v2.0.0_redmapper_heidi_lgt20_copper_hpx8_526.hdf', '/data/des61.a/data/johnny/Buzzard/Buzzard_v2.0.0/y3_rm/tiles/buzzard_y3_v2.0.0_redmapper_heidi_lgt20_copper_hpx8_00526.hdf5')\n",
      "('/data/des61.a/data/johnny/Buzzard/Buzzard_v2.0.0/y3_rm/tiles/buzzard_y3_v2.0.0_redmapper_heidi_lgt20_copper_hpx8_284.hdf', '/data/des61.a/data/johnny/Buzzard/Buzzard_v2.0.0/y3_rm/tiles/buzzard_y3_v2.0.0_redmapper_heidi_lgt20_copper_hpx8_00284.hdf5')\n",
      "('/data/des61.a/data/johnny/Buzzard/Buzzard_v2.0.0/y3_rm/tiles/buzzard_y3_v2.0.0_redmapper_heidi_lgt20_copper_hpx8_527.hdf', '/data/des61.a/data/johnny/Buzzard/Buzzard_v2.0.0/y3_rm/tiles/buzzard_y3_v2.0.0_redmapper_heidi_lgt20_copper_hpx8_00527.hdf5')\n",
      "('/data/des61.a/data/johnny/Buzzard/Buzzard_v2.0.0/y3_rm/tiles/buzzard_y3_v2.0.0_redmapper_heidi_lgt20_copper_hpx8_291.hdf', '/data/des61.a/data/johnny/Buzzard/Buzzard_v2.0.0/y3_rm/tiles/buzzard_y3_v2.0.0_redmapper_heidi_lgt20_copper_hpx8_00291.hdf5')\n",
      "('/data/des61.a/data/johnny/Buzzard/Buzzard_v2.0.0/y3_rm/tiles/buzzard_y3_v2.0.0_redmapper_heidi_lgt20_copper_hpx8_528.hdf', '/data/des61.a/data/johnny/Buzzard/Buzzard_v2.0.0/y3_rm/tiles/buzzard_y3_v2.0.0_redmapper_heidi_lgt20_copper_hpx8_00528.hdf5')\n",
      "('/data/des61.a/data/johnny/Buzzard/Buzzard_v2.0.0/y3_rm/tiles/buzzard_y3_v2.0.0_redmapper_heidi_lgt20_copper_hpx8_292.hdf', '/data/des61.a/data/johnny/Buzzard/Buzzard_v2.0.0/y3_rm/tiles/buzzard_y3_v2.0.0_redmapper_heidi_lgt20_copper_hpx8_00292.hdf5')\n",
      "('/data/des61.a/data/johnny/Buzzard/Buzzard_v2.0.0/y3_rm/tiles/buzzard_y3_v2.0.0_redmapper_heidi_lgt20_copper_hpx8_529.hdf', '/data/des61.a/data/johnny/Buzzard/Buzzard_v2.0.0/y3_rm/tiles/buzzard_y3_v2.0.0_redmapper_heidi_lgt20_copper_hpx8_00529.hdf5')\n",
      "('/data/des61.a/data/johnny/Buzzard/Buzzard_v2.0.0/y3_rm/tiles/buzzard_y3_v2.0.0_redmapper_heidi_lgt20_copper_hpx8_293.hdf', '/data/des61.a/data/johnny/Buzzard/Buzzard_v2.0.0/y3_rm/tiles/buzzard_y3_v2.0.0_redmapper_heidi_lgt20_copper_hpx8_00293.hdf5')\n",
      "('/data/des61.a/data/johnny/Buzzard/Buzzard_v2.0.0/y3_rm/tiles/buzzard_y3_v2.0.0_redmapper_heidi_lgt20_copper_hpx8_530.hdf', '/data/des61.a/data/johnny/Buzzard/Buzzard_v2.0.0/y3_rm/tiles/buzzard_y3_v2.0.0_redmapper_heidi_lgt20_copper_hpx8_00530.hdf5')\n",
      "('/data/des61.a/data/johnny/Buzzard/Buzzard_v2.0.0/y3_rm/tiles/buzzard_y3_v2.0.0_redmapper_heidi_lgt20_copper_hpx8_294.hdf', '/data/des61.a/data/johnny/Buzzard/Buzzard_v2.0.0/y3_rm/tiles/buzzard_y3_v2.0.0_redmapper_heidi_lgt20_copper_hpx8_00294.hdf5')\n",
      "('/data/des61.a/data/johnny/Buzzard/Buzzard_v2.0.0/y3_rm/tiles/buzzard_y3_v2.0.0_redmapper_heidi_lgt20_copper_hpx8_297.hdf', '/data/des61.a/data/johnny/Buzzard/Buzzard_v2.0.0/y3_rm/tiles/buzzard_y3_v2.0.0_redmapper_heidi_lgt20_copper_hpx8_00297.hdf5')\n",
      "('/data/des61.a/data/johnny/Buzzard/Buzzard_v2.0.0/y3_rm/tiles/buzzard_y3_v2.0.0_redmapper_heidi_lgt20_copper_hpx8_298.hdf', '/data/des61.a/data/johnny/Buzzard/Buzzard_v2.0.0/y3_rm/tiles/buzzard_y3_v2.0.0_redmapper_heidi_lgt20_copper_hpx8_00298.hdf5')\n",
      "('/data/des61.a/data/johnny/Buzzard/Buzzard_v2.0.0/y3_rm/tiles/buzzard_y3_v2.0.0_redmapper_heidi_lgt20_copper_hpx8_531.hdf', '/data/des61.a/data/johnny/Buzzard/Buzzard_v2.0.0/y3_rm/tiles/buzzard_y3_v2.0.0_redmapper_heidi_lgt20_copper_hpx8_00531.hdf5')\n",
      "('/data/des61.a/data/johnny/Buzzard/Buzzard_v2.0.0/y3_rm/tiles/buzzard_y3_v2.0.0_redmapper_heidi_lgt20_copper_hpx8_532.hdf', '/data/des61.a/data/johnny/Buzzard/Buzzard_v2.0.0/y3_rm/tiles/buzzard_y3_v2.0.0_redmapper_heidi_lgt20_copper_hpx8_00532.hdf5')\n",
      "('/data/des61.a/data/johnny/Buzzard/Buzzard_v2.0.0/y3_rm/tiles/buzzard_y3_v2.0.0_redmapper_heidi_lgt20_copper_hpx8_533.hdf', '/data/des61.a/data/johnny/Buzzard/Buzzard_v2.0.0/y3_rm/tiles/buzzard_y3_v2.0.0_redmapper_heidi_lgt20_copper_hpx8_00533.hdf5')\n",
      "('/data/des61.a/data/johnny/Buzzard/Buzzard_v2.0.0/y3_rm/tiles/buzzard_y3_v2.0.0_redmapper_heidi_lgt20_copper_hpx8_534.hdf', '/data/des61.a/data/johnny/Buzzard/Buzzard_v2.0.0/y3_rm/tiles/buzzard_y3_v2.0.0_redmapper_heidi_lgt20_copper_hpx8_00534.hdf5')\n"
     ]
    },
    {
     "name": "stdout",
     "output_type": "stream",
     "text": [
      "('/data/des61.a/data/johnny/Buzzard/Buzzard_v2.0.0/y3_rm/tiles/buzzard_y3_v2.0.0_redmapper_heidi_lgt20_copper_hpx8_535.hdf', '/data/des61.a/data/johnny/Buzzard/Buzzard_v2.0.0/y3_rm/tiles/buzzard_y3_v2.0.0_redmapper_heidi_lgt20_copper_hpx8_00535.hdf5')\n",
      "('/data/des61.a/data/johnny/Buzzard/Buzzard_v2.0.0/y3_rm/tiles/buzzard_y3_v2.0.0_redmapper_heidi_lgt20_copper_hpx8_536.hdf', '/data/des61.a/data/johnny/Buzzard/Buzzard_v2.0.0/y3_rm/tiles/buzzard_y3_v2.0.0_redmapper_heidi_lgt20_copper_hpx8_00536.hdf5')\n",
      "('/data/des61.a/data/johnny/Buzzard/Buzzard_v2.0.0/y3_rm/tiles/buzzard_y3_v2.0.0_redmapper_heidi_lgt20_copper_hpx8_537.hdf', '/data/des61.a/data/johnny/Buzzard/Buzzard_v2.0.0/y3_rm/tiles/buzzard_y3_v2.0.0_redmapper_heidi_lgt20_copper_hpx8_00537.hdf5')\n",
      "('/data/des61.a/data/johnny/Buzzard/Buzzard_v2.0.0/y3_rm/tiles/buzzard_y3_v2.0.0_redmapper_heidi_lgt20_copper_hpx8_538.hdf', '/data/des61.a/data/johnny/Buzzard/Buzzard_v2.0.0/y3_rm/tiles/buzzard_y3_v2.0.0_redmapper_heidi_lgt20_copper_hpx8_00538.hdf5')\n",
      "('/data/des61.a/data/johnny/Buzzard/Buzzard_v2.0.0/y3_rm/tiles/buzzard_y3_v2.0.0_redmapper_heidi_lgt20_copper_hpx8_539.hdf', '/data/des61.a/data/johnny/Buzzard/Buzzard_v2.0.0/y3_rm/tiles/buzzard_y3_v2.0.0_redmapper_heidi_lgt20_copper_hpx8_00539.hdf5')\n",
      "('/data/des61.a/data/johnny/Buzzard/Buzzard_v2.0.0/y3_rm/tiles/buzzard_y3_v2.0.0_redmapper_heidi_lgt20_copper_hpx8_540.hdf', '/data/des61.a/data/johnny/Buzzard/Buzzard_v2.0.0/y3_rm/tiles/buzzard_y3_v2.0.0_redmapper_heidi_lgt20_copper_hpx8_00540.hdf5')\n",
      "('/data/des61.a/data/johnny/Buzzard/Buzzard_v2.0.0/y3_rm/tiles/buzzard_y3_v2.0.0_redmapper_heidi_lgt20_copper_hpx8_541.hdf', '/data/des61.a/data/johnny/Buzzard/Buzzard_v2.0.0/y3_rm/tiles/buzzard_y3_v2.0.0_redmapper_heidi_lgt20_copper_hpx8_00541.hdf5')\n",
      "('/data/des61.a/data/johnny/Buzzard/Buzzard_v2.0.0/y3_rm/tiles/buzzard_y3_v2.0.0_redmapper_heidi_lgt20_copper_hpx8_542.hdf', '/data/des61.a/data/johnny/Buzzard/Buzzard_v2.0.0/y3_rm/tiles/buzzard_y3_v2.0.0_redmapper_heidi_lgt20_copper_hpx8_00542.hdf5')\n",
      "('/data/des61.a/data/johnny/Buzzard/Buzzard_v2.0.0/y3_rm/tiles/buzzard_y3_v2.0.0_redmapper_heidi_lgt20_copper_hpx8_543.hdf', '/data/des61.a/data/johnny/Buzzard/Buzzard_v2.0.0/y3_rm/tiles/buzzard_y3_v2.0.0_redmapper_heidi_lgt20_copper_hpx8_00543.hdf5')\n",
      "('/data/des61.a/data/johnny/Buzzard/Buzzard_v2.0.0/y3_rm/tiles/buzzard_y3_v2.0.0_redmapper_heidi_lgt20_copper_hpx8_544.hdf', '/data/des61.a/data/johnny/Buzzard/Buzzard_v2.0.0/y3_rm/tiles/buzzard_y3_v2.0.0_redmapper_heidi_lgt20_copper_hpx8_00544.hdf5')\n",
      "('/data/des61.a/data/johnny/Buzzard/Buzzard_v2.0.0/y3_rm/tiles/buzzard_y3_v2.0.0_redmapper_heidi_lgt20_copper_hpx8_545.hdf', '/data/des61.a/data/johnny/Buzzard/Buzzard_v2.0.0/y3_rm/tiles/buzzard_y3_v2.0.0_redmapper_heidi_lgt20_copper_hpx8_00545.hdf5')\n",
      "('/data/des61.a/data/johnny/Buzzard/Buzzard_v2.0.0/y3_rm/tiles/buzzard_y3_v2.0.0_redmapper_heidi_lgt20_copper_hpx8_546.hdf', '/data/des61.a/data/johnny/Buzzard/Buzzard_v2.0.0/y3_rm/tiles/buzzard_y3_v2.0.0_redmapper_heidi_lgt20_copper_hpx8_00546.hdf5')\n",
      "('/data/des61.a/data/johnny/Buzzard/Buzzard_v2.0.0/y3_rm/tiles/buzzard_y3_v2.0.0_redmapper_heidi_lgt20_copper_hpx8_547.hdf', '/data/des61.a/data/johnny/Buzzard/Buzzard_v2.0.0/y3_rm/tiles/buzzard_y3_v2.0.0_redmapper_heidi_lgt20_copper_hpx8_00547.hdf5')\n",
      "('/data/des61.a/data/johnny/Buzzard/Buzzard_v2.0.0/y3_rm/tiles/buzzard_y3_v2.0.0_redmapper_heidi_lgt20_copper_hpx8_548.hdf', '/data/des61.a/data/johnny/Buzzard/Buzzard_v2.0.0/y3_rm/tiles/buzzard_y3_v2.0.0_redmapper_heidi_lgt20_copper_hpx8_00548.hdf5')\n",
      "('/data/des61.a/data/johnny/Buzzard/Buzzard_v2.0.0/y3_rm/tiles/buzzard_y3_v2.0.0_redmapper_heidi_lgt20_copper_hpx8_549.hdf', '/data/des61.a/data/johnny/Buzzard/Buzzard_v2.0.0/y3_rm/tiles/buzzard_y3_v2.0.0_redmapper_heidi_lgt20_copper_hpx8_00549.hdf5')\n",
      "('/data/des61.a/data/johnny/Buzzard/Buzzard_v2.0.0/y3_rm/tiles/buzzard_y3_v2.0.0_redmapper_heidi_lgt20_copper_hpx8_550.hdf', '/data/des61.a/data/johnny/Buzzard/Buzzard_v2.0.0/y3_rm/tiles/buzzard_y3_v2.0.0_redmapper_heidi_lgt20_copper_hpx8_00550.hdf5')\n",
      "('/data/des61.a/data/johnny/Buzzard/Buzzard_v2.0.0/y3_rm/tiles/buzzard_y3_v2.0.0_redmapper_heidi_lgt20_copper_hpx8_551.hdf', '/data/des61.a/data/johnny/Buzzard/Buzzard_v2.0.0/y3_rm/tiles/buzzard_y3_v2.0.0_redmapper_heidi_lgt20_copper_hpx8_00551.hdf5')\n",
      "('/data/des61.a/data/johnny/Buzzard/Buzzard_v2.0.0/y3_rm/tiles/buzzard_y3_v2.0.0_redmapper_heidi_lgt20_copper_hpx8_552.hdf', '/data/des61.a/data/johnny/Buzzard/Buzzard_v2.0.0/y3_rm/tiles/buzzard_y3_v2.0.0_redmapper_heidi_lgt20_copper_hpx8_00552.hdf5')\n",
      "('/data/des61.a/data/johnny/Buzzard/Buzzard_v2.0.0/y3_rm/tiles/buzzard_y3_v2.0.0_redmapper_heidi_lgt20_copper_hpx8_553.hdf', '/data/des61.a/data/johnny/Buzzard/Buzzard_v2.0.0/y3_rm/tiles/buzzard_y3_v2.0.0_redmapper_heidi_lgt20_copper_hpx8_00553.hdf5')\n",
      "('/data/des61.a/data/johnny/Buzzard/Buzzard_v2.0.0/y3_rm/tiles/buzzard_y3_v2.0.0_redmapper_heidi_lgt20_copper_hpx8_554.hdf', '/data/des61.a/data/johnny/Buzzard/Buzzard_v2.0.0/y3_rm/tiles/buzzard_y3_v2.0.0_redmapper_heidi_lgt20_copper_hpx8_00554.hdf5')\n",
      "('/data/des61.a/data/johnny/Buzzard/Buzzard_v2.0.0/y3_rm/tiles/buzzard_y3_v2.0.0_redmapper_heidi_lgt20_copper_hpx8_555.hdf', '/data/des61.a/data/johnny/Buzzard/Buzzard_v2.0.0/y3_rm/tiles/buzzard_y3_v2.0.0_redmapper_heidi_lgt20_copper_hpx8_00555.hdf5')\n",
      "('/data/des61.a/data/johnny/Buzzard/Buzzard_v2.0.0/y3_rm/tiles/buzzard_y3_v2.0.0_redmapper_heidi_lgt20_copper_hpx8_556.hdf', '/data/des61.a/data/johnny/Buzzard/Buzzard_v2.0.0/y3_rm/tiles/buzzard_y3_v2.0.0_redmapper_heidi_lgt20_copper_hpx8_00556.hdf5')\n",
      "('/data/des61.a/data/johnny/Buzzard/Buzzard_v2.0.0/y3_rm/tiles/buzzard_y3_v2.0.0_redmapper_heidi_lgt20_copper_hpx8_557.hdf', '/data/des61.a/data/johnny/Buzzard/Buzzard_v2.0.0/y3_rm/tiles/buzzard_y3_v2.0.0_redmapper_heidi_lgt20_copper_hpx8_00557.hdf5')\n",
      "('/data/des61.a/data/johnny/Buzzard/Buzzard_v2.0.0/y3_rm/tiles/buzzard_y3_v2.0.0_redmapper_heidi_lgt20_copper_hpx8_558.hdf', '/data/des61.a/data/johnny/Buzzard/Buzzard_v2.0.0/y3_rm/tiles/buzzard_y3_v2.0.0_redmapper_heidi_lgt20_copper_hpx8_00558.hdf5')\n",
      "('/data/des61.a/data/johnny/Buzzard/Buzzard_v2.0.0/y3_rm/tiles/buzzard_y3_v2.0.0_redmapper_heidi_lgt20_copper_hpx8_559.hdf', '/data/des61.a/data/johnny/Buzzard/Buzzard_v2.0.0/y3_rm/tiles/buzzard_y3_v2.0.0_redmapper_heidi_lgt20_copper_hpx8_00559.hdf5')\n",
      "('/data/des61.a/data/johnny/Buzzard/Buzzard_v2.0.0/y3_rm/tiles/buzzard_y3_v2.0.0_redmapper_heidi_lgt20_copper_hpx8_560.hdf', '/data/des61.a/data/johnny/Buzzard/Buzzard_v2.0.0/y3_rm/tiles/buzzard_y3_v2.0.0_redmapper_heidi_lgt20_copper_hpx8_00560.hdf5')\n",
      "('/data/des61.a/data/johnny/Buzzard/Buzzard_v2.0.0/y3_rm/tiles/buzzard_y3_v2.0.0_redmapper_heidi_lgt20_copper_hpx8_561.hdf', '/data/des61.a/data/johnny/Buzzard/Buzzard_v2.0.0/y3_rm/tiles/buzzard_y3_v2.0.0_redmapper_heidi_lgt20_copper_hpx8_00561.hdf5')\n",
      "('/data/des61.a/data/johnny/Buzzard/Buzzard_v2.0.0/y3_rm/tiles/buzzard_y3_v2.0.0_redmapper_heidi_lgt20_copper_hpx8_562.hdf', '/data/des61.a/data/johnny/Buzzard/Buzzard_v2.0.0/y3_rm/tiles/buzzard_y3_v2.0.0_redmapper_heidi_lgt20_copper_hpx8_00562.hdf5')\n",
      "('/data/des61.a/data/johnny/Buzzard/Buzzard_v2.0.0/y3_rm/tiles/buzzard_y3_v2.0.0_redmapper_heidi_lgt20_copper_hpx8_563.hdf', '/data/des61.a/data/johnny/Buzzard/Buzzard_v2.0.0/y3_rm/tiles/buzzard_y3_v2.0.0_redmapper_heidi_lgt20_copper_hpx8_00563.hdf5')\n",
      "('/data/des61.a/data/johnny/Buzzard/Buzzard_v2.0.0/y3_rm/tiles/buzzard_y3_v2.0.0_redmapper_heidi_lgt20_copper_hpx8_564.hdf', '/data/des61.a/data/johnny/Buzzard/Buzzard_v2.0.0/y3_rm/tiles/buzzard_y3_v2.0.0_redmapper_heidi_lgt20_copper_hpx8_00564.hdf5')\n",
      "('/data/des61.a/data/johnny/Buzzard/Buzzard_v2.0.0/y3_rm/tiles/buzzard_y3_v2.0.0_redmapper_heidi_lgt20_copper_hpx8_565.hdf', '/data/des61.a/data/johnny/Buzzard/Buzzard_v2.0.0/y3_rm/tiles/buzzard_y3_v2.0.0_redmapper_heidi_lgt20_copper_hpx8_00565.hdf5')\n",
      "('/data/des61.a/data/johnny/Buzzard/Buzzard_v2.0.0/y3_rm/tiles/buzzard_y3_v2.0.0_redmapper_heidi_lgt20_copper_hpx8_566.hdf', '/data/des61.a/data/johnny/Buzzard/Buzzard_v2.0.0/y3_rm/tiles/buzzard_y3_v2.0.0_redmapper_heidi_lgt20_copper_hpx8_00566.hdf5')\n",
      "('/data/des61.a/data/johnny/Buzzard/Buzzard_v2.0.0/y3_rm/tiles/buzzard_y3_v2.0.0_redmapper_heidi_lgt20_copper_hpx8_567.hdf', '/data/des61.a/data/johnny/Buzzard/Buzzard_v2.0.0/y3_rm/tiles/buzzard_y3_v2.0.0_redmapper_heidi_lgt20_copper_hpx8_00567.hdf5')\n",
      "('/data/des61.a/data/johnny/Buzzard/Buzzard_v2.0.0/y3_rm/tiles/buzzard_y3_v2.0.0_redmapper_heidi_lgt20_copper_hpx8_568.hdf', '/data/des61.a/data/johnny/Buzzard/Buzzard_v2.0.0/y3_rm/tiles/buzzard_y3_v2.0.0_redmapper_heidi_lgt20_copper_hpx8_00568.hdf5')\n",
      "('/data/des61.a/data/johnny/Buzzard/Buzzard_v2.0.0/y3_rm/tiles/buzzard_y3_v2.0.0_redmapper_heidi_lgt20_copper_hpx8_569.hdf', '/data/des61.a/data/johnny/Buzzard/Buzzard_v2.0.0/y3_rm/tiles/buzzard_y3_v2.0.0_redmapper_heidi_lgt20_copper_hpx8_00569.hdf5')\n",
      "('/data/des61.a/data/johnny/Buzzard/Buzzard_v2.0.0/y3_rm/tiles/buzzard_y3_v2.0.0_redmapper_heidi_lgt20_copper_hpx8_570.hdf', '/data/des61.a/data/johnny/Buzzard/Buzzard_v2.0.0/y3_rm/tiles/buzzard_y3_v2.0.0_redmapper_heidi_lgt20_copper_hpx8_00570.hdf5')\n",
      "('/data/des61.a/data/johnny/Buzzard/Buzzard_v2.0.0/y3_rm/tiles/buzzard_y3_v2.0.0_redmapper_heidi_lgt20_copper_hpx8_571.hdf', '/data/des61.a/data/johnny/Buzzard/Buzzard_v2.0.0/y3_rm/tiles/buzzard_y3_v2.0.0_redmapper_heidi_lgt20_copper_hpx8_00571.hdf5')\n",
      "('/data/des61.a/data/johnny/Buzzard/Buzzard_v2.0.0/y3_rm/tiles/buzzard_y3_v2.0.0_redmapper_heidi_lgt20_copper_hpx8_572.hdf', '/data/des61.a/data/johnny/Buzzard/Buzzard_v2.0.0/y3_rm/tiles/buzzard_y3_v2.0.0_redmapper_heidi_lgt20_copper_hpx8_00572.hdf5')\n",
      "('/data/des61.a/data/johnny/Buzzard/Buzzard_v2.0.0/y3_rm/tiles/buzzard_y3_v2.0.0_redmapper_heidi_lgt20_copper_hpx8_573.hdf', '/data/des61.a/data/johnny/Buzzard/Buzzard_v2.0.0/y3_rm/tiles/buzzard_y3_v2.0.0_redmapper_heidi_lgt20_copper_hpx8_00573.hdf5')\n",
      "('/data/des61.a/data/johnny/Buzzard/Buzzard_v2.0.0/y3_rm/tiles/buzzard_y3_v2.0.0_redmapper_heidi_lgt20_copper_hpx8_574.hdf', '/data/des61.a/data/johnny/Buzzard/Buzzard_v2.0.0/y3_rm/tiles/buzzard_y3_v2.0.0_redmapper_heidi_lgt20_copper_hpx8_00574.hdf5')\n",
      "('/data/des61.a/data/johnny/Buzzard/Buzzard_v2.0.0/y3_rm/tiles/buzzard_y3_v2.0.0_redmapper_heidi_lgt20_copper_hpx8_575.hdf', '/data/des61.a/data/johnny/Buzzard/Buzzard_v2.0.0/y3_rm/tiles/buzzard_y3_v2.0.0_redmapper_heidi_lgt20_copper_hpx8_00575.hdf5')\n",
      "('/data/des61.a/data/johnny/Buzzard/Buzzard_v2.0.0/y3_rm/tiles/buzzard_y3_v2.0.0_redmapper_heidi_lgt20_copper_hpx8_610.hdf', '/data/des61.a/data/johnny/Buzzard/Buzzard_v2.0.0/y3_rm/tiles/buzzard_y3_v2.0.0_redmapper_heidi_lgt20_copper_hpx8_00610.hdf5')\n",
      "('/data/des61.a/data/johnny/Buzzard/Buzzard_v2.0.0/y3_rm/tiles/buzzard_y3_v2.0.0_redmapper_heidi_lgt20_copper_hpx8_616.hdf', '/data/des61.a/data/johnny/Buzzard/Buzzard_v2.0.0/y3_rm/tiles/buzzard_y3_v2.0.0_redmapper_heidi_lgt20_copper_hpx8_00616.hdf5')\n",
      "('/data/des61.a/data/johnny/Buzzard/Buzzard_v2.0.0/y3_rm/tiles/buzzard_y3_v2.0.0_redmapper_heidi_lgt20_copper_hpx8_618.hdf', '/data/des61.a/data/johnny/Buzzard/Buzzard_v2.0.0/y3_rm/tiles/buzzard_y3_v2.0.0_redmapper_heidi_lgt20_copper_hpx8_00618.hdf5')\n",
      "('/data/des61.a/data/johnny/Buzzard/Buzzard_v2.0.0/y3_rm/tiles/buzzard_y3_v2.0.0_redmapper_heidi_lgt20_copper_hpx8_709.hdf', '/data/des61.a/data/johnny/Buzzard/Buzzard_v2.0.0/y3_rm/tiles/buzzard_y3_v2.0.0_redmapper_heidi_lgt20_copper_hpx8_00709.hdf5')\n",
      "('/data/des61.a/data/johnny/Buzzard/Buzzard_v2.0.0/y3_rm/tiles/buzzard_y3_v2.0.0_redmapper_heidi_lgt20_copper_hpx8_710.hdf', '/data/des61.a/data/johnny/Buzzard/Buzzard_v2.0.0/y3_rm/tiles/buzzard_y3_v2.0.0_redmapper_heidi_lgt20_copper_hpx8_00710.hdf5')\n",
      "('/data/des61.a/data/johnny/Buzzard/Buzzard_v2.0.0/y3_rm/tiles/buzzard_y3_v2.0.0_redmapper_heidi_lgt20_copper_hpx8_711.hdf', '/data/des61.a/data/johnny/Buzzard/Buzzard_v2.0.0/y3_rm/tiles/buzzard_y3_v2.0.0_redmapper_heidi_lgt20_copper_hpx8_00711.hdf5')\n",
      "('/data/des61.a/data/johnny/Buzzard/Buzzard_v2.0.0/y3_rm/tiles/buzzard_y3_v2.0.0_redmapper_heidi_lgt20_copper_hpx8_713.hdf', '/data/des61.a/data/johnny/Buzzard/Buzzard_v2.0.0/y3_rm/tiles/buzzard_y3_v2.0.0_redmapper_heidi_lgt20_copper_hpx8_00713.hdf5')\n",
      "('/data/des61.a/data/johnny/Buzzard/Buzzard_v2.0.0/y3_rm/tiles/buzzard_y3_v2.0.0_redmapper_heidi_lgt20_copper_hpx8_715.hdf', '/data/des61.a/data/johnny/Buzzard/Buzzard_v2.0.0/y3_rm/tiles/buzzard_y3_v2.0.0_redmapper_heidi_lgt20_copper_hpx8_00715.hdf5')\n",
      "('/data/des61.a/data/johnny/Buzzard/Buzzard_v2.0.0/y3_rm/tiles/buzzard_y3_v2.0.0_redmapper_heidi_lgt20_copper_hpx8_716.hdf', '/data/des61.a/data/johnny/Buzzard/Buzzard_v2.0.0/y3_rm/tiles/buzzard_y3_v2.0.0_redmapper_heidi_lgt20_copper_hpx8_00716.hdf5')\n",
      "('/data/des61.a/data/johnny/Buzzard/Buzzard_v2.0.0/y3_rm/tiles/buzzard_y3_v2.0.0_redmapper_heidi_lgt20_copper_hpx8_717.hdf', '/data/des61.a/data/johnny/Buzzard/Buzzard_v2.0.0/y3_rm/tiles/buzzard_y3_v2.0.0_redmapper_heidi_lgt20_copper_hpx8_00717.hdf5')\n",
      "('/data/des61.a/data/johnny/Buzzard/Buzzard_v2.0.0/y3_rm/tiles/buzzard_y3_v2.0.0_redmapper_heidi_lgt20_copper_hpx8_718.hdf', '/data/des61.a/data/johnny/Buzzard/Buzzard_v2.0.0/y3_rm/tiles/buzzard_y3_v2.0.0_redmapper_heidi_lgt20_copper_hpx8_00718.hdf5')\n",
      "('/data/des61.a/data/johnny/Buzzard/Buzzard_v2.0.0/y3_rm/tiles/buzzard_y3_v2.0.0_redmapper_heidi_lgt20_copper_hpx8_719.hdf', '/data/des61.a/data/johnny/Buzzard/Buzzard_v2.0.0/y3_rm/tiles/buzzard_y3_v2.0.0_redmapper_heidi_lgt20_copper_hpx8_00719.hdf5')\n",
      "('/data/des61.a/data/johnny/Buzzard/Buzzard_v2.0.0/y3_rm/tiles/buzzard_y3_v2.0.0_redmapper_heidi_lgt20_copper_hpx8_720.hdf', '/data/des61.a/data/johnny/Buzzard/Buzzard_v2.0.0/y3_rm/tiles/buzzard_y3_v2.0.0_redmapper_heidi_lgt20_copper_hpx8_00720.hdf5')\n",
      "('/data/des61.a/data/johnny/Buzzard/Buzzard_v2.0.0/y3_rm/tiles/buzzard_y3_v2.0.0_redmapper_heidi_lgt20_copper_hpx8_721.hdf', '/data/des61.a/data/johnny/Buzzard/Buzzard_v2.0.0/y3_rm/tiles/buzzard_y3_v2.0.0_redmapper_heidi_lgt20_copper_hpx8_00721.hdf5')\n",
      "('/data/des61.a/data/johnny/Buzzard/Buzzard_v2.0.0/y3_rm/tiles/buzzard_y3_v2.0.0_redmapper_heidi_lgt20_copper_hpx8_722.hdf', '/data/des61.a/data/johnny/Buzzard/Buzzard_v2.0.0/y3_rm/tiles/buzzard_y3_v2.0.0_redmapper_heidi_lgt20_copper_hpx8_00722.hdf5')\n",
      "('/data/des61.a/data/johnny/Buzzard/Buzzard_v2.0.0/y3_rm/tiles/buzzard_y3_v2.0.0_redmapper_heidi_lgt20_copper_hpx8_723.hdf', '/data/des61.a/data/johnny/Buzzard/Buzzard_v2.0.0/y3_rm/tiles/buzzard_y3_v2.0.0_redmapper_heidi_lgt20_copper_hpx8_00723.hdf5')\n"
     ]
    },
    {
     "name": "stdout",
     "output_type": "stream",
     "text": [
      "('/data/des61.a/data/johnny/Buzzard/Buzzard_v2.0.0/y3_rm/tiles/buzzard_y3_v2.0.0_redmapper_heidi_lgt20_copper_hpx8_724.hdf', '/data/des61.a/data/johnny/Buzzard/Buzzard_v2.0.0/y3_rm/tiles/buzzard_y3_v2.0.0_redmapper_heidi_lgt20_copper_hpx8_00724.hdf5')\n",
      "('/data/des61.a/data/johnny/Buzzard/Buzzard_v2.0.0/y3_rm/tiles/buzzard_y3_v2.0.0_redmapper_heidi_lgt20_copper_hpx8_725.hdf', '/data/des61.a/data/johnny/Buzzard/Buzzard_v2.0.0/y3_rm/tiles/buzzard_y3_v2.0.0_redmapper_heidi_lgt20_copper_hpx8_00725.hdf5')\n",
      "('/data/des61.a/data/johnny/Buzzard/Buzzard_v2.0.0/y3_rm/tiles/buzzard_y3_v2.0.0_redmapper_heidi_lgt20_copper_hpx8_726.hdf', '/data/des61.a/data/johnny/Buzzard/Buzzard_v2.0.0/y3_rm/tiles/buzzard_y3_v2.0.0_redmapper_heidi_lgt20_copper_hpx8_00726.hdf5')\n",
      "('/data/des61.a/data/johnny/Buzzard/Buzzard_v2.0.0/y3_rm/tiles/buzzard_y3_v2.0.0_redmapper_heidi_lgt20_copper_hpx8_728.hdf', '/data/des61.a/data/johnny/Buzzard/Buzzard_v2.0.0/y3_rm/tiles/buzzard_y3_v2.0.0_redmapper_heidi_lgt20_copper_hpx8_00728.hdf5')\n",
      "('/data/des61.a/data/johnny/Buzzard/Buzzard_v2.0.0/y3_rm/tiles/buzzard_y3_v2.0.0_redmapper_heidi_lgt20_copper_hpx8_729.hdf', '/data/des61.a/data/johnny/Buzzard/Buzzard_v2.0.0/y3_rm/tiles/buzzard_y3_v2.0.0_redmapper_heidi_lgt20_copper_hpx8_00729.hdf5')\n",
      "('/data/des61.a/data/johnny/Buzzard/Buzzard_v2.0.0/y3_rm/tiles/buzzard_y3_v2.0.0_redmapper_heidi_lgt20_copper_hpx8_730.hdf', '/data/des61.a/data/johnny/Buzzard/Buzzard_v2.0.0/y3_rm/tiles/buzzard_y3_v2.0.0_redmapper_heidi_lgt20_copper_hpx8_00730.hdf5')\n",
      "('/data/des61.a/data/johnny/Buzzard/Buzzard_v2.0.0/y3_rm/tiles/buzzard_y3_v2.0.0_redmapper_heidi_lgt20_copper_hpx8_731.hdf', '/data/des61.a/data/johnny/Buzzard/Buzzard_v2.0.0/y3_rm/tiles/buzzard_y3_v2.0.0_redmapper_heidi_lgt20_copper_hpx8_00731.hdf5')\n",
      "('/data/des61.a/data/johnny/Buzzard/Buzzard_v2.0.0/y3_rm/tiles/buzzard_y3_v2.0.0_redmapper_heidi_lgt20_copper_hpx8_740.hdf', '/data/des61.a/data/johnny/Buzzard/Buzzard_v2.0.0/y3_rm/tiles/buzzard_y3_v2.0.0_redmapper_heidi_lgt20_copper_hpx8_00740.hdf5')\n",
      "('/data/des61.a/data/johnny/Buzzard/Buzzard_v2.0.0/y3_rm/tiles/buzzard_y3_v2.0.0_redmapper_heidi_lgt20_copper_hpx8_741.hdf', '/data/des61.a/data/johnny/Buzzard/Buzzard_v2.0.0/y3_rm/tiles/buzzard_y3_v2.0.0_redmapper_heidi_lgt20_copper_hpx8_00741.hdf5')\n"
     ]
    }
   ],
   "source": [
    "base_name = '/data/des61.a/data/johnny/Buzzard/Buzzard_v2.0.0/y3_rm/tiles/buzzard_y3_v2.0.0_redmapper_heidi_lgt20_copper_hpx8_{:05d}.hdf5'\n",
    "rename_files(base_name,files)"
   ]
  },
  {
   "cell_type": "code",
   "execution_count": null,
   "metadata": {},
   "outputs": [],
   "source": []
  }
 ],
 "metadata": {
  "kernelspec": {
   "display_name": "Python 2",
   "language": "python",
   "name": "python2"
  },
  "language_info": {
   "codemirror_mode": {
    "name": "ipython",
    "version": 2
   },
   "file_extension": ".py",
   "mimetype": "text/x-python",
   "name": "python",
   "nbconvert_exporter": "python",
   "pygments_lexer": "ipython2",
   "version": "2.7.15"
  }
 },
 "nbformat": 4,
 "nbformat_minor": 4
}
