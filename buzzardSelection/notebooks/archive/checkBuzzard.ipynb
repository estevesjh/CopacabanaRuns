{
 "cells": [
  {
   "cell_type": "markdown",
   "metadata": {},
   "source": [
    "## Check Buzzard Sample"
   ]
  },
  {
   "cell_type": "code",
   "execution_count": 1,
   "metadata": {},
   "outputs": [],
   "source": [
    "import numpy as np\n",
    "from astropy.table import Table, vstack\n",
    "import healpy as hp\n",
    "\n",
    "from astropy.io.fits import getdata\n",
    "from astropy.io import fits as pyfits\n",
    "import matplotlib.pyplot as plt"
   ]
  },
  {
   "cell_type": "code",
   "execution_count": 2,
   "metadata": {},
   "outputs": [],
   "source": [
    "## setup\n",
    "################\n",
    "Nlarge = 2000 ## Number of GC\n",
    "\n",
    "zmin = 0.10\n",
    "zmax = 0.9\n",
    "mass_min = 1e12\n",
    "################"
   ]
  },
  {
   "cell_type": "code",
   "execution_count": 3,
   "metadata": {},
   "outputs": [],
   "source": [
    "outdir = '/global/project/projectdirs/des/jesteves/buzzardSelection/v2.0.0/'\n",
    "\n",
    "fileprefix = 'buzzard_v2.0.0_{}.fits' \n",
    "file_cls   = outdir+fileprefix.format('halos_hod')"
   ]
  },
  {
   "cell_type": "code",
   "execution_count": 4,
   "metadata": {},
   "outputs": [],
   "source": [
    "cat = Table(getdata(file_cls))"
   ]
  },
  {
   "cell_type": "code",
   "execution_count": null,
   "metadata": {},
   "outputs": [],
   "source": []
  },
  {
   "cell_type": "code",
   "execution_count": 6,
   "metadata": {},
   "outputs": [],
   "source": [
    "import GCRCatalogs"
   ]
  },
  {
   "cell_type": "code",
   "execution_count": 7,
   "metadata": {},
   "outputs": [
    {
     "data": {
      "text/plain": [
       "['buzzard',\n",
       " 'buzzard_high-res',\n",
       " 'buzzard_high-res_v1.1',\n",
       " 'buzzard_test',\n",
       " 'buzzard_v2.0.0_3',\n",
       " 'buzzard_v2.0.0_4',\n",
       " 'buzzard_v2.0.0_test']"
      ]
     },
     "execution_count": 7,
     "metadata": {},
     "output_type": "execute_result"
    }
   ],
   "source": [
    "# List all catalogs whose names start with the word \"buzzard\"\n",
    "GCRCatalogs.get_available_catalog_names(include_default_only=False, name_startswith=\"buzzard\")"
   ]
  },
  {
   "cell_type": "code",
   "execution_count": 8,
   "metadata": {},
   "outputs": [],
   "source": [
    "gc = GCRCatalogs.load_catalog('buzzard_v2.0.0_3')"
   ]
  },
  {
   "cell_type": "code",
   "execution_count": 15,
   "metadata": {},
   "outputs": [
    {
     "name": "stdout",
     "output_type": "stream",
     "text": [
      "auxmag/AMAG/0\n",
      "auxmag/AMAG/1\n",
      "auxmag/AMAG/10\n",
      "auxmag/AMAG/11\n",
      "auxmag/AMAG/12\n",
      "auxmag/AMAG/13\n",
      "auxmag/AMAG/14\n",
      "auxmag/AMAG/15\n",
      "auxmag/AMAG/16\n",
      "auxmag/AMAG/17\n",
      "auxmag/AMAG/18\n",
      "auxmag/AMAG/19\n",
      "auxmag/AMAG/2\n",
      "auxmag/AMAG/20\n",
      "auxmag/AMAG/3\n",
      "auxmag/AMAG/4\n",
      "auxmag/AMAG/5\n",
      "auxmag/AMAG/6\n",
      "auxmag/AMAG/7\n",
      "auxmag/AMAG/8\n",
      "auxmag/AMAG/9\n",
      "auxmag/FLUX/0\n",
      "auxmag/FLUX/1\n",
      "auxmag/FLUX/10\n",
      "auxmag/FLUX/11\n",
      "auxmag/FLUX/12\n",
      "auxmag/FLUX/13\n",
      "auxmag/FLUX/14\n",
      "auxmag/FLUX/15\n",
      "auxmag/FLUX/16\n",
      "auxmag/FLUX/17\n",
      "auxmag/FLUX/18\n",
      "auxmag/FLUX/19\n",
      "auxmag/FLUX/2\n",
      "auxmag/FLUX/20\n",
      "auxmag/FLUX/3\n",
      "auxmag/FLUX/4\n",
      "auxmag/FLUX/5\n",
      "auxmag/FLUX/6\n",
      "auxmag/FLUX/7\n",
      "auxmag/FLUX/8\n",
      "auxmag/FLUX/9\n",
      "auxmag/IVAR/0\n",
      "auxmag/IVAR/1\n",
      "auxmag/IVAR/10\n",
      "auxmag/IVAR/11\n",
      "auxmag/IVAR/12\n",
      "auxmag/IVAR/13\n",
      "auxmag/IVAR/14\n",
      "auxmag/IVAR/15\n",
      "auxmag/IVAR/16\n",
      "auxmag/IVAR/17\n",
      "auxmag/IVAR/18\n",
      "auxmag/IVAR/19\n",
      "auxmag/IVAR/2\n",
      "auxmag/IVAR/20\n",
      "auxmag/IVAR/3\n",
      "auxmag/IVAR/4\n",
      "auxmag/IVAR/5\n",
      "auxmag/IVAR/6\n",
      "auxmag/IVAR/7\n",
      "auxmag/IVAR/8\n",
      "auxmag/IVAR/9\n",
      "auxmag/LMAG/0\n",
      "auxmag/LMAG/1\n",
      "auxmag/LMAG/10\n",
      "auxmag/LMAG/11\n",
      "auxmag/LMAG/12\n",
      "auxmag/LMAG/13\n",
      "auxmag/LMAG/14\n",
      "auxmag/LMAG/15\n",
      "auxmag/LMAG/16\n",
      "auxmag/LMAG/17\n",
      "auxmag/LMAG/18\n",
      "auxmag/LMAG/19\n",
      "auxmag/LMAG/2\n",
      "auxmag/LMAG/20\n",
      "auxmag/LMAG/3\n",
      "auxmag/LMAG/4\n",
      "auxmag/LMAG/5\n",
      "auxmag/LMAG/6\n",
      "auxmag/LMAG/7\n",
      "auxmag/LMAG/8\n",
      "auxmag/LMAG/9\n",
      "auxmag/OMAG/0\n",
      "auxmag/OMAG/1\n",
      "auxmag/OMAG/10\n",
      "auxmag/OMAG/11\n",
      "auxmag/OMAG/12\n",
      "auxmag/OMAG/13\n",
      "auxmag/OMAG/14\n",
      "auxmag/OMAG/15\n",
      "auxmag/OMAG/16\n",
      "auxmag/OMAG/17\n",
      "auxmag/OMAG/18\n",
      "auxmag/OMAG/19\n",
      "auxmag/OMAG/2\n",
      "auxmag/OMAG/20\n",
      "auxmag/OMAG/3\n",
      "auxmag/OMAG/4\n",
      "auxmag/OMAG/5\n",
      "auxmag/OMAG/6\n",
      "auxmag/OMAG/7\n",
      "auxmag/OMAG/8\n",
      "auxmag/OMAG/9\n",
      "auxmag/OMAGERR/0\n",
      "auxmag/OMAGERR/1\n",
      "auxmag/OMAGERR/10\n",
      "auxmag/OMAGERR/11\n",
      "auxmag/OMAGERR/12\n",
      "auxmag/OMAGERR/13\n",
      "auxmag/OMAGERR/14\n",
      "auxmag/OMAGERR/15\n",
      "auxmag/OMAGERR/16\n",
      "auxmag/OMAGERR/17\n",
      "auxmag/OMAGERR/18\n",
      "auxmag/OMAGERR/19\n",
      "auxmag/OMAGERR/2\n",
      "auxmag/OMAGERR/20\n",
      "auxmag/OMAGERR/3\n",
      "auxmag/OMAGERR/4\n",
      "auxmag/OMAGERR/5\n",
      "auxmag/OMAGERR/6\n",
      "auxmag/OMAGERR/7\n",
      "auxmag/OMAGERR/8\n",
      "auxmag/OMAGERR/9\n",
      "auxmag/TMAG/0\n",
      "auxmag/TMAG/1\n",
      "auxmag/TMAG/10\n",
      "auxmag/TMAG/11\n",
      "auxmag/TMAG/12\n",
      "auxmag/TMAG/13\n",
      "auxmag/TMAG/14\n",
      "auxmag/TMAG/15\n",
      "auxmag/TMAG/16\n",
      "auxmag/TMAG/17\n",
      "auxmag/TMAG/18\n",
      "auxmag/TMAG/19\n",
      "auxmag/TMAG/2\n",
      "auxmag/TMAG/20\n",
      "auxmag/TMAG/3\n",
      "auxmag/TMAG/4\n",
      "auxmag/TMAG/5\n",
      "auxmag/TMAG/6\n",
      "auxmag/TMAG/7\n",
      "auxmag/TMAG/8\n",
      "auxmag/TMAG/9\n",
      "auxmag/Z\n",
      "healpix_pixel\n",
      "truth/AMAG/0\n",
      "truth/AMAG/1\n",
      "truth/AMAG/2\n",
      "truth/AMAG/3\n",
      "truth/AMAG/4\n",
      "truth/BAD_ASSIGN\n",
      "truth/CENTRAL\n",
      "truth/COMOVING_SIZE\n",
      "truth/DEC\n",
      "truth/DIST8\n",
      "truth/EPSILON/0\n",
      "truth/EPSILON/1\n",
      "truth/EPSILON_IA/0\n",
      "truth/EPSILON_IA/1\n",
      "truth/FLUX/0\n",
      "truth/FLUX/1\n",
      "truth/FLUX/2\n",
      "truth/FLUX/3\n",
      "truth/FLUX/4\n",
      "truth/GAMMA1\n",
      "truth/GAMMA2\n",
      "truth/HALOID\n",
      "truth/ID\n",
      "truth/IVAR/0\n",
      "truth/IVAR/1\n",
      "truth/IVAR/2\n",
      "truth/IVAR/3\n",
      "truth/IVAR/4\n",
      "truth/KAPPA\n",
      "truth/LMAG/0\n",
      "truth/LMAG/1\n",
      "truth/LMAG/2\n",
      "truth/LMAG/3\n",
      "truth/LMAG/4\n",
      "truth/M200\n",
      "truth/MAG_R\n",
      "truth/MAG_R_EVOL\n",
      "truth/MU\n",
      "truth/OMAG/0\n",
      "truth/OMAG/1\n",
      "truth/OMAG/2\n",
      "truth/OMAG/3\n",
      "truth/OMAG/4\n",
      "truth/OMAGERR/0\n",
      "truth/OMAGERR/1\n",
      "truth/OMAGERR/2\n",
      "truth/OMAGERR/3\n",
      "truth/OMAGERR/4\n",
      "truth/PSIGMA5\n",
      "truth/PX\n",
      "truth/PY\n",
      "truth/PZ\n",
      "truth/R200\n",
      "truth/RA\n",
      "truth/RHALO\n",
      "truth/SEDID\n",
      "truth/SIGMA5\n",
      "truth/SIZE\n",
      "truth/TDEC\n",
      "truth/TE/0\n",
      "truth/TE/1\n",
      "truth/TMAG/0\n",
      "truth/TMAG/1\n",
      "truth/TMAG/2\n",
      "truth/TMAG/3\n",
      "truth/TMAG/4\n",
      "truth/TRA\n",
      "truth/TSIZE\n",
      "truth/VX\n",
      "truth/VY\n",
      "truth/VZ\n",
      "truth/W\n",
      "truth/Z\n",
      "truth/Z_COS\n"
     ]
    }
   ],
   "source": [
    "print('\\n'.join(sorted(gc.list_all_native_quantities())))"
   ]
  },
  {
   "cell_type": "code",
   "execution_count": null,
   "metadata": {},
   "outputs": [],
   "source": []
  },
  {
   "cell_type": "code",
   "execution_count": 9,
   "metadata": {},
   "outputs": [],
   "source": [
    "filterConditions = ['is_central','redshift >= {}'.format(zmin),'redshift <= {}'.format(zmax),\n",
    "                    'halo_mass >= {}'.format(mass_min)]\n",
    "\n",
    "column_list = ['ra', 'dec', 'redshift', 'halo_mass', 'halo_id', 'healpix_pixel']\n",
    "data = gc.get_quantities(column_list, filters=filterConditions, native_filters=['healpix_pixel==42'])"
   ]
  },
  {
   "cell_type": "code",
   "execution_count": 10,
   "metadata": {},
   "outputs": [],
   "source": [
    "cat2  = Table(data)"
   ]
  },
  {
   "cell_type": "code",
   "execution_count": 11,
   "metadata": {},
   "outputs": [],
   "source": [
    "hid   = cat['HALOID']\n",
    "hid2  = cat2['halo_id']"
   ]
  },
  {
   "cell_type": "code",
   "execution_count": null,
   "metadata": {},
   "outputs": [],
   "source": []
  },
  {
   "cell_type": "code",
   "execution_count": null,
   "metadata": {},
   "outputs": [],
   "source": []
  },
  {
   "cell_type": "code",
   "execution_count": 12,
   "metadata": {},
   "outputs": [],
   "source": [
    "#hid  = np.unique(hid)"
   ]
  },
  {
   "cell_type": "code",
   "execution_count": 52,
   "metadata": {},
   "outputs": [],
   "source": [
    "import esutil"
   ]
  },
  {
   "cell_type": "code",
   "execution_count": 53,
   "metadata": {},
   "outputs": [],
   "source": [
    "match = esutil.numpy_util.match(hid2,hid)"
   ]
  },
  {
   "cell_type": "code",
   "execution_count": 54,
   "metadata": {},
   "outputs": [
    {
     "data": {
      "image/png": "[encoded data removed]",
      "text/plain": [
       "<Figure size 432x288 with 1 Axes>"
      ]
     },
     "metadata": {
      "needs_background": "light"
     },
     "output_type": "display_data"
    }
   ],
   "source": [
    "plt.scatter(cat[match[1]]['M200'],cat2[match[0]]['halo_mass'])\n",
    "plt.xscale('log')\n",
    "plt.yscale('log')"
   ]
  },
  {
   "cell_type": "code",
   "execution_count": 37,
   "metadata": {},
   "outputs": [
    {
     "data": {
      "text/plain": [
       "197"
      ]
     },
     "execution_count": 37,
     "metadata": {},
     "output_type": "execute_result"
    }
   ],
   "source": [
    "np.where(cat['hpx8']==42)[0].size"
   ]
  },
  {
   "cell_type": "code",
   "execution_count": 59,
   "metadata": {},
   "outputs": [
    {
     "name": "stdout",
     "output_type": "stream",
     "text": [
      "Mag_true_H_vista_z0\n",
      "Mag_true_H_wfirst_z0\n",
      "Mag_true_J_vista_z0\n",
      "Mag_true_J_wfirst_z0\n",
      "Mag_true_K_wfirst_z0\n",
      "Mag_true_Ks_vista_z0\n",
      "Mag_true_Y_des_z01\n",
      "Mag_true_Y_vista_z0\n",
      "Mag_true_Y_wfirst_z0\n",
      "Mag_true_Z_vista_z0\n",
      "Mag_true_g_des_z01\n",
      "Mag_true_g_lsst_z0\n",
      "Mag_true_i_des_z01\n",
      "Mag_true_i_lsst_z0\n",
      "Mag_true_r_des_z01\n",
      "Mag_true_r_lsst_z0\n",
      "Mag_true_u_lsst_z0\n",
      "Mag_true_y_lsst_z0\n",
      "Mag_true_z_des_z01\n",
      "Mag_true_z_lsst_z0\n",
      "convergence\n",
      "dec\n",
      "dec_true\n",
      "ellipticity\n",
      "ellipticity_1\n",
      "ellipticity_1_true\n",
      "ellipticity_2\n",
      "ellipticity_2_true\n",
      "ellipticity_true\n",
      "galaxy_id\n",
      "halo_id\n",
      "halo_mass\n",
      "is_central\n",
      "mag_H_vista\n",
      "mag_H_wfirst\n",
      "mag_J_vista\n",
      "mag_J_wfirst\n",
      "mag_K_wfirst\n",
      "mag_Ks_vista\n",
      "mag_Y_des\n",
      "mag_Y_vista\n",
      "mag_Y_wfirst\n",
      "mag_Z_vista\n",
      "mag_g\n",
      "mag_g_des\n",
      "mag_g_lsst\n",
      "mag_i\n",
      "mag_i_des\n",
      "mag_i_lsst\n",
      "mag_r\n",
      "mag_r_des\n",
      "mag_r_lsst\n",
      "mag_true_H_vista\n",
      "mag_true_H_wfirst\n",
      "mag_true_J_vista\n",
      "mag_true_J_wfirst\n",
      "mag_true_K_wfirst\n",
      "mag_true_Ks_vista\n",
      "mag_true_Y_des\n",
      "mag_true_Y_vista\n",
      "mag_true_Y_wfirst\n",
      "mag_true_Z_vista\n",
      "mag_true_g\n",
      "mag_true_g_des\n",
      "mag_true_g_lsst\n",
      "mag_true_i\n",
      "mag_true_i_des\n",
      "mag_true_i_lsst\n",
      "mag_true_r\n",
      "mag_true_r_des\n",
      "mag_true_r_lsst\n",
      "mag_true_u\n",
      "mag_true_u_lsst\n",
      "mag_true_y\n",
      "mag_true_y_lsst\n",
      "mag_true_z\n",
      "mag_true_z_des\n",
      "mag_true_z_lsst\n",
      "mag_u\n",
      "mag_u_lsst\n",
      "mag_y\n",
      "mag_y_lsst\n",
      "mag_z\n",
      "mag_z_des\n",
      "mag_z_lsst\n",
      "magerr_Y_des\n",
      "magerr_g_des\n",
      "magerr_i_des\n",
      "magerr_r_des\n",
      "magerr_z_des\n",
      "magnification\n",
      "position_angle\n",
      "position_angle_true\n",
      "position_x\n",
      "position_y\n",
      "position_z\n",
      "ra\n",
      "ra_true\n",
      "redshift\n",
      "redshift_true\n",
      "shear_1\n",
      "shear_2\n",
      "shear_2_phosim\n",
      "shear_2_treecorr\n",
      "size\n",
      "size_true\n",
      "velocity_x\n",
      "velocity_y\n",
      "velocity_z\n"
     ]
    }
   ],
   "source": [
    "## list both native or derived quantities\n",
    "print('\\n'.join(sorted(gc.list_all_quantities(include_native=False))))"
   ]
  },
  {
   "cell_type": "code",
   "execution_count": 55,
   "metadata": {},
   "outputs": [],
   "source": [
    "indir = '/global/project/projectdirs/des/jesteves/buzzardSelection/v2.0.0/subsample/'\n",
    "infile_gal  = indir+'buzzard_v2.0.0_443_members.fits'"
   ]
  },
  {
   "cell_type": "code",
   "execution_count": 56,
   "metadata": {},
   "outputs": [],
   "source": [
    "gal = Table(getdata(infile_gal))"
   ]
  },
  {
   "cell_type": "code",
   "execution_count": 69,
   "metadata": {},
   "outputs": [],
   "source": [
    "h = 0.7\n",
    "amagMax = -18\n",
    "cut = 'Mag_true_r_des_z01<= %.1f'%(amagMax - 5*np.log10(h))"
   ]
  },
  {
   "cell_type": "code",
   "execution_count": 70,
   "metadata": {},
   "outputs": [
    {
     "data": {
      "text/plain": [
       "'Mag_true_r_des_z01<= -17.2'"
      ]
     },
     "execution_count": 70,
     "metadata": {},
     "output_type": "execute_result"
    }
   ],
   "source": [
    "cut"
   ]
  },
  {
   "cell_type": "code",
   "execution_count": null,
   "metadata": {},
   "outputs": [],
   "source": [
    "data = gc.get_quantities(column_list, filters=cut, native_filters=['healpix_pixel==443'])"
   ]
  },
  {
   "cell_type": "code",
   "execution_count": 63,
   "metadata": {},
   "outputs": [
    {
     "data": {
      "text/html": [
       "<i>Table length=1996440</i>\n",
       "<table id=\"table46913126936304\" class=\"table-striped table-bordered table-condensed\">\n",
       "<thead><tr><th>hpx8</th><th>ID</th><th>HALOID</th><th>RA</th><th>DEC</th><th>z_true</th><th>MAG_AUTO_G</th><th>MAG_AUTO_R</th><th>MAG_AUTO_I</th><th>MAG_AUTO_Z</th><th>MAGERR_AUTO_G</th><th>MAGERR_AUTO_R</th><th>MAGERR_AUTO_I</th><th>MAGERR_AUTO_Z</th><th>FLAGS_GOLD</th><th>Mr</th><th>RHALO</th><th>CENTRAL</th></tr></thead>\n",
       "<thead><tr><th>int64</th><th>float64</th><th>int64</th><th>float64</th><th>float64</th><th>float64</th><th>float64</th><th>float64</th><th>float64</th><th>float64</th><th>float64</th><th>float64</th><th>float64</th><th>float64</th><th>int64</th><th>float64</th><th>float64</th><th>float64</th></tr></thead>\n",
       "<tr><td>443</td><td>81000000076.0</td><td>4886432</td><td>164.72178927644075</td><td>27.011872958693562</td><td>0.1849968303383225</td><td>0.0</td><td>0.0</td><td>0.0</td><td>0.0</td><td>0.0</td><td>0.0</td><td>0.0</td><td>0.0</td><td>0</td><td>-21.620825053362513</td><td>0.0</td><td>1.0</td></tr>\n",
       "<tr><td>443</td><td>81000000298.0</td><td>7261403</td><td>165.68352111073858</td><td>27.55730196138192</td><td>0.06087374013645752</td><td>0.0</td><td>0.0</td><td>0.0</td><td>0.0</td><td>0.0</td><td>0.0</td><td>0.0</td><td>0.0</td><td>0</td><td>-21.195670931493094</td><td>0.0</td><td>1.0</td></tr>\n",
       "<tr><td>443</td><td>81000000461.0</td><td>4889133</td><td>165.79444514490615</td><td>27.441599983697124</td><td>0.18987704288910678</td><td>0.0</td><td>0.0</td><td>0.0</td><td>0.0</td><td>0.0</td><td>0.0</td><td>0.0</td><td>0.0</td><td>0</td><td>-20.932448710520635</td><td>0.0</td><td>1.0</td></tr>\n",
       "<tr><td>443</td><td>81000000727.0</td><td>7261578</td><td>165.71336302631266</td><td>27.102102429470587</td><td>0.06726471169799504</td><td>0.0</td><td>0.0</td><td>0.0</td><td>0.0</td><td>0.0</td><td>0.0</td><td>0.0</td><td>0.0</td><td>0</td><td>-21.546660131587746</td><td>0.0</td><td>1.0</td></tr>\n",
       "<tr><td>443</td><td>81000000730.0</td><td>4888897</td><td>164.7580928911986</td><td>26.599431426090298</td><td>0.18463571265268305</td><td>0.0</td><td>0.0</td><td>0.0</td><td>0.0</td><td>0.0</td><td>0.0</td><td>0.0</td><td>0.0</td><td>0</td><td>-21.023568415568953</td><td>0.0</td><td>1.0</td></tr>\n",
       "<tr><td>443</td><td>81000000739.0</td><td>4885855</td><td>165.09699164964397</td><td>26.871814505313026</td><td>0.181047599048809</td><td>0.0</td><td>0.0</td><td>0.0</td><td>0.0</td><td>0.0</td><td>0.0</td><td>0.0</td><td>0.0</td><td>0</td><td>-21.097454139218694</td><td>0.0</td><td>1.0</td></tr>\n",
       "<tr><td>443</td><td>81000000776.0</td><td>5209754</td><td>165.00782215820735</td><td>26.769550811731936</td><td>0.2097341583272273</td><td>0.0</td><td>0.0</td><td>0.0</td><td>0.0</td><td>0.0</td><td>0.0</td><td>0.0</td><td>0.0</td><td>0</td><td>-20.395927939135017</td><td>0.0</td><td>1.0</td></tr>\n",
       "<tr><td>443</td><td>81000000852.0</td><td>4885848</td><td>165.04048983191706</td><td>26.900569957969907</td><td>0.18186014427224725</td><td>0.0</td><td>0.0</td><td>0.0</td><td>0.0</td><td>0.0</td><td>0.0</td><td>0.0</td><td>0.0</td><td>0</td><td>-20.701457236270503</td><td>0.0</td><td>1.0</td></tr>\n",
       "<tr><td>443</td><td>81000000982.0</td><td>4871210</td><td>164.76330138756222</td><td>26.595642625775806</td><td>0.13553720043566567</td><td>0.0</td><td>0.0</td><td>0.0</td><td>0.0</td><td>0.0</td><td>0.0</td><td>0.0</td><td>0.0</td><td>0</td><td>-21.688721410839758</td><td>0.0</td><td>1.0</td></tr>\n",
       "<tr><td>443</td><td>81000001006.0</td><td>4871287</td><td>165.1939946625901</td><td>26.6734011024056</td><td>0.13716926732626786</td><td>0.0</td><td>0.0</td><td>0.0</td><td>0.0</td><td>0.0</td><td>0.0</td><td>0.0</td><td>0.0</td><td>0</td><td>-21.06956549922374</td><td>0.0</td><td>1.0</td></tr>\n",
       "<tr><td>...</td><td>...</td><td>...</td><td>...</td><td>...</td><td>...</td><td>...</td><td>...</td><td>...</td><td>...</td><td>...</td><td>...</td><td>...</td><td>...</td><td>...</td><td>...</td><td>...</td><td>...</td></tr>\n",
       "<tr><td>443</td><td>443016120324.0</td><td>0</td><td>167.7466916053133</td><td>27.277338297803432</td><td>1.996801589933213</td><td>0.0</td><td>0.0</td><td>0.0</td><td>0.0</td><td>0.0</td><td>0.0</td><td>0.0</td><td>0.0</td><td>0</td><td>-19.306794566431442</td><td>0.0</td><td>0.0</td></tr>\n",
       "<tr><td>443</td><td>443016120344.0</td><td>0</td><td>169.85408531516796</td><td>26.363685105283807</td><td>1.9906756804108654</td><td>0.0</td><td>0.0</td><td>0.0</td><td>0.0</td><td>0.0</td><td>0.0</td><td>0.0</td><td>0.0</td><td>0</td><td>-19.285938092970806</td><td>0.0</td><td>0.0</td></tr>\n",
       "<tr><td>443</td><td>443016120345.0</td><td>0</td><td>164.28865370485354</td><td>24.7004158830454</td><td>1.9918971441462963</td><td>0.0</td><td>0.0</td><td>0.0</td><td>0.0</td><td>0.0</td><td>0.0</td><td>0.0</td><td>0.0</td><td>0</td><td>-19.284577017981665</td><td>0.0</td><td>0.0</td></tr>\n",
       "<tr><td>443</td><td>443016120347.0</td><td>0</td><td>167.6661906975396</td><td>25.220626876086143</td><td>1.9937120985994539</td><td>0.0</td><td>0.0</td><td>0.0</td><td>0.0</td><td>0.0</td><td>0.0</td><td>0.0</td><td>0.0</td><td>0</td><td>-19.30052327149591</td><td>0.0</td><td>0.0</td></tr>\n",
       "<tr><td>443</td><td>443016120350.0</td><td>0</td><td>165.44583686558528</td><td>26.344015938284716</td><td>1.995096399221875</td><td>0.0</td><td>0.0</td><td>0.0</td><td>0.0</td><td>0.0</td><td>0.0</td><td>0.0</td><td>0.0</td><td>0</td><td>-19.286242885282327</td><td>0.0</td><td>0.0</td></tr>\n",
       "<tr><td>443</td><td>443016120351.0</td><td>0</td><td>165.4315134758011</td><td>23.946326110537726</td><td>1.9907393285669006</td><td>0.0</td><td>0.0</td><td>0.0</td><td>0.0</td><td>0.0</td><td>0.0</td><td>0.0</td><td>0.0</td><td>0</td><td>-19.297213698841233</td><td>0.0</td><td>0.0</td></tr>\n",
       "<tr><td>443</td><td>443016120353.0</td><td>0</td><td>172.4261967044981</td><td>23.15073257263623</td><td>1.9903629432261847</td><td>0.0</td><td>0.0</td><td>0.0</td><td>0.0</td><td>0.0</td><td>0.0</td><td>0.0</td><td>0.0</td><td>0</td><td>-19.288276115370458</td><td>0.0</td><td>0.0</td></tr>\n",
       "<tr><td>443</td><td>443016120356.0</td><td>0</td><td>165.37814719739416</td><td>23.85295216991855</td><td>1.9923435587583453</td><td>0.0</td><td>0.0</td><td>0.0</td><td>0.0</td><td>0.0</td><td>0.0</td><td>0.0</td><td>0.0</td><td>0</td><td>-19.30149382520457</td><td>0.0</td><td>0.0</td></tr>\n",
       "<tr><td>443</td><td>443016120361.0</td><td>0</td><td>165.07686772708558</td><td>24.60127714037562</td><td>1.9887176716038162</td><td>0.0</td><td>0.0</td><td>0.0</td><td>0.0</td><td>0.0</td><td>0.0</td><td>0.0</td><td>0.0</td><td>0</td><td>-19.289818984120153</td><td>0.0</td><td>0.0</td></tr>\n",
       "<tr><td>443</td><td>443016120363.0</td><td>0</td><td>167.80682878335855</td><td>25.757132132423546</td><td>1.9911692352400172</td><td>0.0</td><td>0.0</td><td>0.0</td><td>0.0</td><td>0.0</td><td>0.0</td><td>0.0</td><td>0.0</td><td>0</td><td>-19.27834307947155</td><td>0.0</td><td>0.0</td></tr>\n",
       "</table>"
      ],
      "text/plain": [
       "<Table length=1996440>\n",
       " hpx8       ID        HALOID ...          Mr          RHALO  CENTRAL\n",
       "int64    float64      int64  ...       float64       float64 float64\n",
       "----- -------------- ------- ... ------------------- ------- -------\n",
       "  443  81000000076.0 4886432 ... -21.620825053362513     0.0     1.0\n",
       "  443  81000000298.0 7261403 ... -21.195670931493094     0.0     1.0\n",
       "  443  81000000461.0 4889133 ... -20.932448710520635     0.0     1.0\n",
       "  443  81000000727.0 7261578 ... -21.546660131587746     0.0     1.0\n",
       "  443  81000000730.0 4888897 ... -21.023568415568953     0.0     1.0\n",
       "  443  81000000739.0 4885855 ... -21.097454139218694     0.0     1.0\n",
       "  443  81000000776.0 5209754 ... -20.395927939135017     0.0     1.0\n",
       "  443  81000000852.0 4885848 ... -20.701457236270503     0.0     1.0\n",
       "  443  81000000982.0 4871210 ... -21.688721410839758     0.0     1.0\n",
       "  443  81000001006.0 4871287 ...  -21.06956549922374     0.0     1.0\n",
       "  ...            ...     ... ...                 ...     ...     ...\n",
       "  443 443016120324.0       0 ... -19.306794566431442     0.0     0.0\n",
       "  443 443016120344.0       0 ... -19.285938092970806     0.0     0.0\n",
       "  443 443016120345.0       0 ... -19.284577017981665     0.0     0.0\n",
       "  443 443016120347.0       0 ...  -19.30052327149591     0.0     0.0\n",
       "  443 443016120350.0       0 ... -19.286242885282327     0.0     0.0\n",
       "  443 443016120351.0       0 ... -19.297213698841233     0.0     0.0\n",
       "  443 443016120353.0       0 ... -19.288276115370458     0.0     0.0\n",
       "  443 443016120356.0       0 ...  -19.30149382520457     0.0     0.0\n",
       "  443 443016120361.0       0 ... -19.289818984120153     0.0     0.0\n",
       "  443 443016120363.0       0 ...  -19.27834307947155     0.0     0.0"
      ]
     },
     "execution_count": 63,
     "metadata": {},
     "output_type": "execute_result"
    }
   ],
   "source": [
    "gal"
   ]
  },
  {
   "cell_type": "code",
   "execution_count": null,
   "metadata": {},
   "outputs": [],
   "source": []
  }
 ],
 "metadata": {
  "kernelspec": {
   "display_name": "desc-stack",
   "language": "python",
   "name": "desc-stack"
  },
  "language_info": {
   "codemirror_mode": {
    "name": "ipython",
    "version": 3
   },
   "file_extension": ".py",
   "mimetype": "text/x-python",
   "name": "python",
   "nbconvert_exporter": "python",
   "pygments_lexer": "ipython3",
   "version": "3.7.2"
  }
 },
 "nbformat": 4,
 "nbformat_minor": 4
}
