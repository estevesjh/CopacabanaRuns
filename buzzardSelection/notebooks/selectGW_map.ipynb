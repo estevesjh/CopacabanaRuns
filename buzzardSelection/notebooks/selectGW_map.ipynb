{
 "cells": [
  {
   "cell_type": "markdown",
   "metadata": {},
   "source": [
    "# Get Galaxies From Halos\n",
    "\n",
    "info: https://cdcvs.fnal.gov/redmine/projects/des-clusters/wiki/ClustDataVecY3 <br>\n",
    "path: /data/des81.b/data/mariaeli/y3_buzz/Buzzard-3_v2.0_Y3a_mastercat/"
   ]
  },
  {
   "cell_type": "code",
   "execution_count": 1,
   "metadata": {},
   "outputs": [],
   "source": [
    "import matplotlib.pyplot as plt\n",
    "import numpy as np\n",
    "\n",
    "from astropy.table import Table, vstack\n",
    "from astropy.io.fits import getdata\n",
    "\n",
    "import pandas as pd\n",
    "import healpy as hp\n",
    "\n",
    "import esutil"
   ]
  },
  {
   "cell_type": "markdown",
   "metadata": {},
   "source": [
    "## Load"
   ]
  },
  {
   "cell_type": "code",
   "execution_count": 2,
   "metadata": {},
   "outputs": [
    {
     "name": "stderr",
     "output_type": "stream",
     "text": [
      "/cvmfs/des.opensciencegrid.org/fnal/anaconda2/envs/des18a/lib/python2.7/site-packages/h5py/__init__.py:36: FutureWarning: Conversion of the second argument of issubdtype from `float` to `np.floating` is deprecated. In future, it will be treated as `np.float64 == np.dtype(float).type`.\n",
      "  from ._conv import register_converters as _register_converters\n"
     ]
    }
   ],
   "source": [
    "import h5py\n",
    "\n",
    "path   = '/data/des81.b/data/mariaeli/y3_buzz/Buzzard-3_v2.0_Y3a_mastercat/'\n",
    "# path   = '/global/project/projectdirs/des/jderose/Chinchilla/Herd/Chinchilla-3/v1.9.8/sampleselection/Y3a/mastercat/'\n",
    "fname  = path+'Buzzard_v2.0_Y3a_gold.h5'\n",
    "fname_bpz = path+'Buzzard_v2.0_Y3a_bpz.h5'\n",
    "fname_aux  = path+'Buzzard-3_v2.0_Y3a_mastercat.h5'\n",
    "\n",
    "master = h5py.File(fname,'r')\n",
    "indexes= h5py.File(fname_aux,'r')"
   ]
  },
  {
   "cell_type": "code",
   "execution_count": 3,
   "metadata": {},
   "outputs": [
    {
     "name": "stdout",
     "output_type": "stream",
     "text": [
      "buzzard_1.9.9_3y3a_rsshift_run.h5  Buzzard_v2.0_Y3a_gold.h5\r\n",
      "Buzzard-3_v2.0_Y3a_mastercat.h5    Buzzard_v2.0_Y3a_shape.h5\r\n",
      "Buzzard_v2.0_Y3a_bpz.h5\t\t   nohup.out\r\n"
     ]
    }
   ],
   "source": [
    "!ls /data/des81.b/data/mariaeli/y3_buzz/Buzzard-3_v2.0_Y3a_mastercat/"
   ]
  },
  {
   "cell_type": "code",
   "execution_count": null,
   "metadata": {},
   "outputs": [],
   "source": []
  },
  {
   "cell_type": "code",
   "execution_count": 4,
   "metadata": {},
   "outputs": [],
   "source": [
    "def show_h5_group(name,node):\n",
    "    ''' show all the h5 groups\n",
    "    Example:\n",
    "    fmaster = h5py.File(copa.master_fname,'r')\n",
    "    fmaster.visititems(show_h5_group)\n",
    "\n",
    "    ## https://stackoverflow.com/questions/45562169/traverse-hdf5-file-tree-and-continue-after-return\n",
    "    '''\n",
    "    if isinstance(node, h5py.Group):\n",
    "        print(name,node)\n",
    "    return None\n",
    "\n",
    "def show_h5_dataset(name,node):\n",
    "    if isinstance(node, h5py.Dataset):\n",
    "        print(name,node)\n",
    "    return None"
   ]
  },
  {
   "cell_type": "code",
   "execution_count": 5,
   "metadata": {},
   "outputs": [],
   "source": [
    "columns = ['hpix_16384','haloid','coadd_object_id','ra','dec','rhalo']\n",
    "columns+= ['mag_%s'%(ix) for ix in ['g','r','i','z']]\n",
    "columns+= ['mag_err_%s'%(ix) for ix in ['g','r','i','z']]"
   ]
  },
  {
   "cell_type": "code",
   "execution_count": 6,
   "metadata": {},
   "outputs": [
    {
     "data": {
      "text/plain": [
       "['hpix_16384',\n",
       " 'haloid',\n",
       " 'coadd_object_id',\n",
       " 'ra',\n",
       " 'dec',\n",
       " 'rhalo',\n",
       " 'mag_g',\n",
       " 'mag_r',\n",
       " 'mag_i',\n",
       " 'mag_z',\n",
       " 'mag_err_g',\n",
       " 'mag_err_r',\n",
       " 'mag_err_i',\n",
       " 'mag_err_z']"
      ]
     },
     "execution_count": 6,
     "metadata": {},
     "output_type": "execute_result"
    }
   ],
   "source": [
    "columns"
   ]
  },
  {
   "cell_type": "code",
   "execution_count": 7,
   "metadata": {},
   "outputs": [
    {
     "name": "stdout",
     "output_type": "stream",
     "text": [
      "(u'catalog/gold/coadd_object_id', <HDF5 dataset \"coadd_object_id\": shape (1504210222,), type \">i8\">)\n",
      "(u'catalog/gold/dec', <HDF5 dataset \"dec\": shape (1504210222,), type \">f4\">)\n",
      "(u'catalog/gold/flags_gold', <HDF5 dataset \"flags_gold\": shape (1504210222,), type \">i8\">)\n",
      "(u'catalog/gold/flux_g', <HDF5 dataset \"flux_g\": shape (1504210222,), type \">f4\">)\n",
      "(u'catalog/gold/flux_i', <HDF5 dataset \"flux_i\": shape (1504210222,), type \">f4\">)\n",
      "(u'catalog/gold/flux_r', <HDF5 dataset \"flux_r\": shape (1504210222,), type \">f4\">)\n",
      "(u'catalog/gold/flux_z', <HDF5 dataset \"flux_z\": shape (1504210222,), type \">f4\">)\n",
      "(u'catalog/gold/haloid', <HDF5 dataset \"haloid\": shape (1504210222,), type \">i8\">)\n",
      "(u'catalog/gold/hpix_16384', <HDF5 dataset \"hpix_16384\": shape (1504210222,), type \">i8\">)\n",
      "(u'catalog/gold/ivar_g', <HDF5 dataset \"ivar_g\": shape (1504210222,), type \">f4\">)\n",
      "(u'catalog/gold/ivar_i', <HDF5 dataset \"ivar_i\": shape (1504210222,), type \">f4\">)\n",
      "(u'catalog/gold/ivar_r', <HDF5 dataset \"ivar_r\": shape (1504210222,), type \">f4\">)\n",
      "(u'catalog/gold/ivar_z', <HDF5 dataset \"ivar_z\": shape (1504210222,), type \">f4\">)\n",
      "(u'catalog/gold/m200', <HDF5 dataset \"m200\": shape (1504210222,), type \">f4\">)\n",
      "(u'catalog/gold/mag_err_g', <HDF5 dataset \"mag_err_g\": shape (1504210222,), type \">f4\">)\n",
      "(u'catalog/gold/mag_err_i', <HDF5 dataset \"mag_err_i\": shape (1504210222,), type \">f4\">)\n",
      "(u'catalog/gold/mag_err_r', <HDF5 dataset \"mag_err_r\": shape (1504210222,), type \">f4\">)\n",
      "(u'catalog/gold/mag_err_z', <HDF5 dataset \"mag_err_z\": shape (1504210222,), type \">f4\">)\n",
      "(u'catalog/gold/mag_g', <HDF5 dataset \"mag_g\": shape (1504210222,), type \">f4\">)\n",
      "(u'catalog/gold/mag_g_lensed', <HDF5 dataset \"mag_g_lensed\": shape (1504210222,), type \">f4\">)\n",
      "(u'catalog/gold/mag_g_true', <HDF5 dataset \"mag_g_true\": shape (1504210222,), type \">f4\">)\n",
      "(u'catalog/gold/mag_i', <HDF5 dataset \"mag_i\": shape (1504210222,), type \">f4\">)\n",
      "(u'catalog/gold/mag_i_lensed', <HDF5 dataset \"mag_i_lensed\": shape (1504210222,), type \">f4\">)\n",
      "(u'catalog/gold/mag_i_true', <HDF5 dataset \"mag_i_true\": shape (1504210222,), type \">f4\">)\n",
      "(u'catalog/gold/mag_r', <HDF5 dataset \"mag_r\": shape (1504210222,), type \">f4\">)\n",
      "(u'catalog/gold/mag_r_lensed', <HDF5 dataset \"mag_r_lensed\": shape (1504210222,), type \">f4\">)\n",
      "(u'catalog/gold/mag_r_true', <HDF5 dataset \"mag_r_true\": shape (1504210222,), type \">f4\">)\n",
      "(u'catalog/gold/mag_z', <HDF5 dataset \"mag_z\": shape (1504210222,), type \">f4\">)\n",
      "(u'catalog/gold/mag_z_lensed', <HDF5 dataset \"mag_z_lensed\": shape (1504210222,), type \">f4\">)\n",
      "(u'catalog/gold/mag_z_true', <HDF5 dataset \"mag_z_true\": shape (1504210222,), type \">f4\">)\n",
      "(u'catalog/gold/mcal_flux_i', <HDF5 dataset \"mcal_flux_i\": shape (1504210222,), type \">f4\">)\n",
      "(u'catalog/gold/mcal_flux_r', <HDF5 dataset \"mcal_flux_r\": shape (1504210222,), type \">f4\">)\n",
      "(u'catalog/gold/mcal_flux_z', <HDF5 dataset \"mcal_flux_z\": shape (1504210222,), type \">f4\">)\n",
      "(u'catalog/gold/mcal_ivar_i', <HDF5 dataset \"mcal_ivar_i\": shape (1504210222,), type \">f4\">)\n",
      "(u'catalog/gold/mcal_ivar_r', <HDF5 dataset \"mcal_ivar_r\": shape (1504210222,), type \">f4\">)\n",
      "(u'catalog/gold/mcal_ivar_z', <HDF5 dataset \"mcal_ivar_z\": shape (1504210222,), type \">f4\">)\n",
      "(u'catalog/gold/px', <HDF5 dataset \"px\": shape (1504210222,), type \">f4\">)\n",
      "(u'catalog/gold/py', <HDF5 dataset \"py\": shape (1504210222,), type \">f4\">)\n",
      "(u'catalog/gold/pz', <HDF5 dataset \"pz\": shape (1504210222,), type \">f4\">)\n",
      "(u'catalog/gold/r200', <HDF5 dataset \"r200\": shape (1504210222,), type \">f4\">)\n",
      "(u'catalog/gold/ra', <HDF5 dataset \"ra\": shape (1504210222,), type \">f4\">)\n",
      "(u'catalog/gold/rhalo', <HDF5 dataset \"rhalo\": shape (1504210222,), type \">f4\">)\n",
      "(u'catalog/gold/sdss_sedid', <HDF5 dataset \"sdss_sedid\": shape (1504210222,), type \">i8\">)\n",
      "(u'catalog/gold/vx', <HDF5 dataset \"vx\": shape (1504210222,), type \">f4\">)\n",
      "(u'catalog/gold/vy', <HDF5 dataset \"vy\": shape (1504210222,), type \">f4\">)\n",
      "(u'catalog/gold/vz', <HDF5 dataset \"vz\": shape (1504210222,), type \">f4\">)\n",
      "(u'masks/gold/hpix', <HDF5 dataset \"hpix\": shape (24697974,), type \"<i8\">)\n"
     ]
    }
   ],
   "source": [
    "master.visititems(show_h5_dataset)"
   ]
  },
  {
   "cell_type": "code",
   "execution_count": 8,
   "metadata": {},
   "outputs": [
    {
     "name": "stdout",
     "output_type": "stream",
     "text": [
      "(u'bpz/match_gold', <HDF5 dataset \"match_gold\": shape (1504210222,), type \"<i8\">)\n",
      "(u'bpz/select', <HDF5 dataset \"select\": shape (1504210222,), type \"<i8\">)\n",
      "(u'coadd_object_id', <HDF5 dataset \"coadd_object_id\": shape (1504210222,), type \"<i8\">)\n",
      "(u'gold/select', <HDF5 dataset \"select\": shape (1504210222,), type \"<i8\">)\n",
      "(u'maglim/select', <HDF5 dataset \"select\": shape (2388988,), type \"<i8\">)\n",
      "(u'mask/fracgood', <HDF5 dataset \"fracgood\": shape (21590657,), type \"<i8\">)\n",
      "(u'mask/hpix', <HDF5 dataset \"hpix\": shape (21590657,), type \"<i8\">)\n",
      "(u'mask/zmax', <HDF5 dataset \"zmax\": shape (21590657,), type \"<i8\">)\n",
      "(u'metacal/match_gold', <HDF5 dataset \"match_gold\": shape (1504210222,), type \"<i8\">)\n",
      "(u'redmagic/combined_sample_fid/match_gold', <HDF5 dataset \"match_gold\": shape (3041935,), type \"<i8\">)\n",
      "(u'redmagic/combined_sample_fid/random_10xdownsample_select', <HDF5 dataset \"random_10xdownsample_select\": shape (30419350,), type \"<i8\">)\n",
      "(u'redmagic/combined_sample_fid/random_select', <HDF5 dataset \"random_select\": shape (123296252,), type \"<i8\">)\n",
      "(u'redmagic/combined_sample_fid/select', <HDF5 dataset \"select\": shape (3041935,), type \"<i8\">)\n",
      "(u'redmagic/highdens/match_gold', <HDF5 dataset \"match_gold\": shape (2884359,), type \"<i8\">)\n",
      "(u'redmagic/highdens/random_select', <HDF5 dataset \"random_select\": shape (94341550,), type \"<i8\">)\n",
      "(u'redmagic/highdens/select', <HDF5 dataset \"select\": shape (2695823,), type \"<i8\">)\n",
      "(u'redmagic/higherlum/match_gold', <HDF5 dataset \"match_gold\": shape (510848,), type \"<i8\">)\n",
      "(u'redmagic/higherlum/random_select', <HDF5 dataset \"random_select\": shape (94336080,), type \"<i8\">)\n",
      "(u'redmagic/higherlum/select', <HDF5 dataset \"select\": shape (475010,), type \"<i8\">)\n",
      "(u'redmagic/highlum/match_gold', <HDF5 dataset \"match_gold\": shape (2049142,), type \"<i8\">)\n",
      "(u'redmagic/highlum/random_select', <HDF5 dataset \"random_select\": shape (94340054,), type \"<i8\">)\n",
      "(u'redmagic/highlum/select', <HDF5 dataset \"select\": shape (1917971,), type \"<i8\">)\n",
      "(u'select', <HDF5 dataset \"select\": shape (103106417,), type \"<i8\">)\n"
     ]
    }
   ],
   "source": [
    "indexes['index'].visititems(show_h5_dataset)"
   ]
  },
  {
   "cell_type": "code",
   "execution_count": null,
   "metadata": {},
   "outputs": [],
   "source": []
  },
  {
   "cell_type": "code",
   "execution_count": 9,
   "metadata": {},
   "outputs": [],
   "source": [
    "select     = indexes['index/gold/select'][:]\n",
    "mag_i      = master['catalog/gold/mag_i'][:][select]\n",
    "\n",
    "## please change here, I did for mag limited sample just to make things faster\n",
    "maglim_idx = select[np.where(mag_i<=17.)]\n",
    "\n",
    "ra   = master['catalog/gold/ra'][:][maglim_idx]\n",
    "dec   = master['catalog/gold/dec'][:][maglim_idx]\n",
    "\n",
    "select=mag_i=0\n",
    "\n",
    "master.close()\n",
    "indexes.close()"
   ]
  },
  {
   "cell_type": "code",
   "execution_count": null,
   "metadata": {},
   "outputs": [],
   "source": []
  },
  {
   "cell_type": "code",
   "execution_count": null,
   "metadata": {},
   "outputs": [],
   "source": []
  },
  {
   "cell_type": "markdown",
   "metadata": {},
   "source": [
    "## Query GW Sky Map"
   ]
  },
  {
   "cell_type": "code",
   "execution_count": 10,
   "metadata": {},
   "outputs": [],
   "source": [
    "fname = '/data/des70.b/data/palmese/bayestar-sims/HLVK_O4/bns/fits/flatten/845.fits.gz'\n",
    "hpx_map = Table(getdata(fname))"
   ]
  },
  {
   "cell_type": "code",
   "execution_count": 11,
   "metadata": {},
   "outputs": [
    {
     "data": {
      "text/html": [
       "&lt;Table length=50331648&gt;\n",
       "<table id=\"table139846418106960\" class=\"table-striped table-bordered table-condensed\">\n",
       "<thead><tr><th>PROB</th><th>DISTMU</th><th>DISTSIGMA</th><th>DISTNORM</th></tr></thead>\n",
       "<thead><tr><th>float64</th><th>float64</th><th>float64</th><th>float64</th></tr></thead>\n",
       "<tr><td>1.5713738532000388e-14</td><td>53.262045194654014</td><td>4.295338478404799</td><td>0.00035022646103991407</td></tr>\n",
       "<tr><td>1.5713738532000388e-14</td><td>53.262045194654014</td><td>4.295338478404799</td><td>0.00035022646103991407</td></tr>\n",
       "<tr><td>1.5713738532000388e-14</td><td>53.262045194654014</td><td>4.295338478404799</td><td>0.00035022646103991407</td></tr>\n",
       "<tr><td>1.5713738532000388e-14</td><td>53.262045194654014</td><td>4.295338478404799</td><td>0.00035022646103991407</td></tr>\n",
       "<tr><td>1.5713738532000388e-14</td><td>53.262045194654014</td><td>4.295338478404799</td><td>0.00035022646103991407</td></tr>\n",
       "<tr><td>1.5713738532000388e-14</td><td>53.262045194654014</td><td>4.295338478404799</td><td>0.00035022646103991407</td></tr>\n",
       "<tr><td>1.5713738532000388e-14</td><td>53.262045194654014</td><td>4.295338478404799</td><td>0.00035022646103991407</td></tr>\n",
       "<tr><td>1.5713738532000388e-14</td><td>53.262045194654014</td><td>4.295338478404799</td><td>0.00035022646103991407</td></tr>\n",
       "<tr><td>1.5713738532000388e-14</td><td>53.262045194654014</td><td>4.295338478404799</td><td>0.00035022646103991407</td></tr>\n",
       "<tr><td>1.5713738532000388e-14</td><td>53.262045194654014</td><td>4.295338478404799</td><td>0.00035022646103991407</td></tr>\n",
       "<tr><td>...</td><td>...</td><td>...</td><td>...</td></tr>\n",
       "<tr><td>2.3116993709760397e-62</td><td>75.07054877940361</td><td>42.350387000731224</td><td>0.00013496488406821247</td></tr>\n",
       "<tr><td>2.3116993709760397e-62</td><td>75.07054877940361</td><td>42.350387000731224</td><td>0.00013496488406821247</td></tr>\n",
       "<tr><td>2.3116993709760397e-62</td><td>75.07054877940361</td><td>42.350387000731224</td><td>0.00013496488406821247</td></tr>\n",
       "<tr><td>2.3116993709760397e-62</td><td>75.07054877940361</td><td>42.350387000731224</td><td>0.00013496488406821247</td></tr>\n",
       "<tr><td>2.3116993709760397e-62</td><td>75.07054877940361</td><td>42.350387000731224</td><td>0.00013496488406821247</td></tr>\n",
       "<tr><td>2.3116993709760397e-62</td><td>75.07054877940361</td><td>42.350387000731224</td><td>0.00013496488406821247</td></tr>\n",
       "<tr><td>2.3116993709760397e-62</td><td>75.07054877940361</td><td>42.350387000731224</td><td>0.00013496488406821247</td></tr>\n",
       "<tr><td>2.3116993709760397e-62</td><td>75.07054877940361</td><td>42.350387000731224</td><td>0.00013496488406821247</td></tr>\n",
       "<tr><td>2.3116993709760397e-62</td><td>75.07054877940361</td><td>42.350387000731224</td><td>0.00013496488406821247</td></tr>\n",
       "<tr><td>2.3116993709760397e-62</td><td>75.07054877940361</td><td>42.350387000731224</td><td>0.00013496488406821247</td></tr>\n",
       "</table>"
      ],
      "text/plain": [
       "<Table length=50331648>\n",
       "         PROB                DISTMU       ...        DISTNORM       \n",
       "       float64              float64       ...        float64        \n",
       "---------------------- ------------------ ... ----------------------\n",
       "1.5713738532000388e-14 53.262045194654014 ... 0.00035022646103991407\n",
       "1.5713738532000388e-14 53.262045194654014 ... 0.00035022646103991407\n",
       "1.5713738532000388e-14 53.262045194654014 ... 0.00035022646103991407\n",
       "1.5713738532000388e-14 53.262045194654014 ... 0.00035022646103991407\n",
       "1.5713738532000388e-14 53.262045194654014 ... 0.00035022646103991407\n",
       "1.5713738532000388e-14 53.262045194654014 ... 0.00035022646103991407\n",
       "1.5713738532000388e-14 53.262045194654014 ... 0.00035022646103991407\n",
       "1.5713738532000388e-14 53.262045194654014 ... 0.00035022646103991407\n",
       "1.5713738532000388e-14 53.262045194654014 ... 0.00035022646103991407\n",
       "1.5713738532000388e-14 53.262045194654014 ... 0.00035022646103991407\n",
       "                   ...                ... ...                    ...\n",
       "2.3116993709760397e-62  75.07054877940361 ... 0.00013496488406821247\n",
       "2.3116993709760397e-62  75.07054877940361 ... 0.00013496488406821247\n",
       "2.3116993709760397e-62  75.07054877940361 ... 0.00013496488406821247\n",
       "2.3116993709760397e-62  75.07054877940361 ... 0.00013496488406821247\n",
       "2.3116993709760397e-62  75.07054877940361 ... 0.00013496488406821247\n",
       "2.3116993709760397e-62  75.07054877940361 ... 0.00013496488406821247\n",
       "2.3116993709760397e-62  75.07054877940361 ... 0.00013496488406821247\n",
       "2.3116993709760397e-62  75.07054877940361 ... 0.00013496488406821247\n",
       "2.3116993709760397e-62  75.07054877940361 ... 0.00013496488406821247\n",
       "2.3116993709760397e-62  75.07054877940361 ... 0.00013496488406821247"
      ]
     },
     "execution_count": 11,
     "metadata": {},
     "output_type": "execute_result"
    }
   ],
   "source": [
    "hpx_map"
   ]
  },
  {
   "cell_type": "code",
   "execution_count": 12,
   "metadata": {},
   "outputs": [],
   "source": [
    "hpx = np.array(hpx_map['PROB'])"
   ]
  },
  {
   "cell_type": "code",
   "execution_count": 13,
   "metadata": {},
   "outputs": [],
   "source": [
    "i = np.flipud(np.argsort(hpx))\n",
    "sorted_credible_levels = np.cumsum(hpx[i])\n",
    "credible_levels = np.empty_like(sorted_credible_levels)\n",
    "credible_levels[i] = sorted_credible_levels\n",
    "hpx_90percent, = np.where(credible_levels <= 0.9)"
   ]
  },
  {
   "cell_type": "code",
   "execution_count": 14,
   "metadata": {},
   "outputs": [
    {
     "name": "stdout",
     "output_type": "stream",
     "text": [
      "# pix: 50331648\n"
     ]
    }
   ],
   "source": [
    "print('# pix: %i'%(credible_levels.size))"
   ]
  },
  {
   "cell_type": "code",
   "execution_count": 16,
   "metadata": {},
   "outputs": [
    {
     "name": "stdout",
     "output_type": "stream",
     "text": [
      "Nside, Npix: 8192, 805306368\n",
      "Nside, Npix: 4096, 201326592\n",
      "Nside, Npix: 2730, 89434800\n",
      "Nside, Npix: 2048, 50331648\n",
      "Nside, Npix: 1638, 32196528\n",
      "Nside, Npix: 1365, 22358700\n",
      "Nside, Npix: 1170, 16426800\n",
      "Nside, Npix: 1024, 12582912\n",
      "Nside, Npix: 910, 9937200\n"
     ]
    }
   ],
   "source": [
    "nside = 16384\n",
    "for i in range(1,10):\n",
    "    factor = 2*i\n",
    "    print('Nside, Npix: %i, %i'%(nside/factor,hp.nside2npix(nside/factor)))"
   ]
  },
  {
   "cell_type": "code",
   "execution_count": null,
   "metadata": {},
   "outputs": [],
   "source": []
  },
  {
   "cell_type": "code",
   "execution_count": 17,
   "metadata": {},
   "outputs": [],
   "source": [
    "## Degrade Buzzard Map\n",
    "nside_gw = 2048\n",
    "npix = hp.nside2npix(nside_gw)\n",
    "    \n",
    "thetas,phis = np.radians(90-dec),np.radians(ra)\n",
    "\n",
    "# Go from radec to HEALPix coordinates \n",
    "hpx2048 = hp.ang2pix(nside_gw, thetas, phis, nest=True)\n",
    "\n",
    "hpxmap = np.zeros(npix, dtype=np.float)\n",
    "w, values = np.unique(hpx2048,return_counts=True)\n",
    "hpxmap[w] = values"
   ]
  },
  {
   "cell_type": "code",
   "execution_count": null,
   "metadata": {},
   "outputs": [],
   "source": []
  },
  {
   "cell_type": "markdown",
   "metadata": {},
   "source": [
    "## Plot Maps"
   ]
  },
  {
   "cell_type": "code",
   "execution_count": 18,
   "metadata": {},
   "outputs": [
    {
     "data": {
      "image/png": "[encoded data removed]",
      "text/plain": [
       "<Figure size 612x388.8 with 2 Axes>"
      ]
     },
     "metadata": {},
     "output_type": "display_data"
    }
   ],
   "source": [
    "import healpy as hp\n",
    "hp.mollview(credible_levels, nest=True, title=\"GW Map\")"
   ]
  },
  {
   "cell_type": "code",
   "execution_count": 19,
   "metadata": {},
   "outputs": [
    {
     "data": {
      "image/png": "[encoded data removed]",
      "text/plain": [
       "<Figure size 612x388.8 with 2 Axes>"
      ]
     },
     "metadata": {},
     "output_type": "display_data"
    }
   ],
   "source": [
    "hp.mollview(hpxmap, nest=True, title=\"Buzzard Map\")"
   ]
  },
  {
   "cell_type": "code",
   "execution_count": null,
   "metadata": {},
   "outputs": [],
   "source": []
  },
  {
   "cell_type": "code",
   "execution_count": null,
   "metadata": {},
   "outputs": [],
   "source": []
  },
  {
   "cell_type": "markdown",
   "metadata": {},
   "source": [
    "## Healpix Matching"
   ]
  },
  {
   "cell_type": "code",
   "execution_count": 20,
   "metadata": {},
   "outputs": [
    {
     "data": {
      "text/plain": [
       "array([33930176, 33930177, 33930178, ..., 35389309, 35389310, 35389311])"
      ]
     },
     "execution_count": 20,
     "metadata": {},
     "output_type": "execute_result"
    }
   ],
   "source": [
    "hpx_90percent"
   ]
  },
  {
   "cell_type": "code",
   "execution_count": 21,
   "metadata": {},
   "outputs": [],
   "source": [
    "match  = esutil.numpy_util.match(hpx_90percent,hpx2048)\n",
    "indices= maglim_idx[match[1]]"
   ]
  },
  {
   "cell_type": "code",
   "execution_count": 22,
   "metadata": {},
   "outputs": [
    {
     "data": {
      "text/plain": [
       "0.008673531111798152"
      ]
     },
     "execution_count": 22,
     "metadata": {},
     "output_type": "execute_result"
    }
   ],
   "source": [
    "1.*match[1].size/hpx2048.size"
   ]
  },
  {
   "cell_type": "code",
   "execution_count": 23,
   "metadata": {},
   "outputs": [
    {
     "data": {
      "text/plain": [
       "0.04485887096774194"
      ]
     },
     "execution_count": 23,
     "metadata": {},
     "output_type": "execute_result"
    }
   ],
   "source": [
    "1.*match[0].size/hpx_90percent.size"
   ]
  },
  {
   "cell_type": "code",
   "execution_count": null,
   "metadata": {},
   "outputs": [],
   "source": []
  },
  {
   "cell_type": "markdown",
   "metadata": {},
   "source": [
    "## Querying matched sample"
   ]
  },
  {
   "cell_type": "code",
   "execution_count": 24,
   "metadata": {},
   "outputs": [],
   "source": [
    "def load_hdf_files(infile,indices,columns,path='catalog/gold/'):\n",
    "    master = h5py.File(infile,'r')\n",
    "    gold   = master[path]\n",
    "    \n",
    "    mydict = dict().fromkeys(columns)\n",
    "    for col in columns:\n",
    "        mydict[col] = gold[col][:][indices]\n",
    "    \n",
    "    master.close()\n",
    "    return Table(mydict)"
   ]
  },
  {
   "cell_type": "code",
   "execution_count": 27,
   "metadata": {},
   "outputs": [],
   "source": [
    "fname  = path+'Buzzard_v2.0_Y3a_gold.h5'\n",
    "data = load_hdf_files(fname,indices,columns,path='catalog/gold/')"
   ]
  },
  {
   "cell_type": "code",
   "execution_count": 28,
   "metadata": {},
   "outputs": [],
   "source": [
    "fname_bpz = path+'Buzzard_v2.0_Y3a_bpz.h5'\n",
    "zdata = load_hdf_files(fname_bpz,indices,['coadd_object_id','z'],path='catalog/bpz/')"
   ]
  },
  {
   "cell_type": "code",
   "execution_count": null,
   "metadata": {},
   "outputs": [],
   "source": []
  },
  {
   "cell_type": "code",
   "execution_count": 29,
   "metadata": {},
   "outputs": [
    {
     "data": {
      "text/html": [
       "&lt;Table length=2581&gt;\n",
       "<table id=\"table139845795853136\" class=\"table-striped table-bordered table-condensed\">\n",
       "<thead><tr><th>mag_err_i</th><th>mag_g</th><th>mag_err_r</th><th>mag_r</th><th>mag_i</th><th>hpix_16384</th><th>mag_err_z</th><th>ra</th><th>haloid</th><th>coadd_object_id</th><th>dec</th><th>rhalo</th><th>mag_err_g</th><th>mag_z</th></tr></thead>\n",
       "<thead><tr><th>float32</th><th>float32</th><th>float32</th><th>float32</th><th>float32</th><th>int64</th><th>float32</th><th>float32</th><th>int64</th><th>int64</th><th>float32</th><th>float32</th><th>float32</th><th>float32</th></tr></thead>\n",
       "<tr><td>0.002681993</td><td>17.94115</td><td>0.0024353066</td><td>16.998877</td><td>16.5778</td><td>2171531353</td><td>0.0026841834</td><td>69.79563</td><td>9750594</td><td>57006545937</td><td>-64.52653</td><td>0.0</td><td>0.0036970421</td><td>16.294415</td></tr>\n",
       "<tr><td>0.0030265478</td><td>18.343966</td><td>0.0028363585</td><td>17.32179</td><td>16.8747</td><td>2171531607</td><td>0.0031541064</td><td>69.8445</td><td>9750594</td><td>57006549153</td><td>-64.47845</td><td>0.3475223</td><td>0.004895578</td><td>16.554644</td></tr>\n",
       "<tr><td>0.003522672</td><td>18.305492</td><td>0.0031305433</td><td>17.301388</td><td>16.932566</td><td>2171535088</td><td>0.003939595</td><td>69.41006</td><td>9752167</td><td>57006546523</td><td>-64.26516</td><td>0.0</td><td>0.005480098</td><td>16.664116</td></tr>\n",
       "<tr><td>0.0021868453</td><td>17.168234</td><td>0.0017280267</td><td>16.539192</td><td>16.200027</td><td>2171568580</td><td>0.0028754324</td><td>70.42767</td><td>9728647</td><td>57006547566</td><td>-64.47195</td><td>3.407616</td><td>0.0024070023</td><td>16.041061</td></tr>\n",
       "<tr><td>0.0030165454</td><td>18.19981</td><td>0.0027153122</td><td>17.250586</td><td>16.810488</td><td>2171568777</td><td>0.0031162095</td><td>70.22746</td><td>9728647</td><td>57006552129</td><td>-64.490364</td><td>0.047017217</td><td>0.0044564456</td><td>16.5045</td></tr>\n",
       "<tr><td>0.0013674889</td><td>16.454388</td><td>0.0012055134</td><td>15.489852</td><td>15.095932</td><td>2171568781</td><td>0.001427935</td><td>70.23299</td><td>9728647</td><td>57006546590</td><td>-64.486786</td><td>0.11734714</td><td>0.001984661</td><td>14.8119</td></tr>\n",
       "<tr><td>0.00347399</td><td>17.78561</td><td>0.0027369456</td><td>17.151419</td><td>16.842594</td><td>2171569562</td><td>0.0051182425</td><td>70.46062</td><td>9710497</td><td>57006556315</td><td>-64.38727</td><td>0.9927234</td><td>0.0032103844</td><td>16.665594</td></tr>\n",
       "<tr><td>0.0025402359</td><td>17.510138</td><td>0.0021115523</td><td>16.591755</td><td>16.169859</td><td>2171569566</td><td>0.003529099</td><td>70.46184</td><td>9710497</td><td>57006551101</td><td>-64.38088</td><td>0.69780713</td><td>0.0028250373</td><td>15.872665</td></tr>\n",
       "<tr><td>0.0028700344</td><td>17.78906</td><td>0.0024866092</td><td>16.830118</td><td>16.47471</td><td>2171570311</td><td>0.0037996469</td><td>70.11174</td><td>9754521</td><td>57006547126</td><td>-64.44099</td><td>3.5582654</td><td>0.0037674264</td><td>16.225582</td></tr>\n",
       "<tr><td>0.0019605295</td><td>16.19872</td><td>0.0015348871</td><td>15.375093</td><td>15.008207</td><td>2171570592</td><td>0.002432349</td><td>70.12055</td><td>9710497</td><td>57006546710</td><td>-64.39507</td><td>0.66664445</td><td>0.0018888434</td><td>14.729832</td></tr>\n",
       "<tr><td>...</td><td>...</td><td>...</td><td>...</td><td>...</td><td>...</td><td>...</td><td>...</td><td>...</td><td>...</td><td>...</td><td>...</td><td>...</td><td>...</td></tr>\n",
       "<tr><td>0.0023565546</td><td>17.264296</td><td>0.0019587944</td><td>16.332129</td><td>15.989421</td><td>2264887821</td><td>0.0030644524</td><td>56.561127</td><td>9991955</td><td>13000000759</td><td>-30.630976</td><td>0.0</td><td>0.0029831312</td><td>15.734229</td></tr>\n",
       "<tr><td>0.0020350234</td><td>16.322916</td><td>0.0017273951</td><td>15.559969</td><td>15.266153</td><td>2264888499</td><td>0.002762297</td><td>56.666256</td><td>9678502</td><td>13000008138</td><td>-30.554296</td><td>3.276807</td><td>0.00252487</td><td>15.021981</td></tr>\n",
       "<tr><td>0.0019650168</td><td>16.788054</td><td>0.0016524962</td><td>15.977675</td><td>15.665111</td><td>2264888887</td><td>0.0026061398</td><td>56.650055</td><td>9679212</td><td>13000009226</td><td>-30.525066</td><td>0.06239872</td><td>0.002353838</td><td>15.422962</td></tr>\n",
       "<tr><td>0.003293609</td><td>18.041267</td><td>0.0028097795</td><td>17.219318</td><td>16.85142</td><td>2264889149</td><td>0.0042052823</td><td>56.69061</td><td>9993696</td><td>13000004184</td><td>-30.480257</td><td>1.5931569</td><td>0.004214737</td><td>16.640945</td></tr>\n",
       "<tr><td>0.0032143623</td><td>18.068342</td><td>0.0026962084</td><td>17.153996</td><td>16.74386</td><td>2264890082</td><td>0.0039376887</td><td>56.457035</td><td>9993360</td><td>13000008408</td><td>-30.502264</td><td>2.2466793</td><td>0.004601427</td><td>16.45594</td></tr>\n",
       "<tr><td>0.0019731007</td><td>16.903498</td><td>0.0017390574</td><td>16.194063</td><td>15.8059435</td><td>2264891198</td><td>0.0024996183</td><td>56.600346</td><td>9995003</td><td>13000001666</td><td>-30.392736</td><td>5.0012183</td><td>0.0023688248</td><td>15.568344</td></tr>\n",
       "<tr><td>0.0038984378</td><td>18.061087</td><td>0.003324899</td><td>17.281178</td><td>16.926731</td><td>2264891314</td><td>0.0047789617</td><td>56.575768</td><td>9678502</td><td>13000032801</td><td>-30.384327</td><td>2.8453481</td><td>0.0048910035</td><td>16.641735</td></tr>\n",
       "<tr><td>0.0022933164</td><td>17.11612</td><td>0.0019436384</td><td>16.40667</td><td>16.073683</td><td>2264912670</td><td>0.0029224681</td><td>56.434</td><td>9993696</td><td>13000000445</td><td>-30.403511</td><td>0.0</td><td>0.0027473243</td><td>15.875908</td></tr>\n",
       "<tr><td>0.0024358109</td><td>17.36078</td><td>0.00205388</td><td>16.61939</td><td>16.27879</td><td>2264912683</td><td>0.0031966</td><td>56.40907</td><td>9993696</td><td>13000001426</td><td>-30.408756</td><td>0.43355548</td><td>0.0030361714</td><td>16.08034</td></tr>\n",
       "<tr><td>0.0030785268</td><td>18.123932</td><td>0.00277239</td><td>17.130201</td><td>16.6719</td><td>2264912703</td><td>0.003927821</td><td>56.426083</td><td>9993696</td><td>13000003540</td><td>-30.391058</td><td>0.08684823</td><td>0.004579783</td><td>16.359245</td></tr>\n",
       "</table>"
      ],
      "text/plain": [
       "<Table length=2581>\n",
       " mag_err_i     mag_g    mag_err_r   ...    rhalo     mag_err_g     mag_z  \n",
       "  float32     float32    float32    ...   float32     float32     float32 \n",
       "------------ --------- ------------ ... ----------- ------------ ---------\n",
       " 0.002681993  17.94115 0.0024353066 ...         0.0 0.0036970421 16.294415\n",
       "0.0030265478 18.343966 0.0028363585 ...   0.3475223  0.004895578 16.554644\n",
       " 0.003522672 18.305492 0.0031305433 ...         0.0  0.005480098 16.664116\n",
       "0.0021868453 17.168234 0.0017280267 ...    3.407616 0.0024070023 16.041061\n",
       "0.0030165454  18.19981 0.0027153122 ... 0.047017217 0.0044564456   16.5045\n",
       "0.0013674889 16.454388 0.0012055134 ...  0.11734714  0.001984661   14.8119\n",
       "  0.00347399  17.78561 0.0027369456 ...   0.9927234 0.0032103844 16.665594\n",
       "0.0025402359 17.510138 0.0021115523 ...  0.69780713 0.0028250373 15.872665\n",
       "0.0028700344  17.78906 0.0024866092 ...   3.5582654 0.0037674264 16.225582\n",
       "0.0019605295  16.19872 0.0015348871 ...  0.66664445 0.0018888434 14.729832\n",
       "         ...       ...          ... ...         ...          ...       ...\n",
       "0.0023565546 17.264296 0.0019587944 ...         0.0 0.0029831312 15.734229\n",
       "0.0020350234 16.322916 0.0017273951 ...    3.276807   0.00252487 15.021981\n",
       "0.0019650168 16.788054 0.0016524962 ...  0.06239872  0.002353838 15.422962\n",
       " 0.003293609 18.041267 0.0028097795 ...   1.5931569  0.004214737 16.640945\n",
       "0.0032143623 18.068342 0.0026962084 ...   2.2466793  0.004601427  16.45594\n",
       "0.0019731007 16.903498 0.0017390574 ...   5.0012183 0.0023688248 15.568344\n",
       "0.0038984378 18.061087  0.003324899 ...   2.8453481 0.0048910035 16.641735\n",
       "0.0022933164  17.11612 0.0019436384 ...         0.0 0.0027473243 15.875908\n",
       "0.0024358109  17.36078   0.00205388 ...  0.43355548 0.0030361714  16.08034\n",
       "0.0030785268 18.123932   0.00277239 ...  0.08684823  0.004579783 16.359245"
      ]
     },
     "execution_count": 29,
     "metadata": {},
     "output_type": "execute_result"
    }
   ],
   "source": [
    "data"
   ]
  },
  {
   "cell_type": "code",
   "execution_count": 30,
   "metadata": {},
   "outputs": [
    {
     "data": {
      "text/html": [
       "&lt;Table length=2581&gt;\n",
       "<table id=\"table139845796093520\" class=\"table-striped table-bordered table-condensed\">\n",
       "<thead><tr><th>coadd_object_id</th><th>z</th></tr></thead>\n",
       "<thead><tr><th>int64</th><th>float64</th></tr></thead>\n",
       "<tr><td>57006545937</td><td>0.12781614969080124</td></tr>\n",
       "<tr><td>57006549153</td><td>0.1267228163711511</td></tr>\n",
       "<tr><td>57006546523</td><td>0.13118181037744975</td></tr>\n",
       "<tr><td>57006547566</td><td>0.10550755577890893</td></tr>\n",
       "<tr><td>57006552129</td><td>0.10518850258559409</td></tr>\n",
       "<tr><td>57006546590</td><td>0.10399139464955462</td></tr>\n",
       "<tr><td>57006556315</td><td>0.0844583778833553</td></tr>\n",
       "<tr><td>57006551101</td><td>0.08406815840508375</td></tr>\n",
       "<tr><td>57006547126</td><td>0.12994835710685662</td></tr>\n",
       "<tr><td>57006546710</td><td>0.08253964752752359</td></tr>\n",
       "<tr><td>...</td><td>...</td></tr>\n",
       "<tr><td>13000000759</td><td>0.10045820370698344</td></tr>\n",
       "<tr><td>13000008138</td><td>0.04781615474517098</td></tr>\n",
       "<tr><td>13000009226</td><td>0.0548643970445253</td></tr>\n",
       "<tr><td>13000004184</td><td>0.11580835398929298</td></tr>\n",
       "<tr><td>13000008408</td><td>0.09269940325940342</td></tr>\n",
       "<tr><td>13000001666</td><td>0.09474349567004474</td></tr>\n",
       "<tr><td>13000032801</td><td>0.04784108297103681</td></tr>\n",
       "<tr><td>13000000445</td><td>0.11655551139204426</td></tr>\n",
       "<tr><td>13000001426</td><td>0.11761938226105233</td></tr>\n",
       "<tr><td>13000003540</td><td>0.11698592868805467</td></tr>\n",
       "</table>"
      ],
      "text/plain": [
       "<Table length=2581>\n",
       "coadd_object_id          z         \n",
       "     int64            float64      \n",
       "--------------- -------------------\n",
       "    57006545937 0.12781614969080124\n",
       "    57006549153  0.1267228163711511\n",
       "    57006546523 0.13118181037744975\n",
       "    57006547566 0.10550755577890893\n",
       "    57006552129 0.10518850258559409\n",
       "    57006546590 0.10399139464955462\n",
       "    57006556315  0.0844583778833553\n",
       "    57006551101 0.08406815840508375\n",
       "    57006547126 0.12994835710685662\n",
       "    57006546710 0.08253964752752359\n",
       "            ...                 ...\n",
       "    13000000759 0.10045820370698344\n",
       "    13000008138 0.04781615474517098\n",
       "    13000009226  0.0548643970445253\n",
       "    13000004184 0.11580835398929298\n",
       "    13000008408 0.09269940325940342\n",
       "    13000001666 0.09474349567004474\n",
       "    13000032801 0.04784108297103681\n",
       "    13000000445 0.11655551139204426\n",
       "    13000001426 0.11761938226105233\n",
       "    13000003540 0.11698592868805467"
      ]
     },
     "execution_count": 30,
     "metadata": {},
     "output_type": "execute_result"
    }
   ],
   "source": [
    "zdata"
   ]
  },
  {
   "cell_type": "code",
   "execution_count": null,
   "metadata": {},
   "outputs": [],
   "source": []
  }
 ],
 "metadata": {
  "kernelspec": {
   "display_name": "Python 2",
   "language": "python",
   "name": "python2"
  },
  "language_info": {
   "codemirror_mode": {
    "name": "ipython",
    "version": 2
   },
   "file_extension": ".py",
   "mimetype": "text/x-python",
   "name": "python",
   "nbconvert_exporter": "python",
   "pygments_lexer": "ipython2",
   "version": "2.7.15"
  }
 },
 "nbformat": 4,
 "nbformat_minor": 4
}
