{
 "cells": [
  {
   "cell_type": "markdown",
   "metadata": {},
   "source": [
    "# Get Galaxies From Halos\n",
    "\n",
    "info: https://cdcvs.fnal.gov/redmine/projects/des-clusters/wiki/ClustDataVecY3 <br>\n",
    "rm  : https://cdcvs.fnal.gov/redmine/projects/des-clusters/wiki/RedMaPPer_on_Y3A2 <br>\n",
    "path: /project/projectdirs/des/www/y3_cats/\t"
   ]
  },
  {
   "cell_type": "code",
   "execution_count": 1,
   "metadata": {},
   "outputs": [],
   "source": [
    "import matplotlib.pyplot as plt\n",
    "import numpy as np\n",
    "import os\n",
    "\n",
    "from astropy.table import Table, vstack\n",
    "from astropy.io.fits import getdata\n",
    "\n",
    "import pandas as pd\n",
    "\n",
    "import esutil"
   ]
  },
  {
   "cell_type": "code",
   "execution_count": null,
   "metadata": {},
   "outputs": [],
   "source": []
  },
  {
   "cell_type": "markdown",
   "metadata": {},
   "source": [
    "## Load"
   ]
  },
  {
   "cell_type": "code",
   "execution_count": 13,
   "metadata": {
    "scrolled": true
   },
   "outputs": [],
   "source": [
    "import h5py\n",
    "\n",
    "#path   = '/data/des81.b/data/mariaeli/y3_buzz/Buzzard-3_v2.0_Y3a_mastercat/'\n",
    "path   = '/data/des81.b/data/mariaeli/y3_cats/subsampled/'\n",
    "fname  =     path+'Y3_GOLD_2_2.1_subsampled.h5'\n",
    "fname_aux  = path+'Y3_GOLD_2_2.1_DNF_subsampled.h5'\n",
    "\n",
    "master = h5py.File(fname,'r')\n",
    "aux    = h5py.File(fname_aux,'r')"
   ]
  },
  {
   "cell_type": "code",
   "execution_count": 14,
   "metadata": {},
   "outputs": [
    {
     "name": "stdout",
     "output_type": "stream",
     "text": [
      "Y3_GOLD_2_2.1_BPZ_subsampled.h5\r\n",
      "Y3_GOLD_2_2.1_DNF_subsampled.h5\r\n",
      "Y3_GOLD_2_2_1_maps.h5\r\n",
      "Y3_GOLD_2_2.1_subsampled.h5\r\n",
      "y3_gold_2.2.1_wide_sofcol_run_redmapper_v6.4.22_wv1.2_subsampled.h5\r\n",
      "Y3_mastercat_6_15_19_subsampled.h5\r\n",
      "y3v02-mcal-003-v1_subsampled.h5\r\n"
     ]
    }
   ],
   "source": [
    "ls /data/des81.b/data/mariaeli/y3_cats/subsampled"
   ]
  },
  {
   "cell_type": "code",
   "execution_count": null,
   "metadata": {},
   "outputs": [],
   "source": []
  },
  {
   "cell_type": "code",
   "execution_count": null,
   "metadata": {},
   "outputs": [],
   "source": []
  },
  {
   "cell_type": "code",
   "execution_count": 15,
   "metadata": {},
   "outputs": [
    {
     "name": "stdout",
     "output_type": "stream",
     "text": [
      "ls: cannot access /global/project/projectdirs/des/jderose/Chinchilla/Herd/Chinchilla-3/v1.9.8/sampleselection/Y3a/mastercat/: No such file or directory\r\n"
     ]
    }
   ],
   "source": [
    "ls /global/project/projectdirs/des/jderose/Chinchilla/Herd/Chinchilla-3/v1.9.8/sampleselection/Y3a/mastercat/"
   ]
  },
  {
   "cell_type": "code",
   "execution_count": 16,
   "metadata": {},
   "outputs": [],
   "source": [
    "def show_h5_group(name,node):\n",
    "    ''' show all the h5 groups\n",
    "    Example:\n",
    "    fmaster = h5py.File(copa.master_fname,'r')\n",
    "    fmaster.visititems(show_h5_group)\n",
    "\n",
    "    ## https://stackoverflow.com/questions/45562169/traverse-hdf5-file-tree-and-continue-after-return\n",
    "    '''\n",
    "    if isinstance(node, h5py.Group):\n",
    "        print(name,node)\n",
    "    return None\n",
    "\n",
    "def show_h5_dataset(name,node):\n",
    "    if isinstance(node, h5py.Dataset):\n",
    "        print(name,node)\n",
    "    return None"
   ]
  },
  {
   "cell_type": "code",
   "execution_count": 17,
   "metadata": {},
   "outputs": [
    {
     "name": "stdout",
     "output_type": "stream",
     "text": [
      "(u'catalog/gold/a_sed_sfd98_g', <HDF5 dataset \"a_sed_sfd98_g\": shape (39926304,), type \">f4\">)\n",
      "(u'catalog/gold/a_sed_sfd98_i', <HDF5 dataset \"a_sed_sfd98_i\": shape (39926304,), type \">f4\">)\n",
      "(u'catalog/gold/a_sed_sfd98_r', <HDF5 dataset \"a_sed_sfd98_r\": shape (39926304,), type \">f4\">)\n",
      "(u'catalog/gold/a_sed_sfd98_z', <HDF5 dataset \"a_sed_sfd98_z\": shape (39926304,), type \">f4\">)\n",
      "(u'catalog/gold/coadd_object_id', <HDF5 dataset \"coadd_object_id\": shape (39926304,), type \">i8\">)\n",
      "(u'catalog/gold/dec', <HDF5 dataset \"dec\": shape (39926304,), type \">f8\">)\n",
      "(u'catalog/gold/delta_mag_chrom_g', <HDF5 dataset \"delta_mag_chrom_g\": shape (39926304,), type \">f4\">)\n",
      "(u'catalog/gold/delta_mag_chrom_i', <HDF5 dataset \"delta_mag_chrom_i\": shape (39926304,), type \">f4\">)\n",
      "(u'catalog/gold/delta_mag_chrom_r', <HDF5 dataset \"delta_mag_chrom_r\": shape (39926304,), type \">f4\">)\n",
      "(u'catalog/gold/delta_mag_chrom_z', <HDF5 dataset \"delta_mag_chrom_z\": shape (39926304,), type \">f4\">)\n",
      "(u'catalog/gold/delta_mag_y4_g', <HDF5 dataset \"delta_mag_y4_g\": shape (39926304,), type \">f4\">)\n",
      "(u'catalog/gold/delta_mag_y4_i', <HDF5 dataset \"delta_mag_y4_i\": shape (39926304,), type \">f4\">)\n",
      "(u'catalog/gold/delta_mag_y4_r', <HDF5 dataset \"delta_mag_y4_r\": shape (39926304,), type \">f4\">)\n",
      "(u'catalog/gold/delta_mag_y4_z', <HDF5 dataset \"delta_mag_y4_z\": shape (39926304,), type \">f4\">)\n",
      "(u'catalog/gold/ebv_sfd98', <HDF5 dataset \"ebv_sfd98\": shape (39926304,), type \">f4\">)\n",
      "(u'catalog/gold/extended_class_mash_sof', <HDF5 dataset \"extended_class_mash_sof\": shape (39926304,), type \">i2\">)\n",
      "(u'catalog/gold/flags', <HDF5 dataset \"flags\": shape (39926304,), type \">i4\">)\n",
      "(u'catalog/gold/flags_badregions', <HDF5 dataset \"flags_badregions\": shape (39926304,), type \">i4\">)\n",
      "(u'catalog/gold/flags_footprint', <HDF5 dataset \"flags_footprint\": shape (39926304,), type \">i4\">)\n",
      "(u'catalog/gold/flags_foreground', <HDF5 dataset \"flags_foreground\": shape (39926304,), type \">i4\">)\n",
      "(u'catalog/gold/flags_gold', <HDF5 dataset \"flags_gold\": shape (39926304,), type \">i4\">)\n",
      "(u'catalog/gold/flags_phot', <HDF5 dataset \"flags_phot\": shape (39926304,), type \">i4\">)\n",
      "(u'catalog/gold/hpix_16384', <HDF5 dataset \"hpix_16384\": shape (39926304,), type \">i8\">)\n",
      "(u'catalog/gold/n_images_g', <HDF5 dataset \"n_images_g\": shape (39926304,), type \">i2\">)\n",
      "(u'catalog/gold/n_images_i', <HDF5 dataset \"n_images_i\": shape (39926304,), type \">i2\">)\n",
      "(u'catalog/gold/n_images_r', <HDF5 dataset \"n_images_r\": shape (39926304,), type \">i2\">)\n",
      "(u'catalog/gold/n_images_z', <HDF5 dataset \"n_images_z\": shape (39926304,), type \">i2\">)\n",
      "(u'catalog/gold/ra', <HDF5 dataset \"ra\": shape (39926304,), type \">f8\">)\n",
      "(u'catalog/gold/sextractor_flags_g', <HDF5 dataset \"sextractor_flags_g\": shape (39926304,), type \">i2\">)\n",
      "(u'catalog/gold/sextractor_flags_i', <HDF5 dataset \"sextractor_flags_i\": shape (39926304,), type \">i2\">)\n",
      "(u'catalog/gold/sextractor_flags_r', <HDF5 dataset \"sextractor_flags_r\": shape (39926304,), type \">i2\">)\n",
      "(u'catalog/gold/sextractor_flags_z', <HDF5 dataset \"sextractor_flags_z\": shape (39926304,), type \">i2\">)\n",
      "(u'catalog/gold/sof_cm_flux_corrected_g', <HDF5 dataset \"sof_cm_flux_corrected_g\": shape (39926304,), type \">f8\">)\n",
      "(u'catalog/gold/sof_cm_flux_corrected_i', <HDF5 dataset \"sof_cm_flux_corrected_i\": shape (39926304,), type \">f8\">)\n",
      "(u'catalog/gold/sof_cm_flux_corrected_r', <HDF5 dataset \"sof_cm_flux_corrected_r\": shape (39926304,), type \">f8\">)\n",
      "(u'catalog/gold/sof_cm_flux_corrected_z', <HDF5 dataset \"sof_cm_flux_corrected_z\": shape (39926304,), type \">f8\">)\n",
      "(u'catalog/gold/sof_cm_flux_err_g', <HDF5 dataset \"sof_cm_flux_err_g\": shape (39926304,), type \">f8\">)\n",
      "(u'catalog/gold/sof_cm_flux_err_i', <HDF5 dataset \"sof_cm_flux_err_i\": shape (39926304,), type \">f8\">)\n",
      "(u'catalog/gold/sof_cm_flux_err_r', <HDF5 dataset \"sof_cm_flux_err_r\": shape (39926304,), type \">f8\">)\n",
      "(u'catalog/gold/sof_cm_flux_err_z', <HDF5 dataset \"sof_cm_flux_err_z\": shape (39926304,), type \">f8\">)\n",
      "(u'catalog/gold/sof_cm_mag_corrected_g', <HDF5 dataset \"sof_cm_mag_corrected_g\": shape (39926304,), type \">f8\">)\n",
      "(u'catalog/gold/sof_cm_mag_corrected_i', <HDF5 dataset \"sof_cm_mag_corrected_i\": shape (39926304,), type \">f8\">)\n",
      "(u'catalog/gold/sof_cm_mag_corrected_r', <HDF5 dataset \"sof_cm_mag_corrected_r\": shape (39926304,), type \">f8\">)\n",
      "(u'catalog/gold/sof_cm_mag_corrected_z', <HDF5 dataset \"sof_cm_mag_corrected_z\": shape (39926304,), type \">f8\">)\n",
      "(u'catalog/gold/sof_cm_mag_err_g', <HDF5 dataset \"sof_cm_mag_err_g\": shape (39926304,), type \">f8\">)\n",
      "(u'catalog/gold/sof_cm_mag_err_i', <HDF5 dataset \"sof_cm_mag_err_i\": shape (39926304,), type \">f8\">)\n",
      "(u'catalog/gold/sof_cm_mag_err_r', <HDF5 dataset \"sof_cm_mag_err_r\": shape (39926304,), type \">f8\">)\n",
      "(u'catalog/gold/sof_cm_mag_err_z', <HDF5 dataset \"sof_cm_mag_err_z\": shape (39926304,), type \">f8\">)\n",
      "(u'catalog/gold/sof_flags', <HDF5 dataset \"sof_flags\": shape (39926304,), type \">i8\">)\n",
      "(u'catalog/gold/tilename', <HDF5 dataset \"tilename\": shape (39926304,), type \"|S12\">)\n",
      "(u'masks/gold/hpix', <HDF5 dataset \"hpix\": shape (2550145,), type \"<i8\">)\n"
     ]
    }
   ],
   "source": [
    "master.visititems(show_h5_dataset)"
   ]
  },
  {
   "cell_type": "code",
   "execution_count": 18,
   "metadata": {},
   "outputs": [
    {
     "name": "stdout",
     "output_type": "stream",
     "text": [
      "(u'catalog/sheared_1m/zmc_sof', <HDF5 dataset \"zmc_sof\": shape (39926304,), type \">f4\">)\n",
      "(u'catalog/sheared_1m/zmean_sof', <HDF5 dataset \"zmean_sof\": shape (39926304,), type \">f4\">)\n",
      "(u'catalog/sheared_1p/zmc_sof', <HDF5 dataset \"zmc_sof\": shape (39926304,), type \">f4\">)\n",
      "(u'catalog/sheared_1p/zmean_sof', <HDF5 dataset \"zmean_sof\": shape (39926304,), type \">f4\">)\n",
      "(u'catalog/sheared_2m/zmc_sof', <HDF5 dataset \"zmc_sof\": shape (39926304,), type \">f4\">)\n",
      "(u'catalog/sheared_2m/zmean_sof', <HDF5 dataset \"zmean_sof\": shape (39926304,), type \">f4\">)\n",
      "(u'catalog/sheared_2p/zmc_sof', <HDF5 dataset \"zmc_sof\": shape (39926304,), type \">f4\">)\n",
      "(u'catalog/sheared_2p/zmean_sof', <HDF5 dataset \"zmean_sof\": shape (39926304,), type \">f4\">)\n",
      "(u'catalog/unsheared/coadd_object_id', <HDF5 dataset \"coadd_object_id\": shape (39926304,), type \">i8\">)\n",
      "(u'catalog/unsheared/zmc_sof', <HDF5 dataset \"zmc_sof\": shape (39926304,), type \">f4\">)\n",
      "(u'catalog/unsheared/zmean_sof', <HDF5 dataset \"zmean_sof\": shape (39926304,), type \">f4\">)\n"
     ]
    }
   ],
   "source": [
    "aux.visititems(show_h5_dataset)"
   ]
  },
  {
   "cell_type": "code",
   "execution_count": null,
   "metadata": {},
   "outputs": [],
   "source": []
  },
  {
   "cell_type": "code",
   "execution_count": 19,
   "metadata": {},
   "outputs": [],
   "source": [
    "mag_i      = master['catalog/gold/sof_cm_mag_corrected_i'][:][:]\n",
    "maglim_idx = np.where((mag_i<=23.)&(mag_i>=0.))\n",
    "hpx16384   = master['catalog/gold/hpix_16384'][:][maglim_idx]#.astype(np.int64)\n",
    "\n",
    "cid   = aux['catalog/unsheared/coadd_object_id'][:]\n",
    "zmean = aux['catalog/unsheared/zmean_sof'][:]\n",
    "\n",
    "master.close()\n",
    "aux.close()"
   ]
  },
  {
   "cell_type": "code",
   "execution_count": 22,
   "metadata": {},
   "outputs": [
    {
     "data": {
      "text/plain": [
       "array([21.61505009, 20.68373325, 22.85796721, ..., 21.75018892,\n",
       "       19.4035524 , 22.85715772])"
      ]
     },
     "execution_count": 22,
     "metadata": {},
     "output_type": "execute_result"
    }
   ],
   "source": [
    "mag_i[maglim_idx]"
   ]
  },
  {
   "cell_type": "code",
   "execution_count": 24,
   "metadata": {},
   "outputs": [
    {
     "data": {
      "text/plain": [
       "<matplotlib.collections.PathCollection at 0x7fa58d8aec50>"
      ]
     },
     "execution_count": 24,
     "metadata": {},
     "output_type": "execute_result"
    },
    {
     "data": {
      "image/png": "[encoded data removed]",
      "text/plain": [
       "<Figure size 432x288 with 1 Axes>"
      ]
     },
     "metadata": {},
     "output_type": "display_data"
    }
   ],
   "source": [
    "plt.scatter(mag_i[maglim_idx][::4000],zmean[maglim_idx][::4000],s=10)"
   ]
  },
  {
   "cell_type": "code",
   "execution_count": null,
   "metadata": {},
   "outputs": [],
   "source": []
  },
  {
   "cell_type": "code",
   "execution_count": 26,
   "metadata": {},
   "outputs": [],
   "source": [
    "columns = ['hpix_16384','coadd_object_id','ra','dec','extended_class_mash_sof','flags_gold']\n",
    "columns+= ['mag_%s'%(ix) for ix in ['g','r','i','z']]\n",
    "columns+= ['mag_err_%s'%(ix) for ix in ['g','r','i','z']]"
   ]
  },
  {
   "cell_type": "code",
   "execution_count": 27,
   "metadata": {},
   "outputs": [
    {
     "data": {
      "text/plain": [
       "['hpix_16384',\n",
       " 'coadd_object_id',\n",
       " 'ra',\n",
       " 'dec',\n",
       " 'extended_class_mash_sof',\n",
       " 'flags_gold',\n",
       " 'mag_g',\n",
       " 'mag_r',\n",
       " 'mag_i',\n",
       " 'mag_z',\n",
       " 'mag_err_g',\n",
       " 'mag_err_r',\n",
       " 'mag_err_i',\n",
       " 'mag_err_z']"
      ]
     },
     "execution_count": 27,
     "metadata": {},
     "output_type": "execute_result"
    }
   ],
   "source": [
    "columns"
   ]
  },
  {
   "cell_type": "code",
   "execution_count": null,
   "metadata": {},
   "outputs": [],
   "source": []
  },
  {
   "cell_type": "markdown",
   "metadata": {},
   "source": [
    "### Loading Data"
   ]
  },
  {
   "cell_type": "code",
   "execution_count": 25,
   "metadata": {},
   "outputs": [],
   "source": [
    "## Healpix map\n",
    "Nside    = 8\n",
    "outdir   = '/global/u2/j/jesteves/codes/buzzardAnalysis/buzzardSelection/notebooks/Heidi'\n",
    "hpx_file = outdir+'/hpxmap_nside%i_buzzard_y3_v2.0.0.fits'%Nside"
   ]
  },
  {
   "cell_type": "code",
   "execution_count": 26,
   "metadata": {},
   "outputs": [],
   "source": [
    "hpx_map = Table(getdata(hpx_file))\n",
    "#tiles   = np.where(hpx_map['hpx_value']>30)[0]\n",
    "tiles = np.array(hpx_map['hpx_pixel'][(hpx_map['hpx_value']>0)&(hpx_map['hpx_pixel']<=550)&(hpx_map['hpx_pixel']>=500)])"
   ]
  },
  {
   "cell_type": "code",
   "execution_count": 27,
   "metadata": {},
   "outputs": [
    {
     "data": {
      "text/plain": [
       "array([519, 520, 522, 523, 524, 525, 526, 527, 528, 529, 530, 531, 532,\n",
       "       533, 534, 535, 536, 537, 538, 539, 540, 541, 542, 543, 544, 545,\n",
       "       546, 547, 548, 549, 550])"
      ]
     },
     "execution_count": 27,
     "metadata": {},
     "output_type": "execute_result"
    }
   ],
   "source": [
    "tiles"
   ]
  },
  {
   "cell_type": "code",
   "execution_count": 28,
   "metadata": {},
   "outputs": [
    {
     "data": {
      "text/plain": [
       "31"
      ]
     },
     "execution_count": 28,
     "metadata": {},
     "output_type": "execute_result"
    }
   ],
   "source": [
    "len(tiles)"
   ]
  },
  {
   "cell_type": "code",
   "execution_count": null,
   "metadata": {},
   "outputs": [],
   "source": []
  },
  {
   "cell_type": "code",
   "execution_count": null,
   "metadata": {},
   "outputs": [],
   "source": []
  },
  {
   "cell_type": "code",
   "execution_count": 29,
   "metadata": {},
   "outputs": [],
   "source": [
    "## get cluster data\n",
    "\n",
    "file1= '/global/homes/h/haoyiwu/data/buzzard-1.9.8/buzzard-1.9.8_3y3a_run_halos_lambda_chisq.fit'\n",
    "\n",
    "cat  = Table(getdata(file1))\n",
    "cat.rename_column('Z','redshift')"
   ]
  },
  {
   "cell_type": "code",
   "execution_count": 30,
   "metadata": {},
   "outputs": [],
   "source": [
    "ra,dec= cat['RA'], cat['DEC']\n",
    "zcls  = cat['Z_LAMBDA']\n",
    "\n",
    "zcut  = (zcls<=0.65)&(zcls>=0.2)\n",
    "\n",
    "#lmask = cat['LAMBDA_CHISQ']>=20. & zcut\n",
    "lmask = (cat['LAMBDA_CHISQ']>=5.)&(cat['LAMBDA_CHISQ']<=20.)&zcut\n",
    "\n",
    "#patch = dec<40.#(dec>-0.5)&(dec<0.5)&(ra<30)\n",
    "#cut = np.where(lmask&patch)\n",
    "\n",
    "cut = np.where(lmask)\n"
   ]
  },
  {
   "cell_type": "code",
   "execution_count": 31,
   "metadata": {},
   "outputs": [],
   "source": [
    "cat = cat[cut]"
   ]
  },
  {
   "cell_type": "code",
   "execution_count": null,
   "metadata": {},
   "outputs": [],
   "source": []
  },
  {
   "cell_type": "code",
   "execution_count": 32,
   "metadata": {},
   "outputs": [],
   "source": [
    "# ra_min,ra_max   = 26.,30.\n",
    "# dec_min,dec_max = -44.5,-43.\n",
    "\n",
    "# mask = (cat['RA']<ra_max)&(cat['RA']>ra_min)\n",
    "# mask&= (cat['DEC']<dec_max)&(cat['DEC']>dec_min)"
   ]
  },
  {
   "cell_type": "code",
   "execution_count": 33,
   "metadata": {},
   "outputs": [],
   "source": [
    "cls_columns = ['HALOID', 'M200', 'R200', 'MEM_MATCH_ID', 'RA', 'DEC', 'redshift', 'Z_COS', 'P_BCG', 'Z_LAMBDA', 'LAMBDA_CHISQ', 'LAMBDA_CHISQ_E', 'LAMBDA_CHISQ_ZORIG',\n",
    "               'SCALEVAL', 'LAMBDA_ZRED', 'LAMBDA_ZRED_E', 'MASKFRAC', 'GEOMASKFRAC', 'R_LAMBDA', 'R_MASK', 'Z_LAMBDA_E', 'NCROSS', 'Z_LAMBDA_NITER', 'DLAMBDA_DZ', 'DLAMBDA_DZ2', \n",
    "               'DLAMBDAVAR_DZ', 'DLAMBDAVAR_DZ2','Z_LAMBDA_RAW', 'Z_LAMBDA_E_RAW', 'BCG_SPEC_Z', 'LIM_EXPTIME', 'LIM_LIMMAG_DERED', 'LIM_LIMMAG', 'LIM_LIMMAG_HARD']\n",
    "\n",
    "cat = cat[cls_columns]"
   ]
  },
  {
   "cell_type": "code",
   "execution_count": 34,
   "metadata": {},
   "outputs": [
    {
     "name": "stdout",
     "output_type": "stream",
     "text": [
      "251417\n"
     ]
    }
   ],
   "source": [
    "print(len(cat))"
   ]
  },
  {
   "cell_type": "code",
   "execution_count": null,
   "metadata": {},
   "outputs": [],
   "source": []
  },
  {
   "cell_type": "markdown",
   "metadata": {},
   "source": [
    "### Healpix Matching"
   ]
  },
  {
   "cell_type": "code",
   "execution_count": 35,
   "metadata": {},
   "outputs": [],
   "source": [
    "import sys\n",
    "# sys.path.append('/home/s1/jesteves/git/buzzardAnalysis/buzzardSelection/scripts/')\n",
    "sys.path.append('/global/u2/j/jesteves/codes/buzzardAnalysis/buzzardSelection/scripts/')\n",
    "from helper import AngularDistance,get_healpix_list,radec_pix"
   ]
  },
  {
   "cell_type": "code",
   "execution_count": 36,
   "metadata": {},
   "outputs": [],
   "source": [
    "# ra,dec= cat['RA'], cat['DEC']\n",
    "# lmask = cat['LAMBDA_CHISQ']>5.\n",
    "# patch = (dec>-0.5)&(dec<0.5)&(ra<30)\n",
    "\n",
    "# cut = np.where(lmask&patch)"
   ]
  },
  {
   "cell_type": "code",
   "execution_count": null,
   "metadata": {},
   "outputs": [],
   "source": [
    "rad2deg  = 180/np.pi\n",
    "rmax     = 8 #Mpc around each cluster\n",
    "\n",
    "#r200     = cat['R200'][:]*0.7 ## Mpc\n",
    "DA       = np.ones_like(np.array(cat['redshift']))\n",
    "# DA[cut]  = AngularDistance(np.array(cat['redshift'][cut]))\n",
    "DA  = AngularDistance(np.array(cat['redshift']))\n",
    "\n",
    "## compute the radii max\n",
    "cat['rmax']  = 60*(float(rmax)/DA)*rad2deg ## arcmin"
   ]
  },
  {
   "cell_type": "code",
   "execution_count": null,
   "metadata": {},
   "outputs": [],
   "source": [
    "ra,dec= cat['RA'], cat['DEC']\n",
    "cluster_tile = radec_pix(ra,dec,nside=8)"
   ]
  },
  {
   "cell_type": "code",
   "execution_count": null,
   "metadata": {},
   "outputs": [],
   "source": [
    "_ = plt.hist(cluster_tile,bins=51)"
   ]
  },
  {
   "cell_type": "code",
   "execution_count": null,
   "metadata": {},
   "outputs": [],
   "source": [
    "#plt.hist(cat['redshift'])"
   ]
  },
  {
   "cell_type": "code",
   "execution_count": null,
   "metadata": {},
   "outputs": [],
   "source": [
    "tiles"
   ]
  },
  {
   "cell_type": "code",
   "execution_count": null,
   "metadata": {},
   "outputs": [],
   "source": [
    "np.where(cluster_tile==tiles[0])"
   ]
  },
  {
   "cell_type": "markdown",
   "metadata": {},
   "source": [
    "### Retrieving Galaxy Catalogs"
   ]
  },
  {
   "cell_type": "code",
   "execution_count": 34,
   "metadata": {},
   "outputs": [],
   "source": [
    "def save_hdf5_output(gal,cat,outfile):\n",
    "    df  = gal.to_pandas()\n",
    "    df.to_hdf(outfile, key='members', mode='w')\n",
    "\n",
    "    gal = 0\n",
    "\n",
    "    dfc = cat.to_pandas()\n",
    "    dfc.to_hdf(outfile, key='cluster', mode='a')"
   ]
  },
  {
   "cell_type": "code",
   "execution_count": 35,
   "metadata": {},
   "outputs": [],
   "source": [
    "def load_hdf_files(infile,indices,columns,path='catalog/gold/'):\n",
    "    master = h5py.File(infile,'r')\n",
    "    gold   = master[path]\n",
    "    \n",
    "    mydict = dict().fromkeys(columns)\n",
    "    \n",
    "    mydict['id'] = indices\n",
    "    for col in columns:\n",
    "        mydict[col] = gold[col][:][indices]\n",
    "    \n",
    "    master.close()\n",
    "    return Table(mydict)"
   ]
  },
  {
   "cell_type": "code",
   "execution_count": 36,
   "metadata": {},
   "outputs": [],
   "source": [
    "from time import time"
   ]
  },
  {
   "cell_type": "code",
   "execution_count": 37,
   "metadata": {},
   "outputs": [],
   "source": [
    "# fname  = path+'Buzzard_v1.9.8_Y3a_bpz.h5'\n",
    "# indexes= h5py.File(fname)\n",
    "# bpz    = indexes['catalog/bpz']\n",
    "\n",
    "# #b_cid  = bpz['coadd_object_id'][:][maglim_idx]\n",
    "# z      = bpz['z'][:][maglim_idx]\n",
    "# zmean  = bpz['zmean_sof'][:][maglim_idx]\n",
    "\n",
    "# indexes.close()"
   ]
  },
  {
   "cell_type": "code",
   "execution_count": 38,
   "metadata": {},
   "outputs": [],
   "source": [
    "indexes= h5py.File(fname_aux,'r')\n",
    "dnf    = indexes['catalog/dnf/unsheared']\n",
    "\n",
    "d_cid  = dnf['coadd_object_id'][:][maglim_idx]\n",
    "d_z    = dnf['z'][:][maglim_idx]\n",
    "d_zmean= dnf['z_mean'][:][maglim_idx]\n",
    "d_sigma= dnf['z_sigma'][:][maglim_idx]\n",
    "\n",
    "indexes.close()"
   ]
  },
  {
   "cell_type": "code",
   "execution_count": null,
   "metadata": {},
   "outputs": [],
   "source": []
  },
  {
   "cell_type": "code",
   "execution_count": 39,
   "metadata": {},
   "outputs": [],
   "source": [
    "## BE CAREFULL! The cells below take about an hour to run"
   ]
  },
  {
   "cell_type": "code",
   "execution_count": 46,
   "metadata": {},
   "outputs": [],
   "source": [
    "outdir = '/global/project/projectdirs/des/jesteves/buzzardSelection/y3_v2.0.0/tiles/'\n",
    "outfile_base = outdir+'buzzard_y3_v2.0.0_redmapper_heidi_lgt5_lw20_copper_hpx8_{}.hdf'"
   ]
  },
  {
   "cell_type": "code",
   "execution_count": null,
   "metadata": {},
   "outputs": [
    {
     "name": "stdout",
     "output_type": "stream",
     "text": [
      "start tile: 519\n",
      "Error: empty tile\n",
      "partial time: 0.00 min\n",
      "run time    : 0.00 min\n",
      "\n",
      "\n",
      "start tile: 520\n",
      "Error: empty tile\n",
      "partial time: 0.00 min\n",
      "run time    : 0.00 min\n",
      "\n",
      "\n",
      "start tile: 522\n",
      "matching: done\n",
      "loading main data: done\n",
      "outfile saved: /global/project/projectdirs/des/jesteves/buzzardSelection/y3_v2.0.0/tiles/buzzard_y3_v2.0.0_redmapper_heidi_lgt5_lw20_copper_hpx8_522.hdf\n",
      "partial time: 4.14 min\n",
      "run time    : 4.14 min\n",
      "\n",
      "\n",
      "start tile: 523\n",
      "matching: done\n",
      "loading main data: done\n",
      "outfile saved: /global/project/projectdirs/des/jesteves/buzzardSelection/y3_v2.0.0/tiles/buzzard_y3_v2.0.0_redmapper_heidi_lgt5_lw20_copper_hpx8_523.hdf\n",
      "partial time: 16.51 min\n",
      "run time    : 20.65 min\n",
      "\n",
      "\n",
      "start tile: 524\n"
     ]
    }
   ],
   "source": [
    "fname  = path+'Buzzard_v1.9.8_Y3a_gold.h5'\n",
    "\n",
    "t0 = time()\n",
    "\n",
    "time_evolution = np.empty((len(tiles)+1,),dtype=np.float64)\n",
    "time_evolution[0] = t0\n",
    "\n",
    "for i, tile in enumerate(tiles):\n",
    "    print('start tile: %i'%(tile))\n",
    "    outfile = outfile_base.format(tile)\n",
    "    w       = np.where(cluster_tile==tile)[0]\n",
    "\n",
    "    if (len(w)>1) & (not os.path.isfile(outfile)):\n",
    "        circles= get_healpix_list(cat[w],nside=16384)\n",
    "        match  = esutil.numpy_util.match(circles,hpx16384)\n",
    "        indices= maglim_idx[match[1]]\n",
    "        print('matching: done')\n",
    "        data               =  load_hdf_files(fname,indices,columns,path='catalog/gold/')\n",
    "        #data['z']          = z[match[1]]\n",
    "        #data['z_mean_bpz'] = zmean[match[1]]\n",
    "        \n",
    "        print('loading main data: done')\n",
    "        data['z']          = d_z[match[1]]\n",
    "        data['z_mean_dnf'] = d_zmean[match[1]]\n",
    "        data['z_sigma_dnf']= d_sigma[match[1]]\n",
    "\n",
    "        data['index']= indices\n",
    "        data['tile'] = tile\n",
    "\n",
    "        save_hdf5_output(data,cat[w],outfile)\n",
    "        data = 0\n",
    "        print('outfile saved: %s'%(outfile))\n",
    "    else:\n",
    "        print('Error: empty tile')\n",
    "    \n",
    "    time_evolution[i+1] = time()\n",
    "    print('partial time: %.2f min'%((time_evolution[i+1]-time_evolution[i])/60.))\n",
    "    print('run time    : %.2f min'%((time_evolution[i+1]-time_evolution[0])/60.))\n",
    "    print('\\n')"
   ]
  },
  {
   "cell_type": "code",
   "execution_count": null,
   "metadata": {},
   "outputs": [],
   "source": []
  },
  {
   "cell_type": "code",
   "execution_count": null,
   "metadata": {},
   "outputs": [],
   "source": []
  },
  {
   "cell_type": "code",
   "execution_count": null,
   "metadata": {},
   "outputs": [],
   "source": [
    "## In case that the memory crashes, delete the photoz variables (z,zmean,d_zmean,d_sigma) and run the cell below"
   ]
  },
  {
   "cell_type": "code",
   "execution_count": null,
   "metadata": {},
   "outputs": [],
   "source": [
    "# fname     = path+'Buzzard_v1.9.8_Y3a_gold.h5'\n",
    "# fname_bpz = path+'Buzzard_v1.9.8_Y3a_bpz.h5'\n",
    "# fname_dnf = fname_aux\n",
    "\n",
    "# t0 = time()\n",
    "\n",
    "# time_evolution = np.empty((len(tiles)+1,),dtype=np.float64)\n",
    "# time_evolution[0] = t0\n",
    "\n",
    "# for i, tile in enumerate(tiles):\n",
    "#     print('start tile: %i'%(tile))\n",
    "    \n",
    "#     w      = esutil.numpy_util.where1(cluster_tile==tile)\n",
    "#     circles= get_healpix_list(cat[w],nside=Nside)\n",
    "    \n",
    "#     match  = esutil.numpy_util.match(circles,hpx16384)\n",
    "#     indices= maglim_idx[match[1]]\n",
    "    \n",
    "#     data = load_hdf_files(fname,indices,columns,path='catalog/gold/')\n",
    "#     bpz  = load_hdf_files(fname_bpz,indices,['z','zmean_sof'],path='catalog/bpz/')\n",
    "#     dnf  = load_hdf_files(fname_aux,indices,['z_mean','z_sigma'],path='catalog/dnf/unsheared')\n",
    "    \n",
    "#     data['z']          = bpz['z']\n",
    "#     data['z_mean_bpz'] = bpz['zmean_sof']\n",
    "\n",
    "#     data['z_mean_dnf'] = dnf['z_mean']\n",
    "#     data['z_sigma_dnf']= dnf['z_sigma']\n",
    "    \n",
    "#     data['index']= indices\n",
    "#     data['tile'] = tile\n",
    "#     time_evolution[i+1] = time()\n",
    "    \n",
    "#     outfile = outfile_base.format(tile)\n",
    "#     save_hdf5_output(data,cat[w],outfile)\n",
    "#     data = 0\n",
    "#     print('outfile saved: %s'%(outfile))\n",
    "    \n",
    "#     print('partial time: %.2f min'%((time_evolution[i+1]-time_evolution[i])/60.))\n",
    "#     print('run time    : %.2f min'%((time_evolution[i+1]-time_evolution[0])/60.))\n",
    "#     print('\\n')"
   ]
  },
  {
   "cell_type": "code",
   "execution_count": null,
   "metadata": {},
   "outputs": [],
   "source": []
  },
  {
   "cell_type": "code",
   "execution_count": 43,
   "metadata": {},
   "outputs": [],
   "source": [
    "import pandas as pd"
   ]
  },
  {
   "cell_type": "code",
   "execution_count": 44,
   "metadata": {},
   "outputs": [],
   "source": [
    "def upload_dataFrame(infile,keys='members'):\n",
    "    hdf = pd.HDFStore(infile, mode='r')\n",
    "    df1 = hdf.get(keys)\n",
    "    hdf.close()\n",
    "    data = Table.from_pandas(df1)\n",
    "    return data"
   ]
  },
  {
   "cell_type": "code",
   "execution_count": 59,
   "metadata": {},
   "outputs": [],
   "source": [
    "hi = 523\n",
    "outfile = outfile_base.format(hi)"
   ]
  },
  {
   "cell_type": "code",
   "execution_count": 60,
   "metadata": {},
   "outputs": [],
   "source": [
    "gi = upload_dataFrame(outfile,keys='members')\n",
    "ra, dec = gi['ra'], gi['dec']"
   ]
  },
  {
   "cell_type": "code",
   "execution_count": 61,
   "metadata": {},
   "outputs": [
    {
     "data": {
      "text/plain": [
       "48"
      ]
     },
     "execution_count": 61,
     "metadata": {},
     "output_type": "execute_result"
    }
   ],
   "source": [
    "np.count_nonzero(gi['z_mean_dnf']<0)"
   ]
  },
  {
   "cell_type": "code",
   "execution_count": 62,
   "metadata": {},
   "outputs": [
    {
     "data": {
      "text/plain": [
       "0.4745696029308564"
      ]
     },
     "execution_count": 62,
     "metadata": {},
     "output_type": "execute_result"
    }
   ],
   "source": [
    "1.*np.count_nonzero(gi['z_mean_dnf'])/len(gi)\n"
   ]
  },
  {
   "cell_type": "code",
   "execution_count": 63,
   "metadata": {},
   "outputs": [],
   "source": [
    "w = np.where(cluster_tile==hi)[0]\n",
    "rac,decc = cat['RA'][w],cat['DEC'][w]\n",
    "\n",
    "#circles= get_healpix_list(cat[w],nside=16384)\n",
    "#match  = esutil.numpy_util.match(circles,hpx16384)"
   ]
  },
  {
   "cell_type": "code",
   "execution_count": 64,
   "metadata": {},
   "outputs": [
    {
     "data": {
      "text/plain": [
       "<matplotlib.collections.PathCollection at 0x2aaaff373070>"
      ]
     },
     "execution_count": 64,
     "metadata": {},
     "output_type": "execute_result"
    },
    {
     "data": {
      "image/png": "[encoded data removed]",
      "text/plain": [
       "<Figure size 432x288 with 1 Axes>"
      ]
     },
     "metadata": {},
     "output_type": "display_data"
    }
   ],
   "source": [
    "plt.scatter(ra[::10],dec[::10],alpha=0.3)\n",
    "plt.scatter(rac,decc)"
   ]
  },
  {
   "cell_type": "code",
   "execution_count": 65,
   "metadata": {},
   "outputs": [
    {
     "data": {
      "text/html": [
       "<div><i>Table length=4277794</i>\n",
       "<table id=\"table46913915990080\" class=\"table-striped table-bordered table-condensed\">\n",
       "<thead><tr><th>hpix_16384</th><th>haloid</th><th>coadd_object_id</th><th>ra</th><th>dec</th><th>rhalo</th><th>mag_g</th><th>mag_r</th><th>mag_i</th><th>mag_z</th><th>mag_err_g</th><th>mag_err_r</th><th>mag_err_i</th><th>mag_err_z</th><th>id</th><th>z</th><th>z_mean_dnf</th><th>z_sigma_dnf</th><th>index</th><th>tile</th></tr></thead>\n",
       "<thead><tr><th>int64</th><th>int64</th><th>int64</th><th>float32</th><th>float32</th><th>float32</th><th>float32</th><th>float32</th><th>float32</th><th>float32</th><th>float32</th><th>float32</th><th>float32</th><th>float32</th><th>int64</th><th>float64</th><th>float64</th><th>float64</th><th>int64</th><th>int64</th></tr></thead>\n",
       "<tr><td>2188105424</td><td>6842002</td><td>55004483507</td><td>26.644524</td><td>-65.307175</td><td>14.228594</td><td>25.764538</td><td>24.670198</td><td>23.70907</td><td>23.057034</td><td>1.2157977</td><td>0.39976475</td><td>0.26391461</td><td>0.27698076</td><td>406553171</td><td>0.0</td><td>0.0</td><td>0.0</td><td>406553171</td><td>523</td></tr>\n",
       "<tr><td>2188105425</td><td>10088009</td><td>55006603960</td><td>26.65209</td><td>-65.303734</td><td>1.1247274</td><td>23.018944</td><td>22.64656</td><td>22.30846</td><td>22.244902</td><td>0.11992175</td><td>0.07998004</td><td>0.09179322</td><td>0.15108886</td><td>406553178</td><td>0.17872399662615318</td><td>0.15630195886785303</td><td>0.3684975936665678</td><td>406553178</td><td>523</td></tr>\n",
       "<tr><td>2188105426</td><td>22887049</td><td>55011224550</td><td>26.64026</td><td>-65.30607</td><td>3.6125004</td><td>26.232098</td><td>24.253967</td><td>23.177814</td><td>22.659039</td><td>1.9261155</td><td>0.28766987</td><td>0.17079347</td><td>0.19420825</td><td>406553180</td><td>0.0</td><td>0.0</td><td>0.0</td><td>406553180</td><td>523</td></tr>\n",
       "<tr><td>2188105427</td><td>10484703</td><td>55000058650</td><td>26.650574</td><td>-65.30178</td><td>4.648197</td><td>22.357143</td><td>21.42031</td><td>21.340902</td><td>20.981531</td><td>0.07995001</td><td>0.035281047</td><td>0.050583087</td><td>0.06353945</td><td>406553184</td><td>0.31590850888861294</td><td>0.3841885219833922</td><td>0.03405260362276044</td><td>406553184</td><td>523</td></tr>\n",
       "<tr><td>2188105427</td><td>22887049</td><td>55011022838</td><td>26.652613</td><td>-65.3006</td><td>3.6044576</td><td>24.117243</td><td>22.790611</td><td>21.90962</td><td>21.609365</td><td>0.28985152</td><td>0.090362266</td><td>0.06911121</td><td>0.09453286</td><td>406553186</td><td>0.5974344370413747</td><td>0.6540654568812188</td><td>0.193408302762124</td><td>406553186</td><td>523</td></tr>\n",
       "<tr><td>2188105427</td><td>22887049</td><td>55011046783</td><td>26.65009</td><td>-65.30009</td><td>3.6761146</td><td>23.715147</td><td>22.853493</td><td>22.064396</td><td>21.88017</td><td>0.19957934</td><td>0.09281834</td><td>0.075448416</td><td>0.114471436</td><td>406553187</td><td>0.5973027784318978</td><td>0.7476444452526819</td><td>0.3025285522608968</td><td>406553187</td><td>523</td></tr>\n",
       "<tr><td>2188105428</td><td>22805585</td><td>55009953030</td><td>26.660395</td><td>-65.30136</td><td>5.313474</td><td>24.346054</td><td>22.321669</td><td>21.77955</td><td>21.356615</td><td>0.3643616</td><td>0.06254824</td><td>0.06419452</td><td>0.07937848</td><td>406553192</td><td>0.482629243568895</td><td>0.4547992734948521</td><td>0.12566779715202953</td><td>406553192</td><td>523</td></tr>\n",
       "<tr><td>2188105429</td><td>23973757</td><td>55015563545</td><td>26.665836</td><td>-65.30059</td><td>5.242022</td><td>24.829851</td><td>24.383337</td><td>23.812756</td><td>23.075056</td><td>0.5328818</td><td>0.3166086</td><td>0.30580658</td><td>0.28764504</td><td>406553194</td><td>0.0</td><td>0.0</td><td>0.0</td><td>406553194</td><td>523</td></tr>\n",
       "<tr><td>2188105429</td><td>6781484</td><td>55002436624</td><td>26.667051</td><td>-65.29829</td><td>12.2043495</td><td>25.420479</td><td>24.437332</td><td>23.731596</td><td>23.745565</td><td>0.9095256</td><td>0.32559866</td><td>0.27300096</td><td>0.51701945</td><td>406553195</td><td>0.0</td><td>0.0</td><td>0.0</td><td>406553195</td><td>523</td></tr>\n",
       "<tr><td>2188105429</td><td>23905477</td><td>55012108184</td><td>26.669733</td><td>-65.29734</td><td>0.7937704</td><td>24.716946</td><td>24.18626</td><td>22.799465</td><td>22.096731</td><td>0.4664387</td><td>0.2675242</td><td>0.12945211</td><td>0.13034628</td><td>406553196</td><td>0.829614978803577</td><td>0.9217350290563726</td><td>0.5450801014012623</td><td>406553196</td><td>523</td></tr>\n",
       "<tr><td>...</td><td>...</td><td>...</td><td>...</td><td>...</td><td>...</td><td>...</td><td>...</td><td>...</td><td>...</td><td>...</td><td>...</td><td>...</td><td>...</td><td>...</td><td>...</td><td>...</td><td>...</td><td>...</td><td>...</td></tr>\n",
       "<tr><td>2298488970</td><td>24726668</td><td>31013242532</td><td>29.740524</td><td>-54.01625</td><td>4.9636006</td><td>27.307043</td><td>24.475328</td><td>23.83927</td><td>24.154604</td><td>2.465598</td><td>0.24889919</td><td>0.21504118</td><td>0.4797909</td><td>802286832</td><td>0.0</td><td>0.0</td><td>0.0</td><td>802286832</td><td>523</td></tr>\n",
       "<tr><td>2298488971</td><td>22689468</td><td>31002345556</td><td>29.744732</td><td>-54.01385</td><td>1.207766</td><td>25.073948</td><td>25.238497</td><td>23.658466</td><td>23.66628</td><td>0.31097654</td><td>0.50862175</td><td>0.17898004</td><td>0.30190602</td><td>802286836</td><td>0.0</td><td>0.0</td><td>0.0</td><td>802286836</td><td>523</td></tr>\n",
       "<tr><td>2298488971</td><td>23693251</td><td>31010707881</td><td>29.747627</td><td>-54.011482</td><td>7.2080736</td><td>23.443014</td><td>21.680674</td><td>20.876041</td><td>20.456364</td><td>0.083307855</td><td>0.031218672</td><td>0.026900055</td><td>0.030644916</td><td>802286837</td><td>0.5557264190989375</td><td>0.5312186862428987</td><td>0.01929087147819293</td><td>802286837</td><td>523</td></tr>\n",
       "<tr><td>2298488971</td><td>23818049</td><td>31011937069</td><td>29.746693</td><td>-54.015835</td><td>2.944353</td><td>25.264503</td><td>24.05437</td><td>22.799704</td><td>22.626637</td><td>0.37329742</td><td>0.17898466</td><td>0.092567384</td><td>0.13157551</td><td>802286840</td><td>0.7296078256419022</td><td>0.769441756793163</td><td>0.35976341159518804</td><td>802286840</td><td>523</td></tr>\n",
       "<tr><td>2298488971</td><td>22689468</td><td>31002231314</td><td>29.748104</td><td>-54.013874</td><td>1.4936951</td><td>24.860622</td><td>24.125036</td><td>23.267574</td><td>22.94501</td><td>0.26385996</td><td>0.19223186</td><td>0.13167986</td><td>0.16218282</td><td>802286842</td><td>0.0</td><td>0.0</td><td>0.0</td><td>802286842</td><td>523</td></tr>\n",
       "<tr><td>2298488972</td><td>22635021</td><td>31002353004</td><td>29.757345</td><td>-54.013138</td><td>1.4629279</td><td>25.281431</td><td>24.080986</td><td>23.726023</td><td>23.850758</td><td>0.38542736</td><td>0.17884889</td><td>0.19356224</td><td>0.36354157</td><td>802286843</td><td>0.0</td><td>0.0</td><td>0.0</td><td>802286843</td><td>523</td></tr>\n",
       "<tr><td>2298488972</td><td>24711124</td><td>31014338665</td><td>29.75196</td><td>-54.014294</td><td>2.1625385</td><td>24.67254</td><td>23.957952</td><td>23.604374</td><td>23.445145</td><td>0.22966908</td><td>0.159511</td><td>0.1774964</td><td>0.25307795</td><td>802286847</td><td>0.0</td><td>0.0</td><td>0.0</td><td>802286847</td><td>523</td></tr>\n",
       "<tr><td>2298488976</td><td>0</td><td>31003275554</td><td>29.770885</td><td>-54.01459</td><td>0.0</td><td>25.272602</td><td>25.65291</td><td>23.954569</td><td>23.502476</td><td>0.32961285</td><td>0.63053834</td><td>0.22383478</td><td>0.24217243</td><td>802286857</td><td>0.0</td><td>0.0</td><td>0.0</td><td>802286857</td><td>523</td></tr>\n",
       "<tr><td>2298488992</td><td>22689468</td><td>31002042777</td><td>29.742418</td><td>-54.01372</td><td>4.4141455</td><td>23.351652</td><td>21.885775</td><td>21.462646</td><td>21.044832</td><td>0.06987933</td><td>0.03113792</td><td>0.037066665</td><td>0.040065248</td><td>802286913</td><td>0.38498089653211065</td><td>0.42961635555224303</td><td>0.02060616229180362</td><td>802286913</td><td>523</td></tr>\n",
       "<tr><td>2298488992</td><td>23795241</td><td>31013034807</td><td>29.737959</td><td>-54.014294</td><td>1.5010097</td><td>24.832329</td><td>23.969938</td><td>22.866226</td><td>22.305809</td><td>0.22574897</td><td>0.14396189</td><td>0.09599525</td><td>0.092663564</td><td>802286918</td><td>0.7460815774579819</td><td>0.8906374023990106</td><td>0.28506917825210426</td><td>802286918</td><td>523</td></tr>\n",
       "</table></div>"
      ],
      "text/plain": [
       "<Table length=4277794>\n",
       "hpix_16384  haloid  coadd_object_id ...     z_sigma_dnf       index    tile\n",
       "  int64     int64        int64      ...       float64         int64   int64\n",
       "---------- -------- --------------- ... ------------------- --------- -----\n",
       "2188105424  6842002     55004483507 ...                 0.0 406553171   523\n",
       "2188105425 10088009     55006603960 ...  0.3684975936665678 406553178   523\n",
       "2188105426 22887049     55011224550 ...                 0.0 406553180   523\n",
       "2188105427 10484703     55000058650 ... 0.03405260362276044 406553184   523\n",
       "2188105427 22887049     55011022838 ...   0.193408302762124 406553186   523\n",
       "2188105427 22887049     55011046783 ...  0.3025285522608968 406553187   523\n",
       "2188105428 22805585     55009953030 ... 0.12566779715202953 406553192   523\n",
       "2188105429 23973757     55015563545 ...                 0.0 406553194   523\n",
       "2188105429  6781484     55002436624 ...                 0.0 406553195   523\n",
       "2188105429 23905477     55012108184 ...  0.5450801014012623 406553196   523\n",
       "       ...      ...             ... ...                 ...       ...   ...\n",
       "2298488970 24726668     31013242532 ...                 0.0 802286832   523\n",
       "2298488971 22689468     31002345556 ...                 0.0 802286836   523\n",
       "2298488971 23693251     31010707881 ... 0.01929087147819293 802286837   523\n",
       "2298488971 23818049     31011937069 ... 0.35976341159518804 802286840   523\n",
       "2298488971 22689468     31002231314 ...                 0.0 802286842   523\n",
       "2298488972 22635021     31002353004 ...                 0.0 802286843   523\n",
       "2298488972 24711124     31014338665 ...                 0.0 802286847   523\n",
       "2298488976        0     31003275554 ...                 0.0 802286857   523\n",
       "2298488992 22689468     31002042777 ... 0.02060616229180362 802286913   523\n",
       "2298488992 23795241     31013034807 ... 0.28506917825210426 802286918   523"
      ]
     },
     "execution_count": 65,
     "metadata": {},
     "output_type": "execute_result"
    }
   ],
   "source": [
    "gi"
   ]
  },
  {
   "cell_type": "code",
   "execution_count": null,
   "metadata": {},
   "outputs": [],
   "source": []
  },
  {
   "cell_type": "code",
   "execution_count": null,
   "metadata": {},
   "outputs": [],
   "source": [
    "import healpy as hp\n",
    "def hpix2ang(pix,nside=1024):\n",
    "    lon,lat = hp.pix2ang(nside,pix,nest=True)\n",
    "    dec,ra=(90-(lon)*(180/np.pi)),(lat*(180/np.pi))\n",
    "    return ra,dec"
   ]
  },
  {
   "cell_type": "code",
   "execution_count": null,
   "metadata": {},
   "outputs": [],
   "source": [
    "ra, dec = hpix2ang(circles,nside=16384)\n",
    "gra,gdec = hpix2ang(myidx,nside=16384)"
   ]
  },
  {
   "cell_type": "code",
   "execution_count": null,
   "metadata": {},
   "outputs": [],
   "source": [
    "plt.scatter(ra[::10],dec[::10])\n",
    "plt.scatter(gra[::1000],gdec[::1000])"
   ]
  },
  {
   "cell_type": "code",
   "execution_count": null,
   "metadata": {},
   "outputs": [],
   "source": []
  },
  {
   "cell_type": "code",
   "execution_count": null,
   "metadata": {},
   "outputs": [],
   "source": [
    "data =  load_hdf_files(fname,maglim_idx[match[1]],columns,path='catalog/gold/')"
   ]
  },
  {
   "cell_type": "code",
   "execution_count": null,
   "metadata": {},
   "outputs": [],
   "source": [
    "plt.plot(match[1],data['id'])"
   ]
  },
  {
   "cell_type": "code",
   "execution_count": null,
   "metadata": {},
   "outputs": [],
   "source": [
    "plt.plot(data['hpix_16384'],hpx16384[match[1]])"
   ]
  },
  {
   "cell_type": "code",
   "execution_count": null,
   "metadata": {},
   "outputs": [],
   "source": []
  },
  {
   "cell_type": "code",
   "execution_count": null,
   "metadata": {},
   "outputs": [],
   "source": [
    "maglim_idx[match[1]]"
   ]
  },
  {
   "cell_type": "code",
   "execution_count": null,
   "metadata": {},
   "outputs": [],
   "source": [
    "master  = h5py.File(fname,'r')\n",
    "indexes= h5py.File(fname_aux,'r')\n",
    "\n",
    "#select  = indexes['index/gold/select'][:]\n",
    "# myidx   = master['catalog/gold/hpix_16384'][:][maglim_idx[match[1]]]\n",
    "# mag_i   = master['catalog/gold/mag_i'][:][maglim_idx[match[1]]]\n",
    "\n",
    "master.close()\n",
    "indexes.close()"
   ]
  },
  {
   "cell_type": "code",
   "execution_count": null,
   "metadata": {},
   "outputs": [],
   "source": [
    "maglim_idx[match[1]]"
   ]
  },
  {
   "cell_type": "code",
   "execution_count": null,
   "metadata": {},
   "outputs": [],
   "source": [
    "data=0"
   ]
  },
  {
   "cell_type": "code",
   "execution_count": null,
   "metadata": {},
   "outputs": [],
   "source": [
    "hpx16384[data['id']]"
   ]
  },
  {
   "cell_type": "code",
   "execution_count": null,
   "metadata": {},
   "outputs": [],
   "source": [
    "myidx"
   ]
  },
  {
   "cell_type": "code",
   "execution_count": null,
   "metadata": {},
   "outputs": [],
   "source": []
  },
  {
   "cell_type": "code",
   "execution_count": null,
   "metadata": {},
   "outputs": [],
   "source": [
    "match[1]"
   ]
  },
  {
   "cell_type": "code",
   "execution_count": null,
   "metadata": {},
   "outputs": [],
   "source": []
  },
  {
   "cell_type": "code",
   "execution_count": null,
   "metadata": {},
   "outputs": [],
   "source": [
    "rag,decg = data['ra'], data['dec']"
   ]
  },
  {
   "cell_type": "code",
   "execution_count": null,
   "metadata": {},
   "outputs": [],
   "source": [
    "plt.scatter(ra[::10],dec[::10])\n",
    "plt.scatter(rag[::100],decg[::100],alpha=0.1)"
   ]
  },
  {
   "cell_type": "code",
   "execution_count": null,
   "metadata": {},
   "outputs": [],
   "source": [
    "plt.scatter(data['hpix_16384'][::100],myidx[::100])\n",
    "\n"
   ]
  },
  {
   "cell_type": "code",
   "execution_count": null,
   "metadata": {},
   "outputs": [],
   "source": [
    "gi=0"
   ]
  },
  {
   "cell_type": "code",
   "execution_count": null,
   "metadata": {},
   "outputs": [],
   "source": []
  }
 ],
 "metadata": {
  "kernelspec": {
   "display_name": "Python 2",
   "language": "python",
   "name": "python2"
  },
  "language_info": {
   "codemirror_mode": {
    "name": "ipython",
    "version": 2
   },
   "file_extension": ".py",
   "mimetype": "text/x-python",
   "name": "python",
   "nbconvert_exporter": "python",
   "pygments_lexer": "ipython2",
   "version": "2.7.15"
  }
 },
 "nbformat": 4,
 "nbformat_minor": 4
}
