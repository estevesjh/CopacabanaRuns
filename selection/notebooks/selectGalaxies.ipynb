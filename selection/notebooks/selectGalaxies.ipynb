{
 "cells": [
  {
   "cell_type": "markdown",
   "metadata": {},
   "source": [
    "# Get Galaxies From Halos\n",
    "\n",
    "info: https://cdcvs.fnal.gov/redmine/projects/des-clusters/wiki/ClustDataVecY3 <br>\n",
    "rm  : https://cdcvs.fnal.gov/redmine/projects/des-clusters/wiki/RedMaPPer_on_Y3A2 <br>\n",
    "path: /project/projectdirs/des/www/y3_cats/\t"
   ]
  },
  {
   "cell_type": "code",
   "execution_count": 1,
   "metadata": {},
   "outputs": [],
   "source": [
    "import matplotlib.pyplot as plt\n",
    "import numpy as np\n",
    "import os\n",
    "\n",
    "from astropy.table import Table, vstack\n",
    "from astropy.io.fits import getdata\n",
    "\n",
    "import pandas as pd\n",
    "\n",
    "import esutil"
   ]
  },
  {
   "cell_type": "code",
   "execution_count": null,
   "metadata": {},
   "outputs": [],
   "source": []
  },
  {
   "cell_type": "markdown",
   "metadata": {},
   "source": [
    "## Load"
   ]
  },
  {
   "cell_type": "code",
   "execution_count": 2,
   "metadata": {
    "scrolled": true
   },
   "outputs": [
    {
     "name": "stderr",
     "output_type": "stream",
     "text": [
      "/cvmfs/des.opensciencegrid.org/fnal/anaconda2/envs/des18a/lib/python2.7/site-packages/h5py/__init__.py:36: FutureWarning: Conversion of the second argument of issubdtype from `float` to `np.floating` is deprecated. In future, it will be treated as `np.float64 == np.dtype(float).type`.\n",
      "  from ._conv import register_converters as _register_converters\n"
     ]
    }
   ],
   "source": [
    "import h5py\n",
    "\n",
    "#path   = '/data/des81.b/data/mariaeli/y3_buzz/Buzzard-3_v2.0_Y3a_mastercat/'\n",
    "path   = '/data/des81.b/data/mariaeli/y3_cats/subsampled/'\n",
    "fname  =     path+'Y3_GOLD_2_2.1_subsampled.h5'\n",
    "fname_aux  = path+'Y3_GOLD_2_2.1_DNF_subsampled.h5'\n",
    "\n",
    "master = h5py.File(fname,'r')\n",
    "aux    = h5py.File(fname_aux,'r')"
   ]
  },
  {
   "cell_type": "code",
   "execution_count": 3,
   "metadata": {},
   "outputs": [
    {
     "name": "stdout",
     "output_type": "stream",
     "text": [
      "Y3_GOLD_2_2.1_BPZ_subsampled.h5\r\n",
      "Y3_GOLD_2_2.1_DNF_subsampled.h5\r\n",
      "Y3_GOLD_2_2_1_maps.h5\r\n",
      "Y3_GOLD_2_2.1_subsampled.h5\r\n",
      "y3_gold_2.2.1_wide_sofcol_run_redmapper_v6.4.22_wv1.2_subsampled.h5\r\n",
      "Y3_mastercat_6_15_19_subsampled.h5\r\n",
      "y3v02-mcal-003-v1_subsampled.h5\r\n"
     ]
    }
   ],
   "source": [
    "ls /data/des81.b/data/mariaeli/y3_cats/subsampled"
   ]
  },
  {
   "cell_type": "code",
   "execution_count": null,
   "metadata": {},
   "outputs": [],
   "source": []
  },
  {
   "cell_type": "code",
   "execution_count": null,
   "metadata": {},
   "outputs": [],
   "source": []
  },
  {
   "cell_type": "code",
   "execution_count": 4,
   "metadata": {},
   "outputs": [
    {
     "name": "stdout",
     "output_type": "stream",
     "text": [
      "ls: cannot access /global/project/projectdirs/des/jderose/Chinchilla/Herd/Chinchilla-3/v1.9.8/sampleselection/Y3a/mastercat/: No such file or directory\r\n"
     ]
    }
   ],
   "source": [
    "ls /global/project/projectdirs/des/jderose/Chinchilla/Herd/Chinchilla-3/v1.9.8/sampleselection/Y3a/mastercat/"
   ]
  },
  {
   "cell_type": "code",
   "execution_count": 5,
   "metadata": {},
   "outputs": [],
   "source": [
    "def show_h5_group(name,node):\n",
    "    ''' show all the h5 groups\n",
    "    Example:\n",
    "    fmaster = h5py.File(copa.master_fname,'r')\n",
    "    fmaster.visititems(show_h5_group)\n",
    "\n",
    "    ## https://stackoverflow.com/questions/45562169/traverse-hdf5-file-tree-and-continue-after-return\n",
    "    '''\n",
    "    if isinstance(node, h5py.Group):\n",
    "        print(name,node)\n",
    "    return None\n",
    "\n",
    "def show_h5_dataset(name,node):\n",
    "    if isinstance(node, h5py.Dataset):\n",
    "        print(name,node)\n",
    "    return None"
   ]
  },
  {
   "cell_type": "code",
   "execution_count": 6,
   "metadata": {},
   "outputs": [
    {
     "name": "stdout",
     "output_type": "stream",
     "text": [
      "(u'catalog/gold/a_sed_sfd98_g', <HDF5 dataset \"a_sed_sfd98_g\": shape (39926304,), type \">f4\">)\n",
      "(u'catalog/gold/a_sed_sfd98_i', <HDF5 dataset \"a_sed_sfd98_i\": shape (39926304,), type \">f4\">)\n",
      "(u'catalog/gold/a_sed_sfd98_r', <HDF5 dataset \"a_sed_sfd98_r\": shape (39926304,), type \">f4\">)\n",
      "(u'catalog/gold/a_sed_sfd98_z', <HDF5 dataset \"a_sed_sfd98_z\": shape (39926304,), type \">f4\">)\n",
      "(u'catalog/gold/coadd_object_id', <HDF5 dataset \"coadd_object_id\": shape (39926304,), type \">i8\">)\n",
      "(u'catalog/gold/dec', <HDF5 dataset \"dec\": shape (39926304,), type \">f8\">)\n",
      "(u'catalog/gold/delta_mag_chrom_g', <HDF5 dataset \"delta_mag_chrom_g\": shape (39926304,), type \">f4\">)\n",
      "(u'catalog/gold/delta_mag_chrom_i', <HDF5 dataset \"delta_mag_chrom_i\": shape (39926304,), type \">f4\">)\n",
      "(u'catalog/gold/delta_mag_chrom_r', <HDF5 dataset \"delta_mag_chrom_r\": shape (39926304,), type \">f4\">)\n",
      "(u'catalog/gold/delta_mag_chrom_z', <HDF5 dataset \"delta_mag_chrom_z\": shape (39926304,), type \">f4\">)\n",
      "(u'catalog/gold/delta_mag_y4_g', <HDF5 dataset \"delta_mag_y4_g\": shape (39926304,), type \">f4\">)\n",
      "(u'catalog/gold/delta_mag_y4_i', <HDF5 dataset \"delta_mag_y4_i\": shape (39926304,), type \">f4\">)\n",
      "(u'catalog/gold/delta_mag_y4_r', <HDF5 dataset \"delta_mag_y4_r\": shape (39926304,), type \">f4\">)\n",
      "(u'catalog/gold/delta_mag_y4_z', <HDF5 dataset \"delta_mag_y4_z\": shape (39926304,), type \">f4\">)\n",
      "(u'catalog/gold/ebv_sfd98', <HDF5 dataset \"ebv_sfd98\": shape (39926304,), type \">f4\">)\n",
      "(u'catalog/gold/extended_class_mash_sof', <HDF5 dataset \"extended_class_mash_sof\": shape (39926304,), type \">i2\">)\n",
      "(u'catalog/gold/flags', <HDF5 dataset \"flags\": shape (39926304,), type \">i4\">)\n",
      "(u'catalog/gold/flags_badregions', <HDF5 dataset \"flags_badregions\": shape (39926304,), type \">i4\">)\n",
      "(u'catalog/gold/flags_footprint', <HDF5 dataset \"flags_footprint\": shape (39926304,), type \">i4\">)\n",
      "(u'catalog/gold/flags_foreground', <HDF5 dataset \"flags_foreground\": shape (39926304,), type \">i4\">)\n",
      "(u'catalog/gold/flags_gold', <HDF5 dataset \"flags_gold\": shape (39926304,), type \">i4\">)\n",
      "(u'catalog/gold/flags_phot', <HDF5 dataset \"flags_phot\": shape (39926304,), type \">i4\">)\n",
      "(u'catalog/gold/hpix_16384', <HDF5 dataset \"hpix_16384\": shape (39926304,), type \">i8\">)\n",
      "(u'catalog/gold/n_images_g', <HDF5 dataset \"n_images_g\": shape (39926304,), type \">i2\">)\n",
      "(u'catalog/gold/n_images_i', <HDF5 dataset \"n_images_i\": shape (39926304,), type \">i2\">)\n",
      "(u'catalog/gold/n_images_r', <HDF5 dataset \"n_images_r\": shape (39926304,), type \">i2\">)\n",
      "(u'catalog/gold/n_images_z', <HDF5 dataset \"n_images_z\": shape (39926304,), type \">i2\">)\n",
      "(u'catalog/gold/ra', <HDF5 dataset \"ra\": shape (39926304,), type \">f8\">)\n",
      "(u'catalog/gold/sextractor_flags_g', <HDF5 dataset \"sextractor_flags_g\": shape (39926304,), type \">i2\">)\n",
      "(u'catalog/gold/sextractor_flags_i', <HDF5 dataset \"sextractor_flags_i\": shape (39926304,), type \">i2\">)\n",
      "(u'catalog/gold/sextractor_flags_r', <HDF5 dataset \"sextractor_flags_r\": shape (39926304,), type \">i2\">)\n",
      "(u'catalog/gold/sextractor_flags_z', <HDF5 dataset \"sextractor_flags_z\": shape (39926304,), type \">i2\">)\n",
      "(u'catalog/gold/sof_cm_flux_corrected_g', <HDF5 dataset \"sof_cm_flux_corrected_g\": shape (39926304,), type \">f8\">)\n",
      "(u'catalog/gold/sof_cm_flux_corrected_i', <HDF5 dataset \"sof_cm_flux_corrected_i\": shape (39926304,), type \">f8\">)\n",
      "(u'catalog/gold/sof_cm_flux_corrected_r', <HDF5 dataset \"sof_cm_flux_corrected_r\": shape (39926304,), type \">f8\">)\n",
      "(u'catalog/gold/sof_cm_flux_corrected_z', <HDF5 dataset \"sof_cm_flux_corrected_z\": shape (39926304,), type \">f8\">)\n",
      "(u'catalog/gold/sof_cm_flux_err_g', <HDF5 dataset \"sof_cm_flux_err_g\": shape (39926304,), type \">f8\">)\n",
      "(u'catalog/gold/sof_cm_flux_err_i', <HDF5 dataset \"sof_cm_flux_err_i\": shape (39926304,), type \">f8\">)\n",
      "(u'catalog/gold/sof_cm_flux_err_r', <HDF5 dataset \"sof_cm_flux_err_r\": shape (39926304,), type \">f8\">)\n",
      "(u'catalog/gold/sof_cm_flux_err_z', <HDF5 dataset \"sof_cm_flux_err_z\": shape (39926304,), type \">f8\">)\n",
      "(u'catalog/gold/sof_cm_mag_corrected_g', <HDF5 dataset \"sof_cm_mag_corrected_g\": shape (39926304,), type \">f8\">)\n",
      "(u'catalog/gold/sof_cm_mag_corrected_i', <HDF5 dataset \"sof_cm_mag_corrected_i\": shape (39926304,), type \">f8\">)\n",
      "(u'catalog/gold/sof_cm_mag_corrected_r', <HDF5 dataset \"sof_cm_mag_corrected_r\": shape (39926304,), type \">f8\">)\n",
      "(u'catalog/gold/sof_cm_mag_corrected_z', <HDF5 dataset \"sof_cm_mag_corrected_z\": shape (39926304,), type \">f8\">)\n",
      "(u'catalog/gold/sof_cm_mag_err_g', <HDF5 dataset \"sof_cm_mag_err_g\": shape (39926304,), type \">f8\">)\n",
      "(u'catalog/gold/sof_cm_mag_err_i', <HDF5 dataset \"sof_cm_mag_err_i\": shape (39926304,), type \">f8\">)\n",
      "(u'catalog/gold/sof_cm_mag_err_r', <HDF5 dataset \"sof_cm_mag_err_r\": shape (39926304,), type \">f8\">)\n",
      "(u'catalog/gold/sof_cm_mag_err_z', <HDF5 dataset \"sof_cm_mag_err_z\": shape (39926304,), type \">f8\">)\n",
      "(u'catalog/gold/sof_flags', <HDF5 dataset \"sof_flags\": shape (39926304,), type \">i8\">)\n",
      "(u'catalog/gold/tilename', <HDF5 dataset \"tilename\": shape (39926304,), type \"|S12\">)\n",
      "(u'masks/gold/hpix', <HDF5 dataset \"hpix\": shape (2550145,), type \"<i8\">)\n"
     ]
    }
   ],
   "source": [
    "master.visititems(show_h5_dataset)"
   ]
  },
  {
   "cell_type": "code",
   "execution_count": 7,
   "metadata": {},
   "outputs": [
    {
     "name": "stdout",
     "output_type": "stream",
     "text": [
      "(u'catalog/sheared_1m/zmc_sof', <HDF5 dataset \"zmc_sof\": shape (39926304,), type \">f4\">)\n",
      "(u'catalog/sheared_1m/zmean_sof', <HDF5 dataset \"zmean_sof\": shape (39926304,), type \">f4\">)\n",
      "(u'catalog/sheared_1p/zmc_sof', <HDF5 dataset \"zmc_sof\": shape (39926304,), type \">f4\">)\n",
      "(u'catalog/sheared_1p/zmean_sof', <HDF5 dataset \"zmean_sof\": shape (39926304,), type \">f4\">)\n",
      "(u'catalog/sheared_2m/zmc_sof', <HDF5 dataset \"zmc_sof\": shape (39926304,), type \">f4\">)\n",
      "(u'catalog/sheared_2m/zmean_sof', <HDF5 dataset \"zmean_sof\": shape (39926304,), type \">f4\">)\n",
      "(u'catalog/sheared_2p/zmc_sof', <HDF5 dataset \"zmc_sof\": shape (39926304,), type \">f4\">)\n",
      "(u'catalog/sheared_2p/zmean_sof', <HDF5 dataset \"zmean_sof\": shape (39926304,), type \">f4\">)\n",
      "(u'catalog/unsheared/coadd_object_id', <HDF5 dataset \"coadd_object_id\": shape (39926304,), type \">i8\">)\n",
      "(u'catalog/unsheared/zmc_sof', <HDF5 dataset \"zmc_sof\": shape (39926304,), type \">f4\">)\n",
      "(u'catalog/unsheared/zmean_sof', <HDF5 dataset \"zmean_sof\": shape (39926304,), type \">f4\">)\n"
     ]
    }
   ],
   "source": [
    "aux.visititems(show_h5_dataset)"
   ]
  },
  {
   "cell_type": "code",
   "execution_count": null,
   "metadata": {},
   "outputs": [],
   "source": []
  },
  {
   "cell_type": "code",
   "execution_count": 8,
   "metadata": {},
   "outputs": [],
   "source": [
    "mag_i      = master['catalog/gold/sof_cm_mag_corrected_i'][:][:]\n",
    "maglim_idx = np.where((mag_i<=23.)&(mag_i>=0.))[0]\n",
    "hpx16384   = master['catalog/gold/hpix_16384'][:][maglim_idx]#.astype(np.int64)\n",
    "\n",
    "# cid   = aux['catalog/unsheared/coadd_object_id'][:]\n",
    "# zmean = aux['catalog/unsheared/zmean_sof'][:]\n",
    "\n",
    "master.close()\n",
    "aux.close()"
   ]
  },
  {
   "cell_type": "code",
   "execution_count": 9,
   "metadata": {},
   "outputs": [
    {
     "data": {
      "text/plain": [
       "array([21.61505009, 20.68373325, 22.85796721, ..., 21.75018892,\n",
       "       19.4035524 , 22.85715772])"
      ]
     },
     "execution_count": 9,
     "metadata": {},
     "output_type": "execute_result"
    }
   ],
   "source": [
    "mag_i[maglim_idx]"
   ]
  },
  {
   "cell_type": "code",
   "execution_count": null,
   "metadata": {},
   "outputs": [],
   "source": []
  },
  {
   "cell_type": "code",
   "execution_count": 39,
   "metadata": {},
   "outputs": [],
   "source": [
    "columns = ['hpix_16384','coadd_object_id','ra','dec','extended_class_mash_sof','flags_gold']\n",
    "columns+= ['sof_cm_mag_corrected_%s'%(ix) for ix in ['g','r','i','z']]\n",
    "columns+= ['sof_cm_mag_err_%s'%(ix) for ix in ['g','r','i','z']]"
   ]
  },
  {
   "cell_type": "code",
   "execution_count": 40,
   "metadata": {},
   "outputs": [
    {
     "data": {
      "text/plain": [
       "['hpix_16384',\n",
       " 'coadd_object_id',\n",
       " 'ra',\n",
       " 'dec',\n",
       " 'extended_class_mash_sof',\n",
       " 'flags_gold',\n",
       " 'sof_cm_mag_corrected_g',\n",
       " 'sof_cm_mag_corrected_r',\n",
       " 'sof_cm_mag_corrected_i',\n",
       " 'sof_cm_mag_corrected_z',\n",
       " 'sof_cm_mag_err_g',\n",
       " 'sof_cm_mag_err_r',\n",
       " 'sof_cm_mag_err_i',\n",
       " 'sof_cm_mag_err_z']"
      ]
     },
     "execution_count": 40,
     "metadata": {},
     "output_type": "execute_result"
    }
   ],
   "source": [
    "columns"
   ]
  },
  {
   "cell_type": "code",
   "execution_count": null,
   "metadata": {},
   "outputs": [],
   "source": []
  },
  {
   "cell_type": "markdown",
   "metadata": {},
   "source": [
    "### Loading Data"
   ]
  },
  {
   "cell_type": "code",
   "execution_count": 12,
   "metadata": {},
   "outputs": [],
   "source": [
    "## Healpix map\n",
    "Nside    = 8\n",
    "outdir   = '../data/'\n",
    "hpx_file = outdir+'/hpxmap_nside%i_subsampled.fits'%Nside"
   ]
  },
  {
   "cell_type": "code",
   "execution_count": 13,
   "metadata": {},
   "outputs": [],
   "source": [
    "hpx_map = Table(getdata(hpx_file))\n",
    "tiles = np.array(hpx_map['hpx_pixel'][(hpx_map['hpx_value']>0)])-1"
   ]
  },
  {
   "cell_type": "code",
   "execution_count": 14,
   "metadata": {},
   "outputs": [
    {
     "data": {
      "text/plain": [
       "array([  0,   2, 256, 257, 259, 260, 261, 262, 263, 269, 271, 272, 273,\n",
       "       274, 275, 276, 277, 278, 279])"
      ]
     },
     "execution_count": 14,
     "metadata": {},
     "output_type": "execute_result"
    }
   ],
   "source": [
    "tiles"
   ]
  },
  {
   "cell_type": "code",
   "execution_count": 15,
   "metadata": {},
   "outputs": [
    {
     "data": {
      "text/plain": [
       "19"
      ]
     },
     "execution_count": 15,
     "metadata": {},
     "output_type": "execute_result"
    }
   ],
   "source": [
    "len(tiles)"
   ]
  },
  {
   "cell_type": "code",
   "execution_count": 16,
   "metadata": {},
   "outputs": [
    {
     "data": {
      "text/html": [
       "&lt;Table length=768&gt;\n",
       "<table id=\"table140518446490448\" class=\"table-striped table-bordered table-condensed\">\n",
       "<thead><tr><th>hpx_pixel</th><th>hpx_value</th></tr></thead>\n",
       "<thead><tr><th>int64</th><th>float64</th></tr></thead>\n",
       "<tr><td>1</td><td>546.0</td></tr>\n",
       "<tr><td>2</td><td>0.0</td></tr>\n",
       "<tr><td>3</td><td>3.0</td></tr>\n",
       "<tr><td>4</td><td>0.0</td></tr>\n",
       "<tr><td>5</td><td>0.0</td></tr>\n",
       "<tr><td>6</td><td>0.0</td></tr>\n",
       "<tr><td>7</td><td>0.0</td></tr>\n",
       "<tr><td>8</td><td>0.0</td></tr>\n",
       "<tr><td>9</td><td>0.0</td></tr>\n",
       "<tr><td>10</td><td>0.0</td></tr>\n",
       "<tr><td>...</td><td>...</td></tr>\n",
       "<tr><td>759</td><td>0.0</td></tr>\n",
       "<tr><td>760</td><td>0.0</td></tr>\n",
       "<tr><td>761</td><td>0.0</td></tr>\n",
       "<tr><td>762</td><td>0.0</td></tr>\n",
       "<tr><td>763</td><td>0.0</td></tr>\n",
       "<tr><td>764</td><td>0.0</td></tr>\n",
       "<tr><td>765</td><td>0.0</td></tr>\n",
       "<tr><td>766</td><td>0.0</td></tr>\n",
       "<tr><td>767</td><td>0.0</td></tr>\n",
       "<tr><td>768</td><td>0.0</td></tr>\n",
       "</table>"
      ],
      "text/plain": [
       "<Table length=768>\n",
       "hpx_pixel hpx_value\n",
       "  int64    float64 \n",
       "--------- ---------\n",
       "        1     546.0\n",
       "        2       0.0\n",
       "        3       3.0\n",
       "        4       0.0\n",
       "        5       0.0\n",
       "        6       0.0\n",
       "        7       0.0\n",
       "        8       0.0\n",
       "        9       0.0\n",
       "       10       0.0\n",
       "      ...       ...\n",
       "      759       0.0\n",
       "      760       0.0\n",
       "      761       0.0\n",
       "      762       0.0\n",
       "      763       0.0\n",
       "      764       0.0\n",
       "      765       0.0\n",
       "      766       0.0\n",
       "      767       0.0\n",
       "      768       0.0"
      ]
     },
     "execution_count": 16,
     "metadata": {},
     "output_type": "execute_result"
    }
   ],
   "source": [
    "hpx_map"
   ]
  },
  {
   "cell_type": "code",
   "execution_count": null,
   "metadata": {},
   "outputs": [],
   "source": []
  },
  {
   "cell_type": "code",
   "execution_count": 17,
   "metadata": {},
   "outputs": [],
   "source": [
    "## get cluster data\n",
    "\n",
    "path_out = '/data/des61.a/data/johnny/DESY3/data/cutouts/'\n",
    "fname_out= path_out+'y3_gold_2.2.1_wide_sofcol_run_redmapper_v6.4.22_wv1.2_subsampled.fits'\n",
    "\n",
    "cat  = Table(getdata(fname_out))\n"
   ]
  },
  {
   "cell_type": "code",
   "execution_count": 18,
   "metadata": {},
   "outputs": [],
   "source": [
    "ra,dec= cat['RA'], cat['DEC']\n",
    "zcls  = cat['Z_LAMBDA']\n",
    "\n",
    "zcut  = (zcls<=0.65)&(zcls>=0.2)\n",
    "\n",
    "lmask = (cat['LAMBDA_CHISQ']>=5.) & zcut\n",
    "# lmask = (cat['LAMBDA_CHISQ']>=5.)&(cat['LAMBDA_CHISQ']<=20.)&zcut\n",
    "\n",
    "#patch = dec<40.#(dec>-0.5)&(dec<0.5)&(ra<30)\n",
    "#cut = np.where(lmask&patch)\n",
    "\n",
    "cut = np.where(lmask)\n"
   ]
  },
  {
   "cell_type": "code",
   "execution_count": 19,
   "metadata": {},
   "outputs": [],
   "source": [
    "cat = cat[cut]"
   ]
  },
  {
   "cell_type": "code",
   "execution_count": null,
   "metadata": {},
   "outputs": [],
   "source": []
  },
  {
   "cell_type": "code",
   "execution_count": 20,
   "metadata": {},
   "outputs": [],
   "source": [
    "# ra_min,ra_max   = 26.,30.\n",
    "# dec_min,dec_max = -44.5,-43.\n",
    "\n",
    "# mask = (cat['RA']<ra_max)&(cat['RA']>ra_min)\n",
    "# mask&= (cat['DEC']<dec_max)&(cat['DEC']>dec_min)"
   ]
  },
  {
   "cell_type": "code",
   "execution_count": 21,
   "metadata": {},
   "outputs": [
    {
     "name": "stdout",
     "output_type": "stream",
     "text": [
      "25585\n"
     ]
    }
   ],
   "source": [
    "print(len(cat))"
   ]
  },
  {
   "cell_type": "code",
   "execution_count": null,
   "metadata": {},
   "outputs": [],
   "source": []
  },
  {
   "cell_type": "markdown",
   "metadata": {},
   "source": [
    "### Healpix Matching"
   ]
  },
  {
   "cell_type": "code",
   "execution_count": 22,
   "metadata": {},
   "outputs": [],
   "source": [
    "import sys\n",
    "sys.path.append('../scripts/')\n",
    "from helper import AngularDistance,get_healpix_list,radec_pix"
   ]
  },
  {
   "cell_type": "code",
   "execution_count": 23,
   "metadata": {},
   "outputs": [],
   "source": [
    "rad2deg  = 180/np.pi\n",
    "rmax     = 8 #Mpc around each cluster\n",
    "\n",
    "#r200     = cat['R200'][:]*0.7 ## Mpc\n",
    "DA       = np.ones_like(np.array(cat['Z_LAMBDA']))\n",
    "# DA[cut]  = AngularDistance(np.array(cat['redshift'][cut]))\n",
    "DA  = AngularDistance(np.array(cat['Z_LAMBDA']))\n",
    "\n",
    "## compute the radii max\n",
    "cat['rmax']  = 60*(float(rmax)/DA)*rad2deg ## arcmin"
   ]
  },
  {
   "cell_type": "code",
   "execution_count": 24,
   "metadata": {},
   "outputs": [
    {
     "data": {
      "text/html": [
       "&lt;Table length=25585&gt;\n",
       "<table id=\"table140523298110672\" class=\"table-striped table-bordered table-condensed\">\n",
       "<thead><tr><th>RA</th><th>DEC</th><th>Z_LAMBDA</th><th>LAMBDA_CHISQ</th><th>LAMBDA_CHISQ_E</th><th>SCALEVAL</th><th>tile</th><th>rmax</th></tr></thead>\n",
       "<thead><tr><th>float64</th><th>float64</th><th>float32</th><th>float32</th><th>float32</th><th>float32</th><th>int64</th><th>float64</th></tr></thead>\n",
       "<tr><td>45.213325784218</td><td>0.413609510595717</td><td>0.26417944</td><td>6.9909916</td><td>2.1175554</td><td>1.1410239</td><td>0</td><td>32.64571567128423</td></tr>\n",
       "<tr><td>44.8811817440392</td><td>0.328352252722895</td><td>0.37183228</td><td>37.272118</td><td>2.8691561</td><td>1.0149995</td><td>0</td><td>25.847657585623363</td></tr>\n",
       "<tr><td>44.9093000971721</td><td>0.521576665208534</td><td>0.20710598</td><td>5.511259</td><td>1.2947567</td><td>1.0212231</td><td>0</td><td>39.22020394027673</td></tr>\n",
       "<tr><td>44.8699544543159</td><td>0.663876621631463</td><td>0.42131603</td><td>6.4570675</td><td>1.8470399</td><td>1.1422087</td><td>0</td><td>23.931400938923936</td></tr>\n",
       "<tr><td>44.5028833930552</td><td>0.568088348356786</td><td>0.49044833</td><td>8.760569</td><td>1.4227391</td><td>1.0171106</td><td>0</td><td>21.94144073261573</td></tr>\n",
       "<tr><td>44.4976936090464</td><td>0.72541556122261</td><td>0.5852238</td><td>5.8011036</td><td>1.5600871</td><td>0.99900776</td><td>0</td><td>20.041215860422824</td></tr>\n",
       "<tr><td>44.5627101437473</td><td>0.788889255041787</td><td>0.4019028</td><td>11.445444</td><td>1.6827905</td><td>0.9999067</td><td>0</td><td>24.62349970821246</td></tr>\n",
       "<tr><td>45.0438445368495</td><td>0.737060573237541</td><td>0.34828237</td><td>21.757807</td><td>2.8576376</td><td>1.1458498</td><td>0</td><td>26.962478832112453</td></tr>\n",
       "<tr><td>44.7942991169065</td><td>0.906567007309599</td><td>0.49183047</td><td>7.860525</td><td>1.6795193</td><td>1.0284135</td><td>0</td><td>21.90783408696074</td></tr>\n",
       "<tr><td>44.3909411157841</td><td>0.700421771903058</td><td>0.54573774</td><td>5.434984</td><td>1.3674781</td><td>1.0089897</td><td>0</td><td>20.743026060327622</td></tr>\n",
       "<tr><td>...</td><td>...</td><td>...</td><td>...</td><td>...</td><td>...</td><td>...</td><td>...</td></tr>\n",
       "<tr><td>32.8368641076915</td><td>2.43327614481857</td><td>0.5698983</td><td>7.265581</td><td>1.5697776</td><td>1.0120263</td><td>279</td><td>20.30048231735644</td></tr>\n",
       "<tr><td>32.5058199274266</td><td>2.33131224001081</td><td>0.6135561</td><td>5.05361</td><td>1.4279124</td><td>0.9992682</td><td>279</td><td>19.600912693867617</td></tr>\n",
       "<tr><td>32.6333325030419</td><td>2.37744643753985</td><td>0.59294754</td><td>12.528547</td><td>1.9124707</td><td>1.0167065</td><td>279</td><td>19.916358914090246</td></tr>\n",
       "<tr><td>32.4073834035673</td><td>2.38247280526266</td><td>0.39903504</td><td>71.82463</td><td>3.373745</td><td>1.0034068</td><td>279</td><td>24.731825346514018</td></tr>\n",
       "<tr><td>32.503655369245</td><td>2.49244411344731</td><td>0.40814096</td><td>14.0693</td><td>1.9086667</td><td>0.99996084</td><td>279</td><td>24.393447913643396</td></tr>\n",
       "<tr><td>32.6826378620162</td><td>2.51822045316702</td><td>0.46073097</td><td>5.3129444</td><td>1.092155</td><td>1.0015024</td><td>279</td><td>22.717598472568934</td></tr>\n",
       "<tr><td>32.801152542141</td><td>2.55915245916705</td><td>0.45004308</td><td>7.0672665</td><td>2.2181413</td><td>0.99820143</td><td>279</td><td>23.0241021264168</td></tr>\n",
       "<tr><td>32.5925252111657</td><td>2.48522693740715</td><td>0.27363858</td><td>7.921545</td><td>1.5861278</td><td>0.9977764</td><td>279</td><td>31.826222843675865</td></tr>\n",
       "<tr><td>32.6460835355449</td><td>2.60059601688994</td><td>0.24872155</td><td>5.679064</td><td>1.2904966</td><td>1.0127285</td><td>279</td><td>34.12259300477782</td></tr>\n",
       "<tr><td>33.1234050971512</td><td>2.54688269688111</td><td>0.40504453</td><td>6.4875774</td><td>1.6028636</td><td>1.0556152</td><td>279</td><td>24.50669601291201</td></tr>\n",
       "</table>"
      ],
      "text/plain": [
       "<Table length=25585>\n",
       "       RA               DEC         Z_LAMBDA  ...  tile        rmax       \n",
       "    float64           float64       float32   ... int64      float64      \n",
       "---------------- ----------------- ---------- ... ----- ------------------\n",
       " 45.213325784218 0.413609510595717 0.26417944 ...     0  32.64571567128423\n",
       "44.8811817440392 0.328352252722895 0.37183228 ...     0 25.847657585623363\n",
       "44.9093000971721 0.521576665208534 0.20710598 ...     0  39.22020394027673\n",
       "44.8699544543159 0.663876621631463 0.42131603 ...     0 23.931400938923936\n",
       "44.5028833930552 0.568088348356786 0.49044833 ...     0  21.94144073261573\n",
       "44.4976936090464  0.72541556122261  0.5852238 ...     0 20.041215860422824\n",
       "44.5627101437473 0.788889255041787  0.4019028 ...     0  24.62349970821246\n",
       "45.0438445368495 0.737060573237541 0.34828237 ...     0 26.962478832112453\n",
       "44.7942991169065 0.906567007309599 0.49183047 ...     0  21.90783408696074\n",
       "44.3909411157841 0.700421771903058 0.54573774 ...     0 20.743026060327622\n",
       "             ...               ...        ... ...   ...                ...\n",
       "32.8368641076915  2.43327614481857  0.5698983 ...   279  20.30048231735644\n",
       "32.5058199274266  2.33131224001081  0.6135561 ...   279 19.600912693867617\n",
       "32.6333325030419  2.37744643753985 0.59294754 ...   279 19.916358914090246\n",
       "32.4073834035673  2.38247280526266 0.39903504 ...   279 24.731825346514018\n",
       " 32.503655369245  2.49244411344731 0.40814096 ...   279 24.393447913643396\n",
       "32.6826378620162  2.51822045316702 0.46073097 ...   279 22.717598472568934\n",
       " 32.801152542141  2.55915245916705 0.45004308 ...   279   23.0241021264168\n",
       "32.5925252111657  2.48522693740715 0.27363858 ...   279 31.826222843675865\n",
       "32.6460835355449  2.60059601688994 0.24872155 ...   279  34.12259300477782\n",
       "33.1234050971512  2.54688269688111 0.40504453 ...   279  24.50669601291201"
      ]
     },
     "execution_count": 24,
     "metadata": {},
     "output_type": "execute_result"
    }
   ],
   "source": [
    "cat"
   ]
  },
  {
   "cell_type": "code",
   "execution_count": 25,
   "metadata": {},
   "outputs": [],
   "source": [
    "ra,dec= cat['RA'], cat['DEC']\n",
    "cluster_tile = np.array(cat['tile'])"
   ]
  },
  {
   "cell_type": "code",
   "execution_count": 26,
   "metadata": {},
   "outputs": [
    {
     "data": {
      "image/png": "[encoded data removed]",
      "text/plain": [
       "<Figure size 432x288 with 1 Axes>"
      ]
     },
     "metadata": {},
     "output_type": "display_data"
    }
   ],
   "source": [
    "_ = plt.hist(cluster_tile,bins=51)\n",
    "plt.yscale('log')"
   ]
  },
  {
   "cell_type": "code",
   "execution_count": 27,
   "metadata": {},
   "outputs": [],
   "source": [
    "#plt.hist(cat['redshift'])"
   ]
  },
  {
   "cell_type": "code",
   "execution_count": 28,
   "metadata": {},
   "outputs": [
    {
     "data": {
      "text/plain": [
       "array([  0,   2, 256, 257, 259, 260, 261, 262, 263, 269, 271, 272, 273,\n",
       "       274, 275, 276, 277, 278, 279])"
      ]
     },
     "execution_count": 28,
     "metadata": {},
     "output_type": "execute_result"
    }
   ],
   "source": [
    "np.unique(cluster_tile)"
   ]
  },
  {
   "cell_type": "code",
   "execution_count": 29,
   "metadata": {},
   "outputs": [
    {
     "data": {
      "text/plain": [
       "array([  0,   2, 256, 257, 259, 260, 261, 262, 263, 269, 271, 272, 273,\n",
       "       274, 275, 276, 277, 278, 279])"
      ]
     },
     "execution_count": 29,
     "metadata": {},
     "output_type": "execute_result"
    }
   ],
   "source": [
    "tiles"
   ]
  },
  {
   "cell_type": "code",
   "execution_count": 30,
   "metadata": {},
   "outputs": [
    {
     "data": {
      "text/plain": [
       "2056"
      ]
     },
     "execution_count": 30,
     "metadata": {},
     "output_type": "execute_result"
    }
   ],
   "source": [
    "np.where(cluster_tile==tiles[3])[0].size"
   ]
  },
  {
   "cell_type": "code",
   "execution_count": null,
   "metadata": {},
   "outputs": [],
   "source": []
  },
  {
   "cell_type": "markdown",
   "metadata": {},
   "source": [
    "### Retrieving Galaxy Catalogs"
   ]
  },
  {
   "cell_type": "code",
   "execution_count": 31,
   "metadata": {},
   "outputs": [],
   "source": [
    "def save_hdf5_output(gal,cat,outfile):\n",
    "    df  = gal.to_pandas()\n",
    "    df.to_hdf(outfile, key='members', mode='w')\n",
    "\n",
    "    gal = 0\n",
    "\n",
    "    dfc = cat.to_pandas()\n",
    "    dfc.to_hdf(outfile, key='cluster', mode='a')"
   ]
  },
  {
   "cell_type": "code",
   "execution_count": 32,
   "metadata": {},
   "outputs": [],
   "source": [
    "def load_hdf_files(infile,indices,columns,path='catalog/gold/'):\n",
    "    master = h5py.File(infile,'r')\n",
    "    gold   = master[path]\n",
    "    \n",
    "    mydict = dict().fromkeys(columns)\n",
    "    \n",
    "    mydict['id'] = indices\n",
    "    for col in columns:\n",
    "        mydict[col] = gold[col][:][indices]\n",
    "    \n",
    "    master.close()\n",
    "    return Table(mydict)"
   ]
  },
  {
   "cell_type": "code",
   "execution_count": 33,
   "metadata": {},
   "outputs": [],
   "source": [
    "from time import time"
   ]
  },
  {
   "cell_type": "code",
   "execution_count": 34,
   "metadata": {},
   "outputs": [],
   "source": [
    "# fname  = path+'Buzzard_v1.9.8_Y3a_bpz.h5'\n",
    "# indexes= h5py.File(fname)\n",
    "# bpz    = indexes['catalog/bpz']\n",
    "\n",
    "# #b_cid  = bpz['coadd_object_id'][:][maglim_idx]\n",
    "# z      = bpz['z'][:][maglim_idx]\n",
    "# zmean  = bpz['zmean_sof'][:][maglim_idx]\n",
    "\n",
    "# indexes.close()"
   ]
  },
  {
   "cell_type": "code",
   "execution_count": null,
   "metadata": {},
   "outputs": [],
   "source": []
  },
  {
   "cell_type": "code",
   "execution_count": 35,
   "metadata": {},
   "outputs": [],
   "source": [
    "indexes= h5py.File(fname_aux,'r')\n",
    "dnf    = indexes['catalog/unsheared']\n",
    "\n",
    "d_cid  = dnf['coadd_object_id'][:][maglim_idx]\n",
    "# d_z    = dnf['z'][:][maglim_idx]\n",
    "d_zmean= dnf['zmean_sof'][:][maglim_idx]\n",
    "# d_sigma= dnf['z_sigma'][:][maglim_idx]\n",
    "\n",
    "d_z = np.zeros_like(d_zmean)\n",
    "d_sigma = 0.03*(1+d_zmean)\n",
    "\n",
    "indexes.close()"
   ]
  },
  {
   "cell_type": "code",
   "execution_count": null,
   "metadata": {},
   "outputs": [],
   "source": []
  },
  {
   "cell_type": "code",
   "execution_count": 36,
   "metadata": {},
   "outputs": [],
   "source": [
    "## BE CAREFULL! The cells below take about an hour to run"
   ]
  },
  {
   "cell_type": "code",
   "execution_count": 37,
   "metadata": {},
   "outputs": [],
   "source": [
    "outdir = '/data/des61.a/data/johnny/DESY3/data/cutouts/'\n",
    "outfile_base = outdir+'y3_gold_2.2.1_wide_sofcol_run_redmapper_v6.4.22_wv1.2_subsampled_hpx8_{}.hdf'"
   ]
  },
  {
   "cell_type": "code",
   "execution_count": 41,
   "metadata": {},
   "outputs": [
    {
     "name": "stdout",
     "output_type": "stream",
     "text": [
      "start tile: 0\n",
      "matching: done\n",
      "loading main data: done\n",
      "outfile saved: /data/des61.a/data/johnny/DESY3/data/cutouts/y3_gold_2.2.1_wide_sofcol_run_redmapper_v6.4.22_wv1.2_subsampled_hpx8_0.hdf\n",
      "partial time: 0.65 min\n",
      "run time    : 0.65 min\n",
      "\n",
      "\n",
      "start tile: 2\n",
      "matching: done\n",
      "loading main data: done\n",
      "outfile saved: /data/des61.a/data/johnny/DESY3/data/cutouts/y3_gold_2.2.1_wide_sofcol_run_redmapper_v6.4.22_wv1.2_subsampled_hpx8_2.hdf\n",
      "partial time: 0.24 min\n",
      "run time    : 0.89 min\n",
      "\n",
      "\n",
      "start tile: 256\n",
      "matching: done\n",
      "loading main data: done\n",
      "outfile saved: /data/des61.a/data/johnny/DESY3/data/cutouts/y3_gold_2.2.1_wide_sofcol_run_redmapper_v6.4.22_wv1.2_subsampled_hpx8_256.hdf\n",
      "partial time: 2.21 min\n",
      "run time    : 3.10 min\n",
      "\n",
      "\n",
      "start tile: 257\n",
      "matching: done\n",
      "loading main data: done\n",
      "outfile saved: /data/des61.a/data/johnny/DESY3/data/cutouts/y3_gold_2.2.1_wide_sofcol_run_redmapper_v6.4.22_wv1.2_subsampled_hpx8_257.hdf\n",
      "partial time: 4.88 min\n",
      "run time    : 7.98 min\n",
      "\n",
      "\n",
      "start tile: 259\n",
      "matching: done\n",
      "loading main data: done\n",
      "outfile saved: /data/des61.a/data/johnny/DESY3/data/cutouts/y3_gold_2.2.1_wide_sofcol_run_redmapper_v6.4.22_wv1.2_subsampled_hpx8_259.hdf\n",
      "partial time: 0.23 min\n",
      "run time    : 8.21 min\n",
      "\n",
      "\n",
      "start tile: 260\n",
      "matching: done\n",
      "loading main data: done\n",
      "outfile saved: /data/des61.a/data/johnny/DESY3/data/cutouts/y3_gold_2.2.1_wide_sofcol_run_redmapper_v6.4.22_wv1.2_subsampled_hpx8_260.hdf\n",
      "partial time: 6.27 min\n",
      "run time    : 14.48 min\n",
      "\n",
      "\n",
      "start tile: 261\n",
      "matching: done\n",
      "loading main data: done\n",
      "outfile saved: /data/des61.a/data/johnny/DESY3/data/cutouts/y3_gold_2.2.1_wide_sofcol_run_redmapper_v6.4.22_wv1.2_subsampled_hpx8_261.hdf\n",
      "partial time: 8.04 min\n",
      "run time    : 22.52 min\n",
      "\n",
      "\n",
      "start tile: 262\n",
      "matching: done\n",
      "loading main data: done\n",
      "outfile saved: /data/des61.a/data/johnny/DESY3/data/cutouts/y3_gold_2.2.1_wide_sofcol_run_redmapper_v6.4.22_wv1.2_subsampled_hpx8_262.hdf\n",
      "partial time: 0.24 min\n",
      "run time    : 22.76 min\n",
      "\n",
      "\n",
      "start tile: 263\n",
      "matching: done\n",
      "loading main data: done\n",
      "outfile saved: /data/des61.a/data/johnny/DESY3/data/cutouts/y3_gold_2.2.1_wide_sofcol_run_redmapper_v6.4.22_wv1.2_subsampled_hpx8_263.hdf\n",
      "partial time: 0.27 min\n",
      "run time    : 23.03 min\n",
      "\n",
      "\n",
      "start tile: 269\n",
      "matching: done\n",
      "loading main data: done\n",
      "outfile saved: /data/des61.a/data/johnny/DESY3/data/cutouts/y3_gold_2.2.1_wide_sofcol_run_redmapper_v6.4.22_wv1.2_subsampled_hpx8_269.hdf\n",
      "partial time: 0.28 min\n",
      "run time    : 23.31 min\n",
      "\n",
      "\n",
      "start tile: 271\n",
      "matching: done\n",
      "loading main data: done\n",
      "outfile saved: /data/des61.a/data/johnny/DESY3/data/cutouts/y3_gold_2.2.1_wide_sofcol_run_redmapper_v6.4.22_wv1.2_subsampled_hpx8_271.hdf\n",
      "partial time: 1.65 min\n",
      "run time    : 24.96 min\n",
      "\n",
      "\n",
      "start tile: 272\n",
      "matching: done\n",
      "loading main data: done\n",
      "outfile saved: /data/des61.a/data/johnny/DESY3/data/cutouts/y3_gold_2.2.1_wide_sofcol_run_redmapper_v6.4.22_wv1.2_subsampled_hpx8_272.hdf\n",
      "partial time: 5.54 min\n",
      "run time    : 30.50 min\n",
      "\n",
      "\n",
      "start tile: 273\n",
      "matching: done\n",
      "loading main data: done\n",
      "outfile saved: /data/des61.a/data/johnny/DESY3/data/cutouts/y3_gold_2.2.1_wide_sofcol_run_redmapper_v6.4.22_wv1.2_subsampled_hpx8_273.hdf\n",
      "partial time: 7.17 min\n",
      "run time    : 37.68 min\n",
      "\n",
      "\n",
      "start tile: 274\n",
      "matching: done\n",
      "loading main data: done\n",
      "outfile saved: /data/des61.a/data/johnny/DESY3/data/cutouts/y3_gold_2.2.1_wide_sofcol_run_redmapper_v6.4.22_wv1.2_subsampled_hpx8_274.hdf\n",
      "partial time: 0.30 min\n",
      "run time    : 37.97 min\n",
      "\n",
      "\n",
      "start tile: 275\n",
      "matching: done\n",
      "loading main data: done\n",
      "outfile saved: /data/des61.a/data/johnny/DESY3/data/cutouts/y3_gold_2.2.1_wide_sofcol_run_redmapper_v6.4.22_wv1.2_subsampled_hpx8_275.hdf\n",
      "partial time: 4.47 min\n",
      "run time    : 42.45 min\n",
      "\n",
      "\n",
      "start tile: 276\n",
      "matching: done\n",
      "loading main data: done\n",
      "outfile saved: /data/des61.a/data/johnny/DESY3/data/cutouts/y3_gold_2.2.1_wide_sofcol_run_redmapper_v6.4.22_wv1.2_subsampled_hpx8_276.hdf\n",
      "partial time: 6.45 min\n",
      "run time    : 48.90 min\n",
      "\n",
      "\n",
      "start tile: 277\n",
      "matching: done\n",
      "loading main data: done\n",
      "outfile saved: /data/des61.a/data/johnny/DESY3/data/cutouts/y3_gold_2.2.1_wide_sofcol_run_redmapper_v6.4.22_wv1.2_subsampled_hpx8_277.hdf\n",
      "partial time: 6.24 min\n",
      "run time    : 55.14 min\n",
      "\n",
      "\n",
      "start tile: 278\n",
      "matching: done\n",
      "loading main data: done\n",
      "outfile saved: /data/des61.a/data/johnny/DESY3/data/cutouts/y3_gold_2.2.1_wide_sofcol_run_redmapper_v6.4.22_wv1.2_subsampled_hpx8_278.hdf\n",
      "partial time: 7.03 min\n",
      "run time    : 62.17 min\n",
      "\n",
      "\n",
      "start tile: 279\n",
      "matching: done\n",
      "loading main data: done\n",
      "outfile saved: /data/des61.a/data/johnny/DESY3/data/cutouts/y3_gold_2.2.1_wide_sofcol_run_redmapper_v6.4.22_wv1.2_subsampled_hpx8_279.hdf\n",
      "partial time: 0.43 min\n",
      "run time    : 62.60 min\n",
      "\n",
      "\n"
     ]
    }
   ],
   "source": [
    "t0 = time()\n",
    "\n",
    "time_evolution = np.empty((len(tiles)+1,),dtype=np.float64)\n",
    "time_evolution[0] = t0\n",
    "\n",
    "for i, tile in enumerate(tiles):\n",
    "    print('start tile: %i'%(tile))\n",
    "    outfile = outfile_base.format(tile)\n",
    "    w       = np.where(cluster_tile==tile)[0]\n",
    "\n",
    "    if (len(w)>1) & (not os.path.isfile(outfile)):\n",
    "        circles= get_healpix_list(cat[w],nside=16384)\n",
    "        match  = esutil.numpy_util.match(circles,hpx16384)\n",
    "        indices= maglim_idx[match[1]]\n",
    "        \n",
    "        print('matching: done')\n",
    "        data               =  load_hdf_files(fname,indices,columns,path='catalog/gold/')\n",
    "        #data['z']          = z[match[1]]\n",
    "        #data['z_mean_bpz'] = zmean[match[1]]\n",
    "        \n",
    "        print('loading main data: done')\n",
    "        data['z']          = d_z[match[1]]\n",
    "        data['z_mean_dnf'] = d_zmean[match[1]]\n",
    "        data['z_sigma_dnf']= d_sigma[match[1]]\n",
    "\n",
    "        data['index']= indices\n",
    "        data['tile'] = tile\n",
    "\n",
    "        save_hdf5_output(data,cat[w],outfile)\n",
    "        data = 0\n",
    "        print('outfile saved: %s'%(outfile))\n",
    "    else:\n",
    "        print('Error: empty tile')\n",
    "    \n",
    "    time_evolution[i+1] = time()\n",
    "    print('partial time: %.2f min'%((time_evolution[i+1]-time_evolution[i])/60.))\n",
    "    print('run time    : %.2f min'%((time_evolution[i+1]-time_evolution[0])/60.))\n",
    "    print('\\n')"
   ]
  },
  {
   "cell_type": "code",
   "execution_count": null,
   "metadata": {},
   "outputs": [],
   "source": [
    "maglim_idx"
   ]
  },
  {
   "cell_type": "code",
   "execution_count": null,
   "metadata": {},
   "outputs": [],
   "source": []
  },
  {
   "cell_type": "code",
   "execution_count": null,
   "metadata": {},
   "outputs": [],
   "source": [
    "## In case that the memory crashes, delete the photoz variables (z,zmean,d_zmean,d_sigma) and run the cell below"
   ]
  },
  {
   "cell_type": "code",
   "execution_count": null,
   "metadata": {},
   "outputs": [],
   "source": [
    "# fname     = path+'Buzzard_v1.9.8_Y3a_gold.h5'\n",
    "# fname_bpz = path+'Buzzard_v1.9.8_Y3a_bpz.h5'\n",
    "# fname_dnf = fname_aux\n",
    "\n",
    "# t0 = time()\n",
    "\n",
    "# time_evolution = np.empty((len(tiles)+1,),dtype=np.float64)\n",
    "# time_evolution[0] = t0\n",
    "\n",
    "# for i, tile in enumerate(tiles):\n",
    "#     print('start tile: %i'%(tile))\n",
    "    \n",
    "#     w      = esutil.numpy_util.where1(cluster_tile==tile)\n",
    "#     circles= get_healpix_list(cat[w],nside=Nside)\n",
    "    \n",
    "#     match  = esutil.numpy_util.match(circles,hpx16384)\n",
    "#     indices= maglim_idx[match[1]]\n",
    "    \n",
    "#     data = load_hdf_files(fname,indices,columns,path='catalog/gold/')\n",
    "#     bpz  = load_hdf_files(fname_bpz,indices,['z','zmean_sof'],path='catalog/bpz/')\n",
    "#     dnf  = load_hdf_files(fname_aux,indices,['z_mean','z_sigma'],path='catalog/dnf/unsheared')\n",
    "    \n",
    "#     data['z']          = bpz['z']\n",
    "#     data['z_mean_bpz'] = bpz['zmean_sof']\n",
    "\n",
    "#     data['z_mean_dnf'] = dnf['z_mean']\n",
    "#     data['z_sigma_dnf']= dnf['z_sigma']\n",
    "    \n",
    "#     data['index']= indices\n",
    "#     data['tile'] = tile\n",
    "#     time_evolution[i+1] = time()\n",
    "    \n",
    "#     outfile = outfile_base.format(tile)\n",
    "#     save_hdf5_output(data,cat[w],outfile)\n",
    "#     data = 0\n",
    "#     print('outfile saved: %s'%(outfile))\n",
    "    \n",
    "#     print('partial time: %.2f min'%((time_evolution[i+1]-time_evolution[i])/60.))\n",
    "#     print('run time    : %.2f min'%((time_evolution[i+1]-time_evolution[0])/60.))\n",
    "#     print('\\n')"
   ]
  },
  {
   "cell_type": "code",
   "execution_count": null,
   "metadata": {},
   "outputs": [],
   "source": []
  },
  {
   "cell_type": "code",
   "execution_count": 42,
   "metadata": {},
   "outputs": [],
   "source": [
    "import pandas as pd"
   ]
  },
  {
   "cell_type": "code",
   "execution_count": 43,
   "metadata": {},
   "outputs": [],
   "source": [
    "def upload_dataFrame(infile,keys='members'):\n",
    "    hdf = pd.HDFStore(infile, mode='r')\n",
    "    df1 = hdf.get(keys)\n",
    "    hdf.close()\n",
    "    data = Table.from_pandas(df1)\n",
    "    return data"
   ]
  },
  {
   "cell_type": "code",
   "execution_count": 47,
   "metadata": {},
   "outputs": [],
   "source": [
    "hi = 260\n",
    "outfile = outfile_base.format(hi)"
   ]
  },
  {
   "cell_type": "code",
   "execution_count": 48,
   "metadata": {},
   "outputs": [],
   "source": [
    "gi = upload_dataFrame(outfile,keys='members')\n",
    "ra, dec = gi['ra'], gi['dec']"
   ]
  },
  {
   "cell_type": "code",
   "execution_count": 49,
   "metadata": {},
   "outputs": [
    {
     "data": {
      "text/plain": [
       "3562"
      ]
     },
     "execution_count": 49,
     "metadata": {},
     "output_type": "execute_result"
    }
   ],
   "source": [
    "np.count_nonzero(gi['z_mean_dnf']<0)"
   ]
  },
  {
   "cell_type": "code",
   "execution_count": 50,
   "metadata": {},
   "outputs": [
    {
     "data": {
      "text/plain": [
       "1.0"
      ]
     },
     "execution_count": 50,
     "metadata": {},
     "output_type": "execute_result"
    }
   ],
   "source": [
    "1.*np.count_nonzero(gi['z_mean_dnf'])/len(gi)\n"
   ]
  },
  {
   "cell_type": "code",
   "execution_count": 51,
   "metadata": {},
   "outputs": [],
   "source": [
    "w = np.where(cluster_tile==hi)[0]\n",
    "rac,decc = cat['RA'][w],cat['DEC'][w]\n",
    "\n",
    "#circles= get_healpix_list(cat[w],nside=16384)\n",
    "#match  = esutil.numpy_util.match(circles,hpx16384)"
   ]
  },
  {
   "cell_type": "code",
   "execution_count": 52,
   "metadata": {},
   "outputs": [
    {
     "data": {
      "text/plain": [
       "<matplotlib.collections.PathCollection at 0x7fcde2384610>"
      ]
     },
     "execution_count": 52,
     "metadata": {},
     "output_type": "execute_result"
    },
    {
     "data": {
      "image/png": "[encoded data removed]",
      "text/plain": [
       "<Figure size 432x288 with 1 Axes>"
      ]
     },
     "metadata": {},
     "output_type": "display_data"
    }
   ],
   "source": [
    "plt.scatter(ra[::10],dec[::10],alpha=0.3)\n",
    "plt.scatter(rac,decc)"
   ]
  },
  {
   "cell_type": "code",
   "execution_count": 53,
   "metadata": {},
   "outputs": [
    {
     "data": {
      "text/html": [
       "&lt;Table length=2259858&gt;\n",
       "<table id=\"table140522085170640\" class=\"table-striped table-bordered table-condensed\">\n",
       "<thead><tr><th>sof_cm_mag_corrected_i</th><th>sof_cm_mag_err_i</th><th>sof_cm_mag_err_g</th><th>sof_cm_mag_corrected_g</th><th>hpix_16384</th><th>flags_gold</th><th>ra</th><th>sof_cm_mag_corrected_z</th><th>sof_cm_mag_err_r</th><th>sof_cm_mag_err_z</th><th>coadd_object_id</th><th>dec</th><th>extended_class_mash_sof</th><th>id</th><th>sof_cm_mag_corrected_r</th><th>z</th><th>z_mean_dnf</th><th>z_sigma_dnf</th><th>index</th><th>tile</th></tr></thead>\n",
       "<thead><tr><th>float64</th><th>float64</th><th>float64</th><th>float64</th><th>int64</th><th>int32</th><th>float64</th><th>float64</th><th>float64</th><th>float64</th><th>int64</th><th>float64</th><th>int16</th><th>int64</th><th>float64</th><th>float32</th><th>float32</th><th>float32</th><th>int64</th><th>int64</th></tr></thead>\n",
       "<tr><td>21.60564193805693</td><td>0.055921232332650936</td><td>0.1914977837828636</td><td>23.987521002163408</td><td>1079332929</td><td>0</td><td>11.1000318992525</td><td>21.21601682758829</td><td>0.07992986922742125</td><td>0.07288781749877886</td><td>274171316</td><td>-30.1456359199531</td><td>3</td><td>4489429</td><td>22.71707278888059</td><td>0.0</td><td>0.8024673</td><td>0.05407402</td><td>4489429</td><td>260</td></tr>\n",
       "<tr><td>22.96126914410424</td><td>0.17255014657281287</td><td>0.1769462710672868</td><td>23.87396956908976</td><td>1079332940</td><td>0</td><td>11.0955181904224</td><td>23.013254886931634</td><td>0.14470472715328406</td><td>0.2415339775648113</td><td>274170886</td><td>-30.1357654530396</td><td>3</td><td>4489438</td><td>23.13972062656116</td><td>0.0</td><td>0.44927597</td><td>0.043478277</td><td>4489438</td><td>260</td></tr>\n",
       "<tr><td>21.837376685401747</td><td>0.03840718774464921</td><td>0.17238731142914498</td><td>24.2957478423318</td><td>1079332941</td><td>0</td><td>11.0995507694232</td><td>21.368082854584085</td><td>0.04423661123593533</td><td>0.03971980847079779</td><td>274170925</td><td>-30.136713533865</td><td>3</td><td>4489439</td><td>22.664832310440673</td><td>0.0</td><td>0.6615005</td><td>0.049845014</td><td>4489439</td><td>260</td></tr>\n",
       "<tr><td>21.930223594696987</td><td>0.042899779197968786</td><td>0.04163176945824593</td><td>22.66987160829307</td><td>1079332944</td><td>0</td><td>11.1084844088518</td><td>22.19964716950343</td><td>0.036075880507659225</td><td>0.09189178004656783</td><td>274170954</td><td>-30.137495729513</td><td>3</td><td>4489442</td><td>22.283540424734987</td><td>0.0</td><td>0.62382334</td><td>0.0487147</td><td>4489442</td><td>260</td></tr>\n",
       "<tr><td>21.780765070992793</td><td>0.04247881798582481</td><td>0.09365142164386281</td><td>23.684824167832343</td><td>1079332949</td><td>0</td><td>11.1144092584639</td><td>21.477580032425603</td><td>0.03998849357235144</td><td>0.0532258716331354</td><td>274170557</td><td>-30.1295371844793</td><td>3</td><td>4489446</td><td>22.2373961475386</td><td>0.0</td><td>0.4203061</td><td>0.04260918</td><td>4489446</td><td>260</td></tr>\n",
       "<tr><td>22.669866849518087</td><td>0.07484490708676939</td><td>0.06272986563163635</td><td>23.216000021894292</td><td>1079332954</td><td>0</td><td>11.0995897507073</td><td>22.356613709269574</td><td>0.049676865446099956</td><td>0.10277266351414041</td><td>274170591</td><td>-30.129778311718</td><td>3</td><td>4489448</td><td>22.631105077031286</td><td>0.0</td><td>0.37277186</td><td>0.041183155</td><td>4489448</td><td>260</td></tr>\n",
       "<tr><td>21.005859214365486</td><td>0.02152394024709112</td><td>0.02422572381297717</td><td>22.063978531995495</td><td>1079332959</td><td>0</td><td>11.1083897325945</td><td>20.91365237971402</td><td>0.02004748166077011</td><td>0.032249625017414435</td><td>274170114</td><td>-30.1216795412244</td><td>3</td><td>4489454</td><td>21.45673890687678</td><td>0.0</td><td>0.7134163</td><td>0.05140249</td><td>4489454</td><td>260</td></tr>\n",
       "<tr><td>22.994012416551275</td><td>0.11065202732765601</td><td>0.12404747123348658</td><td>24.151000669307077</td><td>1079332962</td><td>0</td><td>11.0799708791533</td><td>23.30269181377342</td><td>0.11831369660580983</td><td>0.2052967056439625</td><td>274170843</td><td>-30.1348487526052</td><td>3</td><td>4489457</td><td>23.874454336493077</td><td>0.0</td><td>0.9175857</td><td>0.05752757</td><td>4489457</td><td>260</td></tr>\n",
       "<tr><td>22.79370552129762</td><td>0.11193990712921645</td><td>0.10588103670131226</td><td>23.554647735679076</td><td>1079332963</td><td>0</td><td>11.0852563268874</td><td>22.318706268238575</td><td>0.10316967763664496</td><td>0.12997063953312413</td><td>274170766</td><td>-30.1333012231468</td><td>3</td><td>4489458</td><td>23.21223184663806</td><td>0.0</td><td>1.0780423</td><td>0.062341265</td><td>4489458</td><td>260</td></tr>\n",
       "<tr><td>22.925626364467984</td><td>0.09696059041901915</td><td>0.09764728253655597</td><td>23.765591716316617</td><td>1079332963</td><td>0</td><td>11.0854409698825</td><td>22.141712667908067</td><td>0.09253609865434453</td><td>0.09268262655012018</td><td>274170730</td><td>-30.1325296679095</td><td>3</td><td>4489459</td><td>23.442288325184485</td><td>0.0</td><td>1.211225</td><td>0.06633675</td><td>4489459</td><td>260</td></tr>\n",
       "<tr><td>...</td><td>...</td><td>...</td><td>...</td><td>...</td><td>...</td><td>...</td><td>...</td><td>...</td><td>...</td><td>...</td><td>...</td><td>...</td><td>...</td><td>...</td><td>...</td><td>...</td><td>...</td><td>...</td><td>...</td></tr>\n",
       "<tr><td>22.872385192415322</td><td>0.14073466203978863</td><td>0.3199568442526098</td><td>24.299783838729912</td><td>1103110406</td><td>0</td><td>11.1216412402804</td><td>22.682297846859118</td><td>0.13192667224060198</td><td>0.19246828051409862</td><td>272000226</td><td>-19.2645349860105</td><td>3</td><td>14054675</td><td>23.356314324072542</td><td>0.0</td><td>0.6807978</td><td>0.050423935</td><td>14054675</td><td>260</td></tr>\n",
       "<tr><td>22.055546714814096</td><td>0.060523730266291036</td><td>0.09091185635509412</td><td>23.249957066431563</td><td>1103110417</td><td>0</td><td>11.1316696754687</td><td>21.54116483440398</td><td>0.05027780126035002</td><td>0.06548117120264577</td><td>271999953</td><td>-19.2577622511958</td><td>3</td><td>14054682</td><td>22.373334574374798</td><td>0.0</td><td>0.7705503</td><td>0.053116508</td><td>14054682</td><td>260</td></tr>\n",
       "<tr><td>22.582714902816665</td><td>0.09521636341180176</td><td>0.07900184914735785</td><td>23.054818809800665</td><td>1103110419</td><td>0</td><td>11.1288159844033</td><td>22.283559804668435</td><td>0.08270306595264446</td><td>0.120518339033403</td><td>271999980</td><td>-19.2582565619832</td><td>3</td><td>14054683</td><td>22.965503443870414</td><td>0.0</td><td>1.1965551</td><td>0.06589665</td><td>14054683</td><td>260</td></tr>\n",
       "<tr><td>22.068828173277385</td><td>0.07535878504761867</td><td>0.35739639466200734</td><td>24.67713207165087</td><td>1103110419</td><td>0</td><td>11.1271718274759</td><td>21.939136166901694</td><td>0.0994007196478939</td><td>0.1053595191548068</td><td>271999892</td><td>-19.2562129054373</td><td>3</td><td>14054684</td><td>23.06367401926067</td><td>0.0</td><td>0.7350062</td><td>0.052050184</td><td>14054684</td><td>260</td></tr>\n",
       "<tr><td>20.77686260205768</td><td>0.03468906556588125</td><td>0.14252840622771185</td><td>23.558295211934578</td><td>1103110423</td><td>0</td><td>11.1340250681698</td><td>20.412651009699204</td><td>0.041238589623172964</td><td>0.03913442840682808</td><td>271999648</td><td>-19.2500962032135</td><td>3</td><td>14054686</td><td>21.794391958488774</td><td>0.0</td><td>0.68955815</td><td>0.050686743</td><td>14054686</td><td>260</td></tr>\n",
       "<tr><td>21.888351453112303</td><td>0.06682378874516456</td><td>0.07406426965554205</td><td>22.788276360093406</td><td>1103110464</td><td>0</td><td>11.1416983773295</td><td>21.93512299527485</td><td>0.05513554547273604</td><td>0.10995805295497041</td><td>271999728</td><td>-19.25206275551</td><td>3</td><td>14054715</td><td>22.155582357250335</td><td>0.0</td><td>0.5881107</td><td>0.04764332</td><td>14054715</td><td>260</td></tr>\n",
       "<tr><td>22.47503751746778</td><td>0.08498856887206868</td><td>0.27042886843169694</td><td>24.530112149325785</td><td>1103110464</td><td>0</td><td>11.1390093189007</td><td>22.18498698089181</td><td>0.1153573794078816</td><td>0.10771012233540783</td><td>271999749</td><td>-19.2525072377672</td><td>2</td><td>14054716</td><td>23.456002762537075</td><td>0.0</td><td>0.8293992</td><td>0.054881975</td><td>14054716</td><td>260</td></tr>\n",
       "<tr><td>22.257127534701368</td><td>0.07880242278684899</td><td>0.9321732652059438</td><td>25.80137227496408</td><td>1103110465</td><td>0</td><td>11.1433279559385</td><td>21.278698344694895</td><td>0.1372089718740432</td><td>0.06606010628199825</td><td>271999523</td><td>-19.2471183017981</td><td>3</td><td>14054717</td><td>23.552731974924843</td><td>0.0</td><td>1.0498216</td><td>0.06149465</td><td>14054717</td><td>260</td></tr>\n",
       "<tr><td>18.38362341929628</td><td>0.004807412108919609</td><td>0.004860220309900036</td><td>19.212503569017645</td><td>1103110468</td><td>0</td><td>11.1458563967311</td><td>18.2622472378917</td><td>0.004054302708466801</td><td>0.006979478458471952</td><td>271999433</td><td>-19.2479571596945</td><td>3</td><td>14054721</td><td>18.66613316190894</td><td>0.0</td><td>0.14608715</td><td>0.034382615</td><td>14054721</td><td>260</td></tr>\n",
       "<tr><td>21.428674612141613</td><td>0.0527787127682418</td><td>0.058384286686431745</td><td>22.369304747427073</td><td>1103110469</td><td>0</td><td>11.1500903926125</td><td>21.265918414308214</td><td>0.057936565860686386</td><td>0.07333110370908882</td><td>271999370</td><td>-19.2433928684745</td><td>3</td><td>14054722</td><td>22.165590961316376</td><td>0.0</td><td>0.98214966</td><td>0.05946449</td><td>14054722</td><td>260</td></tr>\n",
       "</table>"
      ],
      "text/plain": [
       "<Table length=2259858>\n",
       "sof_cm_mag_corrected_i   sof_cm_mag_err_i   ...  index    tile\n",
       "       float64               float64        ...  int64   int64\n",
       "---------------------- -------------------- ... -------- -----\n",
       "     21.60564193805693 0.055921232332650936 ...  4489429   260\n",
       "     22.96126914410424  0.17255014657281287 ...  4489438   260\n",
       "    21.837376685401747  0.03840718774464921 ...  4489439   260\n",
       "    21.930223594696987 0.042899779197968786 ...  4489442   260\n",
       "    21.780765070992793  0.04247881798582481 ...  4489446   260\n",
       "    22.669866849518087  0.07484490708676939 ...  4489448   260\n",
       "    21.005859214365486  0.02152394024709112 ...  4489454   260\n",
       "    22.994012416551275  0.11065202732765601 ...  4489457   260\n",
       "     22.79370552129762  0.11193990712921645 ...  4489458   260\n",
       "    22.925626364467984  0.09696059041901915 ...  4489459   260\n",
       "                   ...                  ... ...      ...   ...\n",
       "    22.872385192415322  0.14073466203978863 ... 14054675   260\n",
       "    22.055546714814096 0.060523730266291036 ... 14054682   260\n",
       "    22.582714902816665  0.09521636341180176 ... 14054683   260\n",
       "    22.068828173277385  0.07535878504761867 ... 14054684   260\n",
       "     20.77686260205768  0.03468906556588125 ... 14054686   260\n",
       "    21.888351453112303  0.06682378874516456 ... 14054715   260\n",
       "     22.47503751746778  0.08498856887206868 ... 14054716   260\n",
       "    22.257127534701368  0.07880242278684899 ... 14054717   260\n",
       "     18.38362341929628 0.004807412108919609 ... 14054721   260\n",
       "    21.428674612141613   0.0527787127682418 ... 14054722   260"
      ]
     },
     "execution_count": 53,
     "metadata": {},
     "output_type": "execute_result"
    }
   ],
   "source": [
    "gi"
   ]
  },
  {
   "cell_type": "code",
   "execution_count": null,
   "metadata": {},
   "outputs": [],
   "source": []
  },
  {
   "cell_type": "code",
   "execution_count": 54,
   "metadata": {},
   "outputs": [],
   "source": [
    "import healpy as hp\n",
    "def hpix2ang(pix,nside=1024):\n",
    "    lon,lat = hp.pix2ang(nside,pix,nest=True)\n",
    "    dec,ra=(90-(lon)*(180/np.pi)),(lat*(180/np.pi))\n",
    "    return ra,dec"
   ]
  },
  {
   "cell_type": "code",
   "execution_count": 55,
   "metadata": {},
   "outputs": [
    {
     "ename": "NameError",
     "evalue": "name 'myidx' is not defined",
     "output_type": "error",
     "traceback": [
      "\u001b[0;31m---------------------------------------------------------------------------\u001b[0m",
      "\u001b[0;31mNameError\u001b[0m                                 Traceback (most recent call last)",
      "\u001b[0;32m<ipython-input-55-6cccda1c6ee0>\u001b[0m in \u001b[0;36m<module>\u001b[0;34m()\u001b[0m\n\u001b[1;32m      1\u001b[0m \u001b[0mra\u001b[0m\u001b[0;34m,\u001b[0m \u001b[0mdec\u001b[0m \u001b[0;34m=\u001b[0m \u001b[0mhpix2ang\u001b[0m\u001b[0;34m(\u001b[0m\u001b[0mcircles\u001b[0m\u001b[0;34m,\u001b[0m\u001b[0mnside\u001b[0m\u001b[0;34m=\u001b[0m\u001b[0;36m16384\u001b[0m\u001b[0;34m)\u001b[0m\u001b[0;34m\u001b[0m\u001b[0m\n\u001b[0;32m----> 2\u001b[0;31m \u001b[0mgra\u001b[0m\u001b[0;34m,\u001b[0m\u001b[0mgdec\u001b[0m \u001b[0;34m=\u001b[0m \u001b[0mhpix2ang\u001b[0m\u001b[0;34m(\u001b[0m\u001b[0mmyidx\u001b[0m\u001b[0;34m,\u001b[0m\u001b[0mnside\u001b[0m\u001b[0;34m=\u001b[0m\u001b[0;36m16384\u001b[0m\u001b[0;34m)\u001b[0m\u001b[0;34m\u001b[0m\u001b[0m\n\u001b[0m",
      "\u001b[0;31mNameError\u001b[0m: name 'myidx' is not defined"
     ]
    }
   ],
   "source": [
    "ra, dec = hpix2ang(circles,nside=16384)\n",
    "gra,gdec = hpix2ang(myidx,nside=16384)"
   ]
  },
  {
   "cell_type": "code",
   "execution_count": null,
   "metadata": {},
   "outputs": [],
   "source": [
    "plt.scatter(ra[::10],dec[::10])\n",
    "plt.scatter(gra[::1000],gdec[::1000])"
   ]
  },
  {
   "cell_type": "code",
   "execution_count": null,
   "metadata": {},
   "outputs": [],
   "source": []
  },
  {
   "cell_type": "code",
   "execution_count": null,
   "metadata": {},
   "outputs": [],
   "source": [
    "data =  load_hdf_files(fname,maglim_idx[match[1]],columns,path='catalog/gold/')"
   ]
  },
  {
   "cell_type": "code",
   "execution_count": null,
   "metadata": {},
   "outputs": [],
   "source": [
    "plt.plot(match[1],data['id'])"
   ]
  },
  {
   "cell_type": "code",
   "execution_count": null,
   "metadata": {},
   "outputs": [],
   "source": [
    "plt.plot(data['hpix_16384'],hpx16384[match[1]])"
   ]
  },
  {
   "cell_type": "code",
   "execution_count": null,
   "metadata": {},
   "outputs": [],
   "source": []
  },
  {
   "cell_type": "code",
   "execution_count": null,
   "metadata": {},
   "outputs": [],
   "source": [
    "maglim_idx[match[1]]"
   ]
  },
  {
   "cell_type": "code",
   "execution_count": null,
   "metadata": {},
   "outputs": [],
   "source": [
    "master  = h5py.File(fname,'r')\n",
    "indexes= h5py.File(fname_aux,'r')\n",
    "\n",
    "#select  = indexes['index/gold/select'][:]\n",
    "# myidx   = master['catalog/gold/hpix_16384'][:][maglim_idx[match[1]]]\n",
    "# mag_i   = master['catalog/gold/mag_i'][:][maglim_idx[match[1]]]\n",
    "\n",
    "master.close()\n",
    "indexes.close()"
   ]
  },
  {
   "cell_type": "code",
   "execution_count": null,
   "metadata": {},
   "outputs": [],
   "source": [
    "maglim_idx[match[1]]"
   ]
  },
  {
   "cell_type": "code",
   "execution_count": null,
   "metadata": {},
   "outputs": [],
   "source": [
    "data=0"
   ]
  },
  {
   "cell_type": "code",
   "execution_count": null,
   "metadata": {},
   "outputs": [],
   "source": [
    "hpx16384[data['id']]"
   ]
  },
  {
   "cell_type": "code",
   "execution_count": null,
   "metadata": {},
   "outputs": [],
   "source": [
    "myidx"
   ]
  },
  {
   "cell_type": "code",
   "execution_count": null,
   "metadata": {},
   "outputs": [],
   "source": []
  },
  {
   "cell_type": "code",
   "execution_count": null,
   "metadata": {},
   "outputs": [],
   "source": [
    "match[1]"
   ]
  },
  {
   "cell_type": "code",
   "execution_count": null,
   "metadata": {},
   "outputs": [],
   "source": []
  },
  {
   "cell_type": "code",
   "execution_count": null,
   "metadata": {},
   "outputs": [],
   "source": [
    "rag,decg = data['ra'], data['dec']"
   ]
  },
  {
   "cell_type": "code",
   "execution_count": null,
   "metadata": {},
   "outputs": [],
   "source": [
    "plt.scatter(ra[::10],dec[::10])\n",
    "plt.scatter(rag[::100],decg[::100],alpha=0.1)"
   ]
  },
  {
   "cell_type": "code",
   "execution_count": null,
   "metadata": {},
   "outputs": [],
   "source": [
    "plt.scatter(data['hpix_16384'][::100],myidx[::100])\n",
    "\n"
   ]
  },
  {
   "cell_type": "code",
   "execution_count": null,
   "metadata": {},
   "outputs": [],
   "source": [
    "gi=0"
   ]
  },
  {
   "cell_type": "code",
   "execution_count": null,
   "metadata": {},
   "outputs": [],
   "source": []
  }
 ],
 "metadata": {
  "kernelspec": {
   "display_name": "Python 2",
   "language": "python",
   "name": "python2"
  },
  "language_info": {
   "codemirror_mode": {
    "name": "ipython",
    "version": 2
   },
   "file_extension": ".py",
   "mimetype": "text/x-python",
   "name": "python",
   "nbconvert_exporter": "python",
   "pygments_lexer": "ipython2",
   "version": "2.7.15"
  }
 },
 "nbformat": 4,
 "nbformat_minor": 4
}
