{
 "cells": [
  {
   "cell_type": "markdown",
   "metadata": {},
   "source": [
    "# Get Galaxies From Halos\n",
    "\n",
    "Cross-match of the DES galaxies with the joint SPT cluster catalog (2500d and ECS samples).\n",
    "\n",
    "https://cdcvs.fnal.gov/redmine/projects/des-sc/wiki/Y3kp_catalogs <br>\n",
    "path: /project/projectdirs/des/www/y3_cats/\t"
   ]
  },
  {
   "cell_type": "code",
   "execution_count": 1,
   "metadata": {},
   "outputs": [],
   "source": [
    "import matplotlib.pyplot as plt\n",
    "import numpy as np\n",
    "import os\n",
    "\n",
    "from astropy.table import Table, vstack\n",
    "from astropy.io.fits import getdata\n",
    "\n",
    "import pandas as pd\n",
    "\n",
    "import esutil"
   ]
  },
  {
   "cell_type": "code",
   "execution_count": null,
   "metadata": {},
   "outputs": [],
   "source": []
  },
  {
   "cell_type": "markdown",
   "metadata": {},
   "source": [
    "## Load"
   ]
  },
  {
   "cell_type": "code",
   "execution_count": 2,
   "metadata": {
    "scrolled": true
   },
   "outputs": [
    {
     "name": "stderr",
     "output_type": "stream",
     "text": [
      "/cvmfs/des.opensciencegrid.org/fnal/anaconda2/envs/des18a/lib/python2.7/site-packages/h5py/__init__.py:36: FutureWarning: Conversion of the second argument of issubdtype from `float` to `np.floating` is deprecated. In future, it will be treated as `np.float64 == np.dtype(float).type`.\n",
      "  from ._conv import register_converters as _register_converters\n"
     ]
    }
   ],
   "source": [
    "import h5py\n",
    "\n",
    "# path   = '/data/des81.b/data/mariaeli/y3_buzz/Buzzard-3_v2.0_Y3a_mastercat/'\n",
    "path   = '/data/des81.b/data/mariaeli/y3_cats/full/'\n",
    "fname  =     path+'Y3_GOLD_2_2.1_12_3_19.h5'\n",
    "fname_aux  = path+'Y3_GOLD_2_2.1_DNF_12_3_19.h5'\n",
    "\n",
    "# path_aux = '/data/des61.a/data/johnny/DESY3/desy3/data/photoz/dnf_gold_2_2/'\n",
    "# fname_aux = path_aux+'Y3_GOLD_2_2.1_DNF_12_3_19_full_jesteves.h5'\n",
    "\n",
    "master = h5py.File(fname,'r')\n",
    "aux    = h5py.File(fname_aux,'r')"
   ]
  },
  {
   "cell_type": "code",
   "execution_count": 3,
   "metadata": {},
   "outputs": [
    {
     "name": "stdout",
     "output_type": "stream",
     "text": [
      "total 572G\r\n",
      "-rw-r--r-- 1 mariaeli des 5.1G Jul 31  2020 Y3_GOLD_2_2_1_regions.h5\r\n",
      "-rwxr-x--- 1 mariaeli des  35G Jul 31  2020 \u001b[0m\u001b[01;32msompz_v0.40_08_04_2020.h5\u001b[0m*\r\n",
      "-rw-r--r-- 1 mariaeli des 6.2G Jul 31  2020 Y3_GOLD_2_2_1_maps_12_3_19.h5\r\n",
      "-rw-r--r-- 1 mariaeli des  19G Jul 31  2020 y3_gold_2.2.1_wide_sofcol_run_redmapper_v0.5.1_redmagic_12_3_19.h5\r\n",
      "-rw-r--r-- 1 mariaeli des 6.0G Jul 31  2020 Y3_GOLD_2_2.1_DNF_12_3_19.h5\r\n",
      "-rw-r----- 1 mariaeli des 291G Jul 31  2020 y3v02-mcal-004-v3_03_16_20.h5\r\n",
      "-rw-r--r-- 1 mariaeli des 174G Jul 31  2020 Y3_GOLD_2_2.1_12_3_19.h5\r\n",
      "-rw-r--r-- 1 mariaeli des 1.4K Jul 31  2020 nohup2.out\r\n",
      "-rw-r--r-- 1 mariaeli des 1.4K Jul 31  2020 nohup1.out\r\n",
      "-rw-r--r-- 1 mariaeli des 9.7G Jul 31  2020 Y3_GOLD_2_2.1_BPZ_12_3_19.h5\r\n",
      "-rw-r----- 1 mariaeli des  28G Jul 31  2020 Y3_mastercat_03_31_20.h5\r\n"
     ]
    }
   ],
   "source": [
    "ls -lth /data/des81.b/data/mariaeli/y3_cats/full/"
   ]
  },
  {
   "cell_type": "code",
   "execution_count": 4,
   "metadata": {},
   "outputs": [],
   "source": [
    "def show_h5_group(name,node):\n",
    "    ''' show all the h5 groups\n",
    "    Example:\n",
    "    fmaster = h5py.File(copa.master_fname,'r')\n",
    "    fmaster.visititems(show_h5_group)\n",
    "\n",
    "    ## https://stackoverflow.com/questions/45562169/traverse-hdf5-file-tree-and-continue-after-return\n",
    "    '''\n",
    "    if isinstance(node, h5py.Group):\n",
    "        print(name,node)\n",
    "    return None\n",
    "\n",
    "def show_h5_dataset(name,node):\n",
    "    if isinstance(node, h5py.Dataset):\n",
    "        print(name,node)\n",
    "    return None"
   ]
  },
  {
   "cell_type": "code",
   "execution_count": 5,
   "metadata": {},
   "outputs": [
    {
     "name": "stdout",
     "output_type": "stream",
     "text": [
      "(u'catalog/gold/a_sed_sfd98_g', <HDF5 dataset \"a_sed_sfd98_g\": shape (399263026,), type \">f4\">)\n",
      "(u'catalog/gold/a_sed_sfd98_i', <HDF5 dataset \"a_sed_sfd98_i\": shape (399263026,), type \">f4\">)\n",
      "(u'catalog/gold/a_sed_sfd98_r', <HDF5 dataset \"a_sed_sfd98_r\": shape (399263026,), type \">f4\">)\n",
      "(u'catalog/gold/a_sed_sfd98_z', <HDF5 dataset \"a_sed_sfd98_z\": shape (399263026,), type \">f4\">)\n",
      "(u'catalog/gold/coadd_object_id', <HDF5 dataset \"coadd_object_id\": shape (399263026,), type \">i8\">)\n",
      "(u'catalog/gold/dec', <HDF5 dataset \"dec\": shape (399263026,), type \">f8\">)\n",
      "(u'catalog/gold/delta_mag_chrom_g', <HDF5 dataset \"delta_mag_chrom_g\": shape (399263026,), type \">f4\">)\n",
      "(u'catalog/gold/delta_mag_chrom_i', <HDF5 dataset \"delta_mag_chrom_i\": shape (399263026,), type \">f4\">)\n",
      "(u'catalog/gold/delta_mag_chrom_r', <HDF5 dataset \"delta_mag_chrom_r\": shape (399263026,), type \">f4\">)\n",
      "(u'catalog/gold/delta_mag_chrom_z', <HDF5 dataset \"delta_mag_chrom_z\": shape (399263026,), type \">f4\">)\n",
      "(u'catalog/gold/delta_mag_y4_g', <HDF5 dataset \"delta_mag_y4_g\": shape (399263026,), type \">f4\">)\n",
      "(u'catalog/gold/delta_mag_y4_i', <HDF5 dataset \"delta_mag_y4_i\": shape (399263026,), type \">f4\">)\n",
      "(u'catalog/gold/delta_mag_y4_r', <HDF5 dataset \"delta_mag_y4_r\": shape (399263026,), type \">f4\">)\n",
      "(u'catalog/gold/delta_mag_y4_z', <HDF5 dataset \"delta_mag_y4_z\": shape (399263026,), type \">f4\">)\n",
      "(u'catalog/gold/ebv_sfd98', <HDF5 dataset \"ebv_sfd98\": shape (399263026,), type \">f4\">)\n",
      "(u'catalog/gold/extended_class_mash_sof', <HDF5 dataset \"extended_class_mash_sof\": shape (399263026,), type \">i2\">)\n",
      "(u'catalog/gold/extended_class_sof', <HDF5 dataset \"extended_class_sof\": shape (399263026,), type \"<i2\">)\n",
      "(u'catalog/gold/flags', <HDF5 dataset \"flags\": shape (399263026,), type \">i4\">)\n",
      "(u'catalog/gold/flags_badregions', <HDF5 dataset \"flags_badregions\": shape (399263026,), type \">i4\">)\n",
      "(u'catalog/gold/flags_footprint', <HDF5 dataset \"flags_footprint\": shape (399263026,), type \">i4\">)\n",
      "(u'catalog/gold/flags_foreground', <HDF5 dataset \"flags_foreground\": shape (399263026,), type \">i4\">)\n",
      "(u'catalog/gold/flags_gold', <HDF5 dataset \"flags_gold\": shape (399263026,), type \">i4\">)\n",
      "(u'catalog/gold/flags_phot', <HDF5 dataset \"flags_phot\": shape (399263026,), type \">i4\">)\n",
      "(u'catalog/gold/flux_auto_g', <HDF5 dataset \"flux_auto_g\": shape (399263026,), type \"<f8\">)\n",
      "(u'catalog/gold/flux_auto_i', <HDF5 dataset \"flux_auto_i\": shape (399263026,), type \"<f8\">)\n",
      "(u'catalog/gold/flux_auto_r', <HDF5 dataset \"flux_auto_r\": shape (399263026,), type \"<f8\">)\n",
      "(u'catalog/gold/flux_auto_z', <HDF5 dataset \"flux_auto_z\": shape (399263026,), type \"<f8\">)\n",
      "(u'catalog/gold/flux_radius_g', <HDF5 dataset \"flux_radius_g\": shape (399263026,), type \"<f8\">)\n",
      "(u'catalog/gold/flux_radius_i', <HDF5 dataset \"flux_radius_i\": shape (399263026,), type \"<f8\">)\n",
      "(u'catalog/gold/flux_radius_r', <HDF5 dataset \"flux_radius_r\": shape (399263026,), type \"<f8\">)\n",
      "(u'catalog/gold/flux_radius_y', <HDF5 dataset \"flux_radius_y\": shape (399263026,), type \"<f8\">)\n",
      "(u'catalog/gold/flux_radius_z', <HDF5 dataset \"flux_radius_z\": shape (399263026,), type \"<f8\">)\n",
      "(u'catalog/gold/fluxerr_auto_g', <HDF5 dataset \"fluxerr_auto_g\": shape (399263026,), type \"<f8\">)\n",
      "(u'catalog/gold/fluxerr_auto_i', <HDF5 dataset \"fluxerr_auto_i\": shape (399263026,), type \"<f8\">)\n",
      "(u'catalog/gold/fluxerr_auto_r', <HDF5 dataset \"fluxerr_auto_r\": shape (399263026,), type \"<f8\">)\n",
      "(u'catalog/gold/fluxerr_auto_z', <HDF5 dataset \"fluxerr_auto_z\": shape (399263026,), type \"<f8\">)\n",
      "(u'catalog/gold/hpix_16384', <HDF5 dataset \"hpix_16384\": shape (399263026,), type \">i8\">)\n",
      "(u'catalog/gold/mag_auto_g', <HDF5 dataset \"mag_auto_g\": shape (399263026,), type \"<f8\">)\n",
      "(u'catalog/gold/mag_auto_i', <HDF5 dataset \"mag_auto_i\": shape (399263026,), type \"<f8\">)\n",
      "(u'catalog/gold/mag_auto_r', <HDF5 dataset \"mag_auto_r\": shape (399263026,), type \"<f8\">)\n",
      "(u'catalog/gold/mag_auto_y', <HDF5 dataset \"mag_auto_y\": shape (399263026,), type \"<f8\">)\n",
      "(u'catalog/gold/mag_auto_z', <HDF5 dataset \"mag_auto_z\": shape (399263026,), type \"<f8\">)\n",
      "(u'catalog/gold/magerr_auto_g', <HDF5 dataset \"magerr_auto_g\": shape (399263026,), type \"<f8\">)\n",
      "(u'catalog/gold/magerr_auto_i', <HDF5 dataset \"magerr_auto_i\": shape (399263026,), type \"<f8\">)\n",
      "(u'catalog/gold/magerr_auto_r', <HDF5 dataset \"magerr_auto_r\": shape (399263026,), type \"<f8\">)\n",
      "(u'catalog/gold/magerr_auto_z', <HDF5 dataset \"magerr_auto_z\": shape (399263026,), type \"<f8\">)\n",
      "(u'catalog/gold/n_images_g', <HDF5 dataset \"n_images_g\": shape (399263026,), type \">i2\">)\n",
      "(u'catalog/gold/n_images_i', <HDF5 dataset \"n_images_i\": shape (399263026,), type \">i2\">)\n",
      "(u'catalog/gold/n_images_r', <HDF5 dataset \"n_images_r\": shape (399263026,), type \">i2\">)\n",
      "(u'catalog/gold/n_images_z', <HDF5 dataset \"n_images_z\": shape (399263026,), type \">i2\">)\n",
      "(u'catalog/gold/ra', <HDF5 dataset \"ra\": shape (399263026,), type \">f8\">)\n",
      "(u'catalog/gold/sextractor_flags_g', <HDF5 dataset \"sextractor_flags_g\": shape (399263026,), type \">i2\">)\n",
      "(u'catalog/gold/sextractor_flags_i', <HDF5 dataset \"sextractor_flags_i\": shape (399263026,), type \">i2\">)\n",
      "(u'catalog/gold/sextractor_flags_r', <HDF5 dataset \"sextractor_flags_r\": shape (399263026,), type \">i2\">)\n",
      "(u'catalog/gold/sextractor_flags_z', <HDF5 dataset \"sextractor_flags_z\": shape (399263026,), type \">i2\">)\n",
      "(u'catalog/gold/sof_cm_flux_corrected_g', <HDF5 dataset \"sof_cm_flux_corrected_g\": shape (399263026,), type \">f8\">)\n",
      "(u'catalog/gold/sof_cm_flux_corrected_i', <HDF5 dataset \"sof_cm_flux_corrected_i\": shape (399263026,), type \">f8\">)\n",
      "(u'catalog/gold/sof_cm_flux_corrected_r', <HDF5 dataset \"sof_cm_flux_corrected_r\": shape (399263026,), type \">f8\">)\n",
      "(u'catalog/gold/sof_cm_flux_corrected_z', <HDF5 dataset \"sof_cm_flux_corrected_z\": shape (399263026,), type \">f8\">)\n",
      "(u'catalog/gold/sof_cm_flux_err_g', <HDF5 dataset \"sof_cm_flux_err_g\": shape (399263026,), type \">f8\">)\n",
      "(u'catalog/gold/sof_cm_flux_err_i', <HDF5 dataset \"sof_cm_flux_err_i\": shape (399263026,), type \">f8\">)\n",
      "(u'catalog/gold/sof_cm_flux_err_r', <HDF5 dataset \"sof_cm_flux_err_r\": shape (399263026,), type \">f8\">)\n",
      "(u'catalog/gold/sof_cm_flux_err_z', <HDF5 dataset \"sof_cm_flux_err_z\": shape (399263026,), type \">f8\">)\n",
      "(u'catalog/gold/sof_cm_fracdev', <HDF5 dataset \"sof_cm_fracdev\": shape (399263026,), type \"<f4\">)\n",
      "(u'catalog/gold/sof_cm_mag_corrected_g', <HDF5 dataset \"sof_cm_mag_corrected_g\": shape (399263026,), type \">f8\">)\n",
      "(u'catalog/gold/sof_cm_mag_corrected_i', <HDF5 dataset \"sof_cm_mag_corrected_i\": shape (399263026,), type \">f8\">)\n",
      "(u'catalog/gold/sof_cm_mag_corrected_r', <HDF5 dataset \"sof_cm_mag_corrected_r\": shape (399263026,), type \">f8\">)\n",
      "(u'catalog/gold/sof_cm_mag_corrected_z', <HDF5 dataset \"sof_cm_mag_corrected_z\": shape (399263026,), type \">f8\">)\n",
      "(u'catalog/gold/sof_cm_mag_err_g', <HDF5 dataset \"sof_cm_mag_err_g\": shape (399263026,), type \">f8\">)\n",
      "(u'catalog/gold/sof_cm_mag_err_i', <HDF5 dataset \"sof_cm_mag_err_i\": shape (399263026,), type \">f8\">)\n",
      "(u'catalog/gold/sof_cm_mag_err_r', <HDF5 dataset \"sof_cm_mag_err_r\": shape (399263026,), type \">f8\">)\n",
      "(u'catalog/gold/sof_cm_mag_err_z', <HDF5 dataset \"sof_cm_mag_err_z\": shape (399263026,), type \">f8\">)\n",
      "(u'catalog/gold/sof_cm_t', <HDF5 dataset \"sof_cm_t\": shape (399263026,), type \"<f8\">)\n",
      "(u'catalog/gold/sof_flags', <HDF5 dataset \"sof_flags\": shape (399263026,), type \">i8\">)\n",
      "(u'catalog/gold/tilename', <HDF5 dataset \"tilename\": shape (399263026,), type \"|S12\">)\n",
      "(u'masks/gold/hpix', <HDF5 dataset \"hpix\": shape (21687208,), type \"<i8\">)\n"
     ]
    }
   ],
   "source": [
    "master.visititems(show_h5_dataset)"
   ]
  },
  {
   "cell_type": "code",
   "execution_count": 6,
   "metadata": {},
   "outputs": [
    {
     "name": "stdout",
     "output_type": "stream",
     "text": [
      "(u'catalog/DNF_ZMC_SOF', <HDF5 dataset \"DNF_ZMC_SOF\": shape (287601061,), type \">f8\">)\n",
      "(u'catalog/DNF_ZMEAN_MOF', <HDF5 dataset \"DNF_ZMEAN_MOF\": shape (287601061,), type \">f8\">)\n",
      "(u'catalog/DNF_ZMEAN_SOF', <HDF5 dataset \"DNF_ZMEAN_SOF\": shape (287601061,), type \">f4\">)\n",
      "(u'catalog/DNF_ZMEAN_SOF_OLD', <HDF5 dataset \"DNF_ZMEAN_SOF_OLD\": shape (287601061,), type \">f4\">)\n",
      "(u'catalog/DNF_ZSIGMA_SOF', <HDF5 dataset \"DNF_ZSIGMA_SOF\": shape (287601061,), type \"<f4\">)\n",
      "(u'catalog/Z', <HDF5 dataset \"Z\": shape (287601061,), type \">f8\">)\n",
      "(u'catalog/coadd_object_id', <HDF5 dataset \"coadd_object_id\": shape (287601061,), type \">i8\">)\n",
      "(u'catalog/dec', <HDF5 dataset \"dec\": shape (287601061,), type \">f8\">)\n",
      "(u'catalog/indices', <HDF5 dataset \"indices\": shape (287601061,), type \"<i8\">)\n",
      "(u'catalog/ra', <HDF5 dataset \"ra\": shape (287601061,), type \">f8\">)\n"
     ]
    }
   ],
   "source": [
    "aux.visititems(show_h5_dataset)"
   ]
  },
  {
   "cell_type": "code",
   "execution_count": 7,
   "metadata": {},
   "outputs": [],
   "source": [
    "mag_i      = master['catalog/gold/sof_cm_mag_corrected_i'][:][:]\n",
    "maglim_idx = np.where((mag_i<=23.5)&(mag_i>=0.))[0]\n",
    "hpx16384   = master['catalog/gold/hpix_16384'][:][maglim_idx]#.astype(np.int64)\n",
    "\n",
    "# cid   = aux['catalog/unsheared/coadd_object_id'][:]\n",
    "# zmean = aux['catalog/unsheared/zmean_sof'][:]\n",
    "\n",
    "master.close()\n",
    "aux.close()"
   ]
  },
  {
   "cell_type": "code",
   "execution_count": 8,
   "metadata": {},
   "outputs": [
    {
     "data": {
      "text/plain": [
       "array([21.61505009, 20.68373325, 23.26469544, ..., 22.94733356,\n",
       "       23.47951952, 20.45906218])"
      ]
     },
     "execution_count": 8,
     "metadata": {},
     "output_type": "execute_result"
    }
   ],
   "source": [
    "mag_i[maglim_idx]"
   ]
  },
  {
   "cell_type": "code",
   "execution_count": 9,
   "metadata": {},
   "outputs": [],
   "source": [
    "columns = ['hpix_16384','coadd_object_id','ra','dec','extended_class_mash_sof','flags_gold']\n",
    "columns+= ['sof_cm_mag_corrected_%s'%(ix) for ix in ['g','r','i','z']]\n",
    "columns+= ['sof_cm_mag_err_%s'%(ix) for ix in ['g','r','i','z']]"
   ]
  },
  {
   "cell_type": "code",
   "execution_count": 10,
   "metadata": {},
   "outputs": [
    {
     "data": {
      "text/plain": [
       "['hpix_16384',\n",
       " 'coadd_object_id',\n",
       " 'ra',\n",
       " 'dec',\n",
       " 'extended_class_mash_sof',\n",
       " 'flags_gold',\n",
       " 'sof_cm_mag_corrected_g',\n",
       " 'sof_cm_mag_corrected_r',\n",
       " 'sof_cm_mag_corrected_i',\n",
       " 'sof_cm_mag_corrected_z',\n",
       " 'sof_cm_mag_err_g',\n",
       " 'sof_cm_mag_err_r',\n",
       " 'sof_cm_mag_err_i',\n",
       " 'sof_cm_mag_err_z']"
      ]
     },
     "execution_count": 10,
     "metadata": {},
     "output_type": "execute_result"
    }
   ],
   "source": [
    "columns"
   ]
  },
  {
   "cell_type": "code",
   "execution_count": null,
   "metadata": {},
   "outputs": [],
   "source": []
  },
  {
   "cell_type": "markdown",
   "metadata": {},
   "source": [
    "### Loading Data"
   ]
  },
  {
   "cell_type": "code",
   "execution_count": 11,
   "metadata": {},
   "outputs": [],
   "source": [
    "## Healpix map\n",
    "Nside    = 8\n",
    "outdir   = '../data/'\n",
    "hpx_file = outdir+'/hpxmap_nside%i_full.fits'%Nside"
   ]
  },
  {
   "cell_type": "code",
   "execution_count": 12,
   "metadata": {},
   "outputs": [],
   "source": [
    "hpx_map = Table(getdata(hpx_file))\n",
    "tiles = np.array(hpx_map['hpx_pixel'][(hpx_map['hpx_value']>0)])-1"
   ]
  },
  {
   "cell_type": "code",
   "execution_count": 13,
   "metadata": {},
   "outputs": [],
   "source": [
    "## get cluster data\n",
    "path = '/data/des61.a/data/johnny/DESY3/desy3/data/spt/'\n",
    "fname_out = path+'join_2500d_sptecs.fits'\n",
    "\n",
    "cat  = Table(getdata(fname_out))"
   ]
  },
  {
   "cell_type": "code",
   "execution_count": 14,
   "metadata": {},
   "outputs": [],
   "source": [
    "ra,dec= cat['RA'], cat['DEC']\n",
    "zcls  = cat['REDSHIFT']\n",
    "\n",
    "lmask = (cat['XI']>=3.5) \n",
    "cut = np.where(lmask)\n",
    "cat = cat[cut]\n",
    "\n",
    "tiles = np.array(np.unique(cat['tile']))"
   ]
  },
  {
   "cell_type": "code",
   "execution_count": null,
   "metadata": {},
   "outputs": [],
   "source": []
  },
  {
   "cell_type": "markdown",
   "metadata": {},
   "source": [
    "### Healpix Matching"
   ]
  },
  {
   "cell_type": "code",
   "execution_count": 15,
   "metadata": {},
   "outputs": [],
   "source": [
    "import sys\n",
    "sys.path.append('../scripts/')\n",
    "from helper import AngularDistance,get_healpix_list,radec_pix"
   ]
  },
  {
   "cell_type": "code",
   "execution_count": 16,
   "metadata": {},
   "outputs": [],
   "source": [
    "rad2deg  = 180/np.pi\n",
    "rmax     = 8 #Mpc around each cluster\n",
    "DA       = np.ones_like(np.array(cat['REDSHIFT']))\n",
    "DA  = AngularDistance(np.array(cat['REDSHIFT']))\n",
    "\n",
    "## compute the radii max\n",
    "cat['rmax']  = 60*(float(rmax)/DA)*rad2deg ## arcmin"
   ]
  },
  {
   "cell_type": "code",
   "execution_count": 17,
   "metadata": {},
   "outputs": [
    {
     "data": {
      "text/html": [
       "&lt;Table length=963&gt;\n",
       "<table id=\"table140223656912592\" class=\"table-striped table-bordered table-condensed\">\n",
       "<thead><tr><th>SPT_ID</th><th>RA</th><th>DEC</th><th>FIELD</th><th>XI</th><th>THETA_CORE</th><th>YSZ</th><th>DYSZ</th><th>REDSHIFT</th><th>REDSHIFT_UNC</th><th>REDSHIFT_LIMIT</th><th>XRAY</th><th>SPECZ</th><th>WEAK_LENSING</th><th>M500</th><th>M500_uerr</th><th>M500_lerr</th><th>M200</th><th>M200_uerr</th><th>M200_lerr</th><th>M500_marge</th><th>M500_marge_uerr</th><th>M500_marge_lerr</th><th>M200_marge</th><th>M200_marge_uerr</th><th>M200_marge_lerr</th><th>REDSHIFT_SOURCE</th><th>RM_PROB</th><th>CL_NOTES</th><th>M500_UERR</th><th>M500_LERR</th><th>LAMBDA_CHISQ</th><th>LAMBDA_CHISQ_E</th><th>RADIO_CONTAM</th><th>STRONG_LENS</th><th>IMAGE_SOURCE</th><th>SPECZ_REF</th><th>STRONG_LENS_REF</th><th>PHOTOMETRIC_ZREF</th><th>tile</th><th>rmax</th></tr></thead>\n",
       "<thead><tr><th>str16</th><th>float64</th><th>float64</th><th>str14</th><th>float32</th><th>float32</th><th>float32</th><th>float32</th><th>float32</th><th>float32</th><th>float32</th><th>int64</th><th>int64</th><th>int64</th><th>float64</th><th>float64</th><th>float64</th><th>float64</th><th>float64</th><th>float64</th><th>float64</th><th>float64</th><th>float64</th><th>float64</th><th>float64</th><th>float64</th><th>float32</th><th>float32</th><th>str50</th><th>float32</th><th>float32</th><th>float32</th><th>float32</th><th>float32</th><th>float32</th><th>float32</th><th>str38</th><th>str19</th><th>str29</th><th>int64</th><th>float64</th></tr></thead>\n",
       "<tr><td>SPT-CLJ0000-4356</td><td>0.066333582</td><td>-43.949439</td><td>ra1hdec-42.5</td><td>5.9151344</td><td>0.25</td><td>7.650118e-05</td><td>2.135001e-05</td><td>0.734</td><td>0.04554</td><td>0.0</td><td>0</td><td>0</td><td>0</td><td>4.00756767538851</td><td>0.6696077812096588</td><td>0.7358692529405331</td><td>6.292206379578352</td><td>1.0696490838992085</td><td>1.18459226059643</td><td>3.5500422302100803</td><td>0.6519442834143079</td><td>0.831643842408234</td><td>5.559913375169347</td><td>1.0375980588899347</td><td>1.3356196167956451</td><td>nan</td><td>nan</td><td>N/A</td><td>nan</td><td>nan</td><td>nan</td><td>nan</td><td>nan</td><td>nan</td><td>nan</td><td>N/A</td><td>N/A</td><td>N/A</td><td>34</td><td>18.16810574533347</td></tr>\n",
       "<tr><td>SPT-CLJ0000-5748</td><td>0.24991181</td><td>-57.806424</td><td>ra23h30dec-55</td><td>8.492383</td><td>0.50000006</td><td>8.2779006e-05</td><td>1.2720419e-05</td><td>0.7019</td><td>0.0</td><td>0.0</td><td>1</td><td>1</td><td>1</td><td>4.880870635158218</td><td>0.5879111394744845</td><td>0.7094774760787965</td><td>7.677948502001076</td><td>0.94157802239312</td><td>1.1433088769049728</td><td>4.329364965813076</td><td>0.6491734843411727</td><td>0.8554956365889081</td><td>6.793488680833069</td><td>1.035012721459414</td><td>1.3745721381478697</td><td>nan</td><td>nan</td><td>N/A</td><td>nan</td><td>nan</td><td>nan</td><td>nan</td><td>nan</td><td>nan</td><td>nan</td><td>N/A</td><td>N/A</td><td>N/A</td><td>34</td><td>18.492021175930095</td></tr>\n",
       "<tr><td>SPT-CLJ0001-4024</td><td>0.36103009</td><td>-40.410795</td><td>ra1hdec-42.5</td><td>5.423737</td><td>0.75</td><td>5.9888156e-05</td><td>1.2804807e-05</td><td>0.8326</td><td>0.03207</td><td>0.0</td><td>0</td><td>0</td><td>0</td><td>3.617254543611976</td><td>0.640498013281908</td><td>0.7265002402869105</td><td>5.706003308000402</td><td>1.026863571708815</td><td>1.174778928865317</td><td>3.1947610159173947</td><td>0.6519590483640303</td><td>0.827227564640272</td><td>5.026785937007721</td><td>1.0399289918474048</td><td>1.3335682649066172</td><td>nan</td><td>nan</td><td>N/A</td><td>nan</td><td>nan</td><td>nan</td><td>nan</td><td>nan</td><td>nan</td><td>nan</td><td>N/A</td><td>N/A</td><td>N/A</td><td>16</td><td>17.36733013505866</td></tr>\n",
       "<tr><td>SPT-CLJ0001-4842</td><td>0.2767992</td><td>-48.713151</td><td>ra0h50dec-50</td><td>5.6873126</td><td>1.25</td><td>7.755943e-05</td><td>1.2656733e-05</td><td>0.328</td><td>0.02384</td><td>0.0</td><td>0</td><td>0</td><td>0</td><td>4.477776197741063</td><td>0.748972013145055</td><td>0.8318217613033903</td><td>6.825527578859748</td><td>1.1599982462428207</td><td>1.2972030444152525</td><td>3.8948523505717096</td><td>0.7542539774679335</td><td>0.8993084614849027</td><td>5.920979195138054</td><td>1.1630435404255302</td><td>1.3987907829088861</td><td>nan</td><td>nan</td><td>N/A</td><td>nan</td><td>nan</td><td>nan</td><td>nan</td><td>nan</td><td>nan</td><td>nan</td><td>N/A</td><td>N/A</td><td>N/A</td><td>34</td><td>28.057253640849638</td></tr>\n",
       "<tr><td>SPT-CLJ0001-5440</td><td>0.40586575</td><td>-54.669695</td><td>ra0h50dec-50</td><td>5.6890063</td><td>1.0000001</td><td>6.0299073e-05</td><td>1.2568876e-05</td><td>0.82</td><td>0.0819</td><td>0.0</td><td>0</td><td>0</td><td>0</td><td>3.88461245085613</td><td>0.6660283941969452</td><td>0.7519104574159527</td><td>6.13209461071124</td><td>1.0695253163242793</td><td>1.2178129685661023</td><td>3.4658438385927215</td><td>0.6387041822515891</td><td>0.8759238608343369</td><td>5.458166200227332</td><td>1.0198710083354374</td><td>1.4151160677386923</td><td>nan</td><td>nan</td><td>N/A</td><td>nan</td><td>nan</td><td>nan</td><td>nan</td><td>nan</td><td>nan</td><td>nan</td><td>N/A</td><td>N/A</td><td>N/A</td><td>34</td><td>17.4556809708406</td></tr>\n",
       "<tr><td>SPT-CLJ0001-6258</td><td>0.40289771</td><td>-62.980848</td><td>ra1hdec-60</td><td>4.6851354</td><td>1.5</td><td>5.1889023e-05</td><td>1.6237755e-05</td><td>0.21</td><td>0.02</td><td>0.0</td><td>0</td><td>0</td><td>0</td><td>3.892265439208595</td><td>0.6460582958978964</td><td>0.8675417170686877</td><td>5.854547768643311</td><td>0.9851962953027167</td><td>1.3335049681172384</td><td>3.3172411718546058</td><td>0.6583798479841492</td><td>0.876752749965021</td><td>4.974820969690957</td><td>0.9993607335027397</td><td>1.3427732914276174</td><td>nan</td><td>nan</td><td>N/A</td><td>nan</td><td>nan</td><td>nan</td><td>nan</td><td>nan</td><td>nan</td><td>nan</td><td>N/A</td><td>N/A</td><td>N/A</td><td>34</td><td>38.799147184728625</td></tr>\n",
       "<tr><td>SPT-CLJ0002-5557</td><td>0.51381378</td><td>-55.962062</td><td>ra1hdec-60</td><td>5.202786</td><td>0.25</td><td>5.4647022e-05</td><td>1.835388e-05</td><td>1.15</td><td>0.09675</td><td>0.0</td><td>0</td><td>0</td><td>0</td><td>3.1952132375529194</td><td>0.5605691443213949</td><td>0.6830300141923238</td><td>5.130159605033364</td><td>0.9152114645499063</td><td>1.1257056527012432</td><td>2.842941136935086</td><td>0.5838967711350862</td><td>0.8063917482145886</td><td>4.553694568272035</td><td>0.9488296847025035</td><td>1.3244864007604344</td><td>nan</td><td>nan</td><td>N/A</td><td>nan</td><td>nan</td><td>nan</td><td>nan</td><td>nan</td><td>nan</td><td>nan</td><td>N/A</td><td>N/A</td><td>N/A</td><td>34</td><td>16.00435968615959</td></tr>\n",
       "<tr><td>SPT-CLJ0007-4706</td><td>1.7513695</td><td>-47.11595</td><td>ra0h50dec-50</td><td>4.5494375</td><td>0.75</td><td>5.811859e-05</td><td>1.3450479e-05</td><td>0.4565</td><td>0.03688</td><td>0.0</td><td>0</td><td>0</td><td>0</td><td>3.645543999505982</td><td>0.5841570335113877</td><td>0.8269207591877978</td><td>5.593390300470237</td><td>0.9088866543699821</td><td>1.2979407095602165</td><td>3.1399355899846135</td><td>0.6178289900244929</td><td>0.8478339874779879</td><td>4.803660773286327</td><td>0.9580518337715596</td><td>1.3270946207759748</td><td>nan</td><td>nan</td><td>N/A</td><td>nan</td><td>nan</td><td>nan</td><td>nan</td><td>nan</td><td>nan</td><td>nan</td><td>N/A</td><td>N/A</td><td>N/A</td><td>34</td><td>22.837073890802426</td></tr>\n",
       "<tr><td>SPT-CLJ0010-5112</td><td>2.7408001</td><td>-51.207736</td><td>ra0h50dec-50</td><td>4.5146136</td><td>0.25</td><td>5.4955057e-05</td><td>1.2877083e-05</td><td>0.17</td><td>0.02141</td><td>0.0</td><td>0</td><td>0</td><td>0</td><td>3.915292780838394</td><td>0.6406466364844636</td><td>0.8801421457499692</td><td>5.868011982900622</td><td>0.9736355839717765</td><td>1.3481804520385303</td><td>3.3314663675274323</td><td>0.6764811218263347</td><td>0.8700593035394686</td><td>4.978181490618083</td><td>1.023382854417057</td><td>1.3289234510386865</td><td>nan</td><td>nan</td><td>N/A</td><td>nan</td><td>nan</td><td>nan</td><td>nan</td><td>nan</td><td>nan</td><td>nan</td><td>N/A</td><td>N/A</td><td>N/A</td><td>34</td><td>45.90845936826775</td></tr>\n",
       "<tr><td>SPT-CLJ0011-4614</td><td>2.9779383</td><td>-46.235119</td><td>ra0h50dec-50</td><td>5.1248393</td><td>0.75</td><td>6.3440784e-05</td><td>1.7309498e-05</td><td>0.5447</td><td>0.0392</td><td>0.0</td><td>0</td><td>0</td><td>0</td><td>3.875183856126148</td><td>0.6745035606638079</td><td>0.8168443756151804</td><td>5.995035905657933</td><td>1.0595534239366868</td><td>1.2945319485471023</td><td>3.377272818555986</td><td>0.6949457567373054</td><td>0.8480005790428464</td><td>5.210473010176938</td><td>1.0890533931923043</td><td>1.3396763200535373</td><td>nan</td><td>nan</td><td>N/A</td><td>nan</td><td>nan</td><td>nan</td><td>nan</td><td>nan</td><td>nan</td><td>nan</td><td>N/A</td><td>N/A</td><td>N/A</td><td>34</td><td>20.763029213986304</td></tr>\n",
       "<tr><td>...</td><td>...</td><td>...</td><td>...</td><td>...</td><td>...</td><td>...</td><td>...</td><td>...</td><td>...</td><td>...</td><td>...</td><td>...</td><td>...</td><td>...</td><td>...</td><td>...</td><td>...</td><td>...</td><td>...</td><td>...</td><td>...</td><td>...</td><td>...</td><td>...</td><td>...</td><td>...</td><td>...</td><td>...</td><td>...</td><td>...</td><td>...</td><td>...</td><td>...</td><td>...</td><td>...</td><td>...</td><td>...</td><td>...</td><td>...</td><td>...</td></tr>\n",
       "<tr><td>SPT-CLJ2238-2452</td><td>339.62654</td><td>-24.872478</td><td>ra23hdec-25</td><td>4.6080713</td><td>1.25</td><td>nan</td><td>nan</td><td>0.43772718</td><td>0.037537746</td><td>nan</td><td>999999</td><td>0</td><td>999999</td><td>4.136000156402588</td><td>nan</td><td>nan</td><td>nan</td><td>nan</td><td>nan</td><td>nan</td><td>nan</td><td>nan</td><td>nan</td><td>nan</td><td>nan</td><td>1.0</td><td>0.0</td><td>-</td><td>0.703</td><td>0.913</td><td>0.0</td><td>0.0</td><td>0.0</td><td>0.0</td><td>1.0</td><td></td><td></td><td></td><td>45</td><td>23.397398254729435</td></tr>\n",
       "<tr><td>SPT-CLJ2238-2458</td><td>339.68902</td><td>-24.970741</td><td>ra23hdec-25</td><td>4.7563457</td><td>0.75</td><td>nan</td><td>nan</td><td>0.217851</td><td>0.0</td><td>nan</td><td>999999</td><td>1</td><td>999999</td><td>4.488999843597412</td><td>nan</td><td>nan</td><td>nan</td><td>nan</td><td>nan</td><td>nan</td><td>nan</td><td>nan</td><td>nan</td><td>nan</td><td>nan</td><td>9.0</td><td>0.0</td><td>-</td><td>0.79</td><td>0.963</td><td>0.0</td><td>0.0</td><td>0.0</td><td>0.0</td><td>8.0</td><td>2002MNRAS.329...87D</td><td></td><td></td><td>45</td><td>37.7140901783086</td></tr>\n",
       "<tr><td>SPT-CLJ2251-2037</td><td>342.78784</td><td>-20.626061</td><td>ra23hdec-25</td><td>4.661357</td><td>0.25</td><td>nan</td><td>nan</td><td>0.8</td><td>0.2</td><td>nan</td><td>999999</td><td>0</td><td>999999</td><td>3.742000102996826</td><td>nan</td><td>nan</td><td>nan</td><td>nan</td><td>nan</td><td>nan</td><td>nan</td><td>nan</td><td>nan</td><td>nan</td><td>nan</td><td>1.0</td><td>0.0</td><td>weak detection panstarrs</td><td>0.637</td><td>0.819</td><td>0.0</td><td>0.0</td><td>0.0</td><td>0.0</td><td>1.0</td><td></td><td></td><td></td><td>16</td><td>17.603638727369866</td></tr>\n",
       "<tr><td>SPT-CLJ2259-2615</td><td>344.95794</td><td>-26.259589</td><td>ra23hdec-25</td><td>4.3183346</td><td>1.25</td><td>nan</td><td>nan</td><td>0.6798459</td><td>0.043046217</td><td>nan</td><td>999999</td><td>0</td><td>999999</td><td>3.6619999408721924</td><td>nan</td><td>nan</td><td>nan</td><td>nan</td><td>nan</td><td>nan</td><td>nan</td><td>nan</td><td>nan</td><td>nan</td><td>nan</td><td>2.0</td><td>0.0</td><td>-</td><td>0.588</td><td>0.836</td><td>0.0</td><td>0.0</td><td>0.0</td><td>0.0</td><td>2.0</td><td></td><td></td><td></td><td>16</td><td>18.736595430421815</td></tr>\n",
       "<tr><td>SPT-CLJ2305-2451</td><td>346.43507</td><td>-24.860855</td><td>ra23hdec-25</td><td>4.5639553</td><td>0.5</td><td>nan</td><td>nan</td><td>0.48042566</td><td>0.052768055</td><td>nan</td><td>999999</td><td>0</td><td>999999</td><td>4.059000015258789</td><td>nan</td><td>nan</td><td>nan</td><td>nan</td><td>nan</td><td>nan</td><td>nan</td><td>nan</td><td>nan</td><td>nan</td><td>nan</td><td>1.0</td><td>0.0</td><td>-</td><td>0.693</td><td>0.896</td><td>0.0</td><td>0.0</td><td>0.0</td><td>0.0</td><td>1.0</td><td></td><td></td><td></td><td>16</td><td>22.191497123202367</td></tr>\n",
       "<tr><td>SPT-CLJ2312-2130</td><td>348.07781</td><td>-21.51488</td><td>ra23hdec-25</td><td>4.8815565</td><td>1.0</td><td>nan</td><td>nan</td><td>0.108735</td><td>0.0</td><td>nan</td><td>999999</td><td>1</td><td>999999</td><td>4.699999809265137</td><td>nan</td><td>nan</td><td>nan</td><td>nan</td><td>nan</td><td>nan</td><td>nan</td><td>nan</td><td>nan</td><td>nan</td><td>nan</td><td>9.0</td><td>0.0</td><td>-</td><td>0.847</td><td>0.988</td><td>0.0</td><td>0.0</td><td>0.0</td><td>0.0</td><td>8.0</td><td>20096dF...C...0000J</td><td></td><td></td><td>16</td><td>67.06263048014549</td></tr>\n",
       "<tr><td>SPT-CLJ2326-2255</td><td>351.68311</td><td>-22.92125</td><td>ra23hdec-25</td><td>4.7088275</td><td>0.5</td><td>nan</td><td>nan</td><td>0.8271164</td><td>0.06214097</td><td>nan</td><td>999999</td><td>0</td><td>999999</td><td>3.7269999980926514</td><td>nan</td><td>nan</td><td>nan</td><td>nan</td><td>nan</td><td>nan</td><td>nan</td><td>nan</td><td>nan</td><td>nan</td><td>nan</td><td>1.0</td><td>0.0</td><td>-</td><td>0.649</td><td>0.822</td><td>0.0</td><td>0.0</td><td>0.0</td><td>0.0</td><td>1.0</td><td></td><td></td><td></td><td>16</td><td>17.405334314553127</td></tr>\n",
       "<tr><td>SPT-CLJ2331-2033</td><td>352.857</td><td>-20.559476</td><td>ra23hdec-25</td><td>4.443723</td><td>0.25</td><td>nan</td><td>nan</td><td>0.149</td><td>0.0</td><td>nan</td><td>999999</td><td>1</td><td>999999</td><td>4.377999782562256</td><td>nan</td><td>nan</td><td>nan</td><td>nan</td><td>nan</td><td>nan</td><td>nan</td><td>nan</td><td>nan</td><td>nan</td><td>nan</td><td>9.0</td><td>0.0</td><td>-</td><td>0.74</td><td>0.954</td><td>0.0</td><td>0.0</td><td>0.0</td><td>0.0</td><td>8.0</td><td>2002AJ....123.1200C</td><td></td><td></td><td>16</td><td>51.18777071574031</td></tr>\n",
       "<tr><td>SPT-CLJ2352-2525</td><td>358.09191</td><td>-25.417898</td><td>ra23hdec-25</td><td>4.534288</td><td>1.5</td><td>nan</td><td>nan</td><td>0.42366922</td><td>0.05045169</td><td>nan</td><td>999999</td><td>0</td><td>999999</td><td>4.1020002365112305</td><td>nan</td><td>nan</td><td>nan</td><td>nan</td><td>nan</td><td>nan</td><td>nan</td><td>nan</td><td>nan</td><td>nan</td><td>nan</td><td>1.0</td><td>0.0</td><td>-</td><td>0.715</td><td>0.901</td><td>0.0</td><td>0.0</td><td>0.0</td><td>0.0</td><td>1.0</td><td></td><td></td><td></td><td>16</td><td>23.85210422455765</td></tr>\n",
       "<tr><td>SPT-CLJ2353-2547</td><td>358.26347</td><td>-25.784731</td><td>ra23hdec-25</td><td>4.5976553</td><td>1.0</td><td>nan</td><td>nan</td><td>0.47950423</td><td>0.03783274</td><td>nan</td><td>999999</td><td>0</td><td>999999</td><td>4.083000183105469</td><td>nan</td><td>nan</td><td>nan</td><td>nan</td><td>nan</td><td>nan</td><td>nan</td><td>nan</td><td>nan</td><td>nan</td><td>nan</td><td>2.0</td><td>0.0</td><td>-</td><td>0.727</td><td>0.9</td><td>0.0</td><td>0.0</td><td>0.0</td><td>0.0</td><td>2.0</td><td></td><td></td><td></td><td>16</td><td>22.215061040953245</td></tr>\n",
       "</table>"
      ],
      "text/plain": [
       "<Table length=963>\n",
       "     SPT_ID           RA        DEC     ...  tile        rmax       \n",
       "     str16         float64    float64   ... int64      float64      \n",
       "---------------- ----------- ---------- ... ----- ------------------\n",
       "SPT-CLJ0000-4356 0.066333582 -43.949439 ...    34  18.16810574533347\n",
       "SPT-CLJ0000-5748  0.24991181 -57.806424 ...    34 18.492021175930095\n",
       "SPT-CLJ0001-4024  0.36103009 -40.410795 ...    16  17.36733013505866\n",
       "SPT-CLJ0001-4842   0.2767992 -48.713151 ...    34 28.057253640849638\n",
       "SPT-CLJ0001-5440  0.40586575 -54.669695 ...    34   17.4556809708406\n",
       "SPT-CLJ0001-6258  0.40289771 -62.980848 ...    34 38.799147184728625\n",
       "SPT-CLJ0002-5557  0.51381378 -55.962062 ...    34  16.00435968615959\n",
       "SPT-CLJ0007-4706   1.7513695  -47.11595 ...    34 22.837073890802426\n",
       "SPT-CLJ0010-5112   2.7408001 -51.207736 ...    34  45.90845936826775\n",
       "SPT-CLJ0011-4614   2.9779383 -46.235119 ...    34 20.763029213986304\n",
       "             ...         ...        ... ...   ...                ...\n",
       "SPT-CLJ2238-2452   339.62654 -24.872478 ...    45 23.397398254729435\n",
       "SPT-CLJ2238-2458   339.68902 -24.970741 ...    45   37.7140901783086\n",
       "SPT-CLJ2251-2037   342.78784 -20.626061 ...    16 17.603638727369866\n",
       "SPT-CLJ2259-2615   344.95794 -26.259589 ...    16 18.736595430421815\n",
       "SPT-CLJ2305-2451   346.43507 -24.860855 ...    16 22.191497123202367\n",
       "SPT-CLJ2312-2130   348.07781  -21.51488 ...    16  67.06263048014549\n",
       "SPT-CLJ2326-2255   351.68311  -22.92125 ...    16 17.405334314553127\n",
       "SPT-CLJ2331-2033     352.857 -20.559476 ...    16  51.18777071574031\n",
       "SPT-CLJ2352-2525   358.09191 -25.417898 ...    16  23.85210422455765\n",
       "SPT-CLJ2353-2547   358.26347 -25.784731 ...    16 22.215061040953245"
      ]
     },
     "execution_count": 17,
     "metadata": {},
     "output_type": "execute_result"
    }
   ],
   "source": [
    "cat"
   ]
  },
  {
   "cell_type": "code",
   "execution_count": 18,
   "metadata": {},
   "outputs": [],
   "source": [
    "ra,dec= cat['RA'], cat['DEC']\n",
    "cluster_tile = np.array(cat['tile'])"
   ]
  },
  {
   "cell_type": "code",
   "execution_count": 19,
   "metadata": {},
   "outputs": [
    {
     "data": {
      "image/png": "[encoded data removed]",
      "text/plain": [
       "<Figure size 432x288 with 1 Axes>"
      ]
     },
     "metadata": {},
     "output_type": "display_data"
    }
   ],
   "source": [
    "_ = plt.hist(cluster_tile,bins=51)\n",
    "plt.yscale('log')"
   ]
  },
  {
   "cell_type": "code",
   "execution_count": 20,
   "metadata": {},
   "outputs": [],
   "source": [
    "#plt.hist(cat['redshift'])"
   ]
  },
  {
   "cell_type": "code",
   "execution_count": 21,
   "metadata": {},
   "outputs": [
    {
     "data": {
      "text/plain": [
       "array([16, 20, 24, 32, 33, 34, 35, 37, 38, 39, 42, 43, 44, 45, 46, 47])"
      ]
     },
     "execution_count": 21,
     "metadata": {},
     "output_type": "execute_result"
    }
   ],
   "source": [
    "np.unique(cluster_tile)"
   ]
  },
  {
   "cell_type": "code",
   "execution_count": 22,
   "metadata": {},
   "outputs": [
    {
     "data": {
      "text/plain": [
       "array([16, 20, 24, 32, 33, 34, 35, 37, 38, 39, 42, 43, 44, 45, 46, 47])"
      ]
     },
     "execution_count": 22,
     "metadata": {},
     "output_type": "execute_result"
    }
   ],
   "source": [
    "tiles"
   ]
  },
  {
   "cell_type": "code",
   "execution_count": null,
   "metadata": {},
   "outputs": [],
   "source": []
  },
  {
   "cell_type": "markdown",
   "metadata": {},
   "source": [
    "### Retrieving Galaxy Catalogs"
   ]
  },
  {
   "cell_type": "code",
   "execution_count": 23,
   "metadata": {},
   "outputs": [],
   "source": [
    "def save_hdf5_output(gal,cat,outfile):\n",
    "    df  = gal.to_pandas()\n",
    "    df.to_hdf(outfile, key='members', mode='w')\n",
    "\n",
    "    gal = 0\n",
    "\n",
    "    dfc = cat.to_pandas()\n",
    "    dfc.to_hdf(outfile, key='cluster', mode='a')"
   ]
  },
  {
   "cell_type": "code",
   "execution_count": 24,
   "metadata": {},
   "outputs": [],
   "source": [
    "def load_hdf_files(infile,indices,columns,path='catalog/gold/'):\n",
    "    master = h5py.File(infile,'r')\n",
    "    gold   = master[path]\n",
    "    \n",
    "    mydict = dict().fromkeys(columns)\n",
    "    \n",
    "    mydict['id'] = indices\n",
    "    for col in columns:\n",
    "        mydict[col] = gold[col][:][indices]\n",
    "    \n",
    "    master.close()\n",
    "    return Table(mydict)"
   ]
  },
  {
   "cell_type": "code",
   "execution_count": 25,
   "metadata": {},
   "outputs": [],
   "source": [
    "from time import time"
   ]
  },
  {
   "cell_type": "code",
   "execution_count": null,
   "metadata": {},
   "outputs": [],
   "source": [
    "indexes= h5py.File(fname_aux,'r')\n",
    "dnf    = indexes['catalog/unsheared']\n",
    "\n",
    "d_cid  = dnf['coadd_object_id'][:][maglim_idx]\n",
    "d_mc    = dnf['zmc_sof'][:][maglim_idx]\n",
    "d_zmean= dnf['zmean_sof'][:][maglim_idx]\n",
    "d_sigma = 0.03*(1+d_zmean)\n",
    "\n",
    "indexes.close()"
   ]
  },
  {
   "cell_type": "code",
   "execution_count": null,
   "metadata": {},
   "outputs": [],
   "source": []
  },
  {
   "cell_type": "code",
   "execution_count": 36,
   "metadata": {},
   "outputs": [],
   "source": [
    "## BE CAREFULL! The cells below take about an hour to run"
   ]
  },
  {
   "cell_type": "code",
   "execution_count": 26,
   "metadata": {},
   "outputs": [],
   "source": [
    "outdir = '/data/des61.a/data/johnny/DESY3/desy3/data/spt/cutouts/'\n",
    "outfile_base = outdir+'y3_gold_2.2.1_wide_sofcol_run_join_2500d_sptecs_hpx2_{:05d}.hdf5'"
   ]
  },
  {
   "cell_type": "code",
   "execution_count": 39,
   "metadata": {},
   "outputs": [
    {
     "name": "stdout",
     "output_type": "stream",
     "text": [
      "start tile: 16\n",
      "Error: empty tile\n",
      "partial time: 0.00 min\n",
      "run time    : 0.00 min\n",
      "\n",
      "\n",
      "start tile: 20\n",
      "Error: empty tile\n",
      "partial time: 0.00 min\n",
      "run time    : 0.00 min\n",
      "\n",
      "\n",
      "start tile: 24\n",
      "Empty field\n",
      "partial time: 0.30 min\n",
      "run time    : 0.30 min\n",
      "\n",
      "\n",
      "start tile: 32\n",
      "matching: done\n",
      "loading main data: done\n",
      "outfile saved: /data/des61.a/data/johnny/DESY3/desy3/data/spt/cutouts/y3_gold_2.2.1_wide_sofcol_run_join_2500d_sptecs_hpx2_00032.hdf5\n",
      "partial time: 0.82 min\n",
      "run time    : 1.12 min\n",
      "\n",
      "\n",
      "start tile: 33\n",
      "matching: done\n",
      "loading main data: done\n",
      "outfile saved: /data/des61.a/data/johnny/DESY3/desy3/data/spt/cutouts/y3_gold_2.2.1_wide_sofcol_run_join_2500d_sptecs_hpx2_00033.hdf5\n",
      "partial time: 0.92 min\n",
      "run time    : 2.04 min\n",
      "\n",
      "\n",
      "start tile: 34\n",
      "matching: done\n",
      "loading main data: done\n",
      "outfile saved: /data/des61.a/data/johnny/DESY3/desy3/data/spt/cutouts/y3_gold_2.2.1_wide_sofcol_run_join_2500d_sptecs_hpx2_00034.hdf5\n",
      "partial time: 0.85 min\n",
      "run time    : 2.89 min\n",
      "\n",
      "\n",
      "start tile: 35\n",
      "matching: done\n",
      "loading main data: done\n",
      "outfile saved: /data/des61.a/data/johnny/DESY3/desy3/data/spt/cutouts/y3_gold_2.2.1_wide_sofcol_run_join_2500d_sptecs_hpx2_00035.hdf5\n",
      "partial time: 0.70 min\n",
      "run time    : 3.60 min\n",
      "\n",
      "\n",
      "start tile: 37\n",
      "Empty field\n",
      "partial time: 0.22 min\n",
      "run time    : 3.82 min\n",
      "\n",
      "\n",
      "start tile: 38\n",
      "matching: done\n",
      "loading main data: done\n",
      "outfile saved: /data/des61.a/data/johnny/DESY3/desy3/data/spt/cutouts/y3_gold_2.2.1_wide_sofcol_run_join_2500d_sptecs_hpx2_00038.hdf5\n",
      "partial time: 0.63 min\n",
      "run time    : 4.45 min\n",
      "\n",
      "\n",
      "start tile: 39\n",
      "Error: empty tile\n",
      "partial time: 0.00 min\n",
      "run time    : 4.45 min\n",
      "\n",
      "\n",
      "start tile: 42\n",
      "Empty field\n",
      "partial time: 0.24 min\n",
      "run time    : 4.69 min\n",
      "\n",
      "\n",
      "start tile: 43\n",
      "Empty field\n",
      "partial time: 0.21 min\n",
      "run time    : 4.90 min\n",
      "\n",
      "\n",
      "start tile: 44\n",
      "matching: done\n",
      "loading main data: done\n",
      "outfile saved: /data/des61.a/data/johnny/DESY3/desy3/data/spt/cutouts/y3_gold_2.2.1_wide_sofcol_run_join_2500d_sptecs_hpx2_00044.hdf5\n",
      "partial time: 0.68 min\n",
      "run time    : 5.58 min\n",
      "\n",
      "\n",
      "start tile: 45\n",
      "matching: done\n",
      "loading main data: done\n",
      "outfile saved: /data/des61.a/data/johnny/DESY3/desy3/data/spt/cutouts/y3_gold_2.2.1_wide_sofcol_run_join_2500d_sptecs_hpx2_00045.hdf5\n",
      "partial time: 0.77 min\n",
      "run time    : 6.35 min\n",
      "\n",
      "\n",
      "start tile: 46\n",
      "matching: done\n",
      "loading main data: done\n",
      "outfile saved: /data/des61.a/data/johnny/DESY3/desy3/data/spt/cutouts/y3_gold_2.2.1_wide_sofcol_run_join_2500d_sptecs_hpx2_00046.hdf5\n",
      "partial time: 0.69 min\n",
      "run time    : 7.04 min\n",
      "\n",
      "\n",
      "start tile: 47\n",
      "Error: empty tile\n",
      "partial time: 0.00 min\n",
      "run time    : 7.04 min\n",
      "\n",
      "\n"
     ]
    }
   ],
   "source": [
    "t0 = time()\n",
    "\n",
    "time_evolution = np.empty((len(tiles)+1,),dtype=np.float64)\n",
    "time_evolution[0] = t0\n",
    "\n",
    "for i, tile in enumerate(tiles):\n",
    "    print('start tile: %i'%(tile))\n",
    "    outfile = outfile_base.format(tile)\n",
    "    w       = np.where(cluster_tile==tile)[0]\n",
    "\n",
    "    if (len(w)>1) & (not os.path.isfile(outfile)):\n",
    "        circles= get_healpix_list(cat[w],nside=16384)\n",
    "        match  = esutil.numpy_util.match(circles,hpx16384)\n",
    "        indices= maglim_idx[match[1]]\n",
    "        if indices.size>0:\n",
    "            print('matching: done')\n",
    "            data               =  load_hdf_files(fname,indices,columns,path='catalog/gold/')\n",
    "            #data['z']          = z[match[1]]\n",
    "            #data['z_mean_bpz'] = zmean[match[1]]\n",
    "\n",
    "            print('loading main data: done')\n",
    "            data['z_mc']       = d_mc[match[1]]\n",
    "            data['z_mean_dnf'] = d_zmean[match[1]]\n",
    "            data['z_sigma_dnf']= d_sigma[match[1]]\n",
    "\n",
    "            data['index']= indices\n",
    "            data['tile'] = tile\n",
    "\n",
    "            save_hdf5_output(data,cat[w],outfile)\n",
    "            data = 0\n",
    "            print('outfile saved: %s'%(outfile))\n",
    "        else:\n",
    "            print('Empty field')\n",
    "    else:\n",
    "        print('Error: empty tile')\n",
    "    \n",
    "    time_evolution[i+1] = time()\n",
    "    print('partial time: %.2f min'%((time_evolution[i+1]-time_evolution[i])/60.))\n",
    "    print('run time    : %.2f min'%((time_evolution[i+1]-time_evolution[0])/60.))\n",
    "    print('\\n')"
   ]
  },
  {
   "cell_type": "code",
   "execution_count": null,
   "metadata": {},
   "outputs": [],
   "source": []
  },
  {
   "cell_type": "code",
   "execution_count": null,
   "metadata": {},
   "outputs": [],
   "source": [
    "## In case that the memory crashes, delete the photoz variables (z,zmean,d_zmean,d_sigma) and run the cell below"
   ]
  },
  {
   "cell_type": "code",
   "execution_count": 27,
   "metadata": {},
   "outputs": [],
   "source": [
    "import pandas as pd"
   ]
  },
  {
   "cell_type": "code",
   "execution_count": 28,
   "metadata": {},
   "outputs": [],
   "source": [
    "def upload_dataFrame(infile,keys='members'):\n",
    "    hdf = pd.HDFStore(infile, mode='r')\n",
    "    df1 = hdf.get(keys)\n",
    "    hdf.close()\n",
    "    data = Table.from_pandas(df1)\n",
    "    return data"
   ]
  },
  {
   "cell_type": "code",
   "execution_count": 29,
   "metadata": {},
   "outputs": [
    {
     "data": {
      "text/plain": [
       "'/data/des61.a/data/johnny/DESY3/desy3/data/spt/cutouts/y3_gold_2.2.1_wide_sofcol_run_join_2500d_sptecs_hpx2_{:05d}.hdf5'"
      ]
     },
     "execution_count": 29,
     "metadata": {},
     "output_type": "execute_result"
    }
   ],
   "source": [
    "outfile_base"
   ]
  },
  {
   "cell_type": "code",
   "execution_count": 37,
   "metadata": {},
   "outputs": [],
   "source": [
    "hi = 32\n",
    "outfile = outfile_base.format(hi)"
   ]
  },
  {
   "cell_type": "code",
   "execution_count": 38,
   "metadata": {},
   "outputs": [],
   "source": [
    "gi = upload_dataFrame(outfile,keys='members')"
   ]
  },
  {
   "cell_type": "code",
   "execution_count": 39,
   "metadata": {},
   "outputs": [
    {
     "data": {
      "text/html": [
       "&lt;Table length=4025104&gt;\n",
       "<table id=\"table140222901058000\" class=\"table-striped table-bordered table-condensed\">\n",
       "<thead><tr><th>sof_cm_mag_corrected_i</th><th>sof_cm_mag_err_i</th><th>sof_cm_mag_err_g</th><th>sof_cm_mag_corrected_g</th><th>hpix_16384</th><th>flags_gold</th><th>ra</th><th>sof_cm_mag_corrected_z</th><th>sof_cm_mag_err_r</th><th>sof_cm_mag_err_z</th><th>coadd_object_id</th><th>dec</th><th>extended_class_mash_sof</th><th>id</th><th>sof_cm_mag_corrected_r</th><th>z_mc</th><th>z_mean_dnf</th><th>z_sigma_dnf</th><th>index</th><th>tile</th></tr></thead>\n",
       "<thead><tr><th>float64</th><th>float64</th><th>float64</th><th>float64</th><th>int64</th><th>int32</th><th>float64</th><th>float64</th><th>float64</th><th>float64</th><th>int64</th><th>float64</th><th>int16</th><th>int64</th><th>float64</th><th>float32</th><th>float32</th><th>float32</th><th>int64</th><th>int64</th></tr></thead>\n",
       "<tr><td>21.654613930158447</td><td>0.032559293479964994</td><td>0.016750989181116085</td><td>21.400962588124727</td><td>2171928570</td><td>1</td><td>77.4961703723133</td><td>21.664575732814793</td><td>0.015337476815168992</td><td>0.0518002684619841</td><td>410396542</td><td>-63.4582989107898</td><td>0</td><td>95385118</td><td>21.38464892560243</td><td>0.0519349</td><td>-0.030662555</td><td>0.029080123</td><td>95385118</td><td>32</td></tr>\n",
       "<tr><td>22.170333370403583</td><td>0.06665139725411459</td><td>0.058301839929005624</td><td>22.407291426653924</td><td>2171928570</td><td>1</td><td>77.5027793987335</td><td>22.397483692559714</td><td>0.03743286648377518</td><td>0.1364886782309874</td><td>410396837</td><td>-63.4595310414456</td><td>0</td><td>95385119</td><td>22.060541718827857</td><td>0.22656</td><td>0.12898155</td><td>0.033869445</td><td>95385119</td><td>32</td></tr>\n",
       "<tr><td>19.143562020487547</td><td>0.005564666963406421</td><td>0.00664375609908546</td><td>19.898348800161898</td><td>2171928571</td><td>1</td><td>77.5002226094686</td><td>19.057031709297572</td><td>0.003570960752726404</td><td>0.007895969781191241</td><td>410396172</td><td>-63.4573346198423</td><td>0</td><td>95385120</td><td>19.29252303967841</td><td>0.25509</td><td>0.23134153</td><td>0.036940243</td><td>95385120</td><td>32</td></tr>\n",
       "<tr><td>20.8761060184496</td><td>0.019787697123493923</td><td>0.010216398324543444</td><td>20.660459715265993</td><td>2171928571</td><td>1</td><td>77.4970193967993</td><td>21.05218047120386</td><td>0.010336700898780655</td><td>0.034967445942258674</td><td>410396265</td><td>-63.4573770630425</td><td>3</td><td>95385121</td><td>20.721921402444405</td><td>0.0645022</td><td>0.09697893</td><td>0.032909367</td><td>95385121</td><td>32</td></tr>\n",
       "<tr><td>23.407642052025377</td><td>0.173159020421383</td><td>0.14466483909744446</td><td>23.68112157668432</td><td>2171928571</td><td>1</td><td>77.498548499305</td><td>23.106529471109607</td><td>0.0916720677868582</td><td>0.21020363639286305</td><td>410395801</td><td>-63.454927477803</td><td>1</td><td>95385122</td><td>23.280070857209928</td><td>1.27901</td><td>0.93128556</td><td>0.05793857</td><td>95385122</td><td>32</td></tr>\n",
       "<tr><td>22.755081229080204</td><td>0.07235171196977327</td><td>0.07396055195024959</td><td>23.182653613618804</td><td>2171928574</td><td>1</td><td>77.498683433104</td><td>22.76934574473497</td><td>0.04603162309320897</td><td>0.12148178008261236</td><td>410395624</td><td>-63.4539078130089</td><td>0</td><td>95385123</td><td>22.792544067140014</td><td>0.128572</td><td>0.25313947</td><td>0.037594184</td><td>95385123</td><td>32</td></tr>\n",
       "<tr><td>23.325151576532512</td><td>0.13286524597809232</td><td>0.13354952748233237</td><td>23.699294591213487</td><td>2171928574</td><td>1</td><td>77.5020364257079</td><td>23.15486049410086</td><td>0.06761484823028525</td><td>0.18810812713079642</td><td>410395385</td><td>-63.4528129104784</td><td>0</td><td>95385124</td><td>23.08097923489225</td><td>0.228643</td><td>0.6469971</td><td>0.04940991</td><td>95385124</td><td>32</td></tr>\n",
       "<tr><td>21.920380118426415</td><td>0.0460179376377352</td><td>0.03328523777226703</td><td>22.06290203205796</td><td>2171928574</td><td>1</td><td>77.5017668790614</td><td>21.927397747189957</td><td>0.026853456536315323</td><td>0.07207100769571903</td><td>410395523</td><td>-63.4534596899687</td><td>0</td><td>95385125</td><td>21.92404373135594</td><td>1.63824</td><td>0.5356394</td><td>0.046069182</td><td>95385125</td><td>32</td></tr>\n",
       "<tr><td>22.773570196836022</td><td>0.09503140560810501</td><td>0.0801767987071459</td><td>23.096307375986964</td><td>2171928574</td><td>1</td><td>77.5004471484966</td><td>23.89587554842069</td><td>0.05468766173282201</td><td>0.3992388810295029</td><td>410395377</td><td>-63.4528373344961</td><td>1</td><td>95385126</td><td>22.761674992389914</td><td>0.140316</td><td>0.39155865</td><td>0.041746758</td><td>95385126</td><td>32</td></tr>\n",
       "<tr><td>21.339589578512477</td><td>0.028641483021886637</td><td>0.018724619183197132</td><td>21.465176843943322</td><td>2171960667</td><td>1</td><td>79.1396460746854</td><td>21.459617947542156</td><td>0.019922672078589353</td><td>0.044793423746013035</td><td>424942735</td><td>-63.1611851939475</td><td>3</td><td>95385127</td><td>21.38791545140428</td><td>0.0842466</td><td>0.29351446</td><td>0.038805433</td><td>95385127</td><td>32</td></tr>\n",
       "<tr><td>...</td><td>...</td><td>...</td><td>...</td><td>...</td><td>...</td><td>...</td><td>...</td><td>...</td><td>...</td><td>...</td><td>...</td><td>...</td><td>...</td><td>...</td><td>...</td><td>...</td><td>...</td><td>...</td><td>...</td></tr>\n",
       "<tr><td>23.433642005896505</td><td>0.28037714888042925</td><td>0.21936812329522604</td><td>23.99833791870336</td><td>2298503694</td><td>0</td><td>30.4282117186875</td><td>23.37833325155133</td><td>0.24090723042003515</td><td>0.35394958361057904</td><td>65947328</td><td>-53.6975403225027</td><td>3</td><td>214448575</td><td>23.824131595990266</td><td>1.08693</td><td>1.0852972</td><td>0.06255891</td><td>214448575</td><td>32</td></tr>\n",
       "<tr><td>23.408355769268287</td><td>0.20541042165099868</td><td>0.19681799040225917</td><td>24.519862443633127</td><td>2298503696</td><td>0</td><td>30.4436328199175</td><td>22.755206142582747</td><td>0.14445612601877916</td><td>0.17581583443768753</td><td>65947465</td><td>-53.7001559737741</td><td>3</td><td>214448576</td><td>23.71855147595333</td><td>1.28514</td><td>1.1192911</td><td>0.06357873</td><td>214448576</td><td>32</td></tr>\n",
       "<tr><td>22.60608738180821</td><td>0.1645795037697829</td><td>0.1983067378788676</td><td>24.04267202264596</td><td>2298503704</td><td>0</td><td>30.4377718210736</td><td>22.45631245362311</td><td>0.16834149525124636</td><td>0.18759952206089686</td><td>65947242</td><td>-53.6959608236017</td><td>3</td><td>214448579</td><td>23.513442333817476</td><td>0.86243</td><td>0.8696671</td><td>0.056090012</td><td>214448579</td><td>32</td></tr>\n",
       "<tr><td>23.020324528504002</td><td>0.18338905347094728</td><td>0.17660320643591146</td><td>23.992103957627737</td><td>2298503704</td><td>0</td><td>30.4364683423355</td><td>23.319408629848866</td><td>0.13400998682940482</td><td>0.2965516475499453</td><td>65947321</td><td>-53.6974783340462</td><td>3</td><td>214448580</td><td>22.981908475891604</td><td>0.354</td><td>0.39280477</td><td>0.04178414</td><td>214448580</td><td>32</td></tr>\n",
       "<tr><td>19.828220687501915</td><td>0.11889785580275584</td><td>0.1076367506537688</td><td>20.239770523265083</td><td>2298503706</td><td>0</td><td>30.435164038754</td><td>19.03683475247862</td><td>0.1064877884287317</td><td>0.11409487672734149</td><td>65946944</td><td>-53.6909786609047</td><td>3</td><td>214448584</td><td>19.803382949540843</td><td>0.40464</td><td>0.3700903</td><td>0.041102707</td><td>214448584</td><td>32</td></tr>\n",
       "<tr><td>22.586169918115846</td><td>0.1690945786515931</td><td>0.15496159950523497</td><td>23.41131081525807</td><td>2298503707</td><td>0</td><td>30.4391265034455</td><td>22.009329211374336</td><td>0.15458499826224306</td><td>0.18459038599448682</td><td>65946825</td><td>-53.6883292764482</td><td>3</td><td>214448585</td><td>23.025692171817447</td><td>1.04959</td><td>1.1609981</td><td>0.06482994</td><td>214448585</td><td>32</td></tr>\n",
       "<tr><td>22.991390998334914</td><td>0.0735372170823241</td><td>0.05917597030797674</td><td>23.742572551005175</td><td>2298503708</td><td>0</td><td>30.450702038667</td><td>22.37845800181524</td><td>0.05639430924076175</td><td>0.07069350870046066</td><td>65946893</td><td>-53.689576111239</td><td>3</td><td>214448588</td><td>23.35302709599511</td><td>1.19028</td><td>1.1821709</td><td>0.06546512</td><td>214448588</td><td>32</td></tr>\n",
       "<tr><td>22.379337573609185</td><td>0.0662832809771073</td><td>0.07646892071138679</td><td>23.613544459830184</td><td>2298503709</td><td>0</td><td>30.4512168250374</td><td>22.146606340777375</td><td>0.06830439973468701</td><td>0.08507817789434693</td><td>65946759</td><td>-53.687014505662</td><td>3</td><td>214448589</td><td>23.167075745179638</td><td>0.837572</td><td>0.89877343</td><td>0.0569632</td><td>214448589</td><td>32</td></tr>\n",
       "<tr><td>22.508301740211035</td><td>0.08105203437213904</td><td>0.09497914104753426</td><td>23.74634123670945</td><td>2298503713</td><td>0</td><td>30.4170323430859</td><td>22.179123316855435</td><td>0.07209960295040765</td><td>0.08730716533758405</td><td>65947346</td><td>-53.6979285971283</td><td>3</td><td>214448591</td><td>23.0736716654031</td><td>0.981954</td><td>0.86216736</td><td>0.05586502</td><td>214448591</td><td>32</td></tr>\n",
       "<tr><td>20.487533065361955</td><td>0.01567903657184586</td><td>0.019678067385563026</td><td>21.835831090190613</td><td>2298503718</td><td>0</td><td>30.4215372209793</td><td>20.063353003401346</td><td>0.012107389294793503</td><td>0.017899660107447448</td><td>65946772</td><td>-53.6900480461527</td><td>3</td><td>214448593</td><td>20.786061572699303</td><td>0.41471</td><td>0.43178838</td><td>0.04295365</td><td>214448593</td><td>32</td></tr>\n",
       "</table>"
      ],
      "text/plain": [
       "<Table length=4025104>\n",
       "sof_cm_mag_corrected_i   sof_cm_mag_err_i   ...   index    tile\n",
       "       float64               float64        ...   int64   int64\n",
       "---------------------- -------------------- ... --------- -----\n",
       "    21.654613930158447 0.032559293479964994 ...  95385118    32\n",
       "    22.170333370403583  0.06665139725411459 ...  95385119    32\n",
       "    19.143562020487547 0.005564666963406421 ...  95385120    32\n",
       "      20.8761060184496 0.019787697123493923 ...  95385121    32\n",
       "    23.407642052025377    0.173159020421383 ...  95385122    32\n",
       "    22.755081229080204  0.07235171196977327 ...  95385123    32\n",
       "    23.325151576532512  0.13286524597809232 ...  95385124    32\n",
       "    21.920380118426415   0.0460179376377352 ...  95385125    32\n",
       "    22.773570196836022  0.09503140560810501 ...  95385126    32\n",
       "    21.339589578512477 0.028641483021886637 ...  95385127    32\n",
       "                   ...                  ... ...       ...   ...\n",
       "    23.433642005896505  0.28037714888042925 ... 214448575    32\n",
       "    23.408355769268287  0.20541042165099868 ... 214448576    32\n",
       "     22.60608738180821   0.1645795037697829 ... 214448579    32\n",
       "    23.020324528504002  0.18338905347094728 ... 214448580    32\n",
       "    19.828220687501915  0.11889785580275584 ... 214448584    32\n",
       "    22.586169918115846   0.1690945786515931 ... 214448585    32\n",
       "    22.991390998334914   0.0735372170823241 ... 214448588    32\n",
       "    22.379337573609185   0.0662832809771073 ... 214448589    32\n",
       "    22.508301740211035  0.08105203437213904 ... 214448591    32\n",
       "    20.487533065361955  0.01567903657184586 ... 214448593    32"
      ]
     },
     "execution_count": 39,
     "metadata": {},
     "output_type": "execute_result"
    }
   ],
   "source": [
    "gi"
   ]
  },
  {
   "cell_type": "code",
   "execution_count": 40,
   "metadata": {},
   "outputs": [],
   "source": [
    "# np.count_nonzero(gi['z_mean_dnf']<0)"
   ]
  },
  {
   "cell_type": "code",
   "execution_count": 41,
   "metadata": {},
   "outputs": [
    {
     "data": {
      "image/png": "[encoded data removed]",
      "text/plain": [
       "<Figure size 432x288 with 1 Axes>"
      ]
     },
     "metadata": {},
     "output_type": "display_data"
    }
   ],
   "source": [
    "xbins = np.linspace(0., 1.2, 31)\n",
    "_ = plt.hist(gi['z_mean_dnf'],bins=xbins)"
   ]
  },
  {
   "cell_type": "code",
   "execution_count": 42,
   "metadata": {},
   "outputs": [],
   "source": [
    "w = np.where(cluster_tile==hi)[0]\n",
    "wg = np.where(gi['tile']==hi)[0]\n",
    "rac,decc = cat['RA'][w],cat['DEC'][w]\n",
    "ra, dec = gi['ra'][wg], gi['dec'][wg]"
   ]
  },
  {
   "cell_type": "code",
   "execution_count": 43,
   "metadata": {},
   "outputs": [
    {
     "data": {
      "text/plain": [
       "<matplotlib.collections.PathCollection at 0x7f883a3fc450>"
      ]
     },
     "execution_count": 43,
     "metadata": {},
     "output_type": "execute_result"
    },
    {
     "data": {
      "image/png": "[encoded data removed]",
      "text/plain": [
       "<Figure size 432x288 with 1 Axes>"
      ]
     },
     "metadata": {},
     "output_type": "display_data"
    }
   ],
   "source": [
    "plt.scatter(ra[::100],dec[::100],alpha=0.3)\n",
    "plt.scatter(rac,decc)"
   ]
  },
  {
   "cell_type": "code",
   "execution_count": null,
   "metadata": {},
   "outputs": [],
   "source": []
  }
 ],
 "metadata": {
  "kernelspec": {
   "display_name": "Python 2",
   "language": "python",
   "name": "python2"
  },
  "language_info": {
   "codemirror_mode": {
    "name": "ipython",
    "version": 2
   },
   "file_extension": ".py",
   "mimetype": "text/x-python",
   "name": "python",
   "nbconvert_exporter": "python",
   "pygments_lexer": "ipython2",
   "version": "2.7.15"
  }
 },
 "nbformat": 4,
 "nbformat_minor": 4
}
