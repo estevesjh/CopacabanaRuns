{
 "cells": [
  {
   "cell_type": "markdown",
   "metadata": {},
   "source": [
    "# Cluster Subsample:\n",
    "\n",
    "info: https://cdcvs.fnal.gov/redmine/projects/des-clusters/wiki/ClustDataVecY3 <br>"
   ]
  },
  {
   "cell_type": "code",
   "execution_count": 14,
   "metadata": {},
   "outputs": [],
   "source": [
    "import matplotlib.pyplot as plt\n",
    "import numpy as np\n",
    "\n",
    "from astropy.table import Table, vstack"
   ]
  },
  {
   "cell_type": "markdown",
   "metadata": {},
   "source": [
    "# Load"
   ]
  },
  {
   "cell_type": "code",
   "execution_count": 1,
   "metadata": {},
   "outputs": [],
   "source": [
    "path_out = '/data/des61.a/data/johnny/DESY3/data/cutouts/'\n",
    "fname_out= path_out+'y3_gold_2.2.1_wide_sofcol_run_redmapper_v6.4.22_wv1.2_full.fits'\n"
   ]
  },
  {
   "cell_type": "markdown",
   "metadata": {},
   "source": [
    "### Show DataStructure"
   ]
  },
  {
   "cell_type": "code",
   "execution_count": 16,
   "metadata": {},
   "outputs": [
    {
     "name": "stdout",
     "output_type": "stream",
     "text": [
      "nohup1.out\r\n",
      "nohup2.out\r\n",
      "\u001b[0m\u001b[38;5;34msompz_v0.40_08_04_2020.h5\u001b[0m*\r\n",
      "Y3_GOLD_2_2.1_12_3_19.h5\r\n",
      "Y3_GOLD_2_2.1_BPZ_12_3_19.h5\r\n",
      "Y3_GOLD_2_2.1_DNF_12_3_19.h5\r\n",
      "Y3_GOLD_2_2_1_maps_12_3_19.h5\r\n",
      "Y3_GOLD_2_2_1_regions.h5\r\n",
      "y3_gold_2.2.1_wide_sofcol_run_redmapper_v0.5.1_redmagic_12_3_19.h5\r\n",
      "Y3_mastercat_03_31_20.h5\r\n",
      "y3v02-mcal-004-v3_03_16_20.h5\r\n"
     ]
    }
   ],
   "source": [
    "ls /data/des81.b/data/mariaeli/y3_cats/full"
   ]
  },
  {
   "cell_type": "code",
   "execution_count": 17,
   "metadata": {},
   "outputs": [],
   "source": [
    "import h5py\n",
    "\n",
    "path   = '/data/des81.b/data/mariaeli/y3_cats/full/'\n",
    "fname  = path+'y3_gold_2.2.1_wide_sofcol_run_redmapper_v0.5.1_redmagic_12_3_19.h5'\n",
    "\n",
    "master = h5py.File(fname,'r')"
   ]
  },
  {
   "cell_type": "code",
   "execution_count": 18,
   "metadata": {},
   "outputs": [],
   "source": [
    "def show_h5_group(name,node):\n",
    "    ''' show all the h5 groups\n",
    "    Example:\n",
    "    fmaster = h5py.File(copa.master_fname,'r')\n",
    "    fmaster.visititems(show_h5_group)\n",
    "\n",
    "    ## https://stackoverflow.com/questions/45562169/traverse-hdf5-file-tree-and-continue-after-return\n",
    "    '''\n",
    "    if isinstance(node, h5py.Group):\n",
    "        print(name,node)\n",
    "    return None\n",
    "\n",
    "def show_h5_dataset(name,node):\n",
    "    if isinstance(node, h5py.Dataset):\n",
    "        print(name,node)\n",
    "    return None"
   ]
  },
  {
   "cell_type": "code",
   "execution_count": 19,
   "metadata": {},
   "outputs": [
    {
     "name": "stdout",
     "output_type": "stream",
     "text": [
      "(u'catalog/maglim/dec', <HDF5 dataset \"dec\": shape (399263026,), type \">f8\">)\n",
      "(u'catalog/maglim/ra', <HDF5 dataset \"ra\": shape (399263026,), type \">f8\">)\n",
      "(u'catalog/maglim/weight', <HDF5 dataset \"weight\": shape (399263026,), type \">f4\">)\n",
      "(u'catalog/redmagic/combined_sample_fid/chisq', <HDF5 dataset \"chisq\": shape (2686519,), type \">f4\">)\n",
      "(u'catalog/redmagic/combined_sample_fid/coadd_object_id', <HDF5 dataset \"coadd_object_id\": shape (2686519,), type \"<i8\">)\n",
      "(u'catalog/redmagic/combined_sample_fid/dec', <HDF5 dataset \"dec\": shape (2686519,), type \">f8\">)\n",
      "(u'catalog/redmagic/combined_sample_fid/lum', <HDF5 dataset \"lum\": shape (2686519,), type \">f4\">)\n",
      "(u'catalog/redmagic/combined_sample_fid/mag', <HDF5 dataset \"mag\": shape (2686519,), type \"|V16\">)\n",
      "(u'catalog/redmagic/combined_sample_fid/mag_err', <HDF5 dataset \"mag_err\": shape (2686519,), type \"|V16\">)\n",
      "(u'catalog/redmagic/combined_sample_fid/ra', <HDF5 dataset \"ra\": shape (2686519,), type \">f8\">)\n",
      "(u'catalog/redmagic/combined_sample_fid/refmag', <HDF5 dataset \"refmag\": shape (2686519,), type \">f4\">)\n",
      "(u'catalog/redmagic/combined_sample_fid/refmag_err', <HDF5 dataset \"refmag_err\": shape (2686519,), type \">f4\">)\n",
      "(u'catalog/redmagic/combined_sample_fid/weight', <HDF5 dataset \"weight\": shape (2686519,), type \">f4\">)\n",
      "(u'catalog/redmagic/combined_sample_fid/zredmagic', <HDF5 dataset \"zredmagic\": shape (2686519,), type \">f4\">)\n",
      "(u'catalog/redmagic/combined_sample_fid/zredmagic_e', <HDF5 dataset \"zredmagic_e\": shape (2686519,), type \">f4\">)\n",
      "(u'catalog/redmagic/combined_sample_fid/zredmagic_samp', <HDF5 dataset \"zredmagic_samp\": shape (2686519,), type \"|V16\">)\n",
      "(u'catalog/redmagic/combined_sample_fid/zspec', <HDF5 dataset \"zspec\": shape (2686519,), type \">f4\">)\n",
      "(u'catalog/redmagic/highdens/chisq', <HDF5 dataset \"chisq\": shape (2768033,), type \">f4\">)\n",
      "(u'catalog/redmagic/highdens/coadd_object_id', <HDF5 dataset \"coadd_object_id\": shape (2768033,), type \"<i8\">)\n",
      "(u'catalog/redmagic/highdens/dec', <HDF5 dataset \"dec\": shape (2768033,), type \">f8\">)\n",
      "(u'catalog/redmagic/highdens/lum', <HDF5 dataset \"lum\": shape (2768033,), type \">f4\">)\n",
      "(u'catalog/redmagic/highdens/mag', <HDF5 dataset \"mag\": shape (2768033,), type \"|V16\">)\n",
      "(u'catalog/redmagic/highdens/mag_err', <HDF5 dataset \"mag_err\": shape (2768033,), type \"|V16\">)\n",
      "(u'catalog/redmagic/highdens/ra', <HDF5 dataset \"ra\": shape (2768033,), type \">f8\">)\n",
      "(u'catalog/redmagic/highdens/refmag', <HDF5 dataset \"refmag\": shape (2768033,), type \">f4\">)\n",
      "(u'catalog/redmagic/highdens/refmag_err', <HDF5 dataset \"refmag_err\": shape (2768033,), type \">f4\">)\n",
      "(u'catalog/redmagic/highdens/zredmagic', <HDF5 dataset \"zredmagic\": shape (2768033,), type \">f4\">)\n",
      "(u'catalog/redmagic/highdens/zredmagic_e', <HDF5 dataset \"zredmagic_e\": shape (2768033,), type \">f4\">)\n",
      "(u'catalog/redmagic/highdens/zredmagic_samp', <HDF5 dataset \"zredmagic_samp\": shape (2768033,), type \"|V16\">)\n",
      "(u'catalog/redmagic/highdens/zspec', <HDF5 dataset \"zspec\": shape (2768033,), type \">f4\">)\n",
      "(u'catalog/redmagic/higherlum/chisq', <HDF5 dataset \"chisq\": shape (497733,), type \">f4\">)\n",
      "(u'catalog/redmagic/higherlum/coadd_object_id', <HDF5 dataset \"coadd_object_id\": shape (497733,), type \"<i8\">)\n",
      "(u'catalog/redmagic/higherlum/dec', <HDF5 dataset \"dec\": shape (497733,), type \">f8\">)\n",
      "(u'catalog/redmagic/higherlum/lum', <HDF5 dataset \"lum\": shape (497733,), type \">f4\">)\n",
      "(u'catalog/redmagic/higherlum/mag', <HDF5 dataset \"mag\": shape (497733,), type \"|V16\">)\n",
      "(u'catalog/redmagic/higherlum/mag_err', <HDF5 dataset \"mag_err\": shape (497733,), type \"|V16\">)\n",
      "(u'catalog/redmagic/higherlum/ra', <HDF5 dataset \"ra\": shape (497733,), type \">f8\">)\n",
      "(u'catalog/redmagic/higherlum/refmag', <HDF5 dataset \"refmag\": shape (497733,), type \">f4\">)\n",
      "(u'catalog/redmagic/higherlum/refmag_err', <HDF5 dataset \"refmag_err\": shape (497733,), type \">f4\">)\n",
      "(u'catalog/redmagic/higherlum/zredmagic', <HDF5 dataset \"zredmagic\": shape (497733,), type \">f4\">)\n",
      "(u'catalog/redmagic/higherlum/zredmagic_e', <HDF5 dataset \"zredmagic_e\": shape (497733,), type \">f4\">)\n",
      "(u'catalog/redmagic/higherlum/zredmagic_samp', <HDF5 dataset \"zredmagic_samp\": shape (497733,), type \"|V16\">)\n",
      "(u'catalog/redmagic/higherlum/zspec', <HDF5 dataset \"zspec\": shape (497733,), type \">f4\">)\n",
      "(u'catalog/redmagic/highlum/chisq', <HDF5 dataset \"chisq\": shape (2030711,), type \">f4\">)\n",
      "(u'catalog/redmagic/highlum/coadd_object_id', <HDF5 dataset \"coadd_object_id\": shape (2030711,), type \"<i8\">)\n",
      "(u'catalog/redmagic/highlum/dec', <HDF5 dataset \"dec\": shape (2030711,), type \">f8\">)\n",
      "(u'catalog/redmagic/highlum/lum', <HDF5 dataset \"lum\": shape (2030711,), type \">f4\">)\n",
      "(u'catalog/redmagic/highlum/mag', <HDF5 dataset \"mag\": shape (2030711,), type \"|V16\">)\n",
      "(u'catalog/redmagic/highlum/mag_err', <HDF5 dataset \"mag_err\": shape (2030711,), type \"|V16\">)\n",
      "(u'catalog/redmagic/highlum/ra', <HDF5 dataset \"ra\": shape (2030711,), type \">f8\">)\n",
      "(u'catalog/redmagic/highlum/refmag', <HDF5 dataset \"refmag\": shape (2030711,), type \">f4\">)\n",
      "(u'catalog/redmagic/highlum/refmag_err', <HDF5 dataset \"refmag_err\": shape (2030711,), type \">f4\">)\n",
      "(u'catalog/redmagic/highlum/zredmagic', <HDF5 dataset \"zredmagic\": shape (2030711,), type \">f4\">)\n",
      "(u'catalog/redmagic/highlum/zredmagic_e', <HDF5 dataset \"zredmagic_e\": shape (2030711,), type \">f4\">)\n",
      "(u'catalog/redmagic/highlum/zredmagic_samp', <HDF5 dataset \"zredmagic_samp\": shape (2030711,), type \"|V16\">)\n",
      "(u'catalog/redmagic/highlum/zspec', <HDF5 dataset \"zspec\": shape (2030711,), type \">f4\">)\n",
      "(u'catalog/redmapper/lgt20/bcg_ilum', <HDF5 dataset \"bcg_ilum\": shape (19838,), type \">f4\">)\n",
      "(u'catalog/redmapper/lgt20/bcg_spec_z', <HDF5 dataset \"bcg_spec_z\": shape (19838,), type \">f4\">)\n",
      "(u'catalog/redmapper/lgt20/c_lambda', <HDF5 dataset \"c_lambda\": shape (19838,), type \"|V12\">)\n",
      "(u'catalog/redmapper/lgt20/c_lambda_err', <HDF5 dataset \"c_lambda_err\": shape (19838,), type \"|V12\">)\n",
      "(u'catalog/redmapper/lgt20/chisq', <HDF5 dataset \"chisq\": shape (19838,), type \">f4\">)\n",
      "(u'catalog/redmapper/lgt20/dec', <HDF5 dataset \"dec\": shape (19838,), type \">f8\">)\n",
      "(u'catalog/redmapper/lgt20/dec_cent', <HDF5 dataset \"dec_cent\": shape (19838,), type \"|V40\">)\n",
      "(u'catalog/redmapper/lgt20/dec_orig', <HDF5 dataset \"dec_orig\": shape (19838,), type \">f8\">)\n",
      "(u'catalog/redmapper/lgt20/dlambda_dz', <HDF5 dataset \"dlambda_dz\": shape (19838,), type \">f4\">)\n",
      "(u'catalog/redmapper/lgt20/dlambda_dz2', <HDF5 dataset \"dlambda_dz2\": shape (19838,), type \">f4\">)\n",
      "(u'catalog/redmapper/lgt20/dlambdavar_dz', <HDF5 dataset \"dlambdavar_dz\": shape (19838,), type \">f4\">)\n",
      "(u'catalog/redmapper/lgt20/dlambdavar_dz2', <HDF5 dataset \"dlambdavar_dz2\": shape (19838,), type \">f4\">)\n",
      "(u'catalog/redmapper/lgt20/ebv_mean', <HDF5 dataset \"ebv_mean\": shape (19838,), type \">f4\">)\n",
      "(u'catalog/redmapper/lgt20/geomaskfrac', <HDF5 dataset \"geomaskfrac\": shape (19838,), type \">f4\">)\n",
      "(u'catalog/redmapper/lgt20/id_cent', <HDF5 dataset \"id_cent\": shape (19838,), type \"|V40\">)\n",
      "(u'catalog/redmapper/lgt20/ilum', <HDF5 dataset \"ilum\": shape (19838,), type \">f4\">)\n",
      "(u'catalog/redmapper/lgt20/lambda_chisq', <HDF5 dataset \"lambda_chisq\": shape (19838,), type \">f4\">)\n",
      "(u'catalog/redmapper/lgt20/lambda_chisq_c', <HDF5 dataset \"lambda_chisq_c\": shape (19838,), type \">f4\">)\n",
      "(u'catalog/redmapper/lgt20/lambda_chisq_ce', <HDF5 dataset \"lambda_chisq_ce\": shape (19838,), type \">f4\">)\n",
      "(u'catalog/redmapper/lgt20/lambda_chisq_cent', <HDF5 dataset \"lambda_chisq_cent\": shape (19838,), type \"|V20\">)\n",
      "(u'catalog/redmapper/lgt20/lambda_chisq_e', <HDF5 dataset \"lambda_chisq_e\": shape (19838,), type \">f4\">)\n",
      "(u'catalog/redmapper/lgt20/lambda_zred', <HDF5 dataset \"lambda_zred\": shape (19838,), type \">f4\">)\n",
      "(u'catalog/redmapper/lgt20/lambda_zred_e', <HDF5 dataset \"lambda_zred_e\": shape (19838,), type \">f4\">)\n",
      "(u'catalog/redmapper/lgt20/lim_exptime', <HDF5 dataset \"lim_exptime\": shape (19838,), type \">f4\">)\n",
      "(u'catalog/redmapper/lgt20/lim_limmag', <HDF5 dataset \"lim_limmag\": shape (19838,), type \">f4\">)\n",
      "(u'catalog/redmapper/lgt20/lim_limmag_dered', <HDF5 dataset \"lim_limmag_dered\": shape (19838,), type \">f4\">)\n",
      "(u'catalog/redmapper/lgt20/lim_limmag_hard', <HDF5 dataset \"lim_limmag_hard\": shape (19838,), type \">f4\">)\n",
      "(u'catalog/redmapper/lgt20/lnbcglike', <HDF5 dataset \"lnbcglike\": shape (19838,), type \">f4\">)\n",
      "(u'catalog/redmapper/lgt20/lnlamlike', <HDF5 dataset \"lnlamlike\": shape (19838,), type \">f4\">)\n",
      "(u'catalog/redmapper/lgt20/lnlike', <HDF5 dataset \"lnlike\": shape (19838,), type \">f4\">)\n",
      "(u'catalog/redmapper/lgt20/mag_lambda_err', <HDF5 dataset \"mag_lambda_err\": shape (19838,), type \"|V16\">)\n",
      "(u'catalog/redmapper/lgt20/maskfrac', <HDF5 dataset \"maskfrac\": shape (19838,), type \">f4\">)\n",
      "(u'catalog/redmapper/lgt20/maskgal_index', <HDF5 dataset \"maskgal_index\": shape (19838,), type \">i2\">)\n",
      "(u'catalog/redmapper/lgt20/mem_match_id', <HDF5 dataset \"mem_match_id\": shape (19838,), type \">i4\">)\n",
      "(u'catalog/redmapper/lgt20/members/chisq', <HDF5 dataset \"chisq\": shape (1122790,), type \">f4\">)\n",
      "(u'catalog/redmapper/lgt20/members/dec', <HDF5 dataset \"dec\": shape (1122790,), type \">f8\">)\n",
      "(u'catalog/redmapper/lgt20/members/ebv', <HDF5 dataset \"ebv\": shape (1122790,), type \">f4\">)\n",
      "(u'catalog/redmapper/lgt20/members/id', <HDF5 dataset \"id\": shape (1122790,), type \">i8\">)\n",
      "(u'catalog/redmapper/lgt20/members/mem_match_id', <HDF5 dataset \"mem_match_id\": shape (1122790,), type \">i4\">)\n",
      "(u'catalog/redmapper/lgt20/members/model_mag', <HDF5 dataset \"model_mag\": shape (1122790,), type \"|V16\">)\n",
      "(u'catalog/redmapper/lgt20/members/model_magerr', <HDF5 dataset \"model_magerr\": shape (1122790,), type \"|V16\">)\n",
      "(u'catalog/redmapper/lgt20/members/p', <HDF5 dataset \"p\": shape (1122790,), type \">f4\">)\n",
      "(u'catalog/redmapper/lgt20/members/pfree', <HDF5 dataset \"pfree\": shape (1122790,), type \">f4\">)\n",
      "(u'catalog/redmapper/lgt20/members/r', <HDF5 dataset \"r\": shape (1122790,), type \">f4\">)\n",
      "(u'catalog/redmapper/lgt20/members/ra', <HDF5 dataset \"ra\": shape (1122790,), type \">f8\">)\n",
      "(u'catalog/redmapper/lgt20/members/refmag', <HDF5 dataset \"refmag\": shape (1122790,), type \">f4\">)\n",
      "(u'catalog/redmapper/lgt20/members/refmag_err', <HDF5 dataset \"refmag_err\": shape (1122790,), type \">f4\">)\n",
      "(u'catalog/redmapper/lgt20/members/refmag_fit', <HDF5 dataset \"refmag_fit\": shape (1122790,), type \">f4\">)\n",
      "(u'catalog/redmapper/lgt20/members/refmag_fit_e', <HDF5 dataset \"refmag_fit_e\": shape (1122790,), type \">f4\">)\n",
      "(u'catalog/redmapper/lgt20/members/theta_i', <HDF5 dataset \"theta_i\": shape (1122790,), type \">f4\">)\n",
      "(u'catalog/redmapper/lgt20/members/theta_r', <HDF5 dataset \"theta_r\": shape (1122790,), type \">f4\">)\n",
      "(u'catalog/redmapper/lgt20/members/z', <HDF5 dataset \"z\": shape (1122790,), type \">f4\">)\n"
     ]
    },
    {
     "name": "stdout",
     "output_type": "stream",
     "text": [
      "(u'catalog/redmapper/lgt20/members/zred', <HDF5 dataset \"zred\": shape (1122790,), type \">f4\">)\n",
      "(u'catalog/redmapper/lgt20/members/zred2', <HDF5 dataset \"zred2\": shape (1122790,), type \">f4\">)\n",
      "(u'catalog/redmapper/lgt20/members/zred2_e', <HDF5 dataset \"zred2_e\": shape (1122790,), type \">f4\">)\n",
      "(u'catalog/redmapper/lgt20/members/zred_e', <HDF5 dataset \"zred_e\": shape (1122790,), type \">f4\">)\n",
      "(u'catalog/redmapper/lgt20/members/zspec', <HDF5 dataset \"zspec\": shape (1122790,), type \">f4\">)\n",
      "(u'catalog/redmapper/lgt20/model_mag', <HDF5 dataset \"model_mag\": shape (19838,), type \"|V16\">)\n",
      "(u'catalog/redmapper/lgt20/model_magerr', <HDF5 dataset \"model_magerr\": shape (19838,), type \"|V16\">)\n",
      "(u'catalog/redmapper/lgt20/ncent', <HDF5 dataset \"ncent\": shape (19838,), type \">i2\">)\n",
      "(u'catalog/redmapper/lgt20/ncent_good', <HDF5 dataset \"ncent_good\": shape (19838,), type \">i2\">)\n",
      "(u'catalog/redmapper/lgt20/ncross', <HDF5 dataset \"ncross\": shape (19838,), type \">i2\">)\n",
      "(u'catalog/redmapper/lgt20/p_bcg', <HDF5 dataset \"p_bcg\": shape (19838,), type \"|V20\">)\n",
      "(u'catalog/redmapper/lgt20/p_c', <HDF5 dataset \"p_c\": shape (19838,), type \"|V20\">)\n",
      "(u'catalog/redmapper/lgt20/p_cen', <HDF5 dataset \"p_cen\": shape (19838,), type \"|V20\">)\n",
      "(u'catalog/redmapper/lgt20/p_fg', <HDF5 dataset \"p_fg\": shape (19838,), type \"|V20\">)\n",
      "(u'catalog/redmapper/lgt20/p_sat', <HDF5 dataset \"p_sat\": shape (19838,), type \"|V20\">)\n",
      "(u'catalog/redmapper/lgt20/pz', <HDF5 dataset \"pz\": shape (19838,), type \"|V84\">)\n",
      "(u'catalog/redmapper/lgt20/pzbins', <HDF5 dataset \"pzbins\": shape (19838,), type \"|V84\">)\n",
      "(u'catalog/redmapper/lgt20/q_cen', <HDF5 dataset \"q_cen\": shape (19838,), type \"|V20\">)\n",
      "(u'catalog/redmapper/lgt20/q_miss', <HDF5 dataset \"q_miss\": shape (19838,), type \">f4\">)\n",
      "(u'catalog/redmapper/lgt20/r_lambda', <HDF5 dataset \"r_lambda\": shape (19838,), type \">f4\">)\n",
      "(u'catalog/redmapper/lgt20/ra', <HDF5 dataset \"ra\": shape (19838,), type \">f8\">)\n",
      "(u'catalog/redmapper/lgt20/ra_cent', <HDF5 dataset \"ra_cent\": shape (19838,), type \"|V40\">)\n",
      "(u'catalog/redmapper/lgt20/ra_orig', <HDF5 dataset \"ra_orig\": shape (19838,), type \">f8\">)\n",
      "(u'catalog/redmapper/lgt20/refmag', <HDF5 dataset \"refmag\": shape (19838,), type \">f4\">)\n",
      "(u'catalog/redmapper/lgt20/refmag_err', <HDF5 dataset \"refmag_err\": shape (19838,), type \">f4\">)\n",
      "(u'catalog/redmapper/lgt20/rmask', <HDF5 dataset \"rmask\": shape (19838,), type \">f4\">)\n",
      "(u'catalog/redmapper/lgt20/scaleval', <HDF5 dataset \"scaleval\": shape (19838,), type \">f4\">)\n",
      "(u'catalog/redmapper/lgt20/w', <HDF5 dataset \"w\": shape (19838,), type \">f4\">)\n",
      "(u'catalog/redmapper/lgt20/z', <HDF5 dataset \"z\": shape (19838,), type \">f4\">)\n",
      "(u'catalog/redmapper/lgt20/z_init', <HDF5 dataset \"z_init\": shape (19838,), type \">f4\">)\n",
      "(u'catalog/redmapper/lgt20/z_lambda', <HDF5 dataset \"z_lambda\": shape (19838,), type \">f4\">)\n",
      "(u'catalog/redmapper/lgt20/z_lambda_e', <HDF5 dataset \"z_lambda_e\": shape (19838,), type \">f4\">)\n",
      "(u'catalog/redmapper/lgt20/z_lambda_e_raw', <HDF5 dataset \"z_lambda_e_raw\": shape (19838,), type \">f4\">)\n",
      "(u'catalog/redmapper/lgt20/z_lambda_niter', <HDF5 dataset \"z_lambda_niter\": shape (19838,), type \">i2\">)\n",
      "(u'catalog/redmapper/lgt20/z_lambda_raw', <HDF5 dataset \"z_lambda_raw\": shape (19838,), type \">f4\">)\n",
      "(u'catalog/redmapper/lgt20/z_spec_init', <HDF5 dataset \"z_spec_init\": shape (19838,), type \">f4\">)\n",
      "(u'catalog/redmapper/lgt20/zlambda_cent', <HDF5 dataset \"zlambda_cent\": shape (19838,), type \"|V20\">)\n",
      "(u'catalog/redmapper/lgt20/zred', <HDF5 dataset \"zred\": shape (19838,), type \">f4\">)\n",
      "(u'catalog/redmapper/lgt20/zred_chisq', <HDF5 dataset \"zred_chisq\": shape (19838,), type \">f4\">)\n",
      "(u'catalog/redmapper/lgt20/zred_e', <HDF5 dataset \"zred_e\": shape (19838,), type \">f4\">)\n",
      "(u'catalog/redmapper/lgt5/bcg_ilum', <HDF5 dataset \"bcg_ilum\": shape (256481,), type \">f4\">)\n",
      "(u'catalog/redmapper/lgt5/bcg_spec_z', <HDF5 dataset \"bcg_spec_z\": shape (256481,), type \">f4\">)\n",
      "(u'catalog/redmapper/lgt5/c_lambda', <HDF5 dataset \"c_lambda\": shape (256481,), type \"|V12\">)\n",
      "(u'catalog/redmapper/lgt5/c_lambda_err', <HDF5 dataset \"c_lambda_err\": shape (256481,), type \"|V12\">)\n",
      "(u'catalog/redmapper/lgt5/chisq', <HDF5 dataset \"chisq\": shape (256481,), type \">f4\">)\n",
      "(u'catalog/redmapper/lgt5/dec', <HDF5 dataset \"dec\": shape (256481,), type \">f8\">)\n",
      "(u'catalog/redmapper/lgt5/dec_cent', <HDF5 dataset \"dec_cent\": shape (256481,), type \"|V40\">)\n",
      "(u'catalog/redmapper/lgt5/dec_orig', <HDF5 dataset \"dec_orig\": shape (256481,), type \">f8\">)\n",
      "(u'catalog/redmapper/lgt5/dlambda_dz', <HDF5 dataset \"dlambda_dz\": shape (256481,), type \">f4\">)\n",
      "(u'catalog/redmapper/lgt5/dlambda_dz2', <HDF5 dataset \"dlambda_dz2\": shape (256481,), type \">f4\">)\n",
      "(u'catalog/redmapper/lgt5/dlambdavar_dz', <HDF5 dataset \"dlambdavar_dz\": shape (256481,), type \">f4\">)\n",
      "(u'catalog/redmapper/lgt5/dlambdavar_dz2', <HDF5 dataset \"dlambdavar_dz2\": shape (256481,), type \">f4\">)\n",
      "(u'catalog/redmapper/lgt5/ebv_mean', <HDF5 dataset \"ebv_mean\": shape (256481,), type \">f4\">)\n",
      "(u'catalog/redmapper/lgt5/geomaskfrac', <HDF5 dataset \"geomaskfrac\": shape (256481,), type \">f4\">)\n",
      "(u'catalog/redmapper/lgt5/id_cent', <HDF5 dataset \"id_cent\": shape (256481,), type \"|V40\">)\n",
      "(u'catalog/redmapper/lgt5/ilum', <HDF5 dataset \"ilum\": shape (256481,), type \">f4\">)\n",
      "(u'catalog/redmapper/lgt5/lambda_chisq', <HDF5 dataset \"lambda_chisq\": shape (256481,), type \">f4\">)\n",
      "(u'catalog/redmapper/lgt5/lambda_chisq_c', <HDF5 dataset \"lambda_chisq_c\": shape (256481,), type \">f4\">)\n",
      "(u'catalog/redmapper/lgt5/lambda_chisq_ce', <HDF5 dataset \"lambda_chisq_ce\": shape (256481,), type \">f4\">)\n",
      "(u'catalog/redmapper/lgt5/lambda_chisq_cent', <HDF5 dataset \"lambda_chisq_cent\": shape (256481,), type \"|V20\">)\n",
      "(u'catalog/redmapper/lgt5/lambda_chisq_e', <HDF5 dataset \"lambda_chisq_e\": shape (256481,), type \">f4\">)\n",
      "(u'catalog/redmapper/lgt5/lambda_zred', <HDF5 dataset \"lambda_zred\": shape (256481,), type \">f4\">)\n",
      "(u'catalog/redmapper/lgt5/lambda_zred_e', <HDF5 dataset \"lambda_zred_e\": shape (256481,), type \">f4\">)\n",
      "(u'catalog/redmapper/lgt5/lim_exptime', <HDF5 dataset \"lim_exptime\": shape (256481,), type \">f4\">)\n",
      "(u'catalog/redmapper/lgt5/lim_limmag', <HDF5 dataset \"lim_limmag\": shape (256481,), type \">f4\">)\n",
      "(u'catalog/redmapper/lgt5/lim_limmag_dered', <HDF5 dataset \"lim_limmag_dered\": shape (256481,), type \">f4\">)\n",
      "(u'catalog/redmapper/lgt5/lim_limmag_hard', <HDF5 dataset \"lim_limmag_hard\": shape (256481,), type \">f4\">)\n",
      "(u'catalog/redmapper/lgt5/lnbcglike', <HDF5 dataset \"lnbcglike\": shape (256481,), type \">f4\">)\n",
      "(u'catalog/redmapper/lgt5/lnlamlike', <HDF5 dataset \"lnlamlike\": shape (256481,), type \">f4\">)\n",
      "(u'catalog/redmapper/lgt5/lnlike', <HDF5 dataset \"lnlike\": shape (256481,), type \">f4\">)\n",
      "(u'catalog/redmapper/lgt5/mag_lambda_err', <HDF5 dataset \"mag_lambda_err\": shape (256481,), type \"|V16\">)\n",
      "(u'catalog/redmapper/lgt5/maskfrac', <HDF5 dataset \"maskfrac\": shape (256481,), type \">f4\">)\n",
      "(u'catalog/redmapper/lgt5/maskgal_index', <HDF5 dataset \"maskgal_index\": shape (256481,), type \">i2\">)\n",
      "(u'catalog/redmapper/lgt5/mem_match_id', <HDF5 dataset \"mem_match_id\": shape (256481,), type \">i4\">)\n",
      "(u'catalog/redmapper/lgt5/members/chisq', <HDF5 dataset \"chisq\": shape (5797169,), type \">f4\">)\n",
      "(u'catalog/redmapper/lgt5/members/dec', <HDF5 dataset \"dec\": shape (5797169,), type \">f8\">)\n",
      "(u'catalog/redmapper/lgt5/members/ebv', <HDF5 dataset \"ebv\": shape (5797169,), type \">f4\">)\n",
      "(u'catalog/redmapper/lgt5/members/id', <HDF5 dataset \"id\": shape (5797169,), type \">i8\">)\n",
      "(u'catalog/redmapper/lgt5/members/mem_match_id', <HDF5 dataset \"mem_match_id\": shape (5797169,), type \">i4\">)\n",
      "(u'catalog/redmapper/lgt5/members/model_mag', <HDF5 dataset \"model_mag\": shape (5797169,), type \"|V16\">)\n",
      "(u'catalog/redmapper/lgt5/members/model_magerr', <HDF5 dataset \"model_magerr\": shape (5797169,), type \"|V16\">)\n",
      "(u'catalog/redmapper/lgt5/members/p', <HDF5 dataset \"p\": shape (5797169,), type \">f4\">)\n",
      "(u'catalog/redmapper/lgt5/members/pfree', <HDF5 dataset \"pfree\": shape (5797169,), type \">f4\">)\n",
      "(u'catalog/redmapper/lgt5/members/r', <HDF5 dataset \"r\": shape (5797169,), type \">f4\">)\n",
      "(u'catalog/redmapper/lgt5/members/ra', <HDF5 dataset \"ra\": shape (5797169,), type \">f8\">)\n",
      "(u'catalog/redmapper/lgt5/members/refmag', <HDF5 dataset \"refmag\": shape (5797169,), type \">f4\">)\n",
      "(u'catalog/redmapper/lgt5/members/refmag_err', <HDF5 dataset \"refmag_err\": shape (5797169,), type \">f4\">)\n",
      "(u'catalog/redmapper/lgt5/members/refmag_fit', <HDF5 dataset \"refmag_fit\": shape (5797169,), type \">f4\">)\n",
      "(u'catalog/redmapper/lgt5/members/refmag_fit_e', <HDF5 dataset \"refmag_fit_e\": shape (5797169,), type \">f4\">)\n",
      "(u'catalog/redmapper/lgt5/members/theta_i', <HDF5 dataset \"theta_i\": shape (5797169,), type \">f4\">)\n",
      "(u'catalog/redmapper/lgt5/members/theta_r', <HDF5 dataset \"theta_r\": shape (5797169,), type \">f4\">)\n",
      "(u'catalog/redmapper/lgt5/members/z', <HDF5 dataset \"z\": shape (5797169,), type \">f4\">)\n",
      "(u'catalog/redmapper/lgt5/members/zred', <HDF5 dataset \"zred\": shape (5797169,), type \">f4\">)\n",
      "(u'catalog/redmapper/lgt5/members/zred2', <HDF5 dataset \"zred2\": shape (5797169,), type \">f4\">)\n",
      "(u'catalog/redmapper/lgt5/members/zred2_e', <HDF5 dataset \"zred2_e\": shape (5797169,), type \">f4\">)\n",
      "(u'catalog/redmapper/lgt5/members/zred_e', <HDF5 dataset \"zred_e\": shape (5797169,), type \">f4\">)\n",
      "(u'catalog/redmapper/lgt5/members/zspec', <HDF5 dataset \"zspec\": shape (5797169,), type \">f4\">)\n",
      "(u'catalog/redmapper/lgt5/model_mag', <HDF5 dataset \"model_mag\": shape (256481,), type \"|V16\">)\n",
      "(u'catalog/redmapper/lgt5/model_magerr', <HDF5 dataset \"model_magerr\": shape (256481,), type \"|V16\">)\n",
      "(u'catalog/redmapper/lgt5/ncent', <HDF5 dataset \"ncent\": shape (256481,), type \">i2\">)\n",
      "(u'catalog/redmapper/lgt5/ncent_good', <HDF5 dataset \"ncent_good\": shape (256481,), type \">i2\">)\n",
      "(u'catalog/redmapper/lgt5/ncross', <HDF5 dataset \"ncross\": shape (256481,), type \">i2\">)\n",
      "(u'catalog/redmapper/lgt5/p_bcg', <HDF5 dataset \"p_bcg\": shape (256481,), type \"|V20\">)\n",
      "(u'catalog/redmapper/lgt5/p_c', <HDF5 dataset \"p_c\": shape (256481,), type \"|V20\">)\n",
      "(u'catalog/redmapper/lgt5/p_cen', <HDF5 dataset \"p_cen\": shape (256481,), type \"|V20\">)\n",
      "(u'catalog/redmapper/lgt5/p_fg', <HDF5 dataset \"p_fg\": shape (256481,), type \"|V20\">)\n",
      "(u'catalog/redmapper/lgt5/p_sat', <HDF5 dataset \"p_sat\": shape (256481,), type \"|V20\">)\n",
      "(u'catalog/redmapper/lgt5/pz', <HDF5 dataset \"pz\": shape (256481,), type \"|V84\">)\n",
      "(u'catalog/redmapper/lgt5/pzbins', <HDF5 dataset \"pzbins\": shape (256481,), type \"|V84\">)\n",
      "(u'catalog/redmapper/lgt5/q_cen', <HDF5 dataset \"q_cen\": shape (256481,), type \"|V20\">)\n",
      "(u'catalog/redmapper/lgt5/q_miss', <HDF5 dataset \"q_miss\": shape (256481,), type \">f4\">)\n",
      "(u'catalog/redmapper/lgt5/r_lambda', <HDF5 dataset \"r_lambda\": shape (256481,), type \">f4\">)\n",
      "(u'catalog/redmapper/lgt5/ra', <HDF5 dataset \"ra\": shape (256481,), type \">f8\">)\n",
      "(u'catalog/redmapper/lgt5/ra_cent', <HDF5 dataset \"ra_cent\": shape (256481,), type \"|V40\">)\n",
      "(u'catalog/redmapper/lgt5/ra_orig', <HDF5 dataset \"ra_orig\": shape (256481,), type \">f8\">)\n",
      "(u'catalog/redmapper/lgt5/refmag', <HDF5 dataset \"refmag\": shape (256481,), type \">f4\">)\n",
      "(u'catalog/redmapper/lgt5/refmag_err', <HDF5 dataset \"refmag_err\": shape (256481,), type \">f4\">)\n",
      "(u'catalog/redmapper/lgt5/rmask', <HDF5 dataset \"rmask\": shape (256481,), type \">f4\">)\n",
      "(u'catalog/redmapper/lgt5/scaleval', <HDF5 dataset \"scaleval\": shape (256481,), type \">f4\">)\n",
      "(u'catalog/redmapper/lgt5/w', <HDF5 dataset \"w\": shape (256481,), type \">f4\">)\n",
      "(u'catalog/redmapper/lgt5/z', <HDF5 dataset \"z\": shape (256481,), type \">f4\">)\n"
     ]
    },
    {
     "name": "stdout",
     "output_type": "stream",
     "text": [
      "(u'catalog/redmapper/lgt5/z_init', <HDF5 dataset \"z_init\": shape (256481,), type \">f4\">)\n",
      "(u'catalog/redmapper/lgt5/z_lambda', <HDF5 dataset \"z_lambda\": shape (256481,), type \">f4\">)\n",
      "(u'catalog/redmapper/lgt5/z_lambda_e', <HDF5 dataset \"z_lambda_e\": shape (256481,), type \">f4\">)\n",
      "(u'catalog/redmapper/lgt5/z_lambda_e_raw', <HDF5 dataset \"z_lambda_e_raw\": shape (256481,), type \">f4\">)\n",
      "(u'catalog/redmapper/lgt5/z_lambda_niter', <HDF5 dataset \"z_lambda_niter\": shape (256481,), type \">i2\">)\n",
      "(u'catalog/redmapper/lgt5/z_lambda_raw', <HDF5 dataset \"z_lambda_raw\": shape (256481,), type \">f4\">)\n",
      "(u'catalog/redmapper/lgt5/z_spec_init', <HDF5 dataset \"z_spec_init\": shape (256481,), type \">f4\">)\n",
      "(u'catalog/redmapper/lgt5/zlambda_cent', <HDF5 dataset \"zlambda_cent\": shape (256481,), type \"|V20\">)\n",
      "(u'catalog/redmapper/lgt5/zred', <HDF5 dataset \"zred\": shape (256481,), type \">f4\">)\n",
      "(u'catalog/redmapper/lgt5/zred_chisq', <HDF5 dataset \"zred_chisq\": shape (256481,), type \">f4\">)\n",
      "(u'catalog/redmapper/lgt5/zred_e', <HDF5 dataset \"zred_e\": shape (256481,), type \">f4\">)\n",
      "(u'masks/redmagic/combined_sample_fid/fracgood', <HDF5 dataset \"fracgood\": shape (21191703,), type \">f4\">)\n",
      "(u'masks/redmagic/combined_sample_fid/hpix', <HDF5 dataset \"hpix\": shape (21191703,), type \">i8\">)\n",
      "(u'masks/redmagic/combined_sample_fid/zmax', <HDF5 dataset \"zmax\": shape (21191703,), type \">f4\">)\n",
      "(u'masks/redmagic/highdens/fracgood', <HDF5 dataset \"fracgood\": shape (22841046,), type \">f4\">)\n",
      "(u'masks/redmagic/highdens/hpix', <HDF5 dataset \"hpix\": shape (22841046,), type \">i8\">)\n",
      "(u'masks/redmagic/highdens/zmax', <HDF5 dataset \"zmax\": shape (22841046,), type \">f4\">)\n",
      "(u'masks/redmagic/higherlum/fracgood', <HDF5 dataset \"fracgood\": shape (22841046,), type \">f4\">)\n",
      "(u'masks/redmagic/higherlum/hpix', <HDF5 dataset \"hpix\": shape (22841046,), type \">i8\">)\n",
      "(u'masks/redmagic/higherlum/zmax', <HDF5 dataset \"zmax\": shape (22841046,), type \">f4\">)\n",
      "(u'masks/redmagic/highlum/fracgood', <HDF5 dataset \"fracgood\": shape (22841046,), type \">f4\">)\n",
      "(u'masks/redmagic/highlum/hpix', <HDF5 dataset \"hpix\": shape (22841046,), type \">i8\">)\n",
      "(u'masks/redmagic/highlum/zmax', <HDF5 dataset \"zmax\": shape (22841046,), type \">f4\">)\n",
      "(u'randoms/maglim/dec', <HDF5 dataset \"dec\": shape (216968847,), type \">f8\">)\n",
      "(u'randoms/maglim/ra', <HDF5 dataset \"ra\": shape (216968847,), type \">f8\">)\n",
      "(u'randoms/maglim/weight', <HDF5 dataset \"weight\": shape (216968847,), type \">f8\">)\n",
      "(u'randoms/maglim/z', <HDF5 dataset \"z\": shape (216968847,), type \">f8\">)\n",
      "(u'randoms/redmagic/combined_sample_fid/dec', <HDF5 dataset \"dec\": shape (27109722,), type \">f8\">)\n",
      "(u'randoms/redmagic/combined_sample_fid/ra', <HDF5 dataset \"ra\": shape (27109722,), type \">f8\">)\n",
      "(u'randoms/redmagic/combined_sample_fid/weight', <HDF5 dataset \"weight\": shape (27109722,), type \">f4\">)\n",
      "(u'randoms/redmagic/combined_sample_fid/z', <HDF5 dataset \"z\": shape (27109722,), type \">f4\">)\n",
      "(u'randoms/redmagic/highdens/dec', <HDF5 dataset \"dec\": shape (27680330,), type \">f8\">)\n",
      "(u'randoms/redmagic/highdens/ra', <HDF5 dataset \"ra\": shape (27680330,), type \">f8\">)\n",
      "(u'randoms/redmagic/highdens/weight', <HDF5 dataset \"weight\": shape (27680330,), type \">f4\">)\n",
      "(u'randoms/redmagic/highdens/z', <HDF5 dataset \"z\": shape (27680330,), type \">f4\">)\n",
      "(u'randoms/redmagic/higherlum/dec', <HDF5 dataset \"dec\": shape (4977330,), type \">f8\">)\n",
      "(u'randoms/redmagic/higherlum/ra', <HDF5 dataset \"ra\": shape (4977330,), type \">f8\">)\n",
      "(u'randoms/redmagic/higherlum/weight', <HDF5 dataset \"weight\": shape (4977330,), type \">f4\">)\n",
      "(u'randoms/redmagic/higherlum/z', <HDF5 dataset \"z\": shape (4977330,), type \">f4\">)\n",
      "(u'randoms/redmagic/highlum/dec', <HDF5 dataset \"dec\": shape (20307110,), type \">f8\">)\n",
      "(u'randoms/redmagic/highlum/ra', <HDF5 dataset \"ra\": shape (20307110,), type \">f8\">)\n",
      "(u'randoms/redmagic/highlum/weight', <HDF5 dataset \"weight\": shape (20307110,), type \">f4\">)\n",
      "(u'randoms/redmagic/highlum/z', <HDF5 dataset \"z\": shape (20307110,), type \">f4\">)\n",
      "(u'randoms/redmapper/lgt20/avg_lambdaout', <HDF5 dataset \"avg_lambdaout\": shape (3597338,), type \">f4\">)\n",
      "(u'randoms/redmapper/lgt20/dec', <HDF5 dataset \"dec\": shape (3597338,), type \">f8\">)\n",
      "(u'randoms/redmapper/lgt20/lambda_in', <HDF5 dataset \"lambda_in\": shape (3597338,), type \">f4\">)\n",
      "(u'randoms/redmapper/lgt20/ra', <HDF5 dataset \"ra\": shape (3597338,), type \">f8\">)\n",
      "(u'randoms/redmapper/lgt20/sigma_lambdaout', <HDF5 dataset \"sigma_lambdaout\": shape (3597338,), type \">f4\">)\n",
      "(u'randoms/redmapper/lgt20/weight', <HDF5 dataset \"weight\": shape (3597338,), type \">f4\">)\n",
      "(u'randoms/redmapper/lgt20/ztrue', <HDF5 dataset \"ztrue\": shape (3597338,), type \">f4\">)\n",
      "(u'randoms/redmapper/lgt5/avg_lambdaout', <HDF5 dataset \"avg_lambdaout\": shape (47019313,), type \">f4\">)\n",
      "(u'randoms/redmapper/lgt5/dec', <HDF5 dataset \"dec\": shape (47019313,), type \">f8\">)\n",
      "(u'randoms/redmapper/lgt5/lambda_in', <HDF5 dataset \"lambda_in\": shape (47019313,), type \">f4\">)\n",
      "(u'randoms/redmapper/lgt5/ra', <HDF5 dataset \"ra\": shape (47019313,), type \">f8\">)\n",
      "(u'randoms/redmapper/lgt5/sigma_lambdaout', <HDF5 dataset \"sigma_lambdaout\": shape (47019313,), type \">f4\">)\n",
      "(u'randoms/redmapper/lgt5/weight', <HDF5 dataset \"weight\": shape (47019313,), type \">f4\">)\n",
      "(u'randoms/redmapper/lgt5/ztrue', <HDF5 dataset \"ztrue\": shape (47019313,), type \">f4\">)\n"
     ]
    }
   ],
   "source": [
    "master.visititems(show_h5_dataset)"
   ]
  },
  {
   "cell_type": "code",
   "execution_count": 20,
   "metadata": {
    "scrolled": true
   },
   "outputs": [
    {
     "name": "stdout",
     "output_type": "stream",
     "text": [
      "(u'bcg_ilum', <HDF5 dataset \"bcg_ilum\": shape (19838,), type \">f4\">)\n",
      "(u'bcg_spec_z', <HDF5 dataset \"bcg_spec_z\": shape (19838,), type \">f4\">)\n",
      "(u'c_lambda', <HDF5 dataset \"c_lambda\": shape (19838,), type \"|V12\">)\n",
      "(u'c_lambda_err', <HDF5 dataset \"c_lambda_err\": shape (19838,), type \"|V12\">)\n",
      "(u'chisq', <HDF5 dataset \"chisq\": shape (19838,), type \">f4\">)\n",
      "(u'dec', <HDF5 dataset \"dec\": shape (19838,), type \">f8\">)\n",
      "(u'dec_cent', <HDF5 dataset \"dec_cent\": shape (19838,), type \"|V40\">)\n",
      "(u'dec_orig', <HDF5 dataset \"dec_orig\": shape (19838,), type \">f8\">)\n",
      "(u'dlambda_dz', <HDF5 dataset \"dlambda_dz\": shape (19838,), type \">f4\">)\n",
      "(u'dlambda_dz2', <HDF5 dataset \"dlambda_dz2\": shape (19838,), type \">f4\">)\n",
      "(u'dlambdavar_dz', <HDF5 dataset \"dlambdavar_dz\": shape (19838,), type \">f4\">)\n",
      "(u'dlambdavar_dz2', <HDF5 dataset \"dlambdavar_dz2\": shape (19838,), type \">f4\">)\n",
      "(u'ebv_mean', <HDF5 dataset \"ebv_mean\": shape (19838,), type \">f4\">)\n",
      "(u'geomaskfrac', <HDF5 dataset \"geomaskfrac\": shape (19838,), type \">f4\">)\n",
      "(u'id_cent', <HDF5 dataset \"id_cent\": shape (19838,), type \"|V40\">)\n",
      "(u'ilum', <HDF5 dataset \"ilum\": shape (19838,), type \">f4\">)\n",
      "(u'lambda_chisq', <HDF5 dataset \"lambda_chisq\": shape (19838,), type \">f4\">)\n",
      "(u'lambda_chisq_c', <HDF5 dataset \"lambda_chisq_c\": shape (19838,), type \">f4\">)\n",
      "(u'lambda_chisq_ce', <HDF5 dataset \"lambda_chisq_ce\": shape (19838,), type \">f4\">)\n",
      "(u'lambda_chisq_cent', <HDF5 dataset \"lambda_chisq_cent\": shape (19838,), type \"|V20\">)\n",
      "(u'lambda_chisq_e', <HDF5 dataset \"lambda_chisq_e\": shape (19838,), type \">f4\">)\n",
      "(u'lambda_zred', <HDF5 dataset \"lambda_zred\": shape (19838,), type \">f4\">)\n",
      "(u'lambda_zred_e', <HDF5 dataset \"lambda_zred_e\": shape (19838,), type \">f4\">)\n",
      "(u'lim_exptime', <HDF5 dataset \"lim_exptime\": shape (19838,), type \">f4\">)\n",
      "(u'lim_limmag', <HDF5 dataset \"lim_limmag\": shape (19838,), type \">f4\">)\n",
      "(u'lim_limmag_dered', <HDF5 dataset \"lim_limmag_dered\": shape (19838,), type \">f4\">)\n",
      "(u'lim_limmag_hard', <HDF5 dataset \"lim_limmag_hard\": shape (19838,), type \">f4\">)\n",
      "(u'lnbcglike', <HDF5 dataset \"lnbcglike\": shape (19838,), type \">f4\">)\n",
      "(u'lnlamlike', <HDF5 dataset \"lnlamlike\": shape (19838,), type \">f4\">)\n",
      "(u'lnlike', <HDF5 dataset \"lnlike\": shape (19838,), type \">f4\">)\n",
      "(u'mag_lambda_err', <HDF5 dataset \"mag_lambda_err\": shape (19838,), type \"|V16\">)\n",
      "(u'maskfrac', <HDF5 dataset \"maskfrac\": shape (19838,), type \">f4\">)\n",
      "(u'maskgal_index', <HDF5 dataset \"maskgal_index\": shape (19838,), type \">i2\">)\n",
      "(u'mem_match_id', <HDF5 dataset \"mem_match_id\": shape (19838,), type \">i4\">)\n",
      "(u'members/chisq', <HDF5 dataset \"chisq\": shape (1122790,), type \">f4\">)\n",
      "(u'members/dec', <HDF5 dataset \"dec\": shape (1122790,), type \">f8\">)\n",
      "(u'members/ebv', <HDF5 dataset \"ebv\": shape (1122790,), type \">f4\">)\n",
      "(u'members/id', <HDF5 dataset \"id\": shape (1122790,), type \">i8\">)\n",
      "(u'members/mem_match_id', <HDF5 dataset \"mem_match_id\": shape (1122790,), type \">i4\">)\n",
      "(u'members/model_mag', <HDF5 dataset \"model_mag\": shape (1122790,), type \"|V16\">)\n",
      "(u'members/model_magerr', <HDF5 dataset \"model_magerr\": shape (1122790,), type \"|V16\">)\n",
      "(u'members/p', <HDF5 dataset \"p\": shape (1122790,), type \">f4\">)\n",
      "(u'members/pfree', <HDF5 dataset \"pfree\": shape (1122790,), type \">f4\">)\n",
      "(u'members/r', <HDF5 dataset \"r\": shape (1122790,), type \">f4\">)\n",
      "(u'members/ra', <HDF5 dataset \"ra\": shape (1122790,), type \">f8\">)\n",
      "(u'members/refmag', <HDF5 dataset \"refmag\": shape (1122790,), type \">f4\">)\n",
      "(u'members/refmag_err', <HDF5 dataset \"refmag_err\": shape (1122790,), type \">f4\">)\n",
      "(u'members/refmag_fit', <HDF5 dataset \"refmag_fit\": shape (1122790,), type \">f4\">)\n",
      "(u'members/refmag_fit_e', <HDF5 dataset \"refmag_fit_e\": shape (1122790,), type \">f4\">)\n",
      "(u'members/theta_i', <HDF5 dataset \"theta_i\": shape (1122790,), type \">f4\">)\n",
      "(u'members/theta_r', <HDF5 dataset \"theta_r\": shape (1122790,), type \">f4\">)\n",
      "(u'members/z', <HDF5 dataset \"z\": shape (1122790,), type \">f4\">)\n",
      "(u'members/zred', <HDF5 dataset \"zred\": shape (1122790,), type \">f4\">)\n",
      "(u'members/zred2', <HDF5 dataset \"zred2\": shape (1122790,), type \">f4\">)\n",
      "(u'members/zred2_e', <HDF5 dataset \"zred2_e\": shape (1122790,), type \">f4\">)\n",
      "(u'members/zred_e', <HDF5 dataset \"zred_e\": shape (1122790,), type \">f4\">)\n",
      "(u'members/zspec', <HDF5 dataset \"zspec\": shape (1122790,), type \">f4\">)\n",
      "(u'model_mag', <HDF5 dataset \"model_mag\": shape (19838,), type \"|V16\">)\n",
      "(u'model_magerr', <HDF5 dataset \"model_magerr\": shape (19838,), type \"|V16\">)\n",
      "(u'ncent', <HDF5 dataset \"ncent\": shape (19838,), type \">i2\">)\n",
      "(u'ncent_good', <HDF5 dataset \"ncent_good\": shape (19838,), type \">i2\">)\n",
      "(u'ncross', <HDF5 dataset \"ncross\": shape (19838,), type \">i2\">)\n",
      "(u'p_bcg', <HDF5 dataset \"p_bcg\": shape (19838,), type \"|V20\">)\n",
      "(u'p_c', <HDF5 dataset \"p_c\": shape (19838,), type \"|V20\">)\n",
      "(u'p_cen', <HDF5 dataset \"p_cen\": shape (19838,), type \"|V20\">)\n",
      "(u'p_fg', <HDF5 dataset \"p_fg\": shape (19838,), type \"|V20\">)\n",
      "(u'p_sat', <HDF5 dataset \"p_sat\": shape (19838,), type \"|V20\">)\n",
      "(u'pz', <HDF5 dataset \"pz\": shape (19838,), type \"|V84\">)\n",
      "(u'pzbins', <HDF5 dataset \"pzbins\": shape (19838,), type \"|V84\">)\n",
      "(u'q_cen', <HDF5 dataset \"q_cen\": shape (19838,), type \"|V20\">)\n",
      "(u'q_miss', <HDF5 dataset \"q_miss\": shape (19838,), type \">f4\">)\n",
      "(u'r_lambda', <HDF5 dataset \"r_lambda\": shape (19838,), type \">f4\">)\n",
      "(u'ra', <HDF5 dataset \"ra\": shape (19838,), type \">f8\">)\n",
      "(u'ra_cent', <HDF5 dataset \"ra_cent\": shape (19838,), type \"|V40\">)\n",
      "(u'ra_orig', <HDF5 dataset \"ra_orig\": shape (19838,), type \">f8\">)\n",
      "(u'refmag', <HDF5 dataset \"refmag\": shape (19838,), type \">f4\">)\n",
      "(u'refmag_err', <HDF5 dataset \"refmag_err\": shape (19838,), type \">f4\">)\n",
      "(u'rmask', <HDF5 dataset \"rmask\": shape (19838,), type \">f4\">)\n",
      "(u'scaleval', <HDF5 dataset \"scaleval\": shape (19838,), type \">f4\">)\n",
      "(u'w', <HDF5 dataset \"w\": shape (19838,), type \">f4\">)\n",
      "(u'z', <HDF5 dataset \"z\": shape (19838,), type \">f4\">)\n",
      "(u'z_init', <HDF5 dataset \"z_init\": shape (19838,), type \">f4\">)\n",
      "(u'z_lambda', <HDF5 dataset \"z_lambda\": shape (19838,), type \">f4\">)\n",
      "(u'z_lambda_e', <HDF5 dataset \"z_lambda_e\": shape (19838,), type \">f4\">)\n",
      "(u'z_lambda_e_raw', <HDF5 dataset \"z_lambda_e_raw\": shape (19838,), type \">f4\">)\n",
      "(u'z_lambda_niter', <HDF5 dataset \"z_lambda_niter\": shape (19838,), type \">i2\">)\n",
      "(u'z_lambda_raw', <HDF5 dataset \"z_lambda_raw\": shape (19838,), type \">f4\">)\n",
      "(u'z_spec_init', <HDF5 dataset \"z_spec_init\": shape (19838,), type \">f4\">)\n",
      "(u'zlambda_cent', <HDF5 dataset \"zlambda_cent\": shape (19838,), type \"|V20\">)\n",
      "(u'zred', <HDF5 dataset \"zred\": shape (19838,), type \">f4\">)\n",
      "(u'zred_chisq', <HDF5 dataset \"zred_chisq\": shape (19838,), type \">f4\">)\n",
      "(u'zred_e', <HDF5 dataset \"zred_e\": shape (19838,), type \">f4\">)\n"
     ]
    }
   ],
   "source": [
    "master['catalog/redmapper/lgt20/'].visititems(show_h5_dataset)"
   ]
  },
  {
   "cell_type": "code",
   "execution_count": null,
   "metadata": {},
   "outputs": [],
   "source": []
  },
  {
   "cell_type": "markdown",
   "metadata": {},
   "source": [
    "### Load Variables"
   ]
  },
  {
   "cell_type": "code",
   "execution_count": 21,
   "metadata": {},
   "outputs": [],
   "source": [
    "clusters = master['catalog/redmapper/lgt5/']"
   ]
  },
  {
   "cell_type": "code",
   "execution_count": 22,
   "metadata": {},
   "outputs": [],
   "source": [
    "cols = ['MEM_MATCH_ID','RA','DEC','Z_LAMBDA','LAMBDA_CHISQ','R_LAMBDA','LAMBDA_CHISQ_E','SCALEVAL']\n",
    "\n",
    "mmid = clusters['mem_match_id'][:]\n",
    "ra   = clusters['ra'][:]\n",
    "dec  = clusters['dec'][:]\n",
    "zcls = clusters['z_lambda'][:]\n",
    "rlbd = clusters['r_lambda'][:]\n",
    "\n",
    "lbd     = clusters['lambda_chisq'][:]\n",
    "lbd_e   = clusters['lambda_chisq_e'][:]\n",
    "scale_v = clusters['scaleval'][:]\n",
    "\n",
    "mmag    = clusters['members/model_mag'][:]\n",
    "zgal    = clusters['members/z'][:]\n",
    "master.close()"
   ]
  },
  {
   "cell_type": "code",
   "execution_count": null,
   "metadata": {},
   "outputs": [],
   "source": []
  },
  {
   "cell_type": "code",
   "execution_count": 23,
   "metadata": {},
   "outputs": [],
   "source": [
    "data = Table([mmid,ra,dec,zcls,lbd,rlbd,lbd_e,scale_v],names=cols)"
   ]
  },
  {
   "cell_type": "code",
   "execution_count": 24,
   "metadata": {},
   "outputs": [
    {
     "data": {
      "text/html": [
       "&lt;Table length=256481&gt;\n",
       "<table id=\"table140370548119504\" class=\"table-striped table-bordered table-condensed\">\n",
       "<thead><tr><th>MEM_MATCH_ID</th><th>RA</th><th>DEC</th><th>Z_LAMBDA</th><th>LAMBDA_CHISQ</th><th>R_LAMBDA</th><th>LAMBDA_CHISQ_E</th><th>SCALEVAL</th></tr></thead>\n",
       "<thead><tr><th>int32</th><th>float64</th><th>float64</th><th>float32</th><th>float32</th><th>float32</th><th>float32</th><th>float32</th></tr></thead>\n",
       "<tr><td>432566</td><td>45.213325784218</td><td>0.413609510595717</td><td>0.26417944</td><td>6.9909916</td><td>0.58736455</td><td>2.1175554</td><td>1.1410239</td></tr>\n",
       "<tr><td>3562</td><td>44.8820710860101</td><td>0.289343366239</td><td>0.19364022</td><td>42.48932</td><td>0.8426669</td><td>2.8170002</td><td>1.0108446</td></tr>\n",
       "<tr><td>5233</td><td>44.8811817440392</td><td>0.328352252722895</td><td>0.37183228</td><td>37.272118</td><td>0.8208746</td><td>2.8691561</td><td>1.0149995</td></tr>\n",
       "<tr><td>407842</td><td>44.9093000971721</td><td>0.521576665208534</td><td>0.20710598</td><td>5.511259</td><td>0.5600801</td><td>1.2947567</td><td>1.0212231</td></tr>\n",
       "<tr><td>547270</td><td>44.8699544543159</td><td>0.663876621631463</td><td>0.42131603</td><td>6.4570675</td><td>0.57810545</td><td>1.8470399</td><td>1.1422087</td></tr>\n",
       "<tr><td>159197</td><td>44.5028833930552</td><td>0.568088348356786</td><td>0.49044833</td><td>8.760569</td><td>0.6144782</td><td>1.4227391</td><td>1.0171106</td></tr>\n",
       "<tr><td>289819</td><td>44.578130865961</td><td>0.678715300744765</td><td>0.16148742</td><td>5.694319</td><td>0.56375235</td><td>1.0716895</td><td>1.0313417</td></tr>\n",
       "<tr><td>217579</td><td>44.7511202766408</td><td>0.79857086337459</td><td>0.12700407</td><td>8.2418995</td><td>0.6070234</td><td>1.6355398</td><td>1.0405343</td></tr>\n",
       "<tr><td>822113</td><td>44.4976936090464</td><td>0.72541556122261</td><td>0.5852238</td><td>5.8011036</td><td>0.56585103</td><td>1.5600871</td><td>0.99900776</td></tr>\n",
       "<tr><td>86261</td><td>44.5627101437473</td><td>0.788889255041787</td><td>0.4019028</td><td>11.445444</td><td>0.64822614</td><td>1.6827905</td><td>0.9999067</td></tr>\n",
       "<tr><td>...</td><td>...</td><td>...</td><td>...</td><td>...</td><td>...</td><td>...</td><td>...</td></tr>\n",
       "<tr><td>412740</td><td>314.243424720129</td><td>-39.7559580850459</td><td>0.4301647</td><td>9.477552</td><td>0.6242222</td><td>1.7080404</td><td>1.0298783</td></tr>\n",
       "<tr><td>30458</td><td>313.520384277795</td><td>-40.0800091013144</td><td>0.36988264</td><td>21.986631</td><td>0.73863816</td><td>2.378303</td><td>1.0231742</td></tr>\n",
       "<tr><td>160764</td><td>317.58980585987</td><td>-2.36797739412134</td><td>0.597496</td><td>7.90629</td><td>0.6019973</td><td>1.6119616</td><td>1.0464971</td></tr>\n",
       "<tr><td>164766</td><td>317.540564496651</td><td>-2.38608636794076</td><td>0.5901891</td><td>13.398081</td><td>0.6689729</td><td>2.5828948</td><td>1.1593075</td></tr>\n",
       "<tr><td>178119</td><td>317.284763877247</td><td>-2.37454783220211</td><td>0.50763935</td><td>9.706377</td><td>0.62720776</td><td>1.8084528</td><td>1.0393431</td></tr>\n",
       "<tr><td>155554</td><td>317.608089637927</td><td>-2.21503576658953</td><td>0.1796937</td><td>9.172453</td><td>0.6201505</td><td>1.5127156</td><td>1.016566</td></tr>\n",
       "<tr><td>40297</td><td>317.546918170394</td><td>-2.21243504428219</td><td>0.6202988</td><td>22.947695</td><td>0.74498546</td><td>2.8146403</td><td>1.0527219</td></tr>\n",
       "<tr><td>193996</td><td>317.071538868352</td><td>-2.13051223931812</td><td>0.12749836</td><td>7.5706806</td><td>0.59679747</td><td>1.7313769</td><td>1.1223553</td></tr>\n",
       "<tr><td>673570</td><td>317.255644257049</td><td>-2.08427443040052</td><td>0.61033654</td><td>5.587534</td><td>0.5616219</td><td>1.4067901</td><td>1.1159964</td></tr>\n",
       "<tr><td>73144</td><td>317.149470587426</td><td>-1.85485889467939</td><td>0.6073254</td><td>17.13555</td><td>0.70271564</td><td>2.3729715</td><td>1.0005416</td></tr>\n",
       "</table>"
      ],
      "text/plain": [
       "<Table length=256481>\n",
       "MEM_MATCH_ID        RA               DEC        ... LAMBDA_CHISQ_E  SCALEVAL \n",
       "   int32         float64           float64      ...    float32      float32  \n",
       "------------ ---------------- ----------------- ... -------------- ----------\n",
       "      432566  45.213325784218 0.413609510595717 ...      2.1175554  1.1410239\n",
       "        3562 44.8820710860101    0.289343366239 ...      2.8170002  1.0108446\n",
       "        5233 44.8811817440392 0.328352252722895 ...      2.8691561  1.0149995\n",
       "      407842 44.9093000971721 0.521576665208534 ...      1.2947567  1.0212231\n",
       "      547270 44.8699544543159 0.663876621631463 ...      1.8470399  1.1422087\n",
       "      159197 44.5028833930552 0.568088348356786 ...      1.4227391  1.0171106\n",
       "      289819  44.578130865961 0.678715300744765 ...      1.0716895  1.0313417\n",
       "      217579 44.7511202766408  0.79857086337459 ...      1.6355398  1.0405343\n",
       "      822113 44.4976936090464  0.72541556122261 ...      1.5600871 0.99900776\n",
       "       86261 44.5627101437473 0.788889255041787 ...      1.6827905  0.9999067\n",
       "         ...              ...               ... ...            ...        ...\n",
       "      412740 314.243424720129 -39.7559580850459 ...      1.7080404  1.0298783\n",
       "       30458 313.520384277795 -40.0800091013144 ...       2.378303  1.0231742\n",
       "      160764  317.58980585987 -2.36797739412134 ...      1.6119616  1.0464971\n",
       "      164766 317.540564496651 -2.38608636794076 ...      2.5828948  1.1593075\n",
       "      178119 317.284763877247 -2.37454783220211 ...      1.8084528  1.0393431\n",
       "      155554 317.608089637927 -2.21503576658953 ...      1.5127156   1.016566\n",
       "       40297 317.546918170394 -2.21243504428219 ...      2.8146403  1.0527219\n",
       "      193996 317.071538868352 -2.13051223931812 ...      1.7313769  1.1223553\n",
       "      673570 317.255644257049 -2.08427443040052 ...      1.4067901  1.1159964\n",
       "       73144 317.149470587426 -1.85485889467939 ...      2.3729715  1.0005416"
      ]
     },
     "execution_count": 24,
     "metadata": {},
     "output_type": "execute_result"
    }
   ],
   "source": [
    "data"
   ]
  },
  {
   "cell_type": "code",
   "execution_count": null,
   "metadata": {},
   "outputs": [],
   "source": []
  },
  {
   "cell_type": "code",
   "execution_count": null,
   "metadata": {},
   "outputs": [],
   "source": []
  },
  {
   "cell_type": "code",
   "execution_count": null,
   "metadata": {},
   "outputs": [],
   "source": []
  },
  {
   "cell_type": "markdown",
   "metadata": {},
   "source": [
    "## Visualize"
   ]
  },
  {
   "cell_type": "code",
   "execution_count": 25,
   "metadata": {},
   "outputs": [
    {
     "data": {
      "text/plain": [
       "Text(0,0.5,'N')"
      ]
     },
     "execution_count": 25,
     "metadata": {},
     "output_type": "execute_result"
    },
    {
     "data": {
      "image/png": "[encoded data removed]",
      "text/plain": [
       "<Figure size 432x288 with 1 Axes>"
      ]
     },
     "metadata": {},
     "output_type": "display_data"
    }
   ],
   "source": [
    "_ = plt.hist(zcls,bins=np.arange(0.1,0.8,0.05),histtype='step',lw=4)\n",
    "plt.axvline(0.6,ls='--',lw=3,color='gray')\n",
    "plt.xlabel('redshift',fontsize=18)\n",
    "plt.title('redMaPPer Y3: lgt5',fontsize=14)\n",
    "plt.ylabel('N',fontsize=16)"
   ]
  },
  {
   "cell_type": "code",
   "execution_count": null,
   "metadata": {},
   "outputs": [],
   "source": []
  },
  {
   "cell_type": "code",
   "execution_count": 26,
   "metadata": {},
   "outputs": [
    {
     "data": {
      "text/plain": [
       "Text(0.5,0,'$\\\\lambda$')"
      ]
     },
     "execution_count": 26,
     "metadata": {},
     "output_type": "execute_result"
    },
    {
     "data": {
      "image/png": "[encoded data removed]",
      "text/plain": [
       "<Figure size 432x288 with 1 Axes>"
      ]
     },
     "metadata": {},
     "output_type": "display_data"
    }
   ],
   "source": [
    "plt.hist(lbd,bins=np.logspace(np.log10(5),np.log10(200),21))\n",
    "plt.yscale('log')\n",
    "plt.xscale('log')\n",
    "plt.xlabel(r'$\\lambda$',fontsize=18)"
   ]
  },
  {
   "cell_type": "code",
   "execution_count": null,
   "metadata": {},
   "outputs": [],
   "source": []
  },
  {
   "cell_type": "code",
   "execution_count": 27,
   "metadata": {},
   "outputs": [],
   "source": [
    "def sky_plot(RA,DEC,ax=None,title=''):\n",
    "    if ax is None:\n",
    "        fig = plt.figure(figsize=(8,6))\n",
    "        ax = fig.add_subplot(111, projection=\"aitoff\")\n",
    "\n",
    "    ############################\n",
    "    #Codigo para plotar coordenadas de objetos na esfera celeste\n",
    "    #############################\n",
    "    import astropy.coordinates as coord\n",
    "    from astropy import units as u\n",
    "    \n",
    "    ra = coord.Angle(RA*u.degree)\n",
    "    ra = ra.wrap_at(180*u.degree)\n",
    "    dec = coord.Angle(DEC*u.degree)\n",
    "\n",
    "    ##############\n",
    "    #Plotando os objetos\n",
    "    #import astropy.coordinates as coord\n",
    "    ax.set_xticklabels(['14h','16h','18h','20h','22h','0h','2h','4h','6h','8h','10h'])\n",
    "    ax.grid(True)\n",
    "    ax.scatter(ra.radian, dec.radian, s=10, alpha=0.5)\n",
    "    ax.set_title(title,fontsize=20)\n",
    "    \n",
    "    plt.subplots_adjust(top=0.9,bottom=0.0)\n",
    "    # ax.set_xticklabels(['10h','8h','6h','4h','2h','0h','20h','18h','16h','14h','12h'])\n",
    "    \n",
    "    #fig.savefig(savefig, bbox_inches = \"tight\")\n",
    "    #plt.clf()\n",
    "    #plt.close()"
   ]
  },
  {
   "cell_type": "code",
   "execution_count": 28,
   "metadata": {},
   "outputs": [
    {
     "data": {
      "image/png": "[encoded data removed]",
      "text/plain": [
       "<Figure size 576x432 with 1 Axes>"
      ]
     },
     "metadata": {},
     "output_type": "display_data"
    }
   ],
   "source": [
    "sky_plot(ra,dec,title='All')"
   ]
  },
  {
   "cell_type": "code",
   "execution_count": 29,
   "metadata": {},
   "outputs": [
    {
     "data": {
      "image/png": "[encoded data removed]",
      "text/plain": [
       "<Figure size 432x288 with 1 Axes>"
      ]
     },
     "metadata": {},
     "output_type": "display_data"
    }
   ],
   "source": [
    "plt.hist(scale_v)\n",
    "plt.yscale('log')"
   ]
  },
  {
   "cell_type": "code",
   "execution_count": null,
   "metadata": {},
   "outputs": [],
   "source": [
    "\n"
   ]
  },
  {
   "cell_type": "code",
   "execution_count": null,
   "metadata": {},
   "outputs": [],
   "source": []
  },
  {
   "cell_type": "markdown",
   "metadata": {},
   "source": [
    "### Make Healpix Map"
   ]
  },
  {
   "cell_type": "code",
   "execution_count": 30,
   "metadata": {},
   "outputs": [],
   "source": [
    "import sys\n",
    "\n",
    "sys.path.append('../scripts/')\n",
    "\n",
    "from helper import radec_pix, make_hpx_map"
   ]
  },
  {
   "cell_type": "code",
   "execution_count": null,
   "metadata": {},
   "outputs": [],
   "source": []
  },
  {
   "cell_type": "code",
   "execution_count": 42,
   "metadata": {},
   "outputs": [],
   "source": [
    "rad2deg  = 180/np.pi\n",
    "rmax     = 8 #Mpc around each cluster\n",
    "Nside    = 8\n",
    "outdir   = '../data/'\n",
    "hpx_file = outdir+'hpxmap_nside%i_full.fits'%Nside"
   ]
  },
  {
   "cell_type": "code",
   "execution_count": 43,
   "metadata": {},
   "outputs": [],
   "source": [
    "hpx = radec_pix(ra,dec,nside=Nside)\n",
    "\n",
    "data['tile'] = hpx\n"
   ]
  },
  {
   "cell_type": "code",
   "execution_count": 54,
   "metadata": {},
   "outputs": [
    {
     "data": {
      "text/html": [
       "&lt;Column name=&apos;tile&apos; dtype=&apos;int64&apos; length=256481&gt;\n",
       "<table>\n",
       "<tr><td>0</td></tr>\n",
       "<tr><td>0</td></tr>\n",
       "<tr><td>0</td></tr>\n",
       "<tr><td>0</td></tr>\n",
       "<tr><td>0</td></tr>\n",
       "<tr><td>0</td></tr>\n",
       "<tr><td>0</td></tr>\n",
       "<tr><td>0</td></tr>\n",
       "<tr><td>0</td></tr>\n",
       "<tr><td>0</td></tr>\n",
       "<tr><td>0</td></tr>\n",
       "<tr><td>0</td></tr>\n",
       "<tr><td>...</td></tr>\n",
       "<tr><td>752</td></tr>\n",
       "<tr><td>752</td></tr>\n",
       "<tr><td>752</td></tr>\n",
       "<tr><td>752</td></tr>\n",
       "<tr><td>767</td></tr>\n",
       "<tr><td>767</td></tr>\n",
       "<tr><td>767</td></tr>\n",
       "<tr><td>767</td></tr>\n",
       "<tr><td>767</td></tr>\n",
       "<tr><td>767</td></tr>\n",
       "<tr><td>767</td></tr>\n",
       "<tr><td>767</td></tr>\n",
       "</table>"
      ],
      "text/plain": [
       "<Column name='tile' dtype='int64' length=256481>\n",
       "  0\n",
       "  0\n",
       "  0\n",
       "  0\n",
       "  0\n",
       "  0\n",
       "  0\n",
       "  0\n",
       "  0\n",
       "  0\n",
       "  0\n",
       "  0\n",
       "...\n",
       "752\n",
       "752\n",
       "752\n",
       "752\n",
       "767\n",
       "767\n",
       "767\n",
       "767\n",
       "767\n",
       "767\n",
       "767\n",
       "767"
      ]
     },
     "execution_count": 54,
     "metadata": {},
     "output_type": "execute_result"
    }
   ],
   "source": [
    "data['tile']"
   ]
  },
  {
   "cell_type": "code",
   "execution_count": null,
   "metadata": {},
   "outputs": [],
   "source": []
  },
  {
   "cell_type": "code",
   "execution_count": 44,
   "metadata": {},
   "outputs": [],
   "source": [
    "# r200   = cat['R200'][:]*0.7 ## Mpc\n",
    "# DA     = AngularDistance(np.array(cat['redshift']))\n",
    "# cat['rmax']  = 60*(float(rmax)/DA)*rad2deg ## arcmin"
   ]
  },
  {
   "cell_type": "code",
   "execution_count": 45,
   "metadata": {},
   "outputs": [
    {
     "name": "stdout",
     "output_type": "stream",
     "text": [
      "getting healpix map\n",
      "healpix map, nside 8\n",
      "-> ../data/hpxmap_nside8_full.fits\n"
     ]
    }
   ],
   "source": [
    "print('getting healpix map')\n",
    "\n",
    "hpx_map = make_hpx_map(ra,dec,Nside,hpx_file)\n",
    "hpx_values = np.array(hpx_map['hpx_value'])"
   ]
  },
  {
   "cell_type": "code",
   "execution_count": 46,
   "metadata": {},
   "outputs": [
    {
     "data": {
      "image/png": "[encoded data removed]",
      "text/plain": [
       "<Figure size 612x388.8 with 2 Axes>"
      ]
     },
     "metadata": {},
     "output_type": "display_data"
    }
   ],
   "source": [
    "import healpy as hp\n",
    "hp.mollview(hpx_values, nest=True, title=\"NSIDE = %i\"%Nside)"
   ]
  },
  {
   "cell_type": "code",
   "execution_count": 47,
   "metadata": {},
   "outputs": [
    {
     "name": "stdout",
     "output_type": "stream",
     "text": [
      "('# Tiles: ', 135)\n"
     ]
    }
   ],
   "source": [
    "print('# Tiles: ',np.count_nonzero(hpx_values>1))"
   ]
  },
  {
   "cell_type": "code",
   "execution_count": 48,
   "metadata": {},
   "outputs": [
    {
     "data": {
      "image/png": "[encoded data removed]",
      "text/plain": [
       "<Figure size 432x288 with 1 Axes>"
      ]
     },
     "metadata": {},
     "output_type": "display_data"
    }
   ],
   "source": [
    "_ = plt.hist(hpx_map[hpx_values>1]['hpx_value'],bins=np.logspace(np.log10(1),np.log10(7000),21))\n",
    "plt.xscale('log')"
   ]
  },
  {
   "cell_type": "code",
   "execution_count": 49,
   "metadata": {},
   "outputs": [
    {
     "data": {
      "text/html": [
       "&lt;Table length=135&gt;\n",
       "<table id=\"table140365966950096\" class=\"table-striped table-bordered table-condensed\">\n",
       "<thead><tr><th>hpx_pixel</th><th>hpx_value</th></tr></thead>\n",
       "<thead><tr><th>int64</th><th>float64</th></tr></thead>\n",
       "<tr><td>1</td><td>546.0</td></tr>\n",
       "<tr><td>3</td><td>3.0</td></tr>\n",
       "<tr><td>257</td><td>1534.0</td></tr>\n",
       "<tr><td>258</td><td>2312.0</td></tr>\n",
       "<tr><td>260</td><td>5.0</td></tr>\n",
       "<tr><td>261</td><td>2689.0</td></tr>\n",
       "<tr><td>262</td><td>2991.0</td></tr>\n",
       "<tr><td>263</td><td>69.0</td></tr>\n",
       "<tr><td>264</td><td>222.0</td></tr>\n",
       "<tr><td>270</td><td>235.0</td></tr>\n",
       "<tr><td>...</td><td>...</td></tr>\n",
       "<tr><td>729</td><td>2190.0</td></tr>\n",
       "<tr><td>730</td><td>1788.0</td></tr>\n",
       "<tr><td>731</td><td>1865.0</td></tr>\n",
       "<tr><td>732</td><td>144.0</td></tr>\n",
       "<tr><td>733</td><td>112.0</td></tr>\n",
       "<tr><td>738</td><td>5.0</td></tr>\n",
       "<tr><td>741</td><td>668.0</td></tr>\n",
       "<tr><td>742</td><td>1433.0</td></tr>\n",
       "<tr><td>753</td><td>59.0</td></tr>\n",
       "<tr><td>768</td><td>8.0</td></tr>\n",
       "</table>"
      ],
      "text/plain": [
       "<Table length=135>\n",
       "hpx_pixel hpx_value\n",
       "  int64    float64 \n",
       "--------- ---------\n",
       "        1     546.0\n",
       "        3       3.0\n",
       "      257    1534.0\n",
       "      258    2312.0\n",
       "      260       5.0\n",
       "      261    2689.0\n",
       "      262    2991.0\n",
       "      263      69.0\n",
       "      264     222.0\n",
       "      270     235.0\n",
       "      ...       ...\n",
       "      729    2190.0\n",
       "      730    1788.0\n",
       "      731    1865.0\n",
       "      732     144.0\n",
       "      733     112.0\n",
       "      738       5.0\n",
       "      741     668.0\n",
       "      742    1433.0\n",
       "      753      59.0\n",
       "      768       8.0"
      ]
     },
     "execution_count": 49,
     "metadata": {},
     "output_type": "execute_result"
    }
   ],
   "source": [
    "hpx_map[hpx_values>1]"
   ]
  },
  {
   "cell_type": "code",
   "execution_count": null,
   "metadata": {},
   "outputs": [],
   "source": []
  },
  {
   "cell_type": "code",
   "execution_count": 50,
   "metadata": {},
   "outputs": [
    {
     "data": {
      "text/plain": [
       "<matplotlib.collections.PathCollection at 0x7fa97f53bad0>"
      ]
     },
     "execution_count": 50,
     "metadata": {},
     "output_type": "execute_result"
    },
    {
     "data": {
      "image/png": "[encoded data removed]",
      "text/plain": [
       "<Figure size 432x288 with 1 Axes>"
      ]
     },
     "metadata": {},
     "output_type": "display_data"
    }
   ],
   "source": [
    "zmask = zgal<=0.8\n",
    "plt.scatter(zgal[zmask],mmag[zmask,2],s=10)"
   ]
  },
  {
   "cell_type": "code",
   "execution_count": 51,
   "metadata": {},
   "outputs": [
    {
     "data": {
      "text/plain": [
       "22.601225662231442"
      ]
     },
     "execution_count": 51,
     "metadata": {},
     "output_type": "execute_result"
    }
   ],
   "source": [
    "np.percentile(mmag[zmask,2],98)"
   ]
  },
  {
   "cell_type": "code",
   "execution_count": 52,
   "metadata": {},
   "outputs": [],
   "source": [
    "data.write(fname_out, overwrite=True, format='fits')"
   ]
  },
  {
   "cell_type": "code",
   "execution_count": null,
   "metadata": {},
   "outputs": [],
   "source": []
  },
  {
   "cell_type": "code",
   "execution_count": null,
   "metadata": {},
   "outputs": [],
   "source": []
  }
 ],
 "metadata": {
  "kernelspec": {
   "display_name": "Python 2",
   "language": "python",
   "name": "python2"
  },
  "language_info": {
   "codemirror_mode": {
    "name": "ipython",
    "version": 2
   },
   "file_extension": ".py",
   "mimetype": "text/x-python",
   "name": "python",
   "nbconvert_exporter": "python",
   "pygments_lexer": "ipython2",
   "version": "2.7.15"
  }
 },
 "nbformat": 4,
 "nbformat_minor": 4
}
