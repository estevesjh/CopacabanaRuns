{
 "cells": [
  {
   "cell_type": "markdown",
   "metadata": {},
   "source": [
    "# Get Galaxies From Halos\n",
    "\n",
    "info: https://cdcvs.fnal.gov/redmine/projects/des-clusters/wiki/ClustDataVecY3 <br>\n",
    "path: /data/des81.b/data/mariaeli/y3_buzz/Buzzard-3_v2.0_Y3a_mastercat/"
   ]
  },
  {
   "cell_type": "code",
   "execution_count": 1,
   "metadata": {},
   "outputs": [],
   "source": [
    "import matplotlib.pyplot as plt\n",
    "import numpy as np\n",
    "import os\n",
    "\n",
    "from astropy.table import Table, vstack, join\n",
    "from astropy.io.fits import getdata\n",
    "\n",
    "import pandas as pd\n",
    "\n",
    "import esutil"
   ]
  },
  {
   "cell_type": "code",
   "execution_count": 2,
   "metadata": {},
   "outputs": [
    {
     "name": "stdout",
     "output_type": "stream",
     "text": [
      "buzzard-1.9.8_3y3a_run_redmapper_v6.4.22.h5  readh5.py\r\n",
      "Buzzard-3_v1.9.8_Y3a_mastercat.h5\t     sompz_buzzard.h5\r\n",
      "Buzzard_v1.9.8_Y3a_bpz.h5\t\t     test_z_chat.png\r\n",
      "Buzzard_v1.9.8_Y3a_gold.h5\t\t     test_z.png\r\n",
      "Buzzard_v1.9.8_Y3a_shape.h5\t\t     Y3_GOLD_2_2_1_maps_copy.h5\r\n",
      "nohup.out\t\t\t\t     zs_lowhigh.png\r\n",
      "pdf_sompz.png\r\n"
     ]
    }
   ],
   "source": [
    "!ls /data/des81.b/data/mariaeli/y3_buzz/Buzzard-3_v1.9.8_Y3a_mastercat/"
   ]
  },
  {
   "cell_type": "code",
   "execution_count": null,
   "metadata": {},
   "outputs": [],
   "source": []
  },
  {
   "cell_type": "markdown",
   "metadata": {},
   "source": [
    "## Load"
   ]
  },
  {
   "cell_type": "code",
   "execution_count": 114,
   "metadata": {},
   "outputs": [],
   "source": [
    "import h5py\n",
    "\n",
    "path   = '/data/des81.b/data/mariaeli/y3_buzz/Buzzard-3_v1.9.8_Y3a_mastercat/'\n",
    "\n",
    "fname  =  path+'Buzzard_v1.9.8_Y3a_gold.h5'\n",
    "fname_aux = path+'Buzzard-3_v1.9.8_Y3a_mastercat.h5'\n",
    "\n",
    "# fname  =     path+'Buzzard_v1.9.8_Y3a_gold.h5'\n",
    "# fname_aux  = path+'Buzzard-3_v1.9.8_Y3a_mastercat.h5'\n",
    "\n",
    "master = h5py.File(fname,'r')\n",
    "indexes= h5py.File(fname_aux,'r')"
   ]
  },
  {
   "cell_type": "code",
   "execution_count": 115,
   "metadata": {},
   "outputs": [],
   "source": [
    "def show_h5_group(name,node):\n",
    "    ''' show all the h5 groups\n",
    "    Example:\n",
    "    fmaster = h5py.File(copa.master_fname,'r')\n",
    "    fmaster.visititems(show_h5_group)\n",
    "\n",
    "    ## https://stackoverflow.com/questions/45562169/traverse-hdf5-file-tree-and-continue-after-return\n",
    "    '''\n",
    "    if isinstance(node, h5py.Group):\n",
    "        print(name,node)\n",
    "    return None\n",
    "\n",
    "def show_h5_dataset(name,node):\n",
    "    if isinstance(node, h5py.Dataset):\n",
    "        print(name,node)\n",
    "    return None"
   ]
  },
  {
   "cell_type": "code",
   "execution_count": 116,
   "metadata": {},
   "outputs": [],
   "source": [
    "columns = ['hpix_16384','haloid','coadd_object_id','ra','dec','rhalo']\n",
    "columns+= ['mag_%s'%(ix) for ix in ['g','r','i','z']]\n",
    "columns+= ['mag_err_%s'%(ix) for ix in ['g','r','i','z']]"
   ]
  },
  {
   "cell_type": "code",
   "execution_count": 117,
   "metadata": {},
   "outputs": [
    {
     "data": {
      "text/plain": [
       "['hpix_16384',\n",
       " 'haloid',\n",
       " 'coadd_object_id',\n",
       " 'ra',\n",
       " 'dec',\n",
       " 'rhalo',\n",
       " 'mag_g',\n",
       " 'mag_r',\n",
       " 'mag_i',\n",
       " 'mag_z',\n",
       " 'mag_err_g',\n",
       " 'mag_err_r',\n",
       " 'mag_err_i',\n",
       " 'mag_err_z']"
      ]
     },
     "execution_count": 117,
     "metadata": {},
     "output_type": "execute_result"
    }
   ],
   "source": [
    "columns"
   ]
  },
  {
   "cell_type": "code",
   "execution_count": 118,
   "metadata": {},
   "outputs": [
    {
     "name": "stdout",
     "output_type": "stream",
     "text": [
      "(u'catalog/downsampled_dm/px', <HDF5 dataset \"px\": shape (128581096,), type \">f8\">)\n",
      "(u'catalog/downsampled_dm/py', <HDF5 dataset \"py\": shape (128581096,), type \">f8\">)\n",
      "(u'catalog/downsampled_dm/pz', <HDF5 dataset \"pz\": shape (128581096,), type \">f8\">)\n",
      "(u'catalog/downsampled_dm/vx', <HDF5 dataset \"vx\": shape (128581096,), type \">f8\">)\n",
      "(u'catalog/downsampled_dm/vy', <HDF5 dataset \"vy\": shape (128581096,), type \">f8\">)\n",
      "(u'catalog/downsampled_dm/vz', <HDF5 dataset \"vz\": shape (128581096,), type \">f8\">)\n",
      "(u'catalog/downsampled_dm/z_cos', <HDF5 dataset \"z_cos\": shape (128581096,), type \">f8\">)\n",
      "(u'catalog/sompz/unsheared/bhat', <HDF5 dataset \"bhat\": shape (1505017869,), type \">i8\">)\n",
      "(u'catalog/sompz/unsheared/chat', <HDF5 dataset \"chat\": shape (1505017869,), type \">i4\">)\n",
      "(u'catalog/sompz/unsheared/coadd_object_id', <HDF5 dataset \"coadd_object_id\": shape (1505017869,), type \"<i8\">)\n",
      "(u'catalog/dnf/unsheared/coadd_object_id', <HDF5 dataset \"coadd_object_id\": shape (1505017869,), type \"<i8\">)\n",
      "(u'catalog/dnf/unsheared/dec', <HDF5 dataset \"dec\": shape (1505017869,), type \">f8\">)\n",
      "(u'catalog/dnf/unsheared/mag_i', <HDF5 dataset \"mag_i\": shape (1505017869,), type \">f8\">)\n",
      "(u'catalog/dnf/unsheared/ra', <HDF5 dataset \"ra\": shape (1505017869,), type \">f8\">)\n",
      "(u'catalog/dnf/unsheared/z', <HDF5 dataset \"z\": shape (1505017869,), type \">f8\">)\n",
      "(u'catalog/dnf/unsheared/z_cos', <HDF5 dataset \"z_cos\": shape (1505017869,), type \">f8\">)\n",
      "(u'catalog/dnf/unsheared/z_mc', <HDF5 dataset \"z_mc\": shape (1505017869,), type \">f8\">)\n",
      "(u'catalog/dnf/unsheared/z_mean', <HDF5 dataset \"z_mean\": shape (1505017869,), type \">f8\">)\n",
      "(u'catalog/dnf/unsheared/z_sigma', <HDF5 dataset \"z_sigma\": shape (1505017869,), type \">f8\">)\n",
      "(u'index/bpz/match_gold', <HDF5 dataset \"match_gold\": shape (1505017869,), type \"<i8\">)\n",
      "(u'index/bpz/select', <HDF5 dataset \"select\": shape (1505017869,), type \"<i8\">)\n",
      "(u'index/catalog/maglim/select', <HDF5 dataset \"select\": shape (13438886,), type \"<i8\">)\n",
      "(u'index/coadd_object_id', <HDF5 dataset \"coadd_object_id\": shape (1505017869,), type \"<i8\">)\n",
      "(u'index/gold/select', <HDF5 dataset \"select\": shape (1505017869,), type \"<i8\">)\n",
      "(u'index/maglim/random_select', <HDF5 dataset \"random_select\": shape (250492120,), type \"<i8\">)\n",
      "(u'index/maglim/select', <HDF5 dataset \"select\": shape (12524606,), type \"<i8\">)\n",
      "(u'index/mask/fracgood', <HDF5 dataset \"fracgood\": shape (21007033,), type \"<i8\">)\n",
      "(u'index/mask/hpix', <HDF5 dataset \"hpix\": shape (21007033,), type \"<i8\">)\n",
      "(u'index/mask/maskfrac_est', <HDF5 dataset \"maskfrac_est\": shape (21007033,), type \"<i8\">)\n",
      "(u'index/mask/zmax', <HDF5 dataset \"zmax\": shape (21007033,), type \"<i8\">)\n",
      "(u'index/metacal/match_gold', <HDF5 dataset \"match_gold\": shape (1505017869,), type \"<i8\">)\n",
      "(u'index/randoms/maglim/select', <HDF5 dataset \"select\": shape (268777720,), type \"<i8\">)\n",
      "(u'index/redmagic/combined_sample_fid/match_gold', <HDF5 dataset \"match_gold\": shape (2672681,), type \"<i8\">)\n",
      "(u'index/redmagic/combined_sample_fid/random_select', <HDF5 dataset \"random_select\": shape (65656100,), type \"<i8\">)\n",
      "(u'index/redmagic/combined_sample_fid/select', <HDF5 dataset \"select\": shape (2672681,), type \"<i8\">)\n",
      "(u'index/redmagic/highdens/match_gold', <HDF5 dataset \"match_gold\": shape (2545499,), type \"<i8\">)\n",
      "(u'index/redmagic/highdens/random_select', <HDF5 dataset \"random_select\": shape (45939228,), type \"<i8\">)\n",
      "(u'index/redmagic/highdens/select', <HDF5 dataset \"select\": shape (2309097,), type \"<i8\">)\n",
      "(u'index/redmagic/higherlum/match_gold', <HDF5 dataset \"match_gold\": shape (528288,), type \"<i8\">)\n",
      "(u'index/redmagic/higherlum/random_select', <HDF5 dataset \"random_select\": shape (46161868,), type \"<i8\">)\n",
      "(u'index/redmagic/higherlum/select', <HDF5 dataset \"select\": shape (480430,), type \"<i8\">)\n",
      "(u'index/redmagic/highlum/match_gold', <HDF5 dataset \"match_gold\": shape (2045441,), type \"<i8\">)\n",
      "(u'index/redmagic/highlum/random_select', <HDF5 dataset \"random_select\": shape (46518449,), type \"<i8\">)\n",
      "(u'index/redmagic/highlum/select', <HDF5 dataset \"select\": shape (1878020,), type \"<i8\">)\n",
      "(u'index/select', <HDF5 dataset \"select\": shape (127166591,), type \"<i8\">)\n",
      "(u'masks/maglim/exptimes', <HDF5 dataset \"exptimes\": shape (22653917,), type \"|V40\">)\n",
      "(u'masks/maglim/fracgood', <HDF5 dataset \"fracgood\": shape (22653917,), type \"|V40\">)\n",
      "(u'masks/maglim/hpix', <HDF5 dataset \"hpix\": shape (22653917,), type \">i8\">)\n",
      "(u'masks/maglim/limmags', <HDF5 dataset \"limmags\": shape (22653917,), type \"|V40\">)\n",
      "(u'regions/catalog/gold/region', <HDF5 dataset \"region\": shape (1505017869,), type \"<i8\">)\n",
      "(u'regions/catalog/maglim/region', <HDF5 dataset \"region\": shape (12524606,), type \"<i8\">)\n",
      "(u'regions/catalog/metacal/unsheared/region', <HDF5 dataset \"region\": shape (1505017869,), type \"<i8\">)\n",
      "(u'regions/catalog/redmagic/combined_sample_fid/region', <HDF5 dataset \"region\": shape (2672681,), type \"<i8\">)\n",
      "(u'regions/catalog/redmapper/lgt20catalog/redmapper/lgt5randoms/redmapper/lgt20/region', <HDF5 dataset \"region\": shape (65656100,), type \"<i8\">)\n",
      "(u'regions/centers/dec', <HDF5 dataset \"dec\": shape (1000,), type \"<f8\">)\n",
      "(u'regions/centers/dist', <HDF5 dataset \"dist\": shape (1000,), type \"<f8\">)\n",
      "(u'regions/centers/number', <HDF5 dataset \"number\": shape (1,), type \">i8\">)\n",
      "(u'regions/centers/ra', <HDF5 dataset \"ra\": shape (1000,), type \"<f8\">)\n",
      "(u'regions/randoms/maglim/region', <HDF5 dataset \"region\": shape (250492120,), type \"<i8\">)\n",
      "(u'regions/randoms/redmagic/combined_sample_fid/region', <HDF5 dataset \"region\": shape (65656100,), type \"<i8\">)\n",
      "(u'regions/randoms/redmapper/lgt5/region', <HDF5 dataset \"region\": shape (65656100,), type \"<i8\">)\n"
     ]
    }
   ],
   "source": [
    "indexes.visititems(show_h5_dataset)"
   ]
  },
  {
   "cell_type": "code",
   "execution_count": 119,
   "metadata": {},
   "outputs": [
    {
     "name": "stdout",
     "output_type": "stream",
     "text": [
      "(u'catalog/gold/coadd_object_id', <HDF5 dataset \"coadd_object_id\": shape (1505017869,), type \">i8\">)\n",
      "(u'catalog/gold/dec', <HDF5 dataset \"dec\": shape (1505017869,), type \">f4\">)\n",
      "(u'catalog/gold/flags_gold', <HDF5 dataset \"flags_gold\": shape (1505017869,), type \">i8\">)\n",
      "(u'catalog/gold/flux_g', <HDF5 dataset \"flux_g\": shape (1505017869,), type \">f4\">)\n",
      "(u'catalog/gold/flux_i', <HDF5 dataset \"flux_i\": shape (1505017869,), type \">f4\">)\n",
      "(u'catalog/gold/flux_r', <HDF5 dataset \"flux_r\": shape (1505017869,), type \">f4\">)\n",
      "(u'catalog/gold/flux_z', <HDF5 dataset \"flux_z\": shape (1505017869,), type \">f4\">)\n",
      "(u'catalog/gold/haloid', <HDF5 dataset \"haloid\": shape (1505017869,), type \">i8\">)\n",
      "(u'catalog/gold/hpix_16384', <HDF5 dataset \"hpix_16384\": shape (1505017869,), type \">i8\">)\n",
      "(u'catalog/gold/ivar_g', <HDF5 dataset \"ivar_g\": shape (1505017869,), type \">f4\">)\n",
      "(u'catalog/gold/ivar_i', <HDF5 dataset \"ivar_i\": shape (1505017869,), type \">f4\">)\n",
      "(u'catalog/gold/ivar_r', <HDF5 dataset \"ivar_r\": shape (1505017869,), type \">f4\">)\n",
      "(u'catalog/gold/ivar_z', <HDF5 dataset \"ivar_z\": shape (1505017869,), type \">f4\">)\n",
      "(u'catalog/gold/m200', <HDF5 dataset \"m200\": shape (1505017869,), type \">f4\">)\n",
      "(u'catalog/gold/mag_err_g', <HDF5 dataset \"mag_err_g\": shape (1505017869,), type \">f4\">)\n",
      "(u'catalog/gold/mag_err_i', <HDF5 dataset \"mag_err_i\": shape (1505017869,), type \">f4\">)\n",
      "(u'catalog/gold/mag_err_r', <HDF5 dataset \"mag_err_r\": shape (1505017869,), type \">f4\">)\n",
      "(u'catalog/gold/mag_err_z', <HDF5 dataset \"mag_err_z\": shape (1505017869,), type \">f4\">)\n",
      "(u'catalog/gold/mag_g', <HDF5 dataset \"mag_g\": shape (1505017869,), type \">f4\">)\n",
      "(u'catalog/gold/mag_g_lensed', <HDF5 dataset \"mag_g_lensed\": shape (1505017869,), type \">f4\">)\n",
      "(u'catalog/gold/mag_g_true', <HDF5 dataset \"mag_g_true\": shape (1505017869,), type \">f4\">)\n",
      "(u'catalog/gold/mag_i', <HDF5 dataset \"mag_i\": shape (1505017869,), type \">f4\">)\n",
      "(u'catalog/gold/mag_i_lensed', <HDF5 dataset \"mag_i_lensed\": shape (1505017869,), type \">f4\">)\n",
      "(u'catalog/gold/mag_i_true', <HDF5 dataset \"mag_i_true\": shape (1505017869,), type \">f4\">)\n",
      "(u'catalog/gold/mag_r', <HDF5 dataset \"mag_r\": shape (1505017869,), type \">f4\">)\n",
      "(u'catalog/gold/mag_r_lensed', <HDF5 dataset \"mag_r_lensed\": shape (1505017869,), type \">f4\">)\n",
      "(u'catalog/gold/mag_r_true', <HDF5 dataset \"mag_r_true\": shape (1505017869,), type \">f4\">)\n",
      "(u'catalog/gold/mag_z', <HDF5 dataset \"mag_z\": shape (1505017869,), type \">f4\">)\n",
      "(u'catalog/gold/mag_z_lensed', <HDF5 dataset \"mag_z_lensed\": shape (1505017869,), type \">f4\">)\n",
      "(u'catalog/gold/mag_z_true', <HDF5 dataset \"mag_z_true\": shape (1505017869,), type \">f4\">)\n",
      "(u'catalog/gold/px', <HDF5 dataset \"px\": shape (1505017869,), type \">f4\">)\n",
      "(u'catalog/gold/py', <HDF5 dataset \"py\": shape (1505017869,), type \">f4\">)\n",
      "(u'catalog/gold/pz', <HDF5 dataset \"pz\": shape (1505017869,), type \">f4\">)\n",
      "(u'catalog/gold/r200', <HDF5 dataset \"r200\": shape (1505017869,), type \">f4\">)\n",
      "(u'catalog/gold/ra', <HDF5 dataset \"ra\": shape (1505017869,), type \">f4\">)\n",
      "(u'catalog/gold/rhalo', <HDF5 dataset \"rhalo\": shape (1505017869,), type \">f4\">)\n",
      "(u'catalog/gold/sdss_sedid', <HDF5 dataset \"sdss_sedid\": shape (1505017869,), type \">i8\">)\n",
      "(u'catalog/gold/vx', <HDF5 dataset \"vx\": shape (1505017869,), type \">f4\">)\n",
      "(u'catalog/gold/vy', <HDF5 dataset \"vy\": shape (1505017869,), type \">f4\">)\n",
      "(u'catalog/gold/vz', <HDF5 dataset \"vz\": shape (1505017869,), type \">f4\">)\n",
      "(u'masks/gold/hpix', <HDF5 dataset \"hpix\": shape (24711879,), type \"<i8\">)\n"
     ]
    }
   ],
   "source": [
    "master.visititems(show_h5_dataset)"
   ]
  },
  {
   "cell_type": "code",
   "execution_count": null,
   "metadata": {},
   "outputs": [],
   "source": []
  },
  {
   "cell_type": "code",
   "execution_count": 120,
   "metadata": {},
   "outputs": [],
   "source": [
    "select     = indexes['index/gold/select'][:]\n",
    "mag_i      = master['catalog/gold/mag_i'][:][select]\n",
    "maglim_idx = select[mag_i<=23.5]\n",
    "\n",
    "hpx16384   = master['catalog/gold/hpix_16384'][:][maglim_idx]\n",
    "ra         = master['catalog/gold/ra'][:][maglim_idx]\n",
    "dec        = master['catalog/gold/dec'][:][maglim_idx]\n",
    "select=mag_i=0\n",
    "\n",
    "master.close()\n",
    "indexes.close()"
   ]
  },
  {
   "cell_type": "code",
   "execution_count": 121,
   "metadata": {},
   "outputs": [],
   "source": [
    "select=mag_i=0"
   ]
  },
  {
   "cell_type": "code",
   "execution_count": 123,
   "metadata": {},
   "outputs": [],
   "source": [
    "hpx32 = radec_pix(ra,dec,nside=32)\n",
    "ra = dec = 0"
   ]
  },
  {
   "cell_type": "code",
   "execution_count": 122,
   "metadata": {},
   "outputs": [],
   "source": [
    "# indexes= h5py.File(fname_aux,'r')\n",
    "# dnf    = indexes['catalog/dnf/unsheared']\n",
    "\n",
    "# d_cid  = dnf['coadd_object_id'][:][maglim_idx]\n",
    "# d_z    = dnf['z'][:][maglim_idx]\n",
    "# d_zmean= dnf['z_mean'][:][maglim_idx]\n",
    "# d_sigma= dnf['z_sigma'][:][maglim_idx]\n",
    "\n",
    "# indexes.close()"
   ]
  },
  {
   "cell_type": "code",
   "execution_count": null,
   "metadata": {},
   "outputs": [],
   "source": []
  },
  {
   "cell_type": "markdown",
   "metadata": {},
   "source": [
    "## Load All Halos Catalog"
   ]
  },
  {
   "cell_type": "code",
   "execution_count": 6,
   "metadata": {},
   "outputs": [],
   "source": [
    "def read_halos(profile_output_fname, halo_run_fname):\n",
    "    ### read in profile file\n",
    "    data = Table(getdata(profile_output_fname))\n",
    "    data_h = Table(getdata(halo_run_fname))\n",
    "    \n",
    "    #### discard bad halos ####\n",
    "    cosi_all = data['cosi']\n",
    "    pid_all = data['pid']\n",
    "    redshift = data['redshift']\n",
    "    \n",
    "    select_good = (pid_all==-1)&(cosi_all>=0)&(cosi_all<=1)##&(self.lam_all > 3)\n",
    "    select_good = select_good & ((redshift < 0.33)|(redshift > 0.37))\n",
    "    \n",
    "    print('all vs good',len(cosi_all), len(cosi_all[select_good]))\n",
    "    data_h.rename_column('HALOID','haloid')\n",
    "    table = join(data_h,data[select_good],keys=['haloid'])\n",
    "    return table\n",
    "    #return data_h[select_good]\n"
   ]
  },
  {
   "cell_type": "code",
   "execution_count": 7,
   "metadata": {},
   "outputs": [
    {
     "name": "stdout",
     "output_type": "stream",
     "text": [
      "('all vs good', 1418121, 611205)\n"
     ]
    }
   ],
   "source": [
    "path_halo = '/data/des61.a/data/johnny/Buzzard/Buzzard_v2.0.0/y3_rm/halos/'\n",
    "profile_output_fname = path_halo+'buzzard-1.9.8_3y3a_run_halos_profiles.fit'\n",
    "halo_run_fname = path_halo + 'buzzard-1.9.8_3y3a_run_halos_lambda_chisq_mu_star.fit'\n",
    "cat = read_halos(profile_output_fname, halo_run_fname)"
   ]
  },
  {
   "cell_type": "code",
   "execution_count": 8,
   "metadata": {},
   "outputs": [
    {
     "data": {
      "text/html": [
       "&lt;Table length=611205&gt;\n",
       "<table id=\"table140235388917648\" class=\"table-striped table-bordered table-condensed\">\n",
       "<thead><tr><th>haloid</th><th>M200</th><th>R200</th><th>MEM_MATCH_ID</th><th>RA</th><th>DEC</th><th>Z</th><th>Z_COS</th><th>P_BCG</th><th>Z_LAMBDA</th><th>LAMBDA_CHISQ</th><th>LAMBDA_CHISQ_E</th><th>LAMBDA_CHISQ_ZORIG</th><th>SCALEVAL</th><th>LAMBDA_ZRED</th><th>LAMBDA_ZRED_E</th><th>MASKFRAC</th><th>GEOMASKFRAC</th><th>R_LAMBDA</th><th>R_MASK</th><th>Z_LAMBDA_E</th><th>NCROSS</th><th>Z_LAMBDA_NITER</th><th>DLAMBDA_DZ</th><th>DLAMBDA_DZ2</th><th>DLAMBDAVAR_DZ</th><th>DLAMBDAVAR_DZ2</th><th>C_LAMBDA [3]</th><th>C_LAMBDA_ERR [3]</th><th>MAG_LAMBDA_ERR [4]</th><th>PZBINS [21]</th><th>PZ [21]</th><th>Z_LAMBDA_RAW</th><th>Z_LAMBDA_E_RAW</th><th>BCG_SPEC_Z</th><th>LIM_EXPTIME</th><th>LIM_LIMMAG_DERED</th><th>LIM_LIMMAG</th><th>LIM_LIMMAG_HARD</th><th>MU_STAR</th><th>MU_STAR_ERR</th></tr></thead>\n",
       "<thead><tr><th>int32</th><th>float32</th><th>float32</th><th>int32</th><th>float64</th><th>float64</th><th>float32</th><th>float32</th><th>float32</th><th>float32</th><th>float32</th><th>float32</th><th>float32</th><th>float32</th><th>float32</th><th>float32</th><th>float32</th><th>float32</th><th>float32</th><th>float32</th><th>float32</th><th>int16</th><th>float32</th><th>float32</th><th>float32</th><th>float32</th><th>float32</th><th>float32</th><th>float32</th><th>float32</th><th>float32</th><th>float32</th><th>float32</th><th>float32</th><th>float32</th><th>float32</th><th>float32</th><th>float32</th><th>float32</th><th>float64</th><th>float64</th></tr></thead>\n",
       "<tr><td>28071743</td><td>1753000000000000.0</td><td>2.816534</td><td>1</td><td>88.80884013396891</td><td>-50.262235550542016</td><td>0.5024944</td><td>0.5019581</td><td>1.0</td><td>0.50945777</td><td>253.22153</td><td>15.210131</td><td>253.22153</td><td>1.4053752</td><td>237.1733</td><td>8.622578</td><td>0.2897115</td><td>0.0</td><td>1.2042042</td><td>1.8063064</td><td>0.0057233674</td><td>1</td><td>4.0</td><td>2.9008076</td><td>-254.58661</td><td>609.7683</td><td>-148690.5</td><td>1.7796425 .. 0.4215281</td><td>0.0036600137 .. 0.0008666022</td><td>0.0031856801 .. 0.0</td><td>0.476421 .. 0.54249454</td><td>9.9351e-07 .. 7.1293925e-06</td><td>0.5124967</td><td>0.0027980588</td><td>0.5024944</td><td>0.23819436</td><td>22.299175</td><td>22.380184</td><td>23.33665</td><td>1672.0224957355686</td><td>110.23730388311947</td></tr>\n",
       "<tr><td>23678793</td><td>1679000000000000.0</td><td>2.81333</td><td>2</td><td>23.29840546123235</td><td>-48.44989561089565</td><td>0.6013021</td><td>0.6012051</td><td>1.0</td><td>0.609486</td><td>120.61004</td><td>4.7899985</td><td>120.61004</td><td>1.0004824</td><td>109.09254</td><td>4.2743697</td><td>0.0037914691</td><td>0.0</td><td>1.0381896</td><td>1.5572845</td><td>0.01038751</td><td>1</td><td>4.0</td><td>3.0575368</td><td>-247.48804</td><td>85.62756</td><td>2412.1125</td><td>1.7344644 .. 0.45352885</td><td>0.009043927 .. 0.0015151707</td><td>0.0078032184 .. 0.0</td><td>0.5448282 .. 0.6741438</td><td>4.130248e-09 .. 2.3568227e-06</td><td>0.6103118</td><td>0.004122815</td><td>0.6013021</td><td>0.23004249</td><td>22.353476</td><td>22.353476</td><td>23.33665</td><td>1047.0755361743047</td><td>63.257348229151454</td></tr>\n",
       "<tr><td>10614640</td><td>1486000000000000.0</td><td>2.516284</td><td>3</td><td>44.60597389116831</td><td>-21.780018344104008</td><td>0.20896086</td><td>0.20856126</td><td>1.0</td><td>0.21832421</td><td>94.44776</td><td>3.413988</td><td>94.44776</td><td>1.0094346</td><td>90.49672</td><td>3.3979924</td><td>0.009304129</td><td>0.0</td><td>0.98864037</td><td>1.4829606</td><td>0.005637039</td><td>1</td><td>4.0</td><td>8.639716</td><td>-762.4042</td><td>134.01091</td><td>24962.08</td><td>1.2346263 .. 0.29544276</td><td>0.00021012798 .. 0.00016081314</td><td>0.00016488844 .. 0.0</td><td>0.18522075 .. 0.25142765</td><td>1.4470393e-06 .. 5.147953e-06</td><td>0.2175876</td><td>0.0022845494</td><td>0.20896086</td><td>0.20791717</td><td>22.272112</td><td>22.275915</td><td>23.33665</td><td>651.8111546060817</td><td>75.8330345091818</td></tr>\n",
       "<tr><td>7956425</td><td>1458000000000000.0</td><td>2.50216</td><td>4</td><td>2.477970845615653</td><td>-44.16350307064667</td><td>0.21276909</td><td>0.21166243</td><td>1.0</td><td>0.22133721</td><td>137.28372</td><td>5.296873</td><td>137.28372</td><td>1.0470065</td><td>120.97616</td><td>4.3726134</td><td>0.044220183</td><td>0.0</td><td>1.0654273</td><td>1.598141</td><td>0.0056554233</td><td>1</td><td>5.0</td><td>11.444193</td><td>-268.8058</td><td>288.20096</td><td>45940.684</td><td>1.2562428 .. 0.29496422</td><td>0.0003623307 .. 0.00019420154</td><td>0.00026630162 .. 0.0</td><td>0.18866085 .. 0.25401354</td><td>1.7268361e-06 .. 6.0348916e-06</td><td>0.22078896</td><td>0.0020385447</td><td>0.21276909</td><td>0.1972072</td><td>22.233889</td><td>22.235353</td><td>23.33665</td><td>719.8458777453137</td><td>65.35192062089597</td></tr>\n",
       "<tr><td>24190022</td><td>1416000000000000.0</td><td>2.605637</td><td>5</td><td>39.82420707022091</td><td>-3.2289402259594198</td><td>0.458008</td><td>0.45818168</td><td>1.0</td><td>0.45913547</td><td>78.76565</td><td>4.727117</td><td>78.76565</td><td>1.072548</td><td>72.45009</td><td>3.6225393</td><td>0.06621595</td><td>0.0</td><td>0.9533829</td><td>1.4300743</td><td>0.006758398</td><td>1</td><td>4.0</td><td>1.6130084</td><td>-274.20798</td><td>12.439761</td><td>9759.172</td><td>1.7421666 .. 0.37680212</td><td>0.0037016321 .. 0.0011452424</td><td>0.0031915389 .. 0.0</td><td>0.42096135 .. 0.4973096</td><td>2.228715e-05 .. 8.0003865e-06</td><td>0.4625593</td><td>0.0041526407</td><td>0.458008</td><td>0.18564984</td><td>22.189034</td><td>22.189034</td><td>23.33665</td><td>420.9524805812869</td><td>57.05762510241469</td></tr>\n",
       "<tr><td>9070039</td><td>1337000000000000.0</td><td>2.483305</td><td>6</td><td>4.964872816277086</td><td>-2.9157612461063422</td><td>0.2990278</td><td>0.30128115</td><td>1.0</td><td>0.30714697</td><td>101.69387</td><td>4.8888574</td><td>101.69387</td><td>1.0327345</td><td>76.73673</td><td>3.8667517</td><td>0.030917874</td><td>0.0</td><td>1.003365</td><td>1.5050476</td><td>0.011142764</td><td>1</td><td>6.0</td><td>6.978419</td><td>292.60257</td><td>140.94418</td><td>19538.986</td><td>1.4774399 .. 0.31006968</td><td>0.00081386394 .. 0.00033563084</td><td>0.0006268447 .. 0.0</td><td>0.24303262 .. 0.3712613</td><td>2.2089207e-06 .. 2.8825223e-06</td><td>0.31249398</td><td>0.0029736052</td><td>0.2990278</td><td>0.21303065</td><td>22.29455</td><td>22.29455</td><td>23.33665</td><td>337.4191906610196</td><td>67.59959651171334</td></tr>\n",
       "<tr><td>33317785</td><td>1272000000000000.0</td><td>2.542751</td><td>7</td><td>58.10583478990988</td><td>-25.11840495191221</td><td>0.5334603</td><td>0.5348591</td><td>1.0</td><td>0.54140323</td><td>191.36261</td><td>5.125682</td><td>191.36261</td><td>1.0100836</td><td>170.89044</td><td>4.744522</td><td>0.016117478</td><td>0.0</td><td>1.1386006</td><td>1.7079009</td><td>0.005924556</td><td>1</td><td>4.0</td><td>1.4444687</td><td>-88.227875</td><td>-451.64236</td><td>180920.77</td><td>1.745992 .. 0.42659995</td><td>0.0043001934 .. 0.0012847532</td><td>0.0036931175 .. 0.0</td><td>0.5075425 .. 0.57526404</td><td>3.7363068e-06 .. 5.391171e-06</td><td>0.5438729</td><td>0.0026321327</td><td>0.5334603</td><td>0.1599294</td><td>22.074654</td><td>22.074654</td><td>23.33665</td><td>1159.4822463921432</td><td>70.61853214636805</td></tr>\n",
       "<tr><td>15740570</td><td>1264000000000000.0</td><td>2.491634</td><td>8</td><td>314.08536028001015</td><td>-61.917868781531865</td><td>0.41568014</td><td>0.4153379</td><td>1.0</td><td>0.42089015</td><td>50.391396</td><td>3.5747201</td><td>50.391396</td><td>1.0152874</td><td>46.425102</td><td>2.797456</td><td>0.014991554</td><td>0.0</td><td>0.8719092</td><td>1.3078638</td><td>0.0100092925</td><td>1</td><td>3.0</td><td>4.7077794</td><td>243.79848</td><td>90.323395</td><td>-2838.409</td><td>1.7420421 .. 0.36341298</td><td>0.0030662515 .. 0.0006698522</td><td>0.0027791092 .. 0.0</td><td>0.36685193 .. 0.47492838</td><td>2.5251278e-05 .. 3.477522e-06</td><td>0.42457592</td><td>0.0058789724</td><td>0.41568014</td><td>0.20508866</td><td>22.26541</td><td>22.26541</td><td>23.33665</td><td>724.8912718184338</td><td>101.68262676117838</td></tr>\n",
       "<tr><td>12502745</td><td>1258000000000000.0</td><td>2.402336</td><td>9</td><td>76.89850088848532</td><td>-39.9638837198587</td><td>0.24627402</td><td>0.24517152</td><td>1.0</td><td>0.24004968</td><td>44.670776</td><td>3.4280634</td><td>44.670776</td><td>1.0198662</td><td>39.621384</td><td>3.0986147</td><td>0.019632949</td><td>0.0</td><td>0.85114723</td><td>1.2767209</td><td>0.0073497216</td><td>1</td><td>4.0</td><td>4.9767003</td><td>138.98627</td><td>76.31182</td><td>18073.346</td><td>1.3338538 .. 0.2877781</td><td>0.0003267286 .. 0.00020698128</td><td>0.00024448807 .. 0.0</td><td>0.19340956 .. 0.28668973</td><td>6.2803913e-09 .. 2.312157e-06</td><td>0.24090327</td><td>0.0036634046</td><td>0.24627402</td><td>0.22272389</td><td>22.328678</td><td>22.328678</td><td>23.33665</td><td>241.21145380452836</td><td>57.6356907380366</td></tr>\n",
       "<tr><td>10955803</td><td>1235000000000000.0</td><td>2.39566</td><td>10</td><td>23.54390908932607</td><td>-25.00203789343196</td><td>0.262655</td><td>0.259472</td><td>1.0</td><td>0.25728709</td><td>50.101547</td><td>3.572998</td><td>50.101547</td><td>1.0043172</td><td>42.88595</td><td>3.00755</td><td>0.005894737</td><td>0.0</td><td>0.8709039</td><td>1.3063558</td><td>0.008598843</td><td>1</td><td>3.0</td><td>1.9904042</td><td>-455.86765</td><td>64.569405</td><td>-5372.772</td><td>1.3766768 .. 0.28725427</td><td>0.00032173272 .. 0.00022024142</td><td>0.00026119014 .. 0.0</td><td>0.2049769 .. 0.30959725</td><td>1.2159328e-08 .. 2.9674704e-06</td><td>0.2596087</td><td>0.0039206548</td><td>0.262655</td><td>0.19728959</td><td>22.235674</td><td>22.235674</td><td>23.33665</td><td>510.4190000990947</td><td>49.38255324931737</td></tr>\n",
       "<tr><td>...</td><td>...</td><td>...</td><td>...</td><td>...</td><td>...</td><td>...</td><td>...</td><td>...</td><td>...</td><td>...</td><td>...</td><td>...</td><td>...</td><td>...</td><td>...</td><td>...</td><td>...</td><td>...</td><td>...</td><td>...</td><td>...</td><td>...</td><td>...</td><td>...</td><td>...</td><td>...</td><td>...</td><td>...</td><td>...</td><td>...</td><td>...</td><td>...</td><td>...</td><td>...</td><td>...</td><td>...</td><td>...</td><td>...</td><td>...</td><td>...</td></tr>\n",
       "<tr><td>7676821</td><td>10010000000000.0</td><td>0.472638</td><td>1418109</td><td>7.517085727354434</td><td>-63.84253582260274</td><td>0.18743554</td><td>0.18836674</td><td>1.0</td><td>0.0</td><td>-1.0</td><td>-1.0</td><td>0.0</td><td>-1.0</td><td>-1.0</td><td>-1.0</td><td>0.024105754</td><td>0.0</td><td>0.0</td><td>0.0</td><td>0.0</td><td>0</td><td>0.0</td><td>0.0</td><td>0.0</td><td>0.0</td><td>0.0</td><td>-1.0 .. -1.0</td><td>-1.0 .. -1.0</td><td>0.0 .. 0.0</td><td>0.0 .. 0.0</td><td>0.0 .. 0.0</td><td>0.0</td><td>0.0</td><td>-1.0</td><td>0.16553909</td><td>22.100578</td><td>22.101095</td><td>23.33665</td><td>7.555972588133023</td><td>0.0</td></tr>\n",
       "<tr><td>8035411</td><td>10010000000000.0</td><td>0.483087</td><td>1418110</td><td>9.965343373444155</td><td>-63.147117082975114</td><td>0.27530822</td><td>0.27532905</td><td>1.0</td><td>-1.0</td><td>-4.1230564</td><td>-1.0</td><td>4.1230564</td><td>-1.2140573</td><td>0.0</td><td>0.0</td><td>0.17401437</td><td>0.0</td><td>0.0</td><td>0.0</td><td>0.0</td><td>0</td><td>0.0</td><td>0.0</td><td>0.0</td><td>0.0</td><td>0.0</td><td>-1.0 .. -1.0</td><td>-1.0 .. -1.0</td><td>0.0009872661 .. 0.0</td><td>0.0 .. 0.0</td><td>0.0 .. 0.0</td><td>0.0</td><td>0.0</td><td>-1.0</td><td>0.1739884</td><td>22.114138</td><td>22.139277</td><td>23.33665</td><td>14.730215442466516</td><td>0.0</td></tr>\n",
       "<tr><td>8072819</td><td>10010000000000.0</td><td>0.487904</td><td>1418111</td><td>11.893278175453096</td><td>-64.01486499624653</td><td>0.31994605</td><td>0.32087806</td><td>1.0</td><td>0.0</td><td>-1.0</td><td>-1.0</td><td>0.0</td><td>-1.0</td><td>-1.0</td><td>-1.0</td><td>0.02916422</td><td>0.0</td><td>0.0</td><td>0.0</td><td>0.0</td><td>0</td><td>0.0</td><td>0.0</td><td>0.0</td><td>0.0</td><td>0.0</td><td>-1.0 .. -1.0</td><td>-1.0 .. -1.0</td><td>0.0 .. 0.0</td><td>0.0 .. 0.0</td><td>0.0 .. 0.0</td><td>0.0</td><td>0.0</td><td>-1.0</td><td>0.14685369</td><td>22.009233</td><td>22.009233</td><td>23.33665</td><td>73.41836157239312</td><td>16.407186814243616</td></tr>\n",
       "<tr><td>8054338</td><td>10010000000000.0</td><td>0.485356</td><td>1418112</td><td>11.830549350891589</td><td>-64.77280573650708</td><td>0.29678175</td><td>0.29629835</td><td>1.0</td><td>0.29641062</td><td>7.5859356</td><td>2.1503398</td><td>7.5859356</td><td>1.079597</td><td>6.640127</td><td>1.5960298</td><td>0.07545165</td><td>0.0</td><td>0.5970378</td><td>0.8955567</td><td>0.017861389</td><td>0</td><td>9.0</td><td>7.2718744</td><td>-375.27008</td><td>-15.020776</td><td>2353.0278</td><td>1.509023 .. 0.31483796</td><td>0.0005115075 .. 0.00030797423</td><td>0.00041295742 .. 0.0</td><td>0.13887781 .. 0.45394343</td><td>3.19464e-27 .. 1.178515e-06</td><td>0.30141696</td><td>0.014602664</td><td>-1.0</td><td>0.2019387</td><td>22.240088</td><td>22.253538</td><td>23.33665</td><td>49.24768327098696</td><td>7.100833131815998</td></tr>\n",
       "<tr><td>10486728</td><td>10010000000000.0</td><td>0.486219</td><td>1418113</td><td>25.406355114441382</td><td>-63.533449512242726</td><td>0.30532557</td><td>0.30450025</td><td>1.0</td><td>0.3088887</td><td>4.90106</td><td>1.2740185</td><td>4.90106</td><td>1.0073229</td><td>4.504431</td><td>1.1066316</td><td>0.007633588</td><td>0.0</td><td>0.54708904</td><td>0.82063353</td><td>0.017092573</td><td>0</td><td>4.0</td><td>1.8560514</td><td>493.0253</td><td>-11.726033</td><td>2242.7234</td><td>1.4848114 .. 0.3025426</td><td>0.00038899507 .. 0.00022659134</td><td>0.00030412525 .. 0.0</td><td>0.18012722 .. 0.4376502</td><td>1.9368484e-15 .. 2.05832e-06</td><td>0.3142732</td><td>0.013249254</td><td>-1.0</td><td>0.2629426</td><td>22.45539</td><td>22.456</td><td>23.33665</td><td>26.16131424879133</td><td>3.741639341406584</td></tr>\n",
       "<tr><td>10126922</td><td>10010000000000.0</td><td>0.47754</td><td>1418114</td><td>57.05003974587041</td><td>-63.47689037382165</td><td>0.22716399</td><td>0.22735538</td><td>1.0</td><td>0.0</td><td>-1.0</td><td>-1.0</td><td>0.0</td><td>-1.0</td><td>-1.0</td><td>-1.0</td><td>0.0075772293</td><td>0.0</td><td>0.0</td><td>0.0</td><td>0.0</td><td>0</td><td>0.0</td><td>0.0</td><td>0.0</td><td>0.0</td><td>0.0</td><td>-1.0 .. -1.0</td><td>-1.0 .. -1.0</td><td>0.0 .. 0.0</td><td>0.0 .. 0.0</td><td>0.0 .. 0.0</td><td>0.0</td><td>0.0</td><td>-1.0</td><td>0.17766641</td><td>22.155321</td><td>22.155321</td><td>23.33665</td><td>26.06399783049621</td><td>1.075871004341324</td></tr>\n",
       "<tr><td>5039316</td><td>10010000000000.0</td><td>0.484873</td><td>1418116</td><td>309.7860337346046</td><td>-64.74987089842477</td><td>0.29205993</td><td>0.29176152</td><td>1.0</td><td>0.0</td><td>-1.0</td><td>-1.0</td><td>0.0</td><td>-1.0</td><td>-1.0</td><td>-1.0</td><td>0.016686069</td><td>0.0</td><td>0.0</td><td>0.0</td><td>0.0</td><td>0</td><td>0.0</td><td>0.0</td><td>0.0</td><td>0.0</td><td>0.0</td><td>-1.0 .. -1.0</td><td>-1.0 .. -1.0</td><td>0.0 .. 0.0</td><td>0.0 .. 0.0</td><td>0.0 .. 0.0</td><td>0.0</td><td>0.0</td><td>-1.0</td><td>0.13478301</td><td>21.943449</td><td>21.943449</td><td>23.33665</td><td>25.37501163886035</td><td>0.9727760163567449</td></tr>\n",
       "<tr><td>7714637</td><td>10010000000000.0</td><td>0.480398</td><td>1418117</td><td>331.005469435667</td><td>-63.82991433197972</td><td>0.25091144</td><td>0.25152117</td><td>1.0</td><td>0.2653878</td><td>4.6112156</td><td>1.4551712</td><td>4.6112156</td><td>1.026138</td><td>4.1840763</td><td>1.0511086</td><td>0.026464466</td><td>0.0</td><td>0.5404594</td><td>0.8106891</td><td>0.01449491</td><td>0</td><td>4.0</td><td>-1.3189489</td><td>262.4822</td><td>-5.3051443</td><td>497.45956</td><td>1.4123435 .. 0.28802958</td><td>0.00023717881 .. 0.00012908074</td><td>0.00019076274 .. 0.0</td><td>0.17429882 .. 0.3564767</td><td>1.8152272e-13 .. 2.6479104e-06</td><td>0.2683874</td><td>0.011903451</td><td>-1.0</td><td>0.20470852</td><td>22.263987</td><td>22.263987</td><td>23.33665</td><td>30.959593784219194</td><td>8.07424588851055</td></tr>\n",
       "<tr><td>7752191</td><td>10010000000000.0</td><td>0.485875</td><td>1418119</td><td>336.7951369401009</td><td>-63.63944570159987</td><td>0.30195135</td><td>0.30121654</td><td>1.0</td><td>0.309326</td><td>9.736887</td><td>8.445986</td><td>9.736887</td><td>2.2095065</td><td>6.4723225</td><td>3.044863</td><td>0.5515505</td><td>0.0</td><td>0.62760156</td><td>0.9414023</td><td>0.015769795</td><td>0</td><td>3.0</td><td>7.6867285</td><td>-121.76461</td><td>1594.632</td><td>-22649.643</td><td>1.4098532 .. 0.30004078</td><td>0.00030456838 .. 0.00020414866</td><td>0.00022279951 .. 0.0</td><td>0.18816015 .. 0.43049183</td><td>1.8403627e-15 .. 1.9696602e-06</td><td>0.3147188</td><td>0.011478834</td><td>-1.0</td><td>0.23668922</td><td>22.294537</td><td>22.375322</td><td>23.33665</td><td>91.75617415337733</td><td>14.736080865409704</td></tr>\n",
       "<tr><td>10145929</td><td>10010000000000.0</td><td>0.482498</td><td>1418121</td><td>59.38725283234866</td><td>-65.31606862091837</td><td>0.26948398</td><td>0.27002072</td><td>1.0</td><td>0.25472358</td><td>3.9552517</td><td>1.160423</td><td>3.9552517</td><td>1.0106075</td><td>3.0246983</td><td>1.0036799</td><td>0.012319712</td><td>0.0</td><td>0.5241249</td><td>0.7861874</td><td>0.01572594</td><td>0</td><td>3.0</td><td>5.0053525</td><td>129.07614</td><td>18.188559</td><td>241.73503</td><td>1.3819785 .. 0.29493922</td><td>0.0002934002 .. 0.00023354759</td><td>0.00021529567 .. 0.0</td><td>0.15288983 .. 0.3565573</td><td>1.7350642e-15 .. 2.0626178e-06</td><td>0.25682583</td><td>0.0138456505</td><td>-1.0</td><td>0.17965417</td><td>22.162907</td><td>22.163855</td><td>23.33665</td><td>41.636182228975485</td><td>12.40976442345319</td></tr>\n",
       "</table>"
      ],
      "text/plain": [
       "<Table length=611205>\n",
       " haloid         M200          R200   ...      MU_STAR          MU_STAR_ERR    \n",
       " int32        float32       float32  ...      float64            float64      \n",
       "-------- ------------------ -------- ... ------------------ ------------------\n",
       "28071743 1753000000000000.0 2.816534 ... 1672.0224957355686 110.23730388311947\n",
       "23678793 1679000000000000.0  2.81333 ... 1047.0755361743047 63.257348229151454\n",
       "10614640 1486000000000000.0 2.516284 ...  651.8111546060817   75.8330345091818\n",
       " 7956425 1458000000000000.0  2.50216 ...  719.8458777453137  65.35192062089597\n",
       "24190022 1416000000000000.0 2.605637 ...  420.9524805812869  57.05762510241469\n",
       " 9070039 1337000000000000.0 2.483305 ...  337.4191906610196  67.59959651171334\n",
       "33317785 1272000000000000.0 2.542751 ... 1159.4822463921432  70.61853214636805\n",
       "15740570 1264000000000000.0 2.491634 ...  724.8912718184338 101.68262676117838\n",
       "12502745 1258000000000000.0 2.402336 ... 241.21145380452836   57.6356907380366\n",
       "10955803 1235000000000000.0  2.39566 ...  510.4190000990947  49.38255324931737\n",
       "     ...                ...      ... ...                ...                ...\n",
       " 7676821   10010000000000.0 0.472638 ...  7.555972588133023                0.0\n",
       " 8035411   10010000000000.0 0.483087 ... 14.730215442466516                0.0\n",
       " 8072819   10010000000000.0 0.487904 ...  73.41836157239312 16.407186814243616\n",
       " 8054338   10010000000000.0 0.485356 ...  49.24768327098696  7.100833131815998\n",
       "10486728   10010000000000.0 0.486219 ...  26.16131424879133  3.741639341406584\n",
       "10126922   10010000000000.0  0.47754 ...  26.06399783049621  1.075871004341324\n",
       " 5039316   10010000000000.0 0.484873 ...  25.37501163886035 0.9727760163567449\n",
       " 7714637   10010000000000.0 0.480398 ... 30.959593784219194   8.07424588851055\n",
       " 7752191   10010000000000.0 0.485875 ...  91.75617415337733 14.736080865409704\n",
       "10145929   10010000000000.0 0.482498 ... 41.636182228975485  12.40976442345319"
      ]
     },
     "execution_count": 8,
     "metadata": {},
     "output_type": "execute_result"
    }
   ],
   "source": [
    "cat"
   ]
  },
  {
   "cell_type": "code",
   "execution_count": null,
   "metadata": {},
   "outputs": [],
   "source": []
  },
  {
   "cell_type": "code",
   "execution_count": null,
   "metadata": {},
   "outputs": [],
   "source": []
  },
  {
   "cell_type": "code",
   "execution_count": null,
   "metadata": {},
   "outputs": [],
   "source": []
  },
  {
   "cell_type": "markdown",
   "metadata": {},
   "source": [
    "## Create Healpix Map"
   ]
  },
  {
   "cell_type": "code",
   "execution_count": 9,
   "metadata": {},
   "outputs": [],
   "source": [
    "import sys\n",
    "sys.path.append('/data/des61.a/data/johnny/DESY3/projects/buzzardAllHalos/CopacabanaRuns/selection/scripts/')\n",
    "from helper import AngularDistance,get_healpix_list,radec_pix"
   ]
  },
  {
   "cell_type": "code",
   "execution_count": 22,
   "metadata": {},
   "outputs": [],
   "source": [
    "rac = cat['RA']\n",
    "decc = cat['DEC']\n",
    "zcls = np.array(cat['Z_COS'])\n",
    "r200     = cat['R200'][:]*0.7 ## Mpc"
   ]
  },
  {
   "cell_type": "code",
   "execution_count": 13,
   "metadata": {},
   "outputs": [],
   "source": [
    "cluster_tile = radec_pix(rac,decc,nside=32)\n",
    "myfields = np.unique(cluster_tile)"
   ]
  },
  {
   "cell_type": "code",
   "execution_count": 14,
   "metadata": {},
   "outputs": [
    {
     "name": "stdout",
     "output_type": "stream",
     "text": [
      "Number of fields: 1698\n"
     ]
    }
   ],
   "source": [
    "print('Number of fields: %i'%len(myfields))"
   ]
  },
  {
   "cell_type": "code",
   "execution_count": 15,
   "metadata": {},
   "outputs": [],
   "source": [
    "cat['hpx32'] = cluster_tile"
   ]
  },
  {
   "cell_type": "code",
   "execution_count": 36,
   "metadata": {},
   "outputs": [],
   "source": [
    "Nside = 16384\n",
    "rad2deg  = 180/np.pi\n",
    "rmax     = 8 #Mpc around each cluster\n",
    "\n",
    "zvec = np.linspace(0.05,1.,100)\n",
    "DA_vec = AngularDistance(zvec)\n",
    "DA = np.interp(zcls,zvec,DA_vec)\n",
    "# DA       = AngularDistance(zcls)\n",
    "\n",
    "## compute the radii max\n",
    "cat['rmax']  = 60*(float(rmax)/DA)*rad2deg ## arcmin\n",
    "cat['DA'] = DA"
   ]
  },
  {
   "cell_type": "code",
   "execution_count": 35,
   "metadata": {},
   "outputs": [
    {
     "data": {
      "text/plain": [
       "Text(0.5,0,'Redshift')"
      ]
     },
     "execution_count": 35,
     "metadata": {},
     "output_type": "execute_result"
    },
    {
     "data": {
      "image/png": "[encoded data removed]",
      "text/plain": [
       "<Figure size 432x288 with 1 Axes>"
      ]
     },
     "metadata": {},
     "output_type": "display_data"
    }
   ],
   "source": [
    "plt.plot(zvec, DA_vec, 'k--')\n",
    "plt.scatter(zcls[::1000], DA[::1000], color='r')\n",
    "plt.ylabel('Angular Distance [Mpc]')\n",
    "plt.xlabel('Redshift')"
   ]
  },
  {
   "cell_type": "code",
   "execution_count": 37,
   "metadata": {},
   "outputs": [
    {
     "name": "stdout",
     "output_type": "stream",
     "text": [
      "Saving : /data/des61.a/data/johnny/Buzzard/Buzzard_v2.0.0/y3_rm/halos/buzzard-1.9.8_3y3a_run_halos_lambda_chisq_mu_star_hpx.fit\n"
     ]
    }
   ],
   "source": [
    "fname_out = halo_run_fname.split('.fit')[0]+'_hpx.fit'\n",
    "print('Saving : %s'%fname_out)\n",
    "cat.write(fname_out, format='fits', overwrite=True)"
   ]
  },
  {
   "cell_type": "code",
   "execution_count": null,
   "metadata": {},
   "outputs": [],
   "source": []
  },
  {
   "cell_type": "markdown",
   "metadata": {},
   "source": [
    "## Saving Each Field"
   ]
  },
  {
   "cell_type": "code",
   "execution_count": 132,
   "metadata": {},
   "outputs": [],
   "source": [
    "outdir = '/data/des61.a/data/johnny/Buzzard/Buzzard-3_v1.9.8_Y3a/catalog/y3/'\n",
    "outfile_base = outdir+'buzzard_y3_v1.9.8_all_raw_hpx8_{:06d}.hdf'"
   ]
  },
  {
   "cell_type": "code",
   "execution_count": 133,
   "metadata": {},
   "outputs": [
    {
     "data": {
      "text/plain": [
       "'/data/des61.a/data/johnny/Buzzard/Buzzard-3_v1.9.8_Y3a/catalog/y3/buzzard_y3_v1.9.8_all_raw_hpx8_00031.hdf'"
      ]
     },
     "execution_count": 133,
     "metadata": {},
     "output_type": "execute_result"
    }
   ],
   "source": [
    "outfile_base.format(31)"
   ]
  },
  {
   "cell_type": "markdown",
   "metadata": {
    "tags": []
   },
   "source": [
    "### Retrieving Galaxy Catalogs"
   ]
  },
  {
   "cell_type": "code",
   "execution_count": 134,
   "metadata": {},
   "outputs": [],
   "source": [
    "def save_hdf5_output(gal,outfile):\n",
    "    df  = gal.to_pandas()\n",
    "    df.to_hdf(outfile, key='members', mode='w')\n",
    "\n",
    "    gal = 0"
   ]
  },
  {
   "cell_type": "code",
   "execution_count": 135,
   "metadata": {},
   "outputs": [],
   "source": [
    "def load_hdf_files(infile,indices,columns,path='catalog/gold/'):\n",
    "    master = h5py.File(infile,'r')\n",
    "    gold   = master[path]\n",
    "    \n",
    "    mydict = dict().fromkeys(columns)\n",
    "    \n",
    "    mydict['id'] = indices\n",
    "    for col in columns:\n",
    "        mydict[col] = gold[col][:][indices]\n",
    "    \n",
    "    master.close()\n",
    "    return Table(mydict)"
   ]
  },
  {
   "cell_type": "code",
   "execution_count": null,
   "metadata": {},
   "outputs": [],
   "source": []
  },
  {
   "cell_type": "markdown",
   "metadata": {},
   "source": [
    "## Retrieve Second Method"
   ]
  },
  {
   "cell_type": "code",
   "execution_count": 136,
   "metadata": {},
   "outputs": [],
   "source": [
    "idx = np.random.randint(len(myfields),size=3)\n",
    "myfields = myfields[idx] # for test purposes only\n",
    "array_path = outdir+'tmp/'"
   ]
  },
  {
   "cell_type": "code",
   "execution_count": null,
   "metadata": {},
   "outputs": [],
   "source": []
  },
  {
   "cell_type": "code",
   "execution_count": 94,
   "metadata": {},
   "outputs": [],
   "source": [
    "from time import time"
   ]
  },
  {
   "cell_type": "code",
   "execution_count": 137,
   "metadata": {},
   "outputs": [
    {
     "name": "stdout",
     "output_type": "stream",
     "text": [
      "Starting Query\n",
      "start tile: 11388\n",
      "Number Of Clusters: 442\n",
      "Circles: done\n",
      "/data/des61.a/data/johnny/Buzzard/Buzzard-3_v1.9.8_Y3a/catalog/y3/tmp/011388_indices_arr.npy\n",
      "partial time: 0.09 min\n",
      "run time    : 0.09 min\n",
      "\n",
      "\n",
      "start tile: 11712\n",
      "Number Of Clusters: 361\n",
      "Circles: done\n",
      "/data/des61.a/data/johnny/Buzzard/Buzzard-3_v1.9.8_Y3a/catalog/y3/tmp/011712_indices_arr.npy\n",
      "partial time: 0.08 min\n",
      "run time    : 0.16 min\n",
      "\n",
      "\n",
      "start tile: 4101\n",
      "Number Of Clusters: 373\n",
      "Circles: done\n",
      "/data/des61.a/data/johnny/Buzzard/Buzzard-3_v1.9.8_Y3a/catalog/y3/tmp/004101_indices_arr.npy\n",
      "partial time: 0.11 min\n",
      "run time    : 0.27 min\n",
      "\n",
      "\n"
     ]
    }
   ],
   "source": [
    "print('Starting Query')\n",
    "t0 = time()\n",
    "time_evolution = np.empty((len(myfields)+1,),dtype=np.float64)\n",
    "time_evolution[0] = t0\n",
    "\n",
    "for i, tile in enumerate(myfields[:3]):\n",
    "    print('start tile: %i'%(tile))\n",
    "    w      = esutil.numpy_util.where1(cluster_tile==tile)\n",
    "    print('Number Of Clusters: %i'%(w.size))\n",
    "    \n",
    "    circles = np.append(hp.get_all_neighbours(32, tile, nest=True),tile)\n",
    "    #circles= get_healpix_list(cat[w],nside=Nside)\n",
    "    print('Circles: done')\n",
    "    \n",
    "    #match  = esutil.numpy_util.match(circles,hpx16384)\n",
    "    match  = esutil.numpy_util.match(circles,hpx32)\n",
    "    indices= maglim_idx[match[1]]\n",
    "    \n",
    "    np.save('{}{:06d}_indices_arr.npy'.format(array_path, tile), indices)\n",
    "    print('{}{:06d}_indices_arr.npy'.format(array_path, tile))\n",
    "\n",
    "    time_evolution[i+1] = time()\n",
    "    print('partial time: %.2f min'%((time_evolution[i+1]-time_evolution[i])/60.))\n",
    "    print('run time    : %.2f min'%((time_evolution[i+1]-time_evolution[0])/60.))\n",
    "    print('\\n')\n"
   ]
  },
  {
   "cell_type": "code",
   "execution_count": 161,
   "metadata": {},
   "outputs": [
    {
     "data": {
      "text/plain": [
       "8"
      ]
     },
     "execution_count": 161,
     "metadata": {},
     "output_type": "execute_result"
    }
   ],
   "source": [
    "16*2000/3600"
   ]
  },
  {
   "cell_type": "code",
   "execution_count": null,
   "metadata": {},
   "outputs": [],
   "source": []
  },
  {
   "cell_type": "code",
   "execution_count": 164,
   "metadata": {},
   "outputs": [
    {
     "name": "stdout",
     "output_type": "stream",
     "text": [
      "Retrieve Columns\n",
      "hpix_16384\n",
      "/data/des61.a/data/johnny/Buzzard/Buzzard-3_v1.9.8_Y3a/catalog/y3/tmp/011388_hpix_16384_arr.npy\n",
      "/data/des61.a/data/johnny/Buzzard/Buzzard-3_v1.9.8_Y3a/catalog/y3/tmp/011712_hpix_16384_arr.npy\n",
      "/data/des61.a/data/johnny/Buzzard/Buzzard-3_v1.9.8_Y3a/catalog/y3/tmp/004101_hpix_16384_arr.npy\n",
      "\n",
      "\n",
      "haloid\n",
      "/data/des61.a/data/johnny/Buzzard/Buzzard-3_v1.9.8_Y3a/catalog/y3/tmp/011388_haloid_arr.npy\n",
      "/data/des61.a/data/johnny/Buzzard/Buzzard-3_v1.9.8_Y3a/catalog/y3/tmp/011712_haloid_arr.npy\n",
      "/data/des61.a/data/johnny/Buzzard/Buzzard-3_v1.9.8_Y3a/catalog/y3/tmp/004101_haloid_arr.npy\n",
      "\n",
      "\n",
      "coadd_object_id\n",
      "/data/des61.a/data/johnny/Buzzard/Buzzard-3_v1.9.8_Y3a/catalog/y3/tmp/011388_coadd_object_id_arr.npy\n",
      "/data/des61.a/data/johnny/Buzzard/Buzzard-3_v1.9.8_Y3a/catalog/y3/tmp/011712_coadd_object_id_arr.npy\n",
      "/data/des61.a/data/johnny/Buzzard/Buzzard-3_v1.9.8_Y3a/catalog/y3/tmp/004101_coadd_object_id_arr.npy\n",
      "\n",
      "\n",
      "ra\n",
      "/data/des61.a/data/johnny/Buzzard/Buzzard-3_v1.9.8_Y3a/catalog/y3/tmp/011388_ra_arr.npy\n",
      "/data/des61.a/data/johnny/Buzzard/Buzzard-3_v1.9.8_Y3a/catalog/y3/tmp/011712_ra_arr.npy\n",
      "/data/des61.a/data/johnny/Buzzard/Buzzard-3_v1.9.8_Y3a/catalog/y3/tmp/004101_ra_arr.npy\n",
      "\n",
      "\n",
      "dec\n",
      "/data/des61.a/data/johnny/Buzzard/Buzzard-3_v1.9.8_Y3a/catalog/y3/tmp/011388_dec_arr.npy\n",
      "/data/des61.a/data/johnny/Buzzard/Buzzard-3_v1.9.8_Y3a/catalog/y3/tmp/011712_dec_arr.npy\n",
      "/data/des61.a/data/johnny/Buzzard/Buzzard-3_v1.9.8_Y3a/catalog/y3/tmp/004101_dec_arr.npy\n",
      "\n",
      "\n",
      "rhalo\n",
      "/data/des61.a/data/johnny/Buzzard/Buzzard-3_v1.9.8_Y3a/catalog/y3/tmp/011388_rhalo_arr.npy\n",
      "/data/des61.a/data/johnny/Buzzard/Buzzard-3_v1.9.8_Y3a/catalog/y3/tmp/011712_rhalo_arr.npy\n",
      "/data/des61.a/data/johnny/Buzzard/Buzzard-3_v1.9.8_Y3a/catalog/y3/tmp/004101_rhalo_arr.npy\n",
      "\n",
      "\n",
      "mag_g\n",
      "/data/des61.a/data/johnny/Buzzard/Buzzard-3_v1.9.8_Y3a/catalog/y3/tmp/011388_mag_g_arr.npy\n",
      "/data/des61.a/data/johnny/Buzzard/Buzzard-3_v1.9.8_Y3a/catalog/y3/tmp/011712_mag_g_arr.npy\n",
      "/data/des61.a/data/johnny/Buzzard/Buzzard-3_v1.9.8_Y3a/catalog/y3/tmp/004101_mag_g_arr.npy\n",
      "\n",
      "\n",
      "mag_r\n",
      "/data/des61.a/data/johnny/Buzzard/Buzzard-3_v1.9.8_Y3a/catalog/y3/tmp/011388_mag_r_arr.npy\n",
      "/data/des61.a/data/johnny/Buzzard/Buzzard-3_v1.9.8_Y3a/catalog/y3/tmp/011712_mag_r_arr.npy\n",
      "/data/des61.a/data/johnny/Buzzard/Buzzard-3_v1.9.8_Y3a/catalog/y3/tmp/004101_mag_r_arr.npy\n",
      "\n",
      "\n",
      "mag_i\n",
      "/data/des61.a/data/johnny/Buzzard/Buzzard-3_v1.9.8_Y3a/catalog/y3/tmp/011388_mag_i_arr.npy\n",
      "/data/des61.a/data/johnny/Buzzard/Buzzard-3_v1.9.8_Y3a/catalog/y3/tmp/011712_mag_i_arr.npy\n",
      "/data/des61.a/data/johnny/Buzzard/Buzzard-3_v1.9.8_Y3a/catalog/y3/tmp/004101_mag_i_arr.npy\n",
      "\n",
      "\n",
      "mag_z\n",
      "/data/des61.a/data/johnny/Buzzard/Buzzard-3_v1.9.8_Y3a/catalog/y3/tmp/011388_mag_z_arr.npy\n",
      "/data/des61.a/data/johnny/Buzzard/Buzzard-3_v1.9.8_Y3a/catalog/y3/tmp/011712_mag_z_arr.npy\n",
      "/data/des61.a/data/johnny/Buzzard/Buzzard-3_v1.9.8_Y3a/catalog/y3/tmp/004101_mag_z_arr.npy\n",
      "\n",
      "\n",
      "mag_err_g\n",
      "/data/des61.a/data/johnny/Buzzard/Buzzard-3_v1.9.8_Y3a/catalog/y3/tmp/011388_mag_err_g_arr.npy\n",
      "/data/des61.a/data/johnny/Buzzard/Buzzard-3_v1.9.8_Y3a/catalog/y3/tmp/011712_mag_err_g_arr.npy\n",
      "/data/des61.a/data/johnny/Buzzard/Buzzard-3_v1.9.8_Y3a/catalog/y3/tmp/004101_mag_err_g_arr.npy\n",
      "\n",
      "\n",
      "mag_err_r\n",
      "/data/des61.a/data/johnny/Buzzard/Buzzard-3_v1.9.8_Y3a/catalog/y3/tmp/011388_mag_err_r_arr.npy\n",
      "/data/des61.a/data/johnny/Buzzard/Buzzard-3_v1.9.8_Y3a/catalog/y3/tmp/011712_mag_err_r_arr.npy\n",
      "/data/des61.a/data/johnny/Buzzard/Buzzard-3_v1.9.8_Y3a/catalog/y3/tmp/004101_mag_err_r_arr.npy\n",
      "\n",
      "\n",
      "mag_err_i\n",
      "/data/des61.a/data/johnny/Buzzard/Buzzard-3_v1.9.8_Y3a/catalog/y3/tmp/011388_mag_err_i_arr.npy\n",
      "/data/des61.a/data/johnny/Buzzard/Buzzard-3_v1.9.8_Y3a/catalog/y3/tmp/011712_mag_err_i_arr.npy\n",
      "/data/des61.a/data/johnny/Buzzard/Buzzard-3_v1.9.8_Y3a/catalog/y3/tmp/004101_mag_err_i_arr.npy\n",
      "\n",
      "\n",
      "mag_err_z\n",
      "/data/des61.a/data/johnny/Buzzard/Buzzard-3_v1.9.8_Y3a/catalog/y3/tmp/011388_mag_err_z_arr.npy\n",
      "/data/des61.a/data/johnny/Buzzard/Buzzard-3_v1.9.8_Y3a/catalog/y3/tmp/011712_mag_err_z_arr.npy\n",
      "/data/des61.a/data/johnny/Buzzard/Buzzard-3_v1.9.8_Y3a/catalog/y3/tmp/004101_mag_err_z_arr.npy\n",
      "\n",
      "\n"
     ]
    }
   ],
   "source": [
    "print('Retrieve Columns')\n",
    "indices = hpx16384 = 0\n",
    "\n",
    "master = h5py.File(fname,'r')\n",
    "gold   = master['catalog/gold/']\n",
    "for col in columns:\n",
    "    print(col)\n",
    "    array = gold[col][:]\n",
    "    for tile in myfields[:3]:\n",
    "        indices = np.load('{}{:06d}_indices_arr.npy'.format(array_path, tile))\n",
    "        sub_array = array[indices]\n",
    "        np.save('{}{:06d}_{}_arr.npy'.format(array_path, tile, col), sub_array)\n",
    "        print('{}{:06d}_{}_arr.npy'.format(array_path, tile, col))\n",
    "        sub_array = 0\n",
    "    array = 0\n",
    "    print('\\n')\n",
    "master.close()"
   ]
  },
  {
   "cell_type": "code",
   "execution_count": null,
   "metadata": {},
   "outputs": [],
   "source": []
  },
  {
   "cell_type": "code",
   "execution_count": 165,
   "metadata": {},
   "outputs": [],
   "source": [
    "pz_columns = ['z_mean','z_sigma']"
   ]
  },
  {
   "cell_type": "code",
   "execution_count": 166,
   "metadata": {},
   "outputs": [
    {
     "name": "stdout",
     "output_type": "stream",
     "text": [
      "Retrieve Photoz Columns\n",
      "z_mean\n",
      "/data/des61.a/data/johnny/Buzzard/Buzzard-3_v1.9.8_Y3a/catalog/y3/tmp/011388_z_mean_dnf_arr.npy\n",
      "/data/des61.a/data/johnny/Buzzard/Buzzard-3_v1.9.8_Y3a/catalog/y3/tmp/011712_z_mean_dnf_arr.npy\n",
      "/data/des61.a/data/johnny/Buzzard/Buzzard-3_v1.9.8_Y3a/catalog/y3/tmp/004101_z_mean_dnf_arr.npy\n",
      "\n",
      "\n",
      "z_sigma\n",
      "/data/des61.a/data/johnny/Buzzard/Buzzard-3_v1.9.8_Y3a/catalog/y3/tmp/011388_z_sigma_dnf_arr.npy\n",
      "/data/des61.a/data/johnny/Buzzard/Buzzard-3_v1.9.8_Y3a/catalog/y3/tmp/011712_z_sigma_dnf_arr.npy\n",
      "/data/des61.a/data/johnny/Buzzard/Buzzard-3_v1.9.8_Y3a/catalog/y3/tmp/004101_z_sigma_dnf_arr.npy\n",
      "\n",
      "\n"
     ]
    }
   ],
   "source": [
    "print('Retrieve Photoz Columns')\n",
    "\n",
    "master = h5py.File(fname_aux,'r')\n",
    "gold   = master['catalog/dnf/unsheared/']\n",
    "for col in pz_columns:\n",
    "    print(col)\n",
    "    array = gold[col][:]\n",
    "    for tile in myfields[:3]:\n",
    "        indices = np.load('{}{:06d}_indices_arr.npy'.format(array_path, tile))\n",
    "        sub_array = array[indices]\n",
    "        np.save('{}{:06d}_{}_arr.npy'.format(array_path, tile, col+'_dnf'), sub_array)\n",
    "        print('{}{:06d}_{}_arr.npy'.format(array_path, tile, col+'_dnf'))\n",
    "        sub_array = 0\n",
    "    array = 0\n",
    "    print('\\n')\n",
    "master.close()"
   ]
  },
  {
   "cell_type": "code",
   "execution_count": 217,
   "metadata": {},
   "outputs": [
    {
     "name": "stdout",
     "output_type": "stream",
     "text": [
      "Retrieve Photoz-BPZ Columns\n",
      "z\n",
      "/data/des61.a/data/johnny/Buzzard/Buzzard-3_v1.9.8_Y3a/catalog/y3/tmp/011388_z_bpz_arr.npy\n",
      "/data/des61.a/data/johnny/Buzzard/Buzzard-3_v1.9.8_Y3a/catalog/y3/tmp/011712_z_bpz_arr.npy\n",
      "/data/des61.a/data/johnny/Buzzard/Buzzard-3_v1.9.8_Y3a/catalog/y3/tmp/004101_z_bpz_arr.npy\n",
      "\n",
      "\n",
      "redshift_cos\n",
      "/data/des61.a/data/johnny/Buzzard/Buzzard-3_v1.9.8_Y3a/catalog/y3/tmp/011388_redshift_cos_bpz_arr.npy\n",
      "/data/des61.a/data/johnny/Buzzard/Buzzard-3_v1.9.8_Y3a/catalog/y3/tmp/011712_redshift_cos_bpz_arr.npy\n",
      "/data/des61.a/data/johnny/Buzzard/Buzzard-3_v1.9.8_Y3a/catalog/y3/tmp/004101_redshift_cos_bpz_arr.npy\n",
      "\n",
      "\n",
      "coadd_object_id\n",
      "/data/des61.a/data/johnny/Buzzard/Buzzard-3_v1.9.8_Y3a/catalog/y3/tmp/011388_coadd_object_id_bpz_arr.npy\n",
      "/data/des61.a/data/johnny/Buzzard/Buzzard-3_v1.9.8_Y3a/catalog/y3/tmp/011712_coadd_object_id_bpz_arr.npy\n",
      "/data/des61.a/data/johnny/Buzzard/Buzzard-3_v1.9.8_Y3a/catalog/y3/tmp/004101_coadd_object_id_bpz_arr.npy\n",
      "\n",
      "\n"
     ]
    }
   ],
   "source": [
    "print('Retrieve Photoz-BPZ Columns')\n",
    "bpz_columns = ['z','redshift_cos','coadd_object_id']\n",
    "\n",
    "fname  = path+'Buzzard_v1.9.8_Y3a_bpz.h5'\n",
    "master = h5py.File(fname,'r')\n",
    "gold   = master['catalog/bpz']\n",
    "#gold.visititems(show_h5_dataset)\n",
    "for col in bpz_columns:\n",
    "    print(col)\n",
    "    array = gold[col][:]\n",
    "    for tile in myfields[:3]:\n",
    "        indices = np.load('{}{:06d}_indices_arr.npy'.format(array_path, tile))\n",
    "        sub_array = array[indices]\n",
    "        np.save('{}{:06d}_{}_arr.npy'.format(array_path, tile, col+'_bpz'), sub_array)\n",
    "        print('{}{:06d}_{}_arr.npy'.format(array_path, tile, col+'_bpz'))\n",
    "        sub_array = 0\n",
    "    array = 0\n",
    "    print('\\n')\n",
    "master.close()"
   ]
  },
  {
   "cell_type": "code",
   "execution_count": null,
   "metadata": {},
   "outputs": [],
   "source": []
  },
  {
   "cell_type": "code",
   "execution_count": null,
   "metadata": {},
   "outputs": [],
   "source": []
  },
  {
   "cell_type": "code",
   "execution_count": null,
   "metadata": {},
   "outputs": [],
   "source": []
  },
  {
   "cell_type": "code",
   "execution_count": 218,
   "metadata": {},
   "outputs": [],
   "source": [
    "pz_columns_out = [i+'_dnf' for i in pz_columns]\n",
    "bpz_columns_out = [i+'_bpz' for i in bpz_columns]\n",
    "all_columns = columns+bpz_columns_out+pz_columns_out"
   ]
  },
  {
   "cell_type": "code",
   "execution_count": 219,
   "metadata": {},
   "outputs": [],
   "source": [
    "def load_tmp_file(tile):\n",
    "    mydict = dict().fromkeys(columns)\n",
    "    indices = np.load('{}{:06d}_{}_arr.npy'.format(array_path, tile, 'indices'))\n",
    "    mydict['id'] = indices\n",
    "    for col in all_columns:\n",
    "        mydict[col] = np.load('{}{:06d}_{}_arr.npy'.format(array_path, tile, col))\n",
    "    return Table(mydict)"
   ]
  },
  {
   "cell_type": "code",
   "execution_count": 220,
   "metadata": {},
   "outputs": [
    {
     "name": "stdout",
     "output_type": "stream",
     "text": [
      "join tile: 11388\n",
      "join tile: 11712\n",
      "join tile: 4101\n"
     ]
    }
   ],
   "source": [
    "for i, tile in enumerate(myfields[:3]):\n",
    "    print('join tile: %i'%(tile))\n",
    "    outfile = outfile_base.format(tile)\n",
    "    gal = load_tmp_file(tile)\n",
    "    gal.rename_column('z_bpz','z')\n",
    "    save_hdf5_output(gal,outfile)"
   ]
  },
  {
   "cell_type": "code",
   "execution_count": null,
   "metadata": {},
   "outputs": [],
   "source": []
  },
  {
   "cell_type": "code",
   "execution_count": 221,
   "metadata": {},
   "outputs": [],
   "source": [
    "import pandas as pd\n",
    "from astropy.table import Table"
   ]
  },
  {
   "cell_type": "code",
   "execution_count": 222,
   "metadata": {},
   "outputs": [],
   "source": [
    "def upload_dataFrame(infile,keys='members'):\n",
    "    hdf = pd.HDFStore(infile, mode='r')\n",
    "    df1 = hdf.get(keys)\n",
    "    hdf.close()\n",
    "    data = Table.from_pandas(df1)\n",
    "    return data"
   ]
  },
  {
   "cell_type": "code",
   "execution_count": null,
   "metadata": {},
   "outputs": [],
   "source": []
  },
  {
   "cell_type": "code",
   "execution_count": 223,
   "metadata": {},
   "outputs": [],
   "source": [
    "# for hi in myfields[:3]:\n",
    "#     outfile = outfile_base.format(hi)\n",
    "#     gi = upload_dataFrame(outfile,keys='members')\n",
    "#     ra, dec = gi['ra'][5:], gi['dec'][5:]\n",
    "#     plt.scatter(ra[::10],dec[::10],alpha=0.3)\n",
    "\n",
    "# # ra = ra[ra!=0]\n",
    "# # dec = dec[ra!=0]"
   ]
  },
  {
   "cell_type": "code",
   "execution_count": 224,
   "metadata": {},
   "outputs": [
    {
     "data": {
      "text/plain": [
       "<matplotlib.collections.PathCollection at 0x7faef4792ed0>"
      ]
     },
     "execution_count": 224,
     "metadata": {},
     "output_type": "execute_result"
    },
    {
     "data": {
      "image/png": "[encoded data removed]",
      "text/plain": [
       "<Figure size 432x288 with 1 Axes>"
      ]
     },
     "metadata": {},
     "output_type": "display_data"
    }
   ],
   "source": [
    "hi = 4101\n",
    "outfile = outfile_base.format(hi)\n",
    "gi = upload_dataFrame(outfile,keys='members')\n",
    "ra, dec = gi['ra'][5:], gi['dec'][5:]\n",
    "plt.scatter(ra[::20],dec[::20],alpha=0.1)\n"
   ]
  },
  {
   "cell_type": "code",
   "execution_count": 225,
   "metadata": {},
   "outputs": [],
   "source": [
    "# cat[w][:5]"
   ]
  },
  {
   "cell_type": "code",
   "execution_count": 226,
   "metadata": {},
   "outputs": [
    {
     "data": {
      "text/html": [
       "&lt;Table length=134&gt;\n",
       "<table id=\"table140389235528400\" class=\"table-striped table-bordered table-condensed\">\n",
       "<thead><tr><th>mag_err_i</th><th>mag_g</th><th>mag_err_r</th><th>coadd_object_id_bpz</th><th>mag_r</th><th>mag_i</th><th>z_mean_dnf</th><th>id</th><th>hpix_16384</th><th>mag_err_z</th><th>redshift_cos_bpz</th><th>ra</th><th>z</th><th>haloid</th><th>coadd_object_id</th><th>dec</th><th>z_sigma_dnf</th><th>rhalo</th><th>mag_err_g</th><th>mag_z</th></tr></thead>\n",
       "<thead><tr><th>float32</th><th>float32</th><th>float32</th><th>int64</th><th>float32</th><th>float32</th><th>float64</th><th>int64</th><th>int64</th><th>float32</th><th>float64</th><th>float32</th><th>float64</th><th>int64</th><th>int64</th><th>float32</th><th>float64</th><th>float32</th><th>float32</th><th>float32</th></tr></thead>\n",
       "<tr><td>0.089976</td><td>23.658897</td><td>0.08524102</td><td>105000131984</td><td>23.175135</td><td>22.880547</td><td>0.17052199598061266</td><td>8751383</td><td>1074902064</td><td>0.40936595</td><td>0.1830434378456267</td><td>3.251472</td><td>0.18330554715940572</td><td>7940974</td><td>105000131984</td><td>-37.04765</td><td>0.06705408047536143</td><td>7.17671</td><td>0.092939876</td><td>23.591688</td></tr>\n",
       "<tr><td>0.019001445</td><td>21.381285</td><td>0.02138754</td><td>105000030718</td><td>20.519094</td><td>19.995716</td><td>0.44094977169445837</td><td>8754568</td><td>1074902918</td><td>0.03481545</td><td>0.18274272080365894</td><td>3.2330577</td><td>0.18278942977840318</td><td>7940974</td><td>105000030718</td><td>-36.947502</td><td>0.08942370380591601</td><td>6.4744153</td><td>0.024325442</td><td>19.704494</td></tr>\n",
       "<tr><td>0.07903726</td><td>23.426853</td><td>0.071995094</td><td>105000109810</td><td>22.851353</td><td>22.596323</td><td>0.21784732300764165</td><td>8795829</td><td>1074913760</td><td>0.18993008</td><td>0.18437300449592353</td><td>3.370681</td><td>0.1847358663350263</td><td>7940974</td><td>105000109810</td><td>-36.874577</td><td>0.4626411533676608</td><td>7.126453</td><td>0.08457704</td><td>22.610138</td></tr>\n",
       "<tr><td>0.0061195856</td><td>19.407663</td><td>0.006383973</td><td>105000003526</td><td>18.301323</td><td>17.900963</td><td>0.1827137502446985</td><td>8805357</td><td>1074916481</td><td>0.010535822</td><td>0.18279703223344757</td><td>3.3185673</td><td>0.18293690598200715</td><td>7940974</td><td>105000003526</td><td>-36.766182</td><td>0.02236328925787023</td><td>4.886858</td><td>0.00870382</td><td>17.631044</td></tr>\n",
       "<tr><td>0.09649548</td><td>23.683058</td><td>0.09255781</td><td>105000142486</td><td>23.36842</td><td>23.040354</td><td>0.0</td><td>8815082</td><td>1074919121</td><td>0.18294154</td><td>0.18393983014687554</td><td>3.5721695</td><td>0.18404895046367875</td><td>7940974</td><td>105000142486</td><td>-36.592293</td><td>0.0</td><td>4.30038</td><td>0.08420631</td><td>22.993517</td></tr>\n",
       "<tr><td>0.1251049</td><td>23.995483</td><td>0.11795295</td><td>105000155410</td><td>23.669785</td><td>23.353199</td><td>0.0</td><td>8816220</td><td>1074919411</td><td>0.2090429</td><td>0.18161794265598386</td><td>3.6053748</td><td>0.18174038802530307</td><td>7940974</td><td>105000155410</td><td>-36.530098</td><td>0.0</td><td>3.4146903</td><td>0.10670078</td><td>23.162327</td></tr>\n",
       "<tr><td>0.1511897</td><td>24.080687</td><td>0.18235679</td><td>105000162742</td><td>23.929031</td><td>23.29444</td><td>0.0</td><td>8816434</td><td>1074919473</td><td>0.3105142</td><td>0.1809362515545323</td><td>3.4304826</td><td>0.181277832504522</td><td>7940974</td><td>105000162742</td><td>-36.67162</td><td>0.0</td><td>5.9762206</td><td>0.16131614</td><td>23.31901</td></tr>\n",
       "<tr><td>0.007657192</td><td>20.122475</td><td>0.007348394</td><td>105000008798</td><td>18.916279</td><td>18.53115</td><td>0.3414200697624208</td><td>8818888</td><td>1074920142</td><td>0.012354977</td><td>0.18146123820407345</td><td>3.3796272</td><td>0.18146876266331755</td><td>7940974</td><td>105000008798</td><td>-36.591846</td><td>0.06354382829498774</td><td>4.8839993</td><td>0.010667742</td><td>18.206394</td></tr>\n",
       "<tr><td>0.013274342</td><td>19.987518</td><td>0.013098353</td><td>105000015298</td><td>19.419104</td><td>19.086077</td><td>0.17370312907998509</td><td>8819661</td><td>1074920361</td><td>0.024070697</td><td>0.18152054993618183</td><td>3.3911166</td><td>0.1813211912051794</td><td>7940974</td><td>105000015298</td><td>-36.56114</td><td>0.03267211739901638</td><td>4.6403227</td><td>0.013886265</td><td>19.029936</td></tr>\n",
       "<tr><td>0.060921412</td><td>23.175432</td><td>0.053692088</td><td>105000098427</td><td>22.539064</td><td>22.275063</td><td>0.23820366749712268</td><td>8819851</td><td>1074920407</td><td>0.11148379</td><td>0.18141671144870708</td><td>3.446145</td><td>0.1811011144350026</td><td>7940974</td><td>105000098427</td><td>-36.53735</td><td>0.11706822158072527</td><td>4.5264015</td><td>0.066255316</td><td>22.21326</td></tr>\n",
       "<tr><td>...</td><td>...</td><td>...</td><td>...</td><td>...</td><td>...</td><td>...</td><td>...</td><td>...</td><td>...</td><td>...</td><td>...</td><td>...</td><td>...</td><td>...</td><td>...</td><td>...</td><td>...</td><td>...</td><td>...</td></tr>\n",
       "<tr><td>0.09018359</td><td>23.55124</td><td>0.0694202</td><td>105000116009</td><td>22.95208</td><td>22.82419</td><td>0.2723338006641127</td><td>9478142</td><td>1075096312</td><td>0.13876979</td><td>0.18157952381322362</td><td>3.5535789</td><td>0.18208926490219876</td><td>7940974</td><td>105000116009</td><td>-36.390625</td><td>0.11792258011223261</td><td>3.601447</td><td>0.080434225</td><td>22.570688</td></tr>\n",
       "<tr><td>0.06987462</td><td>23.52196</td><td>0.062388096</td><td>105000115627</td><td>22.904877</td><td>22.615396</td><td>0.22998322000250676</td><td>9478721</td><td>1075096481</td><td>0.14856397</td><td>0.18148476636821798</td><td>3.5729368</td><td>0.1821743831281739</td><td>7940974</td><td>105000115627</td><td>-36.385216</td><td>0.04756413861149725</td><td>3.7481198</td><td>0.07208999</td><td>22.714256</td></tr>\n",
       "<tr><td>0.14740303</td><td>23.934362</td><td>0.16120358</td><td>105000174966</td><td>23.95167</td><td>23.410547</td><td>0.0</td><td>9481547</td><td>1075097227</td><td>0.29496804</td><td>0.1837555621862479</td><td>3.6193686</td><td>0.1836307449347595</td><td>7940974</td><td>105000174966</td><td>-36.337475</td><td>0.0</td><td>3.5250666</td><td>0.11872855</td><td>23.423407</td></tr>\n",
       "<tr><td>0.017570157</td><td>21.108023</td><td>0.015889175</td><td>105000028637</td><td>20.392859</td><td>20.055965</td><td>0.2306188438677924</td><td>9485311</td><td>1075098213</td><td>0.028040146</td><td>0.18459720972404225</td><td>3.8404584</td><td>0.18444529682902294</td><td>7940974</td><td>105000028637</td><td>-36.330772</td><td>0.05216007284807063</td><td>5.4334087</td><td>0.019016355</td><td>19.899385</td></tr>\n",
       "<tr><td>0.103459835</td><td>23.943022</td><td>0.08371562</td><td>105000123985</td><td>23.000778</td><td>22.809761</td><td>0.4082120833098317</td><td>9487525</td><td>1075098803</td><td>0.15789805</td><td>0.18448624730241314</td><td>3.9309552</td><td>0.184387653108611</td><td>7940974</td><td>105000123985</td><td>-36.27556</td><td>0.20351560783993117</td><td>5.2987156</td><td>0.13671423</td><td>22.578024</td></tr>\n",
       "<tr><td>0.016323714</td><td>20.788445</td><td>0.013673942</td><td>105000028925</td><td>20.331858</td><td>20.15003</td><td>0.09041088212651416</td><td>9488805</td><td>1075099170</td><td>0.02744389</td><td>0.18268754087149186</td><td>3.8984187</td><td>0.18239730204303417</td><td>7940974</td><td>105000028925</td><td>-36.26861</td><td>0.05770330842219405</td><td>1.5608522</td><td>0.014555512</td><td>20.062344</td></tr>\n",
       "<tr><td>0.13338077</td><td>24.456818</td><td>0.15075643</td><td>105000172030</td><td>23.84589</td><td>23.348328</td><td>0.0</td><td>9491101</td><td>1075099798</td><td>0.2523014</td><td>0.1839383506987302</td><td>3.7708476</td><td>0.1838633479167357</td><td>7940974</td><td>105000172030</td><td>-36.28396</td><td>0.0</td><td>3.8155093</td><td>0.1728068</td><td>23.154034</td></tr>\n",
       "<tr><td>0.015400578</td><td>20.999605</td><td>0.014129158</td><td>105000021599</td><td>20.015125</td><td>19.583742</td><td>0.23027418977048925</td><td>9500801</td><td>1075102332</td><td>0.020095699</td><td>0.18470369538591447</td><td>4.1978507</td><td>0.18480813417602748</td><td>7940974</td><td>105000021599</td><td>-36.31627</td><td>0.058482432421866945</td><td>6.3576407</td><td>0.021659179</td><td>19.358353</td></tr>\n",
       "<tr><td>0.12601914</td><td>23.841564</td><td>0.12413673</td><td>105000152241</td><td>23.604965</td><td>23.188839</td><td>0.0</td><td>9509290</td><td>1075104571</td><td>0.33463785</td><td>0.18198911592075095</td><td>4.1252913</td><td>0.1822188156517608</td><td>7940974</td><td>105000152241</td><td>-36.202534</td><td>0.0</td><td>3.5134027</td><td>0.10050787</td><td>23.694723</td></tr>\n",
       "<tr><td>0.025729878</td><td>22.06039</td><td>0.023624633</td><td>105000050329</td><td>21.374132</td><td>21.0752</td><td>0.1964587790424872</td><td>9804504</td><td>1075183798</td><td>0.039957847</td><td>0.18434174018161276</td><td>3.4978976</td><td>0.18434931286292755</td><td>7940974</td><td>105000050329</td><td>-36.364906</td><td>0.13698167437447267</td><td>5.3024783</td><td>0.026624613</td><td>20.837532</td></tr>\n",
       "</table>"
      ],
      "text/plain": [
       "<Table length=134>\n",
       " mag_err_i     mag_g    mag_err_r  ...   rhalo    mag_err_g    mag_z  \n",
       "  float32     float32    float32   ...  float32    float32    float32 \n",
       "------------ --------- ----------- ... --------- ----------- ---------\n",
       "    0.089976 23.658897  0.08524102 ...   7.17671 0.092939876 23.591688\n",
       " 0.019001445 21.381285  0.02138754 ... 6.4744153 0.024325442 19.704494\n",
       "  0.07903726 23.426853 0.071995094 ...  7.126453  0.08457704 22.610138\n",
       "0.0061195856 19.407663 0.006383973 ...  4.886858  0.00870382 17.631044\n",
       "  0.09649548 23.683058  0.09255781 ...   4.30038  0.08420631 22.993517\n",
       "   0.1251049 23.995483  0.11795295 ... 3.4146903  0.10670078 23.162327\n",
       "   0.1511897 24.080687  0.18235679 ... 5.9762206  0.16131614  23.31901\n",
       " 0.007657192 20.122475 0.007348394 ... 4.8839993 0.010667742 18.206394\n",
       " 0.013274342 19.987518 0.013098353 ... 4.6403227 0.013886265 19.029936\n",
       " 0.060921412 23.175432 0.053692088 ... 4.5264015 0.066255316  22.21326\n",
       "         ...       ...         ... ...       ...         ...       ...\n",
       "  0.09018359  23.55124   0.0694202 ...  3.601447 0.080434225 22.570688\n",
       "  0.06987462  23.52196 0.062388096 ... 3.7481198  0.07208999 22.714256\n",
       "  0.14740303 23.934362  0.16120358 ... 3.5250666  0.11872855 23.423407\n",
       " 0.017570157 21.108023 0.015889175 ... 5.4334087 0.019016355 19.899385\n",
       " 0.103459835 23.943022  0.08371562 ... 5.2987156  0.13671423 22.578024\n",
       " 0.016323714 20.788445 0.013673942 ... 1.5608522 0.014555512 20.062344\n",
       "  0.13338077 24.456818  0.15075643 ... 3.8155093   0.1728068 23.154034\n",
       " 0.015400578 20.999605 0.014129158 ... 6.3576407 0.021659179 19.358353\n",
       "  0.12601914 23.841564  0.12413673 ... 3.5134027  0.10050787 23.694723\n",
       " 0.025729878  22.06039 0.023624633 ... 5.3024783 0.026624613 20.837532"
      ]
     },
     "execution_count": 226,
     "metadata": {},
     "output_type": "execute_result"
    }
   ],
   "source": [
    "gi[gi['haloid']==7940974]"
   ]
  },
  {
   "cell_type": "code",
   "execution_count": 227,
   "metadata": {},
   "outputs": [],
   "source": [
    "mask = gi['haloid']==7940974\n",
    "ra, dec = gi['ra'], gi['dec']"
   ]
  },
  {
   "cell_type": "code",
   "execution_count": 228,
   "metadata": {},
   "outputs": [
    {
     "data": {
      "text/plain": [
       "<matplotlib.collections.PathCollection at 0x7faeed2b4f90>"
      ]
     },
     "execution_count": 228,
     "metadata": {},
     "output_type": "execute_result"
    },
    {
     "data": {
      "image/png": "[encoded data removed]",
      "text/plain": [
       "<Figure size 432x288 with 1 Axes>"
      ]
     },
     "metadata": {},
     "output_type": "display_data"
    }
   ],
   "source": [
    "plt.scatter(ra[mask],dec[mask],alpha=0.3)\n",
    "# plt.scatter(rac,decc)"
   ]
  },
  {
   "cell_type": "code",
   "execution_count": 229,
   "metadata": {},
   "outputs": [
    {
     "data": {
      "text/plain": [
       "0.0"
      ]
     },
     "execution_count": 229,
     "metadata": {},
     "output_type": "execute_result"
    }
   ],
   "source": [
    "np.std(gi['coadd_object_id_bpz']-gi['coadd_object_id'])"
   ]
  },
  {
   "cell_type": "code",
   "execution_count": 235,
   "metadata": {},
   "outputs": [
    {
     "data": {
      "text/plain": [
       "<matplotlib.collections.PathCollection at 0x7faefe697a50>"
      ]
     },
     "execution_count": 235,
     "metadata": {},
     "output_type": "execute_result"
    },
    {
     "data": {
      "image/png": "[encoded data removed]",
      "text/plain": [
       "<Figure size 432x288 with 1 Axes>"
      ]
     },
     "metadata": {},
     "output_type": "display_data"
    }
   ],
   "source": [
    "plt.scatter(gi[mask]['redshift_cos_bpz'],gi[mask]['z'],s=10)"
   ]
  },
  {
   "cell_type": "code",
   "execution_count": 239,
   "metadata": {},
   "outputs": [
    {
     "data": {
      "text/plain": [
       "3.0186666666666664"
      ]
     },
     "execution_count": 239,
     "metadata": {},
     "output_type": "execute_result"
    }
   ],
   "source": [
    "(0.32*60/3.)*len(np.unique(cluster_tile))/3600"
   ]
  },
  {
   "cell_type": "code",
   "execution_count": null,
   "metadata": {},
   "outputs": [],
   "source": []
  },
  {
   "cell_type": "markdown",
   "metadata": {},
   "source": [
    "## Retrieve Second Method"
   ]
  },
  {
   "cell_type": "code",
   "execution_count": null,
   "metadata": {},
   "outputs": [],
   "source": [
    "from time import time"
   ]
  },
  {
   "cell_type": "code",
   "execution_count": null,
   "metadata": {},
   "outputs": [],
   "source": [
    "print('Starting Query')\n",
    "t0 = time()\n",
    "time_evolution = np.empty((len(myfields)+1,),dtype=np.float64)\n",
    "time_evolution[0] = t0\n",
    "\n",
    "indices_list = []\n",
    "for i, tile in enumerate(myfields[:3]):\n",
    "    print('start tile: %i'%(tile))\n",
    "    outfile = outfile_base.format(tile)\n",
    "\n",
    "#     match  = esutil.numpy_util.match(tile,hpx8)\n",
    "#     indices= maglim_idx[match[1]]\n",
    "#     indices_list.append(indices)\n",
    "    \n",
    "    w      = esutil.numpy_util.where1(cluster_tile==tile)\n",
    "    circles= get_healpix_list(cat[w],nside=Nside)\n",
    "    \n",
    "    match  = esutil.numpy_util.match(circles,hpx16384)\n",
    "    indices= maglim_idx[match[1]]\n",
    "\n",
    "    \n",
    "    np.save(f'{array_path}{tile:06d}_indices_arr.npy', indices)\n",
    "    print(f'array saved: {array_path}{tile:06d}_indices_arr.npy')\n",
    "\n",
    "    time_evolution[i+1] = time()\n",
    "    print('partial time: %.2f min'%((time_evolution[i+1]-time_evolution[i])/60.))\n",
    "    print('run time    : %.2f min'%((time_evolution[i+1]-time_evolution[0])/60.))\n",
    "    print('\\n')\n"
   ]
  },
  {
   "cell_type": "code",
   "execution_count": null,
   "metadata": {},
   "outputs": [],
   "source": []
  },
  {
   "cell_type": "code",
   "execution_count": null,
   "metadata": {},
   "outputs": [],
   "source": [
    "array_path = outdir+'tmp/'\n",
    "path = 'catalog/gold/'"
   ]
  },
  {
   "cell_type": "code",
   "execution_count": null,
   "metadata": {},
   "outputs": [],
   "source": [
    "indices = hpx8 = 0\n",
    "master = h5py.File(fname,'r')\n",
    "gold   = master[path]\n",
    "for col in columns:\n",
    "    print(f'{col}')\n",
    "    array = gold[col][:]\n",
    "    for indices, tile in zip(indices_list,myfields[:3]):\n",
    "        sub_array = array[indices]\n",
    "        np.save(f'{array_path}{tile:06d}_{col}_arr.npy', sub_array)\n",
    "        print(f'array saved: {array_path}{tile:06d}_{col}_arr.npy')\n",
    "        sub_array = 0\n",
    "    array = 0\n",
    "    print('\\n')\n",
    "master.close()"
   ]
  },
  {
   "cell_type": "code",
   "execution_count": null,
   "metadata": {},
   "outputs": [],
   "source": []
  },
  {
   "cell_type": "code",
   "execution_count": null,
   "metadata": {},
   "outputs": [],
   "source": [
    "for i, tile in enumerate(myfields[:3]):\n",
    "    print('start tile: %i'%(tile))\n",
    "    outfile = outfile_base.format(tile)\n",
    "    gal = load_tmp_file(tile)\n",
    "    save_hdf5_output(gal,outfile)"
   ]
  },
  {
   "cell_type": "code",
   "execution_count": null,
   "metadata": {},
   "outputs": [],
   "source": [
    "def load_tmp_file(tile):\n",
    "    mydict = dict().fromkeys(columns)\n",
    "    indices = np.load(f'{array_path}{tile:06d}_indices_arr.npy')\n",
    "    mydict['id'] = indices\n",
    "    for col in columns:\n",
    "        mydict[col] = np.load(f'{array_path}{tile:06d}_{col}_arr.npy')\n",
    "    print(mydict)\n",
    "    return Table(mydict)"
   ]
  },
  {
   "cell_type": "code",
   "execution_count": null,
   "metadata": {},
   "outputs": [],
   "source": []
  },
  {
   "cell_type": "code",
   "execution_count": null,
   "metadata": {},
   "outputs": [],
   "source": [
    "# load files\n",
    "array = f'{array_path}{tile:06d}_{col}_arr.npy'"
   ]
  },
  {
   "cell_type": "code",
   "execution_count": null,
   "metadata": {},
   "outputs": [],
   "source": []
  },
  {
   "cell_type": "code",
   "execution_count": null,
   "metadata": {},
   "outputs": [],
   "source": [
    "for col in columns[2:5]:\n",
    "    print(f'{col}')\n",
    "    array = gold[col][:]\n",
    "    for indices, tile in zip(indices_list,myfields[:3]):"
   ]
  },
  {
   "cell_type": "code",
   "execution_count": null,
   "metadata": {},
   "outputs": [],
   "source": []
  },
  {
   "cell_type": "code",
   "execution_count": null,
   "metadata": {},
   "outputs": [],
   "source": [
    "## get cluster data\n",
    "\n",
    "file1= '/global/homes/h/haoyiwu/data/buzzard-1.9.8/buzzard-1.9.8_3y3a_run_halos_lambda_chisq.fit'\n",
    "\n",
    "cat  = Table(getdata(file1))\n",
    "cat.rename_column('Z','redshift')"
   ]
  },
  {
   "cell_type": "code",
   "execution_count": null,
   "metadata": {},
   "outputs": [],
   "source": [
    "ra,dec= cat['RA'], cat['DEC']\n",
    "zcls  = cat['Z_LAMBDA']\n",
    "\n",
    "zcut  = (zcls<=0.65)&(zcls>=0.2)\n",
    "\n",
    "#lmask = cat['LAMBDA_CHISQ']>=20. & zcut\n",
    "lmask = (cat['LAMBDA_CHISQ']>=5.)&(cat['LAMBDA_CHISQ']<=20.)&zcut\n",
    "\n",
    "#patch = dec<40.#(dec>-0.5)&(dec<0.5)&(ra<30)\n",
    "#cut = np.where(lmask&patch)\n",
    "\n",
    "cut = np.where(lmask)\n"
   ]
  },
  {
   "cell_type": "code",
   "execution_count": null,
   "metadata": {},
   "outputs": [],
   "source": [
    "cat = cat[cut]"
   ]
  },
  {
   "cell_type": "code",
   "execution_count": null,
   "metadata": {},
   "outputs": [],
   "source": []
  },
  {
   "cell_type": "code",
   "execution_count": null,
   "metadata": {},
   "outputs": [],
   "source": [
    "# ra_min,ra_max   = 26.,30.\n",
    "# dec_min,dec_max = -44.5,-43.\n",
    "\n",
    "# mask = (cat['RA']<ra_max)&(cat['RA']>ra_min)\n",
    "# mask&= (cat['DEC']<dec_max)&(cat['DEC']>dec_min)"
   ]
  },
  {
   "cell_type": "code",
   "execution_count": null,
   "metadata": {},
   "outputs": [],
   "source": [
    "cls_columns = ['HALOID', 'M200', 'R200', 'MEM_MATCH_ID', 'RA', 'DEC', 'redshift', 'Z_COS', 'P_BCG', 'Z_LAMBDA', 'LAMBDA_CHISQ', 'LAMBDA_CHISQ_E', 'LAMBDA_CHISQ_ZORIG',\n",
    "               'SCALEVAL', 'LAMBDA_ZRED', 'LAMBDA_ZRED_E', 'MASKFRAC', 'GEOMASKFRAC', 'R_LAMBDA', 'R_MASK', 'Z_LAMBDA_E', 'NCROSS', 'Z_LAMBDA_NITER', 'DLAMBDA_DZ', 'DLAMBDA_DZ2', \n",
    "               'DLAMBDAVAR_DZ', 'DLAMBDAVAR_DZ2','Z_LAMBDA_RAW', 'Z_LAMBDA_E_RAW', 'BCG_SPEC_Z', 'LIM_EXPTIME', 'LIM_LIMMAG_DERED', 'LIM_LIMMAG', 'LIM_LIMMAG_HARD']\n",
    "\n",
    "cat = cat[cls_columns]"
   ]
  },
  {
   "cell_type": "code",
   "execution_count": null,
   "metadata": {},
   "outputs": [],
   "source": [
    "print(len(cat))"
   ]
  },
  {
   "cell_type": "code",
   "execution_count": null,
   "metadata": {},
   "outputs": [],
   "source": []
  },
  {
   "cell_type": "markdown",
   "metadata": {},
   "source": [
    "### Healpix Matching"
   ]
  },
  {
   "cell_type": "code",
   "execution_count": null,
   "metadata": {},
   "outputs": [],
   "source": [
    "import sys\n",
    "# sys.path.append('/home/s1/jesteves/git/buzzardAnalysis/buzzardSelection/scripts/')\n",
    "sys.path.append('/global/u2/j/jesteves/codes/buzzardAnalysis/buzzardSelection/scripts/')\n",
    "from helper import AngularDistance,get_healpix_list,radec_pix"
   ]
  },
  {
   "cell_type": "code",
   "execution_count": null,
   "metadata": {},
   "outputs": [],
   "source": [
    "# ra,dec= cat['RA'], cat['DEC']\n",
    "# lmask = cat['LAMBDA_CHISQ']>5.\n",
    "# patch = (dec>-0.5)&(dec<0.5)&(ra<30)\n",
    "\n",
    "# cut = np.where(lmask&patch)"
   ]
  },
  {
   "cell_type": "code",
   "execution_count": null,
   "metadata": {},
   "outputs": [],
   "source": [
    "rad2deg  = 180/np.pi\n",
    "rmax     = 8 #Mpc around each cluster\n",
    "\n",
    "#r200     = cat['R200'][:]*0.7 ## Mpc\n",
    "DA       = np.ones_like(np.array(cat['redshift']))\n",
    "# DA[cut]  = AngularDistance(np.array(cat['redshift'][cut]))\n",
    "DA  = AngularDistance(np.array(cat['redshift']))\n",
    "\n",
    "## compute the radii max\n",
    "cat['rmax']  = 60*(float(rmax)/DA)*rad2deg ## arcmin"
   ]
  },
  {
   "cell_type": "code",
   "execution_count": null,
   "metadata": {},
   "outputs": [],
   "source": [
    "ra,dec= cat['RA'], cat['DEC']\n",
    "cluster_tile = radec_pix(ra,dec,nside=8)"
   ]
  },
  {
   "cell_type": "code",
   "execution_count": null,
   "metadata": {},
   "outputs": [],
   "source": [
    "_ = plt.hist(cluster_tile,bins=51)"
   ]
  },
  {
   "cell_type": "code",
   "execution_count": null,
   "metadata": {},
   "outputs": [],
   "source": [
    "#plt.hist(cat['redshift'])"
   ]
  },
  {
   "cell_type": "code",
   "execution_count": null,
   "metadata": {},
   "outputs": [],
   "source": [
    "tiles"
   ]
  },
  {
   "cell_type": "code",
   "execution_count": null,
   "metadata": {},
   "outputs": [],
   "source": [
    "np.where(cluster_tile==tiles[0])"
   ]
  },
  {
   "cell_type": "markdown",
   "metadata": {
    "tags": []
   },
   "source": [
    "### Retrieving Galaxy Catalogs"
   ]
  },
  {
   "cell_type": "code",
   "execution_count": 36,
   "metadata": {},
   "outputs": [],
   "source": [
    "def save_hdf5_output(gal,outfile):\n",
    "    df  = gal.to_pandas()\n",
    "    df.to_hdf(outfile, key='members', mode='w')\n",
    "\n",
    "    gal = 0"
   ]
  },
  {
   "cell_type": "code",
   "execution_count": null,
   "metadata": {},
   "outputs": [],
   "source": [
    "def load_hdf_files(infile,indices,columns,path='catalog/gold/'):\n",
    "    master = h5py.File(infile,'r')\n",
    "    gold   = master[path]\n",
    "    \n",
    "    mydict = dict().fromkeys(columns)\n",
    "    \n",
    "    mydict['id'] = indices\n",
    "    for col in columns:\n",
    "        mydict[col] = gold[col][:][indices]\n",
    "    \n",
    "    master.close()\n",
    "    return Table(mydict)"
   ]
  },
  {
   "cell_type": "code",
   "execution_count": null,
   "metadata": {},
   "outputs": [],
   "source": [
    "from time import time"
   ]
  },
  {
   "cell_type": "code",
   "execution_count": null,
   "metadata": {},
   "outputs": [],
   "source": [
    "# fname  = path+'Buzzard_v1.9.8_Y3a_bpz.h5'\n",
    "# indexes= h5py.File(fname)\n",
    "# bpz    = indexes['catalog/bpz']\n",
    "\n",
    "# #b_cid  = bpz['coadd_object_id'][:][maglim_idx]\n",
    "# z      = bpz['z'][:][maglim_idx]\n",
    "# zmean  = bpz['zmean_sof'][:][maglim_idx]\n",
    "\n",
    "# indexes.close()"
   ]
  },
  {
   "cell_type": "code",
   "execution_count": null,
   "metadata": {},
   "outputs": [],
   "source": [
    "indexes= h5py.File(fname_aux,'r')\n",
    "dnf    = indexes['catalog/dnf/unsheared']\n",
    "\n",
    "d_cid  = dnf['coadd_object_id'][:][maglim_idx]\n",
    "d_z    = dnf['z'][:][maglim_idx]\n",
    "d_zmean= dnf['z_mean'][:][maglim_idx]\n",
    "d_sigma= dnf['z_sigma'][:][maglim_idx]\n",
    "\n",
    "indexes.close()"
   ]
  },
  {
   "cell_type": "code",
   "execution_count": null,
   "metadata": {},
   "outputs": [],
   "source": []
  },
  {
   "cell_type": "code",
   "execution_count": null,
   "metadata": {},
   "outputs": [],
   "source": [
    "## BE CAREFULL! The cells below take about an hour to run"
   ]
  },
  {
   "cell_type": "code",
   "execution_count": null,
   "metadata": {},
   "outputs": [],
   "source": [
    "outdir = '/global/project/projectdirs/des/jesteves/buzzardSelection/y3_v2.0.0/tiles/'\n",
    "outfile_base = outdir+'buzzard_y3_v2.0.0_all_raw_copper_hpx8_{}.hdf'"
   ]
  },
  {
   "cell_type": "code",
   "execution_count": null,
   "metadata": {},
   "outputs": [],
   "source": [
    "fname  = path+'Buzzard_v1.9.8_Y3a_gold.h5'\n",
    "\n",
    "t0 = time()\n",
    "\n",
    "time_evolution = np.empty((len(tiles)+1,),dtype=np.float64)\n",
    "time_evolution[0] = t0\n",
    "\n",
    "for i, tile in enumerate(tiles):\n",
    "    print('start tile: %i'%(tile))\n",
    "    outfile = outfile_base.format(tile)\n",
    "    w       = np.where(cluster_tile==tile)[0]\n",
    "\n",
    "    if (len(w)>1) & (not os.path.isfile(outfile)):\n",
    "        circles= get_healpix_list(cat[w],nside=16384)\n",
    "        match  = esutil.numpy_util.match(circles,hpx16384)\n",
    "        indices= maglim_idx[match[1]]\n",
    "        print('matching: done')\n",
    "        data               =  load_hdf_files(fname,indices,columns,path='catalog/gold/')\n",
    "        #data['z']          = z[match[1]]\n",
    "        #data['z_mean_bpz'] = zmean[match[1]]\n",
    "        \n",
    "        print('loading main data: done')\n",
    "        data['z']          = d_z[match[1]]\n",
    "        data['z_mean_dnf'] = d_zmean[match[1]]\n",
    "        data['z_sigma_dnf']= d_sigma[match[1]]\n",
    "\n",
    "        data['index']= indices\n",
    "        data['tile'] = tile\n",
    "\n",
    "        save_hdf5_output(data,cat[w],outfile)\n",
    "        data = 0\n",
    "        print('outfile saved: %s'%(outfile))\n",
    "    else:\n",
    "        print('Error: empty tile')\n",
    "    \n",
    "    time_evolution[i+1] = time()\n",
    "    print('partial time: %.2f min'%((time_evolution[i+1]-time_evolution[i])/60.))\n",
    "    print('run time    : %.2f min'%((time_evolution[i+1]-time_evolution[0])/60.))\n",
    "    print('\\n')"
   ]
  },
  {
   "cell_type": "code",
   "execution_count": null,
   "metadata": {},
   "outputs": [],
   "source": []
  },
  {
   "cell_type": "code",
   "execution_count": null,
   "metadata": {},
   "outputs": [],
   "source": []
  },
  {
   "cell_type": "code",
   "execution_count": null,
   "metadata": {},
   "outputs": [],
   "source": [
    "import pandas as pd\n",
    "from astropy.table import Table"
   ]
  },
  {
   "cell_type": "code",
   "execution_count": null,
   "metadata": {},
   "outputs": [],
   "source": [
    "def upload_dataFrame(infile,keys='members'):\n",
    "    hdf = pd.HDFStore(infile, mode='r')\n",
    "    df1 = hdf.get(keys)\n",
    "    hdf.close()\n",
    "    data = Table.from_pandas(df1)\n",
    "    return data"
   ]
  },
  {
   "cell_type": "code",
   "execution_count": null,
   "metadata": {},
   "outputs": [],
   "source": [
    "hi = 560\n",
    "outfile = outfile_base.format(hi)"
   ]
  },
  {
   "cell_type": "code",
   "execution_count": null,
   "metadata": {},
   "outputs": [],
   "source": [
    "gi = upload_dataFrame(outfile,keys='members')\n",
    "ra, dec = gi['ra'], gi['dec']"
   ]
  },
  {
   "cell_type": "code",
   "execution_count": null,
   "metadata": {},
   "outputs": [],
   "source": [
    "# np.count_nonzero(gi['z_mean_dnf']<0)"
   ]
  },
  {
   "cell_type": "code",
   "execution_count": null,
   "metadata": {},
   "outputs": [],
   "source": [
    "# 1.*np.count_nonzero(gi['z_mean_dnf'])/len(gi)\n"
   ]
  },
  {
   "cell_type": "code",
   "execution_count": null,
   "metadata": {},
   "outputs": [],
   "source": [
    "# w = np.where(cluster_tile==hi)[0]\n",
    "# rac,decc = cat['RA'][w],cat['DEC'][w]\n",
    "\n",
    "# #circles= get_healpix_list(cat[w],nside=16384)\n",
    "# #match  = esutil.numpy_util.match(circles,hpx16384)"
   ]
  },
  {
   "cell_type": "code",
   "execution_count": null,
   "metadata": {},
   "outputs": [],
   "source": [
    "plt.scatter(ra[::10],dec[::10],alpha=0.3)\n",
    "# plt.scatter(rac,decc)"
   ]
  },
  {
   "cell_type": "code",
   "execution_count": null,
   "metadata": {},
   "outputs": [],
   "source": [
    "gi"
   ]
  },
  {
   "cell_type": "code",
   "execution_count": null,
   "metadata": {},
   "outputs": [],
   "source": []
  },
  {
   "cell_type": "code",
   "execution_count": null,
   "metadata": {},
   "outputs": [],
   "source": [
    "import healpy as hp\n",
    "def hpix2ang(pix,nside=1024):\n",
    "    lon,lat = hp.pix2ang(nside,pix,nest=True)\n",
    "    dec,ra=(90-(lon)*(180/np.pi)),(lat*(180/np.pi))\n",
    "    return ra,dec"
   ]
  },
  {
   "cell_type": "code",
   "execution_count": null,
   "metadata": {},
   "outputs": [],
   "source": [
    "ra, dec = hpix2ang(circles,nside=16384)\n",
    "gra,gdec = hpix2ang(myidx,nside=16384)"
   ]
  },
  {
   "cell_type": "code",
   "execution_count": null,
   "metadata": {},
   "outputs": [],
   "source": [
    "plt.scatter(ra[::10],dec[::10])\n",
    "plt.scatter(gra[::1000],gdec[::1000])"
   ]
  },
  {
   "cell_type": "code",
   "execution_count": null,
   "metadata": {},
   "outputs": [],
   "source": []
  },
  {
   "cell_type": "code",
   "execution_count": null,
   "metadata": {},
   "outputs": [],
   "source": [
    "data =  load_hdf_files(fname,maglim_idx[match[1]],columns,path='catalog/gold/')"
   ]
  },
  {
   "cell_type": "code",
   "execution_count": null,
   "metadata": {},
   "outputs": [],
   "source": [
    "plt.plot(match[1],data['id'])"
   ]
  },
  {
   "cell_type": "code",
   "execution_count": null,
   "metadata": {},
   "outputs": [],
   "source": [
    "plt.plot(data['hpix_16384'],hpx16384[match[1]])"
   ]
  },
  {
   "cell_type": "code",
   "execution_count": null,
   "metadata": {},
   "outputs": [],
   "source": []
  },
  {
   "cell_type": "code",
   "execution_count": null,
   "metadata": {},
   "outputs": [],
   "source": [
    "maglim_idx[match[1]]"
   ]
  },
  {
   "cell_type": "code",
   "execution_count": null,
   "metadata": {},
   "outputs": [],
   "source": [
    "master  = h5py.File(fname,'r')\n",
    "indexes= h5py.File(fname_aux,'r')\n",
    "\n",
    "#select  = indexes['index/gold/select'][:]\n",
    "# myidx   = master['catalog/gold/hpix_16384'][:][maglim_idx[match[1]]]\n",
    "# mag_i   = master['catalog/gold/mag_i'][:][maglim_idx[match[1]]]\n",
    "\n",
    "master.close()\n",
    "indexes.close()"
   ]
  },
  {
   "cell_type": "code",
   "execution_count": null,
   "metadata": {},
   "outputs": [],
   "source": [
    "maglim_idx[match[1]]"
   ]
  },
  {
   "cell_type": "code",
   "execution_count": null,
   "metadata": {},
   "outputs": [],
   "source": [
    "data=0"
   ]
  },
  {
   "cell_type": "code",
   "execution_count": null,
   "metadata": {},
   "outputs": [],
   "source": [
    "hpx16384[data['id']]"
   ]
  },
  {
   "cell_type": "code",
   "execution_count": null,
   "metadata": {},
   "outputs": [],
   "source": [
    "myidx"
   ]
  },
  {
   "cell_type": "code",
   "execution_count": null,
   "metadata": {},
   "outputs": [],
   "source": []
  },
  {
   "cell_type": "code",
   "execution_count": null,
   "metadata": {},
   "outputs": [],
   "source": [
    "match[1]"
   ]
  },
  {
   "cell_type": "code",
   "execution_count": null,
   "metadata": {},
   "outputs": [],
   "source": []
  },
  {
   "cell_type": "code",
   "execution_count": null,
   "metadata": {},
   "outputs": [],
   "source": [
    "rag,decg = data['ra'], data['dec']"
   ]
  },
  {
   "cell_type": "code",
   "execution_count": null,
   "metadata": {},
   "outputs": [],
   "source": [
    "plt.scatter(ra[::10],dec[::10])\n",
    "plt.scatter(rag[::100],decg[::100],alpha=0.1)"
   ]
  },
  {
   "cell_type": "code",
   "execution_count": null,
   "metadata": {},
   "outputs": [],
   "source": [
    "plt.scatter(data['hpix_16384'][::100],myidx[::100])\n",
    "\n"
   ]
  },
  {
   "cell_type": "code",
   "execution_count": null,
   "metadata": {},
   "outputs": [],
   "source": [
    "gi=0"
   ]
  },
  {
   "cell_type": "code",
   "execution_count": null,
   "metadata": {},
   "outputs": [],
   "source": []
  }
 ],
 "metadata": {
  "kernelspec": {
   "display_name": "Python 2",
   "language": "python",
   "name": "python2"
  },
  "language_info": {
   "codemirror_mode": {
    "name": "ipython",
    "version": 2
   },
   "file_extension": ".py",
   "mimetype": "text/x-python",
   "name": "python",
   "nbconvert_exporter": "python",
   "pygments_lexer": "ipython2",
   "version": "2.7.15"
  }
 },
 "nbformat": 4,
 "nbformat_minor": 4
}
