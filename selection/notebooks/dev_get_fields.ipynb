{
 "cells": [
  {
   "cell_type": "markdown",
   "metadata": {},
   "source": [
    "# Get Galaxies From Halos\n",
    "\n",
    "info: https://cdcvs.fnal.gov/redmine/projects/des-clusters/wiki/ClustDataVecY3 <br>\n",
    "path: /data/des81.b/data/mariaeli/y3_buzz/Buzzard-3_v2.0_Y3a_mastercat/"
   ]
  },
  {
   "cell_type": "code",
   "execution_count": 1,
   "metadata": {},
   "outputs": [],
   "source": [
    "import matplotlib.pyplot as plt\n",
    "import numpy as np\n",
    "import os\n",
    "\n",
    "from astropy.table import Table, vstack, join\n",
    "from astropy.io.fits import getdata\n",
    "\n",
    "import pandas as pd\n",
    "\n",
    "import esutil"
   ]
  },
  {
   "cell_type": "code",
   "execution_count": 2,
   "metadata": {},
   "outputs": [
    {
     "name": "stdout",
     "output_type": "stream",
     "text": [
      "buzzard-1.9.8_3y3a_run_redmapper_v6.4.22.h5  readh5.py\r\n",
      "Buzzard-3_v1.9.8_Y3a_mastercat.h5\t     sompz_buzzard.h5\r\n",
      "Buzzard_v1.9.8_Y3a_bpz.h5\t\t     test_z_chat.png\r\n",
      "Buzzard_v1.9.8_Y3a_gold.h5\t\t     test_z.png\r\n",
      "Buzzard_v1.9.8_Y3a_shape.h5\t\t     Y3_GOLD_2_2_1_maps_copy.h5\r\n",
      "nohup.out\t\t\t\t     zs_lowhigh.png\r\n",
      "pdf_sompz.png\r\n"
     ]
    }
   ],
   "source": [
    "!ls /data/des81.b/data/mariaeli/y3_buzz/Buzzard-3_v1.9.8_Y3a_mastercat/"
   ]
  },
  {
   "cell_type": "code",
   "execution_count": null,
   "metadata": {},
   "outputs": [],
   "source": []
  },
  {
   "cell_type": "markdown",
   "metadata": {},
   "source": [
    "## Load"
   ]
  },
  {
   "cell_type": "code",
   "execution_count": 114,
   "metadata": {},
   "outputs": [],
   "source": [
    "import h5py\n",
    "\n",
    "path   = '/data/des81.b/data/mariaeli/y3_buzz/Buzzard-3_v1.9.8_Y3a_mastercat/'\n",
    "\n",
    "fname  =  path+'Buzzard_v1.9.8_Y3a_gold.h5'\n",
    "fname_aux = path+'Buzzard-3_v1.9.8_Y3a_mastercat.h5'\n",
    "\n",
    "# fname  =     path+'Buzzard_v1.9.8_Y3a_gold.h5'\n",
    "# fname_aux  = path+'Buzzard-3_v1.9.8_Y3a_mastercat.h5'\n",
    "\n",
    "master = h5py.File(fname,'r')\n",
    "indexes= h5py.File(fname_aux,'r')"
   ]
  },
  {
   "cell_type": "code",
   "execution_count": 115,
   "metadata": {},
   "outputs": [],
   "source": [
    "def show_h5_group(name,node):\n",
    "    ''' show all the h5 groups\n",
    "    Example:\n",
    "    fmaster = h5py.File(copa.master_fname,'r')\n",
    "    fmaster.visititems(show_h5_group)\n",
    "\n",
    "    ## https://stackoverflow.com/questions/45562169/traverse-hdf5-file-tree-and-continue-after-return\n",
    "    '''\n",
    "    if isinstance(node, h5py.Group):\n",
    "        print(name,node)\n",
    "    return None\n",
    "\n",
    "def show_h5_dataset(name,node):\n",
    "    if isinstance(node, h5py.Dataset):\n",
    "        print(name,node)\n",
    "    return None"
   ]
  },
  {
   "cell_type": "code",
   "execution_count": 116,
   "metadata": {},
   "outputs": [],
   "source": [
    "columns = ['hpix_16384','haloid','coadd_object_id','ra','dec','rhalo']\n",
    "columns+= ['mag_%s'%(ix) for ix in ['g','r','i','z']]\n",
    "columns+= ['mag_err_%s'%(ix) for ix in ['g','r','i','z']]"
   ]
  },
  {
   "cell_type": "code",
   "execution_count": 117,
   "metadata": {},
   "outputs": [
    {
     "data": {
      "text/plain": [
       "['hpix_16384',\n",
       " 'haloid',\n",
       " 'coadd_object_id',\n",
       " 'ra',\n",
       " 'dec',\n",
       " 'rhalo',\n",
       " 'mag_g',\n",
       " 'mag_r',\n",
       " 'mag_i',\n",
       " 'mag_z',\n",
       " 'mag_err_g',\n",
       " 'mag_err_r',\n",
       " 'mag_err_i',\n",
       " 'mag_err_z']"
      ]
     },
     "execution_count": 117,
     "metadata": {},
     "output_type": "execute_result"
    }
   ],
   "source": [
    "columns"
   ]
  },
  {
   "cell_type": "code",
   "execution_count": 118,
   "metadata": {},
   "outputs": [
    {
     "name": "stdout",
     "output_type": "stream",
     "text": [
      "(u'catalog/downsampled_dm/px', <HDF5 dataset \"px\": shape (128581096,), type \">f8\">)\n",
      "(u'catalog/downsampled_dm/py', <HDF5 dataset \"py\": shape (128581096,), type \">f8\">)\n",
      "(u'catalog/downsampled_dm/pz', <HDF5 dataset \"pz\": shape (128581096,), type \">f8\">)\n",
      "(u'catalog/downsampled_dm/vx', <HDF5 dataset \"vx\": shape (128581096,), type \">f8\">)\n",
      "(u'catalog/downsampled_dm/vy', <HDF5 dataset \"vy\": shape (128581096,), type \">f8\">)\n",
      "(u'catalog/downsampled_dm/vz', <HDF5 dataset \"vz\": shape (128581096,), type \">f8\">)\n",
      "(u'catalog/downsampled_dm/z_cos', <HDF5 dataset \"z_cos\": shape (128581096,), type \">f8\">)\n",
      "(u'catalog/sompz/unsheared/bhat', <HDF5 dataset \"bhat\": shape (1505017869,), type \">i8\">)\n",
      "(u'catalog/sompz/unsheared/chat', <HDF5 dataset \"chat\": shape (1505017869,), type \">i4\">)\n",
      "(u'catalog/sompz/unsheared/coadd_object_id', <HDF5 dataset \"coadd_object_id\": shape (1505017869,), type \"<i8\">)\n",
      "(u'catalog/dnf/unsheared/coadd_object_id', <HDF5 dataset \"coadd_object_id\": shape (1505017869,), type \"<i8\">)\n",
      "(u'catalog/dnf/unsheared/dec', <HDF5 dataset \"dec\": shape (1505017869,), type \">f8\">)\n",
      "(u'catalog/dnf/unsheared/mag_i', <HDF5 dataset \"mag_i\": shape (1505017869,), type \">f8\">)\n",
      "(u'catalog/dnf/unsheared/ra', <HDF5 dataset \"ra\": shape (1505017869,), type \">f8\">)\n",
      "(u'catalog/dnf/unsheared/z', <HDF5 dataset \"z\": shape (1505017869,), type \">f8\">)\n",
      "(u'catalog/dnf/unsheared/z_cos', <HDF5 dataset \"z_cos\": shape (1505017869,), type \">f8\">)\n",
      "(u'catalog/dnf/unsheared/z_mc', <HDF5 dataset \"z_mc\": shape (1505017869,), type \">f8\">)\n",
      "(u'catalog/dnf/unsheared/z_mean', <HDF5 dataset \"z_mean\": shape (1505017869,), type \">f8\">)\n",
      "(u'catalog/dnf/unsheared/z_sigma', <HDF5 dataset \"z_sigma\": shape (1505017869,), type \">f8\">)\n",
      "(u'index/bpz/match_gold', <HDF5 dataset \"match_gold\": shape (1505017869,), type \"<i8\">)\n",
      "(u'index/bpz/select', <HDF5 dataset \"select\": shape (1505017869,), type \"<i8\">)\n",
      "(u'index/catalog/maglim/select', <HDF5 dataset \"select\": shape (13438886,), type \"<i8\">)\n",
      "(u'index/coadd_object_id', <HDF5 dataset \"coadd_object_id\": shape (1505017869,), type \"<i8\">)\n",
      "(u'index/gold/select', <HDF5 dataset \"select\": shape (1505017869,), type \"<i8\">)\n",
      "(u'index/maglim/random_select', <HDF5 dataset \"random_select\": shape (250492120,), type \"<i8\">)\n",
      "(u'index/maglim/select', <HDF5 dataset \"select\": shape (12524606,), type \"<i8\">)\n",
      "(u'index/mask/fracgood', <HDF5 dataset \"fracgood\": shape (21007033,), type \"<i8\">)\n",
      "(u'index/mask/hpix', <HDF5 dataset \"hpix\": shape (21007033,), type \"<i8\">)\n",
      "(u'index/mask/maskfrac_est', <HDF5 dataset \"maskfrac_est\": shape (21007033,), type \"<i8\">)\n",
      "(u'index/mask/zmax', <HDF5 dataset \"zmax\": shape (21007033,), type \"<i8\">)\n",
      "(u'index/metacal/match_gold', <HDF5 dataset \"match_gold\": shape (1505017869,), type \"<i8\">)\n",
      "(u'index/randoms/maglim/select', <HDF5 dataset \"select\": shape (268777720,), type \"<i8\">)\n",
      "(u'index/redmagic/combined_sample_fid/match_gold', <HDF5 dataset \"match_gold\": shape (2672681,), type \"<i8\">)\n",
      "(u'index/redmagic/combined_sample_fid/random_select', <HDF5 dataset \"random_select\": shape (65656100,), type \"<i8\">)\n",
      "(u'index/redmagic/combined_sample_fid/select', <HDF5 dataset \"select\": shape (2672681,), type \"<i8\">)\n",
      "(u'index/redmagic/highdens/match_gold', <HDF5 dataset \"match_gold\": shape (2545499,), type \"<i8\">)\n",
      "(u'index/redmagic/highdens/random_select', <HDF5 dataset \"random_select\": shape (45939228,), type \"<i8\">)\n",
      "(u'index/redmagic/highdens/select', <HDF5 dataset \"select\": shape (2309097,), type \"<i8\">)\n",
      "(u'index/redmagic/higherlum/match_gold', <HDF5 dataset \"match_gold\": shape (528288,), type \"<i8\">)\n",
      "(u'index/redmagic/higherlum/random_select', <HDF5 dataset \"random_select\": shape (46161868,), type \"<i8\">)\n",
      "(u'index/redmagic/higherlum/select', <HDF5 dataset \"select\": shape (480430,), type \"<i8\">)\n",
      "(u'index/redmagic/highlum/match_gold', <HDF5 dataset \"match_gold\": shape (2045441,), type \"<i8\">)\n",
      "(u'index/redmagic/highlum/random_select', <HDF5 dataset \"random_select\": shape (46518449,), type \"<i8\">)\n",
      "(u'index/redmagic/highlum/select', <HDF5 dataset \"select\": shape (1878020,), type \"<i8\">)\n",
      "(u'index/select', <HDF5 dataset \"select\": shape (127166591,), type \"<i8\">)\n",
      "(u'masks/maglim/exptimes', <HDF5 dataset \"exptimes\": shape (22653917,), type \"|V40\">)\n",
      "(u'masks/maglim/fracgood', <HDF5 dataset \"fracgood\": shape (22653917,), type \"|V40\">)\n",
      "(u'masks/maglim/hpix', <HDF5 dataset \"hpix\": shape (22653917,), type \">i8\">)\n",
      "(u'masks/maglim/limmags', <HDF5 dataset \"limmags\": shape (22653917,), type \"|V40\">)\n",
      "(u'regions/catalog/gold/region', <HDF5 dataset \"region\": shape (1505017869,), type \"<i8\">)\n",
      "(u'regions/catalog/maglim/region', <HDF5 dataset \"region\": shape (12524606,), type \"<i8\">)\n",
      "(u'regions/catalog/metacal/unsheared/region', <HDF5 dataset \"region\": shape (1505017869,), type \"<i8\">)\n",
      "(u'regions/catalog/redmagic/combined_sample_fid/region', <HDF5 dataset \"region\": shape (2672681,), type \"<i8\">)\n",
      "(u'regions/catalog/redmapper/lgt20catalog/redmapper/lgt5randoms/redmapper/lgt20/region', <HDF5 dataset \"region\": shape (65656100,), type \"<i8\">)\n",
      "(u'regions/centers/dec', <HDF5 dataset \"dec\": shape (1000,), type \"<f8\">)\n",
      "(u'regions/centers/dist', <HDF5 dataset \"dist\": shape (1000,), type \"<f8\">)\n",
      "(u'regions/centers/number', <HDF5 dataset \"number\": shape (1,), type \">i8\">)\n",
      "(u'regions/centers/ra', <HDF5 dataset \"ra\": shape (1000,), type \"<f8\">)\n",
      "(u'regions/randoms/maglim/region', <HDF5 dataset \"region\": shape (250492120,), type \"<i8\">)\n",
      "(u'regions/randoms/redmagic/combined_sample_fid/region', <HDF5 dataset \"region\": shape (65656100,), type \"<i8\">)\n",
      "(u'regions/randoms/redmapper/lgt5/region', <HDF5 dataset \"region\": shape (65656100,), type \"<i8\">)\n"
     ]
    }
   ],
   "source": [
    "indexes.visititems(show_h5_dataset)"
   ]
  },
  {
   "cell_type": "code",
   "execution_count": 119,
   "metadata": {},
   "outputs": [
    {
     "name": "stdout",
     "output_type": "stream",
     "text": [
      "(u'catalog/gold/coadd_object_id', <HDF5 dataset \"coadd_object_id\": shape (1505017869,), type \">i8\">)\n",
      "(u'catalog/gold/dec', <HDF5 dataset \"dec\": shape (1505017869,), type \">f4\">)\n",
      "(u'catalog/gold/flags_gold', <HDF5 dataset \"flags_gold\": shape (1505017869,), type \">i8\">)\n",
      "(u'catalog/gold/flux_g', <HDF5 dataset \"flux_g\": shape (1505017869,), type \">f4\">)\n",
      "(u'catalog/gold/flux_i', <HDF5 dataset \"flux_i\": shape (1505017869,), type \">f4\">)\n",
      "(u'catalog/gold/flux_r', <HDF5 dataset \"flux_r\": shape (1505017869,), type \">f4\">)\n",
      "(u'catalog/gold/flux_z', <HDF5 dataset \"flux_z\": shape (1505017869,), type \">f4\">)\n",
      "(u'catalog/gold/haloid', <HDF5 dataset \"haloid\": shape (1505017869,), type \">i8\">)\n",
      "(u'catalog/gold/hpix_16384', <HDF5 dataset \"hpix_16384\": shape (1505017869,), type \">i8\">)\n",
      "(u'catalog/gold/ivar_g', <HDF5 dataset \"ivar_g\": shape (1505017869,), type \">f4\">)\n",
      "(u'catalog/gold/ivar_i', <HDF5 dataset \"ivar_i\": shape (1505017869,), type \">f4\">)\n",
      "(u'catalog/gold/ivar_r', <HDF5 dataset \"ivar_r\": shape (1505017869,), type \">f4\">)\n",
      "(u'catalog/gold/ivar_z', <HDF5 dataset \"ivar_z\": shape (1505017869,), type \">f4\">)\n",
      "(u'catalog/gold/m200', <HDF5 dataset \"m200\": shape (1505017869,), type \">f4\">)\n",
      "(u'catalog/gold/mag_err_g', <HDF5 dataset \"mag_err_g\": shape (1505017869,), type \">f4\">)\n",
      "(u'catalog/gold/mag_err_i', <HDF5 dataset \"mag_err_i\": shape (1505017869,), type \">f4\">)\n",
      "(u'catalog/gold/mag_err_r', <HDF5 dataset \"mag_err_r\": shape (1505017869,), type \">f4\">)\n",
      "(u'catalog/gold/mag_err_z', <HDF5 dataset \"mag_err_z\": shape (1505017869,), type \">f4\">)\n",
      "(u'catalog/gold/mag_g', <HDF5 dataset \"mag_g\": shape (1505017869,), type \">f4\">)\n",
      "(u'catalog/gold/mag_g_lensed', <HDF5 dataset \"mag_g_lensed\": shape (1505017869,), type \">f4\">)\n",
      "(u'catalog/gold/mag_g_true', <HDF5 dataset \"mag_g_true\": shape (1505017869,), type \">f4\">)\n",
      "(u'catalog/gold/mag_i', <HDF5 dataset \"mag_i\": shape (1505017869,), type \">f4\">)\n",
      "(u'catalog/gold/mag_i_lensed', <HDF5 dataset \"mag_i_lensed\": shape (1505017869,), type \">f4\">)\n",
      "(u'catalog/gold/mag_i_true', <HDF5 dataset \"mag_i_true\": shape (1505017869,), type \">f4\">)\n",
      "(u'catalog/gold/mag_r', <HDF5 dataset \"mag_r\": shape (1505017869,), type \">f4\">)\n",
      "(u'catalog/gold/mag_r_lensed', <HDF5 dataset \"mag_r_lensed\": shape (1505017869,), type \">f4\">)\n",
      "(u'catalog/gold/mag_r_true', <HDF5 dataset \"mag_r_true\": shape (1505017869,), type \">f4\">)\n",
      "(u'catalog/gold/mag_z', <HDF5 dataset \"mag_z\": shape (1505017869,), type \">f4\">)\n",
      "(u'catalog/gold/mag_z_lensed', <HDF5 dataset \"mag_z_lensed\": shape (1505017869,), type \">f4\">)\n",
      "(u'catalog/gold/mag_z_true', <HDF5 dataset \"mag_z_true\": shape (1505017869,), type \">f4\">)\n",
      "(u'catalog/gold/px', <HDF5 dataset \"px\": shape (1505017869,), type \">f4\">)\n",
      "(u'catalog/gold/py', <HDF5 dataset \"py\": shape (1505017869,), type \">f4\">)\n",
      "(u'catalog/gold/pz', <HDF5 dataset \"pz\": shape (1505017869,), type \">f4\">)\n",
      "(u'catalog/gold/r200', <HDF5 dataset \"r200\": shape (1505017869,), type \">f4\">)\n",
      "(u'catalog/gold/ra', <HDF5 dataset \"ra\": shape (1505017869,), type \">f4\">)\n",
      "(u'catalog/gold/rhalo', <HDF5 dataset \"rhalo\": shape (1505017869,), type \">f4\">)\n",
      "(u'catalog/gold/sdss_sedid', <HDF5 dataset \"sdss_sedid\": shape (1505017869,), type \">i8\">)\n",
      "(u'catalog/gold/vx', <HDF5 dataset \"vx\": shape (1505017869,), type \">f4\">)\n",
      "(u'catalog/gold/vy', <HDF5 dataset \"vy\": shape (1505017869,), type \">f4\">)\n",
      "(u'catalog/gold/vz', <HDF5 dataset \"vz\": shape (1505017869,), type \">f4\">)\n",
      "(u'masks/gold/hpix', <HDF5 dataset \"hpix\": shape (24711879,), type \"<i8\">)\n"
     ]
    }
   ],
   "source": [
    "master.visititems(show_h5_dataset)"
   ]
  },
  {
   "cell_type": "code",
   "execution_count": null,
   "metadata": {},
   "outputs": [],
   "source": []
  },
  {
   "cell_type": "code",
   "execution_count": 120,
   "metadata": {},
   "outputs": [],
   "source": [
    "select     = indexes['index/gold/select'][:]\n",
    "mag_i      = master['catalog/gold/mag_i'][:][select]\n",
    "maglim_idx = select[mag_i<=23.5]\n",
    "\n",
    "hpx16384   = master['catalog/gold/hpix_16384'][:][maglim_idx]\n",
    "ra         = master['catalog/gold/ra'][:][maglim_idx]\n",
    "dec        = master['catalog/gold/dec'][:][maglim_idx]\n",
    "select=mag_i=0\n",
    "\n",
    "master.close()\n",
    "indexes.close()"
   ]
  },
  {
   "cell_type": "code",
   "execution_count": 121,
   "metadata": {},
   "outputs": [],
   "source": [
    "select=mag_i=0"
   ]
  },
  {
   "cell_type": "code",
   "execution_count": 123,
   "metadata": {},
   "outputs": [],
   "source": [
    "hpx32 = radec_pix(ra,dec,nside=32)\n",
    "ra = dec = 0"
   ]
  },
  {
   "cell_type": "code",
   "execution_count": 122,
   "metadata": {},
   "outputs": [],
   "source": [
    "# indexes= h5py.File(fname_aux,'r')\n",
    "# dnf    = indexes['catalog/dnf/unsheared']\n",
    "\n",
    "# d_cid  = dnf['coadd_object_id'][:][maglim_idx]\n",
    "# d_z    = dnf['z'][:][maglim_idx]\n",
    "# d_zmean= dnf['z_mean'][:][maglim_idx]\n",
    "# d_sigma= dnf['z_sigma'][:][maglim_idx]\n",
    "\n",
    "# indexes.close()"
   ]
  },
  {
   "cell_type": "code",
   "execution_count": null,
   "metadata": {},
   "outputs": [],
   "source": []
  },
  {
   "cell_type": "markdown",
   "metadata": {},
   "source": [
    "## Load All Halos Catalog"
   ]
  },
  {
   "cell_type": "code",
   "execution_count": 124,
   "metadata": {},
   "outputs": [],
   "source": [
    "def read_halos(profile_output_fname, halo_run_fname):\n",
    "    ### read in profile file\n",
    "    data = Table(getdata(profile_output_fname))\n",
    "    data_h = Table(getdata(halo_run_fname))\n",
    "    \n",
    "    #### discard bad halos ####\n",
    "    cosi_all = data['cosi']\n",
    "    pid_all = data['pid']\n",
    "    redshift = data['redshift']\n",
    "    \n",
    "    select_good = (pid_all==-1)&(cosi_all>=0)&(cosi_all<=1)##&(self.lam_all > 3)\n",
    "    select_good = select_good & ((redshift < 0.33)|(redshift > 0.37))\n",
    "    \n",
    "    print('all vs good',len(cosi_all), len(cosi_all[select_good]))\n",
    "    data_h.rename_column('HALOID','haloid')\n",
    "    table = join(data_h,data[select_good],keys=['haloid'])\n",
    "    return table\n"
   ]
  },
  {
   "cell_type": "code",
   "execution_count": 125,
   "metadata": {},
   "outputs": [
    {
     "name": "stdout",
     "output_type": "stream",
     "text": [
      "('all vs good', 1418121, 611205)\n"
     ]
    }
   ],
   "source": [
    "path_halo = '/data/des61.a/data/johnny/Buzzard/Buzzard_v2.0.0/y3_rm/halos/'\n",
    "profile_output_fname = path_halo+'buzzard-1.9.8_3y3a_run_halos_profiles.fit'\n",
    "halo_run_fname = path_halo + 'buzzard-1.9.8_3y3a_run_halos_lambda_chisq_mu_star.fit'\n",
    "cat = read_halos(profile_output_fname, halo_run_fname)"
   ]
  },
  {
   "cell_type": "code",
   "execution_count": 14,
   "metadata": {},
   "outputs": [],
   "source": [
    "# cat"
   ]
  },
  {
   "cell_type": "code",
   "execution_count": 163,
   "metadata": {},
   "outputs": [],
   "source": [
    "# _ = plt.hist(cat['rmax'],bins=41)\n",
    "# plt.axvline(25,)\n",
    "# plt.yscale('log')"
   ]
  },
  {
   "cell_type": "code",
   "execution_count": 162,
   "metadata": {},
   "outputs": [],
   "source": [
    "# import healpy as hp\n",
    "\n",
    "# plt.scatter(zcls[::10],cat['rmax'][::10])\n",
    "# plt.axhline(hp.nside2resol(32,arcmin=True)/2.)"
   ]
  },
  {
   "cell_type": "code",
   "execution_count": 113,
   "metadata": {},
   "outputs": [
    {
     "data": {
      "text/plain": [
       "array([8926, 8927, 8948, 8949, 8950, 8951, 9098, 9120, 9122])"
      ]
     },
     "execution_count": 113,
     "metadata": {},
     "output_type": "execute_result"
    }
   ],
   "source": [
    "np.sort(np.append(hp.get_all_neighbours(32, tile, nest=True),tile))"
   ]
  },
  {
   "cell_type": "code",
   "execution_count": 109,
   "metadata": {},
   "outputs": [
    {
     "name": "stdout",
     "output_type": "stream",
     "text": [
      "[8926 8927 8948 8949 8950 8951 9098 9120 9122]\n"
     ]
    }
   ],
   "source": [
    "w      = esutil.numpy_util.where1(cluster_tile==tile)\n",
    "circles= get_healpix_list(cat[w],nside=32)\n",
    "print(np.sort(circles))\n"
   ]
  },
  {
   "cell_type": "code",
   "execution_count": 103,
   "metadata": {},
   "outputs": [
    {
     "data": {
      "text/plain": [
       "8949"
      ]
     },
     "execution_count": 103,
     "metadata": {},
     "output_type": "execute_result"
    }
   ],
   "source": [
    "tile"
   ]
  },
  {
   "cell_type": "code",
   "execution_count": null,
   "metadata": {},
   "outputs": [],
   "source": []
  },
  {
   "cell_type": "code",
   "execution_count": null,
   "metadata": {},
   "outputs": [],
   "source": []
  },
  {
   "cell_type": "code",
   "execution_count": null,
   "metadata": {},
   "outputs": [],
   "source": []
  },
  {
   "cell_type": "code",
   "execution_count": null,
   "metadata": {},
   "outputs": [],
   "source": []
  },
  {
   "cell_type": "code",
   "execution_count": 74,
   "metadata": {},
   "outputs": [
    {
     "data": {
      "text/plain": [
       "109.93556517815699"
      ]
     },
     "execution_count": 74,
     "metadata": {},
     "output_type": "execute_result"
    }
   ],
   "source": []
  },
  {
   "cell_type": "code",
   "execution_count": null,
   "metadata": {},
   "outputs": [],
   "source": []
  },
  {
   "cell_type": "code",
   "execution_count": null,
   "metadata": {},
   "outputs": [],
   "source": []
  },
  {
   "cell_type": "markdown",
   "metadata": {},
   "source": [
    "## Create Healpix Map"
   ]
  },
  {
   "cell_type": "code",
   "execution_count": 128,
   "metadata": {},
   "outputs": [],
   "source": [
    "import sys\n",
    "sys.path.append('/data/des61.a/data/johnny/DESY3/projects/buzzardAllHalos/CopacabanaRuns/selection/scripts/')\n",
    "from helper import AngularDistance,get_healpix_list,radec_pix"
   ]
  },
  {
   "cell_type": "code",
   "execution_count": 129,
   "metadata": {},
   "outputs": [],
   "source": [
    "rac = cat['RA']\n",
    "decc = cat['DEC']\n",
    "zcls = np.array(cat['redshift'])\n",
    "r200     = cat['R200'][:]*0.7 ## Mpc"
   ]
  },
  {
   "cell_type": "code",
   "execution_count": 130,
   "metadata": {},
   "outputs": [],
   "source": [
    "cluster_tile = radec_pix(rac,decc,nside=32)\n",
    "myfields = np.unique(cluster_tile)"
   ]
  },
  {
   "cell_type": "code",
   "execution_count": 131,
   "metadata": {},
   "outputs": [
    {
     "name": "stdout",
     "output_type": "stream",
     "text": [
      "Number of fields: 1698\n"
     ]
    }
   ],
   "source": [
    "print('Number of fields: %i'%len(myfields))"
   ]
  },
  {
   "cell_type": "code",
   "execution_count": 19,
   "metadata": {},
   "outputs": [],
   "source": [
    "Nside = 16384\n",
    "rad2deg  = 180/np.pi\n",
    "rmax     = 8 #Mpc around each cluster\n",
    "\n",
    "DA       = AngularDistance(zcls)\n",
    "\n",
    "## compute the radii max\n",
    "cat['rmax']  = 60*(float(rmax)/DA)*rad2deg ## arcmin"
   ]
  },
  {
   "cell_type": "code",
   "execution_count": null,
   "metadata": {},
   "outputs": [],
   "source": []
  },
  {
   "cell_type": "markdown",
   "metadata": {},
   "source": [
    "## Saving Each Field"
   ]
  },
  {
   "cell_type": "code",
   "execution_count": 132,
   "metadata": {},
   "outputs": [],
   "source": [
    "outdir = '/data/des61.a/data/johnny/Buzzard/Buzzard-3_v1.9.8_Y3a/catalog/y3/'\n",
    "outfile_base = outdir+'buzzard_y3_v1.9.8_all_raw_hpx8_{:06d}.hdf'"
   ]
  },
  {
   "cell_type": "code",
   "execution_count": 133,
   "metadata": {},
   "outputs": [
    {
     "data": {
      "text/plain": [
       "'/data/des61.a/data/johnny/Buzzard/Buzzard-3_v1.9.8_Y3a/catalog/y3/buzzard_y3_v1.9.8_all_raw_hpx8_00031.hdf'"
      ]
     },
     "execution_count": 133,
     "metadata": {},
     "output_type": "execute_result"
    }
   ],
   "source": [
    "outfile_base.format(31)"
   ]
  },
  {
   "cell_type": "markdown",
   "metadata": {
    "tags": []
   },
   "source": [
    "### Retrieving Galaxy Catalogs"
   ]
  },
  {
   "cell_type": "code",
   "execution_count": 134,
   "metadata": {},
   "outputs": [],
   "source": [
    "def save_hdf5_output(gal,outfile):\n",
    "    df  = gal.to_pandas()\n",
    "    df.to_hdf(outfile, key='members', mode='w')\n",
    "\n",
    "    gal = 0"
   ]
  },
  {
   "cell_type": "code",
   "execution_count": 135,
   "metadata": {},
   "outputs": [],
   "source": [
    "def load_hdf_files(infile,indices,columns,path='catalog/gold/'):\n",
    "    master = h5py.File(infile,'r')\n",
    "    gold   = master[path]\n",
    "    \n",
    "    mydict = dict().fromkeys(columns)\n",
    "    \n",
    "    mydict['id'] = indices\n",
    "    for col in columns:\n",
    "        mydict[col] = gold[col][:][indices]\n",
    "    \n",
    "    master.close()\n",
    "    return Table(mydict)"
   ]
  },
  {
   "cell_type": "code",
   "execution_count": null,
   "metadata": {},
   "outputs": [],
   "source": []
  },
  {
   "cell_type": "markdown",
   "metadata": {},
   "source": [
    "## Retrieve Second Method"
   ]
  },
  {
   "cell_type": "code",
   "execution_count": 136,
   "metadata": {},
   "outputs": [],
   "source": [
    "idx = np.random.randint(len(myfields),size=3)\n",
    "myfields = myfields[idx] # for test purposes only\n",
    "array_path = outdir+'tmp/'"
   ]
  },
  {
   "cell_type": "code",
   "execution_count": null,
   "metadata": {},
   "outputs": [],
   "source": []
  },
  {
   "cell_type": "code",
   "execution_count": 94,
   "metadata": {},
   "outputs": [],
   "source": [
    "from time import time"
   ]
  },
  {
   "cell_type": "code",
   "execution_count": 137,
   "metadata": {},
   "outputs": [
    {
     "name": "stdout",
     "output_type": "stream",
     "text": [
      "Starting Query\n",
      "start tile: 11388\n",
      "Number Of Clusters: 442\n",
      "Circles: done\n",
      "/data/des61.a/data/johnny/Buzzard/Buzzard-3_v1.9.8_Y3a/catalog/y3/tmp/011388_indices_arr.npy\n",
      "partial time: 0.09 min\n",
      "run time    : 0.09 min\n",
      "\n",
      "\n",
      "start tile: 11712\n",
      "Number Of Clusters: 361\n",
      "Circles: done\n",
      "/data/des61.a/data/johnny/Buzzard/Buzzard-3_v1.9.8_Y3a/catalog/y3/tmp/011712_indices_arr.npy\n",
      "partial time: 0.08 min\n",
      "run time    : 0.16 min\n",
      "\n",
      "\n",
      "start tile: 4101\n",
      "Number Of Clusters: 373\n",
      "Circles: done\n",
      "/data/des61.a/data/johnny/Buzzard/Buzzard-3_v1.9.8_Y3a/catalog/y3/tmp/004101_indices_arr.npy\n",
      "partial time: 0.11 min\n",
      "run time    : 0.27 min\n",
      "\n",
      "\n"
     ]
    }
   ],
   "source": [
    "print('Starting Query')\n",
    "t0 = time()\n",
    "time_evolution = np.empty((len(myfields)+1,),dtype=np.float64)\n",
    "time_evolution[0] = t0\n",
    "\n",
    "for i, tile in enumerate(myfields[:3]):\n",
    "    print('start tile: %i'%(tile))\n",
    "    w      = esutil.numpy_util.where1(cluster_tile==tile)\n",
    "    print('Number Of Clusters: %i'%(w.size))\n",
    "    \n",
    "    circles = np.append(hp.get_all_neighbours(32, tile, nest=True),tile)\n",
    "    #circles= get_healpix_list(cat[w],nside=Nside)\n",
    "    print('Circles: done')\n",
    "    \n",
    "    #match  = esutil.numpy_util.match(circles,hpx16384)\n",
    "    match  = esutil.numpy_util.match(circles,hpx32)\n",
    "    indices= maglim_idx[match[1]]\n",
    "    \n",
    "    np.save('{}{:06d}_indices_arr.npy'.format(array_path, tile), indices)\n",
    "    print('{}{:06d}_indices_arr.npy'.format(array_path, tile))\n",
    "\n",
    "    time_evolution[i+1] = time()\n",
    "    print('partial time: %.2f min'%((time_evolution[i+1]-time_evolution[i])/60.))\n",
    "    print('run time    : %.2f min'%((time_evolution[i+1]-time_evolution[0])/60.))\n",
    "    print('\\n')\n"
   ]
  },
  {
   "cell_type": "code",
   "execution_count": 161,
   "metadata": {},
   "outputs": [
    {
     "data": {
      "text/plain": [
       "8"
      ]
     },
     "execution_count": 161,
     "metadata": {},
     "output_type": "execute_result"
    }
   ],
   "source": [
    "16*2000/3600"
   ]
  },
  {
   "cell_type": "code",
   "execution_count": null,
   "metadata": {},
   "outputs": [],
   "source": []
  },
  {
   "cell_type": "code",
   "execution_count": 164,
   "metadata": {},
   "outputs": [
    {
     "name": "stdout",
     "output_type": "stream",
     "text": [
      "Retrieve Columns\n",
      "hpix_16384\n",
      "/data/des61.a/data/johnny/Buzzard/Buzzard-3_v1.9.8_Y3a/catalog/y3/tmp/011388_hpix_16384_arr.npy\n",
      "/data/des61.a/data/johnny/Buzzard/Buzzard-3_v1.9.8_Y3a/catalog/y3/tmp/011712_hpix_16384_arr.npy\n",
      "/data/des61.a/data/johnny/Buzzard/Buzzard-3_v1.9.8_Y3a/catalog/y3/tmp/004101_hpix_16384_arr.npy\n",
      "\n",
      "\n",
      "haloid\n",
      "/data/des61.a/data/johnny/Buzzard/Buzzard-3_v1.9.8_Y3a/catalog/y3/tmp/011388_haloid_arr.npy\n",
      "/data/des61.a/data/johnny/Buzzard/Buzzard-3_v1.9.8_Y3a/catalog/y3/tmp/011712_haloid_arr.npy\n",
      "/data/des61.a/data/johnny/Buzzard/Buzzard-3_v1.9.8_Y3a/catalog/y3/tmp/004101_haloid_arr.npy\n",
      "\n",
      "\n",
      "coadd_object_id\n",
      "/data/des61.a/data/johnny/Buzzard/Buzzard-3_v1.9.8_Y3a/catalog/y3/tmp/011388_coadd_object_id_arr.npy\n",
      "/data/des61.a/data/johnny/Buzzard/Buzzard-3_v1.9.8_Y3a/catalog/y3/tmp/011712_coadd_object_id_arr.npy\n",
      "/data/des61.a/data/johnny/Buzzard/Buzzard-3_v1.9.8_Y3a/catalog/y3/tmp/004101_coadd_object_id_arr.npy\n",
      "\n",
      "\n",
      "ra\n",
      "/data/des61.a/data/johnny/Buzzard/Buzzard-3_v1.9.8_Y3a/catalog/y3/tmp/011388_ra_arr.npy\n",
      "/data/des61.a/data/johnny/Buzzard/Buzzard-3_v1.9.8_Y3a/catalog/y3/tmp/011712_ra_arr.npy\n",
      "/data/des61.a/data/johnny/Buzzard/Buzzard-3_v1.9.8_Y3a/catalog/y3/tmp/004101_ra_arr.npy\n",
      "\n",
      "\n",
      "dec\n",
      "/data/des61.a/data/johnny/Buzzard/Buzzard-3_v1.9.8_Y3a/catalog/y3/tmp/011388_dec_arr.npy\n",
      "/data/des61.a/data/johnny/Buzzard/Buzzard-3_v1.9.8_Y3a/catalog/y3/tmp/011712_dec_arr.npy\n",
      "/data/des61.a/data/johnny/Buzzard/Buzzard-3_v1.9.8_Y3a/catalog/y3/tmp/004101_dec_arr.npy\n",
      "\n",
      "\n",
      "rhalo\n",
      "/data/des61.a/data/johnny/Buzzard/Buzzard-3_v1.9.8_Y3a/catalog/y3/tmp/011388_rhalo_arr.npy\n",
      "/data/des61.a/data/johnny/Buzzard/Buzzard-3_v1.9.8_Y3a/catalog/y3/tmp/011712_rhalo_arr.npy\n",
      "/data/des61.a/data/johnny/Buzzard/Buzzard-3_v1.9.8_Y3a/catalog/y3/tmp/004101_rhalo_arr.npy\n",
      "\n",
      "\n",
      "mag_g\n",
      "/data/des61.a/data/johnny/Buzzard/Buzzard-3_v1.9.8_Y3a/catalog/y3/tmp/011388_mag_g_arr.npy\n",
      "/data/des61.a/data/johnny/Buzzard/Buzzard-3_v1.9.8_Y3a/catalog/y3/tmp/011712_mag_g_arr.npy\n",
      "/data/des61.a/data/johnny/Buzzard/Buzzard-3_v1.9.8_Y3a/catalog/y3/tmp/004101_mag_g_arr.npy\n",
      "\n",
      "\n",
      "mag_r\n",
      "/data/des61.a/data/johnny/Buzzard/Buzzard-3_v1.9.8_Y3a/catalog/y3/tmp/011388_mag_r_arr.npy\n",
      "/data/des61.a/data/johnny/Buzzard/Buzzard-3_v1.9.8_Y3a/catalog/y3/tmp/011712_mag_r_arr.npy\n",
      "/data/des61.a/data/johnny/Buzzard/Buzzard-3_v1.9.8_Y3a/catalog/y3/tmp/004101_mag_r_arr.npy\n",
      "\n",
      "\n",
      "mag_i\n",
      "/data/des61.a/data/johnny/Buzzard/Buzzard-3_v1.9.8_Y3a/catalog/y3/tmp/011388_mag_i_arr.npy\n",
      "/data/des61.a/data/johnny/Buzzard/Buzzard-3_v1.9.8_Y3a/catalog/y3/tmp/011712_mag_i_arr.npy\n",
      "/data/des61.a/data/johnny/Buzzard/Buzzard-3_v1.9.8_Y3a/catalog/y3/tmp/004101_mag_i_arr.npy\n",
      "\n",
      "\n",
      "mag_z\n",
      "/data/des61.a/data/johnny/Buzzard/Buzzard-3_v1.9.8_Y3a/catalog/y3/tmp/011388_mag_z_arr.npy\n",
      "/data/des61.a/data/johnny/Buzzard/Buzzard-3_v1.9.8_Y3a/catalog/y3/tmp/011712_mag_z_arr.npy\n",
      "/data/des61.a/data/johnny/Buzzard/Buzzard-3_v1.9.8_Y3a/catalog/y3/tmp/004101_mag_z_arr.npy\n",
      "\n",
      "\n",
      "mag_err_g\n",
      "/data/des61.a/data/johnny/Buzzard/Buzzard-3_v1.9.8_Y3a/catalog/y3/tmp/011388_mag_err_g_arr.npy\n",
      "/data/des61.a/data/johnny/Buzzard/Buzzard-3_v1.9.8_Y3a/catalog/y3/tmp/011712_mag_err_g_arr.npy\n",
      "/data/des61.a/data/johnny/Buzzard/Buzzard-3_v1.9.8_Y3a/catalog/y3/tmp/004101_mag_err_g_arr.npy\n",
      "\n",
      "\n",
      "mag_err_r\n",
      "/data/des61.a/data/johnny/Buzzard/Buzzard-3_v1.9.8_Y3a/catalog/y3/tmp/011388_mag_err_r_arr.npy\n",
      "/data/des61.a/data/johnny/Buzzard/Buzzard-3_v1.9.8_Y3a/catalog/y3/tmp/011712_mag_err_r_arr.npy\n",
      "/data/des61.a/data/johnny/Buzzard/Buzzard-3_v1.9.8_Y3a/catalog/y3/tmp/004101_mag_err_r_arr.npy\n",
      "\n",
      "\n",
      "mag_err_i\n",
      "/data/des61.a/data/johnny/Buzzard/Buzzard-3_v1.9.8_Y3a/catalog/y3/tmp/011388_mag_err_i_arr.npy\n",
      "/data/des61.a/data/johnny/Buzzard/Buzzard-3_v1.9.8_Y3a/catalog/y3/tmp/011712_mag_err_i_arr.npy\n",
      "/data/des61.a/data/johnny/Buzzard/Buzzard-3_v1.9.8_Y3a/catalog/y3/tmp/004101_mag_err_i_arr.npy\n",
      "\n",
      "\n",
      "mag_err_z\n",
      "/data/des61.a/data/johnny/Buzzard/Buzzard-3_v1.9.8_Y3a/catalog/y3/tmp/011388_mag_err_z_arr.npy\n",
      "/data/des61.a/data/johnny/Buzzard/Buzzard-3_v1.9.8_Y3a/catalog/y3/tmp/011712_mag_err_z_arr.npy\n",
      "/data/des61.a/data/johnny/Buzzard/Buzzard-3_v1.9.8_Y3a/catalog/y3/tmp/004101_mag_err_z_arr.npy\n",
      "\n",
      "\n"
     ]
    }
   ],
   "source": [
    "print('Retrieve Columns')\n",
    "indices = hpx16384 = 0\n",
    "\n",
    "master = h5py.File(fname,'r')\n",
    "gold   = master['catalog/gold/']\n",
    "for col in columns:\n",
    "    print(col)\n",
    "    array = gold[col][:]\n",
    "    for tile in myfields[:3]:\n",
    "        indices = np.load('{}{:06d}_indices_arr.npy'.format(array_path, tile))\n",
    "        sub_array = array[indices]\n",
    "        np.save('{}{:06d}_{}_arr.npy'.format(array_path, tile, col), sub_array)\n",
    "        print('{}{:06d}_{}_arr.npy'.format(array_path, tile, col))\n",
    "        sub_array = 0\n",
    "    array = 0\n",
    "    print('\\n')\n",
    "master.close()"
   ]
  },
  {
   "cell_type": "code",
   "execution_count": null,
   "metadata": {},
   "outputs": [],
   "source": []
  },
  {
   "cell_type": "code",
   "execution_count": 165,
   "metadata": {},
   "outputs": [],
   "source": [
    "pz_columns = ['z_mean','z_sigma']"
   ]
  },
  {
   "cell_type": "code",
   "execution_count": 166,
   "metadata": {},
   "outputs": [
    {
     "name": "stdout",
     "output_type": "stream",
     "text": [
      "Retrieve Photoz Columns\n",
      "z_mean\n",
      "/data/des61.a/data/johnny/Buzzard/Buzzard-3_v1.9.8_Y3a/catalog/y3/tmp/011388_z_mean_dnf_arr.npy\n",
      "/data/des61.a/data/johnny/Buzzard/Buzzard-3_v1.9.8_Y3a/catalog/y3/tmp/011712_z_mean_dnf_arr.npy\n",
      "/data/des61.a/data/johnny/Buzzard/Buzzard-3_v1.9.8_Y3a/catalog/y3/tmp/004101_z_mean_dnf_arr.npy\n",
      "\n",
      "\n",
      "z_sigma\n",
      "/data/des61.a/data/johnny/Buzzard/Buzzard-3_v1.9.8_Y3a/catalog/y3/tmp/011388_z_sigma_dnf_arr.npy\n",
      "/data/des61.a/data/johnny/Buzzard/Buzzard-3_v1.9.8_Y3a/catalog/y3/tmp/011712_z_sigma_dnf_arr.npy\n",
      "/data/des61.a/data/johnny/Buzzard/Buzzard-3_v1.9.8_Y3a/catalog/y3/tmp/004101_z_sigma_dnf_arr.npy\n",
      "\n",
      "\n"
     ]
    }
   ],
   "source": [
    "print('Retrieve Photoz Columns')\n",
    "\n",
    "master = h5py.File(fname_aux,'r')\n",
    "gold   = master['catalog/dnf/unsheared/']\n",
    "for col in pz_columns:\n",
    "    print(col)\n",
    "    array = gold[col][:]\n",
    "    for tile in myfields[:3]:\n",
    "        indices = np.load('{}{:06d}_indices_arr.npy'.format(array_path, tile))\n",
    "        sub_array = array[indices]\n",
    "        np.save('{}{:06d}_{}_arr.npy'.format(array_path, tile, col+'_dnf'), sub_array)\n",
    "        print('{}{:06d}_{}_arr.npy'.format(array_path, tile, col+'_dnf'))\n",
    "        sub_array = 0\n",
    "    array = 0\n",
    "    print('\\n')\n",
    "master.close()"
   ]
  },
  {
   "cell_type": "code",
   "execution_count": 217,
   "metadata": {},
   "outputs": [
    {
     "name": "stdout",
     "output_type": "stream",
     "text": [
      "Retrieve Photoz-BPZ Columns\n",
      "z\n",
      "/data/des61.a/data/johnny/Buzzard/Buzzard-3_v1.9.8_Y3a/catalog/y3/tmp/011388_z_bpz_arr.npy\n",
      "/data/des61.a/data/johnny/Buzzard/Buzzard-3_v1.9.8_Y3a/catalog/y3/tmp/011712_z_bpz_arr.npy\n",
      "/data/des61.a/data/johnny/Buzzard/Buzzard-3_v1.9.8_Y3a/catalog/y3/tmp/004101_z_bpz_arr.npy\n",
      "\n",
      "\n",
      "redshift_cos\n",
      "/data/des61.a/data/johnny/Buzzard/Buzzard-3_v1.9.8_Y3a/catalog/y3/tmp/011388_redshift_cos_bpz_arr.npy\n",
      "/data/des61.a/data/johnny/Buzzard/Buzzard-3_v1.9.8_Y3a/catalog/y3/tmp/011712_redshift_cos_bpz_arr.npy\n",
      "/data/des61.a/data/johnny/Buzzard/Buzzard-3_v1.9.8_Y3a/catalog/y3/tmp/004101_redshift_cos_bpz_arr.npy\n",
      "\n",
      "\n",
      "coadd_object_id\n",
      "/data/des61.a/data/johnny/Buzzard/Buzzard-3_v1.9.8_Y3a/catalog/y3/tmp/011388_coadd_object_id_bpz_arr.npy\n",
      "/data/des61.a/data/johnny/Buzzard/Buzzard-3_v1.9.8_Y3a/catalog/y3/tmp/011712_coadd_object_id_bpz_arr.npy\n",
      "/data/des61.a/data/johnny/Buzzard/Buzzard-3_v1.9.8_Y3a/catalog/y3/tmp/004101_coadd_object_id_bpz_arr.npy\n",
      "\n",
      "\n"
     ]
    }
   ],
   "source": [
    "print('Retrieve Photoz-BPZ Columns')\n",
    "bpz_columns = ['z','redshift_cos','coadd_object_id']\n",
    "\n",
    "fname  = path+'Buzzard_v1.9.8_Y3a_bpz.h5'\n",
    "master = h5py.File(fname,'r')\n",
    "gold   = master['catalog/bpz']\n",
    "#gold.visititems(show_h5_dataset)\n",
    "for col in bpz_columns:\n",
    "    print(col)\n",
    "    array = gold[col][:]\n",
    "    for tile in myfields[:3]:\n",
    "        indices = np.load('{}{:06d}_indices_arr.npy'.format(array_path, tile))\n",
    "        sub_array = array[indices]\n",
    "        np.save('{}{:06d}_{}_arr.npy'.format(array_path, tile, col+'_bpz'), sub_array)\n",
    "        print('{}{:06d}_{}_arr.npy'.format(array_path, tile, col+'_bpz'))\n",
    "        sub_array = 0\n",
    "    array = 0\n",
    "    print('\\n')\n",
    "master.close()"
   ]
  },
  {
   "cell_type": "code",
   "execution_count": null,
   "metadata": {},
   "outputs": [],
   "source": []
  },
  {
   "cell_type": "code",
   "execution_count": null,
   "metadata": {},
   "outputs": [],
   "source": []
  },
  {
   "cell_type": "code",
   "execution_count": null,
   "metadata": {},
   "outputs": [],
   "source": []
  },
  {
   "cell_type": "code",
   "execution_count": 218,
   "metadata": {},
   "outputs": [],
   "source": [
    "pz_columns_out = [i+'_dnf' for i in pz_columns]\n",
    "bpz_columns_out = [i+'_bpz' for i in bpz_columns]\n",
    "all_columns = columns+bpz_columns_out+pz_columns_out"
   ]
  },
  {
   "cell_type": "code",
   "execution_count": 219,
   "metadata": {},
   "outputs": [],
   "source": [
    "def load_tmp_file(tile):\n",
    "    mydict = dict().fromkeys(columns)\n",
    "    indices = np.load('{}{:06d}_{}_arr.npy'.format(array_path, tile, 'indices'))\n",
    "    mydict['id'] = indices\n",
    "    for col in all_columns:\n",
    "        mydict[col] = np.load('{}{:06d}_{}_arr.npy'.format(array_path, tile, col))\n",
    "    return Table(mydict)"
   ]
  },
  {
   "cell_type": "code",
   "execution_count": 220,
   "metadata": {},
   "outputs": [
    {
     "name": "stdout",
     "output_type": "stream",
     "text": [
      "join tile: 11388\n",
      "join tile: 11712\n",
      "join tile: 4101\n"
     ]
    }
   ],
   "source": [
    "for i, tile in enumerate(myfields[:3]):\n",
    "    print('join tile: %i'%(tile))\n",
    "    outfile = outfile_base.format(tile)\n",
    "    gal = load_tmp_file(tile)\n",
    "    gal.rename_column('z_bpz','z')\n",
    "    save_hdf5_output(gal,outfile)"
   ]
  },
  {
   "cell_type": "code",
   "execution_count": null,
   "metadata": {},
   "outputs": [],
   "source": []
  },
  {
   "cell_type": "code",
   "execution_count": 221,
   "metadata": {},
   "outputs": [],
   "source": [
    "import pandas as pd\n",
    "from astropy.table import Table"
   ]
  },
  {
   "cell_type": "code",
   "execution_count": 222,
   "metadata": {},
   "outputs": [],
   "source": [
    "def upload_dataFrame(infile,keys='members'):\n",
    "    hdf = pd.HDFStore(infile, mode='r')\n",
    "    df1 = hdf.get(keys)\n",
    "    hdf.close()\n",
    "    data = Table.from_pandas(df1)\n",
    "    return data"
   ]
  },
  {
   "cell_type": "code",
   "execution_count": null,
   "metadata": {},
   "outputs": [],
   "source": []
  },
  {
   "cell_type": "code",
   "execution_count": 223,
   "metadata": {},
   "outputs": [],
   "source": [
    "# for hi in myfields[:3]:\n",
    "#     outfile = outfile_base.format(hi)\n",
    "#     gi = upload_dataFrame(outfile,keys='members')\n",
    "#     ra, dec = gi['ra'][5:], gi['dec'][5:]\n",
    "#     plt.scatter(ra[::10],dec[::10],alpha=0.3)\n",
    "\n",
    "# # ra = ra[ra!=0]\n",
    "# # dec = dec[ra!=0]"
   ]
  },
  {
   "cell_type": "code",
   "execution_count": 224,
   "metadata": {},
   "outputs": [
    {
     "data": {
      "text/plain": [
       "<matplotlib.collections.PathCollection at 0x7faef4792ed0>"
      ]
     },
     "execution_count": 224,
     "metadata": {},
     "output_type": "execute_result"
    },
    {
     "data": {
      "image/png": "[encoded data removed]",
      "text/plain": [
       "<Figure size 432x288 with 1 Axes>"
      ]
     },
     "metadata": {},
     "output_type": "display_data"
    }
   ],
   "source": [
    "hi = 4101\n",
    "outfile = outfile_base.format(hi)\n",
    "gi = upload_dataFrame(outfile,keys='members')\n",
    "ra, dec = gi['ra'][5:], gi['dec'][5:]\n",
    "plt.scatter(ra[::20],dec[::20],alpha=0.1)\n"
   ]
  },
  {
   "cell_type": "code",
   "execution_count": 225,
   "metadata": {},
   "outputs": [],
   "source": [
    "# cat[w][:5]"
   ]
  },
  {
   "cell_type": "code",
   "execution_count": 226,
   "metadata": {},
   "outputs": [
    {
     "data": {
      "text/html": [
       "&lt;Table length=134&gt;\n",
       "<table id=\"table140389235528400\" class=\"table-striped table-bordered table-condensed\">\n",
       "<thead><tr><th>mag_err_i</th><th>mag_g</th><th>mag_err_r</th><th>coadd_object_id_bpz</th><th>mag_r</th><th>mag_i</th><th>z_mean_dnf</th><th>id</th><th>hpix_16384</th><th>mag_err_z</th><th>redshift_cos_bpz</th><th>ra</th><th>z</th><th>haloid</th><th>coadd_object_id</th><th>dec</th><th>z_sigma_dnf</th><th>rhalo</th><th>mag_err_g</th><th>mag_z</th></tr></thead>\n",
       "<thead><tr><th>float32</th><th>float32</th><th>float32</th><th>int64</th><th>float32</th><th>float32</th><th>float64</th><th>int64</th><th>int64</th><th>float32</th><th>float64</th><th>float32</th><th>float64</th><th>int64</th><th>int64</th><th>float32</th><th>float64</th><th>float32</th><th>float32</th><th>float32</th></tr></thead>\n",
       "<tr><td>0.089976</td><td>23.658897</td><td>0.08524102</td><td>105000131984</td><td>23.175135</td><td>22.880547</td><td>0.17052199598061266</td><td>8751383</td><td>1074902064</td><td>0.40936595</td><td>0.1830434378456267</td><td>3.251472</td><td>0.18330554715940572</td><td>7940974</td><td>105000131984</td><td>-37.04765</td><td>0.06705408047536143</td><td>7.17671</td><td>0.092939876</td><td>23.591688</td></tr>\n",
       "<tr><td>0.019001445</td><td>21.381285</td><td>0.02138754</td><td>105000030718</td><td>20.519094</td><td>19.995716</td><td>0.44094977169445837</td><td>8754568</td><td>1074902918</td><td>0.03481545</td><td>0.18274272080365894</td><td>3.2330577</td><td>0.18278942977840318</td><td>7940974</td><td>105000030718</td><td>-36.947502</td><td>0.08942370380591601</td><td>6.4744153</td><td>0.024325442</td><td>19.704494</td></tr>\n",
       "<tr><td>0.07903726</td><td>23.426853</td><td>0.071995094</td><td>105000109810</td><td>22.851353</td><td>22.596323</td><td>0.21784732300764165</td><td>8795829</td><td>1074913760</td><td>0.18993008</td><td>0.18437300449592353</td><td>3.370681</td><td>0.1847358663350263</td><td>7940974</td><td>105000109810</td><td>-36.874577</td><td>0.4626411533676608</td><td>7.126453</td><td>0.08457704</td><td>22.610138</td></tr>\n",
       "<tr><td>0.0061195856</td><td>19.407663</td><td>0.006383973</td><td>105000003526</td><td>18.301323</td><td>17.900963</td><td>0.1827137502446985</td><td>8805357</td><td>1074916481</td><td>0.010535822</td><td>0.18279703223344757</td><td>3.3185673</td><td>0.18293690598200715</td><td>7940974</td><td>105000003526</td><td>-36.766182</td><td>0.02236328925787023</td><td>4.886858</td><td>0.00870382</td><td>17.631044</td></tr>\n",
       "<tr><td>0.09649548</td><td>23.683058</td><td>0.09255781</td><td>105000142486</td><td>23.36842</td><td>23.040354</td><td>0.0</td><td>8815082</td><td>1074919121</td><td>0.18294154</td><td>0.18393983014687554</td><td>3.5721695</td><td>0.18404895046367875</td><td>7940974</td><td>105000142486</td><td>-36.592293</td><td>0.0</td><td>4.30038</td><td>0.08420631</td><td>22.993517</td></tr>\n",
       "<tr><td>0.1251049</td><td>23.995483</td><td>0.11795295</td><td>105000155410</td><td>23.669785</td><td>23.353199</td><td>0.0</td><td>8816220</td><td>1074919411</td><td>0.2090429</td><td>0.18161794265598386</td><td>3.6053748</td><td>0.18174038802530307</td><td>7940974</td><td>105000155410</td><td>-36.530098</td><td>0.0</td><td>3.4146903</td><td>0.10670078</td><td>23.162327</td></tr>\n",
       "<tr><td>0.1511897</td><td>24.080687</td><td>0.18235679</td><td>105000162742</td><td>23.929031</td><td>23.29444</td><td>0.0</td><td>8816434</td><td>1074919473</td><td>0.3105142</td><td>0.1809362515545323</td><td>3.4304826</td><td>0.181277832504522</td><td>7940974</td><td>105000162742</td><td>-36.67162</td><td>0.0</td><td>5.9762206</td><td>0.16131614</td><td>23.31901</td></tr>\n",
       "<tr><td>0.007657192</td><td>20.122475</td><td>0.007348394</td><td>105000008798</td><td>18.916279</td><td>18.53115</td><td>0.3414200697624208</td><td>8818888</td><td>1074920142</td><td>0.012354977</td><td>0.18146123820407345</td><td>3.3796272</td><td>0.18146876266331755</td><td>7940974</td><td>105000008798</td><td>-36.591846</td><td>0.06354382829498774</td><td>4.8839993</td><td>0.010667742</td><td>18.206394</td></tr>\n",
       "<tr><td>0.013274342</td><td>19.987518</td><td>0.013098353</td><td>105000015298</td><td>19.419104</td><td>19.086077</td><td>0.17370312907998509</td><td>8819661</td><td>1074920361</td><td>0.024070697</td><td>0.18152054993618183</td><td>3.3911166</td><td>0.1813211912051794</td><td>7940974</td><td>105000015298</td><td>-36.56114</td><td>0.03267211739901638</td><td>4.6403227</td><td>0.013886265</td><td>19.029936</td></tr>\n",
       "<tr><td>0.060921412</td><td>23.175432</td><td>0.053692088</td><td>105000098427</td><td>22.539064</td><td>22.275063</td><td>0.23820366749712268</td><td>8819851</td><td>1074920407</td><td>0.11148379</td><td>0.18141671144870708</td><td>3.446145</td><td>0.1811011144350026</td><td>7940974</td><td>105000098427</td><td>-36.53735</td><td>0.11706822158072527</td><td>4.5264015</td><td>0.066255316</td><td>22.21326</td></tr>\n",
       "<tr><td>...</td><td>...</td><td>...</td><td>...</td><td>...</td><td>...</td><td>...</td><td>...</td><td>...</td><td>...</td><td>...</td><td>...</td><td>...</td><td>...</td><td>...</td><td>...</td><td>...</td><td>...</td><td>...</td><td>...</td></tr>\n",
       "<tr><td>0.09018359</td><td>23.55124</td><td>0.0694202</td><td>105000116009</td><td>22.95208</td><td>22.82419</td><td>0.2723338006641127</td><td>9478142</td><td>1075096312</td><td>0.13876979</td><td>0.18157952381322362</td><td>3.5535789</td><td>0.18208926490219876</td><td>7940974</td><td>105000116009</td><td>-36.390625</td><td>0.11792258011223261</td><td>3.601447</td><td>0.080434225</td><td>22.570688</td></tr>\n",
       "<tr><td>0.06987462</td><td>23.52196</td><td>0.062388096</td><td>105000115627</td><td>22.904877</td><td>22.615396</td><td>0.22998322000250676</td><td>9478721</td><td>1075096481</td><td>0.14856397</td><td>0.18148476636821798</td><td>3.5729368</td><td>0.1821743831281739</td><td>7940974</td><td>105000115627</td><td>-36.385216</td><td>0.04756413861149725</td><td>3.7481198</td><td>0.07208999</td><td>22.714256</td></tr>\n",
       "<tr><td>0.14740303</td><td>23.934362</td><td>0.16120358</td><td>105000174966</td><td>23.95167</td><td>23.410547</td><td>0.0</td><td>9481547</td><td>1075097227</td><td>0.29496804</td><td>0.1837555621862479</td><td>3.6193686</td><td>0.1836307449347595</td><td>7940974</td><td>105000174966</td><td>-36.337475</td><td>0.0</td><td>3.5250666</td><td>0.11872855</td><td>23.423407</td></tr>\n",
       "<tr><td>0.017570157</td><td>21.108023</td><td>0.015889175</td><td>105000028637</td><td>20.392859</td><td>20.055965</td><td>0.2306188438677924</td><td>9485311</td><td>1075098213</td><td>0.028040146</td><td>0.18459720972404225</td><td>3.8404584</td><td>0.18444529682902294</td><td>7940974</td><td>105000028637</td><td>-36.330772</td><td>0.05216007284807063</td><td>5.4334087</td><td>0.019016355</td><td>19.899385</td></tr>\n",
       "<tr><td>0.103459835</td><td>23.943022</td><td>0.08371562</td><td>105000123985</td><td>23.000778</td><td>22.809761</td><td>0.4082120833098317</td><td>9487525</td><td>1075098803</td><td>0.15789805</td><td>0.18448624730241314</td><td>3.9309552</td><td>0.184387653108611</td><td>7940974</td><td>105000123985</td><td>-36.27556</td><td>0.20351560783993117</td><td>5.2987156</td><td>0.13671423</td><td>22.578024</td></tr>\n",
       "<tr><td>0.016323714</td><td>20.788445</td><td>0.013673942</td><td>105000028925</td><td>20.331858</td><td>20.15003</td><td>0.09041088212651416</td><td>9488805</td><td>1075099170</td><td>0.02744389</td><td>0.18268754087149186</td><td>3.8984187</td><td>0.18239730204303417</td><td>7940974</td><td>105000028925</td><td>-36.26861</td><td>0.05770330842219405</td><td>1.5608522</td><td>0.014555512</td><td>20.062344</td></tr>\n",
       "<tr><td>0.13338077</td><td>24.456818</td><td>0.15075643</td><td>105000172030</td><td>23.84589</td><td>23.348328</td><td>0.0</td><td>9491101</td><td>1075099798</td><td>0.2523014</td><td>0.1839383506987302</td><td>3.7708476</td><td>0.1838633479167357</td><td>7940974</td><td>105000172030</td><td>-36.28396</td><td>0.0</td><td>3.8155093</td><td>0.1728068</td><td>23.154034</td></tr>\n",
       "<tr><td>0.015400578</td><td>20.999605</td><td>0.014129158</td><td>105000021599</td><td>20.015125</td><td>19.583742</td><td>0.23027418977048925</td><td>9500801</td><td>1075102332</td><td>0.020095699</td><td>0.18470369538591447</td><td>4.1978507</td><td>0.18480813417602748</td><td>7940974</td><td>105000021599</td><td>-36.31627</td><td>0.058482432421866945</td><td>6.3576407</td><td>0.021659179</td><td>19.358353</td></tr>\n",
       "<tr><td>0.12601914</td><td>23.841564</td><td>0.12413673</td><td>105000152241</td><td>23.604965</td><td>23.188839</td><td>0.0</td><td>9509290</td><td>1075104571</td><td>0.33463785</td><td>0.18198911592075095</td><td>4.1252913</td><td>0.1822188156517608</td><td>7940974</td><td>105000152241</td><td>-36.202534</td><td>0.0</td><td>3.5134027</td><td>0.10050787</td><td>23.694723</td></tr>\n",
       "<tr><td>0.025729878</td><td>22.06039</td><td>0.023624633</td><td>105000050329</td><td>21.374132</td><td>21.0752</td><td>0.1964587790424872</td><td>9804504</td><td>1075183798</td><td>0.039957847</td><td>0.18434174018161276</td><td>3.4978976</td><td>0.18434931286292755</td><td>7940974</td><td>105000050329</td><td>-36.364906</td><td>0.13698167437447267</td><td>5.3024783</td><td>0.026624613</td><td>20.837532</td></tr>\n",
       "</table>"
      ],
      "text/plain": [
       "<Table length=134>\n",
       " mag_err_i     mag_g    mag_err_r  ...   rhalo    mag_err_g    mag_z  \n",
       "  float32     float32    float32   ...  float32    float32    float32 \n",
       "------------ --------- ----------- ... --------- ----------- ---------\n",
       "    0.089976 23.658897  0.08524102 ...   7.17671 0.092939876 23.591688\n",
       " 0.019001445 21.381285  0.02138754 ... 6.4744153 0.024325442 19.704494\n",
       "  0.07903726 23.426853 0.071995094 ...  7.126453  0.08457704 22.610138\n",
       "0.0061195856 19.407663 0.006383973 ...  4.886858  0.00870382 17.631044\n",
       "  0.09649548 23.683058  0.09255781 ...   4.30038  0.08420631 22.993517\n",
       "   0.1251049 23.995483  0.11795295 ... 3.4146903  0.10670078 23.162327\n",
       "   0.1511897 24.080687  0.18235679 ... 5.9762206  0.16131614  23.31901\n",
       " 0.007657192 20.122475 0.007348394 ... 4.8839993 0.010667742 18.206394\n",
       " 0.013274342 19.987518 0.013098353 ... 4.6403227 0.013886265 19.029936\n",
       " 0.060921412 23.175432 0.053692088 ... 4.5264015 0.066255316  22.21326\n",
       "         ...       ...         ... ...       ...         ...       ...\n",
       "  0.09018359  23.55124   0.0694202 ...  3.601447 0.080434225 22.570688\n",
       "  0.06987462  23.52196 0.062388096 ... 3.7481198  0.07208999 22.714256\n",
       "  0.14740303 23.934362  0.16120358 ... 3.5250666  0.11872855 23.423407\n",
       " 0.017570157 21.108023 0.015889175 ... 5.4334087 0.019016355 19.899385\n",
       " 0.103459835 23.943022  0.08371562 ... 5.2987156  0.13671423 22.578024\n",
       " 0.016323714 20.788445 0.013673942 ... 1.5608522 0.014555512 20.062344\n",
       "  0.13338077 24.456818  0.15075643 ... 3.8155093   0.1728068 23.154034\n",
       " 0.015400578 20.999605 0.014129158 ... 6.3576407 0.021659179 19.358353\n",
       "  0.12601914 23.841564  0.12413673 ... 3.5134027  0.10050787 23.694723\n",
       " 0.025729878  22.06039 0.023624633 ... 5.3024783 0.026624613 20.837532"
      ]
     },
     "execution_count": 226,
     "metadata": {},
     "output_type": "execute_result"
    }
   ],
   "source": [
    "gi[gi['haloid']==7940974]"
   ]
  },
  {
   "cell_type": "code",
   "execution_count": 227,
   "metadata": {},
   "outputs": [],
   "source": [
    "mask = gi['haloid']==7940974\n",
    "ra, dec = gi['ra'], gi['dec']"
   ]
  },
  {
   "cell_type": "code",
   "execution_count": 228,
   "metadata": {},
   "outputs": [
    {
     "data": {
      "text/plain": [
       "<matplotlib.collections.PathCollection at 0x7faeed2b4f90>"
      ]
     },
     "execution_count": 228,
     "metadata": {},
     "output_type": "execute_result"
    },
    {
     "data": {
      "image/png": "[encoded data removed]",
      "text/plain": [
       "<Figure size 432x288 with 1 Axes>"
      ]
     },
     "metadata": {},
     "output_type": "display_data"
    }
   ],
   "source": [
    "plt.scatter(ra[mask],dec[mask],alpha=0.3)\n",
    "# plt.scatter(rac,decc)"
   ]
  },
  {
   "cell_type": "code",
   "execution_count": 229,
   "metadata": {},
   "outputs": [
    {
     "data": {
      "text/plain": [
       "0.0"
      ]
     },
     "execution_count": 229,
     "metadata": {},
     "output_type": "execute_result"
    }
   ],
   "source": [
    "np.std(gi['coadd_object_id_bpz']-gi['coadd_object_id'])"
   ]
  },
  {
   "cell_type": "code",
   "execution_count": 235,
   "metadata": {},
   "outputs": [
    {
     "data": {
      "text/plain": [
       "<matplotlib.collections.PathCollection at 0x7faefe697a50>"
      ]
     },
     "execution_count": 235,
     "metadata": {},
     "output_type": "execute_result"
    },
    {
     "data": {
      "image/png": "[encoded data removed]",
      "text/plain": [
       "<Figure size 432x288 with 1 Axes>"
      ]
     },
     "metadata": {},
     "output_type": "display_data"
    }
   ],
   "source": [
    "plt.scatter(gi[mask]['redshift_cos_bpz'],gi[mask]['z'],s=10)"
   ]
  },
  {
   "cell_type": "code",
   "execution_count": 239,
   "metadata": {},
   "outputs": [
    {
     "data": {
      "text/plain": [
       "3.0186666666666664"
      ]
     },
     "execution_count": 239,
     "metadata": {},
     "output_type": "execute_result"
    }
   ],
   "source": [
    "(0.32*60/3.)*len(np.unique(cluster_tile))/3600"
   ]
  },
  {
   "cell_type": "code",
   "execution_count": null,
   "metadata": {},
   "outputs": [],
   "source": []
  },
  {
   "cell_type": "markdown",
   "metadata": {},
   "source": [
    "## Retrieve Second Method"
   ]
  },
  {
   "cell_type": "code",
   "execution_count": null,
   "metadata": {},
   "outputs": [],
   "source": [
    "from time import time"
   ]
  },
  {
   "cell_type": "code",
   "execution_count": null,
   "metadata": {},
   "outputs": [],
   "source": [
    "print('Starting Query')\n",
    "t0 = time()\n",
    "time_evolution = np.empty((len(myfields)+1,),dtype=np.float64)\n",
    "time_evolution[0] = t0\n",
    "\n",
    "indices_list = []\n",
    "for i, tile in enumerate(myfields[:3]):\n",
    "    print('start tile: %i'%(tile))\n",
    "    outfile = outfile_base.format(tile)\n",
    "\n",
    "#     match  = esutil.numpy_util.match(tile,hpx8)\n",
    "#     indices= maglim_idx[match[1]]\n",
    "#     indices_list.append(indices)\n",
    "    \n",
    "    w      = esutil.numpy_util.where1(cluster_tile==tile)\n",
    "    circles= get_healpix_list(cat[w],nside=Nside)\n",
    "    \n",
    "    match  = esutil.numpy_util.match(circles,hpx16384)\n",
    "    indices= maglim_idx[match[1]]\n",
    "\n",
    "    \n",
    "    np.save(f'{array_path}{tile:06d}_indices_arr.npy', indices)\n",
    "    print(f'array saved: {array_path}{tile:06d}_indices_arr.npy')\n",
    "\n",
    "    time_evolution[i+1] = time()\n",
    "    print('partial time: %.2f min'%((time_evolution[i+1]-time_evolution[i])/60.))\n",
    "    print('run time    : %.2f min'%((time_evolution[i+1]-time_evolution[0])/60.))\n",
    "    print('\\n')\n"
   ]
  },
  {
   "cell_type": "code",
   "execution_count": null,
   "metadata": {},
   "outputs": [],
   "source": []
  },
  {
   "cell_type": "code",
   "execution_count": null,
   "metadata": {},
   "outputs": [],
   "source": [
    "array_path = outdir+'tmp/'\n",
    "path = 'catalog/gold/'"
   ]
  },
  {
   "cell_type": "code",
   "execution_count": null,
   "metadata": {},
   "outputs": [],
   "source": [
    "indices = hpx8 = 0\n",
    "master = h5py.File(fname,'r')\n",
    "gold   = master[path]\n",
    "for col in columns:\n",
    "    print(f'{col}')\n",
    "    array = gold[col][:]\n",
    "    for indices, tile in zip(indices_list,myfields[:3]):\n",
    "        sub_array = array[indices]\n",
    "        np.save(f'{array_path}{tile:06d}_{col}_arr.npy', sub_array)\n",
    "        print(f'array saved: {array_path}{tile:06d}_{col}_arr.npy')\n",
    "        sub_array = 0\n",
    "    array = 0\n",
    "    print('\\n')\n",
    "master.close()"
   ]
  },
  {
   "cell_type": "code",
   "execution_count": null,
   "metadata": {},
   "outputs": [],
   "source": []
  },
  {
   "cell_type": "code",
   "execution_count": null,
   "metadata": {},
   "outputs": [],
   "source": [
    "for i, tile in enumerate(myfields[:3]):\n",
    "    print('start tile: %i'%(tile))\n",
    "    outfile = outfile_base.format(tile)\n",
    "    gal = load_tmp_file(tile)\n",
    "    save_hdf5_output(gal,outfile)"
   ]
  },
  {
   "cell_type": "code",
   "execution_count": null,
   "metadata": {},
   "outputs": [],
   "source": [
    "def load_tmp_file(tile):\n",
    "    mydict = dict().fromkeys(columns)\n",
    "    indices = np.load(f'{array_path}{tile:06d}_indices_arr.npy')\n",
    "    mydict['id'] = indices\n",
    "    for col in columns:\n",
    "        mydict[col] = np.load(f'{array_path}{tile:06d}_{col}_arr.npy')\n",
    "    print(mydict)\n",
    "    return Table(mydict)"
   ]
  },
  {
   "cell_type": "code",
   "execution_count": null,
   "metadata": {},
   "outputs": [],
   "source": []
  },
  {
   "cell_type": "code",
   "execution_count": null,
   "metadata": {},
   "outputs": [],
   "source": [
    "# load files\n",
    "array = f'{array_path}{tile:06d}_{col}_arr.npy'"
   ]
  },
  {
   "cell_type": "code",
   "execution_count": null,
   "metadata": {},
   "outputs": [],
   "source": []
  },
  {
   "cell_type": "code",
   "execution_count": null,
   "metadata": {},
   "outputs": [],
   "source": [
    "for col in columns[2:5]:\n",
    "    print(f'{col}')\n",
    "    array = gold[col][:]\n",
    "    for indices, tile in zip(indices_list,myfields[:3]):"
   ]
  },
  {
   "cell_type": "code",
   "execution_count": null,
   "metadata": {},
   "outputs": [],
   "source": []
  },
  {
   "cell_type": "code",
   "execution_count": null,
   "metadata": {},
   "outputs": [],
   "source": [
    "## get cluster data\n",
    "\n",
    "file1= '/global/homes/h/haoyiwu/data/buzzard-1.9.8/buzzard-1.9.8_3y3a_run_halos_lambda_chisq.fit'\n",
    "\n",
    "cat  = Table(getdata(file1))\n",
    "cat.rename_column('Z','redshift')"
   ]
  },
  {
   "cell_type": "code",
   "execution_count": null,
   "metadata": {},
   "outputs": [],
   "source": [
    "ra,dec= cat['RA'], cat['DEC']\n",
    "zcls  = cat['Z_LAMBDA']\n",
    "\n",
    "zcut  = (zcls<=0.65)&(zcls>=0.2)\n",
    "\n",
    "#lmask = cat['LAMBDA_CHISQ']>=20. & zcut\n",
    "lmask = (cat['LAMBDA_CHISQ']>=5.)&(cat['LAMBDA_CHISQ']<=20.)&zcut\n",
    "\n",
    "#patch = dec<40.#(dec>-0.5)&(dec<0.5)&(ra<30)\n",
    "#cut = np.where(lmask&patch)\n",
    "\n",
    "cut = np.where(lmask)\n"
   ]
  },
  {
   "cell_type": "code",
   "execution_count": null,
   "metadata": {},
   "outputs": [],
   "source": [
    "cat = cat[cut]"
   ]
  },
  {
   "cell_type": "code",
   "execution_count": null,
   "metadata": {},
   "outputs": [],
   "source": []
  },
  {
   "cell_type": "code",
   "execution_count": null,
   "metadata": {},
   "outputs": [],
   "source": [
    "# ra_min,ra_max   = 26.,30.\n",
    "# dec_min,dec_max = -44.5,-43.\n",
    "\n",
    "# mask = (cat['RA']<ra_max)&(cat['RA']>ra_min)\n",
    "# mask&= (cat['DEC']<dec_max)&(cat['DEC']>dec_min)"
   ]
  },
  {
   "cell_type": "code",
   "execution_count": null,
   "metadata": {},
   "outputs": [],
   "source": [
    "cls_columns = ['HALOID', 'M200', 'R200', 'MEM_MATCH_ID', 'RA', 'DEC', 'redshift', 'Z_COS', 'P_BCG', 'Z_LAMBDA', 'LAMBDA_CHISQ', 'LAMBDA_CHISQ_E', 'LAMBDA_CHISQ_ZORIG',\n",
    "               'SCALEVAL', 'LAMBDA_ZRED', 'LAMBDA_ZRED_E', 'MASKFRAC', 'GEOMASKFRAC', 'R_LAMBDA', 'R_MASK', 'Z_LAMBDA_E', 'NCROSS', 'Z_LAMBDA_NITER', 'DLAMBDA_DZ', 'DLAMBDA_DZ2', \n",
    "               'DLAMBDAVAR_DZ', 'DLAMBDAVAR_DZ2','Z_LAMBDA_RAW', 'Z_LAMBDA_E_RAW', 'BCG_SPEC_Z', 'LIM_EXPTIME', 'LIM_LIMMAG_DERED', 'LIM_LIMMAG', 'LIM_LIMMAG_HARD']\n",
    "\n",
    "cat = cat[cls_columns]"
   ]
  },
  {
   "cell_type": "code",
   "execution_count": null,
   "metadata": {},
   "outputs": [],
   "source": [
    "print(len(cat))"
   ]
  },
  {
   "cell_type": "code",
   "execution_count": null,
   "metadata": {},
   "outputs": [],
   "source": []
  },
  {
   "cell_type": "markdown",
   "metadata": {},
   "source": [
    "### Healpix Matching"
   ]
  },
  {
   "cell_type": "code",
   "execution_count": null,
   "metadata": {},
   "outputs": [],
   "source": [
    "import sys\n",
    "# sys.path.append('/home/s1/jesteves/git/buzzardAnalysis/buzzardSelection/scripts/')\n",
    "sys.path.append('/global/u2/j/jesteves/codes/buzzardAnalysis/buzzardSelection/scripts/')\n",
    "from helper import AngularDistance,get_healpix_list,radec_pix"
   ]
  },
  {
   "cell_type": "code",
   "execution_count": null,
   "metadata": {},
   "outputs": [],
   "source": [
    "# ra,dec= cat['RA'], cat['DEC']\n",
    "# lmask = cat['LAMBDA_CHISQ']>5.\n",
    "# patch = (dec>-0.5)&(dec<0.5)&(ra<30)\n",
    "\n",
    "# cut = np.where(lmask&patch)"
   ]
  },
  {
   "cell_type": "code",
   "execution_count": null,
   "metadata": {},
   "outputs": [],
   "source": [
    "rad2deg  = 180/np.pi\n",
    "rmax     = 8 #Mpc around each cluster\n",
    "\n",
    "#r200     = cat['R200'][:]*0.7 ## Mpc\n",
    "DA       = np.ones_like(np.array(cat['redshift']))\n",
    "# DA[cut]  = AngularDistance(np.array(cat['redshift'][cut]))\n",
    "DA  = AngularDistance(np.array(cat['redshift']))\n",
    "\n",
    "## compute the radii max\n",
    "cat['rmax']  = 60*(float(rmax)/DA)*rad2deg ## arcmin"
   ]
  },
  {
   "cell_type": "code",
   "execution_count": null,
   "metadata": {},
   "outputs": [],
   "source": [
    "ra,dec= cat['RA'], cat['DEC']\n",
    "cluster_tile = radec_pix(ra,dec,nside=8)"
   ]
  },
  {
   "cell_type": "code",
   "execution_count": null,
   "metadata": {},
   "outputs": [],
   "source": [
    "_ = plt.hist(cluster_tile,bins=51)"
   ]
  },
  {
   "cell_type": "code",
   "execution_count": null,
   "metadata": {},
   "outputs": [],
   "source": [
    "#plt.hist(cat['redshift'])"
   ]
  },
  {
   "cell_type": "code",
   "execution_count": null,
   "metadata": {},
   "outputs": [],
   "source": [
    "tiles"
   ]
  },
  {
   "cell_type": "code",
   "execution_count": null,
   "metadata": {},
   "outputs": [],
   "source": [
    "np.where(cluster_tile==tiles[0])"
   ]
  },
  {
   "cell_type": "markdown",
   "metadata": {
    "tags": []
   },
   "source": [
    "### Retrieving Galaxy Catalogs"
   ]
  },
  {
   "cell_type": "code",
   "execution_count": 36,
   "metadata": {},
   "outputs": [],
   "source": [
    "def save_hdf5_output(gal,outfile):\n",
    "    df  = gal.to_pandas()\n",
    "    df.to_hdf(outfile, key='members', mode='w')\n",
    "\n",
    "    gal = 0"
   ]
  },
  {
   "cell_type": "code",
   "execution_count": null,
   "metadata": {},
   "outputs": [],
   "source": [
    "def load_hdf_files(infile,indices,columns,path='catalog/gold/'):\n",
    "    master = h5py.File(infile,'r')\n",
    "    gold   = master[path]\n",
    "    \n",
    "    mydict = dict().fromkeys(columns)\n",
    "    \n",
    "    mydict['id'] = indices\n",
    "    for col in columns:\n",
    "        mydict[col] = gold[col][:][indices]\n",
    "    \n",
    "    master.close()\n",
    "    return Table(mydict)"
   ]
  },
  {
   "cell_type": "code",
   "execution_count": null,
   "metadata": {},
   "outputs": [],
   "source": [
    "from time import time"
   ]
  },
  {
   "cell_type": "code",
   "execution_count": null,
   "metadata": {},
   "outputs": [],
   "source": [
    "# fname  = path+'Buzzard_v1.9.8_Y3a_bpz.h5'\n",
    "# indexes= h5py.File(fname)\n",
    "# bpz    = indexes['catalog/bpz']\n",
    "\n",
    "# #b_cid  = bpz['coadd_object_id'][:][maglim_idx]\n",
    "# z      = bpz['z'][:][maglim_idx]\n",
    "# zmean  = bpz['zmean_sof'][:][maglim_idx]\n",
    "\n",
    "# indexes.close()"
   ]
  },
  {
   "cell_type": "code",
   "execution_count": null,
   "metadata": {},
   "outputs": [],
   "source": [
    "indexes= h5py.File(fname_aux,'r')\n",
    "dnf    = indexes['catalog/dnf/unsheared']\n",
    "\n",
    "d_cid  = dnf['coadd_object_id'][:][maglim_idx]\n",
    "d_z    = dnf['z'][:][maglim_idx]\n",
    "d_zmean= dnf['z_mean'][:][maglim_idx]\n",
    "d_sigma= dnf['z_sigma'][:][maglim_idx]\n",
    "\n",
    "indexes.close()"
   ]
  },
  {
   "cell_type": "code",
   "execution_count": null,
   "metadata": {},
   "outputs": [],
   "source": []
  },
  {
   "cell_type": "code",
   "execution_count": null,
   "metadata": {},
   "outputs": [],
   "source": [
    "## BE CAREFULL! The cells below take about an hour to run"
   ]
  },
  {
   "cell_type": "code",
   "execution_count": null,
   "metadata": {},
   "outputs": [],
   "source": [
    "outdir = '/global/project/projectdirs/des/jesteves/buzzardSelection/y3_v2.0.0/tiles/'\n",
    "outfile_base = outdir+'buzzard_y3_v2.0.0_all_raw_copper_hpx8_{}.hdf'"
   ]
  },
  {
   "cell_type": "code",
   "execution_count": null,
   "metadata": {},
   "outputs": [],
   "source": [
    "fname  = path+'Buzzard_v1.9.8_Y3a_gold.h5'\n",
    "\n",
    "t0 = time()\n",
    "\n",
    "time_evolution = np.empty((len(tiles)+1,),dtype=np.float64)\n",
    "time_evolution[0] = t0\n",
    "\n",
    "for i, tile in enumerate(tiles):\n",
    "    print('start tile: %i'%(tile))\n",
    "    outfile = outfile_base.format(tile)\n",
    "    w       = np.where(cluster_tile==tile)[0]\n",
    "\n",
    "    if (len(w)>1) & (not os.path.isfile(outfile)):\n",
    "        circles= get_healpix_list(cat[w],nside=16384)\n",
    "        match  = esutil.numpy_util.match(circles,hpx16384)\n",
    "        indices= maglim_idx[match[1]]\n",
    "        print('matching: done')\n",
    "        data               =  load_hdf_files(fname,indices,columns,path='catalog/gold/')\n",
    "        #data['z']          = z[match[1]]\n",
    "        #data['z_mean_bpz'] = zmean[match[1]]\n",
    "        \n",
    "        print('loading main data: done')\n",
    "        data['z']          = d_z[match[1]]\n",
    "        data['z_mean_dnf'] = d_zmean[match[1]]\n",
    "        data['z_sigma_dnf']= d_sigma[match[1]]\n",
    "\n",
    "        data['index']= indices\n",
    "        data['tile'] = tile\n",
    "\n",
    "        save_hdf5_output(data,cat[w],outfile)\n",
    "        data = 0\n",
    "        print('outfile saved: %s'%(outfile))\n",
    "    else:\n",
    "        print('Error: empty tile')\n",
    "    \n",
    "    time_evolution[i+1] = time()\n",
    "    print('partial time: %.2f min'%((time_evolution[i+1]-time_evolution[i])/60.))\n",
    "    print('run time    : %.2f min'%((time_evolution[i+1]-time_evolution[0])/60.))\n",
    "    print('\\n')"
   ]
  },
  {
   "cell_type": "code",
   "execution_count": null,
   "metadata": {},
   "outputs": [],
   "source": []
  },
  {
   "cell_type": "code",
   "execution_count": null,
   "metadata": {},
   "outputs": [],
   "source": []
  },
  {
   "cell_type": "code",
   "execution_count": null,
   "metadata": {},
   "outputs": [],
   "source": [
    "import pandas as pd\n",
    "from astropy.table import Table"
   ]
  },
  {
   "cell_type": "code",
   "execution_count": null,
   "metadata": {},
   "outputs": [],
   "source": [
    "def upload_dataFrame(infile,keys='members'):\n",
    "    hdf = pd.HDFStore(infile, mode='r')\n",
    "    df1 = hdf.get(keys)\n",
    "    hdf.close()\n",
    "    data = Table.from_pandas(df1)\n",
    "    return data"
   ]
  },
  {
   "cell_type": "code",
   "execution_count": null,
   "metadata": {},
   "outputs": [],
   "source": [
    "hi = 560\n",
    "outfile = outfile_base.format(hi)"
   ]
  },
  {
   "cell_type": "code",
   "execution_count": null,
   "metadata": {},
   "outputs": [],
   "source": [
    "gi = upload_dataFrame(outfile,keys='members')\n",
    "ra, dec = gi['ra'], gi['dec']"
   ]
  },
  {
   "cell_type": "code",
   "execution_count": null,
   "metadata": {},
   "outputs": [],
   "source": [
    "# np.count_nonzero(gi['z_mean_dnf']<0)"
   ]
  },
  {
   "cell_type": "code",
   "execution_count": null,
   "metadata": {},
   "outputs": [],
   "source": [
    "# 1.*np.count_nonzero(gi['z_mean_dnf'])/len(gi)\n"
   ]
  },
  {
   "cell_type": "code",
   "execution_count": null,
   "metadata": {},
   "outputs": [],
   "source": [
    "# w = np.where(cluster_tile==hi)[0]\n",
    "# rac,decc = cat['RA'][w],cat['DEC'][w]\n",
    "\n",
    "# #circles= get_healpix_list(cat[w],nside=16384)\n",
    "# #match  = esutil.numpy_util.match(circles,hpx16384)"
   ]
  },
  {
   "cell_type": "code",
   "execution_count": null,
   "metadata": {},
   "outputs": [],
   "source": [
    "plt.scatter(ra[::10],dec[::10],alpha=0.3)\n",
    "# plt.scatter(rac,decc)"
   ]
  },
  {
   "cell_type": "code",
   "execution_count": null,
   "metadata": {},
   "outputs": [],
   "source": [
    "gi"
   ]
  },
  {
   "cell_type": "code",
   "execution_count": null,
   "metadata": {},
   "outputs": [],
   "source": []
  },
  {
   "cell_type": "code",
   "execution_count": null,
   "metadata": {},
   "outputs": [],
   "source": [
    "import healpy as hp\n",
    "def hpix2ang(pix,nside=1024):\n",
    "    lon,lat = hp.pix2ang(nside,pix,nest=True)\n",
    "    dec,ra=(90-(lon)*(180/np.pi)),(lat*(180/np.pi))\n",
    "    return ra,dec"
   ]
  },
  {
   "cell_type": "code",
   "execution_count": null,
   "metadata": {},
   "outputs": [],
   "source": [
    "ra, dec = hpix2ang(circles,nside=16384)\n",
    "gra,gdec = hpix2ang(myidx,nside=16384)"
   ]
  },
  {
   "cell_type": "code",
   "execution_count": null,
   "metadata": {},
   "outputs": [],
   "source": [
    "plt.scatter(ra[::10],dec[::10])\n",
    "plt.scatter(gra[::1000],gdec[::1000])"
   ]
  },
  {
   "cell_type": "code",
   "execution_count": null,
   "metadata": {},
   "outputs": [],
   "source": []
  },
  {
   "cell_type": "code",
   "execution_count": null,
   "metadata": {},
   "outputs": [],
   "source": [
    "data =  load_hdf_files(fname,maglim_idx[match[1]],columns,path='catalog/gold/')"
   ]
  },
  {
   "cell_type": "code",
   "execution_count": null,
   "metadata": {},
   "outputs": [],
   "source": [
    "plt.plot(match[1],data['id'])"
   ]
  },
  {
   "cell_type": "code",
   "execution_count": null,
   "metadata": {},
   "outputs": [],
   "source": [
    "plt.plot(data['hpix_16384'],hpx16384[match[1]])"
   ]
  },
  {
   "cell_type": "code",
   "execution_count": null,
   "metadata": {},
   "outputs": [],
   "source": []
  },
  {
   "cell_type": "code",
   "execution_count": null,
   "metadata": {},
   "outputs": [],
   "source": [
    "maglim_idx[match[1]]"
   ]
  },
  {
   "cell_type": "code",
   "execution_count": null,
   "metadata": {},
   "outputs": [],
   "source": [
    "master  = h5py.File(fname,'r')\n",
    "indexes= h5py.File(fname_aux,'r')\n",
    "\n",
    "#select  = indexes['index/gold/select'][:]\n",
    "# myidx   = master['catalog/gold/hpix_16384'][:][maglim_idx[match[1]]]\n",
    "# mag_i   = master['catalog/gold/mag_i'][:][maglim_idx[match[1]]]\n",
    "\n",
    "master.close()\n",
    "indexes.close()"
   ]
  },
  {
   "cell_type": "code",
   "execution_count": null,
   "metadata": {},
   "outputs": [],
   "source": [
    "maglim_idx[match[1]]"
   ]
  },
  {
   "cell_type": "code",
   "execution_count": null,
   "metadata": {},
   "outputs": [],
   "source": [
    "data=0"
   ]
  },
  {
   "cell_type": "code",
   "execution_count": null,
   "metadata": {},
   "outputs": [],
   "source": [
    "hpx16384[data['id']]"
   ]
  },
  {
   "cell_type": "code",
   "execution_count": null,
   "metadata": {},
   "outputs": [],
   "source": [
    "myidx"
   ]
  },
  {
   "cell_type": "code",
   "execution_count": null,
   "metadata": {},
   "outputs": [],
   "source": []
  },
  {
   "cell_type": "code",
   "execution_count": null,
   "metadata": {},
   "outputs": [],
   "source": [
    "match[1]"
   ]
  },
  {
   "cell_type": "code",
   "execution_count": null,
   "metadata": {},
   "outputs": [],
   "source": []
  },
  {
   "cell_type": "code",
   "execution_count": null,
   "metadata": {},
   "outputs": [],
   "source": [
    "rag,decg = data['ra'], data['dec']"
   ]
  },
  {
   "cell_type": "code",
   "execution_count": null,
   "metadata": {},
   "outputs": [],
   "source": [
    "plt.scatter(ra[::10],dec[::10])\n",
    "plt.scatter(rag[::100],decg[::100],alpha=0.1)"
   ]
  },
  {
   "cell_type": "code",
   "execution_count": null,
   "metadata": {},
   "outputs": [],
   "source": [
    "plt.scatter(data['hpix_16384'][::100],myidx[::100])\n",
    "\n"
   ]
  },
  {
   "cell_type": "code",
   "execution_count": null,
   "metadata": {},
   "outputs": [],
   "source": [
    "gi=0"
   ]
  },
  {
   "cell_type": "code",
   "execution_count": null,
   "metadata": {},
   "outputs": [],
   "source": []
  }
 ],
 "metadata": {
  "kernelspec": {
   "display_name": "Python 2",
   "language": "python",
   "name": "python2"
  },
  "language_info": {
   "codemirror_mode": {
    "name": "ipython",
    "version": 2
   },
   "file_extension": ".py",
   "mimetype": "text/x-python",
   "name": "python",
   "nbconvert_exporter": "python",
   "pygments_lexer": "ipython2",
   "version": "2.7.15"
  }
 },
 "nbformat": 4,
 "nbformat_minor": 4
}
