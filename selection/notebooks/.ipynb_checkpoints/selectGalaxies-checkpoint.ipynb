{
 "cells": [
  {
   "cell_type": "markdown",
   "metadata": {},
   "source": [
    "# Get Galaxies From Halos\n",
    "\n",
    "info: https://cdcvs.fnal.gov/redmine/projects/des-clusters/wiki/ClustDataVecY3 <br>\n",
    "rm  : https://cdcvs.fnal.gov/redmine/projects/des-clusters/wiki/RedMaPPer_on_Y3A2 <br>\n",
    "\n",
    "https://cdcvs.fnal.gov/redmine/projects/des-sc/wiki/Y3kp_catalogs <br>\n",
    "path: /project/projectdirs/des/www/y3_cats/\t"
   ]
  },
  {
   "cell_type": "code",
   "execution_count": 1,
   "metadata": {},
   "outputs": [],
   "source": [
    "import matplotlib.pyplot as plt\n",
    "import numpy as np\n",
    "import os\n",
    "\n",
    "from astropy.table import Table, vstack\n",
    "from astropy.io.fits import getdata\n",
    "\n",
    "import pandas as pd\n",
    "\n",
    "import esutil"
   ]
  },
  {
   "cell_type": "code",
   "execution_count": null,
   "metadata": {},
   "outputs": [],
   "source": []
  },
  {
   "cell_type": "markdown",
   "metadata": {},
   "source": [
    "## Load"
   ]
  },
  {
   "cell_type": "code",
   "execution_count": 2,
   "metadata": {
    "scrolled": true
   },
   "outputs": [
    {
     "name": "stderr",
     "output_type": "stream",
     "text": [
      "/cvmfs/des.opensciencegrid.org/fnal/anaconda2/envs/des18a/lib/python2.7/site-packages/h5py/__init__.py:36: FutureWarning: Conversion of the second argument of issubdtype from `float` to `np.floating` is deprecated. In future, it will be treated as `np.float64 == np.dtype(float).type`.\n",
      "  from ._conv import register_converters as _register_converters\n"
     ]
    }
   ],
   "source": [
    "import h5py\n",
    "\n",
    "#path   = '/data/des81.b/data/mariaeli/y3_buzz/Buzzard-3_v2.0_Y3a_mastercat/'\n",
    "path   = '/data/des81.b/data/mariaeli/y3_cats/subsampled/'\n",
    "fname  =     path+'Y3_GOLD_2_2.1_subsampled.h5'\n",
    "fname_aux  = path+'Y3_GOLD_2_2.1_DNF_subsampled.h5'\n",
    "\n",
    "master = h5py.File(fname,'r')\n",
    "aux    = h5py.File(fname_aux,'r')"
   ]
  },
  {
   "cell_type": "code",
   "execution_count": 3,
   "metadata": {},
   "outputs": [
    {
     "name": "stdout",
     "output_type": "stream",
     "text": [
      "Y3_GOLD_2_2.1_BPZ_subsampled.h5\r\n",
      "Y3_GOLD_2_2.1_DNF_subsampled.h5\r\n",
      "Y3_GOLD_2_2_1_maps.h5\r\n",
      "Y3_GOLD_2_2.1_subsampled.h5\r\n",
      "y3_gold_2.2.1_wide_sofcol_run_redmapper_v6.4.22_wv1.2_subsampled.h5\r\n",
      "Y3_mastercat_6_15_19_subsampled.h5\r\n",
      "y3v02-mcal-003-v1_subsampled.h5\r\n"
     ]
    }
   ],
   "source": [
    "ls /data/des81.b/data/mariaeli/y3_cats/subsampled"
   ]
  },
  {
   "cell_type": "code",
   "execution_count": null,
   "metadata": {},
   "outputs": [],
   "source": []
  },
  {
   "cell_type": "code",
   "execution_count": null,
   "metadata": {},
   "outputs": [],
   "source": []
  },
  {
   "cell_type": "code",
   "execution_count": 4,
   "metadata": {},
   "outputs": [
    {
     "name": "stdout",
     "output_type": "stream",
     "text": [
      "ls: cannot access /global/project/projectdirs/des/jderose/Chinchilla/Herd/Chinchilla-3/v1.9.8/sampleselection/Y3a/mastercat/: No such file or directory\r\n"
     ]
    }
   ],
   "source": [
    "ls /global/project/projectdirs/des/jderose/Chinchilla/Herd/Chinchilla-3/v1.9.8/sampleselection/Y3a/mastercat/"
   ]
  },
  {
   "cell_type": "code",
   "execution_count": 5,
   "metadata": {},
   "outputs": [],
   "source": [
    "def show_h5_group(name,node):\n",
    "    ''' show all the h5 groups\n",
    "    Example:\n",
    "    fmaster = h5py.File(copa.master_fname,'r')\n",
    "    fmaster.visititems(show_h5_group)\n",
    "\n",
    "    ## https://stackoverflow.com/questions/45562169/traverse-hdf5-file-tree-and-continue-after-return\n",
    "    '''\n",
    "    if isinstance(node, h5py.Group):\n",
    "        print(name,node)\n",
    "    return None\n",
    "\n",
    "def show_h5_dataset(name,node):\n",
    "    if isinstance(node, h5py.Dataset):\n",
    "        print(name,node)\n",
    "    return None"
   ]
  },
  {
   "cell_type": "code",
   "execution_count": 6,
   "metadata": {},
   "outputs": [
    {
     "name": "stdout",
     "output_type": "stream",
     "text": [
      "(u'catalog/gold/a_sed_sfd98_g', <HDF5 dataset \"a_sed_sfd98_g\": shape (39926304,), type \">f4\">)\n",
      "(u'catalog/gold/a_sed_sfd98_i', <HDF5 dataset \"a_sed_sfd98_i\": shape (39926304,), type \">f4\">)\n",
      "(u'catalog/gold/a_sed_sfd98_r', <HDF5 dataset \"a_sed_sfd98_r\": shape (39926304,), type \">f4\">)\n",
      "(u'catalog/gold/a_sed_sfd98_z', <HDF5 dataset \"a_sed_sfd98_z\": shape (39926304,), type \">f4\">)\n",
      "(u'catalog/gold/coadd_object_id', <HDF5 dataset \"coadd_object_id\": shape (39926304,), type \">i8\">)\n",
      "(u'catalog/gold/dec', <HDF5 dataset \"dec\": shape (39926304,), type \">f8\">)\n",
      "(u'catalog/gold/delta_mag_chrom_g', <HDF5 dataset \"delta_mag_chrom_g\": shape (39926304,), type \">f4\">)\n",
      "(u'catalog/gold/delta_mag_chrom_i', <HDF5 dataset \"delta_mag_chrom_i\": shape (39926304,), type \">f4\">)\n",
      "(u'catalog/gold/delta_mag_chrom_r', <HDF5 dataset \"delta_mag_chrom_r\": shape (39926304,), type \">f4\">)\n",
      "(u'catalog/gold/delta_mag_chrom_z', <HDF5 dataset \"delta_mag_chrom_z\": shape (39926304,), type \">f4\">)\n",
      "(u'catalog/gold/delta_mag_y4_g', <HDF5 dataset \"delta_mag_y4_g\": shape (39926304,), type \">f4\">)\n",
      "(u'catalog/gold/delta_mag_y4_i', <HDF5 dataset \"delta_mag_y4_i\": shape (39926304,), type \">f4\">)\n",
      "(u'catalog/gold/delta_mag_y4_r', <HDF5 dataset \"delta_mag_y4_r\": shape (39926304,), type \">f4\">)\n",
      "(u'catalog/gold/delta_mag_y4_z', <HDF5 dataset \"delta_mag_y4_z\": shape (39926304,), type \">f4\">)\n",
      "(u'catalog/gold/ebv_sfd98', <HDF5 dataset \"ebv_sfd98\": shape (39926304,), type \">f4\">)\n",
      "(u'catalog/gold/extended_class_mash_sof', <HDF5 dataset \"extended_class_mash_sof\": shape (39926304,), type \">i2\">)\n",
      "(u'catalog/gold/flags', <HDF5 dataset \"flags\": shape (39926304,), type \">i4\">)\n",
      "(u'catalog/gold/flags_badregions', <HDF5 dataset \"flags_badregions\": shape (39926304,), type \">i4\">)\n",
      "(u'catalog/gold/flags_footprint', <HDF5 dataset \"flags_footprint\": shape (39926304,), type \">i4\">)\n",
      "(u'catalog/gold/flags_foreground', <HDF5 dataset \"flags_foreground\": shape (39926304,), type \">i4\">)\n",
      "(u'catalog/gold/flags_gold', <HDF5 dataset \"flags_gold\": shape (39926304,), type \">i4\">)\n",
      "(u'catalog/gold/flags_phot', <HDF5 dataset \"flags_phot\": shape (39926304,), type \">i4\">)\n",
      "(u'catalog/gold/hpix_16384', <HDF5 dataset \"hpix_16384\": shape (39926304,), type \">i8\">)\n",
      "(u'catalog/gold/n_images_g', <HDF5 dataset \"n_images_g\": shape (39926304,), type \">i2\">)\n",
      "(u'catalog/gold/n_images_i', <HDF5 dataset \"n_images_i\": shape (39926304,), type \">i2\">)\n",
      "(u'catalog/gold/n_images_r', <HDF5 dataset \"n_images_r\": shape (39926304,), type \">i2\">)\n",
      "(u'catalog/gold/n_images_z', <HDF5 dataset \"n_images_z\": shape (39926304,), type \">i2\">)\n",
      "(u'catalog/gold/ra', <HDF5 dataset \"ra\": shape (39926304,), type \">f8\">)\n",
      "(u'catalog/gold/sextractor_flags_g', <HDF5 dataset \"sextractor_flags_g\": shape (39926304,), type \">i2\">)\n",
      "(u'catalog/gold/sextractor_flags_i', <HDF5 dataset \"sextractor_flags_i\": shape (39926304,), type \">i2\">)\n",
      "(u'catalog/gold/sextractor_flags_r', <HDF5 dataset \"sextractor_flags_r\": shape (39926304,), type \">i2\">)\n",
      "(u'catalog/gold/sextractor_flags_z', <HDF5 dataset \"sextractor_flags_z\": shape (39926304,), type \">i2\">)\n",
      "(u'catalog/gold/sof_cm_flux_corrected_g', <HDF5 dataset \"sof_cm_flux_corrected_g\": shape (39926304,), type \">f8\">)\n",
      "(u'catalog/gold/sof_cm_flux_corrected_i', <HDF5 dataset \"sof_cm_flux_corrected_i\": shape (39926304,), type \">f8\">)\n",
      "(u'catalog/gold/sof_cm_flux_corrected_r', <HDF5 dataset \"sof_cm_flux_corrected_r\": shape (39926304,), type \">f8\">)\n",
      "(u'catalog/gold/sof_cm_flux_corrected_z', <HDF5 dataset \"sof_cm_flux_corrected_z\": shape (39926304,), type \">f8\">)\n",
      "(u'catalog/gold/sof_cm_flux_err_g', <HDF5 dataset \"sof_cm_flux_err_g\": shape (39926304,), type \">f8\">)\n",
      "(u'catalog/gold/sof_cm_flux_err_i', <HDF5 dataset \"sof_cm_flux_err_i\": shape (39926304,), type \">f8\">)\n",
      "(u'catalog/gold/sof_cm_flux_err_r', <HDF5 dataset \"sof_cm_flux_err_r\": shape (39926304,), type \">f8\">)\n",
      "(u'catalog/gold/sof_cm_flux_err_z', <HDF5 dataset \"sof_cm_flux_err_z\": shape (39926304,), type \">f8\">)\n",
      "(u'catalog/gold/sof_cm_mag_corrected_g', <HDF5 dataset \"sof_cm_mag_corrected_g\": shape (39926304,), type \">f8\">)\n",
      "(u'catalog/gold/sof_cm_mag_corrected_i', <HDF5 dataset \"sof_cm_mag_corrected_i\": shape (39926304,), type \">f8\">)\n",
      "(u'catalog/gold/sof_cm_mag_corrected_r', <HDF5 dataset \"sof_cm_mag_corrected_r\": shape (39926304,), type \">f8\">)\n",
      "(u'catalog/gold/sof_cm_mag_corrected_z', <HDF5 dataset \"sof_cm_mag_corrected_z\": shape (39926304,), type \">f8\">)\n",
      "(u'catalog/gold/sof_cm_mag_err_g', <HDF5 dataset \"sof_cm_mag_err_g\": shape (39926304,), type \">f8\">)\n",
      "(u'catalog/gold/sof_cm_mag_err_i', <HDF5 dataset \"sof_cm_mag_err_i\": shape (39926304,), type \">f8\">)\n",
      "(u'catalog/gold/sof_cm_mag_err_r', <HDF5 dataset \"sof_cm_mag_err_r\": shape (39926304,), type \">f8\">)\n",
      "(u'catalog/gold/sof_cm_mag_err_z', <HDF5 dataset \"sof_cm_mag_err_z\": shape (39926304,), type \">f8\">)\n",
      "(u'catalog/gold/sof_flags', <HDF5 dataset \"sof_flags\": shape (39926304,), type \">i8\">)\n",
      "(u'catalog/gold/tilename', <HDF5 dataset \"tilename\": shape (39926304,), type \"|S12\">)\n",
      "(u'masks/gold/hpix', <HDF5 dataset \"hpix\": shape (2550145,), type \"<i8\">)\n"
     ]
    }
   ],
   "source": [
    "master.visititems(show_h5_dataset)"
   ]
  },
  {
   "cell_type": "code",
   "execution_count": 7,
   "metadata": {},
   "outputs": [
    {
     "name": "stdout",
     "output_type": "stream",
     "text": [
      "(u'catalog/sheared_1m/zmc_sof', <HDF5 dataset \"zmc_sof\": shape (39926304,), type \">f4\">)\n",
      "(u'catalog/sheared_1m/zmean_sof', <HDF5 dataset \"zmean_sof\": shape (39926304,), type \">f4\">)\n",
      "(u'catalog/sheared_1p/zmc_sof', <HDF5 dataset \"zmc_sof\": shape (39926304,), type \">f4\">)\n",
      "(u'catalog/sheared_1p/zmean_sof', <HDF5 dataset \"zmean_sof\": shape (39926304,), type \">f4\">)\n",
      "(u'catalog/sheared_2m/zmc_sof', <HDF5 dataset \"zmc_sof\": shape (39926304,), type \">f4\">)\n",
      "(u'catalog/sheared_2m/zmean_sof', <HDF5 dataset \"zmean_sof\": shape (39926304,), type \">f4\">)\n",
      "(u'catalog/sheared_2p/zmc_sof', <HDF5 dataset \"zmc_sof\": shape (39926304,), type \">f4\">)\n",
      "(u'catalog/sheared_2p/zmean_sof', <HDF5 dataset \"zmean_sof\": shape (39926304,), type \">f4\">)\n",
      "(u'catalog/unsheared/coadd_object_id', <HDF5 dataset \"coadd_object_id\": shape (39926304,), type \">i8\">)\n",
      "(u'catalog/unsheared/zmc_sof', <HDF5 dataset \"zmc_sof\": shape (39926304,), type \">f4\">)\n",
      "(u'catalog/unsheared/zmean_sof', <HDF5 dataset \"zmean_sof\": shape (39926304,), type \">f4\">)\n"
     ]
    }
   ],
   "source": [
    "aux.visititems(show_h5_dataset)"
   ]
  },
  {
   "cell_type": "code",
   "execution_count": null,
   "metadata": {},
   "outputs": [],
   "source": []
  },
  {
   "cell_type": "code",
   "execution_count": 8,
   "metadata": {},
   "outputs": [],
   "source": [
    "mag_i      = master['catalog/gold/sof_cm_mag_corrected_i'][:][:]\n",
    "maglim_idx = np.where((mag_i<=23.5)&(mag_i>=0.))[0]\n",
    "hpx16384   = master['catalog/gold/hpix_16384'][:][maglim_idx]#.astype(np.int64)\n",
    "\n",
    "# cid   = aux['catalog/unsheared/coadd_object_id'][:]\n",
    "# zmean = aux['catalog/unsheared/zmean_sof'][:]\n",
    "\n",
    "master.close()\n",
    "aux.close()"
   ]
  },
  {
   "cell_type": "code",
   "execution_count": 9,
   "metadata": {},
   "outputs": [
    {
     "data": {
      "text/plain": [
       "array([21.61505009, 20.68373325, 23.26469544, ..., 21.75018892,\n",
       "       19.4035524 , 22.85715772])"
      ]
     },
     "execution_count": 9,
     "metadata": {},
     "output_type": "execute_result"
    }
   ],
   "source": [
    "mag_i[maglim_idx]"
   ]
  },
  {
   "cell_type": "code",
   "execution_count": null,
   "metadata": {},
   "outputs": [],
   "source": []
  },
  {
   "cell_type": "code",
   "execution_count": 10,
   "metadata": {},
   "outputs": [],
   "source": [
    "columns = ['hpix_16384','coadd_object_id','ra','dec','extended_class_mash_sof','flags_gold']\n",
    "columns+= ['sof_cm_mag_corrected_%s'%(ix) for ix in ['g','r','i','z']]\n",
    "columns+= ['sof_cm_mag_err_%s'%(ix) for ix in ['g','r','i','z']]"
   ]
  },
  {
   "cell_type": "code",
   "execution_count": 11,
   "metadata": {},
   "outputs": [
    {
     "data": {
      "text/plain": [
       "['hpix_16384',\n",
       " 'coadd_object_id',\n",
       " 'ra',\n",
       " 'dec',\n",
       " 'extended_class_mash_sof',\n",
       " 'flags_gold',\n",
       " 'sof_cm_mag_corrected_g',\n",
       " 'sof_cm_mag_corrected_r',\n",
       " 'sof_cm_mag_corrected_i',\n",
       " 'sof_cm_mag_corrected_z',\n",
       " 'sof_cm_mag_err_g',\n",
       " 'sof_cm_mag_err_r',\n",
       " 'sof_cm_mag_err_i',\n",
       " 'sof_cm_mag_err_z']"
      ]
     },
     "execution_count": 11,
     "metadata": {},
     "output_type": "execute_result"
    }
   ],
   "source": [
    "columns"
   ]
  },
  {
   "cell_type": "code",
   "execution_count": null,
   "metadata": {},
   "outputs": [],
   "source": []
  },
  {
   "cell_type": "markdown",
   "metadata": {},
   "source": [
    "### Loading Data"
   ]
  },
  {
   "cell_type": "code",
   "execution_count": 2,
   "metadata": {},
   "outputs": [],
   "source": [
    "## Healpix map\n",
    "Nside    = 8\n",
    "outdir   = '../data/'\n",
    "hpx_file = outdir+'/hpxmap_nside%i_subsampled.fits'%Nside"
   ]
  },
  {
   "cell_type": "code",
   "execution_count": 3,
   "metadata": {},
   "outputs": [],
   "source": [
    "hpx_map = Table(getdata(hpx_file))\n",
    "tiles = np.array(hpx_map['hpx_pixel'][(hpx_map['hpx_value']>0)])-1"
   ]
  },
  {
   "cell_type": "code",
   "execution_count": 4,
   "metadata": {},
   "outputs": [
    {
     "data": {
      "text/plain": [
       "array([  0,   2, 256, 257, 259, 260, 261, 262, 263, 269, 271, 272, 273,\n",
       "       274, 275, 276, 277, 278, 279])"
      ]
     },
     "execution_count": 4,
     "metadata": {},
     "output_type": "execute_result"
    }
   ],
   "source": [
    "tiles"
   ]
  },
  {
   "cell_type": "code",
   "execution_count": 5,
   "metadata": {},
   "outputs": [
    {
     "data": {
      "text/plain": [
       "19"
      ]
     },
     "execution_count": 5,
     "metadata": {},
     "output_type": "execute_result"
    }
   ],
   "source": [
    "len(tiles)"
   ]
  },
  {
   "cell_type": "code",
   "execution_count": 6,
   "metadata": {},
   "outputs": [
    {
     "data": {
      "text/html": [
       "&lt;Table length=768&gt;\n",
       "<table id=\"table140155375426064\" class=\"table-striped table-bordered table-condensed\">\n",
       "<thead><tr><th>hpx_pixel</th><th>hpx_value</th></tr></thead>\n",
       "<thead><tr><th>int64</th><th>float64</th></tr></thead>\n",
       "<tr><td>1</td><td>546.0</td></tr>\n",
       "<tr><td>2</td><td>0.0</td></tr>\n",
       "<tr><td>3</td><td>3.0</td></tr>\n",
       "<tr><td>4</td><td>0.0</td></tr>\n",
       "<tr><td>5</td><td>0.0</td></tr>\n",
       "<tr><td>6</td><td>0.0</td></tr>\n",
       "<tr><td>7</td><td>0.0</td></tr>\n",
       "<tr><td>8</td><td>0.0</td></tr>\n",
       "<tr><td>9</td><td>0.0</td></tr>\n",
       "<tr><td>10</td><td>0.0</td></tr>\n",
       "<tr><td>...</td><td>...</td></tr>\n",
       "<tr><td>759</td><td>0.0</td></tr>\n",
       "<tr><td>760</td><td>0.0</td></tr>\n",
       "<tr><td>761</td><td>0.0</td></tr>\n",
       "<tr><td>762</td><td>0.0</td></tr>\n",
       "<tr><td>763</td><td>0.0</td></tr>\n",
       "<tr><td>764</td><td>0.0</td></tr>\n",
       "<tr><td>765</td><td>0.0</td></tr>\n",
       "<tr><td>766</td><td>0.0</td></tr>\n",
       "<tr><td>767</td><td>0.0</td></tr>\n",
       "<tr><td>768</td><td>0.0</td></tr>\n",
       "</table>"
      ],
      "text/plain": [
       "<Table length=768>\n",
       "hpx_pixel hpx_value\n",
       "  int64    float64 \n",
       "--------- ---------\n",
       "        1     546.0\n",
       "        2       0.0\n",
       "        3       3.0\n",
       "        4       0.0\n",
       "        5       0.0\n",
       "        6       0.0\n",
       "        7       0.0\n",
       "        8       0.0\n",
       "        9       0.0\n",
       "       10       0.0\n",
       "      ...       ...\n",
       "      759       0.0\n",
       "      760       0.0\n",
       "      761       0.0\n",
       "      762       0.0\n",
       "      763       0.0\n",
       "      764       0.0\n",
       "      765       0.0\n",
       "      766       0.0\n",
       "      767       0.0\n",
       "      768       0.0"
      ]
     },
     "execution_count": 6,
     "metadata": {},
     "output_type": "execute_result"
    }
   ],
   "source": [
    "hpx_map"
   ]
  },
  {
   "cell_type": "code",
   "execution_count": null,
   "metadata": {},
   "outputs": [],
   "source": []
  },
  {
   "cell_type": "code",
   "execution_count": 17,
   "metadata": {},
   "outputs": [],
   "source": [
    "## get cluster data\n",
    "\n",
    "path_out = '/data/des61.a/data/johnny/DESY3/data/cutouts/'\n",
    "fname_out= path_out+'y3_gold_2.2.1_wide_sofcol_run_redmapper_v6.4.22_wv1.2_subsampled.fits'\n",
    "\n",
    "cat  = Table(getdata(fname_out))\n"
   ]
  },
  {
   "cell_type": "code",
   "execution_count": 18,
   "metadata": {},
   "outputs": [],
   "source": [
    "ra,dec= cat['RA'], cat['DEC']\n",
    "zcls  = cat['Z_LAMBDA']\n",
    "\n",
    "zcut  = (zcls<=0.65)&(zcls>=0.2)\n",
    "\n",
    "lmask = (cat['LAMBDA_CHISQ']>=5.) & zcut\n",
    "# lmask = (cat['LAMBDA_CHISQ']>=5.)&(cat['LAMBDA_CHISQ']<=20.)&zcut\n",
    "\n",
    "#patch = dec<40.#(dec>-0.5)&(dec<0.5)&(ra<30)\n",
    "#cut = np.where(lmask&patch)\n",
    "\n",
    "cut = np.where(lmask)\n"
   ]
  },
  {
   "cell_type": "code",
   "execution_count": 19,
   "metadata": {},
   "outputs": [],
   "source": [
    "cat = cat[cut]"
   ]
  },
  {
   "cell_type": "code",
   "execution_count": null,
   "metadata": {},
   "outputs": [],
   "source": []
  },
  {
   "cell_type": "code",
   "execution_count": 20,
   "metadata": {},
   "outputs": [],
   "source": [
    "# ra_min,ra_max   = 26.,30.\n",
    "# dec_min,dec_max = -44.5,-43.\n",
    "\n",
    "# mask = (cat['RA']<ra_max)&(cat['RA']>ra_min)\n",
    "# mask&= (cat['DEC']<dec_max)&(cat['DEC']>dec_min)"
   ]
  },
  {
   "cell_type": "code",
   "execution_count": 21,
   "metadata": {},
   "outputs": [
    {
     "name": "stdout",
     "output_type": "stream",
     "text": [
      "25585\n"
     ]
    }
   ],
   "source": [
    "print(len(cat))"
   ]
  },
  {
   "cell_type": "code",
   "execution_count": null,
   "metadata": {},
   "outputs": [],
   "source": []
  },
  {
   "cell_type": "markdown",
   "metadata": {},
   "source": [
    "### Healpix Matching"
   ]
  },
  {
   "cell_type": "code",
   "execution_count": 22,
   "metadata": {},
   "outputs": [],
   "source": [
    "import sys\n",
    "sys.path.append('../scripts/')\n",
    "from helper import AngularDistance,get_healpix_list,radec_pix"
   ]
  },
  {
   "cell_type": "code",
   "execution_count": 23,
   "metadata": {},
   "outputs": [],
   "source": [
    "rad2deg  = 180/np.pi\n",
    "rmax     = 8 #Mpc around each cluster\n",
    "\n",
    "#r200     = cat['R200'][:]*0.7 ## Mpc\n",
    "DA       = np.ones_like(np.array(cat['Z_LAMBDA']))\n",
    "# DA[cut]  = AngularDistance(np.array(cat['redshift'][cut]))\n",
    "DA  = AngularDistance(np.array(cat['Z_LAMBDA']))\n",
    "\n",
    "## compute the radii max\n",
    "cat['rmax']  = 60*(float(rmax)/DA)*rad2deg ## arcmin"
   ]
  },
  {
   "cell_type": "code",
   "execution_count": 24,
   "metadata": {},
   "outputs": [
    {
     "data": {
      "text/html": [
       "&lt;Table length=25585&gt;\n",
       "<table id=\"table140523298110672\" class=\"table-striped table-bordered table-condensed\">\n",
       "<thead><tr><th>RA</th><th>DEC</th><th>Z_LAMBDA</th><th>LAMBDA_CHISQ</th><th>LAMBDA_CHISQ_E</th><th>SCALEVAL</th><th>tile</th><th>rmax</th></tr></thead>\n",
       "<thead><tr><th>float64</th><th>float64</th><th>float32</th><th>float32</th><th>float32</th><th>float32</th><th>int64</th><th>float64</th></tr></thead>\n",
       "<tr><td>45.213325784218</td><td>0.413609510595717</td><td>0.26417944</td><td>6.9909916</td><td>2.1175554</td><td>1.1410239</td><td>0</td><td>32.64571567128423</td></tr>\n",
       "<tr><td>44.8811817440392</td><td>0.328352252722895</td><td>0.37183228</td><td>37.272118</td><td>2.8691561</td><td>1.0149995</td><td>0</td><td>25.847657585623363</td></tr>\n",
       "<tr><td>44.9093000971721</td><td>0.521576665208534</td><td>0.20710598</td><td>5.511259</td><td>1.2947567</td><td>1.0212231</td><td>0</td><td>39.22020394027673</td></tr>\n",
       "<tr><td>44.8699544543159</td><td>0.663876621631463</td><td>0.42131603</td><td>6.4570675</td><td>1.8470399</td><td>1.1422087</td><td>0</td><td>23.931400938923936</td></tr>\n",
       "<tr><td>44.5028833930552</td><td>0.568088348356786</td><td>0.49044833</td><td>8.760569</td><td>1.4227391</td><td>1.0171106</td><td>0</td><td>21.94144073261573</td></tr>\n",
       "<tr><td>44.4976936090464</td><td>0.72541556122261</td><td>0.5852238</td><td>5.8011036</td><td>1.5600871</td><td>0.99900776</td><td>0</td><td>20.041215860422824</td></tr>\n",
       "<tr><td>44.5627101437473</td><td>0.788889255041787</td><td>0.4019028</td><td>11.445444</td><td>1.6827905</td><td>0.9999067</td><td>0</td><td>24.62349970821246</td></tr>\n",
       "<tr><td>45.0438445368495</td><td>0.737060573237541</td><td>0.34828237</td><td>21.757807</td><td>2.8576376</td><td>1.1458498</td><td>0</td><td>26.962478832112453</td></tr>\n",
       "<tr><td>44.7942991169065</td><td>0.906567007309599</td><td>0.49183047</td><td>7.860525</td><td>1.6795193</td><td>1.0284135</td><td>0</td><td>21.90783408696074</td></tr>\n",
       "<tr><td>44.3909411157841</td><td>0.700421771903058</td><td>0.54573774</td><td>5.434984</td><td>1.3674781</td><td>1.0089897</td><td>0</td><td>20.743026060327622</td></tr>\n",
       "<tr><td>...</td><td>...</td><td>...</td><td>...</td><td>...</td><td>...</td><td>...</td><td>...</td></tr>\n",
       "<tr><td>32.8368641076915</td><td>2.43327614481857</td><td>0.5698983</td><td>7.265581</td><td>1.5697776</td><td>1.0120263</td><td>279</td><td>20.30048231735644</td></tr>\n",
       "<tr><td>32.5058199274266</td><td>2.33131224001081</td><td>0.6135561</td><td>5.05361</td><td>1.4279124</td><td>0.9992682</td><td>279</td><td>19.600912693867617</td></tr>\n",
       "<tr><td>32.6333325030419</td><td>2.37744643753985</td><td>0.59294754</td><td>12.528547</td><td>1.9124707</td><td>1.0167065</td><td>279</td><td>19.916358914090246</td></tr>\n",
       "<tr><td>32.4073834035673</td><td>2.38247280526266</td><td>0.39903504</td><td>71.82463</td><td>3.373745</td><td>1.0034068</td><td>279</td><td>24.731825346514018</td></tr>\n",
       "<tr><td>32.503655369245</td><td>2.49244411344731</td><td>0.40814096</td><td>14.0693</td><td>1.9086667</td><td>0.99996084</td><td>279</td><td>24.393447913643396</td></tr>\n",
       "<tr><td>32.6826378620162</td><td>2.51822045316702</td><td>0.46073097</td><td>5.3129444</td><td>1.092155</td><td>1.0015024</td><td>279</td><td>22.717598472568934</td></tr>\n",
       "<tr><td>32.801152542141</td><td>2.55915245916705</td><td>0.45004308</td><td>7.0672665</td><td>2.2181413</td><td>0.99820143</td><td>279</td><td>23.0241021264168</td></tr>\n",
       "<tr><td>32.5925252111657</td><td>2.48522693740715</td><td>0.27363858</td><td>7.921545</td><td>1.5861278</td><td>0.9977764</td><td>279</td><td>31.826222843675865</td></tr>\n",
       "<tr><td>32.6460835355449</td><td>2.60059601688994</td><td>0.24872155</td><td>5.679064</td><td>1.2904966</td><td>1.0127285</td><td>279</td><td>34.12259300477782</td></tr>\n",
       "<tr><td>33.1234050971512</td><td>2.54688269688111</td><td>0.40504453</td><td>6.4875774</td><td>1.6028636</td><td>1.0556152</td><td>279</td><td>24.50669601291201</td></tr>\n",
       "</table>"
      ],
      "text/plain": [
       "<Table length=25585>\n",
       "       RA               DEC         Z_LAMBDA  ...  tile        rmax       \n",
       "    float64           float64       float32   ... int64      float64      \n",
       "---------------- ----------------- ---------- ... ----- ------------------\n",
       " 45.213325784218 0.413609510595717 0.26417944 ...     0  32.64571567128423\n",
       "44.8811817440392 0.328352252722895 0.37183228 ...     0 25.847657585623363\n",
       "44.9093000971721 0.521576665208534 0.20710598 ...     0  39.22020394027673\n",
       "44.8699544543159 0.663876621631463 0.42131603 ...     0 23.931400938923936\n",
       "44.5028833930552 0.568088348356786 0.49044833 ...     0  21.94144073261573\n",
       "44.4976936090464  0.72541556122261  0.5852238 ...     0 20.041215860422824\n",
       "44.5627101437473 0.788889255041787  0.4019028 ...     0  24.62349970821246\n",
       "45.0438445368495 0.737060573237541 0.34828237 ...     0 26.962478832112453\n",
       "44.7942991169065 0.906567007309599 0.49183047 ...     0  21.90783408696074\n",
       "44.3909411157841 0.700421771903058 0.54573774 ...     0 20.743026060327622\n",
       "             ...               ...        ... ...   ...                ...\n",
       "32.8368641076915  2.43327614481857  0.5698983 ...   279  20.30048231735644\n",
       "32.5058199274266  2.33131224001081  0.6135561 ...   279 19.600912693867617\n",
       "32.6333325030419  2.37744643753985 0.59294754 ...   279 19.916358914090246\n",
       "32.4073834035673  2.38247280526266 0.39903504 ...   279 24.731825346514018\n",
       " 32.503655369245  2.49244411344731 0.40814096 ...   279 24.393447913643396\n",
       "32.6826378620162  2.51822045316702 0.46073097 ...   279 22.717598472568934\n",
       " 32.801152542141  2.55915245916705 0.45004308 ...   279   23.0241021264168\n",
       "32.5925252111657  2.48522693740715 0.27363858 ...   279 31.826222843675865\n",
       "32.6460835355449  2.60059601688994 0.24872155 ...   279  34.12259300477782\n",
       "33.1234050971512  2.54688269688111 0.40504453 ...   279  24.50669601291201"
      ]
     },
     "execution_count": 24,
     "metadata": {},
     "output_type": "execute_result"
    }
   ],
   "source": [
    "cat"
   ]
  },
  {
   "cell_type": "code",
   "execution_count": 25,
   "metadata": {},
   "outputs": [],
   "source": [
    "ra,dec= cat['RA'], cat['DEC']\n",
    "cluster_tile = np.array(cat['tile'])"
   ]
  },
  {
   "cell_type": "code",
   "execution_count": 26,
   "metadata": {},
   "outputs": [
    {
     "data": {
      "image/png": "[encoded data removed]",
      "text/plain": [
       "<Figure size 432x288 with 1 Axes>"
      ]
     },
     "metadata": {},
     "output_type": "display_data"
    }
   ],
   "source": [
    "_ = plt.hist(cluster_tile,bins=51)\n",
    "plt.yscale('log')"
   ]
  },
  {
   "cell_type": "code",
   "execution_count": 27,
   "metadata": {},
   "outputs": [],
   "source": [
    "#plt.hist(cat['redshift'])"
   ]
  },
  {
   "cell_type": "code",
   "execution_count": 28,
   "metadata": {},
   "outputs": [
    {
     "data": {
      "text/plain": [
       "array([  0,   2, 256, 257, 259, 260, 261, 262, 263, 269, 271, 272, 273,\n",
       "       274, 275, 276, 277, 278, 279])"
      ]
     },
     "execution_count": 28,
     "metadata": {},
     "output_type": "execute_result"
    }
   ],
   "source": [
    "np.unique(cluster_tile)"
   ]
  },
  {
   "cell_type": "code",
   "execution_count": 29,
   "metadata": {},
   "outputs": [
    {
     "data": {
      "text/plain": [
       "array([  0,   2, 256, 257, 259, 260, 261, 262, 263, 269, 271, 272, 273,\n",
       "       274, 275, 276, 277, 278, 279])"
      ]
     },
     "execution_count": 29,
     "metadata": {},
     "output_type": "execute_result"
    }
   ],
   "source": [
    "tiles"
   ]
  },
  {
   "cell_type": "code",
   "execution_count": 30,
   "metadata": {},
   "outputs": [
    {
     "data": {
      "text/plain": [
       "2056"
      ]
     },
     "execution_count": 30,
     "metadata": {},
     "output_type": "execute_result"
    }
   ],
   "source": [
    "np.where(cluster_tile==tiles[3])[0].size"
   ]
  },
  {
   "cell_type": "code",
   "execution_count": null,
   "metadata": {},
   "outputs": [],
   "source": []
  },
  {
   "cell_type": "markdown",
   "metadata": {},
   "source": [
    "### Retrieving Galaxy Catalogs"
   ]
  },
  {
   "cell_type": "code",
   "execution_count": 7,
   "metadata": {},
   "outputs": [],
   "source": [
    "def save_hdf5_output(gal,cat,outfile):\n",
    "    df  = gal.to_pandas()\n",
    "    df.to_hdf(outfile, key='members', mode='w')\n",
    "\n",
    "    gal = 0\n",
    "\n",
    "    dfc = cat.to_pandas()\n",
    "    dfc.to_hdf(outfile, key='cluster', mode='a')"
   ]
  },
  {
   "cell_type": "code",
   "execution_count": 8,
   "metadata": {},
   "outputs": [],
   "source": [
    "def load_hdf_files(infile,indices,columns,path='catalog/gold/'):\n",
    "    master = h5py.File(infile,'r')\n",
    "    gold   = master[path]\n",
    "    \n",
    "    mydict = dict().fromkeys(columns)\n",
    "    \n",
    "    mydict['id'] = indices\n",
    "    for col in columns:\n",
    "        mydict[col] = gold[col][:][indices]\n",
    "    \n",
    "    master.close()\n",
    "    return Table(mydict)"
   ]
  },
  {
   "cell_type": "code",
   "execution_count": 9,
   "metadata": {},
   "outputs": [],
   "source": [
    "from time import time"
   ]
  },
  {
   "cell_type": "code",
   "execution_count": 34,
   "metadata": {},
   "outputs": [],
   "source": [
    "# fname  = path+'Buzzard_v1.9.8_Y3a_bpz.h5'\n",
    "# indexes= h5py.File(fname)\n",
    "# bpz    = indexes['catalog/bpz']\n",
    "\n",
    "# #b_cid  = bpz['coadd_object_id'][:][maglim_idx]\n",
    "# z      = bpz['z'][:][maglim_idx]\n",
    "# zmean  = bpz['zmean_sof'][:][maglim_idx]\n",
    "\n",
    "# indexes.close()"
   ]
  },
  {
   "cell_type": "code",
   "execution_count": null,
   "metadata": {},
   "outputs": [],
   "source": []
  },
  {
   "cell_type": "code",
   "execution_count": 35,
   "metadata": {},
   "outputs": [],
   "source": [
    "indexes= h5py.File(fname_aux,'r')\n",
    "dnf    = indexes['catalog/unsheared']\n",
    "\n",
    "d_cid  = dnf['coadd_object_id'][:][maglim_idx]\n",
    "# d_z    = dnf['z'][:][maglim_idx]\n",
    "d_zmean= dnf['zmean_sof'][:][maglim_idx]\n",
    "# d_sigma= dnf['z_sigma'][:][maglim_idx]\n",
    "\n",
    "d_z = np.zeros_like(d_zmean)\n",
    "d_sigma = 0.03*(1+d_zmean)\n",
    "\n",
    "indexes.close()"
   ]
  },
  {
   "cell_type": "code",
   "execution_count": null,
   "metadata": {},
   "outputs": [],
   "source": []
  },
  {
   "cell_type": "code",
   "execution_count": 36,
   "metadata": {},
   "outputs": [],
   "source": [
    "## BE CAREFULL! The cells below take about an hour to run"
   ]
  },
  {
   "cell_type": "code",
   "execution_count": 25,
   "metadata": {},
   "outputs": [],
   "source": [
    "outdir = '/data/des61.a/data/johnny/DESY3/data/cutouts/'\n",
    "outfile_base = outdir+'y3_gold_2.2.1_wide_sofcol_run_redmapper_v6.4.22_wv1.2_subsampled_hpx8_{}.hdf'"
   ]
  },
  {
   "cell_type": "code",
   "execution_count": 41,
   "metadata": {},
   "outputs": [
    {
     "name": "stdout",
     "output_type": "stream",
     "text": [
      "start tile: 0\n",
      "matching: done\n",
      "loading main data: done\n",
      "outfile saved: /data/des61.a/data/johnny/DESY3/data/cutouts/y3_gold_2.2.1_wide_sofcol_run_redmapper_v6.4.22_wv1.2_subsampled_hpx8_0.hdf\n",
      "partial time: 0.65 min\n",
      "run time    : 0.65 min\n",
      "\n",
      "\n",
      "start tile: 2\n",
      "matching: done\n",
      "loading main data: done\n",
      "outfile saved: /data/des61.a/data/johnny/DESY3/data/cutouts/y3_gold_2.2.1_wide_sofcol_run_redmapper_v6.4.22_wv1.2_subsampled_hpx8_2.hdf\n",
      "partial time: 0.24 min\n",
      "run time    : 0.89 min\n",
      "\n",
      "\n",
      "start tile: 256\n",
      "matching: done\n",
      "loading main data: done\n",
      "outfile saved: /data/des61.a/data/johnny/DESY3/data/cutouts/y3_gold_2.2.1_wide_sofcol_run_redmapper_v6.4.22_wv1.2_subsampled_hpx8_256.hdf\n",
      "partial time: 2.21 min\n",
      "run time    : 3.10 min\n",
      "\n",
      "\n",
      "start tile: 257\n",
      "matching: done\n",
      "loading main data: done\n",
      "outfile saved: /data/des61.a/data/johnny/DESY3/data/cutouts/y3_gold_2.2.1_wide_sofcol_run_redmapper_v6.4.22_wv1.2_subsampled_hpx8_257.hdf\n",
      "partial time: 4.88 min\n",
      "run time    : 7.98 min\n",
      "\n",
      "\n",
      "start tile: 259\n",
      "matching: done\n",
      "loading main data: done\n",
      "outfile saved: /data/des61.a/data/johnny/DESY3/data/cutouts/y3_gold_2.2.1_wide_sofcol_run_redmapper_v6.4.22_wv1.2_subsampled_hpx8_259.hdf\n",
      "partial time: 0.23 min\n",
      "run time    : 8.21 min\n",
      "\n",
      "\n",
      "start tile: 260\n",
      "matching: done\n",
      "loading main data: done\n",
      "outfile saved: /data/des61.a/data/johnny/DESY3/data/cutouts/y3_gold_2.2.1_wide_sofcol_run_redmapper_v6.4.22_wv1.2_subsampled_hpx8_260.hdf\n",
      "partial time: 6.27 min\n",
      "run time    : 14.48 min\n",
      "\n",
      "\n",
      "start tile: 261\n",
      "matching: done\n",
      "loading main data: done\n",
      "outfile saved: /data/des61.a/data/johnny/DESY3/data/cutouts/y3_gold_2.2.1_wide_sofcol_run_redmapper_v6.4.22_wv1.2_subsampled_hpx8_261.hdf\n",
      "partial time: 8.04 min\n",
      "run time    : 22.52 min\n",
      "\n",
      "\n",
      "start tile: 262\n",
      "matching: done\n",
      "loading main data: done\n",
      "outfile saved: /data/des61.a/data/johnny/DESY3/data/cutouts/y3_gold_2.2.1_wide_sofcol_run_redmapper_v6.4.22_wv1.2_subsampled_hpx8_262.hdf\n",
      "partial time: 0.24 min\n",
      "run time    : 22.76 min\n",
      "\n",
      "\n",
      "start tile: 263\n",
      "matching: done\n",
      "loading main data: done\n",
      "outfile saved: /data/des61.a/data/johnny/DESY3/data/cutouts/y3_gold_2.2.1_wide_sofcol_run_redmapper_v6.4.22_wv1.2_subsampled_hpx8_263.hdf\n",
      "partial time: 0.27 min\n",
      "run time    : 23.03 min\n",
      "\n",
      "\n",
      "start tile: 269\n",
      "matching: done\n",
      "loading main data: done\n",
      "outfile saved: /data/des61.a/data/johnny/DESY3/data/cutouts/y3_gold_2.2.1_wide_sofcol_run_redmapper_v6.4.22_wv1.2_subsampled_hpx8_269.hdf\n",
      "partial time: 0.28 min\n",
      "run time    : 23.31 min\n",
      "\n",
      "\n",
      "start tile: 271\n",
      "matching: done\n",
      "loading main data: done\n",
      "outfile saved: /data/des61.a/data/johnny/DESY3/data/cutouts/y3_gold_2.2.1_wide_sofcol_run_redmapper_v6.4.22_wv1.2_subsampled_hpx8_271.hdf\n",
      "partial time: 1.65 min\n",
      "run time    : 24.96 min\n",
      "\n",
      "\n",
      "start tile: 272\n",
      "matching: done\n",
      "loading main data: done\n",
      "outfile saved: /data/des61.a/data/johnny/DESY3/data/cutouts/y3_gold_2.2.1_wide_sofcol_run_redmapper_v6.4.22_wv1.2_subsampled_hpx8_272.hdf\n",
      "partial time: 5.54 min\n",
      "run time    : 30.50 min\n",
      "\n",
      "\n",
      "start tile: 273\n",
      "matching: done\n",
      "loading main data: done\n",
      "outfile saved: /data/des61.a/data/johnny/DESY3/data/cutouts/y3_gold_2.2.1_wide_sofcol_run_redmapper_v6.4.22_wv1.2_subsampled_hpx8_273.hdf\n",
      "partial time: 7.17 min\n",
      "run time    : 37.68 min\n",
      "\n",
      "\n",
      "start tile: 274\n",
      "matching: done\n",
      "loading main data: done\n",
      "outfile saved: /data/des61.a/data/johnny/DESY3/data/cutouts/y3_gold_2.2.1_wide_sofcol_run_redmapper_v6.4.22_wv1.2_subsampled_hpx8_274.hdf\n",
      "partial time: 0.30 min\n",
      "run time    : 37.97 min\n",
      "\n",
      "\n",
      "start tile: 275\n",
      "matching: done\n",
      "loading main data: done\n",
      "outfile saved: /data/des61.a/data/johnny/DESY3/data/cutouts/y3_gold_2.2.1_wide_sofcol_run_redmapper_v6.4.22_wv1.2_subsampled_hpx8_275.hdf\n",
      "partial time: 4.47 min\n",
      "run time    : 42.45 min\n",
      "\n",
      "\n",
      "start tile: 276\n",
      "matching: done\n",
      "loading main data: done\n",
      "outfile saved: /data/des61.a/data/johnny/DESY3/data/cutouts/y3_gold_2.2.1_wide_sofcol_run_redmapper_v6.4.22_wv1.2_subsampled_hpx8_276.hdf\n",
      "partial time: 6.45 min\n",
      "run time    : 48.90 min\n",
      "\n",
      "\n",
      "start tile: 277\n",
      "matching: done\n",
      "loading main data: done\n",
      "outfile saved: /data/des61.a/data/johnny/DESY3/data/cutouts/y3_gold_2.2.1_wide_sofcol_run_redmapper_v6.4.22_wv1.2_subsampled_hpx8_277.hdf\n",
      "partial time: 6.24 min\n",
      "run time    : 55.14 min\n",
      "\n",
      "\n",
      "start tile: 278\n",
      "matching: done\n",
      "loading main data: done\n",
      "outfile saved: /data/des61.a/data/johnny/DESY3/data/cutouts/y3_gold_2.2.1_wide_sofcol_run_redmapper_v6.4.22_wv1.2_subsampled_hpx8_278.hdf\n",
      "partial time: 7.03 min\n",
      "run time    : 62.17 min\n",
      "\n",
      "\n",
      "start tile: 279\n",
      "matching: done\n",
      "loading main data: done\n",
      "outfile saved: /data/des61.a/data/johnny/DESY3/data/cutouts/y3_gold_2.2.1_wide_sofcol_run_redmapper_v6.4.22_wv1.2_subsampled_hpx8_279.hdf\n",
      "partial time: 0.43 min\n",
      "run time    : 62.60 min\n",
      "\n",
      "\n"
     ]
    }
   ],
   "source": [
    "t0 = time()\n",
    "\n",
    "time_evolution = np.empty((len(tiles)+1,),dtype=np.float64)\n",
    "time_evolution[0] = t0\n",
    "\n",
    "for i, tile in enumerate(tiles):\n",
    "    print('start tile: %i'%(tile))\n",
    "    outfile = outfile_base.format(tile)\n",
    "    w       = np.where(cluster_tile==tile)[0]\n",
    "\n",
    "    if (len(w)>1) & (not os.path.isfile(outfile)):\n",
    "        circles= get_healpix_list(cat[w],nside=16384)\n",
    "        match  = esutil.numpy_util.match(circles,hpx16384)\n",
    "        indices= maglim_idx[match[1]]\n",
    "        \n",
    "        print('matching: done')\n",
    "        data               =  load_hdf_files(fname,indices,columns,path='catalog/gold/')\n",
    "        #data['z']          = z[match[1]]\n",
    "        #data['z_mean_bpz'] = zmean[match[1]]\n",
    "        \n",
    "        print('loading main data: done')\n",
    "        data['z']          = d_z[match[1]]\n",
    "        data['z_mean_dnf'] = d_zmean[match[1]]\n",
    "        data['z_sigma_dnf']= d_sigma[match[1]]\n",
    "\n",
    "        data['index']= indices\n",
    "        data['tile'] = tile\n",
    "\n",
    "        save_hdf5_output(data,cat[w],outfile)\n",
    "        data = 0\n",
    "        print('outfile saved: %s'%(outfile))\n",
    "    else:\n",
    "        print('Error: empty tile')\n",
    "    \n",
    "    time_evolution[i+1] = time()\n",
    "    print('partial time: %.2f min'%((time_evolution[i+1]-time_evolution[i])/60.))\n",
    "    print('run time    : %.2f min'%((time_evolution[i+1]-time_evolution[0])/60.))\n",
    "    print('\\n')"
   ]
  },
  {
   "cell_type": "code",
   "execution_count": null,
   "metadata": {},
   "outputs": [],
   "source": [
    "maglim_idx"
   ]
  },
  {
   "cell_type": "code",
   "execution_count": null,
   "metadata": {},
   "outputs": [],
   "source": []
  },
  {
   "cell_type": "code",
   "execution_count": null,
   "metadata": {},
   "outputs": [],
   "source": [
    "## In case that the memory crashes, delete the photoz variables (z,zmean,d_zmean,d_sigma) and run the cell below"
   ]
  },
  {
   "cell_type": "code",
   "execution_count": null,
   "metadata": {},
   "outputs": [],
   "source": [
    "# fname     = path+'Buzzard_v1.9.8_Y3a_gold.h5'\n",
    "# fname_bpz = path+'Buzzard_v1.9.8_Y3a_bpz.h5'\n",
    "# fname_dnf = fname_aux\n",
    "\n",
    "# t0 = time()\n",
    "\n",
    "# time_evolution = np.empty((len(tiles)+1,),dtype=np.float64)\n",
    "# time_evolution[0] = t0\n",
    "\n",
    "# for i, tile in enumerate(tiles):\n",
    "#     print('start tile: %i'%(tile))\n",
    "    \n",
    "#     w      = esutil.numpy_util.where1(cluster_tile==tile)\n",
    "#     circles= get_healpix_list(cat[w],nside=Nside)\n",
    "    \n",
    "#     match  = esutil.numpy_util.match(circles,hpx16384)\n",
    "#     indices= maglim_idx[match[1]]\n",
    "    \n",
    "#     data = load_hdf_files(fname,indices,columns,path='catalog/gold/')\n",
    "#     bpz  = load_hdf_files(fname_bpz,indices,['z','zmean_sof'],path='catalog/bpz/')\n",
    "#     dnf  = load_hdf_files(fname_aux,indices,['z_mean','z_sigma'],path='catalog/dnf/unsheared')\n",
    "    \n",
    "#     data['z']          = bpz['z']\n",
    "#     data['z_mean_bpz'] = bpz['zmean_sof']\n",
    "\n",
    "#     data['z_mean_dnf'] = dnf['z_mean']\n",
    "#     data['z_sigma_dnf']= dnf['z_sigma']\n",
    "    \n",
    "#     data['index']= indices\n",
    "#     data['tile'] = tile\n",
    "#     time_evolution[i+1] = time()\n",
    "    \n",
    "#     outfile = outfile_base.format(tile)\n",
    "#     save_hdf5_output(data,cat[w],outfile)\n",
    "#     data = 0\n",
    "#     print('outfile saved: %s'%(outfile))\n",
    "    \n",
    "#     print('partial time: %.2f min'%((time_evolution[i+1]-time_evolution[i])/60.))\n",
    "#     print('run time    : %.2f min'%((time_evolution[i+1]-time_evolution[0])/60.))\n",
    "#     print('\\n')"
   ]
  },
  {
   "cell_type": "code",
   "execution_count": null,
   "metadata": {},
   "outputs": [],
   "source": []
  },
  {
   "cell_type": "code",
   "execution_count": 10,
   "metadata": {},
   "outputs": [],
   "source": [
    "import pandas as pd"
   ]
  },
  {
   "cell_type": "code",
   "execution_count": 11,
   "metadata": {},
   "outputs": [],
   "source": [
    "def upload_dataFrame(infile,keys='members'):\n",
    "    hdf = pd.HDFStore(infile, mode='r')\n",
    "    df1 = hdf.get(keys)\n",
    "    hdf.close()\n",
    "    data = Table.from_pandas(df1)\n",
    "    return data"
   ]
  },
  {
   "cell_type": "code",
   "execution_count": 12,
   "metadata": {},
   "outputs": [],
   "source": [
    "outdir = '/data/des61.a/data/johnny/DESY3/data/cutouts/'\n",
    "outfile_base = outdir+'y3_gold_2.2.1_wide_sofcol_run_redmapper_v6.4.22_wv1.2_subsampled_hpx8_{:05d}.hdf5'"
   ]
  },
  {
   "cell_type": "code",
   "execution_count": 13,
   "metadata": {},
   "outputs": [
    {
     "data": {
      "text/plain": [
       "'/data/des61.a/data/johnny/DESY3/data/cutouts/y3_gold_2.2.1_wide_sofcol_run_redmapper_v6.4.22_wv1.2_subsampled_hpx8_{:05d}.hdf5'"
      ]
     },
     "execution_count": 13,
     "metadata": {},
     "output_type": "execute_result"
    }
   ],
   "source": [
    "outfile_base"
   ]
  },
  {
   "cell_type": "code",
   "execution_count": 14,
   "metadata": {},
   "outputs": [
    {
     "name": "stdout",
     "output_type": "stream",
     "text": [
      "/data/des61.a/data/johnny/DESY3/data/cutouts/y3_gold_2.2.1_wide_sofcol_run_redmapper_v6.4.22_wv1.2_subsampled_hpx8_00000.hdf5\r\n",
      "/data/des61.a/data/johnny/DESY3/data/cutouts/y3_gold_2.2.1_wide_sofcol_run_redmapper_v6.4.22_wv1.2_subsampled_hpx8_00002.hdf5\r\n",
      "/data/des61.a/data/johnny/DESY3/data/cutouts/y3_gold_2.2.1_wide_sofcol_run_redmapper_v6.4.22_wv1.2_subsampled_hpx8_00256.hdf5\r\n",
      "/data/des61.a/data/johnny/DESY3/data/cutouts/y3_gold_2.2.1_wide_sofcol_run_redmapper_v6.4.22_wv1.2_subsampled_hpx8_00257.hdf5\r\n",
      "/data/des61.a/data/johnny/DESY3/data/cutouts/y3_gold_2.2.1_wide_sofcol_run_redmapper_v6.4.22_wv1.2_subsampled_hpx8_00259.hdf5\r\n",
      "/data/des61.a/data/johnny/DESY3/data/cutouts/y3_gold_2.2.1_wide_sofcol_run_redmapper_v6.4.22_wv1.2_subsampled_hpx8_00260.hdf5\r\n",
      "/data/des61.a/data/johnny/DESY3/data/cutouts/y3_gold_2.2.1_wide_sofcol_run_redmapper_v6.4.22_wv1.2_subsampled_hpx8_00261.hdf5\r\n",
      "/data/des61.a/data/johnny/DESY3/data/cutouts/y3_gold_2.2.1_wide_sofcol_run_redmapper_v6.4.22_wv1.2_subsampled_hpx8_00262.hdf5\r\n",
      "/data/des61.a/data/johnny/DESY3/data/cutouts/y3_gold_2.2.1_wide_sofcol_run_redmapper_v6.4.22_wv1.2_subsampled_hpx8_00263.hdf5\r\n",
      "/data/des61.a/data/johnny/DESY3/data/cutouts/y3_gold_2.2.1_wide_sofcol_run_redmapper_v6.4.22_wv1.2_subsampled_hpx8_00269.hdf5\r\n",
      "/data/des61.a/data/johnny/DESY3/data/cutouts/y3_gold_2.2.1_wide_sofcol_run_redmapper_v6.4.22_wv1.2_subsampled_hpx8_00271.hdf5\r\n",
      "/data/des61.a/data/johnny/DESY3/data/cutouts/y3_gold_2.2.1_wide_sofcol_run_redmapper_v6.4.22_wv1.2_subsampled_hpx8_00272.hdf5\r\n",
      "/data/des61.a/data/johnny/DESY3/data/cutouts/y3_gold_2.2.1_wide_sofcol_run_redmapper_v6.4.22_wv1.2_subsampled_hpx8_00273.hdf5\r\n",
      "/data/des61.a/data/johnny/DESY3/data/cutouts/y3_gold_2.2.1_wide_sofcol_run_redmapper_v6.4.22_wv1.2_subsampled_hpx8_00274.hdf5\r\n",
      "/data/des61.a/data/johnny/DESY3/data/cutouts/y3_gold_2.2.1_wide_sofcol_run_redmapper_v6.4.22_wv1.2_subsampled_hpx8_00275.hdf5\r\n",
      "/data/des61.a/data/johnny/DESY3/data/cutouts/y3_gold_2.2.1_wide_sofcol_run_redmapper_v6.4.22_wv1.2_subsampled_hpx8_00276.hdf5\r\n",
      "/data/des61.a/data/johnny/DESY3/data/cutouts/y3_gold_2.2.1_wide_sofcol_run_redmapper_v6.4.22_wv1.2_subsampled_hpx8_00277.hdf5\r\n",
      "/data/des61.a/data/johnny/DESY3/data/cutouts/y3_gold_2.2.1_wide_sofcol_run_redmapper_v6.4.22_wv1.2_subsampled_hpx8_00278.hdf5\r\n",
      "/data/des61.a/data/johnny/DESY3/data/cutouts/y3_gold_2.2.1_wide_sofcol_run_redmapper_v6.4.22_wv1.2_subsampled_hpx8_00279.hdf5\r\n"
     ]
    }
   ],
   "source": [
    "!ls /data/des61.a/data/johnny/DESY3/data/cutouts/y3_gold_2.2.1_wide_sofcol_run_redmapper_v6.4.22_wv1.2_subsampled_hpx8*"
   ]
  },
  {
   "cell_type": "code",
   "execution_count": 15,
   "metadata": {},
   "outputs": [],
   "source": [
    "outdir = '/data/des61.a/data/johnny/DESY3/data/cutouts/'\n",
    "outfile_base = outdir+'y3_gold_2.2.1_wide_sofcol_run_redmapper_v6.4.22_wv1.2_subsampled_hpx8_{}.hdf'"
   ]
  },
  {
   "cell_type": "code",
   "execution_count": 16,
   "metadata": {},
   "outputs": [],
   "source": [
    "hi = 279\n",
    "outfile = outfile_base.format(hi)"
   ]
  },
  {
   "cell_type": "code",
   "execution_count": 17,
   "metadata": {},
   "outputs": [
    {
     "ename": "IOError",
     "evalue": "``/data/des61.a/data/johnny/DESY3/data/cutouts/y3_gold_2.2.1_wide_sofcol_run_redmapper_v6.4.22_wv1.2_subsampled_hpx8_279.hdf`` does not exist",
     "output_type": "error",
     "traceback": [
      "\u001b[0;31m---------------------------------------------------------------------------\u001b[0m",
      "\u001b[0;31mIOError\u001b[0m                                   Traceback (most recent call last)",
      "\u001b[0;32m<ipython-input-17-d71d316559c5>\u001b[0m in \u001b[0;36m<module>\u001b[0;34m()\u001b[0m\n\u001b[0;32m----> 1\u001b[0;31m \u001b[0mgi\u001b[0m \u001b[0;34m=\u001b[0m \u001b[0mupload_dataFrame\u001b[0m\u001b[0;34m(\u001b[0m\u001b[0moutfile\u001b[0m\u001b[0;34m,\u001b[0m\u001b[0mkeys\u001b[0m\u001b[0;34m=\u001b[0m\u001b[0;34m'cluster'\u001b[0m\u001b[0;34m)\u001b[0m\u001b[0;34m\u001b[0m\u001b[0m\n\u001b[0m\u001b[1;32m      2\u001b[0m \u001b[0;31m#ra, dec = gi['ra'], gi['dec']\u001b[0m\u001b[0;34m\u001b[0m\u001b[0;34m\u001b[0m\u001b[0m\n",
      "\u001b[0;32m<ipython-input-11-93ddf7b8fbad>\u001b[0m in \u001b[0;36mupload_dataFrame\u001b[0;34m(infile, keys)\u001b[0m\n\u001b[1;32m      1\u001b[0m \u001b[0;32mdef\u001b[0m \u001b[0mupload_dataFrame\u001b[0m\u001b[0;34m(\u001b[0m\u001b[0minfile\u001b[0m\u001b[0;34m,\u001b[0m\u001b[0mkeys\u001b[0m\u001b[0;34m=\u001b[0m\u001b[0;34m'members'\u001b[0m\u001b[0;34m)\u001b[0m\u001b[0;34m:\u001b[0m\u001b[0;34m\u001b[0m\u001b[0m\n\u001b[0;32m----> 2\u001b[0;31m     \u001b[0mhdf\u001b[0m \u001b[0;34m=\u001b[0m \u001b[0mpd\u001b[0m\u001b[0;34m.\u001b[0m\u001b[0mHDFStore\u001b[0m\u001b[0;34m(\u001b[0m\u001b[0minfile\u001b[0m\u001b[0;34m,\u001b[0m \u001b[0mmode\u001b[0m\u001b[0;34m=\u001b[0m\u001b[0;34m'r'\u001b[0m\u001b[0;34m)\u001b[0m\u001b[0;34m\u001b[0m\u001b[0m\n\u001b[0m\u001b[1;32m      3\u001b[0m     \u001b[0mdf1\u001b[0m \u001b[0;34m=\u001b[0m \u001b[0mhdf\u001b[0m\u001b[0;34m.\u001b[0m\u001b[0mget\u001b[0m\u001b[0;34m(\u001b[0m\u001b[0mkeys\u001b[0m\u001b[0;34m)\u001b[0m\u001b[0;34m\u001b[0m\u001b[0m\n\u001b[1;32m      4\u001b[0m     \u001b[0mhdf\u001b[0m\u001b[0;34m.\u001b[0m\u001b[0mclose\u001b[0m\u001b[0;34m(\u001b[0m\u001b[0;34m)\u001b[0m\u001b[0;34m\u001b[0m\u001b[0m\n\u001b[1;32m      5\u001b[0m     \u001b[0mdata\u001b[0m \u001b[0;34m=\u001b[0m \u001b[0mTable\u001b[0m\u001b[0;34m.\u001b[0m\u001b[0mfrom_pandas\u001b[0m\u001b[0;34m(\u001b[0m\u001b[0mdf1\u001b[0m\u001b[0;34m)\u001b[0m\u001b[0;34m\u001b[0m\u001b[0m\n",
      "\u001b[0;32m/home/s1/jesteves/.local/lib/python2.7/site-packages/pandas/io/pytables.pyc\u001b[0m in \u001b[0;36m__init__\u001b[0;34m(self, path, mode, complevel, complib, fletcher32, **kwargs)\u001b[0m\n\u001b[1;32m    486\u001b[0m         \u001b[0mself\u001b[0m\u001b[0;34m.\u001b[0m\u001b[0m_fletcher32\u001b[0m \u001b[0;34m=\u001b[0m \u001b[0mfletcher32\u001b[0m\u001b[0;34m\u001b[0m\u001b[0m\n\u001b[1;32m    487\u001b[0m         \u001b[0mself\u001b[0m\u001b[0;34m.\u001b[0m\u001b[0m_filters\u001b[0m \u001b[0;34m=\u001b[0m \u001b[0mNone\u001b[0m\u001b[0;34m\u001b[0m\u001b[0m\n\u001b[0;32m--> 488\u001b[0;31m         \u001b[0mself\u001b[0m\u001b[0;34m.\u001b[0m\u001b[0mopen\u001b[0m\u001b[0;34m(\u001b[0m\u001b[0mmode\u001b[0m\u001b[0;34m=\u001b[0m\u001b[0mmode\u001b[0m\u001b[0;34m,\u001b[0m \u001b[0;34m**\u001b[0m\u001b[0mkwargs\u001b[0m\u001b[0;34m)\u001b[0m\u001b[0;34m\u001b[0m\u001b[0m\n\u001b[0m\u001b[1;32m    489\u001b[0m \u001b[0;34m\u001b[0m\u001b[0m\n\u001b[1;32m    490\u001b[0m     \u001b[0;32mdef\u001b[0m \u001b[0m__fspath__\u001b[0m\u001b[0;34m(\u001b[0m\u001b[0mself\u001b[0m\u001b[0;34m)\u001b[0m\u001b[0;34m:\u001b[0m\u001b[0;34m\u001b[0m\u001b[0m\n",
      "\u001b[0;32m/home/s1/jesteves/.local/lib/python2.7/site-packages/pandas/io/pytables.pyc\u001b[0m in \u001b[0;36mopen\u001b[0;34m(self, mode, **kwargs)\u001b[0m\n\u001b[1;32m    601\u001b[0m \u001b[0;34m\u001b[0m\u001b[0m\n\u001b[1;32m    602\u001b[0m         \u001b[0;32mtry\u001b[0m\u001b[0;34m:\u001b[0m\u001b[0;34m\u001b[0m\u001b[0m\n\u001b[0;32m--> 603\u001b[0;31m             \u001b[0mself\u001b[0m\u001b[0;34m.\u001b[0m\u001b[0m_handle\u001b[0m \u001b[0;34m=\u001b[0m \u001b[0mtables\u001b[0m\u001b[0;34m.\u001b[0m\u001b[0mopen_file\u001b[0m\u001b[0;34m(\u001b[0m\u001b[0mself\u001b[0m\u001b[0;34m.\u001b[0m\u001b[0m_path\u001b[0m\u001b[0;34m,\u001b[0m \u001b[0mself\u001b[0m\u001b[0;34m.\u001b[0m\u001b[0m_mode\u001b[0m\u001b[0;34m,\u001b[0m \u001b[0;34m**\u001b[0m\u001b[0mkwargs\u001b[0m\u001b[0;34m)\u001b[0m\u001b[0;34m\u001b[0m\u001b[0m\n\u001b[0m\u001b[1;32m    604\u001b[0m         \u001b[0;32mexcept\u001b[0m \u001b[0;34m(\u001b[0m\u001b[0mIOError\u001b[0m\u001b[0;34m)\u001b[0m \u001b[0;32mas\u001b[0m \u001b[0me\u001b[0m\u001b[0;34m:\u001b[0m  \u001b[0;31m# pragma: no cover\u001b[0m\u001b[0;34m\u001b[0m\u001b[0m\n\u001b[1;32m    605\u001b[0m             \u001b[0;32mif\u001b[0m \u001b[0;34m'can not be written'\u001b[0m \u001b[0;32min\u001b[0m \u001b[0mstr\u001b[0m\u001b[0;34m(\u001b[0m\u001b[0me\u001b[0m\u001b[0;34m)\u001b[0m\u001b[0;34m:\u001b[0m\u001b[0;34m\u001b[0m\u001b[0m\n",
      "\u001b[0;32m/home/s1/jesteves/.local/lib/python2.7/site-packages/tables/file.pyc\u001b[0m in \u001b[0;36mopen_file\u001b[0;34m(filename, mode, title, root_uep, filters, **kwargs)\u001b[0m\n\u001b[1;32m    318\u001b[0m \u001b[0;34m\u001b[0m\u001b[0m\n\u001b[1;32m    319\u001b[0m     \u001b[0;31m# Finally, create the File instance, and return it\u001b[0m\u001b[0;34m\u001b[0m\u001b[0;34m\u001b[0m\u001b[0m\n\u001b[0;32m--> 320\u001b[0;31m     \u001b[0;32mreturn\u001b[0m \u001b[0mFile\u001b[0m\u001b[0;34m(\u001b[0m\u001b[0mfilename\u001b[0m\u001b[0;34m,\u001b[0m \u001b[0mmode\u001b[0m\u001b[0;34m,\u001b[0m \u001b[0mtitle\u001b[0m\u001b[0;34m,\u001b[0m \u001b[0mroot_uep\u001b[0m\u001b[0;34m,\u001b[0m \u001b[0mfilters\u001b[0m\u001b[0;34m,\u001b[0m \u001b[0;34m**\u001b[0m\u001b[0mkwargs\u001b[0m\u001b[0;34m)\u001b[0m\u001b[0;34m\u001b[0m\u001b[0m\n\u001b[0m\u001b[1;32m    321\u001b[0m \u001b[0;34m\u001b[0m\u001b[0m\n\u001b[1;32m    322\u001b[0m \u001b[0;34m\u001b[0m\u001b[0m\n",
      "\u001b[0;32m/home/s1/jesteves/.local/lib/python2.7/site-packages/tables/file.pyc\u001b[0m in \u001b[0;36m__init__\u001b[0;34m(self, filename, mode, title, root_uep, filters, **kwargs)\u001b[0m\n\u001b[1;32m    782\u001b[0m \u001b[0;34m\u001b[0m\u001b[0m\n\u001b[1;32m    783\u001b[0m         \u001b[0;31m# Now, it is time to initialize the File extension\u001b[0m\u001b[0;34m\u001b[0m\u001b[0;34m\u001b[0m\u001b[0m\n\u001b[0;32m--> 784\u001b[0;31m         \u001b[0mself\u001b[0m\u001b[0;34m.\u001b[0m\u001b[0m_g_new\u001b[0m\u001b[0;34m(\u001b[0m\u001b[0mfilename\u001b[0m\u001b[0;34m,\u001b[0m \u001b[0mmode\u001b[0m\u001b[0;34m,\u001b[0m \u001b[0;34m**\u001b[0m\u001b[0mparams\u001b[0m\u001b[0;34m)\u001b[0m\u001b[0;34m\u001b[0m\u001b[0m\n\u001b[0m\u001b[1;32m    785\u001b[0m \u001b[0;34m\u001b[0m\u001b[0m\n\u001b[1;32m    786\u001b[0m         \u001b[0;31m# Check filters and set PyTables format version for new files.\u001b[0m\u001b[0;34m\u001b[0m\u001b[0;34m\u001b[0m\u001b[0m\n",
      "\u001b[0;32mtables/hdf5extension.pyx\u001b[0m in \u001b[0;36mtables.hdf5extension.File._g_new\u001b[0;34m()\u001b[0m\n",
      "\u001b[0;32m/home/s1/jesteves/.local/lib/python2.7/site-packages/tables/utils.pyc\u001b[0m in \u001b[0;36mcheck_file_access\u001b[0;34m(filename, mode)\u001b[0m\n\u001b[1;32m    155\u001b[0m         \u001b[0;31m# The file should be readable.\u001b[0m\u001b[0;34m\u001b[0m\u001b[0;34m\u001b[0m\u001b[0m\n\u001b[1;32m    156\u001b[0m         \u001b[0;32mif\u001b[0m \u001b[0;32mnot\u001b[0m \u001b[0mos\u001b[0m\u001b[0;34m.\u001b[0m\u001b[0maccess\u001b[0m\u001b[0;34m(\u001b[0m\u001b[0mfilename\u001b[0m\u001b[0;34m,\u001b[0m \u001b[0mos\u001b[0m\u001b[0;34m.\u001b[0m\u001b[0mF_OK\u001b[0m\u001b[0;34m)\u001b[0m\u001b[0;34m:\u001b[0m\u001b[0;34m\u001b[0m\u001b[0m\n\u001b[0;32m--> 157\u001b[0;31m             \u001b[0;32mraise\u001b[0m \u001b[0mIOError\u001b[0m\u001b[0;34m(\u001b[0m\u001b[0;34m\"``%s`` does not exist\"\u001b[0m \u001b[0;34m%\u001b[0m \u001b[0;34m(\u001b[0m\u001b[0mfilename\u001b[0m\u001b[0;34m,\u001b[0m\u001b[0;34m)\u001b[0m\u001b[0;34m)\u001b[0m\u001b[0;34m\u001b[0m\u001b[0m\n\u001b[0m\u001b[1;32m    158\u001b[0m         \u001b[0;32mif\u001b[0m \u001b[0;32mnot\u001b[0m \u001b[0mos\u001b[0m\u001b[0;34m.\u001b[0m\u001b[0mpath\u001b[0m\u001b[0;34m.\u001b[0m\u001b[0misfile\u001b[0m\u001b[0;34m(\u001b[0m\u001b[0mfilename\u001b[0m\u001b[0;34m)\u001b[0m\u001b[0;34m:\u001b[0m\u001b[0;34m\u001b[0m\u001b[0m\n\u001b[1;32m    159\u001b[0m             \u001b[0;32mraise\u001b[0m \u001b[0mIOError\u001b[0m\u001b[0;34m(\u001b[0m\u001b[0;34m\"``%s`` is not a regular file\"\u001b[0m \u001b[0;34m%\u001b[0m \u001b[0;34m(\u001b[0m\u001b[0mfilename\u001b[0m\u001b[0;34m,\u001b[0m\u001b[0;34m)\u001b[0m\u001b[0;34m)\u001b[0m\u001b[0;34m\u001b[0m\u001b[0m\n",
      "\u001b[0;31mIOError\u001b[0m: ``/data/des61.a/data/johnny/DESY3/data/cutouts/y3_gold_2.2.1_wide_sofcol_run_redmapper_v6.4.22_wv1.2_subsampled_hpx8_279.hdf`` does not exist"
     ]
    }
   ],
   "source": [
    "gi = upload_dataFrame(outfile,keys='cluster')\n",
    "#ra, dec = gi['ra'], gi['dec']"
   ]
  },
  {
   "cell_type": "code",
   "execution_count": null,
   "metadata": {},
   "outputs": [],
   "source": [
    "gi"
   ]
  },
  {
   "cell_type": "code",
   "execution_count": null,
   "metadata": {},
   "outputs": [],
   "source": [
    "np.count_nonzero(gi['z_mean_dnf']<0)"
   ]
  },
  {
   "cell_type": "code",
   "execution_count": null,
   "metadata": {},
   "outputs": [],
   "source": [
    "1.*np.count_nonzero(gi['z_mean_dnf'])/len(gi)\n"
   ]
  },
  {
   "cell_type": "code",
   "execution_count": 18,
   "metadata": {},
   "outputs": [
    {
     "ename": "NameError",
     "evalue": "name 'gi' is not defined",
     "output_type": "error",
     "traceback": [
      "\u001b[0;31m---------------------------------------------------------------------------\u001b[0m",
      "\u001b[0;31mNameError\u001b[0m                                 Traceback (most recent call last)",
      "\u001b[0;32m<ipython-input-18-d445f9724fc9>\u001b[0m in \u001b[0;36m<module>\u001b[0;34m()\u001b[0m\n\u001b[0;32m----> 1\u001b[0;31m \u001b[0mplt\u001b[0m\u001b[0;34m.\u001b[0m\u001b[0mhist\u001b[0m\u001b[0;34m(\u001b[0m\u001b[0mgi\u001b[0m\u001b[0;34m[\u001b[0m\u001b[0;34m'z_sigma_dnf'\u001b[0m\u001b[0;34m]\u001b[0m\u001b[0;34m)\u001b[0m\u001b[0;34m\u001b[0m\u001b[0m\n\u001b[0m",
      "\u001b[0;31mNameError\u001b[0m: name 'gi' is not defined"
     ]
    }
   ],
   "source": [
    "plt.hist(gi['z_sigma_dnf'])"
   ]
  },
  {
   "cell_type": "code",
   "execution_count": 42,
   "metadata": {},
   "outputs": [
    {
     "data": {
      "image/png": "[encoded data removed]",
      "text/plain": [
       "<Figure size 432x288 with 1 Axes>"
      ]
     },
     "metadata": {},
     "output_type": "display_data"
    }
   ],
   "source": [
    "_ = plt.hist(gi['z_sigma_dnf'],bins=np.logspace(-3.,0.5,21))\n",
    "plt.xscale('log')"
   ]
  },
  {
   "cell_type": "code",
   "execution_count": null,
   "metadata": {},
   "outputs": [],
   "source": []
  },
  {
   "cell_type": "code",
   "execution_count": 33,
   "metadata": {},
   "outputs": [
    {
     "ename": "NameError",
     "evalue": "name 'cluster_tile' is not defined",
     "output_type": "error",
     "traceback": [
      "\u001b[0;31m---------------------------------------------------------------------------\u001b[0m",
      "\u001b[0;31mNameError\u001b[0m                                 Traceback (most recent call last)",
      "\u001b[0;32m<ipython-input-33-f5130b0884ca>\u001b[0m in \u001b[0;36m<module>\u001b[0;34m()\u001b[0m\n\u001b[0;32m----> 1\u001b[0;31m \u001b[0mw\u001b[0m \u001b[0;34m=\u001b[0m \u001b[0mnp\u001b[0m\u001b[0;34m.\u001b[0m\u001b[0mwhere\u001b[0m\u001b[0;34m(\u001b[0m\u001b[0mcluster_tile\u001b[0m\u001b[0;34m==\u001b[0m\u001b[0mhi\u001b[0m\u001b[0;34m)\u001b[0m\u001b[0;34m[\u001b[0m\u001b[0;36m0\u001b[0m\u001b[0;34m]\u001b[0m\u001b[0;34m\u001b[0m\u001b[0m\n\u001b[0m\u001b[1;32m      2\u001b[0m \u001b[0mrac\u001b[0m\u001b[0;34m,\u001b[0m\u001b[0mdecc\u001b[0m \u001b[0;34m=\u001b[0m \u001b[0mcat\u001b[0m\u001b[0;34m[\u001b[0m\u001b[0;34m'RA'\u001b[0m\u001b[0;34m]\u001b[0m\u001b[0;34m[\u001b[0m\u001b[0mw\u001b[0m\u001b[0;34m]\u001b[0m\u001b[0;34m,\u001b[0m\u001b[0mcat\u001b[0m\u001b[0;34m[\u001b[0m\u001b[0;34m'DEC'\u001b[0m\u001b[0;34m]\u001b[0m\u001b[0;34m[\u001b[0m\u001b[0mw\u001b[0m\u001b[0;34m]\u001b[0m\u001b[0;34m\u001b[0m\u001b[0m\n\u001b[1;32m      3\u001b[0m \u001b[0;34m\u001b[0m\u001b[0m\n\u001b[1;32m      4\u001b[0m \u001b[0;31m#circles= get_healpix_list(cat[w],nside=16384)\u001b[0m\u001b[0;34m\u001b[0m\u001b[0;34m\u001b[0m\u001b[0m\n\u001b[1;32m      5\u001b[0m \u001b[0;31m#match  = esutil.numpy_util.match(circles,hpx16384)\u001b[0m\u001b[0;34m\u001b[0m\u001b[0;34m\u001b[0m\u001b[0m\n",
      "\u001b[0;31mNameError\u001b[0m: name 'cluster_tile' is not defined"
     ]
    }
   ],
   "source": [
    "w = np.where(cluster_tile==hi)[0]\n",
    "rac,decc = cat['RA'][w],cat['DEC'][w]\n",
    "\n",
    "#circles= get_healpix_list(cat[w],nside=16384)\n",
    "#match  = esutil.numpy_util.match(circles,hpx16384)"
   ]
  },
  {
   "cell_type": "code",
   "execution_count": 52,
   "metadata": {},
   "outputs": [
    {
     "data": {
      "text/plain": [
       "<matplotlib.collections.PathCollection at 0x7fcde2384610>"
      ]
     },
     "execution_count": 52,
     "metadata": {},
     "output_type": "execute_result"
    },
    {
     "data": {
      "image/png": "[encoded data removed]",
      "text/plain": [
       "<Figure size 432x288 with 1 Axes>"
      ]
     },
     "metadata": {},
     "output_type": "display_data"
    }
   ],
   "source": [
    "plt.scatter(ra[::10],dec[::10],alpha=0.3)\n",
    "plt.scatter(rac,decc)"
   ]
  },
  {
   "cell_type": "code",
   "execution_count": 53,
   "metadata": {},
   "outputs": [
    {
     "data": {
      "text/html": [
       "&lt;Table length=2259858&gt;\n",
       "<table id=\"table140522085170640\" class=\"table-striped table-bordered table-condensed\">\n",
       "<thead><tr><th>sof_cm_mag_corrected_i</th><th>sof_cm_mag_err_i</th><th>sof_cm_mag_err_g</th><th>sof_cm_mag_corrected_g</th><th>hpix_16384</th><th>flags_gold</th><th>ra</th><th>sof_cm_mag_corrected_z</th><th>sof_cm_mag_err_r</th><th>sof_cm_mag_err_z</th><th>coadd_object_id</th><th>dec</th><th>extended_class_mash_sof</th><th>id</th><th>sof_cm_mag_corrected_r</th><th>z</th><th>z_mean_dnf</th><th>z_sigma_dnf</th><th>index</th><th>tile</th></tr></thead>\n",
       "<thead><tr><th>float64</th><th>float64</th><th>float64</th><th>float64</th><th>int64</th><th>int32</th><th>float64</th><th>float64</th><th>float64</th><th>float64</th><th>int64</th><th>float64</th><th>int16</th><th>int64</th><th>float64</th><th>float32</th><th>float32</th><th>float32</th><th>int64</th><th>int64</th></tr></thead>\n",
       "<tr><td>21.60564193805693</td><td>0.055921232332650936</td><td>0.1914977837828636</td><td>23.987521002163408</td><td>1079332929</td><td>0</td><td>11.1000318992525</td><td>21.21601682758829</td><td>0.07992986922742125</td><td>0.07288781749877886</td><td>274171316</td><td>-30.1456359199531</td><td>3</td><td>4489429</td><td>22.71707278888059</td><td>0.0</td><td>0.8024673</td><td>0.05407402</td><td>4489429</td><td>260</td></tr>\n",
       "<tr><td>22.96126914410424</td><td>0.17255014657281287</td><td>0.1769462710672868</td><td>23.87396956908976</td><td>1079332940</td><td>0</td><td>11.0955181904224</td><td>23.013254886931634</td><td>0.14470472715328406</td><td>0.2415339775648113</td><td>274170886</td><td>-30.1357654530396</td><td>3</td><td>4489438</td><td>23.13972062656116</td><td>0.0</td><td>0.44927597</td><td>0.043478277</td><td>4489438</td><td>260</td></tr>\n",
       "<tr><td>21.837376685401747</td><td>0.03840718774464921</td><td>0.17238731142914498</td><td>24.2957478423318</td><td>1079332941</td><td>0</td><td>11.0995507694232</td><td>21.368082854584085</td><td>0.04423661123593533</td><td>0.03971980847079779</td><td>274170925</td><td>-30.136713533865</td><td>3</td><td>4489439</td><td>22.664832310440673</td><td>0.0</td><td>0.6615005</td><td>0.049845014</td><td>4489439</td><td>260</td></tr>\n",
       "<tr><td>21.930223594696987</td><td>0.042899779197968786</td><td>0.04163176945824593</td><td>22.66987160829307</td><td>1079332944</td><td>0</td><td>11.1084844088518</td><td>22.19964716950343</td><td>0.036075880507659225</td><td>0.09189178004656783</td><td>274170954</td><td>-30.137495729513</td><td>3</td><td>4489442</td><td>22.283540424734987</td><td>0.0</td><td>0.62382334</td><td>0.0487147</td><td>4489442</td><td>260</td></tr>\n",
       "<tr><td>21.780765070992793</td><td>0.04247881798582481</td><td>0.09365142164386281</td><td>23.684824167832343</td><td>1079332949</td><td>0</td><td>11.1144092584639</td><td>21.477580032425603</td><td>0.03998849357235144</td><td>0.0532258716331354</td><td>274170557</td><td>-30.1295371844793</td><td>3</td><td>4489446</td><td>22.2373961475386</td><td>0.0</td><td>0.4203061</td><td>0.04260918</td><td>4489446</td><td>260</td></tr>\n",
       "<tr><td>22.669866849518087</td><td>0.07484490708676939</td><td>0.06272986563163635</td><td>23.216000021894292</td><td>1079332954</td><td>0</td><td>11.0995897507073</td><td>22.356613709269574</td><td>0.049676865446099956</td><td>0.10277266351414041</td><td>274170591</td><td>-30.129778311718</td><td>3</td><td>4489448</td><td>22.631105077031286</td><td>0.0</td><td>0.37277186</td><td>0.041183155</td><td>4489448</td><td>260</td></tr>\n",
       "<tr><td>21.005859214365486</td><td>0.02152394024709112</td><td>0.02422572381297717</td><td>22.063978531995495</td><td>1079332959</td><td>0</td><td>11.1083897325945</td><td>20.91365237971402</td><td>0.02004748166077011</td><td>0.032249625017414435</td><td>274170114</td><td>-30.1216795412244</td><td>3</td><td>4489454</td><td>21.45673890687678</td><td>0.0</td><td>0.7134163</td><td>0.05140249</td><td>4489454</td><td>260</td></tr>\n",
       "<tr><td>22.994012416551275</td><td>0.11065202732765601</td><td>0.12404747123348658</td><td>24.151000669307077</td><td>1079332962</td><td>0</td><td>11.0799708791533</td><td>23.30269181377342</td><td>0.11831369660580983</td><td>0.2052967056439625</td><td>274170843</td><td>-30.1348487526052</td><td>3</td><td>4489457</td><td>23.874454336493077</td><td>0.0</td><td>0.9175857</td><td>0.05752757</td><td>4489457</td><td>260</td></tr>\n",
       "<tr><td>22.79370552129762</td><td>0.11193990712921645</td><td>0.10588103670131226</td><td>23.554647735679076</td><td>1079332963</td><td>0</td><td>11.0852563268874</td><td>22.318706268238575</td><td>0.10316967763664496</td><td>0.12997063953312413</td><td>274170766</td><td>-30.1333012231468</td><td>3</td><td>4489458</td><td>23.21223184663806</td><td>0.0</td><td>1.0780423</td><td>0.062341265</td><td>4489458</td><td>260</td></tr>\n",
       "<tr><td>22.925626364467984</td><td>0.09696059041901915</td><td>0.09764728253655597</td><td>23.765591716316617</td><td>1079332963</td><td>0</td><td>11.0854409698825</td><td>22.141712667908067</td><td>0.09253609865434453</td><td>0.09268262655012018</td><td>274170730</td><td>-30.1325296679095</td><td>3</td><td>4489459</td><td>23.442288325184485</td><td>0.0</td><td>1.211225</td><td>0.06633675</td><td>4489459</td><td>260</td></tr>\n",
       "<tr><td>...</td><td>...</td><td>...</td><td>...</td><td>...</td><td>...</td><td>...</td><td>...</td><td>...</td><td>...</td><td>...</td><td>...</td><td>...</td><td>...</td><td>...</td><td>...</td><td>...</td><td>...</td><td>...</td><td>...</td></tr>\n",
       "<tr><td>22.872385192415322</td><td>0.14073466203978863</td><td>0.3199568442526098</td><td>24.299783838729912</td><td>1103110406</td><td>0</td><td>11.1216412402804</td><td>22.682297846859118</td><td>0.13192667224060198</td><td>0.19246828051409862</td><td>272000226</td><td>-19.2645349860105</td><td>3</td><td>14054675</td><td>23.356314324072542</td><td>0.0</td><td>0.6807978</td><td>0.050423935</td><td>14054675</td><td>260</td></tr>\n",
       "<tr><td>22.055546714814096</td><td>0.060523730266291036</td><td>0.09091185635509412</td><td>23.249957066431563</td><td>1103110417</td><td>0</td><td>11.1316696754687</td><td>21.54116483440398</td><td>0.05027780126035002</td><td>0.06548117120264577</td><td>271999953</td><td>-19.2577622511958</td><td>3</td><td>14054682</td><td>22.373334574374798</td><td>0.0</td><td>0.7705503</td><td>0.053116508</td><td>14054682</td><td>260</td></tr>\n",
       "<tr><td>22.582714902816665</td><td>0.09521636341180176</td><td>0.07900184914735785</td><td>23.054818809800665</td><td>1103110419</td><td>0</td><td>11.1288159844033</td><td>22.283559804668435</td><td>0.08270306595264446</td><td>0.120518339033403</td><td>271999980</td><td>-19.2582565619832</td><td>3</td><td>14054683</td><td>22.965503443870414</td><td>0.0</td><td>1.1965551</td><td>0.06589665</td><td>14054683</td><td>260</td></tr>\n",
       "<tr><td>22.068828173277385</td><td>0.07535878504761867</td><td>0.35739639466200734</td><td>24.67713207165087</td><td>1103110419</td><td>0</td><td>11.1271718274759</td><td>21.939136166901694</td><td>0.0994007196478939</td><td>0.1053595191548068</td><td>271999892</td><td>-19.2562129054373</td><td>3</td><td>14054684</td><td>23.06367401926067</td><td>0.0</td><td>0.7350062</td><td>0.052050184</td><td>14054684</td><td>260</td></tr>\n",
       "<tr><td>20.77686260205768</td><td>0.03468906556588125</td><td>0.14252840622771185</td><td>23.558295211934578</td><td>1103110423</td><td>0</td><td>11.1340250681698</td><td>20.412651009699204</td><td>0.041238589623172964</td><td>0.03913442840682808</td><td>271999648</td><td>-19.2500962032135</td><td>3</td><td>14054686</td><td>21.794391958488774</td><td>0.0</td><td>0.68955815</td><td>0.050686743</td><td>14054686</td><td>260</td></tr>\n",
       "<tr><td>21.888351453112303</td><td>0.06682378874516456</td><td>0.07406426965554205</td><td>22.788276360093406</td><td>1103110464</td><td>0</td><td>11.1416983773295</td><td>21.93512299527485</td><td>0.05513554547273604</td><td>0.10995805295497041</td><td>271999728</td><td>-19.25206275551</td><td>3</td><td>14054715</td><td>22.155582357250335</td><td>0.0</td><td>0.5881107</td><td>0.04764332</td><td>14054715</td><td>260</td></tr>\n",
       "<tr><td>22.47503751746778</td><td>0.08498856887206868</td><td>0.27042886843169694</td><td>24.530112149325785</td><td>1103110464</td><td>0</td><td>11.1390093189007</td><td>22.18498698089181</td><td>0.1153573794078816</td><td>0.10771012233540783</td><td>271999749</td><td>-19.2525072377672</td><td>2</td><td>14054716</td><td>23.456002762537075</td><td>0.0</td><td>0.8293992</td><td>0.054881975</td><td>14054716</td><td>260</td></tr>\n",
       "<tr><td>22.257127534701368</td><td>0.07880242278684899</td><td>0.9321732652059438</td><td>25.80137227496408</td><td>1103110465</td><td>0</td><td>11.1433279559385</td><td>21.278698344694895</td><td>0.1372089718740432</td><td>0.06606010628199825</td><td>271999523</td><td>-19.2471183017981</td><td>3</td><td>14054717</td><td>23.552731974924843</td><td>0.0</td><td>1.0498216</td><td>0.06149465</td><td>14054717</td><td>260</td></tr>\n",
       "<tr><td>18.38362341929628</td><td>0.004807412108919609</td><td>0.004860220309900036</td><td>19.212503569017645</td><td>1103110468</td><td>0</td><td>11.1458563967311</td><td>18.2622472378917</td><td>0.004054302708466801</td><td>0.006979478458471952</td><td>271999433</td><td>-19.2479571596945</td><td>3</td><td>14054721</td><td>18.66613316190894</td><td>0.0</td><td>0.14608715</td><td>0.034382615</td><td>14054721</td><td>260</td></tr>\n",
       "<tr><td>21.428674612141613</td><td>0.0527787127682418</td><td>0.058384286686431745</td><td>22.369304747427073</td><td>1103110469</td><td>0</td><td>11.1500903926125</td><td>21.265918414308214</td><td>0.057936565860686386</td><td>0.07333110370908882</td><td>271999370</td><td>-19.2433928684745</td><td>3</td><td>14054722</td><td>22.165590961316376</td><td>0.0</td><td>0.98214966</td><td>0.05946449</td><td>14054722</td><td>260</td></tr>\n",
       "</table>"
      ],
      "text/plain": [
       "<Table length=2259858>\n",
       "sof_cm_mag_corrected_i   sof_cm_mag_err_i   ...  index    tile\n",
       "       float64               float64        ...  int64   int64\n",
       "---------------------- -------------------- ... -------- -----\n",
       "     21.60564193805693 0.055921232332650936 ...  4489429   260\n",
       "     22.96126914410424  0.17255014657281287 ...  4489438   260\n",
       "    21.837376685401747  0.03840718774464921 ...  4489439   260\n",
       "    21.930223594696987 0.042899779197968786 ...  4489442   260\n",
       "    21.780765070992793  0.04247881798582481 ...  4489446   260\n",
       "    22.669866849518087  0.07484490708676939 ...  4489448   260\n",
       "    21.005859214365486  0.02152394024709112 ...  4489454   260\n",
       "    22.994012416551275  0.11065202732765601 ...  4489457   260\n",
       "     22.79370552129762  0.11193990712921645 ...  4489458   260\n",
       "    22.925626364467984  0.09696059041901915 ...  4489459   260\n",
       "                   ...                  ... ...      ...   ...\n",
       "    22.872385192415322  0.14073466203978863 ... 14054675   260\n",
       "    22.055546714814096 0.060523730266291036 ... 14054682   260\n",
       "    22.582714902816665  0.09521636341180176 ... 14054683   260\n",
       "    22.068828173277385  0.07535878504761867 ... 14054684   260\n",
       "     20.77686260205768  0.03468906556588125 ... 14054686   260\n",
       "    21.888351453112303  0.06682378874516456 ... 14054715   260\n",
       "     22.47503751746778  0.08498856887206868 ... 14054716   260\n",
       "    22.257127534701368  0.07880242278684899 ... 14054717   260\n",
       "     18.38362341929628 0.004807412108919609 ... 14054721   260\n",
       "    21.428674612141613   0.0527787127682418 ... 14054722   260"
      ]
     },
     "execution_count": 53,
     "metadata": {},
     "output_type": "execute_result"
    }
   ],
   "source": [
    "gi"
   ]
  },
  {
   "cell_type": "code",
   "execution_count": null,
   "metadata": {},
   "outputs": [],
   "source": []
  },
  {
   "cell_type": "code",
   "execution_count": null,
   "metadata": {},
   "outputs": [],
   "source": []
  },
  {
   "cell_type": "code",
   "execution_count": 19,
   "metadata": {},
   "outputs": [],
   "source": [
    "outdir = '/data/des61.a/data/johnny/DESY3/data/cutouts/'\n",
    "outfile_base = outdir+'y3_gold_2.2.1_wide_sofcol_run_redmapper_v6.4.22_wv1.2_subsampled_hpx8_{:05d}.hdf5'"
   ]
  },
  {
   "cell_type": "code",
   "execution_count": 20,
   "metadata": {},
   "outputs": [],
   "source": [
    "path  = '/data/des61.a/data/johnny/DESY3/data/photoz/dnf_gold_2_2/'\n",
    "fnamed= path+'y3_gold_2_2.1_dnf_subsampled_jesteves.h5'"
   ]
  },
  {
   "cell_type": "code",
   "execution_count": 66,
   "metadata": {},
   "outputs": [],
   "source": [
    "indexes= h5py.File(fnamed,'r')\n",
    "dnf    = indexes['catalog']\n",
    "\n",
    "d_cid  = dnf['coadd_object_id'][:][:]\n",
    "d_z    = dnf[u'DNF_ZMEAN_SOF'][:][:]\n",
    "d_zerr = dnf[u'DNF_ZSIGMA_SOF'][:][:]\n",
    "d_indices = dnf[u'indices'][:][:]"
   ]
  },
  {
   "cell_type": "code",
   "execution_count": 67,
   "metadata": {},
   "outputs": [],
   "source": [
    "indexes.close()"
   ]
  },
  {
   "cell_type": "code",
   "execution_count": 68,
   "metadata": {},
   "outputs": [
    {
     "name": "stdout",
     "output_type": "stream",
     "text": [
      "/data/des61.a/data/johnny/DESY3/data/cutouts/y3_gold_2.2.1_wide_sofcol_run_redmapper_v6.4.22_wv1.2_subsampled_hpx8_00000.hdf5\n",
      "1.0\n",
      "/data/des61.a/data/johnny/DESY3/data/cutouts/y3_gold_2.2.1_wide_sofcol_run_redmapper_v6.4.22_wv1.2_subsampled_hpx8_00002.hdf5\n",
      "1.0\n",
      "/data/des61.a/data/johnny/DESY3/data/cutouts/y3_gold_2.2.1_wide_sofcol_run_redmapper_v6.4.22_wv1.2_subsampled_hpx8_00256.hdf5\n",
      "1.0\n",
      "/data/des61.a/data/johnny/DESY3/data/cutouts/y3_gold_2.2.1_wide_sofcol_run_redmapper_v6.4.22_wv1.2_subsampled_hpx8_00257.hdf5\n",
      "1.0\n",
      "/data/des61.a/data/johnny/DESY3/data/cutouts/y3_gold_2.2.1_wide_sofcol_run_redmapper_v6.4.22_wv1.2_subsampled_hpx8_00259.hdf5\n",
      "1.0\n",
      "/data/des61.a/data/johnny/DESY3/data/cutouts/y3_gold_2.2.1_wide_sofcol_run_redmapper_v6.4.22_wv1.2_subsampled_hpx8_00260.hdf5\n",
      "1.0\n",
      "/data/des61.a/data/johnny/DESY3/data/cutouts/y3_gold_2.2.1_wide_sofcol_run_redmapper_v6.4.22_wv1.2_subsampled_hpx8_00261.hdf5\n",
      "1.0\n",
      "/data/des61.a/data/johnny/DESY3/data/cutouts/y3_gold_2.2.1_wide_sofcol_run_redmapper_v6.4.22_wv1.2_subsampled_hpx8_00262.hdf5\n",
      "1.0\n",
      "/data/des61.a/data/johnny/DESY3/data/cutouts/y3_gold_2.2.1_wide_sofcol_run_redmapper_v6.4.22_wv1.2_subsampled_hpx8_00263.hdf5\n",
      "1.0\n",
      "/data/des61.a/data/johnny/DESY3/data/cutouts/y3_gold_2.2.1_wide_sofcol_run_redmapper_v6.4.22_wv1.2_subsampled_hpx8_00269.hdf5\n",
      "1.0\n",
      "/data/des61.a/data/johnny/DESY3/data/cutouts/y3_gold_2.2.1_wide_sofcol_run_redmapper_v6.4.22_wv1.2_subsampled_hpx8_00271.hdf5\n",
      "1.0\n",
      "/data/des61.a/data/johnny/DESY3/data/cutouts/y3_gold_2.2.1_wide_sofcol_run_redmapper_v6.4.22_wv1.2_subsampled_hpx8_00272.hdf5\n",
      "1.0\n",
      "/data/des61.a/data/johnny/DESY3/data/cutouts/y3_gold_2.2.1_wide_sofcol_run_redmapper_v6.4.22_wv1.2_subsampled_hpx8_00273.hdf5\n",
      "1.0\n",
      "/data/des61.a/data/johnny/DESY3/data/cutouts/y3_gold_2.2.1_wide_sofcol_run_redmapper_v6.4.22_wv1.2_subsampled_hpx8_00274.hdf5\n",
      "1.0\n",
      "/data/des61.a/data/johnny/DESY3/data/cutouts/y3_gold_2.2.1_wide_sofcol_run_redmapper_v6.4.22_wv1.2_subsampled_hpx8_00275.hdf5\n",
      "1.0\n",
      "/data/des61.a/data/johnny/DESY3/data/cutouts/y3_gold_2.2.1_wide_sofcol_run_redmapper_v6.4.22_wv1.2_subsampled_hpx8_00276.hdf5\n",
      "1.0\n",
      "/data/des61.a/data/johnny/DESY3/data/cutouts/y3_gold_2.2.1_wide_sofcol_run_redmapper_v6.4.22_wv1.2_subsampled_hpx8_00277.hdf5\n",
      "1.0\n",
      "/data/des61.a/data/johnny/DESY3/data/cutouts/y3_gold_2.2.1_wide_sofcol_run_redmapper_v6.4.22_wv1.2_subsampled_hpx8_00278.hdf5\n",
      "1.0\n",
      "/data/des61.a/data/johnny/DESY3/data/cutouts/y3_gold_2.2.1_wide_sofcol_run_redmapper_v6.4.22_wv1.2_subsampled_hpx8_00279.hdf5\n",
      "1.0\n"
     ]
    }
   ],
   "source": [
    "for hi in tiles:\n",
    "    outfile = outfile_base.format(hi)\n",
    "    print(outfile)\n",
    "    gi = upload_dataFrame(outfile,keys='members')\n",
    "    ci = upload_dataFrame(outfile,keys='cluster')\n",
    "\n",
    "    #cid = np.array(gi['coadd_object_id'])\n",
    "    idx = np.array(gi['index'])\n",
    "    match = esutil.numpy_util.match(idx,d_indices)\n",
    "\n",
    "    gi['z_mean_dnf'][match[0]] = d_z[match[1]]\n",
    "    gi['z_sigma_dnf'][match[0]] = d_zerr[match[1]]\n",
    "    \n",
    "    fdnf = float(1.*match[0].size/len(gi))\n",
    "    ci['fraction_dnf'] = fdnf\n",
    "    print(fdnf)\n",
    "    save_hdf5_output(gi,ci,outfile)"
   ]
  },
  {
   "cell_type": "code",
   "execution_count": null,
   "metadata": {},
   "outputs": [],
   "source": []
  },
  {
   "cell_type": "code",
   "execution_count": 107,
   "metadata": {},
   "outputs": [],
   "source": [
    "hi = 273"
   ]
  },
  {
   "cell_type": "code",
   "execution_count": 108,
   "metadata": {},
   "outputs": [
    {
     "name": "stdout",
     "output_type": "stream",
     "text": [
      "/data/des61.a/data/johnny/DESY3/data/cutouts/y3_gold_2.2.1_wide_sofcol_run_redmapper_v6.4.22_wv1.2_subsampled_hpx8_00273.hdf5\n"
     ]
    }
   ],
   "source": [
    "outfile = outfile_base.format(hi)\n",
    "print(outfile)\n",
    "gi = upload_dataFrame(outfile,keys='members')\n",
    "ci = upload_dataFrame(outfile,keys='cluster')"
   ]
  },
  {
   "cell_type": "code",
   "execution_count": 109,
   "metadata": {},
   "outputs": [],
   "source": [
    "path = '/data/des61.a/data/johnny/emulatorPhotoZ/training_sample/'\n",
    "infile = path+'spec_y3_gold_2_2_27JUN19_photoz.fits'\n",
    "\n",
    "data = Table(getdata(infile))"
   ]
  },
  {
   "cell_type": "code",
   "execution_count": 110,
   "metadata": {},
   "outputs": [
    {
     "data": {
      "text/html": [
       "&lt;Table length=244634&gt;\n",
       "<table id=\"table140160597431120\" class=\"table-striped table-bordered table-condensed\">\n",
       "<thead><tr><th>COADD_OBJECT_ID</th><th>COADD_OBJECTS_ID</th><th>FLAGS_FOOTPRINT</th><th>FLAGS_BADREGIONS</th><th>FLAGS_FOREGROUND</th><th>FLAGS_GOLD</th><th>EXTENDED_CLASS_MASH_MOF</th><th>EXTENDED_CLASS_MOF</th><th>EXTENDED_CLASS_MASH_SOF</th><th>EXTENDED_CLASS_SOF</th><th>EXTENDED_CLASS_WAVG</th><th>EXTENDED_CLASS_COADD</th><th>FLAGS_I</th><th>FLAGS_G</th><th>FLAGS_R</th><th>FLAGS_Z</th><th>FLAGS_Y</th><th>MAGERR_AUTO_G</th><th>MAGERR_AUTO_R</th><th>MAGERR_AUTO_I</th><th>MAGERR_AUTO_Z</th><th>MAGERR_AUTO_Y</th><th>FLUX_AUTO_G</th><th>FLUX_AUTO_R</th><th>FLUX_AUTO_I</th><th>FLUX_AUTO_Z</th><th>FLUX_AUTO_Y</th><th>FLUXERR_AUTO_G</th><th>FLUXERR_AUTO_R</th><th>FLUXERR_AUTO_I</th><th>FLUXERR_AUTO_Z</th><th>FLUXERR_AUTO_Y</th><th>MOF_CM_MAG_CORRECTED_G</th><th>MOF_CM_MAG_CORRECTED_R</th><th>MOF_CM_MAG_CORRECTED_I</th><th>MOF_CM_MAG_CORRECTED_Z</th><th>MOF_CM_MAG_ERR_G</th><th>MOF_CM_MAG_ERR_R</th><th>MOF_CM_MAG_ERR_I</th><th>MOF_CM_MAG_ERR_Z</th><th>SOF_CM_MAG_CORRECTED_G</th><th>SOF_CM_MAG_CORRECTED_R</th><th>SOF_CM_MAG_CORRECTED_I</th><th>SOF_CM_MAG_CORRECTED_Z</th><th>SOF_CM_MAG_ERR_G</th><th>SOF_CM_MAG_ERR_R</th><th>SOF_CM_MAG_ERR_I</th><th>SOF_CM_MAG_ERR_Z</th><th>MAG_AUTO_G</th><th>MAG_AUTO_R</th><th>MAG_AUTO_I</th><th>MAG_AUTO_Z</th><th>MAG_AUTO_Y</th><th>MATCH_OBJID</th><th>IDSPEC</th><th>RA</th><th>DEC</th><th>Z</th><th>ERR_Z</th><th>FLAG</th><th>SOURCE</th><th>FLAG_DES</th><th>ID</th><th>BPZ_ZMEAN_SOF</th><th>BPZ_ZSIGMA_SOF</th><th>DNF_ZMEAN_MOF</th><th>DNF_ZSIGMA_MOF</th></tr></thead>\n",
       "<thead><tr><th>int64</th><th>int64</th><th>int64</th><th>int64</th><th>int64</th><th>int64</th><th>int64</th><th>int64</th><th>int64</th><th>int64</th><th>int64</th><th>int64</th><th>int64</th><th>int64</th><th>int64</th><th>int64</th><th>int64</th><th>float32</th><th>float32</th><th>float32</th><th>float32</th><th>float32</th><th>float32</th><th>float32</th><th>float32</th><th>float32</th><th>float32</th><th>float32</th><th>float32</th><th>float32</th><th>float32</th><th>float32</th><th>float64</th><th>float64</th><th>float64</th><th>float64</th><th>float64</th><th>float64</th><th>float64</th><th>float64</th><th>float64</th><th>float64</th><th>float64</th><th>float64</th><th>float64</th><th>float64</th><th>float64</th><th>float64</th><th>float32</th><th>float32</th><th>float32</th><th>float32</th><th>float32</th><th>int64</th><th>int64</th><th>float64</th><th>float64</th><th>float64</th><th>float64</th><th>float32</th><th>str50</th><th>int64</th><th>int64</th><th>float64</th><th>float64</th><th>float64</th><th>float64</th></tr></thead>\n",
       "<tr><td>62372066</td><td>62372066</td><td>1</td><td>0</td><td>0</td><td>0</td><td>3</td><td>3</td><td>3</td><td>3</td><td>3</td><td>3</td><td>0</td><td>0</td><td>0</td><td>0</td><td>0</td><td>0.0511285</td><td>0.013484</td><td>0.00881566</td><td>0.0142597</td><td>0.0336287</td><td>1295.55</td><td>6871.18</td><td>14795.6</td><td>20519.0</td><td>23677.1</td><td>60.9942</td><td>85.314</td><td>120.104</td><td>269.424</td><td>733.178</td><td>21.9515813814132</td><td>20.2433368204687</td><td>19.4229012995207</td><td>19.03368818552</td><td>0.0305699950874225</td><td>0.0106873512285065</td><td>0.00946511788079101</td><td>0.0108153146147232</td><td>21.9463771171954</td><td>20.239859532737</td><td>19.4194772845913</td><td>19.030282373333</td><td>0.027333136565468</td><td>0.00963935871175117</td><td>0.00857579199570988</td><td>0.00978257110633512</td><td>22.2189</td><td>20.4074</td><td>19.5747</td><td>19.2196</td><td>19.0642</td><td>825510</td><td>9999</td><td>29.476155</td><td>-5.3438167</td><td>0.58681</td><td>0.00023717</td><td>0.0</td><td>SDSS_DR14</td><td>4</td><td>825510</td><td>0.56848352</td><td>0.01407625</td><td>0.55712354</td><td>0.02814563</td></tr>\n",
       "<tr><td>62569538</td><td>62569538</td><td>1</td><td>0</td><td>0</td><td>0</td><td>3</td><td>3</td><td>3</td><td>3</td><td>3</td><td>3</td><td>0</td><td>0</td><td>0</td><td>0</td><td>0</td><td>0.0563038</td><td>0.0164122</td><td>0.0150624</td><td>0.0185799</td><td>0.0701458</td><td>896.641</td><td>4508.86</td><td>9100.73</td><td>12478.3</td><td>12538.1</td><td>46.4864</td><td>68.1403</td><td>126.224</td><td>213.485</td><td>809.848</td><td>22.5056260406505</td><td>20.7753961809966</td><td>20.010517362814</td><td>19.6713402288008</td><td>0.0391528596780042</td><td>0.0137108070808521</td><td>0.0136979528084831</td><td>0.0145284809764715</td><td>22.505889805617</td><td>20.7754234787355</td><td>20.0105533362169</td><td>19.6713875046086</td><td>0.0391367647607087</td><td>0.0136985868658202</td><td>0.0136875079942719</td><td>0.0145170678458223</td><td>22.6185</td><td>20.8648</td><td>20.1023</td><td>19.7596</td><td>19.7544</td><td>830163</td><td>9999</td><td>30.098937</td><td>-0.43286461</td><td>0.568015</td><td>0.000109612</td><td>0.0</td><td>SDSS_DR14</td><td>4</td><td>830163</td><td>0.53346177</td><td>0.01744571</td><td>0.55292314</td><td>0.04202146</td></tr>\n",
       "<tr><td>62577371</td><td>62577371</td><td>1</td><td>0</td><td>0</td><td>0</td><td>3</td><td>3</td><td>3</td><td>3</td><td>3</td><td>3</td><td>0</td><td>0</td><td>0</td><td>0</td><td>0</td><td>0.0212206</td><td>0.00616317</td><td>0.00625955</td><td>0.00895373</td><td>0.0276039</td><td>4707.39</td><td>22554.0</td><td>38004.9</td><td>49466.4</td><td>54568.5</td><td>91.9833</td><td>127.997</td><td>219.054</td><td>407.835</td><td>1387.02</td><td>20.6557732934263</td><td>18.9583023779327</td><td>18.3933728088455</td><td>18.1045588844595</td><td>0.0120750184546064</td><td>0.00545323167630796</td><td>0.00547327252416999</td><td>0.00620119071419253</td><td>20.6548942769617</td><td>18.9574820673769</td><td>18.39251166776</td><td>18.1036224855179</td><td>0.0113511220461796</td><td>0.0051427123402572</td><td>0.00516363833812143</td><td>0.00584209559895628</td><td>20.8181</td><td>19.1169</td><td>18.5504</td><td>18.2642</td><td>18.1576</td><td>830147</td><td>9999</td><td>30.131996</td><td>-0.58094474</td><td>0.372422</td><td>6.48815e-05</td><td>0.0</td><td>SDSS_DR14</td><td>4</td><td>830147</td><td>0.39167147</td><td>0.01606184</td><td>0.36518827</td><td>0.00726061</td></tr>\n",
       "<tr><td>62584109</td><td>62584109</td><td>1</td><td>0</td><td>0</td><td>0</td><td>3</td><td>3</td><td>3</td><td>3</td><td>3</td><td>3</td><td>0</td><td>0</td><td>0</td><td>0</td><td>0</td><td>0.00631099</td><td>0.00387512</td><td>0.0048129</td><td>0.00512487</td><td>0.0159648</td><td>11128.3</td><td>33071.5</td><td>47855.5</td><td>62942.5</td><td>69506.8</td><td>64.6688</td><td>118.007</td><td>212.085</td><td>297.028</td><td>1021.79</td><td>19.71652501456</td><td>18.5766897961885</td><td>18.1796366080346</td><td>17.8943359561545</td><td>0.00384996690331045</td><td>0.00287881652706523</td><td>0.00320825144826517</td><td>0.00336444918827225</td><td>19.716647343598</td><td>18.5768536105797</td><td>18.1799472582064</td><td>17.894101537715</td><td>0.0038469729114999</td><td>0.00287541146492506</td><td>0.00320510669337665</td><td>0.00336108479611587</td><td>19.8839</td><td>18.7014</td><td>18.3002</td><td>18.0026</td><td>17.8949</td><td>830021</td><td>9999</td><td>29.608638</td><td>-0.70565999</td><td>0.186937</td><td>3.22225e-05</td><td>0.0</td><td>SDSS_DR14</td><td>4</td><td>830021</td><td>0.3068862</td><td>0.09455663</td><td>0.18715866</td><td>0.00631647</td></tr>\n",
       "<tr><td>62584462</td><td>62584462</td><td>1</td><td>0</td><td>0</td><td>0</td><td>3</td><td>3</td><td>3</td><td>3</td><td>3</td><td>3</td><td>0</td><td>0</td><td>0</td><td>0</td><td>0</td><td>0.0252254</td><td>0.0271939</td><td>0.0417504</td><td>0.0858402</td><td>0.235884</td><td>2667.61</td><td>3784.47</td><td>3918.36</td><td>3756.25</td><td>4538.0</td><td>61.9627</td><td>94.7649</td><td>150.638</td><td>296.903</td><td>985.674</td><td>21.2996969008606</td><td>21.0058274396768</td><td>20.9200233694257</td><td>21.0553911043663</td><td>0.0196169691723477</td><td>0.0204820613478599</td><td>0.0277397181860972</td><td>0.0513432129075343</td><td>21.2999280316205</td><td>21.0061657979773</td><td>20.9201689120454</td><td>21.0556367429185</td><td>0.0191489500068667</td><td>0.019991271897334</td><td>0.0270790797734383</td><td>0.0501173050342643</td><td>21.4347</td><td>21.055</td><td>21.0172</td><td>21.0631</td><td>20.8578</td><td>830144</td><td>9999</td><td>30.126011</td><td>-0.71056477</td><td>0.227092</td><td>1.3469e-05</td><td>0.0</td><td>SDSS_DR14</td><td>4</td><td>830144</td><td>0.13558155</td><td>0.17754896</td><td>0.24259344</td><td>0.09236167</td></tr>\n",
       "<tr><td>62593390</td><td>62593390</td><td>1</td><td>0</td><td>0</td><td>0</td><td>3</td><td>3</td><td>3</td><td>3</td><td>3</td><td>3</td><td>0</td><td>0</td><td>0</td><td>0</td><td>0</td><td>0.0259403</td><td>0.00656986</td><td>0.00630477</td><td>0.00850338</td><td>0.0289295</td><td>3090.79</td><td>16360.5</td><td>27993.1</td><td>37434.8</td><td>41126.8</td><td>73.8269</td><td>98.9745</td><td>162.513</td><td>293.115</td><td>1095.56</td><td>21.1567413219468</td><td>19.3613806479344</td><td>18.7728339454173</td><td>18.4670124430299</td><td>0.0151931862958224</td><td>0.00536257727042069</td><td>0.00529474348179827</td><td>0.00597560508599745</td><td>21.1562101003236</td><td>19.3612065372152</td><td>18.7727219759798</td><td>18.4667545474084</td><td>0.0143442702667668</td><td>0.00507745231302767</td><td>0.00501109590877591</td><td>0.00565085968561512</td><td>21.2748</td><td>19.4655</td><td>18.8824</td><td>18.5668</td><td>18.4647</td><td>829982</td><td>9999</td><td>30.277228</td><td>-0.88761022</td><td>0.36853</td><td>6.96808e-05</td><td>0.0</td><td>SDSS_DR14</td><td>4</td><td>829982</td><td>0.43874746</td><td>0.01507161</td><td>0.36853001</td><td>0.001</td></tr>\n",
       "<tr><td>62663096</td><td>62663096</td><td>1</td><td>0</td><td>0</td><td>0</td><td>3</td><td>3</td><td>3</td><td>3</td><td>3</td><td>3</td><td>0</td><td>0</td><td>0</td><td>0</td><td>0</td><td>0.00710074</td><td>0.00520888</td><td>0.00745288</td><td>0.0090646</td><td>0.0328938</td><td>19758.2</td><td>32336.9</td><td>40915.3</td><td>46193.6</td><td>50615.1</td><td>129.187</td><td>155.1</td><td>280.789</td><td>385.567</td><td>1533.08</td><td>19.1597071037085</td><td>18.6209881664076</td><td>18.3627217612813</td><td>18.2427282305172</td><td>0.00512328835983986</td><td>0.00416218683135891</td><td>0.00517530505158456</td><td>0.00611175749302864</td><td>19.1578639325681</td><td>18.6192244984845</td><td>18.3610594262042</td><td>18.2409674527422</td><td>0.00401298424991011</td><td>0.00326305636921246</td><td>0.00405616725973169</td><td>0.00478543690868858</td><td>19.2606</td><td>18.7258</td><td>18.4703</td><td>18.3385</td><td>18.2393</td><td>100535</td><td>9999</td><td>29.4941250006</td><td>-29.2877777778</td><td>0.1103</td><td>99.0</td><td>3.0</td><td>2DF</td><td>3</td><td>100535</td><td>0.13535497</td><td>0.04156343</td><td>0.1103</td><td>0.001</td></tr>\n",
       "<tr><td>62668348</td><td>62668348</td><td>1</td><td>0</td><td>0</td><td>0</td><td>3</td><td>3</td><td>3</td><td>3</td><td>3</td><td>3</td><td>0</td><td>0</td><td>0</td><td>0</td><td>0</td><td>0.00433839</td><td>0.00242239</td><td>0.00350153</td><td>0.00410745</td><td>0.0149246</td><td>23978.8</td><td>56614.4</td><td>78305.6</td><td>99911.3</td><td>109088.0</td><td>95.7912</td><td>126.282</td><td>252.476</td><td>377.883</td><td>1499.16</td><td>18.8940489644959</td><td>17.9967286301971</td><td>17.649651370253</td><td>17.3929392907443</td><td>0.00274478890482037</td><td>0.00216863286836533</td><td>0.00250128639091402</td><td>0.00269757532341791</td><td>18.8924678186153</td><td>17.9950769337068</td><td>17.6479066513381</td><td>17.3912290568242</td><td>0.00258616437541579</td><td>0.00204724850288305</td><td>0.00235970371342451</td><td>0.00254283389446424</td><td>19.0504</td><td>18.1177</td><td>17.7655</td><td>17.501</td><td>17.4056</td><td>1216913</td><td>9999</td><td>29.755082</td><td>-29.394088</td><td>0.13446</td><td>99.0</td><td>4.0</td><td>2dFLenS</td><td>4</td><td>1216913</td><td>0.1913731</td><td>0.06968699</td><td>0.1117707</td><td>0.008235</td></tr>\n",
       "<tr><td>62674301</td><td>62674301</td><td>1</td><td>0</td><td>0</td><td>0</td><td>3</td><td>3</td><td>3</td><td>3</td><td>3</td><td>3</td><td>0</td><td>0</td><td>0</td><td>0</td><td>0</td><td>0.0639137</td><td>0.0135347</td><td>0.0109028</td><td>0.00879749</td><td>0.0296953</td><td>1368.54</td><td>7521.31</td><td>16955.8</td><td>25254.2</td><td>28064.1</td><td>80.5416</td><td>93.7371</td><td>170.226</td><td>204.58</td><td>767.377</td><td>22.0229094133106</td><td>20.1314036077</td><td>19.2618712635181</td><td>18.8420865780796</td><td>0.0350180760828758</td><td>0.00998570375777058</td><td>0.00936436207823741</td><td>0.00874099384182269</td><td>22.0252454399361</td><td>20.133963411025</td><td>19.2646108293679</td><td>18.8445942450094</td><td>0.0281395845737619</td><td>0.00808712041699134</td><td>0.00760062593544453</td><td>0.00710835968104325</td><td>22.1594</td><td>20.3093</td><td>19.4267</td><td>18.9942</td><td>18.8796</td><td>1216909</td><td>9999</td><td>29.595992</td><td>-29.504522</td><td>0.55444</td><td>99.0</td><td>3.0</td><td>2dFLenS</td><td>3</td><td>1216909</td><td>0.59750986</td><td>0.00931262</td><td>0.55444002</td><td>0.001</td></tr>\n",
       "<tr><td>62677810</td><td>62677810</td><td>1</td><td>0</td><td>0</td><td>0</td><td>3</td><td>3</td><td>3</td><td>3</td><td>3</td><td>3</td><td>0</td><td>0</td><td>0</td><td>0</td><td>0</td><td>0.0066153</td><td>0.00225028</td><td>0.0027756</td><td>0.0029565</td><td>0.0112591</td><td>18808.9</td><td>61653.5</td><td>93872.3</td><td>125657.0</td><td>136415.0</td><td>114.573</td><td>127.751</td><td>239.919</td><td>342.087</td><td>1414.29</td><td>19.188429354863</td><td>17.8660923895988</td><td>17.4112413121924</td><td>17.0984009505233</td><td>0.00357433213426368</td><td>0.00186753841137017</td><td>0.00205412334035793</td><td>0.00219857085028269</td><td>19.1875652505055</td><td>17.8652541904521</td><td>17.4104335225929</td><td>17.0975361332703</td><td>0.00334900945873842</td><td>0.00175710908375007</td><td>0.00193032191926529</td><td>0.00206517916831172</td><td>19.3141</td><td>18.0251</td><td>17.5687</td><td>17.252</td><td>17.1628</td><td>1216910</td><td>9999</td><td>29.85138</td><td>-29.575848</td><td>0.2244</td><td>99.0</td><td>4.0</td><td>2dFLenS</td><td>4</td><td>1216910</td><td>0.30312439</td><td>0.03739686</td><td>0.22023343</td><td>0.00433877</td></tr>\n",
       "<tr><td>...</td><td>...</td><td>...</td><td>...</td><td>...</td><td>...</td><td>...</td><td>...</td><td>...</td><td>...</td><td>...</td><td>...</td><td>...</td><td>...</td><td>...</td><td>...</td><td>...</td><td>...</td><td>...</td><td>...</td><td>...</td><td>...</td><td>...</td><td>...</td><td>...</td><td>...</td><td>...</td><td>...</td><td>...</td><td>...</td><td>...</td><td>...</td><td>...</td><td>...</td><td>...</td><td>...</td><td>...</td><td>...</td><td>...</td><td>...</td><td>...</td><td>...</td><td>...</td><td>...</td><td>...</td><td>...</td><td>...</td><td>...</td><td>...</td><td>...</td><td>...</td><td>...</td><td>...</td><td>...</td><td>...</td><td>...</td><td>...</td><td>...</td><td>...</td><td>...</td><td>...</td><td>...</td><td>...</td><td>...</td><td>...</td><td>...</td><td>...</td></tr>\n",
       "<tr><td>617836181</td><td>617836181</td><td>1</td><td>0</td><td>0</td><td>0</td><td>3</td><td>3</td><td>3</td><td>3</td><td>3</td><td>3</td><td>0</td><td>0</td><td>0</td><td>0</td><td>0</td><td>0.196623</td><td>0.123373</td><td>0.107707</td><td>0.155846</td><td>1.63901</td><td>696.695</td><td>1038.38</td><td>2179.56</td><td>2590.61</td><td>1849.8</td><td>126.138</td><td>117.963</td><td>216.164</td><td>371.763</td><td>2791.74</td><td>22.6889047770513</td><td>22.1825925373702</td><td>21.5931100151771</td><td>21.3035362370967</td><td>0.106436963432472</td><td>0.0630524546740445</td><td>0.065193470485137</td><td>0.0757486340895732</td><td>22.6892858783782</td><td>22.1826297828104</td><td>21.5934675645814</td><td>21.3036397490823</td><td>0.106693940878787</td><td>0.0632169475099511</td><td>0.065365585289923</td><td>0.0759663030222112</td><td>22.8924</td><td>22.4591</td><td>21.6541</td><td>21.4665</td><td>21.8322</td><td>908800</td><td>9999</td><td>359.42056</td><td>0.576949</td><td>0.879905</td><td>9.84337e-05</td><td>0.0</td><td>SDSS_DR14</td><td>4</td><td>908800</td><td>0.88023513</td><td>0.12068929</td><td>0.87990499</td><td>0.001</td></tr>\n",
       "<tr><td>617836400</td><td>617836400</td><td>1</td><td>0</td><td>0</td><td>0</td><td>3</td><td>3</td><td>3</td><td>3</td><td>2</td><td>3</td><td>0</td><td>0</td><td>0</td><td>0</td><td>0</td><td>0.0927587</td><td>0.0569409</td><td>0.0773058</td><td>0.0998988</td><td>0.359467</td><td>893.38</td><td>1351.97</td><td>1828.25</td><td>2420.62</td><td>5044.44</td><td>76.3064</td><td>70.8863</td><td>130.142</td><td>222.668</td><td>1669.71</td><td>22.3488196354197</td><td>22.0815817330587</td><td>21.8002195487309</td><td>21.5155354122276</td><td>0.0512690646194945</td><td>0.0322701692897095</td><td>0.0433518436856151</td><td>0.0453093786081581</td><td>22.3481968307087</td><td>22.0806976974176</td><td>21.8005009752164</td><td>21.5149060497244</td><td>0.0494420183477756</td><td>0.0310925481638647</td><td>0.0418433878536773</td><td>0.0436324197460638</td><td>22.6224</td><td>22.1726</td><td>21.8449</td><td>21.5402</td><td>20.743</td><td>908804</td><td>9999</td><td>359.45814</td><td>0.57224181</td><td>1.17783</td><td>8.00176e-05</td><td>0.0</td><td>SDSS_DR14</td><td>4</td><td>908804</td><td>1.17269544</td><td>0.21173162</td><td>0.90619946</td><td>0.17692725</td></tr>\n",
       "<tr><td>617836645</td><td>617836645</td><td>1</td><td>0</td><td>0</td><td>0</td><td>3</td><td>3</td><td>3</td><td>3</td><td>3</td><td>3</td><td>0</td><td>0</td><td>0</td><td>0</td><td>0</td><td>0.111672</td><td>0.0695377</td><td>0.0969188</td><td>0.121215</td><td>1.40513</td><td>731.685</td><td>1111.28</td><td>1624.14</td><td>2575.07</td><td>1325.26</td><td>75.2385</td><td>71.1564</td><td>144.944</td><td>287.418</td><td>1714.69</td><td>22.5507933446419</td><td>22.1830205808171</td><td>21.7967996427479</td><td>21.4239274337221</td><td>0.0622586864015158</td><td>0.0483184969956189</td><td>0.0631591307553452</td><td>0.0680553431383994</td><td>22.5506388050561</td><td>22.1877011604649</td><td>21.7962972989267</td><td>21.430159070561</td><td>0.0560591238527812</td><td>0.0438264183807673</td><td>0.0568498105658342</td><td>0.0611521936128109</td><td>22.8392</td><td>22.3854</td><td>21.9734</td><td>21.473</td><td>22.1942</td><td>908799</td><td>9999</td><td>359.34242</td><td>0.56732392</td><td>1.14273</td><td>0.000113144</td><td>0.0</td><td>SDSS_DR14</td><td>4</td><td>908799</td><td>0.94894756</td><td>0.17862615</td><td>1.14273</td><td>0.001</td></tr>\n",
       "<tr><td>617837015</td><td>617837015</td><td>1</td><td>0</td><td>0</td><td>0</td><td>3</td><td>3</td><td>3</td><td>3</td><td>3</td><td>3</td><td>0</td><td>0</td><td>0</td><td>0</td><td>0</td><td>0.0817478</td><td>0.0740297</td><td>0.0904051</td><td>0.0914264</td><td>0.61516</td><td>802.807</td><td>1105.45</td><td>1591.86</td><td>3058.45</td><td>1737.2</td><td>60.4307</td><td>75.3556</td><td>132.516</td><td>257.48</td><td>984.027</td><td>22.6560141050613</td><td>22.2547320367206</td><td>21.9050031276859</td><td>21.4062757914819</td><td>0.0547556817616063</td><td>0.0471436128946226</td><td>0.0532005207348369</td><td>0.0614182154703058</td><td>22.6485249659934</td><td>22.2483687524639</td><td>21.9011802861743</td><td>21.401930221298</td><td>0.0413229103740542</td><td>0.0356666885018726</td><td>0.0403716369585898</td><td>0.0469257635994003</td><td>22.7385</td><td>22.3912</td><td>21.9952</td><td>21.2862</td><td>21.9004</td><td>908854</td><td>9999</td><td>359.58871</td><td>0.55627758</td><td>1.18453</td><td>0.000122516</td><td>0.0</td><td>SDSS_DR14</td><td>4</td><td>908854</td><td>0.94031235</td><td>0.24081963</td><td>1.14102411</td><td>0.16364338</td></tr>\n",
       "<tr><td>617844641</td><td>617844641</td><td>1</td><td>0</td><td>0</td><td>0</td><td>3</td><td>3</td><td>3</td><td>3</td><td>3</td><td>3</td><td>0</td><td>0</td><td>0</td><td>0</td><td>0</td><td>0.100633</td><td>0.0215984</td><td>0.0205017</td><td>0.0221265</td><td>0.0802069</td><td>461.297</td><td>2570.13</td><td>5561.92</td><td>8656.63</td><td>8750.64</td><td>42.7455</td><td>51.1149</td><td>104.999</td><td>176.373</td><td>646.281</td><td>23.1464902365227</td><td>21.3330223083237</td><td>20.5229150114203</td><td>20.0512728891685</td><td>0.0669651644997062</td><td>0.016010430024619</td><td>0.0152745617696678</td><td>0.0160088500211616</td><td>23.1469624422388</td><td>21.3332990769613</td><td>20.5231376060391</td><td>20.0522027485216</td><td>0.0613288134295846</td><td>0.0146742159091764</td><td>0.0139761106688819</td><td>0.0146371412893157</td><td>23.34</td><td>21.4751</td><td>20.6369</td><td>20.1566</td><td>20.1449</td><td>908661</td><td>9999</td><td>359.24242</td><td>0.43304437</td><td>0.519917</td><td>0.000165974</td><td>0.0</td><td>SDSS_DR14</td><td>4</td><td>908661</td><td>0.58087302</td><td>0.01469852</td><td>0.51991701</td><td>0.001</td></tr>\n",
       "<tr><td>617858965</td><td>617858965</td><td>1</td><td>0</td><td>0</td><td>0</td><td>3</td><td>3</td><td>3</td><td>3</td><td>3</td><td>3</td><td>0</td><td>0</td><td>0</td><td>0</td><td>0</td><td>0.27103</td><td>0.0354052</td><td>0.017899</td><td>0.0195445</td><td>0.0588489</td><td>286.512</td><td>2961.0</td><td>9186.71</td><td>15327.6</td><td>16609.7</td><td>71.504</td><td>96.5329</td><td>151.412</td><td>275.848</td><td>900.055</td><td>23.0736034498021</td><td>21.0923293700092</td><td>19.7949359074413</td><td>19.2622635396127</td><td>0.115315182876467</td><td>0.0282090561294519</td><td>0.0204406064922658</td><td>0.0211048185676118</td><td>23.0852539186961</td><td>21.1059070084953</td><td>19.809525958727</td><td>19.2763140942351</td><td>0.101631756452933</td><td>0.0249457723454427</td><td>0.0181767548481866</td><td>0.0187741600130954</td><td>23.8571</td><td>21.3214</td><td>20.0921</td><td>19.5363</td><td>19.4491</td><td>908944</td><td>9999</td><td>358.41094</td><td>1.2416452</td><td>0.7385</td><td>0.000239094</td><td>0.0</td><td>SDSS_DR14</td><td>4</td><td>908944</td><td>0.82692145</td><td>0.01585504</td><td>0.77155769</td><td>0.02263754</td></tr>\n",
       "<tr><td>618120574</td><td>618120574</td><td>1</td><td>0</td><td>0</td><td>0</td><td>3</td><td>3</td><td>3</td><td>3</td><td>3</td><td>3</td><td>0</td><td>0</td><td>0</td><td>0</td><td>0</td><td>0.00333304</td><td>0.00354909</td><td>0.00517301</td><td>0.0085283</td><td>0.0215328</td><td>21476.9</td><td>36893.2</td><td>46661.8</td><td>52488.5</td><td>57551.6</td><td>65.9147</td><td>120.568</td><td>222.267</td><td>412.19</td><td>1141.11</td><td>19.1032112917498</td><td>18.4581988291727</td><td>18.1777561644756</td><td>18.010806419864</td><td>0.00252195518076982</td><td>0.00256668980952379</td><td>0.00317351411215274</td><td>0.00465540104455473</td><td>19.0962209328842</td><td>18.4512108026743</td><td>18.1707744791571</td><td>18.0037321617962</td><td>0.00207561476034089</td><td>0.00211256629050348</td><td>0.00261156819354865</td><td>0.00382629395402903</td><td>19.1701</td><td>18.5826</td><td>18.3276</td><td>18.1998</td><td>18.0999</td><td>215200</td><td>9999</td><td>356.185083326</td><td>-54.7714999999</td><td>0.1657</td><td>99.0</td><td>4.0</td><td>2DF</td><td>4</td><td>215200</td><td>0.15569715</td><td>0.05094825</td><td>0.1657</td><td>0.001</td></tr>\n",
       "<tr><td>618516330</td><td>618516330</td><td>1</td><td>0</td><td>0</td><td>0</td><td>3</td><td>3</td><td>3</td><td>3</td><td>3</td><td>3</td><td>0</td><td>0</td><td>0</td><td>0</td><td>0</td><td>0.0387996</td><td>0.00976035</td><td>0.00901482</td><td>0.0112929</td><td>0.0316546</td><td>1744.28</td><td>9401.25</td><td>17351.8</td><td>25808.4</td><td>28760.2</td><td>62.3181</td><td>84.4931</td><td>144.036</td><td>268.373</td><td>838.297</td><td>21.8253187288897</td><td>19.9587210959835</td><td>19.2725043948676</td><td>18.8280892857409</td><td>0.0240779366296985</td><td>0.00861872277633187</td><td>0.00844420943199026</td><td>0.00908159478084457</td><td>21.7862778537515</td><td>19.9259259621842</td><td>19.2401998191767</td><td>18.7974363404815</td><td>0.0223125100507089</td><td>0.00808600719310544</td><td>0.0079342321386928</td><td>0.00852870765754869</td><td>21.896</td><td>20.067</td><td>19.4016</td><td>18.9706</td><td>18.853</td><td>909053</td><td>9999</td><td>358.96438</td><td>1.5473537</td><td>0.445737</td><td>0.00018706</td><td>0.0</td><td>SDSS_DR14</td><td>4</td><td>909053</td><td>0.52504856</td><td>0.01039964</td><td>0.45002151</td><td>0.02500692</td></tr>\n",
       "<tr><td>618530227</td><td>618530227</td><td>1</td><td>0</td><td>0</td><td>0</td><td>3</td><td>3</td><td>3</td><td>3</td><td>3</td><td>3</td><td>0</td><td>0</td><td>0</td><td>0</td><td>0</td><td>0.0370296</td><td>0.0084373</td><td>0.00994585</td><td>0.0104259</td><td>0.0372867</td><td>1523.65</td><td>8621.92</td><td>16445.6</td><td>23528.3</td><td>24397.0</td><td>51.9521</td><td>66.985</td><td>150.613</td><td>225.878</td><td>837.646</td><td>21.8550286356412</td><td>19.9883382868894</td><td>19.3096864219346</td><td>18.9509739381439</td><td>0.0252332792769895</td><td>0.00817894648065496</td><td>0.00838916190484601</td><td>0.00951569342969988</td><td>21.8534021780912</td><td>19.9864699571868</td><td>19.3078510439627</td><td>18.9491259388441</td><td>0.022223857607896</td><td>0.00724562270888596</td><td>0.00745545289196096</td><td>0.00842242789877124</td><td>22.0428</td><td>20.161</td><td>19.4599</td><td>19.071</td><td>19.0317</td><td>909124</td><td>9999</td><td>359.4974</td><td>1.3183517</td><td>0.485724</td><td>0.000100706</td><td>0.0</td><td>SDSS_DR14</td><td>4</td><td>909124</td><td>0.50653341</td><td>0.00927385</td><td>0.46520597</td><td>0.02554096</td></tr>\n",
       "<tr><td>618630059</td><td>618630059</td><td>1</td><td>0</td><td>0</td><td>0</td><td>3</td><td>3</td><td>3</td><td>3</td><td>3</td><td>3</td><td>0</td><td>0</td><td>0</td><td>0</td><td>0</td><td>0.00138343</td><td>0.000833877</td><td>0.00129317</td><td>0.00171434</td><td>0.00456652</td><td>69283.6</td><td>141581.0</td><td>193702.0</td><td>245204.0</td><td>277111.0</td><td>88.2586</td><td>108.712</td><td>230.653</td><td>387.074</td><td>1165.22</td><td>17.8370351181898</td><td>17.0060828557134</td><td>16.6316937011557</td><td>16.3228908295649</td><td>0.00117780561453129</td><td>0.000843727801269724</td><td>0.00110768932756367</td><td>0.00134292239793303</td><td>17.8324401868676</td><td>17.0015372966344</td><td>16.6270872652932</td><td>16.3182935714547</td><td>0.0011199022387447</td><td>0.000803125428805154</td><td>0.00105365706380873</td><td>0.00127694081339028</td><td>17.8984</td><td>17.1225</td><td>16.7822</td><td>16.5262</td><td>16.3934</td><td>542499</td><td>9999</td><td>358.833831787</td><td>-53.9339447021</td><td>0.0739845</td><td>0.000150104</td><td>4.0</td><td>6DF</td><td>4</td><td>542499</td><td>0.14186076</td><td>0.02435087</td><td>0.05234803</td><td>0.00309749</td></tr>\n",
       "</table>"
      ],
      "text/plain": [
       "<Table length=244634>\n",
       "COADD_OBJECT_ID COADD_OBJECTS_ID ... DNF_ZMEAN_MOF DNF_ZSIGMA_MOF\n",
       "     int64           int64       ...    float64       float64    \n",
       "--------------- ---------------- ... ------------- --------------\n",
       "       62372066         62372066 ...    0.55712354     0.02814563\n",
       "       62569538         62569538 ...    0.55292314     0.04202146\n",
       "       62577371         62577371 ...    0.36518827     0.00726061\n",
       "       62584109         62584109 ...    0.18715866     0.00631647\n",
       "       62584462         62584462 ...    0.24259344     0.09236167\n",
       "       62593390         62593390 ...    0.36853001          0.001\n",
       "       62663096         62663096 ...        0.1103          0.001\n",
       "       62668348         62668348 ...     0.1117707       0.008235\n",
       "       62674301         62674301 ...    0.55444002          0.001\n",
       "       62677810         62677810 ...    0.22023343     0.00433877\n",
       "            ...              ... ...           ...            ...\n",
       "      617836181        617836181 ...    0.87990499          0.001\n",
       "      617836400        617836400 ...    0.90619946     0.17692725\n",
       "      617836645        617836645 ...       1.14273          0.001\n",
       "      617837015        617837015 ...    1.14102411     0.16364338\n",
       "      617844641        617844641 ...    0.51991701          0.001\n",
       "      617858965        617858965 ...    0.77155769     0.02263754\n",
       "      618120574        618120574 ...        0.1657          0.001\n",
       "      618516330        618516330 ...    0.45002151     0.02500692\n",
       "      618530227        618530227 ...    0.46520597     0.02554096\n",
       "      618630059        618630059 ...    0.05234803     0.00309749"
      ]
     },
     "execution_count": 110,
     "metadata": {},
     "output_type": "execute_result"
    }
   ],
   "source": [
    "data"
   ]
  },
  {
   "cell_type": "code",
   "execution_count": 111,
   "metadata": {},
   "outputs": [],
   "source": [
    "ra, dec = gi['ra'], gi['dec']\n",
    "ra1,dec1= data['RA'], data['DEC']"
   ]
  },
  {
   "cell_type": "code",
   "execution_count": null,
   "metadata": {},
   "outputs": [],
   "source": []
  },
  {
   "cell_type": "code",
   "execution_count": 112,
   "metadata": {},
   "outputs": [],
   "source": [
    "import smatch\n",
    "\n",
    "nside=int(2*4096) # healpix nside\n",
    "maxmatch=1 # return closest match\n",
    "\n",
    "# ra,dec,radius in degrees\n",
    "matches = smatch.match(ra, dec, 1./3600, ra1, dec1,\n",
    "                       nside=nside, maxmatch=maxmatch)"
   ]
  },
  {
   "cell_type": "code",
   "execution_count": 113,
   "metadata": {},
   "outputs": [],
   "source": [
    "# access via the indices\n",
    "matchs = [matches['i2'][:],matches['i1'][:]]"
   ]
  },
  {
   "cell_type": "code",
   "execution_count": 114,
   "metadata": {},
   "outputs": [
    {
     "name": "stdout",
     "output_type": "stream",
     "text": [
      "3.680000E+03, 2.383861E+06\n",
      "ratio 0.0015\n"
     ]
    }
   ],
   "source": [
    "Nmatch = matchs[1].size\n",
    "Ndata  = len(dec)\n",
    "\n",
    "print('%E, %E'%(Nmatch,Ndata))\n",
    "print('ratio %.4f'%(1.*Nmatch/Ndata))"
   ]
  },
  {
   "cell_type": "code",
   "execution_count": 115,
   "metadata": {},
   "outputs": [],
   "source": [
    "zdnf = gi[matchs[1]]['z_mean_dnf']\n",
    "\n",
    "z    = data[matchs[0]]['Z']\n",
    "zdnf2= data[matchs[0]]['DNF_ZMEAN_MOF']"
   ]
  },
  {
   "cell_type": "code",
   "execution_count": 116,
   "metadata": {},
   "outputs": [
    {
     "data": {
      "text/plain": [
       "<matplotlib.collections.PathCollection at 0x7f79ae8a1250>"
      ]
     },
     "execution_count": 116,
     "metadata": {},
     "output_type": "execute_result"
    },
    {
     "data": {
      "image/png": "[encoded data removed]",
      "text/plain": [
       "<Figure size 432x288 with 1 Axes>"
      ]
     },
     "metadata": {},
     "output_type": "display_data"
    }
   ],
   "source": [
    "plt.scatter(z,zdnf)"
   ]
  },
  {
   "cell_type": "code",
   "execution_count": 117,
   "metadata": {},
   "outputs": [
    {
     "data": {
      "text/plain": [
       "<matplotlib.collections.PathCollection at 0x7f79ae86bdd0>"
      ]
     },
     "execution_count": 117,
     "metadata": {},
     "output_type": "execute_result"
    },
    {
     "data": {
      "image/png": "[encoded data removed]",
      "text/plain": [
       "<Figure size 432x288 with 1 Axes>"
      ]
     },
     "metadata": {},
     "output_type": "display_data"
    }
   ],
   "source": [
    "plt.scatter(zdnf2,zdnf)"
   ]
  },
  {
   "cell_type": "code",
   "execution_count": null,
   "metadata": {},
   "outputs": [],
   "source": []
  },
  {
   "cell_type": "code",
   "execution_count": null,
   "metadata": {},
   "outputs": [],
   "source": []
  },
  {
   "cell_type": "code",
   "execution_count": null,
   "metadata": {},
   "outputs": [],
   "source": []
  },
  {
   "cell_type": "code",
   "execution_count": null,
   "metadata": {},
   "outputs": [],
   "source": []
  },
  {
   "cell_type": "code",
   "execution_count": null,
   "metadata": {},
   "outputs": [],
   "source": []
  },
  {
   "cell_type": "code",
   "execution_count": null,
   "metadata": {},
   "outputs": [],
   "source": []
  },
  {
   "cell_type": "code",
   "execution_count": 54,
   "metadata": {},
   "outputs": [],
   "source": [
    "import healpy as hp\n",
    "def hpix2ang(pix,nside=1024):\n",
    "    lon,lat = hp.pix2ang(nside,pix,nest=True)\n",
    "    dec,ra=(90-(lon)*(180/np.pi)),(lat*(180/np.pi))\n",
    "    return ra,dec"
   ]
  },
  {
   "cell_type": "code",
   "execution_count": 55,
   "metadata": {},
   "outputs": [
    {
     "ename": "NameError",
     "evalue": "name 'myidx' is not defined",
     "output_type": "error",
     "traceback": [
      "\u001b[0;31m---------------------------------------------------------------------------\u001b[0m",
      "\u001b[0;31mNameError\u001b[0m                                 Traceback (most recent call last)",
      "\u001b[0;32m<ipython-input-55-6cccda1c6ee0>\u001b[0m in \u001b[0;36m<module>\u001b[0;34m()\u001b[0m\n\u001b[1;32m      1\u001b[0m \u001b[0mra\u001b[0m\u001b[0;34m,\u001b[0m \u001b[0mdec\u001b[0m \u001b[0;34m=\u001b[0m \u001b[0mhpix2ang\u001b[0m\u001b[0;34m(\u001b[0m\u001b[0mcircles\u001b[0m\u001b[0;34m,\u001b[0m\u001b[0mnside\u001b[0m\u001b[0;34m=\u001b[0m\u001b[0;36m16384\u001b[0m\u001b[0;34m)\u001b[0m\u001b[0;34m\u001b[0m\u001b[0m\n\u001b[0;32m----> 2\u001b[0;31m \u001b[0mgra\u001b[0m\u001b[0;34m,\u001b[0m\u001b[0mgdec\u001b[0m \u001b[0;34m=\u001b[0m \u001b[0mhpix2ang\u001b[0m\u001b[0;34m(\u001b[0m\u001b[0mmyidx\u001b[0m\u001b[0;34m,\u001b[0m\u001b[0mnside\u001b[0m\u001b[0;34m=\u001b[0m\u001b[0;36m16384\u001b[0m\u001b[0;34m)\u001b[0m\u001b[0;34m\u001b[0m\u001b[0m\n\u001b[0m",
      "\u001b[0;31mNameError\u001b[0m: name 'myidx' is not defined"
     ]
    }
   ],
   "source": [
    "ra, dec = hpix2ang(circles,nside=16384)\n",
    "gra,gdec = hpix2ang(myidx,nside=16384)"
   ]
  },
  {
   "cell_type": "code",
   "execution_count": null,
   "metadata": {},
   "outputs": [],
   "source": [
    "plt.scatter(ra[::10],dec[::10])\n",
    "plt.scatter(gra[::1000],gdec[::1000])"
   ]
  },
  {
   "cell_type": "code",
   "execution_count": null,
   "metadata": {},
   "outputs": [],
   "source": []
  },
  {
   "cell_type": "code",
   "execution_count": null,
   "metadata": {},
   "outputs": [],
   "source": [
    "data =  load_hdf_files(fname,maglim_idx[match[1]],columns,path='catalog/gold/')"
   ]
  },
  {
   "cell_type": "code",
   "execution_count": null,
   "metadata": {},
   "outputs": [],
   "source": [
    "plt.plot(match[1],data['id'])"
   ]
  },
  {
   "cell_type": "code",
   "execution_count": null,
   "metadata": {},
   "outputs": [],
   "source": [
    "plt.plot(data['hpix_16384'],hpx16384[match[1]])"
   ]
  },
  {
   "cell_type": "code",
   "execution_count": null,
   "metadata": {},
   "outputs": [],
   "source": []
  },
  {
   "cell_type": "code",
   "execution_count": null,
   "metadata": {},
   "outputs": [],
   "source": [
    "maglim_idx[match[1]]"
   ]
  },
  {
   "cell_type": "code",
   "execution_count": null,
   "metadata": {},
   "outputs": [],
   "source": [
    "master  = h5py.File(fname,'r')\n",
    "indexes= h5py.File(fname_aux,'r')\n",
    "\n",
    "#select  = indexes['index/gold/select'][:]\n",
    "# myidx   = master['catalog/gold/hpix_16384'][:][maglim_idx[match[1]]]\n",
    "# mag_i   = master['catalog/gold/mag_i'][:][maglim_idx[match[1]]]\n",
    "\n",
    "master.close()\n",
    "indexes.close()"
   ]
  },
  {
   "cell_type": "code",
   "execution_count": null,
   "metadata": {},
   "outputs": [],
   "source": [
    "maglim_idx[match[1]]"
   ]
  },
  {
   "cell_type": "code",
   "execution_count": null,
   "metadata": {},
   "outputs": [],
   "source": [
    "data=0"
   ]
  },
  {
   "cell_type": "code",
   "execution_count": null,
   "metadata": {},
   "outputs": [],
   "source": [
    "hpx16384[data['id']]"
   ]
  },
  {
   "cell_type": "code",
   "execution_count": null,
   "metadata": {},
   "outputs": [],
   "source": [
    "myidx"
   ]
  },
  {
   "cell_type": "code",
   "execution_count": null,
   "metadata": {},
   "outputs": [],
   "source": []
  },
  {
   "cell_type": "code",
   "execution_count": null,
   "metadata": {},
   "outputs": [],
   "source": [
    "match[1]"
   ]
  },
  {
   "cell_type": "code",
   "execution_count": null,
   "metadata": {},
   "outputs": [],
   "source": []
  },
  {
   "cell_type": "code",
   "execution_count": null,
   "metadata": {},
   "outputs": [],
   "source": [
    "rag,decg = data['ra'], data['dec']"
   ]
  },
  {
   "cell_type": "code",
   "execution_count": null,
   "metadata": {},
   "outputs": [],
   "source": [
    "plt.scatter(ra[::10],dec[::10])\n",
    "plt.scatter(rag[::100],decg[::100],alpha=0.1)"
   ]
  },
  {
   "cell_type": "code",
   "execution_count": null,
   "metadata": {},
   "outputs": [],
   "source": [
    "plt.scatter(data['hpix_16384'][::100],myidx[::100])\n",
    "\n"
   ]
  },
  {
   "cell_type": "code",
   "execution_count": null,
   "metadata": {},
   "outputs": [],
   "source": [
    "gi=0"
   ]
  },
  {
   "cell_type": "code",
   "execution_count": null,
   "metadata": {},
   "outputs": [],
   "source": []
  }
 ],
 "metadata": {
  "kernelspec": {
   "display_name": "Python 2",
   "language": "python",
   "name": "python2"
  },
  "language_info": {
   "codemirror_mode": {
    "name": "ipython",
    "version": 2
   },
   "file_extension": ".py",
   "mimetype": "text/x-python",
   "name": "python",
   "nbconvert_exporter": "python",
   "pygments_lexer": "ipython2",
   "version": "2.7.15"
  }
 },
 "nbformat": 4,
 "nbformat_minor": 4
}
