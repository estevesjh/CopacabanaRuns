{
 "cells": [
  {
   "cell_type": "markdown",
   "metadata": {},
   "source": [
    "# Get Galaxies From Halos\n",
    "\n",
    "info: https://cdcvs.fnal.gov/redmine/projects/des-clusters/wiki/ClustDataVecY3 <br>\n",
    "path: /data/des81.b/data/mariaeli/y3_buzz/Buzzard-3_v2.0_Y3a_mastercat/"
   ]
  },
  {
   "cell_type": "code",
   "execution_count": null,
   "metadata": {},
   "outputs": [],
   "source": [
    "import matplotlib.pyplot as plt\n",
    "import numpy as np\n",
    "\n",
    "from astropy.table import Table, vstack\n",
    "from astropy.io.fits import getdata\n",
    "\n",
    "import pandas as pd\n",
    "\n",
    "import esutil"
   ]
  },
  {
   "cell_type": "markdown",
   "metadata": {},
   "source": [
    "## Load"
   ]
  },
  {
   "cell_type": "code",
   "execution_count": 2,
   "metadata": {},
   "outputs": [],
   "source": [
    "import h5py\n",
    "\n",
    "#path   = '/data/des81.b/data/mariaeli/y3_buzz/Buzzard-3_v2.0_Y3a_mastercat/'\n",
    "path   = '/global/project/projectdirs/des/jderose/Chinchilla/Herd/Chinchilla-3/v1.9.8/sampleselection/Y3a/mastercat/'\n",
    "fname  = path+'Buzzard_v1.9.8_Y3a_gold.h5'\n",
    "fname_aux  = path+'Buzzard-3_v1.9.8_Y3a_mastercat.h5'\n",
    "\n",
    "master = h5py.File(fname,'r')\n",
    "indexes= h5py.File(fname_aux,'r')"
   ]
  },
  {
   "cell_type": "code",
   "execution_count": 3,
   "metadata": {},
   "outputs": [
    {
     "name": "stdout",
     "output_type": "stream",
     "text": [
      "Buzzard-3_v1.9.8_Y3a_mastercat.h5  Buzzard_v1.9.8_Y3a_shape.h5\n",
      "Buzzard-3_v2.0_Y3a_mastercat.h5    Buzzard_v2.0_Y3a_gold.h5\n",
      "Buzzard_v1.9.8_Y3a_bpz.h5          Y3_GOLD_2_2_1_maps_copy.h5\n",
      "Buzzard_v1.9.8_Y3a_gold.h5         buzzard-1.9.8_3y3a_run_redmapper_v6.4.22.h5\n"
     ]
    }
   ],
   "source": [
    "ls /global/project/projectdirs/des/jderose/Chinchilla/Herd/Chinchilla-3/v1.9.8/sampleselection/Y3a/mastercat/"
   ]
  },
  {
   "cell_type": "code",
   "execution_count": 4,
   "metadata": {},
   "outputs": [],
   "source": [
    "def show_h5_group(name,node):\n",
    "    ''' show all the h5 groups\n",
    "    Example:\n",
    "    fmaster = h5py.File(copa.master_fname,'r')\n",
    "    fmaster.visititems(show_h5_group)\n",
    "\n",
    "    ## https://stackoverflow.com/questions/45562169/traverse-hdf5-file-tree-and-continue-after-return\n",
    "    '''\n",
    "    if isinstance(node, h5py.Group):\n",
    "        print(name,node)\n",
    "    return None\n",
    "\n",
    "def show_h5_dataset(name,node):\n",
    "    if isinstance(node, h5py.Dataset):\n",
    "        print(name,node)\n",
    "    return None"
   ]
  },
  {
   "cell_type": "code",
   "execution_count": 5,
   "metadata": {},
   "outputs": [],
   "source": [
    "columns = ['hpix_16384','haloid','coadd_object_id','ra','dec','rhalo']\n",
    "columns+= ['mag_%s'%(ix) for ix in ['g','r','i','z']]\n",
    "columns+= ['mag_err_%s'%(ix) for ix in ['g','r','i','z']]"
   ]
  },
  {
   "cell_type": "code",
   "execution_count": 6,
   "metadata": {},
   "outputs": [
    {
     "data": {
      "text/plain": [
       "['hpix_16384',\n",
       " 'haloid',\n",
       " 'coadd_object_id',\n",
       " 'ra',\n",
       " 'dec',\n",
       " 'rhalo',\n",
       " 'mag_g',\n",
       " 'mag_r',\n",
       " 'mag_i',\n",
       " 'mag_z',\n",
       " 'mag_err_g',\n",
       " 'mag_err_r',\n",
       " 'mag_err_i',\n",
       " 'mag_err_z']"
      ]
     },
     "execution_count": 6,
     "metadata": {},
     "output_type": "execute_result"
    }
   ],
   "source": [
    "columns"
   ]
  },
  {
   "cell_type": "code",
   "execution_count": 7,
   "metadata": {},
   "outputs": [
    {
     "name": "stdout",
     "output_type": "stream",
     "text": [
      "catalog/gold/coadd_object_id <HDF5 dataset \"coadd_object_id\": shape (1505017869,), type \">i8\">\n",
      "catalog/gold/dec <HDF5 dataset \"dec\": shape (1505017869,), type \">f4\">\n",
      "catalog/gold/flags_gold <HDF5 dataset \"flags_gold\": shape (1505017869,), type \">i8\">\n",
      "catalog/gold/flux_g <HDF5 dataset \"flux_g\": shape (1505017869,), type \">f4\">\n",
      "catalog/gold/flux_i <HDF5 dataset \"flux_i\": shape (1505017869,), type \">f4\">\n",
      "catalog/gold/flux_r <HDF5 dataset \"flux_r\": shape (1505017869,), type \">f4\">\n",
      "catalog/gold/flux_z <HDF5 dataset \"flux_z\": shape (1505017869,), type \">f4\">\n",
      "catalog/gold/haloid <HDF5 dataset \"haloid\": shape (1505017869,), type \">i8\">\n",
      "catalog/gold/hpix_16384 <HDF5 dataset \"hpix_16384\": shape (1505017869,), type \">i8\">\n",
      "catalog/gold/ivar_g <HDF5 dataset \"ivar_g\": shape (1505017869,), type \">f4\">\n",
      "catalog/gold/ivar_i <HDF5 dataset \"ivar_i\": shape (1505017869,), type \">f4\">\n",
      "catalog/gold/ivar_r <HDF5 dataset \"ivar_r\": shape (1505017869,), type \">f4\">\n",
      "catalog/gold/ivar_z <HDF5 dataset \"ivar_z\": shape (1505017869,), type \">f4\">\n",
      "catalog/gold/m200 <HDF5 dataset \"m200\": shape (1505017869,), type \">f4\">\n",
      "catalog/gold/mag_err_g <HDF5 dataset \"mag_err_g\": shape (1505017869,), type \">f4\">\n",
      "catalog/gold/mag_err_i <HDF5 dataset \"mag_err_i\": shape (1505017869,), type \">f4\">\n",
      "catalog/gold/mag_err_r <HDF5 dataset \"mag_err_r\": shape (1505017869,), type \">f4\">\n",
      "catalog/gold/mag_err_z <HDF5 dataset \"mag_err_z\": shape (1505017869,), type \">f4\">\n",
      "catalog/gold/mag_g <HDF5 dataset \"mag_g\": shape (1505017869,), type \">f4\">\n",
      "catalog/gold/mag_g_lensed <HDF5 dataset \"mag_g_lensed\": shape (1505017869,), type \">f4\">\n",
      "catalog/gold/mag_g_true <HDF5 dataset \"mag_g_true\": shape (1505017869,), type \">f4\">\n",
      "catalog/gold/mag_i <HDF5 dataset \"mag_i\": shape (1505017869,), type \">f4\">\n",
      "catalog/gold/mag_i_lensed <HDF5 dataset \"mag_i_lensed\": shape (1505017869,), type \">f4\">\n",
      "catalog/gold/mag_i_true <HDF5 dataset \"mag_i_true\": shape (1505017869,), type \">f4\">\n",
      "catalog/gold/mag_r <HDF5 dataset \"mag_r\": shape (1505017869,), type \">f4\">\n",
      "catalog/gold/mag_r_lensed <HDF5 dataset \"mag_r_lensed\": shape (1505017869,), type \">f4\">\n",
      "catalog/gold/mag_r_true <HDF5 dataset \"mag_r_true\": shape (1505017869,), type \">f4\">\n",
      "catalog/gold/mag_z <HDF5 dataset \"mag_z\": shape (1505017869,), type \">f4\">\n",
      "catalog/gold/mag_z_lensed <HDF5 dataset \"mag_z_lensed\": shape (1505017869,), type \">f4\">\n",
      "catalog/gold/mag_z_true <HDF5 dataset \"mag_z_true\": shape (1505017869,), type \">f4\">\n",
      "catalog/gold/px <HDF5 dataset \"px\": shape (1505017869,), type \">f4\">\n",
      "catalog/gold/py <HDF5 dataset \"py\": shape (1505017869,), type \">f4\">\n",
      "catalog/gold/pz <HDF5 dataset \"pz\": shape (1505017869,), type \">f4\">\n",
      "catalog/gold/r200 <HDF5 dataset \"r200\": shape (1505017869,), type \">f4\">\n",
      "catalog/gold/ra <HDF5 dataset \"ra\": shape (1505017869,), type \">f4\">\n",
      "catalog/gold/rhalo <HDF5 dataset \"rhalo\": shape (1505017869,), type \">f4\">\n",
      "catalog/gold/sdss_sedid <HDF5 dataset \"sdss_sedid\": shape (1505017869,), type \">i8\">\n",
      "catalog/gold/vx <HDF5 dataset \"vx\": shape (1505017869,), type \">f4\">\n",
      "catalog/gold/vy <HDF5 dataset \"vy\": shape (1505017869,), type \">f4\">\n",
      "catalog/gold/vz <HDF5 dataset \"vz\": shape (1505017869,), type \">f4\">\n",
      "masks/gold/hpix <HDF5 dataset \"hpix\": shape (24711879,), type \"<i8\">\n"
     ]
    }
   ],
   "source": [
    "master.visititems(show_h5_dataset)"
   ]
  },
  {
   "cell_type": "code",
   "execution_count": 8,
   "metadata": {},
   "outputs": [
    {
     "name": "stdout",
     "output_type": "stream",
     "text": [
      "bpz/match_gold <HDF5 dataset \"match_gold\": shape (1505017869,), type \"<i8\">\n",
      "bpz/select <HDF5 dataset \"select\": shape (1505017869,), type \"<i8\">\n",
      "catalog/maglim/select <HDF5 dataset \"select\": shape (13438886,), type \"<i8\">\n",
      "coadd_object_id <HDF5 dataset \"coadd_object_id\": shape (1505017869,), type \"<i8\">\n",
      "gold/select <HDF5 dataset \"select\": shape (1505017869,), type \"<i8\">\n",
      "maglim/random_select <HDF5 dataset \"random_select\": shape (250492120,), type \"<i8\">\n",
      "maglim/select <HDF5 dataset \"select\": shape (12524606,), type \"<i8\">\n",
      "mask/fracgood <HDF5 dataset \"fracgood\": shape (21007033,), type \"<i8\">\n",
      "mask/hpix <HDF5 dataset \"hpix\": shape (21007033,), type \"<i8\">\n",
      "mask/maskfrac_est <HDF5 dataset \"maskfrac_est\": shape (21007033,), type \"<i8\">\n",
      "mask/zmax <HDF5 dataset \"zmax\": shape (21007033,), type \"<i8\">\n",
      "metacal/match_gold <HDF5 dataset \"match_gold\": shape (1505017869,), type \"<i8\">\n",
      "randoms/maglim/select <HDF5 dataset \"select\": shape (268777720,), type \"<i8\">\n",
      "redmagic/combined_sample_fid/match_gold <HDF5 dataset \"match_gold\": shape (2672681,), type \"<i8\">\n",
      "redmagic/combined_sample_fid/random_select <HDF5 dataset \"random_select\": shape (65656100,), type \"<i8\">\n",
      "redmagic/combined_sample_fid/select <HDF5 dataset \"select\": shape (2672681,), type \"<i8\">\n",
      "redmagic/highdens/match_gold <HDF5 dataset \"match_gold\": shape (2545499,), type \"<i8\">\n",
      "redmagic/highdens/random_select <HDF5 dataset \"random_select\": shape (45939228,), type \"<i8\">\n",
      "redmagic/highdens/select <HDF5 dataset \"select\": shape (2309097,), type \"<i8\">\n",
      "redmagic/higherlum/match_gold <HDF5 dataset \"match_gold\": shape (528288,), type \"<i8\">\n",
      "redmagic/higherlum/random_select <HDF5 dataset \"random_select\": shape (46161868,), type \"<i8\">\n",
      "redmagic/higherlum/select <HDF5 dataset \"select\": shape (480430,), type \"<i8\">\n",
      "redmagic/highlum/match_gold <HDF5 dataset \"match_gold\": shape (2045441,), type \"<i8\">\n",
      "redmagic/highlum/random_select <HDF5 dataset \"random_select\": shape (46518449,), type \"<i8\">\n",
      "redmagic/highlum/select <HDF5 dataset \"select\": shape (1878020,), type \"<i8\">\n",
      "select <HDF5 dataset \"select\": shape (127166591,), type \"<i8\">\n"
     ]
    }
   ],
   "source": [
    "indexes['index'].visititems(show_h5_dataset)"
   ]
  },
  {
   "cell_type": "code",
   "execution_count": null,
   "metadata": {},
   "outputs": [],
   "source": []
  },
  {
   "cell_type": "code",
   "execution_count": 9,
   "metadata": {},
   "outputs": [],
   "source": [
    "select     = indexes['index/gold/select'][:]\n",
    "mag_i      = master['catalog/gold/mag_i'][:][select]\n",
    "maglim_idx = select[np.where(mag_i<=24.)]\n",
    "hpx16384   = master['catalog/gold/hpix_16384'][:][maglim_idx]\n",
    "#mids       = master['catalog/gold/coadd_object_id'][:][maglim_idx]\n",
    "\n",
    "#maglim_idx = select[np.where(mag_i<=24.)]\n",
    "select=mag_i=0\n",
    "\n",
    "master.close()\n",
    "indexes.close()"
   ]
  },
  {
   "cell_type": "code",
   "execution_count": null,
   "metadata": {},
   "outputs": [],
   "source": []
  },
  {
   "cell_type": "markdown",
   "metadata": {},
   "source": [
    "### Loading Data"
   ]
  },
  {
   "cell_type": "code",
   "execution_count": 10,
   "metadata": {},
   "outputs": [],
   "source": [
    "## Healpix map\n",
    "Nside    = 2\n",
    "outdir   = '/global/project/projectdirs/des/jesteves/buzzardSelection/y3_v2.0.0/'\n",
    "hpx_file = outdir+'tiles/hpxmap_nside%i_buzzard_y3_v2.0.0.fits'%Nside"
   ]
  },
  {
   "cell_type": "code",
   "execution_count": 11,
   "metadata": {},
   "outputs": [],
   "source": [
    "hpx_map = Table(getdata(hpx_file))\n",
    "tiles   = np.where(hpx_map['hpx_value']>0)[0]"
   ]
  },
  {
   "cell_type": "code",
   "execution_count": 12,
   "metadata": {},
   "outputs": [
    {
     "data": {
      "text/plain": [
       "array([ 0, 16, 17, 18, 19, 20, 22, 32, 33, 34, 35, 38, 44, 45, 46, 47])"
      ]
     },
     "execution_count": 12,
     "metadata": {},
     "output_type": "execute_result"
    }
   ],
   "source": [
    "tiles"
   ]
  },
  {
   "cell_type": "code",
   "execution_count": 13,
   "metadata": {},
   "outputs": [],
   "source": [
    "## Get Cluster Catalog\n",
    "\n",
    "outdir = '/global/project/projectdirs/des/jesteves/buzzardSelection/y3_v2.0.0/'\n",
    "name   = outdir+'halos/buzzard_y3_v2.0.0_golden_halos.fits'\n",
    "\n",
    "cat = Table(getdata(name))"
   ]
  },
  {
   "cell_type": "code",
   "execution_count": 14,
   "metadata": {},
   "outputs": [
    {
     "data": {
      "text/html": [
       "<i>Table length=2748</i>\n",
       "<table id=\"table46913105282096\" class=\"table-striped table-bordered table-condensed\">\n",
       "<thead><tr><th>haloid</th><th>coadd_object_id</th><th>RA</th><th>DEC</th><th>M200</th><th>R200</th><th>MAG_I</th><th>redshift</th><th>magLim</th><th>hpx8</th><th>hpx4</th><th>hpx2</th></tr></thead>\n",
       "<thead><tr><th>int64</th><th>int64</th><th>float32</th><th>float32</th><th>float32</th><th>float32</th><th>float32</th><th>float64</th><th>float64</th><th>int64</th><th>int64</th><th>int64</th></tr></thead>\n",
       "<tr><td>12109345</td><td>34000000190</td><td>87.67945</td><td>-31.286345</td><td>53750000000000.0</td><td>0.811507</td><td>15.644118</td><td>0.12207666344755042</td><td>18.727379942055908</td><td>80</td><td>80</td><td>20</td></tr>\n",
       "<tr><td>7921723</td><td>106000000031</td><td>17.458162</td><td>-37.26816</td><td>54520000000000.0</td><td>0.823985</td><td>15.9647045</td><td>0.15707450057296524</td><td>19.299043008021513</td><td>138</td><td>138</td><td>34</td></tr>\n",
       "<tr><td>12127773</td><td>41000000098</td><td>84.258545</td><td>-38.53852</td><td>52040000000000.0</td><td>0.806834</td><td>16.234589</td><td>0.1376620470619489</td><td>19.00025480005313</td><td>133</td><td>133</td><td>33</td></tr>\n",
       "<tr><td>10295050</td><td>5000000068</td><td>44.179226</td><td>-15.528681</td><td>50970000000000.0</td><td>0.802234</td><td>16.17392</td><td>0.14417593382404809</td><td>19.10681494118477</td><td>143</td><td>143</td><td>35</td></tr>\n",
       "<tr><td>10559488</td><td>359000989610</td><td>29.339111</td><td>3.0369565</td><td>59480000000000.0</td><td>0.844769</td><td>16.401712</td><td>0.14416136199711516</td><td>19.106581791953843</td><td>69</td><td>69</td><td>17</td></tr>\n",
       "<tr><td>8146031</td><td>369000000069</td><td>15.199777</td><td>-2.195923</td><td>54050000000000.0</td><td>0.822436</td><td>16.283852</td><td>0.15945146239187055</td><td>19.332320473486188</td><td>70</td><td>70</td><td>17</td></tr>\n",
       "<tr><td>10030365</td><td>48006301558</td><td>59.113914</td><td>-41.401073</td><td>58910000000000.0</td><td>0.843198</td><td>16.556578</td><td>0.14710242891679756</td><td>19.15363886266876</td><td>134</td><td>134</td><td>33</td></tr>\n",
       "<tr><td>10049271</td><td>53006584760</td><td>35.619694</td><td>-61.57988</td><td>53050000000000.0</td><td>0.814796</td><td>16.727932</td><td>0.15048246889904238</td><td>19.206754564586593</td><td>130</td><td>130</td><td>32</td></tr>\n",
       "<tr><td>10294725</td><td>7000000067</td><td>51.846664</td><td>-16.289898</td><td>51970000000000.0</td><td>0.80679</td><td>17.323595</td><td>0.13937409684592666</td><td>19.02935964638075</td><td>141</td><td>141</td><td>35</td></tr>\n",
       "<tr><td>9749036</td><td>51006307725</td><td>53.689293</td><td>-59.035988</td><td>55490000000000.0</td><td>0.822547</td><td>16.419096</td><td>0.13229357903296657</td><td>18.90899084356043</td><td>131</td><td>131</td><td>32</td></tr>\n",
       "<tr><td>...</td><td>...</td><td>...</td><td>...</td><td>...</td><td>...</td><td>...</td><td>...</td><td>...</td><td>...</td><td>...</td><td>...</td></tr>\n",
       "<tr><td>9872200</td><td>117012723162</td><td>315.64374</td><td>-58.65215</td><td>581300000000000.0</td><td>1.984464</td><td>19.130545</td><td>0.6400378823447525</td><td>23.020227294068516</td><td>179</td><td>179</td><td>44</td></tr>\n",
       "<tr><td>9815495</td><td>92011747793</td><td>310.17432</td><td>-46.355865</td><td>581500000000000.0</td><td>1.986827</td><td>18.846224</td><td>0.6501076093897445</td><td>23.08053804694872</td><td>185</td><td>185</td><td>46</td></tr>\n",
       "<tr><td>35303094</td><td>33011682550</td><td>82.96946</td><td>-28.981165</td><td>642900000000000.0</td><td>2.060006</td><td>19.501665</td><td>0.6772301882066438</td><td>23.22338112923986</td><td>80</td><td>80</td><td>20</td></tr>\n",
       "<tr><td>18226007</td><td>108011730340</td><td>7.4192023</td><td>-43.79146</td><td>621400000000000.0</td><td>2.030795</td><td>19.74313</td><td>0.6483134906995371</td><td>23.069880944197223</td><td>138</td><td>138</td><td>34</td></tr>\n",
       "<tr><td>25199384</td><td>379010405889</td><td>34.460194</td><td>-18.44356</td><td>598400000000000.0</td><td>2.003473</td><td>18.957607</td><td>0.6402874907951892</td><td>23.021724944771133</td><td>142</td><td>142</td><td>35</td></tr>\n",
       "<tr><td>25822366</td><td>359010790446</td><td>32.13019</td><td>-2.5730739</td><td>659900000000000.0</td><td>2.082433</td><td>19.133959</td><td>0.696510979192289</td><td>23.322554895961446</td><td>69</td><td>69</td><td>17</td></tr>\n",
       "<tr><td>16749221</td><td>121012624436</td><td>350.89316</td><td>-64.43574</td><td>652600000000000.0</td><td>2.073604</td><td>19.291382</td><td>0.6906826878109467</td><td>23.29341343905473</td><td>177</td><td>177</td><td>44</td></tr>\n",
       "<tr><td>19454221</td><td>347010366951</td><td>12.391885</td><td>0.40915513</td><td>702300000000000.0</td><td>2.116583</td><td>18.696695</td><td>0.6545622839179265</td><td>23.10281141958963</td><td>70</td><td>70</td><td>17</td></tr>\n",
       "<tr><td>24482586</td><td>19011971058</td><td>39.687027</td><td>-30.701668</td><td>700000000000000.0</td><td>2.114803</td><td>18.883825</td><td>0.6569059893327199</td><td>23.1145299466636</td><td>140</td><td>140</td><td>35</td></tr>\n",
       "<tr><td>35847197</td><td>11011415740</td><td>73.761375</td><td>-18.36123</td><td>865500000000000.0</td><td>2.272478</td><td>19.925497</td><td>0.6653212423461582</td><td>23.15660621173079</td><td>82</td><td>82</td><td>20</td></tr>\n",
       "</table>"
      ],
      "text/plain": [
       "<Table length=2748>\n",
       " haloid  coadd_object_id     RA       DEC     ...  hpx8  hpx4  hpx2\n",
       " int64        int64       float32   float32   ... int64 int64 int64\n",
       "-------- --------------- --------- ---------- ... ----- ----- -----\n",
       "12109345     34000000190  87.67945 -31.286345 ...    80    80    20\n",
       " 7921723    106000000031 17.458162  -37.26816 ...   138   138    34\n",
       "12127773     41000000098 84.258545  -38.53852 ...   133   133    33\n",
       "10295050      5000000068 44.179226 -15.528681 ...   143   143    35\n",
       "10559488    359000989610 29.339111  3.0369565 ...    69    69    17\n",
       " 8146031    369000000069 15.199777  -2.195923 ...    70    70    17\n",
       "10030365     48006301558 59.113914 -41.401073 ...   134   134    33\n",
       "10049271     53006584760 35.619694  -61.57988 ...   130   130    32\n",
       "10294725      7000000067 51.846664 -16.289898 ...   141   141    35\n",
       " 9749036     51006307725 53.689293 -59.035988 ...   131   131    32\n",
       "     ...             ...       ...        ... ...   ...   ...   ...\n",
       " 9872200    117012723162 315.64374  -58.65215 ...   179   179    44\n",
       " 9815495     92011747793 310.17432 -46.355865 ...   185   185    46\n",
       "35303094     33011682550  82.96946 -28.981165 ...    80    80    20\n",
       "18226007    108011730340 7.4192023  -43.79146 ...   138   138    34\n",
       "25199384    379010405889 34.460194  -18.44356 ...   142   142    35\n",
       "25822366    359010790446  32.13019 -2.5730739 ...    69    69    17\n",
       "16749221    121012624436 350.89316  -64.43574 ...   177   177    44\n",
       "19454221    347010366951 12.391885 0.40915513 ...    70    70    17\n",
       "24482586     19011971058 39.687027 -30.701668 ...   140   140    35\n",
       "35847197     11011415740 73.761375  -18.36123 ...    82    82    20"
      ]
     },
     "execution_count": 14,
     "metadata": {},
     "output_type": "execute_result"
    }
   ],
   "source": [
    "cat"
   ]
  },
  {
   "cell_type": "code",
   "execution_count": null,
   "metadata": {},
   "outputs": [],
   "source": [
    "# ra_min,ra_max   = 26.,30.\n",
    "# dec_min,dec_max = -44.5,-43.\n",
    "\n",
    "# mask = (cat['RA']<ra_max)&(cat['RA']>ra_min)\n",
    "# mask&= (cat['DEC']<dec_max)&(cat['DEC']>dec_min)"
   ]
  },
  {
   "cell_type": "code",
   "execution_count": null,
   "metadata": {},
   "outputs": [],
   "source": []
  },
  {
   "cell_type": "markdown",
   "metadata": {},
   "source": [
    "### Healpix Matching"
   ]
  },
  {
   "cell_type": "code",
   "execution_count": 15,
   "metadata": {},
   "outputs": [],
   "source": [
    "import sys\n",
    "# sys.path.append('/home/s1/jesteves/git/buzzardAnalysis/buzzardSelection/scripts/')\n",
    "sys.path.append('/global/u2/j/jesteves/codes/buzzardAnalysis/buzzardSelection/scripts/')\n",
    "from helper import AngularDistance,get_healpix_list"
   ]
  },
  {
   "cell_type": "code",
   "execution_count": 16,
   "metadata": {},
   "outputs": [],
   "source": [
    "rad2deg  = 180/np.pi\n",
    "rmax     = 8 #Mpc around each cluster\n",
    "\n",
    "r200     = cat['R200'][:]*0.7 ## Mpc\n",
    "DA       = AngularDistance(np.array(cat['redshift']))\n",
    "\n",
    "## compute the radii max\n",
    "cat['rmax']  = 60*(float(rmax)/DA)*rad2deg ## arcmin"
   ]
  },
  {
   "cell_type": "code",
   "execution_count": 17,
   "metadata": {},
   "outputs": [],
   "source": [
    "Nside = 16384\n",
    "cluster_tile = cat['hpx2']"
   ]
  },
  {
   "cell_type": "code",
   "execution_count": null,
   "metadata": {},
   "outputs": [],
   "source": []
  },
  {
   "cell_type": "markdown",
   "metadata": {},
   "source": [
    "### Retrieving Galaxy Catalogs"
   ]
  },
  {
   "cell_type": "code",
   "execution_count": 18,
   "metadata": {},
   "outputs": [],
   "source": [
    "def save_hdf5_output(gal,cat,outfile):\n",
    "    df  = gal.to_pandas()\n",
    "    df.to_hdf(outfile, key='members', mode='w')\n",
    "\n",
    "    gal = 0\n",
    "\n",
    "    dfc = cat.to_pandas()\n",
    "    dfc.to_hdf(outfile, key='cluster', mode='a')"
   ]
  },
  {
   "cell_type": "code",
   "execution_count": 19,
   "metadata": {},
   "outputs": [],
   "source": [
    "def load_hdf_files(infile,indices,columns,path='catalog/gold/'):\n",
    "    master = h5py.File(infile,'r')\n",
    "    gold   = master[path]\n",
    "    \n",
    "    mydict = dict().fromkeys(columns)\n",
    "    for col in columns:\n",
    "        mydict[col] = gold[col][:][indices]\n",
    "    \n",
    "    master.close()\n",
    "    return Table(mydict)"
   ]
  },
  {
   "cell_type": "code",
   "execution_count": 21,
   "metadata": {},
   "outputs": [],
   "source": [
    "from time import time"
   ]
  },
  {
   "cell_type": "code",
   "execution_count": 22,
   "metadata": {},
   "outputs": [],
   "source": [
    "fname  = path+'Buzzard_v1.9.8_Y3a_bpz.h5'\n",
    "indexes= h5py.File(fname)\n",
    "bpz    = indexes['catalog/bpz']\n",
    "\n",
    "#b_cid  = bpz['coadd_object_id'][:][maglim_idx]\n",
    "z      = bpz['z'][:][maglim_idx]\n",
    "zmean  = bpz['zmean_sof'][:][maglim_idx]\n",
    "\n",
    "indexes.close()"
   ]
  },
  {
   "cell_type": "code",
   "execution_count": 24,
   "metadata": {},
   "outputs": [],
   "source": [
    "indexes= h5py.File(fname_aux,'r')\n",
    "dnf    = indexes['catalog/dnf/unsheared']\n",
    "\n",
    "#d_cid  = dnf['coadd_object_id'][:][maglim_idx]\n",
    "#d_z    = dnf['z'][:][maglim_idx]\n",
    "d_zmean= dnf['z_mean'][:][maglim_idx]\n",
    "d_sigma= dnf['z_sigma'][:][maglim_idx]\n",
    "\n",
    "indexes.close()"
   ]
  },
  {
   "cell_type": "code",
   "execution_count": null,
   "metadata": {},
   "outputs": [],
   "source": []
  },
  {
   "cell_type": "code",
   "execution_count": null,
   "metadata": {},
   "outputs": [],
   "source": [
    "## BE CAREFULL! The cells below take about an hour to run"
   ]
  },
  {
   "cell_type": "code",
   "execution_count": 25,
   "metadata": {},
   "outputs": [],
   "source": [
    "outdir = '/global/project/projectdirs/des/jesteves/buzzardSelection/y3_v2.0.0/tiles/'\n",
    "outfile_base = outdir+'buzzard_y3_v2.0.0_golden_{}.hdf'"
   ]
  },
  {
   "cell_type": "code",
   "execution_count": 26,
   "metadata": {},
   "outputs": [
    {
     "name": "stdout",
     "output_type": "stream",
     "text": [
      "start tile: 0\n",
      "outfile saved: /global/project/projectdirs/des/jesteves/buzzardSelection/y3_v2.0.0/tiles/buzzard_y3_v2.0.0_golden_0.hdf\n",
      "partial time: 3.70 min\n",
      "run time    : 3.70 min\n",
      "\n",
      "\n",
      "start tile: 16\n",
      "outfile saved: /global/project/projectdirs/des/jesteves/buzzardSelection/y3_v2.0.0/tiles/buzzard_y3_v2.0.0_golden_16.hdf\n",
      "partial time: 3.66 min\n",
      "run time    : 7.35 min\n",
      "\n",
      "\n",
      "start tile: 17\n",
      "outfile saved: /global/project/projectdirs/des/jesteves/buzzardSelection/y3_v2.0.0/tiles/buzzard_y3_v2.0.0_golden_17.hdf\n",
      "partial time: 3.95 min\n",
      "run time    : 11.30 min\n",
      "\n",
      "\n",
      "start tile: 18\n",
      "outfile saved: /global/project/projectdirs/des/jesteves/buzzardSelection/y3_v2.0.0/tiles/buzzard_y3_v2.0.0_golden_18.hdf\n",
      "partial time: 3.53 min\n",
      "run time    : 14.83 min\n",
      "\n",
      "\n",
      "start tile: 19\n",
      "outfile saved: /global/project/projectdirs/des/jesteves/buzzardSelection/y3_v2.0.0/tiles/buzzard_y3_v2.0.0_golden_19.hdf\n",
      "partial time: 3.66 min\n",
      "run time    : 18.49 min\n",
      "\n",
      "\n",
      "start tile: 20\n",
      "outfile saved: /global/project/projectdirs/des/jesteves/buzzardSelection/y3_v2.0.0/tiles/buzzard_y3_v2.0.0_golden_20.hdf\n",
      "partial time: 4.12 min\n",
      "run time    : 22.61 min\n",
      "\n",
      "\n",
      "start tile: 22\n",
      "outfile saved: /global/project/projectdirs/des/jesteves/buzzardSelection/y3_v2.0.0/tiles/buzzard_y3_v2.0.0_golden_22.hdf\n",
      "partial time: 3.96 min\n",
      "run time    : 26.57 min\n",
      "\n",
      "\n",
      "start tile: 32\n",
      "outfile saved: /global/project/projectdirs/des/jesteves/buzzardSelection/y3_v2.0.0/tiles/buzzard_y3_v2.0.0_golden_32.hdf\n",
      "partial time: 4.36 min\n",
      "run time    : 30.93 min\n",
      "\n",
      "\n",
      "start tile: 33\n",
      "outfile saved: /global/project/projectdirs/des/jesteves/buzzardSelection/y3_v2.0.0/tiles/buzzard_y3_v2.0.0_golden_33.hdf\n",
      "partial time: 5.48 min\n",
      "run time    : 36.41 min\n",
      "\n",
      "\n",
      "start tile: 34\n",
      "outfile saved: /global/project/projectdirs/des/jesteves/buzzardSelection/y3_v2.0.0/tiles/buzzard_y3_v2.0.0_golden_34.hdf\n",
      "partial time: 6.13 min\n",
      "run time    : 42.54 min\n",
      "\n",
      "\n",
      "start tile: 35\n",
      "outfile saved: /global/project/projectdirs/des/jesteves/buzzardSelection/y3_v2.0.0/tiles/buzzard_y3_v2.0.0_golden_35.hdf\n",
      "partial time: 5.46 min\n",
      "run time    : 48.00 min\n",
      "\n",
      "\n",
      "start tile: 38\n",
      "outfile saved: /global/project/projectdirs/des/jesteves/buzzardSelection/y3_v2.0.0/tiles/buzzard_y3_v2.0.0_golden_38.hdf\n",
      "partial time: 3.63 min\n",
      "run time    : 51.63 min\n",
      "\n",
      "\n",
      "start tile: 44\n",
      "outfile saved: /global/project/projectdirs/des/jesteves/buzzardSelection/y3_v2.0.0/tiles/buzzard_y3_v2.0.0_golden_44.hdf\n",
      "partial time: 3.55 min\n",
      "run time    : 55.18 min\n",
      "\n",
      "\n",
      "start tile: 45\n",
      "outfile saved: /global/project/projectdirs/des/jesteves/buzzardSelection/y3_v2.0.0/tiles/buzzard_y3_v2.0.0_golden_45.hdf\n",
      "partial time: 3.34 min\n",
      "run time    : 58.51 min\n",
      "\n",
      "\n",
      "start tile: 46\n",
      "outfile saved: /global/project/projectdirs/des/jesteves/buzzardSelection/y3_v2.0.0/tiles/buzzard_y3_v2.0.0_golden_46.hdf\n",
      "partial time: 2.59 min\n",
      "run time    : 61.11 min\n",
      "\n",
      "\n",
      "start tile: 47\n",
      "outfile saved: /global/project/projectdirs/des/jesteves/buzzardSelection/y3_v2.0.0/tiles/buzzard_y3_v2.0.0_golden_47.hdf\n",
      "partial time: 2.15 min\n",
      "run time    : 63.26 min\n",
      "\n",
      "\n"
     ]
    }
   ],
   "source": [
    "fname  = path+'Buzzard_v1.9.8_Y3a_gold.h5'\n",
    "\n",
    "t0 = time()\n",
    "\n",
    "time_evolution = np.empty((len(tiles)+1,),dtype=np.float64)\n",
    "time_evolution[0] = t0\n",
    "\n",
    "for i, tile in enumerate(tiles):\n",
    "    print('start tile: %i'%(tile))\n",
    "    \n",
    "    w      = esutil.numpy_util.where1(cluster_tile==tile)\n",
    "    circles= get_healpix_list(cat[w],nside=Nside)\n",
    "    \n",
    "    match  = esutil.numpy_util.match(circles,hpx16384)\n",
    "    indices= maglim_idx[match[1]]\n",
    "    \n",
    "    data        = load_hdf_files(fname,indices,columns,path='catalog/gold/')\n",
    "    data['z']          = z[match[1]]\n",
    "    data['z_mean_bpz'] = zmean[match[1]]\n",
    "\n",
    "    data['z_mean_dnf'] = d_zmean[match[1]]\n",
    "    data['z_sigma_dnf']= d_sigma[match[1]]\n",
    "    \n",
    "    data['index']= indices\n",
    "    data['tile'] = tile\n",
    "    time_evolution[i+1] = time()\n",
    "    \n",
    "    outfile = outfile_base.format(tile)\n",
    "    save_hdf5_output(data,cat[w],outfile)\n",
    "    data = 0\n",
    "    print('outfile saved: %s'%(outfile))\n",
    "    \n",
    "    print('partial time: %.2f min'%((time_evolution[i+1]-time_evolution[i])/60.))\n",
    "    print('run time    : %.2f min'%((time_evolution[i+1]-time_evolution[0])/60.))\n",
    "    print('\\n')"
   ]
  },
  {
   "cell_type": "code",
   "execution_count": null,
   "metadata": {},
   "outputs": [],
   "source": []
  },
  {
   "cell_type": "code",
   "execution_count": null,
   "metadata": {},
   "outputs": [],
   "source": [
    "## In case that the memory crashes, delete the photoz variables (z,zmean,d_zmean,d_sigma) and run the cell below"
   ]
  },
  {
   "cell_type": "code",
   "execution_count": null,
   "metadata": {},
   "outputs": [],
   "source": [
    "# fname     = path+'Buzzard_v1.9.8_Y3a_gold.h5'\n",
    "# fname_bpz = path+'Buzzard_v1.9.8_Y3a_bpz.h5'\n",
    "# fname_dnf = fname_aux\n",
    "\n",
    "# t0 = time()\n",
    "\n",
    "# time_evolution = np.empty((len(tiles)+1,),dtype=np.float64)\n",
    "# time_evolution[0] = t0\n",
    "\n",
    "# for i, tile in enumerate(tiles):\n",
    "#     print('start tile: %i'%(tile))\n",
    "    \n",
    "#     w      = esutil.numpy_util.where1(cluster_tile==tile)\n",
    "#     circles= get_healpix_list(cat[w],nside=Nside)\n",
    "    \n",
    "#     match  = esutil.numpy_util.match(circles,hpx16384)\n",
    "#     indices= maglim_idx[match[1]]\n",
    "    \n",
    "#     data = load_hdf_files(fname,indices,columns,path='catalog/gold/')\n",
    "#     bpz  = load_hdf_files(fname_bpz,indices,['z','zmean_sof'],path='catalog/bpz/')\n",
    "#     dnf  = load_hdf_files(fname_aux,indices,['z_mean','z_sigma'],path='catalog/dnf/unsheared')\n",
    "    \n",
    "#     data['z']          = bpz['z']\n",
    "#     data['z_mean_bpz'] = bpz['zmean_sof']\n",
    "\n",
    "#     data['z_mean_dnf'] = dnf['z_mean']\n",
    "#     data['z_sigma_dnf']= dnf['z_sigma']\n",
    "    \n",
    "#     data['index']= indices\n",
    "#     data['tile'] = tile\n",
    "#     time_evolution[i+1] = time()\n",
    "    \n",
    "#     outfile = outfile_base.format(tile)\n",
    "#     save_hdf5_output(data,cat[w],outfile)\n",
    "#     data = 0\n",
    "#     print('outfile saved: %s'%(outfile))\n",
    "    \n",
    "#     print('partial time: %.2f min'%((time_evolution[i+1]-time_evolution[i])/60.))\n",
    "#     print('run time    : %.2f min'%((time_evolution[i+1]-time_evolution[0])/60.))\n",
    "#     print('\\n')"
   ]
  },
  {
   "cell_type": "code",
   "execution_count": null,
   "metadata": {},
   "outputs": [],
   "source": []
  },
  {
   "cell_type": "code",
   "execution_count": 29,
   "metadata": {},
   "outputs": [],
   "source": [
    "def upload_dataFrame(infile,keys='members'):\n",
    "    hdf = pd.HDFStore(infile, mode='r')\n",
    "    df1 = hdf.get(keys)\n",
    "    hdf.close()\n",
    "    data = Table.from_pandas(df1)\n",
    "    return data"
   ]
  },
  {
   "cell_type": "code",
   "execution_count": 30,
   "metadata": {},
   "outputs": [],
   "source": [
    "gi = upload_dataFrame(outfile,keys='members')"
   ]
  },
  {
   "cell_type": "code",
   "execution_count": 31,
   "metadata": {},
   "outputs": [
    {
     "data": {
      "text/html": [
       "<i>Table length=49915</i>\n",
       "<table id=\"table46913295760304\" class=\"table-striped table-bordered table-condensed\">\n",
       "<thead><tr><th>hpix_16384</th><th>haloid</th><th>coadd_object_id</th><th>ra</th><th>dec</th><th>rhalo</th><th>mag_g</th><th>mag_r</th><th>mag_i</th><th>mag_z</th><th>mag_err_g</th><th>mag_err_r</th><th>mag_err_i</th><th>mag_err_z</th><th>z</th><th>z_mean_bpz</th><th>z_mean_dnf</th><th>z_sigma_dnf</th><th>index</th><th>tile</th></tr></thead>\n",
       "<thead><tr><th>int64</th><th>int64</th><th>int64</th><th>float32</th><th>float32</th><th>float32</th><th>float32</th><th>float32</th><th>float32</th><th>float32</th><th>float32</th><th>float32</th><th>float32</th><th>float32</th><th>float64</th><th>float64</th><th>float64</th><th>float64</th><th>int64</th><th>int64</th></tr></thead>\n",
       "<tr><td>3064657407</td><td>5397372</td><td>92013877850</td><td>315.83423</td><td>-41.166946</td><td>0.3893052</td><td>24.214985</td><td>23.082664</td><td>21.943321</td><td>21.484495</td><td>0.15410835</td><td>0.07847097</td><td>0.05111631</td><td>0.06655677</td><td>0.7806934386287971</td><td>0.84604325284775</td><td>0.7874917531364563</td><td>0.18165798585744947</td><td>1485824462</td><td>47</td></tr>\n",
       "<tr><td>3064657407</td><td>2015368</td><td>92003053490</td><td>315.83438</td><td>-41.166195</td><td>10.669951</td><td>25.762804</td><td>24.762472</td><td>23.990316</td><td>23.332554</td><td>0.5765526</td><td>0.30017278</td><td>0.23726188</td><td>0.26487768</td><td>1.2525785722239833</td><td>0.9350732874143346</td><td>0.0</td><td>0.0</td><td>1485824467</td><td>47</td></tr>\n",
       "<tr><td>3064657654</td><td>0</td><td>92007542319</td><td>315.75107</td><td>-41.17679</td><td>0.0</td><td>24.154764</td><td>23.958399</td><td>23.417912</td><td>23.13009</td><td>0.15116167</td><td>0.15347464</td><td>0.15616585</td><td>0.24414964</td><td>1.2124518015885908</td><td>1.059844031847911</td><td>0.0</td><td>0.0</td><td>1485825225</td><td>47</td></tr>\n",
       "<tr><td>3064657655</td><td>0</td><td>92007370431</td><td>315.75214</td><td>-41.174427</td><td>0.0</td><td>24.40947</td><td>23.666586</td><td>22.975037</td><td>22.273886</td><td>0.1888624</td><td>0.120190874</td><td>0.11290214</td><td>0.12635133</td><td>1.1121572311031906</td><td>1.0807476060291545</td><td>1.0311749332615632</td><td>0.2785002820332065</td><td>1485825228</td><td>47</td></tr>\n",
       "<tr><td>3064657657</td><td>10574284</td><td>92004020439</td><td>315.74512</td><td>-41.173836</td><td>2.1218765</td><td>22.748802</td><td>21.650936</td><td>21.19387</td><td>20.913246</td><td>0.053832486</td><td>0.029785624</td><td>0.03398461</td><td>0.049767993</td><td>0.5003165854392774</td><td>0.448819609012675</td><td>0.4795591467959941</td><td>0.17435796294121503</td><td>1485825232</td><td>47</td></tr>\n",
       "<tr><td>3064657658</td><td>9682307</td><td>92001915843</td><td>315.73932</td><td>-41.17373</td><td>4.5749574</td><td>23.463907</td><td>22.558416</td><td>22.59035</td><td>22.147312</td><td>0.08759026</td><td>0.052333146</td><td>0.08827649</td><td>0.1119975</td><td>0.413520283626352</td><td>0.39568823560173444</td><td>0.3798394785717166</td><td>0.12228874528756593</td><td>1485825237</td><td>47</td></tr>\n",
       "<tr><td>3064657658</td><td>2887771</td><td>92001107578</td><td>315.7377</td><td>-41.17434</td><td>4.70293</td><td>24.512281</td><td>23.909216</td><td>23.599592</td><td>24.082588</td><td>0.20410824</td><td>0.14817967</td><td>0.1852105</td><td>0.56779593</td><td>0.2980679520062909</td><td>0.7882541862225915</td><td>0.0</td><td>0.0</td><td>1485825238</td><td>47</td></tr>\n",
       "<tr><td>3064657658</td><td>10683727</td><td>92013866887</td><td>315.7374</td><td>-41.175907</td><td>0.18544433</td><td>24.718327</td><td>22.816864</td><td>21.675097</td><td>21.245049</td><td>0.25055555</td><td>0.062673435</td><td>0.045169327</td><td>0.061290633</td><td>0.7513691074382574</td><td>0.7505762678636182</td><td>0.691175128039351</td><td>0.08425278018901583</td><td>1485825239</td><td>47</td></tr>\n",
       "<tr><td>3064657658</td><td>10561434</td><td>92003972638</td><td>315.74088</td><td>-41.17512</td><td>3.0913527</td><td>22.612139</td><td>20.885336</td><td>20.134947</td><td>19.773241</td><td>0.048405066</td><td>0.01912919</td><td>0.018650504</td><td>0.025937432</td><td>0.4753330771903035</td><td>0.5394109412229475</td><td>0.5034418693933682</td><td>0.056004286953660776</td><td>1485825242</td><td>47</td></tr>\n",
       "<tr><td>3064657659</td><td>10688649</td><td>92011938414</td><td>315.7415</td><td>-41.1741</td><td>6.1750975</td><td>24.063131</td><td>23.470514</td><td>22.754276</td><td>22.673426</td><td>0.14114377</td><td>0.10647743</td><td>0.09616139</td><td>0.17121</td><td>0.6976109412499115</td><td>0.7936626483303307</td><td>0.7596016808708159</td><td>0.6089825305102252</td><td>1485825245</td><td>47</td></tr>\n",
       "<tr><td>...</td><td>...</td><td>...</td><td>...</td><td>...</td><td>...</td><td>...</td><td>...</td><td>...</td><td>...</td><td>...</td><td>...</td><td>...</td><td>...</td><td>...</td><td>...</td><td>...</td><td>...</td><td>...</td><td>...</td></tr>\n",
       "<tr><td>3154223104</td><td>7300876</td><td>86000397512</td><td>315.17352</td><td>-40.42033</td><td>7.895666</td><td>25.103434</td><td>24.183203</td><td>23.412521</td><td>24.294395</td><td>0.46986136</td><td>0.26781535</td><td>0.25776583</td><td>0.81770444</td><td>0.1075278004652754</td><td>0.7242009307169367</td><td>0.0</td><td>0.0</td><td>1504569573</td><td>47</td></tr>\n",
       "<tr><td>3154223108</td><td>10585172</td><td>86004251311</td><td>315.1824</td><td>-40.41508</td><td>4.1561327</td><td>24.367975</td><td>23.790155</td><td>23.450731</td><td>23.045097</td><td>0.24285005</td><td>0.19828165</td><td>0.2825185</td><td>0.27410367</td><td>0.48974178349176073</td><td>0.8613804590034487</td><td>0.0</td><td>0.0</td><td>1504569581</td><td>47</td></tr>\n",
       "<tr><td>3154223109</td><td>0</td><td>86007782935</td><td>315.18423</td><td>-40.411568</td><td>0.0</td><td>25.41728</td><td>24.615854</td><td>23.749887</td><td>24.65968</td><td>0.59242785</td><td>0.37767932</td><td>0.33778715</td><td>1.1309084</td><td>1.178475238240908</td><td>0.8655261912196669</td><td>0.0</td><td>0.0</td><td>1504569592</td><td>47</td></tr>\n",
       "<tr><td>3154223111</td><td>5396059</td><td>86014003492</td><td>315.18008</td><td>-40.40835</td><td>7.329059</td><td>23.606525</td><td>22.912584</td><td>22.251955</td><td>21.87542</td><td>0.1310226</td><td>0.09600227</td><td>0.11065816</td><td>0.10917666</td><td>0.8057520160688046</td><td>0.8716270217939318</td><td>0.8135300568673032</td><td>0.37855369691818763</td><td>1504569599</td><td>47</td></tr>\n",
       "<tr><td>3154223113</td><td>5433905</td><td>86012906872</td><td>315.17526</td><td>-40.411274</td><td>6.9189806</td><td>25.14858</td><td>23.733265</td><td>23.016378</td><td>22.049269</td><td>0.463165</td><td>0.17686033</td><td>0.19646907</td><td>0.1230699</td><td>0.9053594696345665</td><td>1.0670327847460541</td><td>0.0</td><td>0.0</td><td>1504569609</td><td>47</td></tr>\n",
       "<tr><td>3154223116</td><td>2866728</td><td>86001169072</td><td>315.17444</td><td>-40.407314</td><td>4.086159</td><td>25.232548</td><td>24.265448</td><td>23.548138</td><td>24.053534</td><td>0.51673114</td><td>0.2926692</td><td>0.2971505</td><td>0.6704193</td><td>0.3028913912556601</td><td>0.7635594999218444</td><td>0.0</td><td>0.0</td><td>1504569617</td><td>47</td></tr>\n",
       "<tr><td>3154223116</td><td>10637044</td><td>86011043623</td><td>315.17368</td><td>-40.408054</td><td>3.4639347</td><td>25.762606</td><td>23.979845</td><td>23.83899</td><td>23.25455</td><td>0.82443243</td><td>0.22084576</td><td>0.3860799</td><td>0.31822833</td><td>0.5876157334737668</td><td>0.7250090919540215</td><td>0.0</td><td>0.0</td><td>1504569622</td><td>47</td></tr>\n",
       "<tr><td>3154223117</td><td>10564450</td><td>86004075368</td><td>315.1769</td><td>-40.405697</td><td>5.2697277</td><td>22.553638</td><td>21.73454</td><td>21.344332</td><td>21.09221</td><td>0.0603102</td><td>0.044474695</td><td>0.059188157</td><td>0.063648984</td><td>0.4879122969226103</td><td>0.3771501559386383</td><td>0.3525225887164898</td><td>0.3312221329064391</td><td>1504569624</td><td>47</td></tr>\n",
       "<tr><td>3154223117</td><td>2866728</td><td>86001123510</td><td>315.1783</td><td>-40.403175</td><td>4.184885</td><td>24.144186</td><td>23.415741</td><td>23.131306</td><td>23.510294</td><td>0.20136674</td><td>0.14078407</td><td>0.20993586</td><td>0.4166564</td><td>0.3028187892185752</td><td>0.5800972455212441</td><td>0.0</td><td>0.0</td><td>1504569626</td><td>47</td></tr>\n",
       "<tr><td>3154223119</td><td>10686198</td><td>86014223858</td><td>315.1758</td><td>-40.402878</td><td>3.62773</td><td>25.732521</td><td>24.117638</td><td>23.384783</td><td>23.120485</td><td>0.8163186</td><td>0.25168946</td><td>0.26092154</td><td>0.288638</td><td>0.7530784954800158</td><td>0.7373888457119434</td><td>0.0</td><td>0.0</td><td>1504569628</td><td>47</td></tr>\n",
       "</table>"
      ],
      "text/plain": [
       "<Table length=49915>\n",
       "hpix_16384  haloid  coadd_object_id ...     z_sigma_dnf        index     tile\n",
       "  int64     int64        int64      ...       float64          int64    int64\n",
       "---------- -------- --------------- ... -------------------- ---------- -----\n",
       "3064657407  5397372     92013877850 ...  0.18165798585744947 1485824462    47\n",
       "3064657407  2015368     92003053490 ...                  0.0 1485824467    47\n",
       "3064657654        0     92007542319 ...                  0.0 1485825225    47\n",
       "3064657655        0     92007370431 ...   0.2785002820332065 1485825228    47\n",
       "3064657657 10574284     92004020439 ...  0.17435796294121503 1485825232    47\n",
       "3064657658  9682307     92001915843 ...  0.12228874528756593 1485825237    47\n",
       "3064657658  2887771     92001107578 ...                  0.0 1485825238    47\n",
       "3064657658 10683727     92013866887 ...  0.08425278018901583 1485825239    47\n",
       "3064657658 10561434     92003972638 ... 0.056004286953660776 1485825242    47\n",
       "3064657659 10688649     92011938414 ...   0.6089825305102252 1485825245    47\n",
       "       ...      ...             ... ...                  ...        ...   ...\n",
       "3154223104  7300876     86000397512 ...                  0.0 1504569573    47\n",
       "3154223108 10585172     86004251311 ...                  0.0 1504569581    47\n",
       "3154223109        0     86007782935 ...                  0.0 1504569592    47\n",
       "3154223111  5396059     86014003492 ...  0.37855369691818763 1504569599    47\n",
       "3154223113  5433905     86012906872 ...                  0.0 1504569609    47\n",
       "3154223116  2866728     86001169072 ...                  0.0 1504569617    47\n",
       "3154223116 10637044     86011043623 ...                  0.0 1504569622    47\n",
       "3154223117 10564450     86004075368 ...   0.3312221329064391 1504569624    47\n",
       "3154223117  2866728     86001123510 ...                  0.0 1504569626    47\n",
       "3154223119 10686198     86014223858 ...                  0.0 1504569628    47"
      ]
     },
     "execution_count": 31,
     "metadata": {},
     "output_type": "execute_result"
    }
   ],
   "source": [
    "gi"
   ]
  },
  {
   "cell_type": "code",
   "execution_count": null,
   "metadata": {},
   "outputs": [],
   "source": []
  }
 ],
 "metadata": {
  "kernelspec": {
   "display_name": "desc-python-bleed",
   "language": "python",
   "name": "desc-python-bleed"
  },
  "language_info": {
   "codemirror_mode": {
    "name": "ipython",
    "version": 3
   },
   "file_extension": ".py",
   "mimetype": "text/x-python",
   "name": "python",
   "nbconvert_exporter": "python",
   "pygments_lexer": "ipython3",
   "version": "3.8.10"
  }
 },
 "nbformat": 4,
 "nbformat_minor": 4
}
