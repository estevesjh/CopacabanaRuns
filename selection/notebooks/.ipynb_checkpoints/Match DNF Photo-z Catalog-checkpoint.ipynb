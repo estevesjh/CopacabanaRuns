{
 "cells": [
  {
   "cell_type": "code",
   "execution_count": 1,
   "metadata": {},
   "outputs": [],
   "source": [
    "import numpy as np\n",
    "import os\n",
    "\n",
    "from astropy.table import Table, vstack\n",
    "from astropy.io.fits import getdata\n",
    "import matplotlib.pyplot as plt"
   ]
  },
  {
   "cell_type": "code",
   "execution_count": null,
   "metadata": {},
   "outputs": [],
   "source": []
  },
  {
   "cell_type": "code",
   "execution_count": 2,
   "metadata": {},
   "outputs": [],
   "source": [
    "path0 = '/data/des61.a/data/johnny/DESY3/desy3/data/photoz/dnf_gold_2_2/'\n",
    "infile = path0+ 'dnf_gold_2_2_{:06d}.fits'"
   ]
  },
  {
   "cell_type": "code",
   "execution_count": 22,
   "metadata": {},
   "outputs": [
    {
     "name": "stdout",
     "output_type": "stream",
     "text": [
      "/data/des61.a/data/johnny/DESY3/desy3/data/photoz/dnf_gold_2_2/dnf_gold_2_2_000001.fits\n",
      "/data/des61.a/data/johnny/DESY3/desy3/data/photoz/dnf_gold_2_2/dnf_gold_2_2_000002.fits\n",
      "/data/des61.a/data/johnny/DESY3/desy3/data/photoz/dnf_gold_2_2/dnf_gold_2_2_000003.fits\n",
      "/data/des61.a/data/johnny/DESY3/desy3/data/photoz/dnf_gold_2_2/dnf_gold_2_2_000004.fits\n",
      "/data/des61.a/data/johnny/DESY3/desy3/data/photoz/dnf_gold_2_2/dnf_gold_2_2_000005.fits\n",
      "/data/des61.a/data/johnny/DESY3/desy3/data/photoz/dnf_gold_2_2/dnf_gold_2_2_000006.fits\n",
      "/data/des61.a/data/johnny/DESY3/desy3/data/photoz/dnf_gold_2_2/dnf_gold_2_2_000007.fits\n",
      "/data/des61.a/data/johnny/DESY3/desy3/data/photoz/dnf_gold_2_2/dnf_gold_2_2_000008.fits\n",
      "/data/des61.a/data/johnny/DESY3/desy3/data/photoz/dnf_gold_2_2/dnf_gold_2_2_000009.fits\n"
     ]
    }
   ],
   "source": [
    "table_list = []\n",
    "for i in range(9):\n",
    "    infilei = infile.format(i+1)\n",
    "    print(infilei)\n",
    "    data = Table(getdata(infilei))\n",
    "    table_list.append(data)"
   ]
  },
  {
   "cell_type": "code",
   "execution_count": 23,
   "metadata": {},
   "outputs": [],
   "source": [
    "data = vstack(table_list)\n",
    "table_list = 0"
   ]
  },
  {
   "cell_type": "code",
   "execution_count": 24,
   "metadata": {},
   "outputs": [
    {
     "data": {
      "text/plain": [
       "['COADD_OBJECT_ID',\n",
       " 'RA',\n",
       " 'DEC',\n",
       " 'DNF_ZMC_SOF',\n",
       " 'DNF_ZMEAN_SOF',\n",
       " 'DNF_ZSIGMA_SOF']"
      ]
     },
     "execution_count": 24,
     "metadata": {},
     "output_type": "execute_result"
    }
   ],
   "source": [
    "data.colnames"
   ]
  },
  {
   "cell_type": "code",
   "execution_count": 25,
   "metadata": {},
   "outputs": [
    {
     "data": {
      "text/plain": [
       "180.582079"
      ]
     },
     "execution_count": 25,
     "metadata": {},
     "output_type": "execute_result"
    }
   ],
   "source": [
    "len(data)*1e-6"
   ]
  },
  {
   "cell_type": "code",
   "execution_count": 26,
   "metadata": {},
   "outputs": [
    {
     "data": {
      "text/html": [
       "&lt;Table length=180582079&gt;\n",
       "<table id=\"table139972057814096\" class=\"table-striped table-bordered table-condensed\">\n",
       "<thead><tr><th>COADD_OBJECT_ID</th><th>RA</th><th>DEC</th><th>DNF_ZMC_SOF</th><th>DNF_ZMEAN_SOF</th><th>DNF_ZSIGMA_SOF</th></tr></thead>\n",
       "<thead><tr><th>int64</th><th>float64</th><th>float64</th><th>float64</th><th>float64</th><th>float64</th></tr></thead>\n",
       "<tr><td>101129851</td><td>34.596882</td><td>-4.503443</td><td>0.7920100092887878</td><td>0.9763073325157166</td><td>0.16953787207603455</td></tr>\n",
       "<tr><td>66833539</td><td>30.946015</td><td>-1.14108</td><td>0.5400000214576721</td><td>0.5064876675605774</td><td>0.24916523694992065</td></tr>\n",
       "<tr><td>102166099</td><td>34.442172</td><td>-14.877021</td><td>0.872829020023346</td><td>0.8975903987884521</td><td>0.1404227763414383</td></tr>\n",
       "<tr><td>102167372</td><td>34.465097</td><td>-14.896209</td><td>0.9096819758415222</td><td>0.8423948884010315</td><td>0.0794684961438179</td></tr>\n",
       "<tr><td>101123285</td><td>34.245532</td><td>-4.356136</td><td>0.6815310120582581</td><td>0.789398193359375</td><td>0.06013130024075508</td></tr>\n",
       "<tr><td>76954621</td><td>31.543579</td><td>-2.916136</td><td>1.1389100551605225</td><td>0.6012179255485535</td><td>0.24335616827011108</td></tr>\n",
       "<tr><td>86803797</td><td>32.723877</td><td>-26.1371</td><td>0.16120000183582306</td><td>0.19576047360897064</td><td>0.1020866334438324</td></tr>\n",
       "<tr><td>101135114</td><td>34.413374</td><td>-4.613225</td><td>1.2144999504089355</td><td>0.8000852465629578</td><td>0.5687243342399597</td></tr>\n",
       "<tr><td>64339834</td><td>30.065321</td><td>-20.479466</td><td>0.2959499955177307</td><td>0.3088899850845337</td><td>0.011596125550568104</td></tr>\n",
       "<tr><td>86812527</td><td>32.842474</td><td>-26.167747</td><td>0.8084830045700073</td><td>0.8530868887901306</td><td>0.17786401510238647</td></tr>\n",
       "<tr><td>...</td><td>...</td><td>...</td><td>...</td><td>...</td><td>...</td></tr>\n",
       "<tr><td>164351542</td><td>300.364344</td><td>-58.832326</td><td>0.4048500061035156</td><td>0.4725522994995117</td><td>0.0734078660607338</td></tr>\n",
       "<tr><td>467908474</td><td>97.06575</td><td>-57.643966</td><td>0.8656870126724243</td><td>1.186987042427063</td><td>0.16882064938545227</td></tr>\n",
       "<tr><td>467908723</td><td>97.751188</td><td>-57.646741</td><td>1.108489990234375</td><td>0.9405578970909119</td><td>0.14398521184921265</td></tr>\n",
       "<tr><td>467909895</td><td>97.774457</td><td>-57.665519</td><td>0.8708699941635132</td><td>0.8139638304710388</td><td>0.048257969319820404</td></tr>\n",
       "<tr><td>467912955</td><td>97.112021</td><td>-57.720166</td><td>1.3454099893569946</td><td>0.9425478577613831</td><td>0.142636239528656</td></tr>\n",
       "<tr><td>462700976</td><td>93.787</td><td>-57.60909</td><td>0.06469999998807907</td><td>0.12941184639930725</td><td>0.010693199932575226</td></tr>\n",
       "<tr><td>462703561</td><td>93.559486</td><td>-57.636575</td><td>0.7472339868545532</td><td>0.685204803943634</td><td>0.165680930018425</td></tr>\n",
       "<tr><td>462709092</td><td>93.025718</td><td>-57.703846</td><td>1.2680699825286865</td><td>1.3130626678466797</td><td>0.17197832465171814</td></tr>\n",
       "<tr><td>467152336</td><td>95.694545</td><td>-57.65017</td><td>0.5513100028038025</td><td>0.35442712903022766</td><td>0.04850035533308983</td></tr>\n",
       "<tr><td>467157382</td><td>96.22506</td><td>-57.731316</td><td>0.8679959774017334</td><td>0.8209981322288513</td><td>0.0674920454621315</td></tr>\n",
       "</table>"
      ],
      "text/plain": [
       "<Table length=180582079>\n",
       "COADD_OBJECT_ID     RA     ...    DNF_ZMEAN_SOF       DNF_ZSIGMA_SOF   \n",
       "     int64       float64   ...       float64             float64       \n",
       "--------------- ---------- ... ------------------- --------------------\n",
       "      101129851  34.596882 ...  0.9763073325157166  0.16953787207603455\n",
       "       66833539  30.946015 ...  0.5064876675605774  0.24916523694992065\n",
       "      102166099  34.442172 ...  0.8975903987884521   0.1404227763414383\n",
       "      102167372  34.465097 ...  0.8423948884010315   0.0794684961438179\n",
       "      101123285  34.245532 ...   0.789398193359375  0.06013130024075508\n",
       "       76954621  31.543579 ...  0.6012179255485535  0.24335616827011108\n",
       "       86803797  32.723877 ... 0.19576047360897064   0.1020866334438324\n",
       "      101135114  34.413374 ...  0.8000852465629578   0.5687243342399597\n",
       "       64339834  30.065321 ...  0.3088899850845337 0.011596125550568104\n",
       "       86812527  32.842474 ...  0.8530868887901306  0.17786401510238647\n",
       "            ...        ... ...                 ...                  ...\n",
       "      164351542 300.364344 ...  0.4725522994995117   0.0734078660607338\n",
       "      467908474   97.06575 ...   1.186987042427063  0.16882064938545227\n",
       "      467908723  97.751188 ...  0.9405578970909119  0.14398521184921265\n",
       "      467909895  97.774457 ...  0.8139638304710388 0.048257969319820404\n",
       "      467912955  97.112021 ...  0.9425478577613831    0.142636239528656\n",
       "      462700976     93.787 ... 0.12941184639930725 0.010693199932575226\n",
       "      462703561  93.559486 ...   0.685204803943634    0.165680930018425\n",
       "      462709092  93.025718 ...  1.3130626678466797  0.17197832465171814\n",
       "      467152336  95.694545 ... 0.35442712903022766  0.04850035533308983\n",
       "      467157382   96.22506 ...  0.8209981322288513   0.0674920454621315"
      ]
     },
     "execution_count": 26,
     "metadata": {},
     "output_type": "execute_result"
    }
   ],
   "source": [
    "data"
   ]
  },
  {
   "cell_type": "code",
   "execution_count": 27,
   "metadata": {},
   "outputs": [],
   "source": [
    "ra1, dec1 = np.array(data['RA']), np.array(data['DEC'])\n",
    "zmean = np.array(data['DNF_ZMEAN_SOF'])"
   ]
  },
  {
   "cell_type": "code",
   "execution_count": null,
   "metadata": {},
   "outputs": [],
   "source": []
  },
  {
   "cell_type": "code",
   "execution_count": 10,
   "metadata": {},
   "outputs": [],
   "source": [
    "import pandas as pd\n",
    "def upload_dataFrame(infile,keys='members'):\n",
    "    hdf = pd.HDFStore(infile, mode='r')\n",
    "    df1 = hdf.get(keys)\n",
    "    hdf.close()\n",
    "    data = Table.from_pandas(df1)\n",
    "    return data"
   ]
  },
  {
   "cell_type": "code",
   "execution_count": 11,
   "metadata": {},
   "outputs": [],
   "source": [
    "hi = 32\n",
    "outfile_base = '/data/des61.a/data/johnny/DESY3/desy3/data/spt/cutouts/y3_gold_2.2.1_wide_sofcol_run_join_2500d_sptecs_hpx2_{:05d}.hdf5'\n",
    "outfile = outfile_base.format(hi)\n",
    "\n",
    "tab0= upload_dataFrame(outfile,keys='members')\n",
    "tab = tab0[np.random.randint(len(tab0),size=1000)]\n",
    "\n",
    "tab0 = 0"
   ]
  },
  {
   "cell_type": "code",
   "execution_count": 13,
   "metadata": {},
   "outputs": [
    {
     "data": {
      "image/png": "[encoded data removed]",
      "text/plain": [
       "<Figure size 432x288 with 1 Axes>"
      ]
     },
     "metadata": {},
     "output_type": "display_data"
    }
   ],
   "source": [
    "plt.scatter(tab['ra'], tab['dec'])\n",
    "\n",
    "ra_min, ra_max = np.min(tab['ra']), np.max(tab['ra'])\n",
    "dec_min, dec_max = np.min(tab['dec']), np.max(tab['dec'])"
   ]
  },
  {
   "cell_type": "code",
   "execution_count": 28,
   "metadata": {},
   "outputs": [],
   "source": [
    "sky_cut = (ra1>ra_min)&(ra1<ra_max)\n",
    "sky_cut&= (dec1>dec_min)&(dec1<dec_max)\n",
    "\n",
    "data = data[sky_cut]\n",
    "ra1, dec1 = np.array(data['RA']), np.array(data['DEC'])\n",
    "zmean = np.array(data['DNF_ZMEAN_SOF'])"
   ]
  },
  {
   "cell_type": "code",
   "execution_count": 30,
   "metadata": {},
   "outputs": [
    {
     "data": {
      "text/plain": [
       "28.225116"
      ]
     },
     "execution_count": 30,
     "metadata": {},
     "output_type": "execute_result"
    }
   ],
   "source": [
    "len(data)*1e-6"
   ]
  },
  {
   "cell_type": "markdown",
   "metadata": {},
   "source": [
    "# Checking DNF Sample"
   ]
  },
  {
   "cell_type": "markdown",
   "metadata": {},
   "source": [
    "### Sky Match"
   ]
  },
  {
   "cell_type": "code",
   "execution_count": 32,
   "metadata": {},
   "outputs": [],
   "source": [
    "import smatch"
   ]
  },
  {
   "cell_type": "code",
   "execution_count": 33,
   "metadata": {},
   "outputs": [],
   "source": [
    "nside=int(4096) # healpix nside\n",
    "maxmatch=1 # return closest match\n",
    "\n",
    "# ra,dec,radius in degrees\n",
    "m = smatch.match(tab['ra'], tab['dec'], 1./3600, ra1, dec1,\n",
    "                       nside=nside, maxmatch=maxmatch)"
   ]
  },
  {
   "cell_type": "code",
   "execution_count": 39,
   "metadata": {},
   "outputs": [
    {
     "name": "stdout",
     "output_type": "stream",
     "text": [
      "ratio 0.3630\n"
     ]
    }
   ],
   "source": [
    "print('ratio %.4f'%(1.*m['i1'].size/len(tab)))\n",
    "# print('ratio %.4f'%(1.*m[1].size/len(data)))"
   ]
  },
  {
   "cell_type": "code",
   "execution_count": 43,
   "metadata": {},
   "outputs": [],
   "source": [
    "import esutil\n",
    "t_cid, indices = np.unique(np.array(tab['coadd_object_id'][:]),return_index=True)\n",
    "m = esutil.numpy_util.match(t_cid,data['COADD_OBJECT_ID'])"
   ]
  },
  {
   "cell_type": "code",
   "execution_count": 44,
   "metadata": {},
   "outputs": [
    {
     "name": "stdout",
     "output_type": "stream",
     "text": [
      "ratio 0.3630\n"
     ]
    }
   ],
   "source": [
    "print('ratio %.4f'%(1.*m[0].size/len(tab)))"
   ]
  },
  {
   "cell_type": "code",
   "execution_count": null,
   "metadata": {},
   "outputs": [],
   "source": []
  },
  {
   "cell_type": "code",
   "execution_count": null,
   "metadata": {},
   "outputs": [],
   "source": []
  },
  {
   "cell_type": "markdown",
   "metadata": {},
   "source": [
    "### Sample Match"
   ]
  },
  {
   "cell_type": "code",
   "execution_count": 68,
   "metadata": {},
   "outputs": [],
   "source": [
    "nside=int(2*4096) # healpix nside\n",
    "maxmatch=1 # return closest match\n",
    "\n",
    "# ra,dec,radius in degrees\n",
    "matches = smatch.match(ra, dec, 1./3600, ra1, dec1,\n",
    "                       nside=nside, maxmatch=maxmatch)\n",
    "\n",
    "# access via the indices\n",
    "matchs = [matches['i2'][:],matches['i1'][:]]"
   ]
  },
  {
   "cell_type": "code",
   "execution_count": 69,
   "metadata": {},
   "outputs": [],
   "source": [
    "import esutil\n",
    "d_cid, indices = np.unique(np.array(data['COADD_OBJECT_ID'][:]),return_index=True)\n",
    "matchs = esutil.numpy_util.match(d_cid,cid)"
   ]
  },
  {
   "cell_type": "code",
   "execution_count": 70,
   "metadata": {},
   "outputs": [],
   "source": [
    "m2 = [matchs[1],matchs[0]]\n",
    "matchs = m2"
   ]
  },
  {
   "cell_type": "code",
   "execution_count": 71,
   "metadata": {},
   "outputs": [
    {
     "name": "stdout",
     "output_type": "stream",
     "text": [
      "1.971301E+07, 2.187410E+07\n",
      "ratio 0.9012\n"
     ]
    }
   ],
   "source": [
    "Nmatch = matchs[1].size\n",
    "Ndata  = len(dec)\n",
    "\n",
    "print('%E, %E'%(Nmatch,Ndata))\n",
    "print('ratio %.4f'%(1.*Nmatch/Ndata))"
   ]
  },
  {
   "cell_type": "code",
   "execution_count": 72,
   "metadata": {},
   "outputs": [
    {
     "name": "stdout",
     "output_type": "stream",
     "text": [
      "1.971301E+07, 1.805821E+08\n",
      "ratio 0.1092\n"
     ]
    }
   ],
   "source": [
    "Nmatch = matchs[0].size\n",
    "Ndata  = len(ra1)\n",
    "\n",
    "print('%E, %E'%(Nmatch,Ndata))\n",
    "print('ratio %.4f'%(1.*Nmatch/Ndata))"
   ]
  },
  {
   "cell_type": "code",
   "execution_count": null,
   "metadata": {},
   "outputs": [],
   "source": []
  },
  {
   "cell_type": "code",
   "execution_count": null,
   "metadata": {},
   "outputs": [],
   "source": [
    "dnf1 = data['DNF_ZMEAN_SOF'][matchs[0]]\n",
    "dnf2 = d_zmean[matchs[1]]"
   ]
  },
  {
   "cell_type": "code",
   "execution_count": null,
   "metadata": {},
   "outputs": [],
   "source": [
    "plt.scatter(dnf1[::20],dnf2[::20])\n",
    "plt.xlim(0,1)\n",
    "plt.ylim(0,1)"
   ]
  },
  {
   "cell_type": "code",
   "execution_count": null,
   "metadata": {},
   "outputs": [],
   "source": []
  },
  {
   "cell_type": "code",
   "execution_count": null,
   "metadata": {},
   "outputs": [],
   "source": []
  },
  {
   "cell_type": "code",
   "execution_count": 34,
   "metadata": {},
   "outputs": [],
   "source": [
    "#matchs = match\n",
    "\n",
    "## Save File\n",
    "z    = d_zmean\n",
    "zmc  = -99.*np.ones_like(ra)\n",
    "zerr = -99.*np.ones_like(ra)\n",
    "ztrue= -99.*np.ones_like(ra)\n",
    "\n",
    "z[matchs[1]] = data['DNF_ZMEAN_SOF'][matchs[0]]\n",
    "zerr[matchs[1]] = data['DNF_ZSIGMA_SOF'][matchs[0]]\n",
    "zmc[matchs[1]] = data['DNF_ZMC_SOF'][matchs[0]]\n",
    "ztrue[matchs[1]] = zt[matchs[0]]\n",
    "\n",
    "cols = ['indices','coadd_object_id','ra','dec','Z','DNF_ZMEAN_SOF','DNF_ZSIGMA_SOF','DNF_ZMC_SOF']\n",
    "data_list = [maglim_idx,cid,ra,dec,ztrue,z,zerr,zmc]\n"
   ]
  },
  {
   "cell_type": "code",
   "execution_count": 35,
   "metadata": {},
   "outputs": [],
   "source": [
    "outfile = path0+'y3_gold_2_2.1_dnf_subsampled_jesteves.h5'\n",
    "\n",
    "master = h5py.File(outfile,'w')\n",
    "master.create_group('catalog')\n",
    "\n",
    "for col,di in zip(cols,data_list):\n",
    "    master.create_dataset('catalog/%s'%col, data=di)"
   ]
  },
  {
   "cell_type": "code",
   "execution_count": 47,
   "metadata": {},
   "outputs": [
    {
     "data": {
      "text/plain": [
       "19713012"
      ]
     },
     "execution_count": 47,
     "metadata": {},
     "output_type": "execute_result"
    }
   ],
   "source": [
    "z[matchs[1]].size"
   ]
  },
  {
   "cell_type": "code",
   "execution_count": 48,
   "metadata": {},
   "outputs": [
    {
     "data": {
      "text/plain": [
       "19713012"
      ]
     },
     "execution_count": 48,
     "metadata": {},
     "output_type": "execute_result"
    }
   ],
   "source": [
    "zt[matchs[1]].size"
   ]
  },
  {
   "cell_type": "code",
   "execution_count": 50,
   "metadata": {},
   "outputs": [
    {
     "data": {
      "text/plain": [
       "<matplotlib.collections.PathCollection at 0x7f95bf5ead50>"
      ]
     },
     "execution_count": 50,
     "metadata": {},
     "output_type": "execute_result"
    },
    {
     "data": {
      "image/png": "[encoded data removed]",
      "text/plain": [
       "<Figure size 432x288 with 1 Axes>"
      ]
     },
     "metadata": {},
     "output_type": "display_data"
    }
   ],
   "source": [
    "plt.scatter(zt[matchs[1]][::30],z[matchs[1]][::30])"
   ]
  },
  {
   "cell_type": "code",
   "execution_count": null,
   "metadata": {},
   "outputs": [],
   "source": []
  },
  {
   "cell_type": "code",
   "execution_count": null,
   "metadata": {},
   "outputs": [],
   "source": []
  },
  {
   "cell_type": "code",
   "execution_count": 8,
   "metadata": {},
   "outputs": [],
   "source": [
    "import h5py\n",
    "from astropy.table import Table \n",
    "\n",
    "path0 = '/data/des61.a/data/johnny/DESY3/data/photoz/dnf_gold_2_2/'\n",
    "# outfile = path0+'Y3_GOLD_2_2.1_DNF_subsampled_jesteves.h5'\n",
    "outfile = path0+'Y3_GOLD_2_2.1_DNF_12_3_19_full_jesteves.h5'\n",
    "\n",
    "master = h5py.File(outfile,'r')\n",
    "cols = master['catalog'].keys()\n",
    "\n",
    "data = Table()\n",
    "for col in cols:\n",
    "    data[col] = master['catalog/%s'%col][:]\n",
    "master.close()"
   ]
  },
  {
   "cell_type": "code",
   "execution_count": 9,
   "metadata": {},
   "outputs": [
    {
     "data": {
      "text/plain": [
       "287.60106099999996"
      ]
     },
     "execution_count": 9,
     "metadata": {},
     "output_type": "execute_result"
    }
   ],
   "source": [
    "len(data)*1e-6"
   ]
  },
  {
   "cell_type": "code",
   "execution_count": 10,
   "metadata": {},
   "outputs": [],
   "source": [
    "good_z = data['Z']>0."
   ]
  },
  {
   "cell_type": "code",
   "execution_count": 11,
   "metadata": {},
   "outputs": [
    {
     "data": {
      "text/plain": [
       "<matplotlib.collections.PathCollection at 0x7f717438b8d0>"
      ]
     },
     "execution_count": 11,
     "metadata": {},
     "output_type": "execute_result"
    },
    {
     "data": {
      "image/png": "[encoded data removed]",
      "text/plain": [
       "<Figure size 432x288 with 1 Axes>"
      ]
     },
     "metadata": {},
     "output_type": "display_data"
    }
   ],
   "source": [
    "import matplotlib.pyplot as plt\n",
    "\n",
    "plt.scatter(data['Z'][good_z][::20],data['DNF_ZMEAN_SOF'][good_z][::20])"
   ]
  },
  {
   "cell_type": "code",
   "execution_count": 12,
   "metadata": {},
   "outputs": [
    {
     "data": {
      "text/plain": [
       "<matplotlib.collections.PathCollection at 0x7f717b182d90>"
      ]
     },
     "execution_count": 12,
     "metadata": {},
     "output_type": "execute_result"
    },
    {
     "data": {
      "image/png": "[encoded data removed]",
      "text/plain": [
       "<Figure size 432x288 with 1 Axes>"
      ]
     },
     "metadata": {},
     "output_type": "display_data"
    }
   ],
   "source": [
    "plt.scatter(data['DNF_ZMEAN_MOF'][good_z][::20],data['DNF_ZMEAN_SOF'][good_z][::20])"
   ]
  },
  {
   "cell_type": "code",
   "execution_count": null,
   "metadata": {},
   "outputs": [
    {
     "data": {
      "text/plain": [
       "(0.0, 5.0)"
      ]
     },
     "execution_count": 13,
     "metadata": {},
     "output_type": "execute_result"
    }
   ],
   "source": [
    "mask = data['DNF_ZMC_SOF']>0.\n",
    "plt.scatter(data['DNF_ZMEAN_SOF_OLD'][mask][::20],data['DNF_ZMEAN_SOF'][mask][::20])\n",
    "plt.ylim(0.,5.)\n",
    "plt.xlim(0.,5.)"
   ]
  },
  {
   "cell_type": "code",
   "execution_count": null,
   "metadata": {},
   "outputs": [],
   "source": [
    "plt.scatter(data['DNF_ZMEAN_SOF_OLD'][good_z][::20],data['DNF_ZMEAN_SOF'][good_z][::20])"
   ]
  },
  {
   "cell_type": "code",
   "execution_count": 50,
   "metadata": {},
   "outputs": [],
   "source": [
    "# plt.scatter(data['Z'][mask][::20],data['DNF_ZMEAN_SOF'][mask][::20])"
   ]
  },
  {
   "cell_type": "code",
   "execution_count": null,
   "metadata": {},
   "outputs": [],
   "source": []
  },
  {
   "cell_type": "code",
   "execution_count": 45,
   "metadata": {},
   "outputs": [
    {
     "data": {
      "text/plain": [
       "0.906650101199027"
      ]
     },
     "execution_count": 45,
     "metadata": {},
     "output_type": "execute_result"
    }
   ],
   "source": [
    "import numpy as np\n",
    "1.*np.count_nonzero(data['DNF_ZMC_SOF']>0.)/len(data)"
   ]
  },
  {
   "cell_type": "code",
   "execution_count": null,
   "metadata": {},
   "outputs": [],
   "source": []
  },
  {
   "cell_type": "code",
   "execution_count": null,
   "metadata": {},
   "outputs": [],
   "source": []
  },
  {
   "cell_type": "code",
   "execution_count": null,
   "metadata": {},
   "outputs": [],
   "source": []
  },
  {
   "cell_type": "code",
   "execution_count": 32,
   "metadata": {},
   "outputs": [],
   "source": [
    "import h5py\n",
    "from astropy.table import Table \n",
    "\n",
    "path0 = '/data/des61.a/data/johnny/DESY3/data/photoz/dnf_gold_2_2/'\n",
    "outfile = path0+'y3_gold_2_2.1_dnf_jesteves.h5'\n",
    "\n",
    "master = h5py.File(outfile,'r')\n",
    "cols = master['catalog'].keys()\n",
    "\n",
    "data = Table()\n",
    "for col in cols:\n",
    "    data[col] = master['catalog/%s'%col][:]\n",
    "master.close()"
   ]
  },
  {
   "cell_type": "code",
   "execution_count": 33,
   "metadata": {},
   "outputs": [
    {
     "data": {
      "text/plain": [
       "21.874097"
      ]
     },
     "execution_count": 33,
     "metadata": {},
     "output_type": "execute_result"
    }
   ],
   "source": [
    "len(data)*1e-6"
   ]
  },
  {
   "cell_type": "code",
   "execution_count": null,
   "metadata": {},
   "outputs": [],
   "source": []
  },
  {
   "cell_type": "code",
   "execution_count": 39,
   "metadata": {},
   "outputs": [],
   "source": [
    "# plt.scatter(cid[::20],d_cid[::20])\n"
   ]
  },
  {
   "cell_type": "code",
   "execution_count": 38,
   "metadata": {},
   "outputs": [
    {
     "data": {
      "text/plain": [
       "(0, 1)"
      ]
     },
     "execution_count": 38,
     "metadata": {},
     "output_type": "execute_result"
    },
    {
     "data": {
      "image/png": "[encoded data removed]",
      "text/plain": [
       "<Figure size 432x288 with 1 Axes>"
      ]
     },
     "metadata": {},
     "output_type": "display_data"
    }
   ],
   "source": [
    "plt.scatter(z[::20],d_zmean[::20])\n",
    "plt.xlim(0,1)\n",
    "plt.ylim(0,1)"
   ]
  },
  {
   "cell_type": "code",
   "execution_count": 34,
   "metadata": {},
   "outputs": [
    {
     "data": {
      "text/plain": [
       "'/data/des61.a/data/johnny/DESY3/data/photoz/dnf_gold_2_2/y3_gold_2_2.1_dnf_subsampled_jesteves.h5'"
      ]
     },
     "execution_count": 34,
     "metadata": {},
     "output_type": "execute_result"
    }
   ],
   "source": [
    "outfile"
   ]
  },
  {
   "cell_type": "code",
   "execution_count": 35,
   "metadata": {},
   "outputs": [
    {
     "data": {
      "text/plain": [
       "[u'DNF_ZMC_SOF',\n",
       " u'DNF_ZMEAN_SOF',\n",
       " u'DNF_ZSIGMA_SOF',\n",
       " u'Z',\n",
       " u'coadd_object_id',\n",
       " u'dec',\n",
       " u'indices',\n",
       " u'ra']"
      ]
     },
     "execution_count": 35,
     "metadata": {},
     "output_type": "execute_result"
    }
   ],
   "source": [
    "master['catalog'].keys()"
   ]
  },
  {
   "cell_type": "code",
   "execution_count": 36,
   "metadata": {},
   "outputs": [],
   "source": [
    "master.close()"
   ]
  },
  {
   "cell_type": "code",
   "execution_count": null,
   "metadata": {},
   "outputs": [],
   "source": []
  },
  {
   "cell_type": "code",
   "execution_count": 40,
   "metadata": {},
   "outputs": [
    {
     "data": {
      "text/plain": [
       "<matplotlib.collections.PathCollection at 0x7f95c80b75d0>"
      ]
     },
     "execution_count": 40,
     "metadata": {},
     "output_type": "execute_result"
    },
    {
     "data": {
      "image/png": "[encoded data removed]",
      "text/plain": [
       "<Figure size 432x288 with 1 Axes>"
      ]
     },
     "metadata": {},
     "output_type": "display_data"
    }
   ],
   "source": [
    "plt.scatter(zdnf1[::30],zdnf2[::30])"
   ]
  },
  {
   "cell_type": "code",
   "execution_count": 43,
   "metadata": {},
   "outputs": [
    {
     "ename": "ValueError",
     "evalue": "x and y must be the same size",
     "output_type": "error",
     "traceback": [
      "\u001b[0;31m---------------------------------------------------------------------------\u001b[0m",
      "\u001b[0;31mValueError\u001b[0m                                Traceback (most recent call last)",
      "\u001b[0;32m<ipython-input-43-387a7cba955f>\u001b[0m in \u001b[0;36m<module>\u001b[0;34m()\u001b[0m\n\u001b[0;32m----> 1\u001b[0;31m \u001b[0mplt\u001b[0m\u001b[0;34m.\u001b[0m\u001b[0mscatter\u001b[0m\u001b[0;34m(\u001b[0m\u001b[0mzt\u001b[0m\u001b[0;34m[\u001b[0m\u001b[0;34m:\u001b[0m\u001b[0;34m:\u001b[0m\u001b[0;36m30\u001b[0m\u001b[0;34m]\u001b[0m\u001b[0;34m,\u001b[0m\u001b[0mzdnf2\u001b[0m\u001b[0;34m[\u001b[0m\u001b[0;34m:\u001b[0m\u001b[0;34m:\u001b[0m\u001b[0;36m30\u001b[0m\u001b[0;34m]\u001b[0m\u001b[0;34m)\u001b[0m\u001b[0;34m\u001b[0m\u001b[0m\n\u001b[0m",
      "\u001b[0;32m/cvmfs/des.opensciencegrid.org/fnal/anaconda2/envs/des18a/lib/python2.7/site-packages/matplotlib/pyplot.pyc\u001b[0m in \u001b[0;36mscatter\u001b[0;34m(x, y, s, c, marker, cmap, norm, vmin, vmax, alpha, linewidths, verts, edgecolors, hold, data, **kwargs)\u001b[0m\n\u001b[1;32m   3468\u001b[0m                          \u001b[0mvmin\u001b[0m\u001b[0;34m=\u001b[0m\u001b[0mvmin\u001b[0m\u001b[0;34m,\u001b[0m \u001b[0mvmax\u001b[0m\u001b[0;34m=\u001b[0m\u001b[0mvmax\u001b[0m\u001b[0;34m,\u001b[0m \u001b[0malpha\u001b[0m\u001b[0;34m=\u001b[0m\u001b[0malpha\u001b[0m\u001b[0;34m,\u001b[0m\u001b[0;34m\u001b[0m\u001b[0m\n\u001b[1;32m   3469\u001b[0m                          \u001b[0mlinewidths\u001b[0m\u001b[0;34m=\u001b[0m\u001b[0mlinewidths\u001b[0m\u001b[0;34m,\u001b[0m \u001b[0mverts\u001b[0m\u001b[0;34m=\u001b[0m\u001b[0mverts\u001b[0m\u001b[0;34m,\u001b[0m\u001b[0;34m\u001b[0m\u001b[0m\n\u001b[0;32m-> 3470\u001b[0;31m                          edgecolors=edgecolors, data=data, **kwargs)\n\u001b[0m\u001b[1;32m   3471\u001b[0m     \u001b[0;32mfinally\u001b[0m\u001b[0;34m:\u001b[0m\u001b[0;34m\u001b[0m\u001b[0m\n\u001b[1;32m   3472\u001b[0m         \u001b[0max\u001b[0m\u001b[0;34m.\u001b[0m\u001b[0m_hold\u001b[0m \u001b[0;34m=\u001b[0m \u001b[0mwashold\u001b[0m\u001b[0;34m\u001b[0m\u001b[0m\n",
      "\u001b[0;32m/cvmfs/des.opensciencegrid.org/fnal/anaconda2/envs/des18a/lib/python2.7/site-packages/matplotlib/__init__.pyc\u001b[0m in \u001b[0;36minner\u001b[0;34m(ax, *args, **kwargs)\u001b[0m\n\u001b[1;32m   1853\u001b[0m                         \u001b[0;34m\"the Matplotlib list!)\"\u001b[0m \u001b[0;34m%\u001b[0m \u001b[0;34m(\u001b[0m\u001b[0mlabel_namer\u001b[0m\u001b[0;34m,\u001b[0m \u001b[0mfunc\u001b[0m\u001b[0;34m.\u001b[0m\u001b[0m__name__\u001b[0m\u001b[0;34m)\u001b[0m\u001b[0;34m,\u001b[0m\u001b[0;34m\u001b[0m\u001b[0m\n\u001b[1;32m   1854\u001b[0m                         RuntimeWarning, stacklevel=2)\n\u001b[0;32m-> 1855\u001b[0;31m             \u001b[0;32mreturn\u001b[0m \u001b[0mfunc\u001b[0m\u001b[0;34m(\u001b[0m\u001b[0max\u001b[0m\u001b[0;34m,\u001b[0m \u001b[0;34m*\u001b[0m\u001b[0margs\u001b[0m\u001b[0;34m,\u001b[0m \u001b[0;34m**\u001b[0m\u001b[0mkwargs\u001b[0m\u001b[0;34m)\u001b[0m\u001b[0;34m\u001b[0m\u001b[0m\n\u001b[0m\u001b[1;32m   1856\u001b[0m \u001b[0;34m\u001b[0m\u001b[0m\n\u001b[1;32m   1857\u001b[0m         inner.__doc__ = _add_data_doc(inner.__doc__,\n",
      "\u001b[0;32m/cvmfs/des.opensciencegrid.org/fnal/anaconda2/envs/des18a/lib/python2.7/site-packages/matplotlib/axes/_axes.pyc\u001b[0m in \u001b[0;36mscatter\u001b[0;34m(self, x, y, s, c, marker, cmap, norm, vmin, vmax, alpha, linewidths, verts, edgecolors, **kwargs)\u001b[0m\n\u001b[1;32m   4241\u001b[0m         \u001b[0my\u001b[0m \u001b[0;34m=\u001b[0m \u001b[0mnp\u001b[0m\u001b[0;34m.\u001b[0m\u001b[0mma\u001b[0m\u001b[0;34m.\u001b[0m\u001b[0mravel\u001b[0m\u001b[0;34m(\u001b[0m\u001b[0my\u001b[0m\u001b[0;34m)\u001b[0m\u001b[0;34m\u001b[0m\u001b[0m\n\u001b[1;32m   4242\u001b[0m         \u001b[0;32mif\u001b[0m \u001b[0mx\u001b[0m\u001b[0;34m.\u001b[0m\u001b[0msize\u001b[0m \u001b[0;34m!=\u001b[0m \u001b[0my\u001b[0m\u001b[0;34m.\u001b[0m\u001b[0msize\u001b[0m\u001b[0;34m:\u001b[0m\u001b[0;34m\u001b[0m\u001b[0m\n\u001b[0;32m-> 4243\u001b[0;31m             \u001b[0;32mraise\u001b[0m \u001b[0mValueError\u001b[0m\u001b[0;34m(\u001b[0m\u001b[0;34m\"x and y must be the same size\"\u001b[0m\u001b[0;34m)\u001b[0m\u001b[0;34m\u001b[0m\u001b[0m\n\u001b[0m\u001b[1;32m   4244\u001b[0m \u001b[0;34m\u001b[0m\u001b[0m\n\u001b[1;32m   4245\u001b[0m         \u001b[0;32mif\u001b[0m \u001b[0ms\u001b[0m \u001b[0;32mis\u001b[0m \u001b[0mNone\u001b[0m\u001b[0;34m:\u001b[0m\u001b[0;34m\u001b[0m\u001b[0m\n",
      "\u001b[0;31mValueError\u001b[0m: x and y must be the same size"
     ]
    },
    {
     "data": {
      "image/png": "[encoded data removed]",
      "text/plain": [
       "<Figure size 432x288 with 1 Axes>"
      ]
     },
     "metadata": {},
     "output_type": "display_data"
    }
   ],
   "source": [
    "plt.scatter(zt[::30],zdnf2[::30])"
   ]
  },
  {
   "cell_type": "code",
   "execution_count": null,
   "metadata": {},
   "outputs": [],
   "source": []
  },
  {
   "cell_type": "markdown",
   "metadata": {},
   "source": [
    "### Indice Matching"
   ]
  },
  {
   "cell_type": "code",
   "execution_count": null,
   "metadata": {},
   "outputs": [],
   "source": [
    "import esutil"
   ]
  },
  {
   "cell_type": "code",
   "execution_count": null,
   "metadata": {},
   "outputs": [],
   "source": [
    "import esutil\n",
    "d_cid, indices = np.unique(np.array(data['COADD_OBJECT_ID'][:]),return_index=True)\n",
    "d_ra = np.array(data['RA'])[indices]\n",
    "d_dec= np.array(data['DEC'])[indices]"
   ]
  },
  {
   "cell_type": "code",
   "execution_count": null,
   "metadata": {},
   "outputs": [],
   "source": [
    "1e-8*d_cid.size"
   ]
  },
  {
   "cell_type": "code",
   "execution_count": null,
   "metadata": {},
   "outputs": [],
   "source": [
    "import esutil\n",
    "d_cid, indices = np.unique(np.array(data['COADD_OBJECT_ID'][:]),return_index=True)\n",
    "match = esutil.numpy_util.match(d_cid,cid)"
   ]
  },
  {
   "cell_type": "code",
   "execution_count": null,
   "metadata": {},
   "outputs": [],
   "source": [
    "np.count_nonzero(np.abs(d_ra[match[0]]-ra[match[1]])>1e-5)"
   ]
  },
  {
   "cell_type": "code",
   "execution_count": null,
   "metadata": {},
   "outputs": [],
   "source": [
    "np.count_nonzero(np.abs(d_dec[match[0]]-dec[match[1]])>1e-5)"
   ]
  },
  {
   "cell_type": "code",
   "execution_count": null,
   "metadata": {},
   "outputs": [],
   "source": []
  },
  {
   "cell_type": "code",
   "execution_count": null,
   "metadata": {},
   "outputs": [],
   "source": [
    "Nmatch = match[0].size\n",
    "Ndata  = len(d_cid)\n",
    "\n",
    "print('%E, %E'%(Nmatch,Ndata))\n",
    "print('ratio %.4f'%(1.*Nmatch/Ndata))"
   ]
  },
  {
   "cell_type": "code",
   "execution_count": null,
   "metadata": {},
   "outputs": [],
   "source": []
  },
  {
   "cell_type": "code",
   "execution_count": null,
   "metadata": {},
   "outputs": [],
   "source": [
    "Nmatch = match[1].size\n",
    "Ndata  = len(cid)\n",
    "\n",
    "print('%E, %E'%(Nmatch,Ndata))\n",
    "print('ratio %.4f'%(1.*Nmatch/Ndata))"
   ]
  },
  {
   "cell_type": "code",
   "execution_count": null,
   "metadata": {},
   "outputs": [],
   "source": []
  },
  {
   "cell_type": "code",
   "execution_count": null,
   "metadata": {},
   "outputs": [],
   "source": []
  },
  {
   "cell_type": "code",
   "execution_count": null,
   "metadata": {},
   "outputs": [],
   "source": []
  },
  {
   "cell_type": "code",
   "execution_count": null,
   "metadata": {},
   "outputs": [],
   "source": [
    "import pandas as pd"
   ]
  },
  {
   "cell_type": "code",
   "execution_count": null,
   "metadata": {},
   "outputs": [],
   "source": [
    "path = '/data/des61.a/data/johnny/DESY3/data/photoz/dnf_gold_2_2/'"
   ]
  },
  {
   "cell_type": "code",
   "execution_count": null,
   "metadata": {},
   "outputs": [],
   "source": [
    "ls /data/des61.a/data/johnny/DESY3/data/photoz/dnf_gold_2_2"
   ]
  },
  {
   "cell_type": "code",
   "execution_count": null,
   "metadata": {},
   "outputs": [],
   "source": [
    "infile = path+'dnf_y3_gold_2_2_magLim_{:06d}.h5'\n",
    "# infile = path+ 'dnf_gold_2_2_000001.fits'"
   ]
  },
  {
   "cell_type": "code",
   "execution_count": null,
   "metadata": {},
   "outputs": [],
   "source": [
    "def show_h5_group(name,node):\n",
    "    ''' show all the h5 groups\n",
    "    Example:\n",
    "    fmaster = h5py.File(copa.master_fname,'r')\n",
    "    fmaster.visititems(show_h5_group)\n",
    "\n",
    "    ## https://stackoverflow.com/questions/45562169/traverse-hdf5-file-tree-and-continue-after-return\n",
    "    '''\n",
    "    if isinstance(node, h5py.Group):\n",
    "        print(name,node)\n",
    "    return None\n",
    "\n",
    "def show_h5_dataset(name,node):\n",
    "    if isinstance(node, h5py.Dataset):\n",
    "        print(name,node)\n",
    "    return None"
   ]
  },
  {
   "cell_type": "code",
   "execution_count": null,
   "metadata": {},
   "outputs": [],
   "source": [
    "h5 = h5py.File(infile.format(1))\n",
    "cols = list(h5['data/_i_table'].keys())\n",
    "# h5.close()"
   ]
  },
  {
   "cell_type": "code",
   "execution_count": null,
   "metadata": {},
   "outputs": [],
   "source": [
    "h5.visititems(show_h5_group)"
   ]
  },
  {
   "cell_type": "code",
   "execution_count": null,
   "metadata": {},
   "outputs": [],
   "source": [
    "h5.visititems(show_h5_dataset)"
   ]
  },
  {
   "cell_type": "code",
   "execution_count": null,
   "metadata": {},
   "outputs": [],
   "source": [
    "cid = h5['data/_i_table/COADD_OBJECT_ID/'][:]"
   ]
  },
  {
   "cell_type": "code",
   "execution_count": null,
   "metadata": {},
   "outputs": [],
   "source": [
    "h5.close()"
   ]
  },
  {
   "cell_type": "code",
   "execution_count": null,
   "metadata": {},
   "outputs": [],
   "source": [
    "17550000/len(cols)"
   ]
  },
  {
   "cell_type": "code",
   "execution_count": null,
   "metadata": {},
   "outputs": [],
   "source": [
    "data['COADD_OBJECT_ID'][:]"
   ]
  },
  {
   "cell_type": "code",
   "execution_count": null,
   "metadata": {},
   "outputs": [],
   "source": []
  },
  {
   "cell_type": "code",
   "execution_count": null,
   "metadata": {},
   "outputs": [],
   "source": [
    "cols"
   ]
  },
  {
   "cell_type": "code",
   "execution_count": null,
   "metadata": {},
   "outputs": [],
   "source": [
    "mydict = dict().fromkeys(cols)"
   ]
  },
  {
   "cell_type": "code",
   "execution_count": null,
   "metadata": {},
   "outputs": [],
   "source": [
    "df = pd.read_hdf(infile.format(i+1))"
   ]
  },
  {
   "cell_type": "code",
   "execution_count": null,
   "metadata": {},
   "outputs": [],
   "source": []
  },
  {
   "cell_type": "code",
   "execution_count": null,
   "metadata": {},
   "outputs": [],
   "source": [
    "for i in range(10):\n",
    "    print('file %i'%i)\n",
    "    h5 = h5py.File(infile.format(i+1))\n",
    "    data = h5['data/_i_table']\n",
    "    for col in cols:\n",
    "        res = data[col][:]\n",
    "        if i>0:\n",
    "            res = np.append(mydict[str(col)][:],res)\n",
    "        mydict[str(col)] = res\n",
    "    h5.close()"
   ]
  },
  {
   "cell_type": "code",
   "execution_count": null,
   "metadata": {},
   "outputs": [],
   "source": [
    "mydict"
   ]
  },
  {
   "cell_type": "code",
   "execution_count": null,
   "metadata": {},
   "outputs": [],
   "source": []
  }
 ],
 "metadata": {
  "kernelspec": {
   "display_name": "Python 2",
   "language": "python",
   "name": "python2"
  },
  "language_info": {
   "codemirror_mode": {
    "name": "ipython",
    "version": 2
   },
   "file_extension": ".py",
   "mimetype": "text/x-python",
   "name": "python",
   "nbconvert_exporter": "python",
   "pygments_lexer": "ipython2",
   "version": "2.7.15"
  }
 },
 "nbformat": 4,
 "nbformat_minor": 2
}
