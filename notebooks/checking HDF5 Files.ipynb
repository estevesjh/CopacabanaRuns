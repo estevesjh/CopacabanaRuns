{
 "cells": [
  {
   "cell_type": "markdown",
   "metadata": {},
   "source": [
    "# Checking HDF5 files\n",
    "\n",
    "info: https://cdcvs.fnal.gov/redmine/projects/des-clusters/wiki/ClustDataVecY3 <br>\n",
    "path: /data/des81.b/data/mariaeli/y3_buzz/Buzzard-3_v2.0_Y3a_mastercat/"
   ]
  },
  {
   "cell_type": "code",
   "execution_count": null,
   "metadata": {},
   "outputs": [],
   "source": []
  },
  {
   "cell_type": "code",
   "execution_count": 1,
   "metadata": {},
   "outputs": [],
   "source": [
    "import matplotlib.pyplot as plt\n",
    "import numpy as np"
   ]
  },
  {
   "cell_type": "markdown",
   "metadata": {},
   "source": [
    "## Load"
   ]
  },
  {
   "cell_type": "code",
   "execution_count": 51,
   "metadata": {},
   "outputs": [],
   "source": [
    "import h5py\n",
    "\n",
    "path   = '/data/des81.b/data/mariaeli/y3_buzz/Buzzard-3_v2.0_Y3a_mastercat/'\n",
    "fname  = path+'Buzzard_v2.0_Y3a_bpz.h5'\n",
    "fname_aux  = path+'Buzzard-3_v2.0_Y3a_mastercat.h5'\n",
    "\n",
    "master = h5py.File(fname)\n",
    "indexes= h5py.File(fname_aux)"
   ]
  },
  {
   "cell_type": "code",
   "execution_count": 3,
   "metadata": {},
   "outputs": [
    {
     "name": "stdout",
     "output_type": "stream",
     "text": [
      "buzzard_1.9.9_3y3a_rsshift_run.h5  Buzzard_v2.0_Y3a_gold.h5\r\n",
      "Buzzard-3_v2.0_Y3a_mastercat.h5    Buzzard_v2.0_Y3a_shape.h5\r\n",
      "Buzzard_v2.0_Y3a_bpz.h5            nohup.out\r\n"
     ]
    }
   ],
   "source": [
    "ls /data/des81.b/data/mariaeli/y3_buzz/Buzzard-3_v2.0_Y3a_mastercat/"
   ]
  },
  {
   "cell_type": "code",
   "execution_count": 47,
   "metadata": {},
   "outputs": [],
   "source": [
    "def show_h5_group(name,node):\n",
    "    ''' show all the h5 groups\n",
    "    Example:\n",
    "    fmaster = h5py.File(copa.master_fname,'r')\n",
    "    fmaster.visititems(show_h5_group)\n",
    "\n",
    "    ## https://stackoverflow.com/questions/45562169/traverse-hdf5-file-tree-and-continue-after-return\n",
    "    '''\n",
    "    if isinstance(node, h5py.Group):\n",
    "        print(name,node)\n",
    "    return None\n",
    "\n",
    "def show_h5_dataset(name,node):\n",
    "    if isinstance(node, h5py.Dataset):\n",
    "        print(name,node)\n",
    "    return None"
   ]
  },
  {
   "cell_type": "code",
   "execution_count": 48,
   "metadata": {},
   "outputs": [
    {
     "name": "stdout",
     "output_type": "stream",
     "text": [
      "(u'catalog', <HDF5 group \"/catalog\" (1 members)>)\n",
      "(u'catalog/gold', <HDF5 group \"/catalog/gold\" (46 members)>)\n",
      "(u'masks', <HDF5 group \"/masks\" (1 members)>)\n",
      "(u'masks/gold', <HDF5 group \"/masks/gold\" (1 members)>)\n"
     ]
    }
   ],
   "source": [
    "master.visititems(show_h5_group)"
   ]
  },
  {
   "cell_type": "code",
   "execution_count": 52,
   "metadata": {},
   "outputs": [
    {
     "name": "stdout",
     "output_type": "stream",
     "text": [
      "(u'catalog/bpz/coadd_object_id', <HDF5 dataset \"coadd_object_id\": shape (1504210222,), type \">i8\">)\n",
      "(u'catalog/bpz/redshift_cos', <HDF5 dataset \"redshift_cos\": shape (1504210222,), type \">f8\">)\n",
      "(u'catalog/bpz/z', <HDF5 dataset \"z\": shape (1504210222,), type \">f8\">)\n",
      "(u'catalog/bpz/zmc_sof', <HDF5 dataset \"zmc_sof\": shape (1504210222,), type \">f8\">)\n",
      "(u'catalog/bpz/zmean_sof', <HDF5 dataset \"zmean_sof\": shape (1504210222,), type \">f8\">)\n"
     ]
    }
   ],
   "source": [
    "master.visititems(show_h5_dataset)"
   ]
  },
  {
   "cell_type": "code",
   "execution_count": 7,
   "metadata": {},
   "outputs": [],
   "source": [
    "#master['masks/gold'].visititems(show_h5_dataset)"
   ]
  },
  {
   "cell_type": "markdown",
   "metadata": {},
   "source": [
    "### Gold Catalog"
   ]
  },
  {
   "cell_type": "code",
   "execution_count": 8,
   "metadata": {},
   "outputs": [
    {
     "name": "stdout",
     "output_type": "stream",
     "text": [
      "(u'catalog/gold/coadd_object_id', <HDF5 dataset \"coadd_object_id\": shape (1504210222,), type \">i8\">)\n",
      "(u'catalog/gold/dec', <HDF5 dataset \"dec\": shape (1504210222,), type \">f4\">)\n",
      "(u'catalog/gold/flags_gold', <HDF5 dataset \"flags_gold\": shape (1504210222,), type \">i8\">)\n",
      "(u'catalog/gold/flux_g', <HDF5 dataset \"flux_g\": shape (1504210222,), type \">f4\">)\n",
      "(u'catalog/gold/flux_i', <HDF5 dataset \"flux_i\": shape (1504210222,), type \">f4\">)\n",
      "(u'catalog/gold/flux_r', <HDF5 dataset \"flux_r\": shape (1504210222,), type \">f4\">)\n",
      "(u'catalog/gold/flux_z', <HDF5 dataset \"flux_z\": shape (1504210222,), type \">f4\">)\n",
      "(u'catalog/gold/haloid', <HDF5 dataset \"haloid\": shape (1504210222,), type \">i8\">)\n",
      "(u'catalog/gold/hpix_16384', <HDF5 dataset \"hpix_16384\": shape (1504210222,), type \">i8\">)\n",
      "(u'catalog/gold/ivar_g', <HDF5 dataset \"ivar_g\": shape (1504210222,), type \">f4\">)\n",
      "(u'catalog/gold/ivar_i', <HDF5 dataset \"ivar_i\": shape (1504210222,), type \">f4\">)\n",
      "(u'catalog/gold/ivar_r', <HDF5 dataset \"ivar_r\": shape (1504210222,), type \">f4\">)\n",
      "(u'catalog/gold/ivar_z', <HDF5 dataset \"ivar_z\": shape (1504210222,), type \">f4\">)\n",
      "(u'catalog/gold/m200', <HDF5 dataset \"m200\": shape (1504210222,), type \">f4\">)\n",
      "(u'catalog/gold/mag_err_g', <HDF5 dataset \"mag_err_g\": shape (1504210222,), type \">f4\">)\n",
      "(u'catalog/gold/mag_err_i', <HDF5 dataset \"mag_err_i\": shape (1504210222,), type \">f4\">)\n",
      "(u'catalog/gold/mag_err_r', <HDF5 dataset \"mag_err_r\": shape (1504210222,), type \">f4\">)\n",
      "(u'catalog/gold/mag_err_z', <HDF5 dataset \"mag_err_z\": shape (1504210222,), type \">f4\">)\n",
      "(u'catalog/gold/mag_g', <HDF5 dataset \"mag_g\": shape (1504210222,), type \">f4\">)\n",
      "(u'catalog/gold/mag_g_lensed', <HDF5 dataset \"mag_g_lensed\": shape (1504210222,), type \">f4\">)\n",
      "(u'catalog/gold/mag_g_true', <HDF5 dataset \"mag_g_true\": shape (1504210222,), type \">f4\">)\n",
      "(u'catalog/gold/mag_i', <HDF5 dataset \"mag_i\": shape (1504210222,), type \">f4\">)\n",
      "(u'catalog/gold/mag_i_lensed', <HDF5 dataset \"mag_i_lensed\": shape (1504210222,), type \">f4\">)\n",
      "(u'catalog/gold/mag_i_true', <HDF5 dataset \"mag_i_true\": shape (1504210222,), type \">f4\">)\n",
      "(u'catalog/gold/mag_r', <HDF5 dataset \"mag_r\": shape (1504210222,), type \">f4\">)\n",
      "(u'catalog/gold/mag_r_lensed', <HDF5 dataset \"mag_r_lensed\": shape (1504210222,), type \">f4\">)\n",
      "(u'catalog/gold/mag_r_true', <HDF5 dataset \"mag_r_true\": shape (1504210222,), type \">f4\">)\n",
      "(u'catalog/gold/mag_z', <HDF5 dataset \"mag_z\": shape (1504210222,), type \">f4\">)\n",
      "(u'catalog/gold/mag_z_lensed', <HDF5 dataset \"mag_z_lensed\": shape (1504210222,), type \">f4\">)\n",
      "(u'catalog/gold/mag_z_true', <HDF5 dataset \"mag_z_true\": shape (1504210222,), type \">f4\">)\n",
      "(u'catalog/gold/mcal_flux_i', <HDF5 dataset \"mcal_flux_i\": shape (1504210222,), type \">f4\">)\n",
      "(u'catalog/gold/mcal_flux_r', <HDF5 dataset \"mcal_flux_r\": shape (1504210222,), type \">f4\">)\n",
      "(u'catalog/gold/mcal_flux_z', <HDF5 dataset \"mcal_flux_z\": shape (1504210222,), type \">f4\">)\n",
      "(u'catalog/gold/mcal_ivar_i', <HDF5 dataset \"mcal_ivar_i\": shape (1504210222,), type \">f4\">)\n",
      "(u'catalog/gold/mcal_ivar_r', <HDF5 dataset \"mcal_ivar_r\": shape (1504210222,), type \">f4\">)\n",
      "(u'catalog/gold/mcal_ivar_z', <HDF5 dataset \"mcal_ivar_z\": shape (1504210222,), type \">f4\">)\n",
      "(u'catalog/gold/px', <HDF5 dataset \"px\": shape (1504210222,), type \">f4\">)\n",
      "(u'catalog/gold/py', <HDF5 dataset \"py\": shape (1504210222,), type \">f4\">)\n",
      "(u'catalog/gold/pz', <HDF5 dataset \"pz\": shape (1504210222,), type \">f4\">)\n",
      "(u'catalog/gold/r200', <HDF5 dataset \"r200\": shape (1504210222,), type \">f4\">)\n",
      "(u'catalog/gold/ra', <HDF5 dataset \"ra\": shape (1504210222,), type \">f4\">)\n",
      "(u'catalog/gold/rhalo', <HDF5 dataset \"rhalo\": shape (1504210222,), type \">f4\">)\n",
      "(u'catalog/gold/sdss_sedid', <HDF5 dataset \"sdss_sedid\": shape (1504210222,), type \">i8\">)\n",
      "(u'catalog/gold/vx', <HDF5 dataset \"vx\": shape (1504210222,), type \">f4\">)\n",
      "(u'catalog/gold/vy', <HDF5 dataset \"vy\": shape (1504210222,), type \">f4\">)\n",
      "(u'catalog/gold/vz', <HDF5 dataset \"vz\": shape (1504210222,), type \">f4\">)\n",
      "(u'masks/gold/hpix', <HDF5 dataset \"hpix\": shape (24697974,), type \"<i8\">)\n"
     ]
    }
   ],
   "source": [
    "master.visititems(show_h5_dataset)"
   ]
  },
  {
   "cell_type": "code",
   "execution_count": 9,
   "metadata": {},
   "outputs": [],
   "source": [
    "hpxmap = master['masks/gold/hpix'][:]"
   ]
  },
  {
   "cell_type": "code",
   "execution_count": 10,
   "metadata": {},
   "outputs": [],
   "source": [
    "rhalo = master['catalog/gold/rhalo'][:]"
   ]
  },
  {
   "cell_type": "code",
   "execution_count": 11,
   "metadata": {},
   "outputs": [],
   "source": [
    "centrals, = np.where(rhalo==0)"
   ]
  },
  {
   "cell_type": "code",
   "execution_count": 12,
   "metadata": {},
   "outputs": [],
   "source": [
    "m200 = master['catalog/gold/m200'][:]"
   ]
  },
  {
   "cell_type": "code",
   "execution_count": 17,
   "metadata": {},
   "outputs": [
    {
     "data": {
      "image/png": "[encoded data removed]",
      "text/plain": [
       "<Figure size 432x288 with 1 Axes>"
      ]
     },
     "metadata": {},
     "output_type": "display_data"
    }
   ],
   "source": [
    "xbins = np.logspace(12.4,15.5,30)\n",
    "_     = plt.hist(m200[centrals],bins=xbins)\n",
    "plt.xscale('log')\n",
    "plt.yscale('log')"
   ]
  },
  {
   "cell_type": "code",
   "execution_count": 14,
   "metadata": {},
   "outputs": [
    {
     "data": {
      "text/plain": [
       "509884913"
      ]
     },
     "execution_count": 14,
     "metadata": {},
     "output_type": "execute_result"
    }
   ],
   "source": [
    "centrals.size"
   ]
  },
  {
   "cell_type": "code",
   "execution_count": 15,
   "metadata": {},
   "outputs": [],
   "source": [
    "hid = master['catalog/gold/haloid'][:]"
   ]
  },
  {
   "cell_type": "code",
   "execution_count": 31,
   "metadata": {},
   "outputs": [],
   "source": [
    "hidu, index, counts = np.unique(hid[centrals],return_index=True,return_counts=True)"
   ]
  },
  {
   "cell_type": "code",
   "execution_count": 20,
   "metadata": {},
   "outputs": [
    {
     "data": {
      "text/plain": [
       "array([506636113,         1,         1, ...,         1,         1,\n",
       "               1])"
      ]
     },
     "execution_count": 20,
     "metadata": {},
     "output_type": "execute_result"
    }
   ],
   "source": [
    "counts"
   ]
  },
  {
   "cell_type": "code",
   "execution_count": 32,
   "metadata": {},
   "outputs": [],
   "source": [
    "m2x = m200[index]"
   ]
  },
  {
   "cell_type": "code",
   "execution_count": 45,
   "metadata": {},
   "outputs": [
    {
     "data": {
      "text/plain": [
       "array([2, 2, 2, ..., 2, 2, 2])"
      ]
     },
     "execution_count": 45,
     "metadata": {},
     "output_type": "execute_result"
    }
   ],
   "source": [
    "counts[(counts>1)&(m2x>2e13)]"
   ]
  },
  {
   "cell_type": "code",
   "execution_count": 46,
   "metadata": {},
   "outputs": [
    {
     "name": "stdout",
     "output_type": "stream",
     "text": [
      "percentage of repeated halos: 0.06 %\n"
     ]
    }
   ],
   "source": [
    "nrepeated = counts[(counts>1)&(m2x>5e13)].size\n",
    "nhalos    = counts.size\n",
    "\n",
    "print('percentage of repeated halos: %.2f %%'%(100.*nrepeated/nhalos))"
   ]
  },
  {
   "cell_type": "code",
   "execution_count": 50,
   "metadata": {},
   "outputs": [
    {
     "data": {
      "text/plain": [
       "1816"
      ]
     },
     "execution_count": 50,
     "metadata": {},
     "output_type": "execute_result"
    }
   ],
   "source": [
    "nrepeated"
   ]
  },
  {
   "cell_type": "code",
   "execution_count": null,
   "metadata": {},
   "outputs": [],
   "source": []
  }
 ],
 "metadata": {
  "kernelspec": {
   "display_name": "Python 2",
   "language": "python",
   "name": "python2"
  },
  "language_info": {
   "codemirror_mode": {
    "name": "ipython",
    "version": 2
   },
   "file_extension": ".py",
   "mimetype": "text/x-python",
   "name": "python",
   "nbconvert_exporter": "python",
   "pygments_lexer": "ipython2",
   "version": "2.7.15"
  }
 },
 "nbformat": 4,
 "nbformat_minor": 2
}
