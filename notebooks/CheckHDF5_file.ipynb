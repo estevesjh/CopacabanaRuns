{
 "cells": [
  {
   "cell_type": "code",
   "execution_count": 1,
   "metadata": {},
   "outputs": [],
   "source": [
    "import numpy as np\n",
    "from astropy.table import Table, vstack\n",
    "import fitsio\n",
    "import healpy as hp\n",
    "\n",
    "from astropy.io.fits import getdata\n",
    "from astropy.io import fits as pyfits\n",
    "\n",
    "from astropy.cosmology import FlatLambdaCDM\n",
    "from astropy import units as u\n",
    "import esutil\n",
    "\n",
    "import dask\n",
    "from joblib import Parallel, delayed\n",
    "\n",
    "import os\n",
    "from time import sleep\n",
    "from time import time\n",
    "import glob\n",
    "import matplotlib \n",
    "import matplotlib.pyplot as plt"
   ]
  },
  {
   "cell_type": "code",
   "execution_count": 2,
   "metadata": {},
   "outputs": [],
   "source": [
    "indir = '/global/project/projectdirs/des/jesteves/buzzardSelection/v2.0.0/subsample/'\n",
    "\n",
    "gfile = indir+'buzzard_v2.0.0_0_members.fits'\n",
    "cfile = indir+'buzzard_v2.0.0_0_cluster.fits'"
   ]
  },
  {
   "cell_type": "code",
   "execution_count": 3,
   "metadata": {},
   "outputs": [],
   "source": [
    "gal = Table(getdata(gfile))\n",
    "cat = Table(getdata(cfile))"
   ]
  },
  {
   "cell_type": "code",
   "execution_count": 5,
   "metadata": {},
   "outputs": [],
   "source": [
    "gid = np.array(gal['galaxy_id']).astype(np.int64)"
   ]
  },
  {
   "cell_type": "code",
   "execution_count": 6,
   "metadata": {},
   "outputs": [],
   "source": [
    "gidu = np.unique(gid)"
   ]
  },
  {
   "cell_type": "code",
   "execution_count": 7,
   "metadata": {},
   "outputs": [
    {
     "data": {
      "text/plain": [
       "1.0"
      ]
     },
     "execution_count": 7,
     "metadata": {},
     "output_type": "execute_result"
    }
   ],
   "source": [
    "gidu.size/gid.size"
   ]
  },
  {
   "cell_type": "code",
   "execution_count": 31,
   "metadata": {},
   "outputs": [
    {
     "data": {
      "text/plain": [
       "['mag_i_lsst',\n",
       " 'magerr_z_des',\n",
       " 'magerr_r_des',\n",
       " 'magerr_i_des',\n",
       " 'mag_r_lsst',\n",
       " 'galaxy_id',\n",
       " 'mag_z_lsst',\n",
       " 'magerr_g_des',\n",
       " 'Mag_true_r_des_z01',\n",
       " 'healpix_pixel',\n",
       " 'DEC',\n",
       " 'Mag_true_i_des_z01',\n",
       " 'HALOID',\n",
       " 'halo_mass',\n",
       " 'RHALO',\n",
       " 'mag_g_lsst',\n",
       " 'redshift',\n",
       " 'is_central',\n",
       " 'RA',\n",
       " 'hpx8']"
      ]
     },
     "execution_count": 31,
     "metadata": {},
     "output_type": "execute_result"
    }
   ],
   "source": [
    "gal.colnames"
   ]
  },
  {
   "cell_type": "code",
   "execution_count": null,
   "metadata": {},
   "outputs": [],
   "source": []
  },
  {
   "cell_type": "code",
   "execution_count": null,
   "metadata": {},
   "outputs": [],
   "source": []
  },
  {
   "cell_type": "code",
   "execution_count": 8,
   "metadata": {},
   "outputs": [],
   "source": [
    "import h5py\n",
    "\n",
    "path   = '/global/project/projectdirs/des/jderose/Chinchilla/Herd/Chinchilla-3/v2.0.0/sampleselection/Y3a/'\n",
    "fname  = path+'Buzzard_v2.0_Y3a_bpz.h5'\n",
    "\n",
    "mfile = h5py.File(fname)\n",
    "bpz   = mfile['catalog/bpz']"
   ]
  },
  {
   "cell_type": "code",
   "execution_count": 10,
   "metadata": {},
   "outputs": [
    {
     "name": "stdout",
     "output_type": "stream",
     "text": [
      "coadd_object_id <HDF5 dataset \"coadd_object_id\": shape (1504210222,), type \">i8\">\n",
      "redshift_cos <HDF5 dataset \"redshift_cos\": shape (1504210222,), type \">f8\">\n",
      "z <HDF5 dataset \"z\": shape (1504210222,), type \">f8\">\n",
      "zmc_sof <HDF5 dataset \"zmc_sof\": shape (1504210222,), type \">f8\">\n",
      "zmean_sof <HDF5 dataset \"zmean_sof\": shape (1504210222,), type \">f8\">\n"
     ]
    }
   ],
   "source": [
    "bpz.visititems(show_h5_dataset)"
   ]
  },
  {
   "cell_type": "code",
   "execution_count": 15,
   "metadata": {},
   "outputs": [],
   "source": [
    "bpzid = bpz['coadd_object_id'][:][index]"
   ]
  },
  {
   "cell_type": "code",
   "execution_count": 23,
   "metadata": {},
   "outputs": [],
   "source": [
    "zt    = bpz['z'][:][index]"
   ]
  },
  {
   "cell_type": "code",
   "execution_count": null,
   "metadata": {},
   "outputs": [],
   "source": []
  },
  {
   "cell_type": "code",
   "execution_count": 12,
   "metadata": {},
   "outputs": [],
   "source": [
    "master = h5py.File(path+'Buzzard-3_v2.0_Y3a_mastercat.h5')"
   ]
  },
  {
   "cell_type": "code",
   "execution_count": 13,
   "metadata": {},
   "outputs": [],
   "source": [
    "maglim= master['index/maglim/select'][:]"
   ]
  },
  {
   "cell_type": "code",
   "execution_count": 14,
   "metadata": {},
   "outputs": [],
   "source": [
    "index = master['index/bpz/match_gold'][:][maglim]"
   ]
  },
  {
   "cell_type": "code",
   "execution_count": null,
   "metadata": {},
   "outputs": [],
   "source": []
  },
  {
   "cell_type": "code",
   "execution_count": 16,
   "metadata": {},
   "outputs": [],
   "source": [
    "import esutil"
   ]
  },
  {
   "cell_type": "code",
   "execution_count": 17,
   "metadata": {},
   "outputs": [],
   "source": [
    "mask = esutil.numpy_util.match(gid,bpzid)"
   ]
  },
  {
   "cell_type": "code",
   "execution_count": 18,
   "metadata": {},
   "outputs": [],
   "source": [
    "indices=mask[1]"
   ]
  },
  {
   "cell_type": "code",
   "execution_count": 22,
   "metadata": {},
   "outputs": [
    {
     "data": {
      "text/plain": [
       "array([361000006475, 361006404380, 361002088779, ..., 115013904713,\n",
       "       115013919774, 115013908930])"
      ]
     },
     "execution_count": 22,
     "metadata": {},
     "output_type": "execute_result"
    }
   ],
   "source": [
    "bpzid"
   ]
  },
  {
   "cell_type": "code",
   "execution_count": 24,
   "metadata": {},
   "outputs": [
    {
     "data": {
      "text/plain": [
       "array([           0,           12,           21, ..., 362008017456,\n",
       "       362008017586, 362008018024])"
      ]
     },
     "execution_count": 24,
     "metadata": {},
     "output_type": "execute_result"
    }
   ],
   "source": [
    "gid"
   ]
  },
  {
   "cell_type": "code",
   "execution_count": 25,
   "metadata": {},
   "outputs": [],
   "source": [
    "z=gal['redshift']"
   ]
  },
  {
   "cell_type": "code",
   "execution_count": null,
   "metadata": {},
   "outputs": [],
   "source": []
  },
  {
   "cell_type": "code",
   "execution_count": null,
   "metadata": {},
   "outputs": [],
   "source": []
  },
  {
   "cell_type": "code",
   "execution_count": 12,
   "metadata": {},
   "outputs": [
    {
     "name": "stdout",
     "output_type": "stream",
     "text": [
      "index/bpz/match_gold <HDF5 dataset \"match_gold\": shape (1504210222,), type \"<i8\">\n",
      "index/bpz/select <HDF5 dataset \"select\": shape (1504210222,), type \"<i8\">\n",
      "index/coadd_object_id <HDF5 dataset \"coadd_object_id\": shape (1504210222,), type \"<i8\">\n",
      "index/gold/select <HDF5 dataset \"select\": shape (1504210222,), type \"<i8\">\n",
      "index/maglim/select <HDF5 dataset \"select\": shape (2388988,), type \"<i8\">\n",
      "index/mask/fracgood <HDF5 dataset \"fracgood\": shape (21590657,), type \"<i8\">\n",
      "index/mask/hpix <HDF5 dataset \"hpix\": shape (21590657,), type \"<i8\">\n",
      "index/mask/zmax <HDF5 dataset \"zmax\": shape (21590657,), type \"<i8\">\n",
      "index/metacal/match_gold <HDF5 dataset \"match_gold\": shape (1504210222,), type \"<i8\">\n",
      "index/redmagic/combined_sample_fid/match_gold <HDF5 dataset \"match_gold\": shape (3041935,), type \"<i8\">\n",
      "index/redmagic/combined_sample_fid/random_10xdownsample_select <HDF5 dataset \"random_10xdownsample_select\": shape (30419350,), type \"<i8\">\n",
      "index/redmagic/combined_sample_fid/random_select <HDF5 dataset \"random_select\": shape (123296252,), type \"<i8\">\n",
      "index/redmagic/combined_sample_fid/select <HDF5 dataset \"select\": shape (3041935,), type \"<i8\">\n",
      "index/redmagic/highdens/match_gold <HDF5 dataset \"match_gold\": shape (2884359,), type \"<i8\">\n",
      "index/redmagic/highdens/random_select <HDF5 dataset \"random_select\": shape (94341550,), type \"<i8\">\n",
      "index/redmagic/highdens/select <HDF5 dataset \"select\": shape (2695823,), type \"<i8\">\n",
      "index/redmagic/higherlum/match_gold <HDF5 dataset \"match_gold\": shape (510848,), type \"<i8\">\n",
      "index/redmagic/higherlum/random_select <HDF5 dataset \"random_select\": shape (94336080,), type \"<i8\">\n",
      "index/redmagic/higherlum/select <HDF5 dataset \"select\": shape (475010,), type \"<i8\">\n",
      "index/redmagic/highlum/match_gold <HDF5 dataset \"match_gold\": shape (2049142,), type \"<i8\">\n",
      "index/redmagic/highlum/random_select <HDF5 dataset \"random_select\": shape (94340054,), type \"<i8\">\n",
      "index/redmagic/highlum/select <HDF5 dataset \"select\": shape (1917971,), type \"<i8\">\n",
      "index/select <HDF5 dataset \"select\": shape (103106417,), type \"<i8\">\n",
      "masks/maglim/hpix <HDF5 dataset \"hpix\": shape (1389873,), type \"<i8\">\n",
      "regions/catalog/gold/region <HDF5 dataset \"region\": shape (1504210222,), type \"<i8\">\n",
      "regions/catalog/metacal/unsheared/region <HDF5 dataset \"region\": shape (1504210222,), type \"<i8\">\n",
      "regions/catalog/redmagic/combined_sample_fid/region <HDF5 dataset \"region\": shape (3041935,), type \"<i8\">\n",
      "regions/centers/dec <HDF5 dataset \"dec\": shape (1000,), type \"<f8\">\n",
      "regions/centers/dist <HDF5 dataset \"dist\": shape (1000,), type \"<f8\">\n",
      "regions/centers/number <HDF5 dataset \"number\": shape (1,), type \">i8\">\n",
      "regions/centers/ra <HDF5 dataset \"ra\": shape (1000,), type \"<f8\">\n",
      "regions/randoms/maglim/region <HDF5 dataset \"region\": shape (47779760,), type \"<i8\">\n",
      "regions/randoms/redmagic/combined_sample_fid/region <HDF5 dataset \"region\": shape (123296252,), type \"<i8\">\n",
      "regions/randoms/redmagic_densrand/combined_sample_fid/region <HDF5 dataset \"region\": shape (1233026617,), type \"<i8\">\n"
     ]
    }
   ],
   "source": [
    "master.visititems(show_h5_dataset)"
   ]
  },
  {
   "cell_type": "code",
   "execution_count": 9,
   "metadata": {},
   "outputs": [],
   "source": [
    "def show_h5_group(name,node):\n",
    "    ''' show all the h5 groups\n",
    "    Example:\n",
    "    fmaster = h5py.File(copa.master_fname,'r')\n",
    "    fmaster.visititems(show_h5_group)\n",
    "\n",
    "    ## https://stackoverflow.com/questions/45562169/traverse-hdf5-file-tree-and-continue-after-return\n",
    "    '''\n",
    "    if isinstance(node, h5py.Group):\n",
    "        print(name,node)\n",
    "    return None\n",
    "\n",
    "def show_h5_dataset(name,node):\n",
    "    if isinstance(node, h5py.Dataset):\n",
    "        print(name,node)\n",
    "    return None"
   ]
  },
  {
   "cell_type": "code",
   "execution_count": 44,
   "metadata": {},
   "outputs": [],
   "source": [
    "maglim = master['index/maglim/select'][:]"
   ]
  },
  {
   "cell_type": "code",
   "execution_count": 45,
   "metadata": {},
   "outputs": [],
   "source": [
    "healpix = gold['coadd_object_id'][:][maglim]"
   ]
  },
  {
   "cell_type": "code",
   "execution_count": 50,
   "metadata": {},
   "outputs": [
    {
     "data": {
      "text/plain": [
       "2388988"
      ]
     },
     "execution_count": 50,
     "metadata": {},
     "output_type": "execute_result"
    }
   ],
   "source": [
    "healpix.size"
   ]
  },
  {
   "cell_type": "code",
   "execution_count": 47,
   "metadata": {},
   "outputs": [],
   "source": [
    "mask = esutil.numpy_util.match(gid,healpix)"
   ]
  },
  {
   "cell_type": "code",
   "execution_count": 48,
   "metadata": {},
   "outputs": [],
   "source": [
    "indices=mask[1]"
   ]
  },
  {
   "cell_type": "code",
   "execution_count": 49,
   "metadata": {},
   "outputs": [
    {
     "data": {
      "text/plain": [
       "array([], dtype=int64)"
      ]
     },
     "execution_count": 49,
     "metadata": {},
     "output_type": "execute_result"
    }
   ],
   "source": [
    "indices"
   ]
  },
  {
   "cell_type": "code",
   "execution_count": 55,
   "metadata": {},
   "outputs": [
    {
     "name": "stderr",
     "output_type": "stream",
     "text": [
      "<ipython-input-55-c7ccb4f5df79>:2: DeprecationWarning: `np.float` is a deprecated alias for the builtin `float`. To silence this warning, use `float` by itself. Doing this will not modify any behavior and is safe. If you specifically wanted the numpy scalar type, use `np.float64` here.\n",
      "Deprecated in NumPy 1.20; for more details and guidance: https://numpy.org/devdocs/release/1.20.0-notes.html#deprecations\n",
      "  hpxmap = np.zeros(npix, dtype=np.float)\n"
     ]
    },
    {
     "data": {
      "image/png": "[encoded data removed]",
      "text/plain": [
       "<Figure size 612x388.8 with 2 Axes>"
      ]
     },
     "metadata": {
      "needs_background": "light"
     },
     "output_type": "display_data"
    }
   ],
   "source": [
    "npix = hp.nside2npix(nside)\n",
    "hpxmap = np.zeros(npix, dtype=np.float)\n",
    "w, values = np.unique(healpix,return_counts=True)\n",
    "hpxmap[w] = values\n",
    "\n",
    "hp.mollview(hpxmap)"
   ]
  },
  {
   "cell_type": "code",
   "execution_count": 56,
   "metadata": {},
   "outputs": [],
   "source": [
    "import esutil"
   ]
  },
  {
   "cell_type": "code",
   "execution_count": 48,
   "metadata": {},
   "outputs": [],
   "source": [
    "mask = esutil.numpy_util.match(hpx_map,healpix)"
   ]
  },
  {
   "cell_type": "code",
   "execution_count": 49,
   "metadata": {},
   "outputs": [],
   "source": [
    "indices=mask[1]"
   ]
  },
  {
   "cell_type": "code",
   "execution_count": 50,
   "metadata": {},
   "outputs": [
    {
     "data": {
      "text/plain": [
       "array([], dtype=int64)"
      ]
     },
     "execution_count": 50,
     "metadata": {},
     "output_type": "execute_result"
    }
   ],
   "source": [
    "indices"
   ]
  },
  {
   "cell_type": "code",
   "execution_count": null,
   "metadata": {},
   "outputs": [],
   "source": []
  },
  {
   "cell_type": "code",
   "execution_count": 58,
   "metadata": {},
   "outputs": [],
   "source": [
    "ra = gold['ra'][:][maglim_idx]"
   ]
  },
  {
   "cell_type": "code",
   "execution_count": 57,
   "metadata": {},
   "outputs": [],
   "source": [
    "dec = gold['dec'][:][maglim_idx]"
   ]
  },
  {
   "cell_type": "code",
   "execution_count": 60,
   "metadata": {},
   "outputs": [
    {
     "data": {
      "text/plain": [
       "<matplotlib.collections.PathCollection at 0x2aaaf07794f0>"
      ]
     },
     "execution_count": 60,
     "metadata": {},
     "output_type": "execute_result"
    },
    {
     "data": {
      "image/png": "[encoded data removed]",
      "text/plain": [
       "<Figure size 432x288 with 1 Axes>"
      ]
     },
     "metadata": {
      "needs_background": "light"
     },
     "output_type": "display_data"
    }
   ],
   "source": [
    "ra1= gal['RA']\n",
    "dec1= gal['DEC']\n",
    "\n",
    "plt.scatter(ra,dec)\n",
    "plt.scatter(ra1,dec1)"
   ]
  },
  {
   "cell_type": "code",
   "execution_count": null,
   "metadata": {},
   "outputs": [],
   "source": []
  },
  {
   "cell_type": "code",
   "execution_count": null,
   "metadata": {},
   "outputs": [],
   "source": []
  },
  {
   "cell_type": "code",
   "execution_count": 89,
   "metadata": {},
   "outputs": [],
   "source": [
    "indir='/global/project/projectdirs/des/jderose/Chinchilla/Herd/Chinchilla-3/addgalspostprocess/'"
   ]
  },
  {
   "cell_type": "code",
   "execution_count": 112,
   "metadata": {},
   "outputs": [],
   "source": [
    "halos_files = glob.glob(indir+'halos/*.fits')\n",
    "gals_files  = glob.glob(indir+'Y3a/Chinchilla-3Y3a_v2.0_obs.*.fits')"
   ]
  },
  {
   "cell_type": "code",
   "execution_count": 113,
   "metadata": {},
   "outputs": [],
   "source": [
    "#c1 = vstack([Table(getdata(halos_files[i])) for i in range(5)])"
   ]
  },
  {
   "cell_type": "code",
   "execution_count": 114,
   "metadata": {},
   "outputs": [
    {
     "data": {
      "text/plain": [
       "['/global/project/projectdirs/des/jderose/Chinchilla/Herd/Chinchilla-3/addgalspostprocess/Y3a/Chinchilla-3Y3a_v2.0_obs.16.fits',\n",
       " '/global/project/projectdirs/des/jderose/Chinchilla/Herd/Chinchilla-3/addgalspostprocess/Y3a/Chinchilla-3Y3a_v2.0_obs.375.fits',\n",
       " '/global/project/projectdirs/des/jderose/Chinchilla/Herd/Chinchilla-3/addgalspostprocess/Y3a/Chinchilla-3Y3a_v2.0_obs.380.fits',\n",
       " '/global/project/projectdirs/des/jderose/Chinchilla/Herd/Chinchilla-3/addgalspostprocess/Y3a/Chinchilla-3Y3a_v2.0_obs.86.fits',\n",
       " '/global/project/projectdirs/des/jderose/Chinchilla/Herd/Chinchilla-3/addgalspostprocess/Y3a/Chinchilla-3Y3a_v2.0_obs.119.fits',\n",
       " '/global/project/projectdirs/des/jderose/Chinchilla/Herd/Chinchilla-3/addgalspostprocess/Y3a/Chinchilla-3Y3a_v2.0_obs.40.fits',\n",
       " '/global/project/projectdirs/des/jderose/Chinchilla/Herd/Chinchilla-3/addgalspostprocess/Y3a/Chinchilla-3Y3a_v2.0_obs.116.fits',\n",
       " '/global/project/projectdirs/des/jderose/Chinchilla/Herd/Chinchilla-3/addgalspostprocess/Y3a/Chinchilla-3Y3a_v2.0_obs.12.fits',\n",
       " '/global/project/projectdirs/des/jderose/Chinchilla/Herd/Chinchilla-3/addgalspostprocess/Y3a/Chinchilla-3Y3a_v2.0_obs.366.fits',\n",
       " '/global/project/projectdirs/des/jderose/Chinchilla/Herd/Chinchilla-3/addgalspostprocess/Y3a/Chinchilla-3Y3a_v2.0_obs.359.fits',\n",
       " '/global/project/projectdirs/des/jderose/Chinchilla/Herd/Chinchilla-3/addgalspostprocess/Y3a/Chinchilla-3Y3a_v2.0_obs.28.fits',\n",
       " '/global/project/projectdirs/des/jderose/Chinchilla/Herd/Chinchilla-3/addgalspostprocess/Y3a/Chinchilla-3Y3a_v2.0_obs.44.fits',\n",
       " '/global/project/projectdirs/des/jderose/Chinchilla/Herd/Chinchilla-3/addgalspostprocess/Y3a/Chinchilla-3Y3a_v2.0_obs.42.fits',\n",
       " '/global/project/projectdirs/des/jderose/Chinchilla/Herd/Chinchilla-3/addgalspostprocess/Y3a/Chinchilla-3Y3a_v2.0_obs.47.fits',\n",
       " '/global/project/projectdirs/des/jderose/Chinchilla/Herd/Chinchilla-3/addgalspostprocess/Y3a/Chinchilla-3Y3a_v2.0_obs.23.fits',\n",
       " '/global/project/projectdirs/des/jderose/Chinchilla/Herd/Chinchilla-3/addgalspostprocess/Y3a/Chinchilla-3Y3a_v2.0_obs.341.fits',\n",
       " '/global/project/projectdirs/des/jderose/Chinchilla/Herd/Chinchilla-3/addgalspostprocess/Y3a/Chinchilla-3Y3a_v2.0_obs.372.fits',\n",
       " '/global/project/projectdirs/des/jderose/Chinchilla/Herd/Chinchilla-3/addgalspostprocess/Y3a/Chinchilla-3Y3a_v2.0_obs.60.fits',\n",
       " '/global/project/projectdirs/des/jderose/Chinchilla/Herd/Chinchilla-3/addgalspostprocess/Y3a/Chinchilla-3Y3a_v2.0_obs.123.fits',\n",
       " '/global/project/projectdirs/des/jderose/Chinchilla/Herd/Chinchilla-3/addgalspostprocess/Y3a/Chinchilla-3Y3a_v2.0_obs.56.fits',\n",
       " '/global/project/projectdirs/des/jderose/Chinchilla/Herd/Chinchilla-3/addgalspostprocess/Y3a/Chinchilla-3Y3a_v2.0_obs.58.fits',\n",
       " '/global/project/projectdirs/des/jderose/Chinchilla/Herd/Chinchilla-3/addgalspostprocess/Y3a/Chinchilla-3Y3a_v2.0_obs.106.fits',\n",
       " '/global/project/projectdirs/des/jderose/Chinchilla/Herd/Chinchilla-3/addgalspostprocess/Y3a/Chinchilla-3Y3a_v2.0_obs.31.fits',\n",
       " '/global/project/projectdirs/des/jderose/Chinchilla/Herd/Chinchilla-3/addgalspostprocess/Y3a/Chinchilla-3Y3a_v2.0_obs.26.fits',\n",
       " '/global/project/projectdirs/des/jderose/Chinchilla/Herd/Chinchilla-3/addgalspostprocess/Y3a/Chinchilla-3Y3a_v2.0_obs.89.fits',\n",
       " '/global/project/projectdirs/des/jderose/Chinchilla/Herd/Chinchilla-3/addgalspostprocess/Y3a/Chinchilla-3Y3a_v2.0_obs.347.fits',\n",
       " '/global/project/projectdirs/des/jderose/Chinchilla/Herd/Chinchilla-3/addgalspostprocess/Y3a/Chinchilla-3Y3a_v2.0_obs.3.fits',\n",
       " '/global/project/projectdirs/des/jderose/Chinchilla/Herd/Chinchilla-3/addgalspostprocess/Y3a/Chinchilla-3Y3a_v2.0_obs.85.fits',\n",
       " '/global/project/projectdirs/des/jderose/Chinchilla/Herd/Chinchilla-3/addgalspostprocess/Y3a/Chinchilla-3Y3a_v2.0_obs.33.fits',\n",
       " '/global/project/projectdirs/des/jderose/Chinchilla/Herd/Chinchilla-3/addgalspostprocess/Y3a/Chinchilla-3Y3a_v2.0_obs.57.fits',\n",
       " '/global/project/projectdirs/des/jderose/Chinchilla/Herd/Chinchilla-3/addgalspostprocess/Y3a/Chinchilla-3Y3a_v2.0_obs.101.fits',\n",
       " '/global/project/projectdirs/des/jderose/Chinchilla/Herd/Chinchilla-3/addgalspostprocess/Y3a/Chinchilla-3Y3a_v2.0_obs.370.fits',\n",
       " '/global/project/projectdirs/des/jderose/Chinchilla/Herd/Chinchilla-3/addgalspostprocess/Y3a/Chinchilla-3Y3a_v2.0_obs.50.fits',\n",
       " '/global/project/projectdirs/des/jderose/Chinchilla/Herd/Chinchilla-3/addgalspostprocess/Y3a/Chinchilla-3Y3a_v2.0_obs.349.fits',\n",
       " '/global/project/projectdirs/des/jderose/Chinchilla/Herd/Chinchilla-3/addgalspostprocess/Y3a/Chinchilla-3Y3a_v2.0_obs.118.fits',\n",
       " '/global/project/projectdirs/des/jderose/Chinchilla/Herd/Chinchilla-3/addgalspostprocess/Y3a/Chinchilla-3Y3a_v2.0_obs.52.fits',\n",
       " '/global/project/projectdirs/des/jderose/Chinchilla/Herd/Chinchilla-3/addgalspostprocess/Y3a/Chinchilla-3Y3a_v2.0_obs.38.fits',\n",
       " '/global/project/projectdirs/des/jderose/Chinchilla/Herd/Chinchilla-3/addgalspostprocess/Y3a/Chinchilla-3Y3a_v2.0_obs.90.fits',\n",
       " '/global/project/projectdirs/des/jderose/Chinchilla/Herd/Chinchilla-3/addgalspostprocess/Y3a/Chinchilla-3Y3a_v2.0_obs.34.fits',\n",
       " '/global/project/projectdirs/des/jderose/Chinchilla/Herd/Chinchilla-3/addgalspostprocess/Y3a/Chinchilla-3Y3a_v2.0_obs.377.fits',\n",
       " '/global/project/projectdirs/des/jderose/Chinchilla/Herd/Chinchilla-3/addgalspostprocess/Y3a/Chinchilla-3Y3a_v2.0_obs.20.fits',\n",
       " '/global/project/projectdirs/des/jderose/Chinchilla/Herd/Chinchilla-3/addgalspostprocess/Y3a/Chinchilla-3Y3a_v2.0_obs.365.fits',\n",
       " '/global/project/projectdirs/des/jderose/Chinchilla/Herd/Chinchilla-3/addgalspostprocess/Y3a/Chinchilla-3Y3a_v2.0_obs.371.fits',\n",
       " '/global/project/projectdirs/des/jderose/Chinchilla/Herd/Chinchilla-3/addgalspostprocess/Y3a/Chinchilla-3Y3a_v2.0_obs.369.fits',\n",
       " '/global/project/projectdirs/des/jderose/Chinchilla/Herd/Chinchilla-3/addgalspostprocess/Y3a/Chinchilla-3Y3a_v2.0_obs.379.fits',\n",
       " '/global/project/projectdirs/des/jderose/Chinchilla/Herd/Chinchilla-3/addgalspostprocess/Y3a/Chinchilla-3Y3a_v2.0_obs.13.fits',\n",
       " '/global/project/projectdirs/des/jderose/Chinchilla/Herd/Chinchilla-3/addgalspostprocess/Y3a/Chinchilla-3Y3a_v2.0_obs.45.fits',\n",
       " '/global/project/projectdirs/des/jderose/Chinchilla/Herd/Chinchilla-3/addgalspostprocess/Y3a/Chinchilla-3Y3a_v2.0_obs.348.fits',\n",
       " '/global/project/projectdirs/des/jderose/Chinchilla/Herd/Chinchilla-3/addgalspostprocess/Y3a/Chinchilla-3Y3a_v2.0_obs.92.fits',\n",
       " '/global/project/projectdirs/des/jderose/Chinchilla/Herd/Chinchilla-3/addgalspostprocess/Y3a/Chinchilla-3Y3a_v2.0_obs.4.fits',\n",
       " '/global/project/projectdirs/des/jderose/Chinchilla/Herd/Chinchilla-3/addgalspostprocess/Y3a/Chinchilla-3Y3a_v2.0_obs.343.fits',\n",
       " '/global/project/projectdirs/des/jderose/Chinchilla/Herd/Chinchilla-3/addgalspostprocess/Y3a/Chinchilla-3Y3a_v2.0_obs.53.fits',\n",
       " '/global/project/projectdirs/des/jderose/Chinchilla/Herd/Chinchilla-3/addgalspostprocess/Y3a/Chinchilla-3Y3a_v2.0_obs.32.fits',\n",
       " '/global/project/projectdirs/des/jderose/Chinchilla/Herd/Chinchilla-3/addgalspostprocess/Y3a/Chinchilla-3Y3a_v2.0_obs.309.fits',\n",
       " '/global/project/projectdirs/des/jderose/Chinchilla/Herd/Chinchilla-3/addgalspostprocess/Y3a/Chinchilla-3Y3a_v2.0_obs.103.fits',\n",
       " '/global/project/projectdirs/des/jderose/Chinchilla/Herd/Chinchilla-3/addgalspostprocess/Y3a/Chinchilla-3Y3a_v2.0_obs.361.fits',\n",
       " '/global/project/projectdirs/des/jderose/Chinchilla/Herd/Chinchilla-3/addgalspostprocess/Y3a/Chinchilla-3Y3a_v2.0_obs.346.fits',\n",
       " '/global/project/projectdirs/des/jderose/Chinchilla/Herd/Chinchilla-3/addgalspostprocess/Y3a/Chinchilla-3Y3a_v2.0_obs.36.fits',\n",
       " '/global/project/projectdirs/des/jderose/Chinchilla/Herd/Chinchilla-3/addgalspostprocess/Y3a/Chinchilla-3Y3a_v2.0_obs.109.fits',\n",
       " '/global/project/projectdirs/des/jderose/Chinchilla/Herd/Chinchilla-3/addgalspostprocess/Y3a/Chinchilla-3Y3a_v2.0_obs.93.fits',\n",
       " '/global/project/projectdirs/des/jderose/Chinchilla/Herd/Chinchilla-3/addgalspostprocess/Y3a/Chinchilla-3Y3a_v2.0_obs.14.fits',\n",
       " '/global/project/projectdirs/des/jderose/Chinchilla/Herd/Chinchilla-3/addgalspostprocess/Y3a/Chinchilla-3Y3a_v2.0_obs.107.fits',\n",
       " '/global/project/projectdirs/des/jderose/Chinchilla/Herd/Chinchilla-3/addgalspostprocess/Y3a/Chinchilla-3Y3a_v2.0_obs.10.fits',\n",
       " '/global/project/projectdirs/des/jderose/Chinchilla/Herd/Chinchilla-3/addgalspostprocess/Y3a/Chinchilla-3Y3a_v2.0_obs.9.fits',\n",
       " '/global/project/projectdirs/des/jderose/Chinchilla/Herd/Chinchilla-3/addgalspostprocess/Y3a/Chinchilla-3Y3a_v2.0_obs.25.fits',\n",
       " '/global/project/projectdirs/des/jderose/Chinchilla/Herd/Chinchilla-3/addgalspostprocess/Y3a/Chinchilla-3Y3a_v2.0_obs.367.fits',\n",
       " '/global/project/projectdirs/des/jderose/Chinchilla/Herd/Chinchilla-3/addgalspostprocess/Y3a/Chinchilla-3Y3a_v2.0_obs.91.fits',\n",
       " '/global/project/projectdirs/des/jderose/Chinchilla/Herd/Chinchilla-3/addgalspostprocess/Y3a/Chinchilla-3Y3a_v2.0_obs.102.fits',\n",
       " '/global/project/projectdirs/des/jderose/Chinchilla/Herd/Chinchilla-3/addgalspostprocess/Y3a/Chinchilla-3Y3a_v2.0_obs.427.fits',\n",
       " '/global/project/projectdirs/des/jderose/Chinchilla/Herd/Chinchilla-3/addgalspostprocess/Y3a/Chinchilla-3Y3a_v2.0_obs.39.fits',\n",
       " '/global/project/projectdirs/des/jderose/Chinchilla/Herd/Chinchilla-3/addgalspostprocess/Y3a/Chinchilla-3Y3a_v2.0_obs.383.fits',\n",
       " '/global/project/projectdirs/des/jderose/Chinchilla/Herd/Chinchilla-3/addgalspostprocess/Y3a/Chinchilla-3Y3a_v2.0_obs.46.fits',\n",
       " '/global/project/projectdirs/des/jderose/Chinchilla/Herd/Chinchilla-3/addgalspostprocess/Y3a/Chinchilla-3Y3a_v2.0_obs.17.fits',\n",
       " '/global/project/projectdirs/des/jderose/Chinchilla/Herd/Chinchilla-3/addgalspostprocess/Y3a/Chinchilla-3Y3a_v2.0_obs.114.fits',\n",
       " '/global/project/projectdirs/des/jderose/Chinchilla/Herd/Chinchilla-3/addgalspostprocess/Y3a/Chinchilla-3Y3a_v2.0_obs.430.fits',\n",
       " '/global/project/projectdirs/des/jderose/Chinchilla/Herd/Chinchilla-3/addgalspostprocess/Y3a/Chinchilla-3Y3a_v2.0_obs.5.fits',\n",
       " '/global/project/projectdirs/des/jderose/Chinchilla/Herd/Chinchilla-3/addgalspostprocess/Y3a/Chinchilla-3Y3a_v2.0_obs.342.fits',\n",
       " '/global/project/projectdirs/des/jderose/Chinchilla/Herd/Chinchilla-3/addgalspostprocess/Y3a/Chinchilla-3Y3a_v2.0_obs.35.fits',\n",
       " '/global/project/projectdirs/des/jderose/Chinchilla/Herd/Chinchilla-3/addgalspostprocess/Y3a/Chinchilla-3Y3a_v2.0_obs.381.fits',\n",
       " '/global/project/projectdirs/des/jderose/Chinchilla/Herd/Chinchilla-3/addgalspostprocess/Y3a/Chinchilla-3Y3a_v2.0_obs.27.fits',\n",
       " '/global/project/projectdirs/des/jderose/Chinchilla/Herd/Chinchilla-3/addgalspostprocess/Y3a/Chinchilla-3Y3a_v2.0_obs.30.fits',\n",
       " '/global/project/projectdirs/des/jderose/Chinchilla/Herd/Chinchilla-3/addgalspostprocess/Y3a/Chinchilla-3Y3a_v2.0_obs.382.fits',\n",
       " '/global/project/projectdirs/des/jderose/Chinchilla/Herd/Chinchilla-3/addgalspostprocess/Y3a/Chinchilla-3Y3a_v2.0_obs.368.fits',\n",
       " '/global/project/projectdirs/des/jderose/Chinchilla/Herd/Chinchilla-3/addgalspostprocess/Y3a/Chinchilla-3Y3a_v2.0_obs.18.fits',\n",
       " '/global/project/projectdirs/des/jderose/Chinchilla/Herd/Chinchilla-3/addgalspostprocess/Y3a/Chinchilla-3Y3a_v2.0_obs.65.fits',\n",
       " '/global/project/projectdirs/des/jderose/Chinchilla/Herd/Chinchilla-3/addgalspostprocess/Y3a/Chinchilla-3Y3a_v2.0_obs.350.fits',\n",
       " '/global/project/projectdirs/des/jderose/Chinchilla/Herd/Chinchilla-3/addgalspostprocess/Y3a/Chinchilla-3Y3a_v2.0_obs.22.fits',\n",
       " '/global/project/projectdirs/des/jderose/Chinchilla/Herd/Chinchilla-3/addgalspostprocess/Y3a/Chinchilla-3Y3a_v2.0_obs.66.fits',\n",
       " '/global/project/projectdirs/des/jderose/Chinchilla/Herd/Chinchilla-3/addgalspostprocess/Y3a/Chinchilla-3Y3a_v2.0_obs.351.fits',\n",
       " '/global/project/projectdirs/des/jderose/Chinchilla/Herd/Chinchilla-3/addgalspostprocess/Y3a/Chinchilla-3Y3a_v2.0_obs.357.fits',\n",
       " '/global/project/projectdirs/des/jderose/Chinchilla/Herd/Chinchilla-3/addgalspostprocess/Y3a/Chinchilla-3Y3a_v2.0_obs.111.fits',\n",
       " '/global/project/projectdirs/des/jderose/Chinchilla/Herd/Chinchilla-3/addgalspostprocess/Y3a/Chinchilla-3Y3a_v2.0_obs.112.fits',\n",
       " '/global/project/projectdirs/des/jderose/Chinchilla/Herd/Chinchilla-3/addgalspostprocess/Y3a/Chinchilla-3Y3a_v2.0_obs.120.fits',\n",
       " '/global/project/projectdirs/des/jderose/Chinchilla/Herd/Chinchilla-3/addgalspostprocess/Y3a/Chinchilla-3Y3a_v2.0_obs.87.fits',\n",
       " '/global/project/projectdirs/des/jderose/Chinchilla/Herd/Chinchilla-3/addgalspostprocess/Y3a/Chinchilla-3Y3a_v2.0_obs.104.fits',\n",
       " '/global/project/projectdirs/des/jderose/Chinchilla/Herd/Chinchilla-3/addgalspostprocess/Y3a/Chinchilla-3Y3a_v2.0_obs.54.fits',\n",
       " '/global/project/projectdirs/des/jderose/Chinchilla/Herd/Chinchilla-3/addgalspostprocess/Y3a/Chinchilla-3Y3a_v2.0_obs.374.fits',\n",
       " '/global/project/projectdirs/des/jderose/Chinchilla/Herd/Chinchilla-3/addgalspostprocess/Y3a/Chinchilla-3Y3a_v2.0_obs.345.fits',\n",
       " '/global/project/projectdirs/des/jderose/Chinchilla/Herd/Chinchilla-3/addgalspostprocess/Y3a/Chinchilla-3Y3a_v2.0_obs.364.fits',\n",
       " '/global/project/projectdirs/des/jderose/Chinchilla/Herd/Chinchilla-3/addgalspostprocess/Y3a/Chinchilla-3Y3a_v2.0_obs.24.fits',\n",
       " '/global/project/projectdirs/des/jderose/Chinchilla/Herd/Chinchilla-3/addgalspostprocess/Y3a/Chinchilla-3Y3a_v2.0_obs.121.fits',\n",
       " '/global/project/projectdirs/des/jderose/Chinchilla/Herd/Chinchilla-3/addgalspostprocess/Y3a/Chinchilla-3Y3a_v2.0_obs.19.fits',\n",
       " '/global/project/projectdirs/des/jderose/Chinchilla/Herd/Chinchilla-3/addgalspostprocess/Y3a/Chinchilla-3Y3a_v2.0_obs.98.fits',\n",
       " '/global/project/projectdirs/des/jderose/Chinchilla/Herd/Chinchilla-3/addgalspostprocess/Y3a/Chinchilla-3Y3a_v2.0_obs.64.fits',\n",
       " '/global/project/projectdirs/des/jderose/Chinchilla/Herd/Chinchilla-3/addgalspostprocess/Y3a/Chinchilla-3Y3a_v2.0_obs.6.fits',\n",
       " '/global/project/projectdirs/des/jderose/Chinchilla/Herd/Chinchilla-3/addgalspostprocess/Y3a/Chinchilla-3Y3a_v2.0_obs.378.fits',\n",
       " '/global/project/projectdirs/des/jderose/Chinchilla/Herd/Chinchilla-3/addgalspostprocess/Y3a/Chinchilla-3Y3a_v2.0_obs.376.fits',\n",
       " '/global/project/projectdirs/des/jderose/Chinchilla/Herd/Chinchilla-3/addgalspostprocess/Y3a/Chinchilla-3Y3a_v2.0_obs.7.fits',\n",
       " '/global/project/projectdirs/des/jderose/Chinchilla/Herd/Chinchilla-3/addgalspostprocess/Y3a/Chinchilla-3Y3a_v2.0_obs.21.fits',\n",
       " '/global/project/projectdirs/des/jderose/Chinchilla/Herd/Chinchilla-3/addgalspostprocess/Y3a/Chinchilla-3Y3a_v2.0_obs.41.fits',\n",
       " '/global/project/projectdirs/des/jderose/Chinchilla/Herd/Chinchilla-3/addgalspostprocess/Y3a/Chinchilla-3Y3a_v2.0_obs.113.fits',\n",
       " '/global/project/projectdirs/des/jderose/Chinchilla/Herd/Chinchilla-3/addgalspostprocess/Y3a/Chinchilla-3Y3a_v2.0_obs.43.fits',\n",
       " '/global/project/projectdirs/des/jderose/Chinchilla/Herd/Chinchilla-3/addgalspostprocess/Y3a/Chinchilla-3Y3a_v2.0_obs.105.fits',\n",
       " '/global/project/projectdirs/des/jderose/Chinchilla/Herd/Chinchilla-3/addgalspostprocess/Y3a/Chinchilla-3Y3a_v2.0_obs.428.fits',\n",
       " '/global/project/projectdirs/des/jderose/Chinchilla/Herd/Chinchilla-3/addgalspostprocess/Y3a/Chinchilla-3Y3a_v2.0_obs.94.fits',\n",
       " '/global/project/projectdirs/des/jderose/Chinchilla/Herd/Chinchilla-3/addgalspostprocess/Y3a/Chinchilla-3Y3a_v2.0_obs.426.fits',\n",
       " '/global/project/projectdirs/des/jderose/Chinchilla/Herd/Chinchilla-3/addgalspostprocess/Y3a/Chinchilla-3Y3a_v2.0_obs.108.fits',\n",
       " '/global/project/projectdirs/des/jderose/Chinchilla/Herd/Chinchilla-3/addgalspostprocess/Y3a/Chinchilla-3Y3a_v2.0_obs.110.fits',\n",
       " '/global/project/projectdirs/des/jderose/Chinchilla/Herd/Chinchilla-3/addgalspostprocess/Y3a/Chinchilla-3Y3a_v2.0_obs.425.fits',\n",
       " '/global/project/projectdirs/des/jderose/Chinchilla/Herd/Chinchilla-3/addgalspostprocess/Y3a/Chinchilla-3Y3a_v2.0_obs.15.fits',\n",
       " '/global/project/projectdirs/des/jderose/Chinchilla/Herd/Chinchilla-3/addgalspostprocess/Y3a/Chinchilla-3Y3a_v2.0_obs.11.fits',\n",
       " '/global/project/projectdirs/des/jderose/Chinchilla/Herd/Chinchilla-3/addgalspostprocess/Y3a/Chinchilla-3Y3a_v2.0_obs.358.fits',\n",
       " '/global/project/projectdirs/des/jderose/Chinchilla/Herd/Chinchilla-3/addgalspostprocess/Y3a/Chinchilla-3Y3a_v2.0_obs.55.fits',\n",
       " '/global/project/projectdirs/des/jderose/Chinchilla/Herd/Chinchilla-3/addgalspostprocess/Y3a/Chinchilla-3Y3a_v2.0_obs.49.fits',\n",
       " '/global/project/projectdirs/des/jderose/Chinchilla/Herd/Chinchilla-3/addgalspostprocess/Y3a/Chinchilla-3Y3a_v2.0_obs.37.fits',\n",
       " '/global/project/projectdirs/des/jderose/Chinchilla/Herd/Chinchilla-3/addgalspostprocess/Y3a/Chinchilla-3Y3a_v2.0_obs.124.fits',\n",
       " '/global/project/projectdirs/des/jderose/Chinchilla/Herd/Chinchilla-3/addgalspostprocess/Y3a/Chinchilla-3Y3a_v2.0_obs.99.fits',\n",
       " '/global/project/projectdirs/des/jderose/Chinchilla/Herd/Chinchilla-3/addgalspostprocess/Y3a/Chinchilla-3Y3a_v2.0_obs.29.fits',\n",
       " '/global/project/projectdirs/des/jderose/Chinchilla/Herd/Chinchilla-3/addgalspostprocess/Y3a/Chinchilla-3Y3a_v2.0_obs.122.fits',\n",
       " '/global/project/projectdirs/des/jderose/Chinchilla/Herd/Chinchilla-3/addgalspostprocess/Y3a/Chinchilla-3Y3a_v2.0_obs.117.fits',\n",
       " '/global/project/projectdirs/des/jderose/Chinchilla/Herd/Chinchilla-3/addgalspostprocess/Y3a/Chinchilla-3Y3a_v2.0_obs.95.fits',\n",
       " '/global/project/projectdirs/des/jderose/Chinchilla/Herd/Chinchilla-3/addgalspostprocess/Y3a/Chinchilla-3Y3a_v2.0_obs.51.fits',\n",
       " '/global/project/projectdirs/des/jderose/Chinchilla/Herd/Chinchilla-3/addgalspostprocess/Y3a/Chinchilla-3Y3a_v2.0_obs.48.fits',\n",
       " '/global/project/projectdirs/des/jderose/Chinchilla/Herd/Chinchilla-3/addgalspostprocess/Y3a/Chinchilla-3Y3a_v2.0_obs.115.fits']"
      ]
     },
     "execution_count": 114,
     "metadata": {},
     "output_type": "execute_result"
    }
   ],
   "source": [
    "gals_files"
   ]
  },
  {
   "cell_type": "code",
   "execution_count": 115,
   "metadata": {},
   "outputs": [],
   "source": [
    "fits = fitsio.FITS(gals_files[0])"
   ]
  },
  {
   "cell_type": "code",
   "execution_count": 117,
   "metadata": {},
   "outputs": [
    {
     "data": {
      "text/plain": [
       "\n",
       "  file: /global/project/projectdirs/des/jderose/Chinchilla/Herd/Chinchilla-3/addgalspostprocess/Y3a/Chinchilla-3Y3a_v2.0_obs.16.fits\n",
       "  extension: 1\n",
       "  type: BINARY_TBL\n",
       "  rows: 16130977\n",
       "  column info:\n",
       "    ID                  i8  \n",
       "    RA                  f8  \n",
       "    DEC                 f8  \n",
       "    EPSILON1            f8  \n",
       "    EPSILON2            f8  \n",
       "    SIZE                f8  \n",
       "    PHOTOZ_GAUSSIAN     f8  \n",
       "    MAG_G               f8  \n",
       "    MAGERR_G            f8  \n",
       "    FLUX_G              f8  \n",
       "    IVAR_G              f8  \n",
       "    MAG_R               f8  \n",
       "    MAGERR_R            f8  \n",
       "    FLUX_R              f8  \n",
       "    IVAR_R              f8  \n",
       "    MAG_I               f8  \n",
       "    MAGERR_I            f8  \n",
       "    FLUX_I              f8  \n",
       "    IVAR_I              f8  \n",
       "    MAG_Z               f8  \n",
       "    MAGERR_Z            f8  \n",
       "    FLUX_Z              f8  \n",
       "    IVAR_Z              f8  \n",
       "    MCAL_MAG_R          f8  \n",
       "    MCAL_MAGERR_R       f8  \n",
       "    MCAL_FLUX_R         f8  \n",
       "    MCAL_IVAR_R         f8  \n",
       "    MCAL_MAG_I          f8  \n",
       "    MCAL_MAGERR_I       f8  \n",
       "    MCAL_FLUX_I         f8  \n",
       "    MCAL_IVAR_I         f8  \n",
       "    MCAL_MAG_Z          f8  \n",
       "    MCAL_MAGERR_Z       f8  \n",
       "    MCAL_FLUX_Z         f8  \n",
       "    MCAL_IVAR_Z         f8  \n",
       "    M200                f8  \n",
       "    Z                   f8  \n",
       "    CENTRAL             i8  \n",
       "    HALOID              i8  \n",
       "    R200                f8  \n",
       "    Z_COS               f8  "
      ]
     },
     "execution_count": 117,
     "metadata": {},
     "output_type": "execute_result"
    }
   ],
   "source": [
    "fits[1]"
   ]
  },
  {
   "cell_type": "code",
   "execution_count": 102,
   "metadata": {},
   "outputs": [],
   "source": [
    "h=0.7\n",
    "def get_mask(f,mask):\n",
    "    fits = fitsio.FITS(f)\n",
    "    if mask is not None: w = fits[1].where(mask)\n",
    "    else: w = np.arange(fits[1].get_nrows(),dtype=np.int64)\n",
    "    fits.close()\n",
    "    return w\n",
    "def loadfiles(filenames, columns=None, mask=None):\n",
    "    '''\n",
    "    Read a set of filenames with fitsio.read and return a concatenated array\n",
    "    '''\n",
    "    out = []\n",
    "    i = 1\n",
    "    print()\n",
    "    for f in filenames:\n",
    "        print('File {i}: {f}'.format(i=i, f=f))\n",
    "        if not os.path.isfile(f):\n",
    "            print('file not found: %s'%f)\n",
    "        else:\n",
    "            w = get_mask(f,mask) ## if mask None returns all the rows\n",
    "            ## loading subset\n",
    "            g0= Table(fitsio.read(f,rows=w,columns=columns))\n",
    "            out.append(g0)\n",
    "        i += 1\n",
    "    mygals  = [data for data in out if data is not None]\n",
    "    data       = vstack(mygals)\n",
    "    return data\n",
    "\n",
    "def load_files(files,magMax=29.):\n",
    "    colnames      = ['ID', 'HALOID', 'RA', 'DEC', 'Z', 'OMAG', 'OMAGERR', 'AMAG', 'RHALO', 'CENTRAL','M200','R200','MAG_R']\n",
    "    #amag_cut = amagMax - 5*np.log10(h)\n",
    "    mag_mask = 'OMAG[1] < %.2f'%(magMax)\n",
    "\n",
    "    t0= time()\n",
    "    g = loadfiles(files,mask=mag_mask,columns=colnames)\n",
    "    print('loading time: %.2f s \\n'%(time()-t0))\n",
    "\n",
    "    return g"
   ]
  },
  {
   "cell_type": "code",
   "execution_count": 103,
   "metadata": {},
   "outputs": [
    {
     "name": "stdout",
     "output_type": "stream",
     "text": [
      "\n",
      "File 1: /global/project/projectdirs/des/jderose/Chinchilla/Herd/Chinchilla-3/addgalspostprocess/Y3a/Chinchilla-3Y3a_v2.0_obs_rmp_0011098.fit\n"
     ]
    },
    {
     "ename": "OSError",
     "evalue": "FITSIO status = 202: keyword not found in header\nffgcnn could not find column: OMAG\nffgkey could not find keyword: OMAG\n",
     "output_type": "error",
     "traceback": [
      "\u001b[0;31m---------------------------------------------------------------------------\u001b[0m",
      "\u001b[0;31mOSError\u001b[0m                                   Traceback (most recent call last)",
      "\u001b[0;32m<ipython-input-103-6b94cff32fea>\u001b[0m in \u001b[0;36m<module>\u001b[0;34m\u001b[0m\n\u001b[0;32m----> 1\u001b[0;31m \u001b[0mg\u001b[0m \u001b[0;34m=\u001b[0m \u001b[0mload_files\u001b[0m\u001b[0;34m(\u001b[0m\u001b[0mgals_files\u001b[0m\u001b[0;34m[\u001b[0m\u001b[0;34m:\u001b[0m\u001b[0;36m3\u001b[0m\u001b[0;34m]\u001b[0m\u001b[0;34m)\u001b[0m\u001b[0;34m\u001b[0m\u001b[0;34m\u001b[0m\u001b[0m\n\u001b[0m",
      "\u001b[0;32m<ipython-input-102-a0d66583bf84>\u001b[0m in \u001b[0;36mload_files\u001b[0;34m(files, magMax)\u001b[0m\n\u001b[1;32m     33\u001b[0m \u001b[0;34m\u001b[0m\u001b[0m\n\u001b[1;32m     34\u001b[0m     \u001b[0mt0\u001b[0m\u001b[0;34m=\u001b[0m \u001b[0mtime\u001b[0m\u001b[0;34m(\u001b[0m\u001b[0;34m)\u001b[0m\u001b[0;34m\u001b[0m\u001b[0;34m\u001b[0m\u001b[0m\n\u001b[0;32m---> 35\u001b[0;31m     \u001b[0mg\u001b[0m \u001b[0;34m=\u001b[0m \u001b[0mloadfiles\u001b[0m\u001b[0;34m(\u001b[0m\u001b[0mfiles\u001b[0m\u001b[0;34m,\u001b[0m\u001b[0mmask\u001b[0m\u001b[0;34m=\u001b[0m\u001b[0mmag_mask\u001b[0m\u001b[0;34m,\u001b[0m\u001b[0mcolumns\u001b[0m\u001b[0;34m=\u001b[0m\u001b[0mcolnames\u001b[0m\u001b[0;34m)\u001b[0m\u001b[0;34m\u001b[0m\u001b[0;34m\u001b[0m\u001b[0m\n\u001b[0m\u001b[1;32m     36\u001b[0m     \u001b[0mprint\u001b[0m\u001b[0;34m(\u001b[0m\u001b[0;34m'loading time: %.2f s \\n'\u001b[0m\u001b[0;34m%\u001b[0m\u001b[0;34m(\u001b[0m\u001b[0mtime\u001b[0m\u001b[0;34m(\u001b[0m\u001b[0;34m)\u001b[0m\u001b[0;34m-\u001b[0m\u001b[0mt0\u001b[0m\u001b[0;34m)\u001b[0m\u001b[0;34m)\u001b[0m\u001b[0;34m\u001b[0m\u001b[0;34m\u001b[0m\u001b[0m\n\u001b[1;32m     37\u001b[0m \u001b[0;34m\u001b[0m\u001b[0m\n",
      "\u001b[0;32m<ipython-input-102-a0d66583bf84>\u001b[0m in \u001b[0;36mloadfiles\u001b[0;34m(filenames, columns, mask)\u001b[0m\n\u001b[1;32m     18\u001b[0m             \u001b[0mprint\u001b[0m\u001b[0;34m(\u001b[0m\u001b[0;34m'file not found: %s'\u001b[0m\u001b[0;34m%\u001b[0m\u001b[0mf\u001b[0m\u001b[0;34m)\u001b[0m\u001b[0;34m\u001b[0m\u001b[0;34m\u001b[0m\u001b[0m\n\u001b[1;32m     19\u001b[0m         \u001b[0;32melse\u001b[0m\u001b[0;34m:\u001b[0m\u001b[0;34m\u001b[0m\u001b[0;34m\u001b[0m\u001b[0m\n\u001b[0;32m---> 20\u001b[0;31m             \u001b[0mw\u001b[0m \u001b[0;34m=\u001b[0m \u001b[0mget_mask\u001b[0m\u001b[0;34m(\u001b[0m\u001b[0mf\u001b[0m\u001b[0;34m,\u001b[0m\u001b[0mmask\u001b[0m\u001b[0;34m)\u001b[0m \u001b[0;31m## if mask None returns all the rows\u001b[0m\u001b[0;34m\u001b[0m\u001b[0;34m\u001b[0m\u001b[0m\n\u001b[0m\u001b[1;32m     21\u001b[0m             \u001b[0;31m## loading subset\u001b[0m\u001b[0;34m\u001b[0m\u001b[0;34m\u001b[0m\u001b[0;34m\u001b[0m\u001b[0m\n\u001b[1;32m     22\u001b[0m             \u001b[0mg0\u001b[0m\u001b[0;34m=\u001b[0m \u001b[0mTable\u001b[0m\u001b[0;34m(\u001b[0m\u001b[0mfitsio\u001b[0m\u001b[0;34m.\u001b[0m\u001b[0mread\u001b[0m\u001b[0;34m(\u001b[0m\u001b[0mf\u001b[0m\u001b[0;34m,\u001b[0m\u001b[0mrows\u001b[0m\u001b[0;34m=\u001b[0m\u001b[0mw\u001b[0m\u001b[0;34m,\u001b[0m\u001b[0mcolumns\u001b[0m\u001b[0;34m=\u001b[0m\u001b[0mcolumns\u001b[0m\u001b[0;34m)\u001b[0m\u001b[0;34m)\u001b[0m\u001b[0;34m\u001b[0m\u001b[0;34m\u001b[0m\u001b[0m\n",
      "\u001b[0;32m<ipython-input-102-a0d66583bf84>\u001b[0m in \u001b[0;36mget_mask\u001b[0;34m(f, mask)\u001b[0m\n\u001b[1;32m      2\u001b[0m \u001b[0;32mdef\u001b[0m \u001b[0mget_mask\u001b[0m\u001b[0;34m(\u001b[0m\u001b[0mf\u001b[0m\u001b[0;34m,\u001b[0m\u001b[0mmask\u001b[0m\u001b[0;34m)\u001b[0m\u001b[0;34m:\u001b[0m\u001b[0;34m\u001b[0m\u001b[0;34m\u001b[0m\u001b[0m\n\u001b[1;32m      3\u001b[0m     \u001b[0mfits\u001b[0m \u001b[0;34m=\u001b[0m \u001b[0mfitsio\u001b[0m\u001b[0;34m.\u001b[0m\u001b[0mFITS\u001b[0m\u001b[0;34m(\u001b[0m\u001b[0mf\u001b[0m\u001b[0;34m)\u001b[0m\u001b[0;34m\u001b[0m\u001b[0;34m\u001b[0m\u001b[0m\n\u001b[0;32m----> 4\u001b[0;31m     \u001b[0;32mif\u001b[0m \u001b[0mmask\u001b[0m \u001b[0;32mis\u001b[0m \u001b[0;32mnot\u001b[0m \u001b[0;32mNone\u001b[0m\u001b[0;34m:\u001b[0m \u001b[0mw\u001b[0m \u001b[0;34m=\u001b[0m \u001b[0mfits\u001b[0m\u001b[0;34m[\u001b[0m\u001b[0;36m1\u001b[0m\u001b[0;34m]\u001b[0m\u001b[0;34m.\u001b[0m\u001b[0mwhere\u001b[0m\u001b[0;34m(\u001b[0m\u001b[0mmask\u001b[0m\u001b[0;34m)\u001b[0m\u001b[0;34m\u001b[0m\u001b[0;34m\u001b[0m\u001b[0m\n\u001b[0m\u001b[1;32m      5\u001b[0m     \u001b[0;32melse\u001b[0m\u001b[0;34m:\u001b[0m \u001b[0mw\u001b[0m \u001b[0;34m=\u001b[0m \u001b[0mnp\u001b[0m\u001b[0;34m.\u001b[0m\u001b[0marange\u001b[0m\u001b[0;34m(\u001b[0m\u001b[0mfits\u001b[0m\u001b[0;34m[\u001b[0m\u001b[0;36m1\u001b[0m\u001b[0;34m]\u001b[0m\u001b[0;34m.\u001b[0m\u001b[0mget_nrows\u001b[0m\u001b[0;34m(\u001b[0m\u001b[0;34m)\u001b[0m\u001b[0;34m,\u001b[0m\u001b[0mdtype\u001b[0m\u001b[0;34m=\u001b[0m\u001b[0mnp\u001b[0m\u001b[0;34m.\u001b[0m\u001b[0mint64\u001b[0m\u001b[0;34m)\u001b[0m\u001b[0;34m\u001b[0m\u001b[0;34m\u001b[0m\u001b[0m\n\u001b[1;32m      6\u001b[0m     \u001b[0mfits\u001b[0m\u001b[0;34m.\u001b[0m\u001b[0mclose\u001b[0m\u001b[0;34m(\u001b[0m\u001b[0;34m)\u001b[0m\u001b[0;34m\u001b[0m\u001b[0;34m\u001b[0m\u001b[0m\n",
      "\u001b[0;32m/opt/lsst/software/stack/conda/miniconda3-py38_4.9.2/envs/lsst-scipipe-0.5.0/lib/python3.8/site-packages/fitsio/hdu/table.py\u001b[0m in \u001b[0;36mwhere\u001b[0;34m(self, expression)\u001b[0m\n\u001b[1;32m    162\u001b[0m             \u001b[0;34m\"x > 3 && y < 5\"\u001b[0m\u001b[0;34m\u001b[0m\u001b[0;34m\u001b[0m\u001b[0m\n\u001b[1;32m    163\u001b[0m         \"\"\"\n\u001b[0;32m--> 164\u001b[0;31m         \u001b[0;32mreturn\u001b[0m \u001b[0mself\u001b[0m\u001b[0;34m.\u001b[0m\u001b[0m_FITS\u001b[0m\u001b[0;34m.\u001b[0m\u001b[0mwhere\u001b[0m\u001b[0;34m(\u001b[0m\u001b[0mself\u001b[0m\u001b[0;34m.\u001b[0m\u001b[0m_ext\u001b[0m\u001b[0;34m+\u001b[0m\u001b[0;36m1\u001b[0m\u001b[0;34m,\u001b[0m \u001b[0mexpression\u001b[0m\u001b[0;34m)\u001b[0m\u001b[0;34m\u001b[0m\u001b[0;34m\u001b[0m\u001b[0m\n\u001b[0m\u001b[1;32m    165\u001b[0m \u001b[0;34m\u001b[0m\u001b[0m\n\u001b[1;32m    166\u001b[0m     def write(self, data, firstrow=0, columns=None, names=None, slow=False,\n",
      "\u001b[0;31mOSError\u001b[0m: FITSIO status = 202: keyword not found in header\nffgcnn could not find column: OMAG\nffgkey could not find keyword: OMAG\n"
     ]
    }
   ],
   "source": [
    "g = load_files(gals_files[:3])"
   ]
  },
  {
   "cell_type": "code",
   "execution_count": 81,
   "metadata": {},
   "outputs": [],
   "source": [
    "ra,dec = c1['TRA'],c1['TDEC']"
   ]
  },
  {
   "cell_type": "code",
   "execution_count": 82,
   "metadata": {},
   "outputs": [
    {
     "data": {
      "text/plain": [
       "<matplotlib.collections.PathCollection at 0x2aaaf0ab5220>"
      ]
     },
     "execution_count": 82,
     "metadata": {},
     "output_type": "execute_result"
    },
    {
     "data": {
      "image/png": "[encoded data removed]",
      "text/plain": [
       "<Figure size 432x288 with 1 Axes>"
      ]
     },
     "metadata": {
      "needs_background": "light"
     },
     "output_type": "display_data"
    }
   ],
   "source": [
    "plt.scatter(ra,dec)"
   ]
  },
  {
   "cell_type": "code",
   "execution_count": 77,
   "metadata": {},
   "outputs": [
    {
     "data": {
      "text/html": [
       "<i>Table length=1115969</i>\n",
       "<table id=\"table46913669069600\" class=\"table-striped table-bordered table-condensed\">\n",
       "<thead><tr><th>RA</th><th>DEC</th><th>TDEC</th></tr></thead>\n",
       "<thead><tr><th>float64</th><th>float64</th><th>float64</th></tr></thead>\n",
       "<tr><td>0.0</td><td>0.0</td><td>20.0600898869494</td></tr>\n",
       "<tr><td>0.0</td><td>0.0</td><td>20.104501771990044</td></tr>\n",
       "<tr><td>0.0</td><td>0.0</td><td>20.090638036766393</td></tr>\n",
       "<tr><td>0.0</td><td>0.0</td><td>20.127252343215602</td></tr>\n",
       "<tr><td>0.0</td><td>0.0</td><td>20.136316445805278</td></tr>\n",
       "<tr><td>0.0</td><td>0.0</td><td>20.132453217357096</td></tr>\n",
       "<tr><td>0.0</td><td>0.0</td><td>20.0031234705003</td></tr>\n",
       "<tr><td>0.0</td><td>0.0</td><td>20.100973830992956</td></tr>\n",
       "<tr><td>0.0</td><td>0.0</td><td>20.079621169919847</td></tr>\n",
       "<tr><td>0.0</td><td>0.0</td><td>20.21593399703376</td></tr>\n",
       "<tr><td>...</td><td>...</td><td>...</td></tr>\n",
       "<tr><td>0.0</td><td>0.0</td><td>20.51172053516919</td></tr>\n",
       "<tr><td>0.0</td><td>0.0</td><td>20.46405025992388</td></tr>\n",
       "<tr><td>0.0</td><td>0.0</td><td>18.400722436320237</td></tr>\n",
       "<tr><td>0.0</td><td>0.0</td><td>19.944202541650768</td></tr>\n",
       "<tr><td>0.0</td><td>0.0</td><td>19.332655322284552</td></tr>\n",
       "<tr><td>0.0</td><td>0.0</td><td>18.714437273828608</td></tr>\n",
       "<tr><td>0.0</td><td>0.0</td><td>19.51161686301684</td></tr>\n",
       "<tr><td>0.0</td><td>0.0</td><td>21.190021185306648</td></tr>\n",
       "<tr><td>0.0</td><td>0.0</td><td>20.14508214164394</td></tr>\n",
       "<tr><td>0.0</td><td>0.0</td><td>18.486759357182066</td></tr>\n",
       "</table>"
      ],
      "text/plain": [
       "<Table length=1115969>\n",
       "   RA     DEC          TDEC       \n",
       "float64 float64      float64      \n",
       "------- ------- ------------------\n",
       "    0.0     0.0   20.0600898869494\n",
       "    0.0     0.0 20.104501771990044\n",
       "    0.0     0.0 20.090638036766393\n",
       "    0.0     0.0 20.127252343215602\n",
       "    0.0     0.0 20.136316445805278\n",
       "    0.0     0.0 20.132453217357096\n",
       "    0.0     0.0   20.0031234705003\n",
       "    0.0     0.0 20.100973830992956\n",
       "    0.0     0.0 20.079621169919847\n",
       "    0.0     0.0  20.21593399703376\n",
       "    ...     ...                ...\n",
       "    0.0     0.0  20.51172053516919\n",
       "    0.0     0.0  20.46405025992388\n",
       "    0.0     0.0 18.400722436320237\n",
       "    0.0     0.0 19.944202541650768\n",
       "    0.0     0.0 19.332655322284552\n",
       "    0.0     0.0 18.714437273828608\n",
       "    0.0     0.0  19.51161686301684\n",
       "    0.0     0.0 21.190021185306648\n",
       "    0.0     0.0  20.14508214164394\n",
       "    0.0     0.0 18.486759357182066"
      ]
     },
     "execution_count": 77,
     "metadata": {},
     "output_type": "execute_result"
    }
   ],
   "source": [
    "c1['RA','DEC','TDEC']"
   ]
  },
  {
   "cell_type": "code",
   "execution_count": null,
   "metadata": {},
   "outputs": [],
   "source": []
  }
 ],
 "metadata": {
  "kernelspec": {
   "display_name": "desc-stack-weekly",
   "language": "python",
   "name": "desc-stack-weekly"
  },
  "language_info": {
   "codemirror_mode": {
    "name": "ipython",
    "version": 3
   },
   "file_extension": ".py",
   "mimetype": "text/x-python",
   "name": "python",
   "nbconvert_exporter": "python",
   "pygments_lexer": "ipython3",
   "version": "3.8.8"
  }
 },
 "nbformat": 4,
 "nbformat_minor": 4
}
