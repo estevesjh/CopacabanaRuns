{
 "cells": [
  {
   "cell_type": "markdown",
   "metadata": {},
   "source": [
    "# Diagnostic Plots\n",
    "\n",
    "This notebook have several diagnostic plots for the Copacabana output of the Buzzard v1.9.8 dataset.\n",
    "\n",
    "created: May, 2022 <br>\n",
    "author: Johnny H. Esteves"
   ]
  },
  {
   "cell_type": "code",
   "execution_count": 22,
   "metadata": {},
   "outputs": [],
   "source": [
    "import numpy as np\n",
    "import scipy.stats as st\n",
    "\n",
    "from astropy.table import Table, vstack\n",
    "from astropy.io.fits import getdata\n",
    "import matplotlib.pyplot as plt"
   ]
  },
  {
   "cell_type": "code",
   "execution_count": 23,
   "metadata": {},
   "outputs": [],
   "source": [
    "import seaborn as sns; sns.set(color_codes=True)\n",
    "# plt.rcParams.update({'font.size': 16})\n",
    "sns.set_context(\"paper\", font_scale=1.3)\n",
    "sns.set_style(\"whitegrid\")\n"
   ]
  },
  {
   "cell_type": "markdown",
   "metadata": {},
   "source": [
    "## Load Dataset"
   ]
  },
  {
   "cell_type": "code",
   "execution_count": 24,
   "metadata": {},
   "outputs": [
    {
     "name": "stdout",
     "output_type": "stream",
     "text": [
      "master file: \n",
      " /data/des61.a/data/johnny/Buzzard/Buzzard_v2.0.0/y3/output/tiles/buzzard_v2.0.0_copa_00017.hdf5\n",
      "/data/des61.a/data/johnny/Buzzard/Buzzard_v2.0.0/y3/output/tiles/buzzard_v2.0.0_copa_00018.hdf5\n",
      "/data/des61.a/data/johnny/Buzzard/Buzzard_v2.0.0/y3/output/tiles/buzzard_v2.0.0_copa_00019.hdf5\n",
      "/data/des61.a/data/johnny/Buzzard/Buzzard_v2.0.0/y3/output/tiles/buzzard_v2.0.0_copa_00020.hdf5\n",
      "/data/des61.a/data/johnny/Buzzard/Buzzard_v2.0.0/y3/output/tiles/buzzard_v2.0.0_copa_00022.hdf5\n",
      "/data/des61.a/data/johnny/Buzzard/Buzzard_v2.0.0/y3/output/tiles/buzzard_v2.0.0_copa_00032.hdf5\n",
      "/data/des61.a/data/johnny/Buzzard/Buzzard_v2.0.0/y3/output/tiles/buzzard_v2.0.0_copa_00033.hdf5\n",
      "/data/des61.a/data/johnny/Buzzard/Buzzard_v2.0.0/y3/output/tiles/buzzard_v2.0.0_copa_00034.hdf5\n",
      "/data/des61.a/data/johnny/Buzzard/Buzzard_v2.0.0/y3/output/tiles/buzzard_v2.0.0_copa_00035.hdf5\n",
      "/data/des61.a/data/johnny/Buzzard/Buzzard_v2.0.0/y3/output/tiles/buzzard_v2.0.0_copa_00038.hdf5\n",
      "/data/des61.a/data/johnny/Buzzard/Buzzard_v2.0.0/y3/output/tiles/buzzard_v2.0.0_copa_00044.hdf5\n",
      "/data/des61.a/data/johnny/Buzzard/Buzzard_v2.0.0/y3/output/tiles/buzzard_v2.0.0_copa_00045.hdf5\n",
      "/data/des61.a/data/johnny/Buzzard/Buzzard_v2.0.0/y3/output/tiles/buzzard_v2.0.0_copa_00046.hdf5\n",
      "/data/des61.a/data/johnny/Buzzard/Buzzard_v2.0.0/y3/output/tiles/buzzard_v2.0.0_copa_00047.hdf5\n",
      "outdir: /data/des61.a/data/johnny/Buzzard/Buzzard_v2.0.0/y3/output/\n",
      "tile path: /data/des61.a/data/johnny/Buzzard/Buzzard_v2.0.0/y3/output/tiles\n"
     ]
    }
   ],
   "source": [
    "import sys\n",
    "sys.path.append(\"/home/s1/jesteves/git/ccopa/python/\")\n",
    "from main import copacabana\n",
    "\n",
    "root = '/home/s1/jesteves/git/buzzardAnalysis/mainAnalysis/'\n",
    "cfg  = root+'config_buzzard_v2.yaml'\n",
    "\n",
    "copa = copacabana(cfg,dataset='buzzard_v2')"
   ]
  },
  {
   "cell_type": "code",
   "execution_count": 25,
   "metadata": {},
   "outputs": [],
   "source": [
    "run_name = u'gauss003_rhod_02Lstar_nfw'\n",
    "cat = copa.load_copa_out('cluster',run_name)\n",
    "gal = copa.load_copa_out('members',run_name,is_bma=False)\n"
   ]
  },
  {
   "cell_type": "code",
   "execution_count": null,
   "metadata": {},
   "outputs": [],
   "source": []
  },
  {
   "cell_type": "code",
   "execution_count": 26,
   "metadata": {},
   "outputs": [],
   "source": [
    "# cat = cat[cat['Ngals_true']>=2]\n"
   ]
  },
  {
   "cell_type": "code",
   "execution_count": 27,
   "metadata": {},
   "outputs": [],
   "source": [
    "def chunks(ids1, ids2):\n",
    "    \"\"\"Yield successive n-sized chunks from data\"\"\"\n",
    "    for id in ids2:\n",
    "        w, = np.where(ids1 == id)\n",
    "        yield w\n",
    "\n",
    "def getTruthTable(gal,cat):\n",
    "    gal2 = gal[gal['True']==True].copy()\n",
    "\n",
    "    gal2['Pmem'] = 1.\n",
    "\n",
    "    #indices = list(chunks(gal2['CID'],cat['CID']))\n",
    "    #ngals = np.array([np.sum(gal2['Pmem'][idx]) for idx in indices])\n",
    "\n",
    "    cat2 = cat.copy()\n",
    "    cat2['Ngals'] = cat['Ngals_true'][:]\n",
    "    cat2['R200'] = cat['R200_true'][:]\n",
    "    cat2['Nbkg'] = cat['Nbkg_true'][:]\n",
    "\n",
    "    return gal2,cat2"
   ]
  },
  {
   "cell_type": "code",
   "execution_count": null,
   "metadata": {},
   "outputs": [],
   "source": []
  },
  {
   "cell_type": "code",
   "execution_count": 29,
   "metadata": {},
   "outputs": [],
   "source": [
    "gal2, cat2 = getTruthTable(gal,cat)\n",
    "\n",
    "non_empty_halos = cat2['Ngals']>0\n",
    "cat = cat[non_empty_halos]\n",
    "cat2 = cat2[non_empty_halos]"
   ]
  },
  {
   "cell_type": "code",
   "execution_count": 30,
   "metadata": {},
   "outputs": [
    {
     "ename": "ValueError",
     "evalue": "need at least one array to stack",
     "output_type": "error",
     "traceback": [
      "\u001b[0;31m\u001b[0m",
      "\u001b[0;31mValueError\u001b[0mTraceback (most recent call last)",
      "\u001b[0;32m<ipython-input-30-33f52c51038b>\u001b[0m in \u001b[0;36m<module>\u001b[0;34m()\u001b[0m\n\u001b[1;32m      1\u001b[0m \u001b[0;31m# match indices\u001b[0m\u001b[0;34m\u001b[0m\u001b[0;34m\u001b[0m\u001b[0m\n\u001b[1;32m      2\u001b[0m \u001b[0midx\u001b[0m \u001b[0;34m=\u001b[0m \u001b[0;34m[\u001b[0m\u001b[0mnp\u001b[0m\u001b[0;34m.\u001b[0m\u001b[0mwhere\u001b[0m\u001b[0;34m(\u001b[0m\u001b[0mcat2\u001b[0m\u001b[0;34m[\u001b[0m\u001b[0;34m\"CID\"\u001b[0m\u001b[0;34m]\u001b[0m \u001b[0;34m==\u001b[0m \u001b[0mcidx\u001b[0m\u001b[0;34m)\u001b[0m\u001b[0;34m[\u001b[0m\u001b[0;36m0\u001b[0m\u001b[0;34m]\u001b[0m \u001b[0;32mfor\u001b[0m \u001b[0mcidx\u001b[0m \u001b[0;32min\u001b[0m \u001b[0mcat\u001b[0m\u001b[0;34m[\u001b[0m\u001b[0;34m\"CID\"\u001b[0m\u001b[0;34m]\u001b[0m \u001b[0;32mif\u001b[0m \u001b[0mlen\u001b[0m\u001b[0;34m(\u001b[0m\u001b[0mnp\u001b[0m\u001b[0;34m.\u001b[0m\u001b[0mwhere\u001b[0m\u001b[0;34m(\u001b[0m\u001b[0mcat2\u001b[0m\u001b[0;34m[\u001b[0m\u001b[0;34m\"CID\"\u001b[0m\u001b[0;34m]\u001b[0m \u001b[0;34m==\u001b[0m \u001b[0mcidx\u001b[0m\u001b[0;34m)\u001b[0m\u001b[0;34m[\u001b[0m\u001b[0;36m0\u001b[0m\u001b[0;34m]\u001b[0m\u001b[0;34m)\u001b[0m\u001b[0;34m>\u001b[0m\u001b[0;36m0\u001b[0m\u001b[0;34m]\u001b[0m\u001b[0;34m\u001b[0m\u001b[0m\n\u001b[0;32m----> 3\u001b[0;31m \u001b[0midx\u001b[0m \u001b[0;34m=\u001b[0m \u001b[0mnp\u001b[0m\u001b[0;34m.\u001b[0m\u001b[0mstack\u001b[0m\u001b[0;34m(\u001b[0m\u001b[0midx\u001b[0m\u001b[0;34m)\u001b[0m\u001b[0;34m.\u001b[0m\u001b[0mravel\u001b[0m\u001b[0;34m(\u001b[0m\u001b[0;34m)\u001b[0m\u001b[0;34m\u001b[0m\u001b[0m\n\u001b[0m\u001b[1;32m      4\u001b[0m \u001b[0mcat2\u001b[0m \u001b[0;34m=\u001b[0m \u001b[0mcat2\u001b[0m\u001b[0;34m[\u001b[0m\u001b[0midx\u001b[0m\u001b[0;34m]\u001b[0m\u001b[0;34m\u001b[0m\u001b[0m\n",
      "\u001b[0;32m/cvmfs/des.opensciencegrid.org/fnal/anaconda2/envs/des18a/lib/python2.7/site-packages/numpy/core/shape_base.pyc\u001b[0m in \u001b[0;36mstack\u001b[0;34m(arrays, axis, out)\u001b[0m\n\u001b[1;32m    347\u001b[0m     \u001b[0marrays\u001b[0m \u001b[0;34m=\u001b[0m \u001b[0;34m[\u001b[0m\u001b[0masanyarray\u001b[0m\u001b[0;34m(\u001b[0m\u001b[0marr\u001b[0m\u001b[0;34m)\u001b[0m \u001b[0;32mfor\u001b[0m \u001b[0marr\u001b[0m \u001b[0;32min\u001b[0m \u001b[0marrays\u001b[0m\u001b[0;34m]\u001b[0m\u001b[0;34m\u001b[0m\u001b[0m\n\u001b[1;32m    348\u001b[0m     \u001b[0;32mif\u001b[0m \u001b[0;32mnot\u001b[0m \u001b[0marrays\u001b[0m\u001b[0;34m:\u001b[0m\u001b[0;34m\u001b[0m\u001b[0m\n\u001b[0;32m--> 349\u001b[0;31m         \u001b[0;32mraise\u001b[0m \u001b[0mValueError\u001b[0m\u001b[0;34m(\u001b[0m\u001b[0;34m'need at least one array to stack'\u001b[0m\u001b[0;34m)\u001b[0m\u001b[0;34m\u001b[0m\u001b[0m\n\u001b[0m\u001b[1;32m    350\u001b[0m \u001b[0;34m\u001b[0m\u001b[0m\n\u001b[1;32m    351\u001b[0m     \u001b[0mshapes\u001b[0m \u001b[0;34m=\u001b[0m \u001b[0mset\u001b[0m\u001b[0;34m(\u001b[0m\u001b[0marr\u001b[0m\u001b[0;34m.\u001b[0m\u001b[0mshape\u001b[0m \u001b[0;32mfor\u001b[0m \u001b[0marr\u001b[0m \u001b[0;32min\u001b[0m \u001b[0marrays\u001b[0m\u001b[0;34m)\u001b[0m\u001b[0;34m\u001b[0m\u001b[0m\n",
      "\u001b[0;31mValueError\u001b[0m: need at least one array to stack"
     ]
    }
   ],
   "source": [
    "# match indices\n",
    "idx = [np.where(cat2[\"CID\"] == cidx)[0] for cidx in cat[\"CID\"] if len(np.where(cat2[\"CID\"] == cidx)[0])>0]\n",
    "idx = np.stack(idx).ravel()\n",
    "cat2 = cat2[idx]\n"
   ]
  },
  {
   "cell_type": "code",
   "execution_count": null,
   "metadata": {},
   "outputs": [],
   "source": [
    "def zoffset(z,zcls):\n",
    "    return (z-zcls)/(1+zcls)\n",
    "\n",
    "def getIndices(gindices,gkeys,ckeys):\n",
    "    indicies = np.empty((0),dtype=int)\n",
    "    indicies_into_cluster = np.empty((0),dtype=int)\n",
    "\n",
    "    for i in range(ckeys.size):\n",
    "        idx, = np.where(gkeys==ckeys[i])\n",
    "        if idx.size>0:\n",
    "            w2 = np.arange(gindices[idx],gindices[idx+1], 1, dtype=int)\n",
    "            w = np.full(w2.size,i,dtype=int)\n",
    "\n",
    "            indicies = np.append(indicies,w2)\n",
    "            indicies_into_cluster = np.append(indicies_into_cluster,w)\n",
    "\n",
    "    return indicies,indicies_into_cluster\n",
    "\n",
    "def set_new_variables(gal, gal2, cat, cat2):    \n",
    "    ## get the same clustes\n",
    "    cat = cat.group_by('CID')\n",
    "    cidx, cidx2 = getIndices(cat.groups.indices,cat.groups.keys['CID'],cat2['CID'])\n",
    "    cat2 = cat2[cidx2]\n",
    "\n",
    "    gal = gal.group_by('CID')\n",
    "    gindices, gkeys = gal.groups.indices, gal.groups.keys['CID']\n",
    "    gidx, cidx = getIndices(gindices, gkeys, cat['CID'])\n",
    "    gal = gal[gidx]\n",
    "\n",
    "    gal['Ngals'] = cat['Ngals_true'][cidx]\n",
    "    gal['M200'] = cat['M200_true'][cidx]\n",
    "    gal['Rnorm'] = gal['R']/cat['R200_true'][cidx]\n",
    "\n",
    "    gal2 = gal2.group_by('CID')\n",
    "    gidx, cidx = getIndices(gal2.groups.indices,gal2.groups.keys['CID'],cat2['CID'])\n",
    "    gal2 = gal2[gidx]\n",
    "\n",
    "    gal2['Ngals'] = cat2['Ngals'][cidx]\n",
    "    gal2['M200'] = cat2['M200_true'][cidx]\n",
    "    gal2['Rnorm'] = gal2['R']/cat2['R200_true'][cidx]\n",
    "\n",
    "    gal['z_offset'] = zoffset(gal['z'],gal['redshift'])\n",
    "    gal2['z_offset'] = zoffset(gal2['z'],gal2['redshift'])\n",
    "\n",
    "    # lcolor: 0,1,2,3,4\n",
    "    color_list = ['g-r','g-i','r-i','r-z','i-z']\n",
    "    color_index = [[0,1],[0,2],[1,2],[1,3],[2,3]]\n",
    "\n",
    "    for i,pair_idx in enumerate(color_index):\n",
    "        i0, i1 = pair_idx\n",
    "        gal[color_list[i]] = gal['mag'][:,i0]-gal['mag'][:,i1]\n",
    "        gal2[color_list[i]] = gal2['mag'][:,i0]-gal2['mag'][:,i1]\n",
    "\n",
    "    #indices = list(chunks(gal['CID'],cat['CID']))\n",
    "    #indices2 = list(chunks(gal2['CID'],cat['CID']))\n",
    "\n",
    "    # gal['delta_rs'] = get_delta_color(gal,cat,indices)\n",
    "    # gal2['delta_rs'] = get_delta_color(gal2,cat,indices2)\n",
    "\n",
    "    return gal, gal2, cat, cat2"
   ]
  },
  {
   "cell_type": "code",
   "execution_count": null,
   "metadata": {},
   "outputs": [],
   "source": [
    "print('defining some variables')\n",
    "gal, gal2, cat, cat2 = set_new_variables(gal, gal2, cat, cat2)\n"
   ]
  },
  {
   "cell_type": "code",
   "execution_count": null,
   "metadata": {},
   "outputs": [],
   "source": []
  },
  {
   "cell_type": "markdown",
   "metadata": {},
   "source": [
    "### Setting Bins"
   ]
  },
  {
   "cell_type": "code",
   "execution_count": null,
   "metadata": {},
   "outputs": [],
   "source": [
    "def splitBins(var):\n",
    "    nmin = np.nanmin(var)\n",
    "    n25 = np.percentile(var,35)\n",
    "    n50 = np.nanmedian(var)\n",
    "    n75 = np.percentile(var,75)\n",
    "    nmax = np.max(var)\n",
    "    \n",
    "    return np.array([nmin,n25,n50,n75,nmax])\n"
   ]
  },
  {
   "cell_type": "code",
   "execution_count": null,
   "metadata": {},
   "outputs": [],
   "source": [
    "print('defining bins')\n",
    "massBins = splitBins(cat2['M200_true'])\n",
    "zBins = splitBins(cat['redshift'])\n",
    "nbins = splitBins(cat2['Ngals'])\n",
    "\n",
    "radialBin = np.linspace(0.01,1.01,8)\n",
    "colorBin = np.linspace(-1.5,0.5,12)\n",
    "zOffsetBin = np.linspace(-0.2,0.2,20)\n"
   ]
  },
  {
   "cell_type": "code",
   "execution_count": null,
   "metadata": {},
   "outputs": [],
   "source": [
    "nbins"
   ]
  },
  {
   "cell_type": "markdown",
   "metadata": {},
   "source": [
    "## Plots"
   ]
  },
  {
   "cell_type": "code",
   "execution_count": null,
   "metadata": {},
   "outputs": [],
   "source": [
    "from plotsLibrary import generalPlots, clusterPlots, checkPlots, sky_plot"
   ]
  },
  {
   "cell_type": "code",
   "execution_count": null,
   "metadata": {},
   "outputs": [],
   "source": [
    "print('Sky Plot')\n",
    "sky_plot(cat['RA'], cat['DEC'],title='Buzzard Simulation v1.9.8')"
   ]
  },
  {
   "cell_type": "code",
   "execution_count": null,
   "metadata": {},
   "outputs": [],
   "source": [
    "print('Plotting General plots')\n",
    "allPlots = generalPlots()\n",
    "\n",
    "print('Scaling Relations')\n",
    "allPlots.plot_scaling_relation(cat,cat2,kind='richness')"
   ]
  },
  {
   "cell_type": "code",
   "execution_count": null,
   "metadata": {},
   "outputs": [],
   "source": [
    "allPlots.plotResidual(cat,cat2,kind=['richness','z'],bins=zBins)\n",
    "allPlots.plotResidual(cat,cat2,kind=['richness','mass'],bins=massBins)\n",
    "allPlots.plotResidual(cat,cat2,kind=['richness','N'],bins=nbins)"
   ]
  },
  {
   "cell_type": "code",
   "execution_count": null,
   "metadata": {},
   "outputs": [],
   "source": [
    "print('Probability Histograms')\n",
    "allPlots.plot_grid_histograms(gal)\n",
    "allPlots.plot_grid_fractions_pmem(gal)\n"
   ]
  },
  {
   "cell_type": "code",
   "execution_count": null,
   "metadata": {},
   "outputs": [],
   "source": [
    "opt_tr = allPlots.plot_confusion_matrix(gal,'Pmem',title=None)\n",
    "print('otp th: %.2f'%opt_tr)\n",
    "allPlots.plot_roc_curve(gal,'Pmem',opt_tr)\n",
    "allPlots.plot_precision_recall_vs_threshold(gal,'Pmem',lcol='P_{mem}',title=None)\n"
   ]
  },
  {
   "cell_type": "code",
   "execution_count": null,
   "metadata": {},
   "outputs": [],
   "source": [
    "allPlots.plot_purity_completeness(gal,gal2)\n",
    "\n",
    "allPlots.plot_purity_completeness_threshold(gal,gal2,'Pmem')\n",
    "allPlots.plot_purity_completeness_threshold(gal,gal2,'Pz')\n",
    "\n",
    "allPlots.plot_purity_completeness_variable(gal,gal2,radialBin,'R')\n",
    "# allPlots.plot_purity_completeness_variable(gal,gal2,colorBin,'delta_rs')\n",
    "allPlots.plot_purity_completeness_variable(gal,gal2,zOffsetBin,'z_offset')\n",
    "\n",
    "allPlots.plot_purity_completeness_variable(gal,gal2,zBins,'redshift')\n",
    "allPlots.plot_purity_completeness_variable(gal,gal2,massBins,'M200')\n",
    "allPlots.plot_purity_completeness_variable(gal,gal2,nbins,'Ngals')\n"
   ]
  },
  {
   "cell_type": "code",
   "execution_count": null,
   "metadata": {},
   "outputs": [],
   "source": [
    "allPlots.plot_validation_pdf_radial(gal,gal2,cat,cat2)\n",
    "allPlots.plot_validation_pdf_redshift(gal,gal2,cat,cat2)\n",
    "allPlots.plot_validation_pdf_color(gal,gal2,cat,cat2)\n",
    "\n",
    "# print('Probabilities')\n",
    "# allPlots.plot_probabilities_radialPDF(gal,gal2,cat,cat2)\n",
    "allPlots.plot_probabilities_redshiftPDF(gal,gal2,cat,cat2)\n"
   ]
  },
  {
   "cell_type": "code",
   "execution_count": null,
   "metadata": {},
   "outputs": [],
   "source": []
  }
 ],
 "metadata": {
  "kernelspec": {
   "display_name": "Python 2",
   "language": "python",
   "name": "python2"
  }
 },
 "nbformat": 4,
 "nbformat_minor": 2
}
