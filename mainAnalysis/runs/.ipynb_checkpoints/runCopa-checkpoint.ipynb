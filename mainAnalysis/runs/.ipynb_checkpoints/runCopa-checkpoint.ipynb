{
 "cells": [
  {
   "cell_type": "markdown",
   "metadata": {},
   "source": [
    "# Copacabana Runs on Buzzard v2.0\n",
    "\n",
    "This notebook has some of my runs on the Buzzard v2.0 y3 catalog."
   ]
  },
  {
   "cell_type": "markdown",
   "metadata": {},
   "source": [
    "## Import Packages"
   ]
  },
  {
   "cell_type": "code",
   "execution_count": null,
   "metadata": {},
   "outputs": [],
   "source": [
    "import sys\n",
    "sys.path.append('/home/s1/jesteves/git/ccopa/python')\n",
    "\n",
    "from main import copacabana\n",
    "from make_input_files.make_photoz_pz import generate_photoz_models"
   ]
  },
  {
   "cell_type": "code",
   "execution_count": null,
   "metadata": {},
   "outputs": [],
   "source": []
  },
  {
   "cell_type": "markdown",
   "metadata": {},
   "source": [
    "#### Starting Copa"
   ]
  },
  {
   "cell_type": "code",
   "execution_count": null,
   "metadata": {},
   "outputs": [],
   "source": [
    "root = '/home/s1/jesteves/git/buzzardAnalysis/mainAnalysis/'\n",
    "cfg  = root+'config_buzzard_v2.yaml'\n",
    "\n",
    "copa = copacabana(cfg,dataset='buzzard_v2')"
   ]
  },
  {
   "cell_type": "code",
   "execution_count": null,
   "metadata": {},
   "outputs": [],
   "source": []
  },
  {
   "cell_type": "code",
   "execution_count": null,
   "metadata": {},
   "outputs": [],
   "source": []
  },
  {
   "cell_type": "markdown",
   "metadata": {},
   "source": [
    "## Run Copa"
   ]
  },
  {
   "cell_type": "markdown",
   "metadata": {},
   "source": [
    "#### 1. Gaussian 003, R200, 02Lstar"
   ]
  },
  {
   "cell_type": "code",
   "execution_count": null,
   "metadata": {},
   "outputs": [],
   "source": [
    "## setup \n",
    "copa.kwargs['r_aper_model'] = 'r200'\n",
    "copa.kwargs['mag_selection']= '02Lstar'"
   ]
  },
  {
   "cell_type": "code",
   "execution_count": null,
   "metadata": {},
   "outputs": [],
   "source": [
    "## runs\n",
    "pz_files = ['gauss001','gauss003','gauss005']\n",
    "z_widths = [0.01,0.03,0.05]\n",
    "\n",
    "runs = ['%s_%s_%s'%(pz,'r200','02Lstar') for pz in pz_files]"
   ]
  },
  {
   "cell_type": "code",
   "execution_count": null,
   "metadata": {},
   "outputs": [],
   "source": [
    "runs"
   ]
  },
  {
   "cell_type": "code",
   "execution_count": null,
   "metadata": {
    "scrolled": true
   },
   "outputs": [
    {
     "name": "stdout",
     "output_type": "stream",
     "text": [
      "run     : gauss001_r200_02Lstar\n",
      "zfile   : gauss001\n",
      "zwindow : 0.01\n",
      "\n",
      "Starting Copa\n",
      "run gauss001_r200_02Lstar\n",
      "master_file: /data/des61.a/data/johnny/Buzzard/Buzzard_v2.0.0/y3/output/tiles/buzzard_v2.0.0_copa_00032.hdf5\n",
      "loading clusters\n",
      "apply magnitude selection\n",
      "loading full members catalog\n",
      "making color columns\n",
      "selecting fake photo-z catalog\n",
      "making galaxies cut\n",
      "galaxy catalog\n",
      "all:  1282545\n",
      "cut:  731529\n",
      "assigning background galaxies\n",
      "computing physical quantities\n",
      "\n",
      "\n",
      "tile file: /data/des61.a/data/johnny/Buzzard/Buzzard_v2.0.0/y3/output/temp_file/00032/gauss001_r200_02Lstar_copa_test_gal.fits\n",
      "copa parallel process\n",
      "Geting Redshift Window\n",
      "Computing Galaxy Density\n",
      "Computing R200\n",
      "Computing PDFs \n",
      "\n",
      "-> Radial Distribution\n",
      "-> Redshift Distribution\n",
      "-> Color Distribution\n",
      "-> Mag Distribution\n",
      "--> Getting truth distributions\n",
      "Compute MaskFraction and Norm\n",
      "\n",
      " Compute Probabilities\n",
      "alpha,beta: 18.45 ,1.71\n"
     ]
    },
    {
     "name": "stderr",
     "output_type": "stream",
     "text": [
      "/cvmfs/des.opensciencegrid.org/fnal/anaconda2/envs/des18a/lib/python2.7/site-packages/scipy/interpolate/interpolate.py:595: RuntimeWarning: invalid value encountered in true_divide\n",
      "  slope = (y_hi - y_lo) / (x_hi - x_lo)[:, None]\n"
     ]
    },
    {
     "name": "stdout",
     "output_type": "stream",
     "text": [
      "alpha,beta: 2.66 ,1.74\n",
      "alpha,beta: 10.32 ,2.87\n",
      "alpha,beta: 64.72 ,7.24\n",
      "alpha,beta: 56.43 ,7.63\n",
      "alpha,beta: 44.09 ,8.29\n",
      "alpha,beta: 18.88 ,8.71\n",
      "alpha,beta: 36.40 ,1.97\n",
      "alpha,beta: 24.57 ,1.96\n",
      "alpha,beta: 35.60 ,3.23\n",
      "alpha,beta: 26.98 ,4.58\n",
      "alpha,beta: 8.05 ,2.58\n",
      "alpha,beta: 5.95 ,1.71\n",
      "alpha,beta: 49.75 ,4.22\n",
      "alpha,beta: 9.71 ,3.39\n",
      "alpha,beta: 18.70 ,4.67\n",
      "alpha,beta: 16.56 ,2.86\n",
      "alpha,beta: 15.07 ,2.49\n",
      "alpha,beta: 7.61 ,1.99\n",
      "alpha,beta: 31.48 ,4.88\n",
      "alpha,beta: 45.28 ,5.90\n",
      "alpha,beta: 51.43 ,4.22\n",
      "alpha,beta: 33.49 ,6.44\n",
      "alpha,beta: 32.55 ,6.10\n",
      "alpha,beta: 13.74 ,4.30\n",
      "alpha,beta: 11.21 ,1.10\n",
      "alpha,beta: 5.78 ,1.69\n",
      "alpha,beta: 4.17 ,3.20\n",
      "alpha,beta: 40.82 ,6.96\n",
      "alpha,beta: 40.33 ,7.35\n",
      "alpha,beta: 18.46 ,3.37\n",
      "alpha,beta: 20.97 ,2.01\n",
      "alpha,beta: 11.71 ,2.43\n",
      "alpha,beta: 12.70 ,5.38\n",
      "alpha,beta: 9.76 ,1.66\n",
      "alpha,beta: 6.64 ,1.70\n",
      "alpha,beta: 11.44 ,1.33\n",
      "alpha,beta: 30.53 ,6.34\n",
      "alpha,beta: 39.85 ,8.55\n",
      "alpha,beta: 35.94 ,5.93\n",
      "alpha,beta: 31.43 ,5.08\n",
      "alpha,beta: 20.95 ,3.05\n",
      "alpha,beta: 9.23 ,0.79\n"
     ]
    },
    {
     "name": "stderr",
     "output_type": "stream",
     "text": [
      "/home/s1/jesteves/git/ccopa/python/copac/assignProb.py:265: RuntimeWarning: invalid value encountered in divide\n",
      "  return prod/(norm+eps)\n"
     ]
    },
    {
     "name": "stdout",
     "output_type": "stream",
     "text": [
      "alpha,beta: 5.04 ,4.43\n",
      "alpha,beta: 3.39 ,1.19\n",
      "alpha,beta: 53.68 ,9.95\n",
      "alpha,beta: 40.28 ,6.49\n",
      "alpha,beta: 39.90 ,5.43\n",
      "alpha,beta: 5.58 ,3.10\n",
      "alpha,beta: 12.33 ,2.37\n",
      "alpha,beta: 10.81 ,3.10\n",
      "alpha,beta: 7.85 ,2.10\n",
      "alpha,beta: 83.85 ,9.06\n",
      "alpha,beta: 43.77 ,7.40\n",
      "alpha,beta: 30.27 ,2.55\n",
      "alpha,beta: 9.22 ,1.38\n",
      "alpha,beta: 34.81 ,3.39\n",
      "alpha,beta: 8.43 ,1.45\n",
      "alpha,beta: 22.15 ,2.62\n",
      "alpha,beta: 22.96 ,3.77\n",
      "alpha,beta: 14.54 ,1.84\n",
      "alpha,beta: 45.73 ,3.08\n",
      "alpha,beta: 25.43 ,5.61\n",
      "alpha,beta: 10.04 ,2.28\n",
      "alpha,beta: 30.44 ,4.10\n",
      "alpha,beta: 40.59 ,7.35\n",
      "alpha,beta: 31.50 ,4.51\n",
      "alpha,beta: 10.50 ,2.56\n",
      "alpha,beta: 27.61 ,3.10\n",
      "alpha,beta: 15.78 ,6.73\n",
      "alpha,beta: 9.20 ,2.70\n",
      "alpha,beta: 95.66 ,6.81\n",
      "alpha,beta: 21.25 ,8.05\n",
      "alpha,beta: 72.75 ,15.84\n",
      "alpha,beta: 34.23 ,10.00\n",
      "alpha,beta: 77.05 ,5.84\n",
      "alpha,beta: 24.24 ,6.66\n",
      "alpha,beta: 18.73 ,2.22\n",
      "alpha,beta: 8.23 ,2.59\n",
      "alpha,beta: 11.05 ,2.48\n",
      "alpha,beta: 5.73 ,2.46\n",
      "alpha,beta: 27.89 ,6.10\n",
      "alpha,beta: 163.46 ,19.07\n",
      "alpha,beta: 64.16 ,7.76\n",
      "alpha,beta: 33.34 ,6.49\n",
      "alpha,beta: 30.44 ,4.36\n",
      "alpha,beta: 60.60 ,11.54\n",
      "alpha,beta: 79.58 ,11.09\n",
      "alpha,beta: 54.28 ,7.07\n",
      "alpha,beta: 2.49 ,2.85\n",
      "alpha,beta: 27.55 ,4.75\n",
      "alpha,beta: 7.29 ,1.57\n",
      "alpha,beta: 66.07 ,6.65\n",
      "alpha,beta: 14.11 ,2.60\n",
      "alpha,beta: 43.13 ,14.93\n",
      "alpha,beta: 72.74 ,10.04\n",
      "alpha,beta: 42.05 ,12.23\n",
      "alpha,beta: 17.55 ,4.97\n",
      "alpha,beta: 9.93 ,2.61\n",
      "alpha,beta: 10.76 ,2.80\n",
      "alpha,beta: 53.90 ,7.60\n",
      "alpha,beta: 26.82 ,13.35\n",
      "alpha,beta: 18.89 ,4.43\n",
      "alpha,beta: 88.93 ,12.23\n",
      "alpha,beta: 47.24 ,10.41\n",
      "alpha,beta: 36.08 ,8.35\n",
      "alpha,beta: 65.23 ,12.36\n",
      "alpha,beta: 27.40 ,5.84\n",
      "alpha,beta: 11.74 ,13.70\n"
     ]
    },
    {
     "name": "stderr",
     "output_type": "stream",
     "text": [
      "/home/s1/jesteves/git/ccopa/python/copac/assignProb.py:61: RuntimeWarning: invalid value encountered in divide\n",
      "  res = pdf*pm0/mar\n"
     ]
    },
    {
     "name": "stdout",
     "output_type": "stream",
     "text": [
      "alpha,beta: 26.07 ,3.72\n",
      "alpha,beta: 25.91 ,8.11\n",
      "alpha,beta: 6.07 ,4.34\n",
      "alpha,beta: 26.99 ,3.31\n",
      "alpha,beta: 27.37 ,5.04\n",
      "alpha,beta: 9.23 ,3.10\n",
      "alpha,beta: 6.70 ,2.28\n",
      "alpha,beta: 150.56 ,20.48\n",
      "alpha,beta: 71.06 ,17.15\n",
      "alpha,beta: 107.31 ,17.09\n",
      "alpha,beta: 40.37 ,6.75\n",
      "alpha,beta: 103.14 ,14.06\n",
      "alpha,beta: 16.29 ,4.44\n",
      "alpha,beta: 78.78 ,10.66\n",
      "alpha,beta: 46.36 ,11.28\n",
      "alpha,beta: 27.72 ,10.15\n",
      "alpha,beta: 17.43 ,5.01\n",
      "alpha,beta: 30.87 ,9.00\n",
      "alpha,beta: 30.89 ,5.93\n",
      "alpha,beta: 24.59 ,8.91\n",
      "alpha,beta: 20.12 ,3.59\n",
      "alpha,beta: 29.42 ,6.66\n",
      "alpha,beta: 14.20 ,3.95\n",
      "alpha,beta: 13.68 ,2.86\n",
      "alpha,beta: 14.88 ,4.02\n",
      "alpha,beta: 20.08 ,4.04\n",
      "alpha,beta: 13.87 ,4.77\n",
      "alpha,beta: 15.14 ,1.55\n",
      "alpha,beta: 12.71 ,4.49\n",
      "alpha,beta: 123.57 ,33.33\n",
      "alpha,beta: 21.62 ,11.77\n",
      "alpha,beta: 11.31 ,5.83\n",
      "alpha,beta: 15.24 ,4.95\n",
      "alpha,beta: 20.87 ,5.18\n",
      "alpha,beta: 28.78 ,9.40\n",
      "alpha,beta: 13.20 ,8.08\n",
      "alpha,beta: 9.96 ,4.22\n",
      "alpha,beta: 19.81 ,6.85\n",
      "alpha,beta: 18.35 ,3.88\n",
      "alpha,beta: 71.22 ,23.23\n",
      "alpha,beta: 50.35 ,14.82\n",
      "alpha,beta: 103.20 ,28.66\n",
      "alpha,beta: 49.07 ,14.27\n",
      "alpha,beta: 20.21 ,11.59\n",
      "alpha,beta: 64.04 ,22.00\n",
      "alpha,beta: 20.20 ,8.49\n",
      "alpha,beta: 24.02 ,8.16\n",
      "alpha,beta: 18.40 ,4.82\n",
      "alpha,beta: 21.96 ,5.45\n",
      "alpha,beta: 80.99 ,19.11\n",
      "alpha,beta: 55.12 ,19.21\n",
      "alpha,beta: 18.92 ,11.04\n",
      "alpha,beta: 14.24 ,4.80\n",
      "alpha,beta: 14.27 ,7.49\n",
      "alpha,beta: 17.72 ,5.61\n",
      "alpha,beta: 22.37 ,7.39\n",
      "alpha,beta: 11.16 ,5.27\n",
      "alpha,beta: 16.58 ,4.98\n",
      "alpha,beta: 10.84 ,5.02\n",
      "alpha,beta: 17.97 ,11.15\n",
      "alpha,beta: 60.78 ,18.18\n",
      "alpha,beta: 54.97 ,8.54\n",
      "alpha,beta: 30.75 ,8.24\n",
      "alpha,beta: 33.03 ,10.94\n",
      "alpha,beta: 19.48 ,10.24\n",
      "alpha,beta: 6.18 ,6.65\n",
      "alpha,beta: 10.89 ,7.33\n",
      "alpha,beta: 19.77 ,4.86\n",
      "alpha,beta: 13.20 ,1.79\n",
      "alpha,beta: 9.87 ,6.34\n",
      "alpha,beta: 13.01 ,3.60\n",
      "alpha,beta: 77.58 ,22.63\n",
      "alpha,beta: 82.76 ,23.60\n",
      "alpha,beta: 62.92 ,18.79\n",
      "alpha,beta: 9.23 ,6.65\n",
      "alpha,beta: 40.30 ,17.46\n",
      "alpha,beta: 14.20 ,11.17\n",
      "alpha,beta: 7.01 ,11.44\n",
      "alpha,beta: 10.75 ,5.22\n",
      "alpha,beta: 0.64 ,7.57\n"
     ]
    },
    {
     "name": "stderr",
     "output_type": "stream",
     "text": [
      "/home/s1/jesteves/git/ccopa/python/copac/assignProb.py:263: RuntimeWarning: invalid value encountered in multiply\n",
      "  prod = pdf1*pdf2\n"
     ]
    },
    {
     "name": "stdout",
     "output_type": "stream",
     "text": [
      "Writing Output: Catalogs  \n",
      "\n",
      "Writing Galaxy Output\n",
      "Writing Cluster Output \n",
      "\n",
      "Writing cluster PDFs \n",
      "\n"
     ]
    }
   ],
   "source": [
    "for run, zfile, zw in zip(runs,pz_files,z_widths):\n",
    "    print('run     : %s'%run)\n",
    "    print('zfile   : %s'%zfile)\n",
    "    print('zwindow : %.2f'%zw)\n",
    "    \n",
    "    copa.kwargs['z_window'] = zw\n",
    "    copa.run_copa_healpix(run,   pz_file=zfile, nCores=60)\n",
    "    #copa.compute_muStar(  run, overwrite=True)\n",
    "    print(5*'---')\n",
    "    print('\\n')"
   ]
  },
  {
   "cell_type": "code",
   "execution_count": null,
   "metadata": {},
   "outputs": [],
   "source": []
  },
  {
   "cell_type": "code",
   "execution_count": null,
   "metadata": {},
   "outputs": [],
   "source": []
  },
  {
   "cell_type": "code",
   "execution_count": null,
   "metadata": {},
   "outputs": [],
   "source": []
  },
  {
   "cell_type": "code",
   "execution_count": null,
   "metadata": {},
   "outputs": [],
   "source": []
  },
  {
   "cell_type": "code",
   "execution_count": null,
   "metadata": {},
   "outputs": [],
   "source": [
    "#### True R200"
   ]
  },
  {
   "cell_type": "code",
   "execution_count": null,
   "metadata": {},
   "outputs": [],
   "source": [
    "## setup \n",
    "copa.kwargs['r_aper_model'] = 'r200'\n",
    "copa.kwargs['dmag_lim']     = 0"
   ]
  },
  {
   "cell_type": "code",
   "execution_count": null,
   "metadata": {},
   "outputs": [],
   "source": [
    "## runs\n",
    "\n",
    "runs = ['dnf-r200-m0','dnf003-r200-m0']\n",
    "runs+= ['gauss001-r200-m0','gauss003-r200-m0','gauss005-r200-m0']\n",
    "\n",
    "pz_files = ['dnf_model',None,'gauss001','gauss003','gauss005']\n",
    "z_widths = [-1,0.03,0.01,0.03,0.05]"
   ]
  },
  {
   "cell_type": "code",
   "execution_count": null,
   "metadata": {
    "scrolled": true
   },
   "outputs": [],
   "source": [
    "for run, zfile, zw in zip(runs,pz_files,z_widths):\n",
    "    print('run     : %s'%run)\n",
    "    print('zfile   : %s'%zfile)\n",
    "    print('zwindow : %.2f'%zw)\n",
    "    \n",
    "    copa.kwargs['z_window'] = zw\n",
    "    copa.run_copa_healpix(run,   pz_file=zfile, nCores=60)\n",
    "    copa.compute_muStar(  run, overwrite=True)\n",
    "    print(5*'---')\n",
    "    print('\\n')"
   ]
  },
  {
   "cell_type": "markdown",
   "metadata": {},
   "source": [
    "## Prepare Files"
   ]
  },
  {
   "cell_type": "code",
   "execution_count": null,
   "metadata": {},
   "outputs": [],
   "source": [
    "# copa.make_input_file()"
   ]
  },
  {
   "cell_type": "markdown",
   "metadata": {},
   "source": [
    "Given the hdf5 input files, the function *make_input_file()* returns a master file with all the input file, cluster and members"
   ]
  },
  {
   "cell_type": "code",
   "execution_count": null,
   "metadata": {},
   "outputs": [],
   "source": [
    "!h5ls /data/des61.a/data/johnny/Buzzard/Buzzard_v2.0.0/y3/output/tiles/buzzard_v2.0.0_copa_golden_00047.hdf5"
   ]
  },
  {
   "cell_type": "code",
   "execution_count": null,
   "metadata": {},
   "outputs": [],
   "source": [
    "!h5ls /data/des61.a/data/johnny/Buzzard/Buzzard_v2.0.0/y3/output/tiles/buzzard_v2.0.0_copa_golden_00032.hdf5/clusters/main"
   ]
  },
  {
   "cell_type": "markdown",
   "metadata": {},
   "source": [
    "The members catalog has all the input galaxies with the input columns\n",
    "``` GID,CID,redshift,RA,DEC,R,z,zerr,zoffset,mag,magerr,dmag,pz0,z_true,TRUE, BKG```"
   ]
  },
  {
   "cell_type": "code",
   "execution_count": null,
   "metadata": {},
   "outputs": [],
   "source": [
    "!h5ls /data/des61.a/data/johnny/Buzzard/Buzzard_v2.0.0/y3/output/tiles/buzzard_v2.0.0_copa_golden_00032.hdf5/members/main"
   ]
  },
  {
   "cell_type": "markdown",
   "metadata": {},
   "source": [
    "#### Create Photo-z Catalogs"
   ]
  },
  {
   "cell_type": "code",
   "execution_count": null,
   "metadata": {},
   "outputs": [],
   "source": [
    "# zw = root+'/aux_files/zwindow_model_buzzard_dnf.txt'\n",
    "# generate_photoz_models('bias'    ,copa.master_fname_tile_list,0.03,zmodel_file=zw,group_name='dnf_model',nCores=60)\n",
    "# generate_photoz_models('gaussian',copa.master_fname_tile_list,0.01,zmodel_file=None,group_name='pz',nCores=60)\n",
    "# generate_photoz_models('gaussian',copa.master_fname_tile_list,0.03,zmodel_file=None,group_name='pz',nCores=60)\n",
    "# generate_photoz_models('gaussian',copa.master_fname_tile_list,0.05,zmodel_file=None,group_name='pz',nCores=60)"
   ]
  },
  {
   "cell_type": "code",
   "execution_count": null,
   "metadata": {},
   "outputs": [],
   "source": [
    "!h5ls /data/des61.a/data/johnny/Buzzard/Buzzard_v2.0.0/y3/output/tiles/buzzard_v2.0.0_copa_golden_00032.hdf5/members/"
   ]
  },
  {
   "cell_type": "markdown",
   "metadata": {},
   "source": [
    "Beyond the main catalog, we have the different photo-z catalogs used during the code validation."
   ]
  },
  {
   "cell_type": "code",
   "execution_count": null,
   "metadata": {},
   "outputs": [],
   "source": []
  },
  {
   "cell_type": "code",
   "execution_count": null,
   "metadata": {},
   "outputs": [],
   "source": []
  },
  {
   "cell_type": "markdown",
   "metadata": {},
   "source": [
    "## Run BMA"
   ]
  },
  {
   "cell_type": "code",
   "execution_count": null,
   "metadata": {},
   "outputs": [],
   "source": [
    "##### Atention: this cell takes more than 6 hours to run. It only needs to be run one time.\n",
    "\n",
    "# copa.run_bma_healpix(nCores=60,overwrite=False)"
   ]
  },
  {
   "cell_type": "code",
   "execution_count": null,
   "metadata": {},
   "outputs": [],
   "source": [
    "!h5ls /data/des61.a/data/johnny/Buzzard/Buzzard_v2.0.0/y3/output/tiles/buzzard_v2.0.0_copa_golden_00032.hdf5/members/bma"
   ]
  },
  {
   "cell_type": "markdown",
   "metadata": {},
   "source": [
    "The output are the quantities provided by the BMA Stellar Mass Estimator, https://github.com/apalmese/BMAStellarMasses. The column ``index`` is the indice from the main catalog."
   ]
  },
  {
   "cell_type": "code",
   "execution_count": null,
   "metadata": {},
   "outputs": [],
   "source": []
  },
  {
   "cell_type": "code",
   "execution_count": null,
   "metadata": {},
   "outputs": [],
   "source": []
  },
  {
   "cell_type": "code",
   "execution_count": null,
   "metadata": {},
   "outputs": [],
   "source": []
  },
  {
   "cell_type": "code",
   "execution_count": null,
   "metadata": {},
   "outputs": [],
   "source": [
    "copa.kwargs['r_aper_model'] = 'hod'\n",
    "copa.kwargs['z_window']     = 0.03\n",
    "copa.run_copa_healpix('%s-rhod'%('dnf003'),   pz_file=None, nCores=60)\n",
    "\n",
    "copa.kwargs['z_window']     = -1.\n",
    "copa.run_copa_healpix('%s-rhod'%('dnf'),      pz_file='dnf_model', nCores=60)\n",
    "\n",
    "copa.kwargs['z_window']     = 0.01\n",
    "copa.run_copa_healpix('%s-rhod'%('gauss001'), pz_file='gauss001',  nCores=60)\n",
    "\n",
    "copa.kwargs['z_window']     = 0.03\n",
    "copa.run_copa_healpix('%s-rhod'%('gauss003'), pz_file='gauss003',  nCores=60)\n",
    "\n",
    "copa.kwargs['z_window']     = 0.05\n",
    "copa.run_copa_healpix('%s-rhod'%('gauss005'), pz_file='gauss005',  nCores=60)\n",
    "\n",
    "copa.compute_muStar('%s-rhod'%('dnf003')     , overwrite=True)\n",
    "copa.compute_muStar('%s-rhod'%('dnf')     , overwrite=True)\n",
    "copa.compute_muStar('%s-rhod'%('gauss001'), overwrite=True)\n",
    "copa.compute_muStar('%s-rhod'%('gauss003'), overwrite=True)\n",
    "copa.compute_muStar('%s-rhod'%('gauss005'), overwrite=True)"
   ]
  }
 ],
 "metadata": {
  "kernelspec": {
   "display_name": "Python 2",
   "language": "python",
   "name": "python2"
  },
  "language_info": {
   "codemirror_mode": {
    "name": "ipython",
    "version": 2
   },
   "file_extension": ".py",
   "mimetype": "text/x-python",
   "name": "python",
   "nbconvert_exporter": "python",
   "pygments_lexer": "ipython2",
   "version": "2.7.15"
  }
 },
 "nbformat": 4,
 "nbformat_minor": 2
}
