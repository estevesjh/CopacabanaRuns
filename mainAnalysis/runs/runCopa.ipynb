{
 "cells": [
  {
   "cell_type": "markdown",
   "metadata": {},
   "source": [
    "# Copacabana Runs on Buzzard v2.0\n",
    "\n",
    "This notebook has some of my runs on the Buzzard v2.0 y3 catalog."
   ]
  },
  {
   "cell_type": "markdown",
   "metadata": {},
   "source": [
    "## Import Packages"
   ]
  },
  {
   "cell_type": "code",
   "execution_count": 1,
   "metadata": {},
   "outputs": [
    {
     "name": "stderr",
     "output_type": "stream",
     "text": [
      "/cvmfs/des.opensciencegrid.org/fnal/anaconda2/envs/des18a/lib/python2.7/site-packages/h5py/__init__.py:36: FutureWarning: Conversion of the second argument of issubdtype from `float` to `np.floating` is deprecated. In future, it will be treated as `np.float64 == np.dtype(float).type`.\n",
      "  from ._conv import register_converters as _register_converters\n"
     ]
    },
    {
     "name": "stdout",
     "output_type": "stream",
     "text": [
      "Using Modified sklearn.mixture.GMM, modified to allow data weights\n"
     ]
    }
   ],
   "source": [
    "import sys\n",
    "sys.path.append('/home/s1/jesteves/git/ccopa/python')\n",
    "\n",
    "from main import copacabana\n",
    "from make_input_files.make_photoz_pz import generate_photoz_models"
   ]
  },
  {
   "cell_type": "code",
   "execution_count": null,
   "metadata": {},
   "outputs": [],
   "source": []
  },
  {
   "cell_type": "markdown",
   "metadata": {},
   "source": [
    "#### Starting Copa"
   ]
  },
  {
   "cell_type": "code",
   "execution_count": 2,
   "metadata": {},
   "outputs": [
    {
     "name": "stdout",
     "output_type": "stream",
     "text": [
      "master file: \n",
      " /data/des61.a/data/johnny/Buzzard/Buzzard_v2.0.0/y3/output/tiles/buzzard_v2.0.0_copa_golden_00000.hdf5\n",
      "/data/des61.a/data/johnny/Buzzard/Buzzard_v2.0.0/y3/output/tiles/buzzard_v2.0.0_copa_golden_00016.hdf5\n",
      "/data/des61.a/data/johnny/Buzzard/Buzzard_v2.0.0/y3/output/tiles/buzzard_v2.0.0_copa_golden_00017.hdf5\n",
      "/data/des61.a/data/johnny/Buzzard/Buzzard_v2.0.0/y3/output/tiles/buzzard_v2.0.0_copa_golden_00018.hdf5\n",
      "/data/des61.a/data/johnny/Buzzard/Buzzard_v2.0.0/y3/output/tiles/buzzard_v2.0.0_copa_golden_00019.hdf5\n",
      "/data/des61.a/data/johnny/Buzzard/Buzzard_v2.0.0/y3/output/tiles/buzzard_v2.0.0_copa_golden_00020.hdf5\n",
      "/data/des61.a/data/johnny/Buzzard/Buzzard_v2.0.0/y3/output/tiles/buzzard_v2.0.0_copa_golden_00022.hdf5\n",
      "/data/des61.a/data/johnny/Buzzard/Buzzard_v2.0.0/y3/output/tiles/buzzard_v2.0.0_copa_golden_00032.hdf5\n",
      "/data/des61.a/data/johnny/Buzzard/Buzzard_v2.0.0/y3/output/tiles/buzzard_v2.0.0_copa_golden_00033.hdf5\n",
      "/data/des61.a/data/johnny/Buzzard/Buzzard_v2.0.0/y3/output/tiles/buzzard_v2.0.0_copa_golden_00034.hdf5\n",
      "/data/des61.a/data/johnny/Buzzard/Buzzard_v2.0.0/y3/output/tiles/buzzard_v2.0.0_copa_golden_00035.hdf5\n",
      "/data/des61.a/data/johnny/Buzzard/Buzzard_v2.0.0/y3/output/tiles/buzzard_v2.0.0_copa_golden_00038.hdf5\n",
      "/data/des61.a/data/johnny/Buzzard/Buzzard_v2.0.0/y3/output/tiles/buzzard_v2.0.0_copa_golden_00044.hdf5\n",
      "/data/des61.a/data/johnny/Buzzard/Buzzard_v2.0.0/y3/output/tiles/buzzard_v2.0.0_copa_golden_00045.hdf5\n",
      "/data/des61.a/data/johnny/Buzzard/Buzzard_v2.0.0/y3/output/tiles/buzzard_v2.0.0_copa_golden_00046.hdf5\n",
      "/data/des61.a/data/johnny/Buzzard/Buzzard_v2.0.0/y3/output/tiles/buzzard_v2.0.0_copa_golden_00047.hdf5\n",
      "outdir: /data/des61.a/data/johnny/Buzzard/Buzzard_v2.0.0/y3/output/\n",
      "tile path: /data/des61.a/data/johnny/Buzzard/Buzzard_v2.0.0/y3/output/tiles\n"
     ]
    }
   ],
   "source": [
    "root = '/home/s1/jesteves/git/ccopa'\n",
    "cfg  = root+'/config_files/config_buzzard_v2.yaml'\n",
    "copa = copacabana(cfg,dataset='buzzard_v2')"
   ]
  },
  {
   "cell_type": "code",
   "execution_count": null,
   "metadata": {},
   "outputs": [],
   "source": []
  },
  {
   "cell_type": "code",
   "execution_count": null,
   "metadata": {},
   "outputs": [],
   "source": []
  },
  {
   "cell_type": "markdown",
   "metadata": {},
   "source": [
    "## Run Copa"
   ]
  },
  {
   "cell_type": "code",
   "execution_count": 3,
   "metadata": {},
   "outputs": [],
   "source": [
    "## setup \n",
    "copa.kwargs['r_aper_model'] = 'hod'\n",
    "copa.kwargs['dmag_lim']     = 0"
   ]
  },
  {
   "cell_type": "code",
   "execution_count": 4,
   "metadata": {},
   "outputs": [],
   "source": [
    "## runs\n",
    "\n",
    "runs = ['dnf-rhod-m0','dnf003-rhod-m0']\n",
    "runs+= ['gauss001-rhod-m0','gauss003-rhod-m0','gauss005-rhod-m0']\n",
    "\n",
    "pz_files = ['dnf_model',None,'gauss001','gauss003','gauss005']\n",
    "z_widths = [-1,0.03,0.01,0.03,0.05]"
   ]
  },
  {
   "cell_type": "code",
   "execution_count": 5,
   "metadata": {
    "scrolled": true
   },
   "outputs": [
    {
     "name": "stdout",
     "output_type": "stream",
     "text": [
      "run     : dnf-rhod-m0\n",
      "zfile   : dnf_model\n",
      "zwindow : -1.00\n",
      "\n",
      "Starting Copa\n",
      "run dnf-rhod-m0\n"
     ]
    },
    {
     "name": "stderr",
     "output_type": "stream",
     "text": [
      "/home/s1/jesteves/git/ccopa/python/copac/gaussianKDE.py:105: RuntimeWarning: invalid value encountered in divide\n",
      "  self._data_covariance /= (1 - np.sum(self.weights ** 2))\n",
      "/cvmfs/des.opensciencegrid.org/fnal/anaconda2/envs/des18a/lib/python2.7/site-packages/numpy/linalg/linalg.py:1874: RuntimeWarning: invalid value encountered in det\n",
      "  r = _umath_linalg.det(a, signature=signature)\n",
      "/home/s1/jesteves/git/ccopa/python/copac/probColor.py:138: RuntimeWarning: invalid value encountered in less\n",
      "  kde_sub = np.where(kde_sub<0,0.,kde_sub) ## we take only the excess\n",
      "/home/s1/jesteves/git/ccopa/python/copac/probColor.py:167: RuntimeWarning: invalid value encountered in less\n",
      "  kde_sub = np.where(kde_sub<1e-4,0.,kde_sub)\n",
      "/cvmfs/des.opensciencegrid.org/fnal/anaconda2/envs/des18a/lib/python2.7/site-packages/astropy/table/column.py:954: RuntimeWarning: invalid value encountered in less\n",
      "  return getattr(self.data, op)(other)\n",
      "/cvmfs/des.opensciencegrid.org/fnal/anaconda2/envs/des18a/lib/python2.7/site-packages/astropy/table/column.py:954: RuntimeWarning: invalid value encountered in greater\n",
      "  return getattr(self.data, op)(other)\n",
      "/home/s1/jesteves/git/ccopa/python/copac/membAssignment.py:144: RuntimeWarning: invalid value encountered in greater\n",
      "  prob = np.where(prob>1,1.,prob)\n",
      "/home/s1/jesteves/git/ccopa/python/copac/membAssignment.py:145: RuntimeWarning: invalid value encountered in less\n",
      "  prob = np.where(prob<0.,0.,prob)\n",
      "/home/s1/jesteves/git/ccopa/python/copac/membAssignment.py:133: RuntimeWarning: invalid value encountered in double_scalars\n",
      "  ratio = (Ngals+Nbkg)/( np.sum(Ngals*Pgals) + np.sum(Nbkg*Pbkg) )\n",
      "/home/s1/jesteves/git/ccopa/python/copac/membAssignment.py:133: RuntimeWarning: invalid value encountered in double_scalars\n",
      "  ratio = (Ngals+Nbkg)/( np.sum(Ngals*Pgals) + np.sum(Nbkg*Pbkg) )\n",
      "/home/s1/jesteves/git/ccopa/python/copac/membAssignment.py:144: RuntimeWarning: invalid value encountered in greater\n",
      "  prob = np.where(prob>1,1.,prob)\n",
      "/home/s1/jesteves/git/ccopa/python/copac/membAssignment.py:145: RuntimeWarning: invalid value encountered in less\n",
      "  prob = np.where(prob<0.,0.,prob)\n",
      "/home/s1/jesteves/git/ccopa/python/copac/membAssignment.py:133: RuntimeWarning: invalid value encountered in double_scalars\n",
      "  ratio = (Ngals+Nbkg)/( np.sum(Ngals*Pgals) + np.sum(Nbkg*Pbkg) )\n",
      "/home/s1/jesteves/git/ccopa/python/copac/membAssignment.py:144: RuntimeWarning: invalid value encountered in greater\n",
      "  prob = np.where(prob>1,1.,prob)\n",
      "/home/s1/jesteves/git/ccopa/python/copac/membAssignment.py:145: RuntimeWarning: invalid value encountered in less\n",
      "  prob = np.where(prob<0.,0.,prob)\n",
      "/home/s1/jesteves/git/ccopa/python/copac/membAssignment.py:133: RuntimeWarning: invalid value encountered in double_scalars\n",
      "  ratio = (Ngals+Nbkg)/( np.sum(Ngals*Pgals) + np.sum(Nbkg*Pbkg) )\n",
      "/home/s1/jesteves/git/ccopa/python/copac/probColor.py:139: RuntimeWarning: invalid value encountered in divide\n",
      "  kde_sub = kde_sub/integrate.trapz(kde_sub,x=values) ## set to unity\n",
      "/home/s1/jesteves/git/ccopa/python/copac/probColor.py:167: RuntimeWarning: invalid value encountered in less\n",
      "  kde_sub = np.where(kde_sub<1e-4,0.,kde_sub)\n",
      "/home/s1/jesteves/git/ccopa/python/copac/gaussianKDE.py:105: RuntimeWarning: invalid value encountered in divide\n",
      "  self._data_covariance /= (1 - np.sum(self.weights ** 2))\n",
      "/cvmfs/des.opensciencegrid.org/fnal/anaconda2/envs/des18a/lib/python2.7/site-packages/numpy/linalg/linalg.py:1874: RuntimeWarning: invalid value encountered in det\n",
      "  r = _umath_linalg.det(a, signature=signature)\n",
      "/home/s1/jesteves/git/ccopa/python/copac/probColor.py:138: RuntimeWarning: invalid value encountered in less\n",
      "  kde_sub = np.where(kde_sub<0,0.,kde_sub) ## we take only the excess\n",
      "/home/s1/jesteves/git/ccopa/python/copac/probColor.py:167: RuntimeWarning: invalid value encountered in less\n",
      "  kde_sub = np.where(kde_sub<1e-4,0.,kde_sub)\n",
      "/home/s1/jesteves/git/ccopa/python/copac/gaussianKDE.py:105: RuntimeWarning: invalid value encountered in divide\n",
      "  self._data_covariance /= (1 - np.sum(self.weights ** 2))\n",
      "/cvmfs/des.opensciencegrid.org/fnal/anaconda2/envs/des18a/lib/python2.7/site-packages/numpy/linalg/linalg.py:1874: RuntimeWarning: invalid value encountered in det\n",
      "  r = _umath_linalg.det(a, signature=signature)\n",
      "/home/s1/jesteves/git/ccopa/python/copac/probColor.py:138: RuntimeWarning: invalid value encountered in less\n",
      "  kde_sub = np.where(kde_sub<0,0.,kde_sub) ## we take only the excess\n",
      "/home/s1/jesteves/git/ccopa/python/copac/probColor.py:167: RuntimeWarning: invalid value encountered in less\n",
      "  kde_sub = np.where(kde_sub<1e-4,0.,kde_sub)\n",
      "/home/s1/jesteves/git/ccopa/python/copac/probColor.py:139: RuntimeWarning: invalid value encountered in divide\n",
      "  kde_sub = kde_sub/integrate.trapz(kde_sub,x=values) ## set to unity\n",
      "/cvmfs/des.opensciencegrid.org/fnal/anaconda2/envs/des18a/lib/python2.7/site-packages/astropy/table/column.py:954: RuntimeWarning: invalid value encountered in less\n",
      "  return getattr(self.data, op)(other)\n",
      "/cvmfs/des.opensciencegrid.org/fnal/anaconda2/envs/des18a/lib/python2.7/site-packages/astropy/table/column.py:954: RuntimeWarning: invalid value encountered in less\n",
      "  return getattr(self.data, op)(other)\n",
      "/cvmfs/des.opensciencegrid.org/fnal/anaconda2/envs/des18a/lib/python2.7/site-packages/astropy/table/column.py:954: RuntimeWarning: invalid value encountered in greater\n",
      "  return getattr(self.data, op)(other)\n",
      "/home/s1/jesteves/git/ccopa/python/copac/membAssignment.py:144: RuntimeWarning: invalid value encountered in greater\n",
      "  prob = np.where(prob>1,1.,prob)\n",
      "/home/s1/jesteves/git/ccopa/python/copac/membAssignment.py:145: RuntimeWarning: invalid value encountered in less\n",
      "  prob = np.where(prob<0.,0.,prob)\n",
      "/cvmfs/des.opensciencegrid.org/fnal/anaconda2/envs/des18a/lib/python2.7/site-packages/astropy/table/column.py:954: RuntimeWarning: invalid value encountered in less\n",
      "  return getattr(self.data, op)(other)\n",
      "/cvmfs/des.opensciencegrid.org/fnal/anaconda2/envs/des18a/lib/python2.7/site-packages/astropy/table/column.py:954: RuntimeWarning: invalid value encountered in greater\n",
      "  return getattr(self.data, op)(other)\n",
      "/home/s1/jesteves/git/ccopa/python/copac/membAssignment.py:144: RuntimeWarning: invalid value encountered in greater\n",
      "  prob = np.where(prob>1,1.,prob)\n",
      "/home/s1/jesteves/git/ccopa/python/copac/membAssignment.py:145: RuntimeWarning: invalid value encountered in less\n",
      "  prob = np.where(prob<0.,0.,prob)\n"
     ]
    }
   ],
   "source": [
    "for run, zfile, zw in zip(runs,pz_files,z_widths):\n",
    "    print('run     : %s'%run)\n",
    "    print('zfile   : %s'%zfile)\n",
    "    print('zwindow : %.2f'%zw)\n",
    "    \n",
    "    copa.kwargs['z_window'] = zw\n",
    "    copa.run_copa_healpix(run,   pz_file=zfile, nCores=60)\n",
    "    copa.compute_muStar(  run, overwrite=True)\n",
    "    print(5*'---')\n",
    "    print('\\n')"
   ]
  },
  {
   "cell_type": "code",
   "execution_count": null,
   "metadata": {},
   "outputs": [],
   "source": []
  },
  {
   "cell_type": "code",
   "execution_count": null,
   "metadata": {},
   "outputs": [],
   "source": [
    "copa.kwargs['r_aper_model'] = 'hod'\n",
    "copa.kwargs['z_window']     = 0.03\n",
    "copa.run_copa_healpix('%s-rhod'%('dnf003'),   pz_file=None, nCores=60)\n",
    "\n",
    "copa.kwargs['z_window']     = -1.\n",
    "copa.run_copa_healpix('%s-rhod'%('dnf'),      pz_file='dnf_model', nCores=60)\n",
    "\n",
    "copa.kwargs['z_window']     = 0.01\n",
    "copa.run_copa_healpix('%s-rhod'%('gauss001'), pz_file='gauss001',  nCores=60)\n",
    "\n",
    "copa.kwargs['z_window']     = 0.03\n",
    "copa.run_copa_healpix('%s-rhod'%('gauss003'), pz_file='gauss003',  nCores=60)\n",
    "\n",
    "copa.kwargs['z_window']     = 0.05\n",
    "copa.run_copa_healpix('%s-rhod'%('gauss005'), pz_file='gauss005',  nCores=60)\n",
    "\n",
    "copa.compute_muStar('%s-rhod'%('dnf003')     , overwrite=True)\n",
    "copa.compute_muStar('%s-rhod'%('dnf')     , overwrite=True)\n",
    "copa.compute_muStar('%s-rhod'%('gauss001'), overwrite=True)\n",
    "copa.compute_muStar('%s-rhod'%('gauss003'), overwrite=True)\n",
    "copa.compute_muStar('%s-rhod'%('gauss005'), overwrite=True)"
   ]
  },
  {
   "cell_type": "markdown",
   "metadata": {},
   "source": [
    "## Prepare Files"
   ]
  },
  {
   "cell_type": "code",
   "execution_count": 5,
   "metadata": {},
   "outputs": [],
   "source": [
    "# copa.make_input_file()"
   ]
  },
  {
   "cell_type": "markdown",
   "metadata": {},
   "source": [
    "Given the hdf5 input files, the function *make_input_file()* returns a master file with all the input file, cluster and members"
   ]
  },
  {
   "cell_type": "code",
   "execution_count": 10,
   "metadata": {},
   "outputs": [
    {
     "name": "stdout",
     "output_type": "stream",
     "text": [
      "clusters                 Group\r\n",
      "members                  Group\r\n"
     ]
    }
   ],
   "source": [
    "!h5ls /data/des61.a/data/johnny/Buzzard/Buzzard_v2.0.0/y3/output/tiles/buzzard_v2.0.0_copa_golden_00047.hdf5"
   ]
  },
  {
   "cell_type": "code",
   "execution_count": 17,
   "metadata": {},
   "outputs": [
    {
     "name": "stdout",
     "output_type": "stream",
     "text": [
      "CID                      Dataset {189}\r\n",
      "DA                       Dataset {189}\r\n",
      "DEC                      Dataset {189}\r\n",
      "M200_true                Dataset {189}\r\n",
      "R200_true                Dataset {189}\r\n",
      "RA                       Dataset {189}\r\n",
      "magLim                   Dataset {189, 3}\r\n",
      "redshift                 Dataset {189}\r\n"
     ]
    }
   ],
   "source": [
    "!h5ls /data/des61.a/data/johnny/Buzzard/Buzzard_v2.0.0/y3/output/tiles/buzzard_v2.0.0_copa_golden_00032.hdf5/clusters/main"
   ]
  },
  {
   "cell_type": "markdown",
   "metadata": {},
   "source": [
    "The members catalog has all the input galaxies with the input columns\n",
    "``` GID,CID,redshift,RA,DEC,R,z,zerr,zoffset,mag,magerr,dmag,pz0,z_true,TRUE, BKG```"
   ]
  },
  {
   "cell_type": "code",
   "execution_count": 18,
   "metadata": {},
   "outputs": [
    {
     "name": "stdout",
     "output_type": "stream",
     "text": [
      "Bkg                      Dataset {2406928}\r\n",
      "CID                      Dataset {2406928}\r\n",
      "DEC                      Dataset {2406928}\r\n",
      "GID                      Dataset {2406928}\r\n",
      "HALOID                   Dataset {2406928}\r\n",
      "Mr                       Dataset {2406928}\r\n",
      "R                        Dataset {2406928}\r\n",
      "RA                       Dataset {2406928}\r\n",
      "True                     Dataset {2406928}\r\n",
      "dmag                     Dataset {2406928}\r\n",
      "mag                      Dataset {2406928, 4}\r\n",
      "magerr                   Dataset {2406928, 4}\r\n",
      "mid                      Dataset {2406928}\r\n",
      "pz0                      Dataset {2406928}\r\n",
      "redshift                 Dataset {2406928}\r\n",
      "z                        Dataset {2406928}\r\n",
      "z_true                   Dataset {2406928}\r\n",
      "zerr                     Dataset {2406928}\r\n",
      "zoffset                  Dataset {2406928}\r\n"
     ]
    }
   ],
   "source": [
    "!h5ls /data/des61.a/data/johnny/Buzzard/Buzzard_v2.0.0/y3/output/tiles/buzzard_v2.0.0_copa_golden_00032.hdf5/members/main"
   ]
  },
  {
   "cell_type": "markdown",
   "metadata": {},
   "source": [
    "#### Create Photo-z Catalogs"
   ]
  },
  {
   "cell_type": "code",
   "execution_count": 7,
   "metadata": {},
   "outputs": [],
   "source": [
    "# zw = root+'/aux_files/zwindow_model_buzzard_dnf.txt'\n",
    "# generate_photoz_models('bias'    ,copa.master_fname_tile_list,0.03,zmodel_file=zw,group_name='dnf_model',nCores=60)\n",
    "# generate_photoz_models('gaussian',copa.master_fname_tile_list,0.01,zmodel_file=None,group_name='pz',nCores=60)\n",
    "# generate_photoz_models('gaussian',copa.master_fname_tile_list,0.03,zmodel_file=None,group_name='pz',nCores=60)\n",
    "# generate_photoz_models('gaussian',copa.master_fname_tile_list,0.05,zmodel_file=None,group_name='pz',nCores=60)"
   ]
  },
  {
   "cell_type": "code",
   "execution_count": 19,
   "metadata": {},
   "outputs": [
    {
     "name": "stdout",
     "output_type": "stream",
     "text": [
      "bma                      Group\r\n",
      "copa                     Group\r\n",
      "dnf_model                Group\r\n",
      "gauss001                 Group\r\n",
      "gauss003                 Group\r\n",
      "gauss005                 Group\r\n",
      "main                     Group\r\n"
     ]
    }
   ],
   "source": [
    "!h5ls /data/des61.a/data/johnny/Buzzard/Buzzard_v2.0.0/y3/output/tiles/buzzard_v2.0.0_copa_golden_00032.hdf5/members/"
   ]
  },
  {
   "cell_type": "markdown",
   "metadata": {},
   "source": [
    "Beyond the main catalog, we have the different photo-z catalogs used during the code validation."
   ]
  },
  {
   "cell_type": "code",
   "execution_count": null,
   "metadata": {},
   "outputs": [],
   "source": []
  },
  {
   "cell_type": "code",
   "execution_count": null,
   "metadata": {},
   "outputs": [],
   "source": []
  },
  {
   "cell_type": "markdown",
   "metadata": {},
   "source": [
    "## Run BMA"
   ]
  },
  {
   "cell_type": "code",
   "execution_count": 20,
   "metadata": {},
   "outputs": [],
   "source": [
    "##### Atention: this cell takes more than 6 hours to run. It only needs to be run one time.\n",
    "\n",
    "# copa.run_bma_healpix(nCores=60,overwrite=False)"
   ]
  },
  {
   "cell_type": "code",
   "execution_count": 21,
   "metadata": {},
   "outputs": [
    {
     "name": "stdout",
     "output_type": "stream",
     "text": [
      "CID                      Dataset {165430}\r\n",
      "best_chisq               Dataset {165430}\r\n",
      "best_model               Dataset {165430}\r\n",
      "best_zmet                Dataset {165430}\r\n",
      "distmod                  Dataset {165430}\r\n",
      "gi_o                     Dataset {165430}\r\n",
      "gi_o_err                 Dataset {165430}\r\n",
      "gr_o                     Dataset {165430}\r\n",
      "gr_o_err                 Dataset {165430}\r\n",
      "iabs                     Dataset {165430}\r\n",
      "index                    Dataset {165430}\r\n",
      "iobs                     Dataset {165430}\r\n",
      "kii                      Dataset {165430}\r\n",
      "kii_err                  Dataset {165430}\r\n",
      "kri                      Dataset {165430}\r\n",
      "kri_err                  Dataset {165430}\r\n",
      "mass                     Dataset {165430}\r\n",
      "mass_err                 Dataset {165430}\r\n",
      "mass_weight_age          Dataset {165430}\r\n",
      "mass_weight_age_err      Dataset {165430}\r\n",
      "mcMass                   Dataset {165430}\r\n",
      "mid                      Dataset {165430}\r\n",
      "mid_cut                  Dataset {165430}\r\n",
      "rabs                     Dataset {165430}\r\n",
      "ssfr                     Dataset {165430}\r\n",
      "ssfr_std                 Dataset {165430}\r\n",
      "taMass                   Dataset {165430}\r\n",
      "zmet                     Dataset {165430}\r\n"
     ]
    }
   ],
   "source": [
    "!h5ls /data/des61.a/data/johnny/Buzzard/Buzzard_v2.0.0/y3/output/tiles/buzzard_v2.0.0_copa_golden_00032.hdf5/members/bma"
   ]
  },
  {
   "cell_type": "markdown",
   "metadata": {},
   "source": [
    "The output are the quantities provided by the BMA Stellar Mass Estimator, https://github.com/apalmese/BMAStellarMasses. The column ``index`` is the indice from the main catalog."
   ]
  },
  {
   "cell_type": "code",
   "execution_count": null,
   "metadata": {},
   "outputs": [],
   "source": []
  }
 ],
 "metadata": {
  "kernelspec": {
   "display_name": "Python 2",
   "language": "python",
   "name": "python2"
  },
  "language_info": {
   "codemirror_mode": {
    "name": "ipython",
    "version": 2
   },
   "file_extension": ".py",
   "mimetype": "text/x-python",
   "name": "python",
   "nbconvert_exporter": "python",
   "pygments_lexer": "ipython2",
   "version": "2.7.15"
  }
 },
 "nbformat": 4,
 "nbformat_minor": 2
}
