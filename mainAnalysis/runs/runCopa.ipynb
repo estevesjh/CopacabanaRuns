{
 "cells": [
  {
   "cell_type": "markdown",
   "metadata": {},
   "source": [
    "# Copacabana Runs on Buzzard v2.0\n",
    "\n",
    "This notebook has some of my runs on the Buzzard v2.0 y3 catalog."
   ]
  },
  {
   "cell_type": "markdown",
   "metadata": {},
   "source": [
    "## Import Packages"
   ]
  },
  {
   "cell_type": "code",
   "execution_count": 1,
   "metadata": {},
   "outputs": [
    {
     "name": "stderr",
     "output_type": "stream",
     "text": [
      "/cvmfs/des.opensciencegrid.org/fnal/anaconda2/envs/des18a/lib/python2.7/site-packages/h5py/__init__.py:36: FutureWarning: Conversion of the second argument of issubdtype from `float` to `np.floating` is deprecated. In future, it will be treated as `np.float64 == np.dtype(float).type`.\n",
      "  from ._conv import register_converters as _register_converters\n"
     ]
    }
   ],
   "source": [
    "import sys\n",
    "sys.path.append('/home/s1/jesteves/git/ccopa/python')\n",
    "\n",
    "from main import copacabana\n",
    "from make_input_files.make_photoz_pz import generate_photoz_models"
   ]
  },
  {
   "cell_type": "code",
   "execution_count": null,
   "metadata": {},
   "outputs": [],
   "source": []
  },
  {
   "cell_type": "markdown",
   "metadata": {},
   "source": [
    "#### Starting Copa"
   ]
  },
  {
   "cell_type": "code",
   "execution_count": 2,
   "metadata": {},
   "outputs": [
    {
     "name": "stdout",
     "output_type": "stream",
     "text": [
      "master file: \n",
      " /data/des61.a/data/johnny/Buzzard/Buzzard_v2.0.0/y3/output/tiles/buzzard_v2.0.0_copa_00000.hdf5\n",
      "/data/des61.a/data/johnny/Buzzard/Buzzard_v2.0.0/y3/output/tiles/buzzard_v2.0.0_copa_00016.hdf5\n",
      "/data/des61.a/data/johnny/Buzzard/Buzzard_v2.0.0/y3/output/tiles/buzzard_v2.0.0_copa_00017.hdf5\n",
      "/data/des61.a/data/johnny/Buzzard/Buzzard_v2.0.0/y3/output/tiles/buzzard_v2.0.0_copa_00018.hdf5\n",
      "/data/des61.a/data/johnny/Buzzard/Buzzard_v2.0.0/y3/output/tiles/buzzard_v2.0.0_copa_00019.hdf5\n",
      "/data/des61.a/data/johnny/Buzzard/Buzzard_v2.0.0/y3/output/tiles/buzzard_v2.0.0_copa_00020.hdf5\n",
      "/data/des61.a/data/johnny/Buzzard/Buzzard_v2.0.0/y3/output/tiles/buzzard_v2.0.0_copa_00022.hdf5\n",
      "/data/des61.a/data/johnny/Buzzard/Buzzard_v2.0.0/y3/output/tiles/buzzard_v2.0.0_copa_00032.hdf5\n",
      "/data/des61.a/data/johnny/Buzzard/Buzzard_v2.0.0/y3/output/tiles/buzzard_v2.0.0_copa_00033.hdf5\n",
      "/data/des61.a/data/johnny/Buzzard/Buzzard_v2.0.0/y3/output/tiles/buzzard_v2.0.0_copa_00034.hdf5\n",
      "/data/des61.a/data/johnny/Buzzard/Buzzard_v2.0.0/y3/output/tiles/buzzard_v2.0.0_copa_00035.hdf5\n",
      "/data/des61.a/data/johnny/Buzzard/Buzzard_v2.0.0/y3/output/tiles/buzzard_v2.0.0_copa_00038.hdf5\n",
      "/data/des61.a/data/johnny/Buzzard/Buzzard_v2.0.0/y3/output/tiles/buzzard_v2.0.0_copa_00044.hdf5\n",
      "/data/des61.a/data/johnny/Buzzard/Buzzard_v2.0.0/y3/output/tiles/buzzard_v2.0.0_copa_00045.hdf5\n",
      "/data/des61.a/data/johnny/Buzzard/Buzzard_v2.0.0/y3/output/tiles/buzzard_v2.0.0_copa_00046.hdf5\n",
      "/data/des61.a/data/johnny/Buzzard/Buzzard_v2.0.0/y3/output/tiles/buzzard_v2.0.0_copa_00047.hdf5\n",
      "outdir: /data/des61.a/data/johnny/Buzzard/Buzzard_v2.0.0/y3/output/\n",
      "tile path: /data/des61.a/data/johnny/Buzzard/Buzzard_v2.0.0/y3/output/tiles\n"
     ]
    }
   ],
   "source": [
    "root = '/home/s1/jesteves/git/buzzardAnalysis/mainAnalysis/'\n",
    "cfg  = root+'config_buzzard_v2.yaml'\n",
    "\n",
    "copa = copacabana(cfg,dataset='buzzard_v2')"
   ]
  },
  {
   "cell_type": "code",
   "execution_count": null,
   "metadata": {},
   "outputs": [],
   "source": []
  },
  {
   "cell_type": "markdown",
   "metadata": {},
   "source": [
    "## Run BMA"
   ]
  },
  {
   "cell_type": "code",
   "execution_count": 3,
   "metadata": {},
   "outputs": [],
   "source": [
    "##### Atention: this cell takes more than 6 hours to run. It only needs to be run one time.\n",
    "\n",
    "#copa.run_bma_healpix(nCores=60,overwrite=False)"
   ]
  },
  {
   "cell_type": "code",
   "execution_count": null,
   "metadata": {},
   "outputs": [],
   "source": []
  },
  {
   "cell_type": "code",
   "execution_count": null,
   "metadata": {},
   "outputs": [],
   "source": []
  },
  {
   "cell_type": "code",
   "execution_count": null,
   "metadata": {},
   "outputs": [],
   "source": []
  },
  {
   "cell_type": "code",
   "execution_count": 4,
   "metadata": {},
   "outputs": [],
   "source": [
    "import glob\n",
    "\n",
    "outfiles = glob.glob('/data/des61.a/data/johnny/Buzzard/Buzzard_v2.0.0/y3/output/temp_file/?????/input_*')"
   ]
  },
  {
   "cell_type": "code",
   "execution_count": 5,
   "metadata": {},
   "outputs": [],
   "source": [
    "# import os\n",
    "\n",
    "# for infile in outfiles:\n",
    "#     os.remove(infile)"
   ]
  },
  {
   "cell_type": "code",
   "execution_count": 6,
   "metadata": {},
   "outputs": [
    {
     "data": {
      "text/plain": [
       "512"
      ]
     },
     "execution_count": 6,
     "metadata": {},
     "output_type": "execute_result"
    }
   ],
   "source": [
    "len(outfiles)"
   ]
  },
  {
   "cell_type": "code",
   "execution_count": null,
   "metadata": {},
   "outputs": [],
   "source": []
  },
  {
   "cell_type": "markdown",
   "metadata": {},
   "source": [
    "## Run Copa"
   ]
  },
  {
   "cell_type": "markdown",
   "metadata": {},
   "source": [
    "#### 1. Gaussian, R200, 02Lstar"
   ]
  },
  {
   "cell_type": "code",
   "execution_count": 7,
   "metadata": {},
   "outputs": [],
   "source": [
    "## setup \n",
    "copa.kwargs['r_aper_model'] = 'r200'\n",
    "copa.kwargs['mag_selection']= '02Lstar'"
   ]
  },
  {
   "cell_type": "code",
   "execution_count": 8,
   "metadata": {},
   "outputs": [],
   "source": [
    "## runs\n",
    "pz_files = ['gauss001','gauss003','gauss005']\n",
    "z_widths = [0.01,0.03,0.05]\n",
    "\n",
    "runs = ['%s_%s_%s'%(pz,'r200','02Lstar') for pz in pz_files]"
   ]
  },
  {
   "cell_type": "code",
   "execution_count": 9,
   "metadata": {},
   "outputs": [
    {
     "data": {
      "text/plain": [
       "['gauss001_r200_02Lstar', 'gauss003_r200_02Lstar', 'gauss005_r200_02Lstar']"
      ]
     },
     "execution_count": 9,
     "metadata": {},
     "output_type": "execute_result"
    }
   ],
   "source": [
    "runs"
   ]
  },
  {
   "cell_type": "code",
   "execution_count": null,
   "metadata": {},
   "outputs": [],
   "source": []
  },
  {
   "cell_type": "code",
   "execution_count": 10,
   "metadata": {
    "scrolled": true
   },
   "outputs": [
    {
     "name": "stdout",
     "output_type": "stream",
     "text": [
      "run     : gauss001_r200_02Lstar\n",
      "zfile   : gauss001\n",
      "zwindow : 0.01\n",
      "---------------\n",
      "\n",
      "\n",
      "run     : gauss003_r200_02Lstar\n",
      "zfile   : gauss003\n",
      "zwindow : 0.03\n",
      "---------------\n",
      "\n",
      "\n",
      "run     : gauss005_r200_02Lstar\n",
      "zfile   : gauss005\n",
      "zwindow : 0.05\n",
      "---------------\n",
      "\n",
      "\n"
     ]
    }
   ],
   "source": [
    "for run, zfile, zw in zip(runs,pz_files,z_widths):\n",
    "    print('run     : %s'%run)\n",
    "    print('zfile   : %s'%zfile)\n",
    "    print('zwindow : %.2f'%zw)\n",
    "    \n",
    "    copa.kwargs['z_window'] = zw\n",
    "    #copa.run_copa_healpix(run,   pz_file=zfile, nCores=60)\n",
    "    copa.compute_muStar(  run, overwrite=True)\n",
    "    print(5*'---')\n",
    "    print('\\n')"
   ]
  },
  {
   "cell_type": "code",
   "execution_count": null,
   "metadata": {},
   "outputs": [],
   "source": []
  },
  {
   "cell_type": "code",
   "execution_count": null,
   "metadata": {},
   "outputs": [],
   "source": []
  },
  {
   "cell_type": "code",
   "execution_count": null,
   "metadata": {},
   "outputs": [],
   "source": []
  },
  {
   "cell_type": "markdown",
   "metadata": {},
   "source": [
    "#### 1. Gaussian, Rhod, 02Lstar"
   ]
  },
  {
   "cell_type": "code",
   "execution_count": 11,
   "metadata": {},
   "outputs": [],
   "source": [
    "## setup \n",
    "copa.kwargs['r_aper_model'] = 'rhod'\n",
    "copa.kwargs['mag_selection']= '02Lstar'"
   ]
  },
  {
   "cell_type": "code",
   "execution_count": 12,
   "metadata": {},
   "outputs": [],
   "source": [
    "## runs\n",
    "pz_files = ['gauss001','gauss003','gauss005']\n",
    "z_widths = [0.01,0.03,0.05]\n",
    "\n",
    "runs = ['%s_%s_%s'%(pz,'rhod','02Lstar') for pz in pz_files]"
   ]
  },
  {
   "cell_type": "code",
   "execution_count": 13,
   "metadata": {},
   "outputs": [
    {
     "data": {
      "text/plain": [
       "['gauss001_rhod_02Lstar', 'gauss003_rhod_02Lstar', 'gauss005_rhod_02Lstar']"
      ]
     },
     "execution_count": 13,
     "metadata": {},
     "output_type": "execute_result"
    }
   ],
   "source": [
    "runs"
   ]
  },
  {
   "cell_type": "code",
   "execution_count": null,
   "metadata": {},
   "outputs": [],
   "source": []
  },
  {
   "cell_type": "code",
   "execution_count": 14,
   "metadata": {
    "scrolled": true
   },
   "outputs": [
    {
     "name": "stdout",
     "output_type": "stream",
     "text": [
      "run     : gauss001_rhod_02Lstar\n",
      "zfile   : gauss001\n",
      "zwindow : 0.01\n",
      "---------------\n",
      "\n",
      "\n",
      "run     : gauss003_rhod_02Lstar\n",
      "zfile   : gauss003\n",
      "zwindow : 0.03\n",
      "---------------\n",
      "\n",
      "\n",
      "run     : gauss005_rhod_02Lstar\n",
      "zfile   : gauss005\n",
      "zwindow : 0.05\n",
      "---------------\n",
      "\n",
      "\n"
     ]
    }
   ],
   "source": [
    "for run, zfile, zw in zip(runs,pz_files,z_widths):\n",
    "    print('run     : %s'%run)\n",
    "    print('zfile   : %s'%zfile)\n",
    "    print('zwindow : %.2f'%zw)\n",
    "    \n",
    "    copa.kwargs['z_window'] = zw\n",
    "    #copa.run_copa_healpix(run,   pz_file=zfile, nCores=60)\n",
    "    copa.compute_muStar(  run, overwrite=True)\n",
    "    print(5*'---')\n",
    "    print('\\n')"
   ]
  },
  {
   "cell_type": "code",
   "execution_count": null,
   "metadata": {},
   "outputs": [],
   "source": []
  },
  {
   "cell_type": "code",
   "execution_count": null,
   "metadata": {},
   "outputs": [],
   "source": []
  }
 ],
 "metadata": {
  "kernelspec": {
   "display_name": "Python 2",
   "language": "python",
   "name": "python2"
  },
  "language_info": {
   "codemirror_mode": {
    "name": "ipython",
    "version": 2
   },
   "file_extension": ".py",
   "mimetype": "text/x-python",
   "name": "python",
   "nbconvert_exporter": "python",
   "pygments_lexer": "ipython2",
   "version": "2.7.15"
  }
 },
 "nbformat": 4,
 "nbformat_minor": 2
}
