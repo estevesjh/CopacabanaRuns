{
 "cells": [
  {
   "cell_type": "markdown",
   "metadata": {},
   "source": [
    "# Copacabana Runs on Buzzard v2.0\n",
    "\n",
    "This notebook has some of my runs on the Buzzard v2.0 y3 catalog."
   ]
  },
  {
   "cell_type": "markdown",
   "metadata": {},
   "source": [
    "## Import Packages"
   ]
  },
  {
   "cell_type": "code",
   "execution_count": 1,
   "metadata": {},
   "outputs": [
    {
     "name": "stderr",
     "output_type": "stream",
     "text": [
      "/cvmfs/des.opensciencegrid.org/fnal/anaconda2/envs/des18a/lib/python2.7/site-packages/h5py/__init__.py:36: FutureWarning: Conversion of the second argument of issubdtype from `float` to `np.floating` is deprecated. In future, it will be treated as `np.float64 == np.dtype(float).type`.\n",
      "  from ._conv import register_converters as _register_converters\n"
     ]
    }
   ],
   "source": [
    "import sys\n",
    "sys.path.append('/home/s1/jesteves/git/ccopa/python')\n",
    "\n",
    "from main import copacabana\n",
    "from make_input_files.make_photoz_pz import generate_photoz_models\n",
    "from make_input_files.make_input_datasets import read_hdf5_file_to_dict"
   ]
  },
  {
   "cell_type": "code",
   "execution_count": 2,
   "metadata": {},
   "outputs": [],
   "source": [
    "import h5py\n",
    "import numpy as np\n",
    "import matplotlib.pyplot as plt\n",
    "\n",
    "plt.rcParams.update({'font.size': 16})"
   ]
  },
  {
   "cell_type": "markdown",
   "metadata": {},
   "source": [
    "#### Starting Copa"
   ]
  },
  {
   "cell_type": "code",
   "execution_count": 3,
   "metadata": {},
   "outputs": [
    {
     "name": "stdout",
     "output_type": "stream",
     "text": [
      "master file: \n",
      " /data/des61.a/data/johnny/Buzzard/Buzzard_v2.0.0/y3/output/tiles/buzzard_v2.0.0_copa_00017.hdf5\n",
      "/data/des61.a/data/johnny/Buzzard/Buzzard_v2.0.0/y3/output/tiles/buzzard_v2.0.0_copa_00018.hdf5\n",
      "/data/des61.a/data/johnny/Buzzard/Buzzard_v2.0.0/y3/output/tiles/buzzard_v2.0.0_copa_00019.hdf5\n",
      "/data/des61.a/data/johnny/Buzzard/Buzzard_v2.0.0/y3/output/tiles/buzzard_v2.0.0_copa_00020.hdf5\n",
      "/data/des61.a/data/johnny/Buzzard/Buzzard_v2.0.0/y3/output/tiles/buzzard_v2.0.0_copa_00022.hdf5\n",
      "/data/des61.a/data/johnny/Buzzard/Buzzard_v2.0.0/y3/output/tiles/buzzard_v2.0.0_copa_00032.hdf5\n",
      "/data/des61.a/data/johnny/Buzzard/Buzzard_v2.0.0/y3/output/tiles/buzzard_v2.0.0_copa_00033.hdf5\n",
      "/data/des61.a/data/johnny/Buzzard/Buzzard_v2.0.0/y3/output/tiles/buzzard_v2.0.0_copa_00034.hdf5\n",
      "/data/des61.a/data/johnny/Buzzard/Buzzard_v2.0.0/y3/output/tiles/buzzard_v2.0.0_copa_00035.hdf5\n",
      "/data/des61.a/data/johnny/Buzzard/Buzzard_v2.0.0/y3/output/tiles/buzzard_v2.0.0_copa_00038.hdf5\n",
      "/data/des61.a/data/johnny/Buzzard/Buzzard_v2.0.0/y3/output/tiles/buzzard_v2.0.0_copa_00044.hdf5\n",
      "/data/des61.a/data/johnny/Buzzard/Buzzard_v2.0.0/y3/output/tiles/buzzard_v2.0.0_copa_00045.hdf5\n",
      "/data/des61.a/data/johnny/Buzzard/Buzzard_v2.0.0/y3/output/tiles/buzzard_v2.0.0_copa_00046.hdf5\n",
      "/data/des61.a/data/johnny/Buzzard/Buzzard_v2.0.0/y3/output/tiles/buzzard_v2.0.0_copa_00047.hdf5\n",
      "outdir: /data/des61.a/data/johnny/Buzzard/Buzzard_v2.0.0/y3/output/\n",
      "tile path: /data/des61.a/data/johnny/Buzzard/Buzzard_v2.0.0/y3/output/tiles\n"
     ]
    }
   ],
   "source": [
    "# root = '/home/s1/jesteves/git/buzzardAnalysis/mainAnalysis/'\n",
    "# cfg  = root+'config_buzzard_v2.yaml'\n",
    "# copa = copacabana(cfg,dataset='buzzard_v2')"
   ]
  },
  {
   "cell_type": "code",
   "execution_count": null,
   "metadata": {},
   "outputs": [],
   "source": [
    "root = '/data/des61.a/data/johnny/DESY3/projects/buzzardAllHalos/CopacabanaRuns/'\n",
    "cfg  = root+'config_buzzard_v2.yaml'\n",
    "copa = copacabana(cfg,dataset='buzzard_v2')"
   ]
  },
  {
   "cell_type": "code",
   "execution_count": null,
   "metadata": {},
   "outputs": [],
   "source": []
  },
  {
   "cell_type": "markdown",
   "metadata": {},
   "source": [
    "## Prepare Files"
   ]
  },
  {
   "cell_type": "markdown",
   "metadata": {},
   "source": [
    "Given the hdf5 input files, the function *make_input_file()* returns a master file with all the input file, cluster and members"
   ]
  },
  {
   "cell_type": "code",
   "execution_count": 4,
   "metadata": {
    "scrolled": true
   },
   "outputs": [],
   "source": [
    "#copa.make_input_file()"
   ]
  },
  {
   "cell_type": "code",
   "execution_count": 6,
   "metadata": {},
   "outputs": [
    {
     "name": "stdout",
     "output_type": "stream",
     "text": [
      "clusters                 Group\r\n",
      "members                  Group\r\n"
     ]
    }
   ],
   "source": [
    "!h5ls /data/des61.a/data/johnny/Buzzard/Buzzard_v2.0.0/y3/output/tiles/buzzard_v2.0.0_copa_00033.hdf5"
   ]
  },
  {
   "cell_type": "code",
   "execution_count": 7,
   "metadata": {},
   "outputs": [
    {
     "name": "stdout",
     "output_type": "stream",
     "text": [
      "CID                      Dataset {424}\r\n",
      "DA                       Dataset {424}\r\n",
      "DEC                      Dataset {424}\r\n",
      "M200_true                Dataset {424}\r\n",
      "R200_true                Dataset {424}\r\n",
      "RA                       Dataset {424}\r\n",
      "magLim                   Dataset {424, 3}\r\n",
      "redshift                 Dataset {424}\r\n"
     ]
    }
   ],
   "source": [
    "!h5ls /data/des61.a/data/johnny/Buzzard/Buzzard_v2.0.0/y3/output/tiles/buzzard_v2.0.0_copa_00033.hdf5/clusters/main"
   ]
  },
  {
   "cell_type": "markdown",
   "metadata": {},
   "source": [
    "The members catalog has all the input galaxies with the input columns\n",
    "``` GID,CID,redshift,RA,DEC,R,z,zerr,zoffset,zwindow,mag,magerr,dmag,pz0,z_true,TRUE, BKG```"
   ]
  },
  {
   "cell_type": "code",
   "execution_count": 8,
   "metadata": {},
   "outputs": [
    {
     "name": "stdout",
     "output_type": "stream",
     "text": [
      "Bkg                      Dataset {10230616}\r\n",
      "CID                      Dataset {10230616}\r\n",
      "DEC                      Dataset {10230616}\r\n",
      "GID                      Dataset {10230616}\r\n",
      "HALOID                   Dataset {10230616}\r\n",
      "Mr                       Dataset {10230616}\r\n",
      "R                        Dataset {10230616}\r\n",
      "RA                       Dataset {10230616}\r\n",
      "True                     Dataset {10230616}\r\n",
      "dmag                     Dataset {10230616}\r\n",
      "mag                      Dataset {10230616, 4}\r\n",
      "magerr                   Dataset {10230616, 4}\r\n",
      "mid                      Dataset {10230616}\r\n",
      "pz0                      Dataset {10230616}\r\n",
      "redshift                 Dataset {10230616}\r\n",
      "z                        Dataset {10230616}\r\n",
      "z_true                   Dataset {10230616}\r\n",
      "zerr                     Dataset {10230616}\r\n",
      "zoffset                  Dataset {10230616}\r\n"
     ]
    }
   ],
   "source": [
    "!h5ls /data/des61.a/data/johnny/Buzzard/Buzzard_v2.0.0/y3/output/tiles/buzzard_v2.0.0_copa_00033.hdf5/members/main"
   ]
  },
  {
   "cell_type": "code",
   "execution_count": null,
   "metadata": {},
   "outputs": [],
   "source": []
  },
  {
   "cell_type": "markdown",
   "metadata": {},
   "source": [
    "## Create Indices Selection\n",
    "\n",
    "We want to test different magnitude selections."
   ]
  },
  {
   "attachments": {
    "image.png": {
     "image/png": "[encoded data removed]"
    }
   },
   "cell_type": "markdown",
   "metadata": {},
   "source": [
    "### 0.2 $L_{\\star}$ Buzzard \n",
    "\n",
    "The charcteristic magnitude used in Buzzard is not directly provided. They have in DeRose+19 the luminosity functional form. \n",
    "![image.png](attachment:image.png)\n",
    "\n",
    "William Black fitted using 5 parameters, his fitted values for m*(z) is in the cell bellow. It's important to mention that 0.2 / 0.4 $L_{\\star}$ corresponds to m*(z)+1.75/1.00."
   ]
  },
  {
   "cell_type": "code",
   "execution_count": 9,
   "metadata": {},
   "outputs": [],
   "source": [
    "Z1 = [ 2.85703803, 23.35451485]\n",
    "Z2 = [ -0.13290108,   1.11453393,  -3.74351207,   6.96351527, -10.04310863,  12.60755443,  -7.85820367,   0.92175766]\n",
    "def char_luminosity(z):\n",
    "    return np.poly1d(Z1)(np.log(z)) + np.poly1d(Z2)(z)"
   ]
  },
  {
   "cell_type": "code",
   "execution_count": null,
   "metadata": {},
   "outputs": [],
   "source": []
  },
  {
   "cell_type": "markdown",
   "metadata": {},
   "source": [
    "### Applying Mag Selection for the whole sample"
   ]
  },
  {
   "cell_type": "code",
   "execution_count": null,
   "metadata": {},
   "outputs": [],
   "source": []
  },
  {
   "cell_type": "code",
   "execution_count": 32,
   "metadata": {},
   "outputs": [],
   "source": [
    "def apply_02Lstar_cut(fname):\n",
    "    print('loading data: %s'%fname)\n",
    "    out = read_hdf5_file_to_dict(fname,cols=['redshift','mag'],path='members/main/')\n",
    "    mag = out['mag'][:,2]  ## i-band\n",
    "    zcls= out['redshift'][:]\n",
    "    \n",
    "    #print('applying mask')\n",
    "    cut = mag <= char_luminosity(zcls)+1.75\n",
    "    indices = np.where(cut)[0]\n",
    "    \n",
    "    print('writing indices selection: %s \\n'%('members/indices/02Lstar'))\n",
    "    write_indices_out(indices,fname,overwrite=False,col='02Lstar')"
   ]
  },
  {
   "cell_type": "code",
   "execution_count": 33,
   "metadata": {},
   "outputs": [],
   "source": [
    "def apply_dmag_cut(fname):\n",
    "    print('loading data: %s'%fname)\n",
    "    out = read_hdf5_file_to_dict(fname,cols=['redshift','mag', 'dmag'],path='members/main/')\n",
    "    mag = out['dmag'][:]\n",
    "\n",
    "    #print('applying mask')\n",
    "    cut = mag <= 0.\n",
    "    indices = np.where(cut)[0]\n",
    "    \n",
    "    print('writing indices selection: %s \\n'%('members/indices/dmag_0'))\n",
    "    write_indices_out(indices,fname,overwrite=False,col='dmag_0')"
   ]
  },
  {
   "cell_type": "code",
   "execution_count": 34,
   "metadata": {},
   "outputs": [],
   "source": [
    "def write_indices_out(indices,fname,col='02Lstar',overwrite=False):\n",
    "    fmaster = h5py.File(fname, 'a')\n",
    "    if 'indices' not in fmaster['members/'].keys():\n",
    "        fmaster.create_group('members/indices')\n",
    "\n",
    "    group = fmaster['members/indices']\n",
    "    \n",
    "    try:\n",
    "        group.create_dataset(col,data=indices)\n",
    "    except:\n",
    "        if overwrite:\n",
    "            del group[col]\n",
    "            group.create_dataset(col,data=indices)\n",
    "        else:\n",
    "            print('Error: indices already exists')\n",
    "    \n",
    "    fmaster.close()"
   ]
  },
  {
   "cell_type": "code",
   "execution_count": 35,
   "metadata": {
    "scrolled": true
   },
   "outputs": [
    {
     "name": "stdout",
     "output_type": "stream",
     "text": [
      "loading data: /data/des61.a/data/johnny/Buzzard/Buzzard_v2.0.0/y3/output/tiles/buzzard_v2.0.0_copa_00000.hdf5\n",
      "writing indices selection: members/indices/02Lstar \n",
      "\n",
      "Error: indices already exists\n",
      "loading data: /data/des61.a/data/johnny/Buzzard/Buzzard_v2.0.0/y3/output/tiles/buzzard_v2.0.0_copa_00000.hdf5\n",
      "writing indices selection: members/indices/dmag_0 \n",
      "\n",
      "loading data: /data/des61.a/data/johnny/Buzzard/Buzzard_v2.0.0/y3/output/tiles/buzzard_v2.0.0_copa_00016.hdf5\n",
      "writing indices selection: members/indices/02Lstar \n",
      "\n",
      "loading data: /data/des61.a/data/johnny/Buzzard/Buzzard_v2.0.0/y3/output/tiles/buzzard_v2.0.0_copa_00016.hdf5\n",
      "writing indices selection: members/indices/dmag_0 \n",
      "\n",
      "loading data: /data/des61.a/data/johnny/Buzzard/Buzzard_v2.0.0/y3/output/tiles/buzzard_v2.0.0_copa_00017.hdf5\n",
      "writing indices selection: members/indices/02Lstar \n",
      "\n",
      "loading data: /data/des61.a/data/johnny/Buzzard/Buzzard_v2.0.0/y3/output/tiles/buzzard_v2.0.0_copa_00017.hdf5\n",
      "writing indices selection: members/indices/dmag_0 \n",
      "\n",
      "loading data: /data/des61.a/data/johnny/Buzzard/Buzzard_v2.0.0/y3/output/tiles/buzzard_v2.0.0_copa_00018.hdf5\n",
      "writing indices selection: members/indices/02Lstar \n",
      "\n",
      "loading data: /data/des61.a/data/johnny/Buzzard/Buzzard_v2.0.0/y3/output/tiles/buzzard_v2.0.0_copa_00018.hdf5\n",
      "writing indices selection: members/indices/dmag_0 \n",
      "\n",
      "loading data: /data/des61.a/data/johnny/Buzzard/Buzzard_v2.0.0/y3/output/tiles/buzzard_v2.0.0_copa_00019.hdf5\n",
      "writing indices selection: members/indices/02Lstar \n",
      "\n",
      "loading data: /data/des61.a/data/johnny/Buzzard/Buzzard_v2.0.0/y3/output/tiles/buzzard_v2.0.0_copa_00019.hdf5\n",
      "writing indices selection: members/indices/dmag_0 \n",
      "\n",
      "loading data: /data/des61.a/data/johnny/Buzzard/Buzzard_v2.0.0/y3/output/tiles/buzzard_v2.0.0_copa_00020.hdf5\n",
      "writing indices selection: members/indices/02Lstar \n",
      "\n",
      "loading data: /data/des61.a/data/johnny/Buzzard/Buzzard_v2.0.0/y3/output/tiles/buzzard_v2.0.0_copa_00020.hdf5\n",
      "writing indices selection: members/indices/dmag_0 \n",
      "\n",
      "loading data: /data/des61.a/data/johnny/Buzzard/Buzzard_v2.0.0/y3/output/tiles/buzzard_v2.0.0_copa_00022.hdf5\n",
      "writing indices selection: members/indices/02Lstar \n",
      "\n",
      "loading data: /data/des61.a/data/johnny/Buzzard/Buzzard_v2.0.0/y3/output/tiles/buzzard_v2.0.0_copa_00022.hdf5\n",
      "writing indices selection: members/indices/dmag_0 \n",
      "\n",
      "loading data: /data/des61.a/data/johnny/Buzzard/Buzzard_v2.0.0/y3/output/tiles/buzzard_v2.0.0_copa_00032.hdf5\n",
      "writing indices selection: members/indices/02Lstar \n",
      "\n",
      "loading data: /data/des61.a/data/johnny/Buzzard/Buzzard_v2.0.0/y3/output/tiles/buzzard_v2.0.0_copa_00032.hdf5\n",
      "writing indices selection: members/indices/dmag_0 \n",
      "\n",
      "loading data: /data/des61.a/data/johnny/Buzzard/Buzzard_v2.0.0/y3/output/tiles/buzzard_v2.0.0_copa_00033.hdf5\n",
      "writing indices selection: members/indices/02Lstar \n",
      "\n",
      "loading data: /data/des61.a/data/johnny/Buzzard/Buzzard_v2.0.0/y3/output/tiles/buzzard_v2.0.0_copa_00033.hdf5\n",
      "writing indices selection: members/indices/dmag_0 \n",
      "\n",
      "loading data: /data/des61.a/data/johnny/Buzzard/Buzzard_v2.0.0/y3/output/tiles/buzzard_v2.0.0_copa_00034.hdf5\n",
      "writing indices selection: members/indices/02Lstar \n",
      "\n",
      "loading data: /data/des61.a/data/johnny/Buzzard/Buzzard_v2.0.0/y3/output/tiles/buzzard_v2.0.0_copa_00034.hdf5\n",
      "writing indices selection: members/indices/dmag_0 \n",
      "\n",
      "loading data: /data/des61.a/data/johnny/Buzzard/Buzzard_v2.0.0/y3/output/tiles/buzzard_v2.0.0_copa_00035.hdf5\n",
      "writing indices selection: members/indices/02Lstar \n",
      "\n",
      "loading data: /data/des61.a/data/johnny/Buzzard/Buzzard_v2.0.0/y3/output/tiles/buzzard_v2.0.0_copa_00035.hdf5\n",
      "writing indices selection: members/indices/dmag_0 \n",
      "\n",
      "loading data: /data/des61.a/data/johnny/Buzzard/Buzzard_v2.0.0/y3/output/tiles/buzzard_v2.0.0_copa_00038.hdf5\n",
      "writing indices selection: members/indices/02Lstar \n",
      "\n",
      "loading data: /data/des61.a/data/johnny/Buzzard/Buzzard_v2.0.0/y3/output/tiles/buzzard_v2.0.0_copa_00038.hdf5\n",
      "writing indices selection: members/indices/dmag_0 \n",
      "\n",
      "loading data: /data/des61.a/data/johnny/Buzzard/Buzzard_v2.0.0/y3/output/tiles/buzzard_v2.0.0_copa_00044.hdf5\n",
      "writing indices selection: members/indices/02Lstar \n",
      "\n",
      "loading data: /data/des61.a/data/johnny/Buzzard/Buzzard_v2.0.0/y3/output/tiles/buzzard_v2.0.0_copa_00044.hdf5\n",
      "writing indices selection: members/indices/dmag_0 \n",
      "\n",
      "loading data: /data/des61.a/data/johnny/Buzzard/Buzzard_v2.0.0/y3/output/tiles/buzzard_v2.0.0_copa_00045.hdf5\n",
      "writing indices selection: members/indices/02Lstar \n",
      "\n",
      "loading data: /data/des61.a/data/johnny/Buzzard/Buzzard_v2.0.0/y3/output/tiles/buzzard_v2.0.0_copa_00045.hdf5\n",
      "writing indices selection: members/indices/dmag_0 \n",
      "\n",
      "loading data: /data/des61.a/data/johnny/Buzzard/Buzzard_v2.0.0/y3/output/tiles/buzzard_v2.0.0_copa_00046.hdf5\n",
      "writing indices selection: members/indices/02Lstar \n",
      "\n",
      "loading data: /data/des61.a/data/johnny/Buzzard/Buzzard_v2.0.0/y3/output/tiles/buzzard_v2.0.0_copa_00046.hdf5\n",
      "writing indices selection: members/indices/dmag_0 \n",
      "\n",
      "loading data: /data/des61.a/data/johnny/Buzzard/Buzzard_v2.0.0/y3/output/tiles/buzzard_v2.0.0_copa_00047.hdf5\n",
      "writing indices selection: members/indices/02Lstar \n",
      "\n",
      "loading data: /data/des61.a/data/johnny/Buzzard/Buzzard_v2.0.0/y3/output/tiles/buzzard_v2.0.0_copa_00047.hdf5\n",
      "writing indices selection: members/indices/dmag_0 \n",
      "\n"
     ]
    }
   ],
   "source": [
    "for fname in copa.master_fname_tile_list:\n",
    "    apply_02Lstar_cut(fname)\n",
    "    apply_dmag_cut(fname)"
   ]
  },
  {
   "cell_type": "code",
   "execution_count": null,
   "metadata": {},
   "outputs": [],
   "source": []
  },
  {
   "cell_type": "code",
   "execution_count": null,
   "metadata": {},
   "outputs": [],
   "source": [
    "## Example"
   ]
  },
  {
   "cell_type": "code",
   "execution_count": 14,
   "metadata": {},
   "outputs": [],
   "source": [
    "fname = copa.master_fname_tile_list[8]"
   ]
  },
  {
   "cell_type": "code",
   "execution_count": 22,
   "metadata": {},
   "outputs": [],
   "source": [
    "out = read_hdf5_file_to_dict(fname,cols=['redshift','mag','dmag'],path='members/main/')\n",
    "mag = out['mag'][:,2]  ## i-band\n",
    "dmag = out['dmag'][:]\n",
    "zcls= out['redshift']"
   ]
  },
  {
   "cell_type": "code",
   "execution_count": 28,
   "metadata": {},
   "outputs": [
    {
     "data": {
      "text/plain": [
       "<matplotlib.legend.Legend at 0x7fd84531e890>"
      ]
     },
     "execution_count": 28,
     "metadata": {},
     "output_type": "execute_result"
    },
    {
     "data": {
      "image/png": "[encoded data removed]",
      "text/plain": [
       "<Figure size 432x288 with 1 Axes>"
      ]
     },
     "metadata": {},
     "output_type": "display_data"
    }
   ],
   "source": [
    "zvec = np.linspace(0.09,0.7,40)\n",
    "plt.plot(zvec,char_luminosity(zvec)+1.75,'k--',lw=3,label=r'0.2 $L_{\\star}$')\n",
    "\n",
    "plt.scatter(zcls[::50],mag[::50],s=1,label='data')\n",
    "#plt.scatter(zcls[indices][::50],mag[indices][::50],s=1,label='data')\n",
    "plt.xlabel('redshift')\n",
    "plt.ylabel('mag_i')\n",
    "plt.legend()"
   ]
  },
  {
   "cell_type": "code",
   "execution_count": 24,
   "metadata": {},
   "outputs": [],
   "source": [
    "cut = mag <= char_luminosity(zcls)+1.75\n",
    "indices = np.where(cut)[0]"
   ]
  },
  {
   "cell_type": "code",
   "execution_count": 39,
   "metadata": {},
   "outputs": [],
   "source": [
    "# out = read_hdf5_file_to_dict(fname,cols=['z_true','z','zerr','mag'],path='members/main/')"
   ]
  },
  {
   "cell_type": "code",
   "execution_count": 42,
   "metadata": {},
   "outputs": [],
   "source": [
    "# mask = out['mag'][:,2]>23\n",
    "# zdnf = out['z'][:]"
   ]
  },
  {
   "cell_type": "code",
   "execution_count": null,
   "metadata": {},
   "outputs": [],
   "source": []
  },
  {
   "cell_type": "code",
   "execution_count": null,
   "metadata": {},
   "outputs": [],
   "source": [
    "out = read_hdf5_file_to_dict(fname,cols=None,path='members/indices/')"
   ]
  },
  {
   "cell_type": "markdown",
   "metadata": {},
   "source": [
    "## Create Photo-z Catalogs"
   ]
  },
  {
   "cell_type": "code",
   "execution_count": null,
   "metadata": {},
   "outputs": [],
   "source": []
  },
  {
   "cell_type": "markdown",
   "metadata": {},
   "source": [
    "### Gaussian Photo-z"
   ]
  },
  {
   "cell_type": "code",
   "execution_count": 5,
   "metadata": {},
   "outputs": [
    {
     "name": "stdout",
     "output_type": "stream",
     "text": [
      "Generating photoz catalog: gauss001\n",
      "\n",
      "Load Infile\n",
      "infile: /data/des61.a/data/johnny/Buzzard/Buzzard_v2.0.0/y3/output/tiles/buzzard_v2.0.0_copa_00032.hdf5\n",
      "Computing pz0\n",
      "Writing outfile\n",
      "partial time: 0.24 min\n",
      "\n",
      "Total time: 0.24 min\n",
      "Generating photoz catalog: gauss003\n",
      "\n",
      "Load Infile\n",
      "infile: /data/des61.a/data/johnny/Buzzard/Buzzard_v2.0.0/y3/output/tiles/buzzard_v2.0.0_copa_00032.hdf5\n",
      "Computing pz0\n",
      "Writing outfile\n",
      "partial time: 0.23 min\n",
      "\n",
      "Total time: 0.23 min\n",
      "Generating photoz catalog: gauss005\n",
      "\n",
      "Load Infile\n",
      "infile: /data/des61.a/data/johnny/Buzzard/Buzzard_v2.0.0/y3/output/tiles/buzzard_v2.0.0_copa_00032.hdf5\n",
      "Computing pz0\n",
      "Writing outfile\n",
      "partial time: 0.24 min\n",
      "\n",
      "Total time: 0.24 min\n"
     ]
    }
   ],
   "source": [
    "generate_photoz_models('gaussian',copa.master_fname_tile_list,0.01,nCores=60)\n",
    "generate_photoz_models('gaussian',copa.master_fname_tile_list,0.03,nCores=60)\n",
    "generate_photoz_models('gaussian',copa.master_fname_tile_list,0.05,nCores=60)"
   ]
  },
  {
   "cell_type": "code",
   "execution_count": null,
   "metadata": {},
   "outputs": [],
   "source": []
  },
  {
   "cell_type": "code",
   "execution_count": 4,
   "metadata": {
    "scrolled": true
   },
   "outputs": [
    {
     "name": "stdout",
     "output_type": "stream",
     "text": [
      "Generating photoz catalog: dnf_model\n",
      "\n",
      "Load Infile\n",
      "infile: /data/des61.a/data/johnny/Buzzard/Buzzard_v2.0.0/y3/output/tiles/buzzard_v2.0.0_copa_00017.hdf5\n",
      "Computing pz0\n",
      "Writing outfile\n",
      "partial time: 0.73 min\n",
      "\n",
      "\n",
      "Load Infile\n",
      "infile: /data/des61.a/data/johnny/Buzzard/Buzzard_v2.0.0/y3/output/tiles/buzzard_v2.0.0_copa_00018.hdf5\n",
      "Computing pz0\n",
      "Writing outfile\n",
      "partial time: 0.94 min\n",
      "\n",
      "\n",
      "Load Infile\n",
      "infile: /data/des61.a/data/johnny/Buzzard/Buzzard_v2.0.0/y3/output/tiles/buzzard_v2.0.0_copa_00019.hdf5\n",
      "Computing pz0\n",
      "Writing outfile\n",
      "partial time: 1.01 min\n",
      "\n",
      "\n",
      "Load Infile\n",
      "infile: /data/des61.a/data/johnny/Buzzard/Buzzard_v2.0.0/y3/output/tiles/buzzard_v2.0.0_copa_00020.hdf5\n",
      "Computing pz0\n",
      "Writing outfile\n",
      "partial time: 1.32 min\n",
      "\n",
      "\n",
      "Load Infile\n",
      "infile: /data/des61.a/data/johnny/Buzzard/Buzzard_v2.0.0/y3/output/tiles/buzzard_v2.0.0_copa_00022.hdf5\n",
      "Computing pz0\n",
      "Writing outfile\n",
      "partial time: 1.34 min\n",
      "\n",
      "\n",
      "Load Infile\n",
      "infile: /data/des61.a/data/johnny/Buzzard/Buzzard_v2.0.0/y3/output/tiles/buzzard_v2.0.0_copa_00032.hdf5\n",
      "Computing pz0\n",
      "Writing outfile\n",
      "partial time: 1.72 min\n",
      "\n",
      "\n",
      "Load Infile\n",
      "infile: /data/des61.a/data/johnny/Buzzard/Buzzard_v2.0.0/y3/output/tiles/buzzard_v2.0.0_copa_00033.hdf5\n",
      "Computing pz0\n",
      "Writing outfile\n",
      "partial time: 2.64 min\n",
      "\n",
      "\n",
      "Load Infile\n",
      "infile: /data/des61.a/data/johnny/Buzzard/Buzzard_v2.0.0/y3/output/tiles/buzzard_v2.0.0_copa_00034.hdf5\n",
      "Computing pz0\n",
      "Writing outfile\n",
      "partial time: 3.71 min\n",
      "\n",
      "\n",
      "Load Infile\n",
      "infile: /data/des61.a/data/johnny/Buzzard/Buzzard_v2.0.0/y3/output/tiles/buzzard_v2.0.0_copa_00035.hdf5\n",
      "Computing pz0\n",
      "Writing outfile\n",
      "partial time: 4.71 min\n",
      "\n",
      "\n",
      "Load Infile\n",
      "infile: /data/des61.a/data/johnny/Buzzard/Buzzard_v2.0.0/y3/output/tiles/buzzard_v2.0.0_copa_00038.hdf5\n",
      "Computing pz0\n",
      "Writing outfile\n",
      "partial time: 4.83 min\n",
      "\n",
      "\n",
      "Load Infile\n",
      "infile: /data/des61.a/data/johnny/Buzzard/Buzzard_v2.0.0/y3/output/tiles/buzzard_v2.0.0_copa_00044.hdf5\n",
      "Computing pz0\n",
      "Writing outfile\n",
      "partial time: 5.21 min\n",
      "\n",
      "\n",
      "Load Infile\n",
      "infile: /data/des61.a/data/johnny/Buzzard/Buzzard_v2.0.0/y3/output/tiles/buzzard_v2.0.0_copa_00045.hdf5\n",
      "Computing pz0\n",
      "Writing outfile\n",
      "partial time: 5.78 min\n",
      "\n",
      "\n",
      "Load Infile\n",
      "infile: /data/des61.a/data/johnny/Buzzard/Buzzard_v2.0.0/y3/output/tiles/buzzard_v2.0.0_copa_00046.hdf5\n",
      "Computing pz0\n",
      "Writing outfile\n",
      "partial time: 5.87 min\n",
      "\n",
      "\n",
      "Load Infile\n",
      "infile: /data/des61.a/data/johnny/Buzzard/Buzzard_v2.0.0/y3/output/tiles/buzzard_v2.0.0_copa_00047.hdf5\n",
      "Computing pz0\n",
      "Writing outfile\n",
      "partial time: 5.90 min\n",
      "\n",
      "Total time: 5.90 min\n"
     ]
    }
   ],
   "source": [
    "outfile1=root+'aux_files/modelDNF_correction_mag_buzzard.txt'\n",
    "outfile2=root+'aux_files/modelDNF_correction_z_buzzard.txt'\n",
    "\n",
    "generate_photoz_models('bias',copa.master_fname_tile_list,0.03,\n",
    "                       zwindow_file=outfile2,zerror_file=outfile1,\n",
    "                       group_name='dnf_model',nCores=60)"
   ]
  },
  {
   "cell_type": "code",
   "execution_count": 4,
   "metadata": {
    "scrolled": true
   },
   "outputs": [
    {
     "name": "stdout",
     "output_type": "stream",
     "text": [
      "Generating photoz catalog: dnf\n",
      "\n",
      "Load Infile\n",
      "infile: /data/des61.a/data/johnny/Buzzard/Buzzard_v2.0.0/y3/output/tiles/buzzard_v2.0.0_copa_00017.hdf5\n",
      "Error: model file is None\n",
      "Computing pz0\n",
      "Writing outfile\n",
      "partial time: 0.62 min\n",
      "\n",
      "\n",
      "Load Infile\n",
      "infile: /data/des61.a/data/johnny/Buzzard/Buzzard_v2.0.0/y3/output/tiles/buzzard_v2.0.0_copa_00018.hdf5\n",
      "Error: model file is None\n",
      "Computing pz0\n",
      "Writing outfile\n",
      "partial time: 0.83 min\n",
      "\n",
      "\n",
      "Load Infile\n",
      "infile: /data/des61.a/data/johnny/Buzzard/Buzzard_v2.0.0/y3/output/tiles/buzzard_v2.0.0_copa_00019.hdf5\n",
      "Error: model file is None\n",
      "Computing pz0\n",
      "Writing outfile\n",
      "partial time: 0.89 min\n",
      "\n",
      "\n",
      "Load Infile\n",
      "infile: /data/des61.a/data/johnny/Buzzard/Buzzard_v2.0.0/y3/output/tiles/buzzard_v2.0.0_copa_00020.hdf5\n",
      "Error: model file is None\n",
      "Computing pz0\n",
      "Writing outfile\n",
      "partial time: 1.21 min\n",
      "\n",
      "\n",
      "Load Infile\n",
      "infile: /data/des61.a/data/johnny/Buzzard/Buzzard_v2.0.0/y3/output/tiles/buzzard_v2.0.0_copa_00022.hdf5\n",
      "Error: model file is None\n",
      "Computing pz0\n",
      "Writing outfile\n",
      "partial time: 1.23 min\n",
      "\n",
      "\n",
      "Load Infile\n",
      "infile: /data/des61.a/data/johnny/Buzzard/Buzzard_v2.0.0/y3/output/tiles/buzzard_v2.0.0_copa_00032.hdf5\n",
      "Error: model file is None\n",
      "Computing pz0\n",
      "Writing outfile\n",
      "partial time: 1.61 min\n",
      "\n",
      "\n",
      "Load Infile\n",
      "infile: /data/des61.a/data/johnny/Buzzard/Buzzard_v2.0.0/y3/output/tiles/buzzard_v2.0.0_copa_00033.hdf5\n",
      "Error: model file is None\n",
      "Computing pz0\n",
      "Writing outfile\n",
      "partial time: 2.51 min\n",
      "\n",
      "\n",
      "Load Infile\n",
      "infile: /data/des61.a/data/johnny/Buzzard/Buzzard_v2.0.0/y3/output/tiles/buzzard_v2.0.0_copa_00034.hdf5\n",
      "Error: model file is None\n",
      "Computing pz0\n",
      "Writing outfile\n",
      "partial time: 3.60 min\n",
      "\n",
      "\n",
      "Load Infile\n",
      "infile: /data/des61.a/data/johnny/Buzzard/Buzzard_v2.0.0/y3/output/tiles/buzzard_v2.0.0_copa_00035.hdf5\n",
      "Error: model file is None\n",
      "Computing pz0\n",
      "Writing outfile\n",
      "partial time: 4.59 min\n",
      "\n",
      "\n",
      "Load Infile\n",
      "infile: /data/des61.a/data/johnny/Buzzard/Buzzard_v2.0.0/y3/output/tiles/buzzard_v2.0.0_copa_00038.hdf5\n",
      "Error: model file is None\n",
      "Computing pz0\n",
      "Writing outfile\n",
      "partial time: 4.70 min\n",
      "\n",
      "\n",
      "Load Infile\n",
      "infile: /data/des61.a/data/johnny/Buzzard/Buzzard_v2.0.0/y3/output/tiles/buzzard_v2.0.0_copa_00044.hdf5\n",
      "Error: model file is None\n",
      "Computing pz0\n",
      "Writing outfile\n",
      "partial time: 5.09 min\n",
      "\n",
      "\n",
      "Load Infile\n",
      "infile: /data/des61.a/data/johnny/Buzzard/Buzzard_v2.0.0/y3/output/tiles/buzzard_v2.0.0_copa_00045.hdf5\n",
      "Error: model file is None\n",
      "Computing pz0\n",
      "Writing outfile\n",
      "partial time: 5.66 min\n",
      "\n",
      "\n",
      "Load Infile\n",
      "infile: /data/des61.a/data/johnny/Buzzard/Buzzard_v2.0.0/y3/output/tiles/buzzard_v2.0.0_copa_00046.hdf5\n",
      "Error: model file is None\n",
      "Computing pz0\n",
      "Writing outfile\n",
      "partial time: 5.75 min\n",
      "\n",
      "\n",
      "Load Infile\n",
      "infile: /data/des61.a/data/johnny/Buzzard/Buzzard_v2.0.0/y3/output/tiles/buzzard_v2.0.0_copa_00047.hdf5\n",
      "Error: model file is None\n",
      "Computing pz0\n",
      "Writing outfile\n",
      "partial time: 5.79 min\n",
      "\n",
      "Total time: 5.79 min\n"
     ]
    }
   ],
   "source": [
    "outfile1=None#root+'aux_files/modelDNF_correction_mag_buzzard.txt'\n",
    "outfile2=root+'aux_files/modelDNF_correction_z_buzzard.txt'\n",
    "\n",
    "generate_photoz_models('bias',copa.master_fname_tile_list,0.03,\n",
    "                       zwindow_file=outfile2,zerror_file=outfile1,\n",
    "                       group_name='dnf',nCores=60)"
   ]
  },
  {
   "cell_type": "code",
   "execution_count": null,
   "metadata": {},
   "outputs": [],
   "source": []
  },
  {
   "cell_type": "code",
   "execution_count": null,
   "metadata": {},
   "outputs": [],
   "source": []
  },
  {
   "cell_type": "code",
   "execution_count": null,
   "metadata": {},
   "outputs": [],
   "source": [
    "!h5ls /data/des61.a/data/johnny/Buzzard/Buzzard_v2.0.0/y3/output/tiles/buzzard_v2.0.0_copa_golden_00032.hdf5/members/"
   ]
  },
  {
   "cell_type": "markdown",
   "metadata": {},
   "source": [
    "Beyond the main catalog, we have the different photo-z catalogs used during the code validation."
   ]
  },
  {
   "cell_type": "code",
   "execution_count": null,
   "metadata": {},
   "outputs": [],
   "source": []
  },
  {
   "cell_type": "code",
   "execution_count": null,
   "metadata": {},
   "outputs": [],
   "source": []
  },
  {
   "cell_type": "markdown",
   "metadata": {},
   "source": [
    "## Run BMA"
   ]
  },
  {
   "cell_type": "code",
   "execution_count": null,
   "metadata": {},
   "outputs": [],
   "source": [
    "##### Atention: this cell takes more than 6 hours to run. It only needs to be run one time.\n",
    "\n",
    "# copa.run_bma_healpix(nCores=60,overwrite=False)"
   ]
  },
  {
   "cell_type": "code",
   "execution_count": null,
   "metadata": {},
   "outputs": [],
   "source": [
    "!h5ls /data/des61.a/data/johnny/Buzzard/Buzzard_v2.0.0/y3/output/tiles/buzzard_v2.0.0_copa_golden_00032.hdf5/members/bma"
   ]
  },
  {
   "cell_type": "markdown",
   "metadata": {},
   "source": [
    "The output are the quantities provided by the BMA Stellar Mass Estimator, https://github.com/apalmese/BMAStellarMasses. The column ``index`` is the indice from the main catalog."
   ]
  },
  {
   "cell_type": "code",
   "execution_count": null,
   "metadata": {},
   "outputs": [],
   "source": []
  },
  {
   "cell_type": "code",
   "execution_count": null,
   "metadata": {},
   "outputs": [],
   "source": []
  },
  {
   "cell_type": "code",
   "execution_count": null,
   "metadata": {},
   "outputs": [],
   "source": []
  }
 ],
 "metadata": {
  "kernelspec": {
   "display_name": "Python 2",
   "language": "python",
   "name": "python2"
  },
  "language_info": {
   "codemirror_mode": {
    "name": "ipython",
    "version": 2
   },
   "file_extension": ".py",
   "mimetype": "text/x-python",
   "name": "python",
   "nbconvert_exporter": "python",
   "pygments_lexer": "ipython2",
   "version": "2.7.15"
  }
 },
 "nbformat": 4,
 "nbformat_minor": 2
}
